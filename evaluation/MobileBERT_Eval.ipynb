{
 "cells": [
  {
   "cell_type": "markdown",
   "id": "ab414e1a",
   "metadata": {},
   "source": [
    "# MobileBERT Evaluation on ISOT Dataset\n",
    "\n",
    "## Introduction\n",
    "\n",
    "This notebook documents the evaluation of a fine-tuned MobileBERT model on the ISOT fake news detection dataset. The primary goal is to assess the model's performance and analyze its resource consumption, with a specific focus on CPU-based edge deployment scenarios such as mobile devices and laptops. MobileBERT was specifically designed for mobile applications, potentially offering the best balance between accuracy and resource efficiency compared to other models in our comparative study (DistilBERT, TinyBERT, and RoBERTa).\n",
    "\n",
    "## 1. Setting Up the Environment\n",
    "\n",
    "First, I import all necessary libraries and set up utility functions to monitor resource usage:"
   ]
  },
  {
   "cell_type": "code",
   "execution_count": 1,
   "id": "e5423ac0",
   "metadata": {},
   "outputs": [],
   "source": [
    "# Import necessary libraries\n",
    "import os\n",
    "import time\n",
    "import numpy as np\n",
    "import pandas as pd\n",
    "import torch\n",
    "import psutil\n",
    "import gc\n",
    "import re"
   ]
  },
  {
   "cell_type": "code",
   "execution_count": 2,
   "id": "a5a82cb0",
   "metadata": {},
   "outputs": [],
   "source": [
    "# Import transformer-specific libraries\n",
    "from transformers import MobileBertTokenizer, MobileBertForSequenceClassification\n",
    "from datasets import Dataset as HFDataset"
   ]
  },
  {
   "cell_type": "code",
   "execution_count": 3,
   "id": "ea301ac2",
   "metadata": {},
   "outputs": [],
   "source": [
    "# Import evaluation libraries\n",
    "from sklearn.metrics import accuracy_score, precision_recall_fscore_support, classification_report\n",
    "import matplotlib.pyplot as plt\n",
    "import seaborn as sns"
   ]
  },
  {
   "cell_type": "markdown",
   "id": "148cb638",
   "metadata": {},
   "source": [
    "I've selected these libraries for the following reasons:\n",
    "- Core data science libraries (`numpy`, `pandas`) for data manipulation\n",
    "- PyTorch (`torch`) for model inference\n",
    "- Hugging Face's `transformers` for loading and using the MobileBERT model\n",
    "- `psutil` for monitoring system resource usage during evaluation\n",
    "- `sklearn.metrics` for comprehensive model evaluation metrics\n",
    "- Visualization libraries (`matplotlib`, `seaborn`) for result analysis\n",
    "- `gc` for explicit garbage collection to manage memory efficiently"
   ]
  },
  {
   "cell_type": "code",
   "execution_count": 4,
   "id": "1f9e3304",
   "metadata": {},
   "outputs": [
    {
     "name": "stdout",
     "output_type": "stream",
     "text": [
      "Using device: cpu\n"
     ]
    }
   ],
   "source": [
    "# Set device - using CPU for edge device testing\n",
    "device = torch.device(\"cpu\")\n",
    "print(f\"Using device: {device}\")"
   ]
  },
  {
   "cell_type": "markdown",
   "id": "b13cd54d",
   "metadata": {},
   "source": [
    "I deliberately choose to use the CPU rather than GPU for this evaluation because:\n",
    "1. The primary target for MobileBERT deployment is mobile and edge devices that typically lack dedicated GPUs\n",
    "2. CPU performance metrics provide a more realistic assessment of real-world deployment scenarios\n",
    "3. This allows for direct comparison with other lightweight models in similar deployment conditions"
   ]
  },
  {
   "cell_type": "code",
   "execution_count": 5,
   "id": "abb834da",
   "metadata": {},
   "outputs": [],
   "source": [
    "# Function to get current memory usage\n",
    "def get_memory_usage():\n",
    "    process = psutil.Process(os.getpid())\n",
    "    return process.memory_info().rss / 1024 / 1024  # Convert to MB"
   ]
  },
  {
   "cell_type": "markdown",
   "id": "ccf0502e",
   "metadata": {},
   "source": [
    "This utility function tracks the resident set size (RSS) of the Python process, providing a reliable measure of actual memory consumption during model loading and inference. This is particularly important for MobileBERT, which was specifically designed to minimize memory footprint.\n",
    "\n",
    "## 2. Loading and Preparing ISOT Evaluation Dataset\n",
    "\n",
    "Next, I load the ISOT evaluation dataset, which provides a reliable assessment since it comes from the same domain as the training data:"
   ]
  },
  {
   "cell_type": "code",
   "execution_count": 6,
   "id": "c50e7293",
   "metadata": {},
   "outputs": [
    {
     "name": "stdout",
     "output_type": "stream",
     "text": [
      "Memory usage before loading dataset: 819.56 MB\n"
     ]
    }
   ],
   "source": [
    "# Check memory usage before loading dataset\n",
    "print(f\"Memory usage before loading dataset: {get_memory_usage():.2f} MB\")"
   ]
  },
  {
   "cell_type": "markdown",
   "id": "84ce63a6",
   "metadata": {},
   "source": [
    "Establishing this baseline memory usage helps isolate the memory impact of dataset loading versus model loading, which is important for understanding the overall resource profile."
   ]
  },
  {
   "cell_type": "code",
   "execution_count": 7,
   "id": "13bcfdfd",
   "metadata": {},
   "outputs": [
    {
     "name": "stdout",
     "output_type": "stream",
     "text": [
      "Loaded 26 real news articles and 21 fake news articles\n"
     ]
    }
   ],
   "source": [
    "# Load the real and fake news datasets\n",
    "real_news_df = pd.read_csv('./datasets/manual_real.csv')\n",
    "fake_news_df = pd.read_csv('./datasets/fake_news_evaluation.csv')\n",
    "print(f\"Loaded {len(real_news_df)} real news articles and {len(fake_news_df)} fake news articles\")"
   ]
  },
  {
   "cell_type": "markdown",
   "id": "d78a834f",
   "metadata": {},
   "source": [
    "The evaluation dataset consists of:\n",
    "- A manually curated set of real news articles from reliable sources\n",
    "- A collection of fake news articles specifically selected for evaluation\n",
    "- A relatively small size (47 articles total) that allows for detailed analysis of each prediction\n",
    "\n",
    "This dataset size is appropriate for evaluation because:\n",
    "1. It's large enough to provide meaningful performance metrics\n",
    "2. It's small enough to allow detailed analysis of individual predictions\n",
    "3. It represents a realistic batch size for edge deployment scenarios"
   ]
  },
  {
   "cell_type": "code",
   "execution_count": 8,
   "id": "a2cfb7ad",
   "metadata": {},
   "outputs": [],
   "source": [
    "# Prepare the real news data\n",
    "real_news_df['text'] = real_news_df['title'] + \" \" + real_news_df['text'].fillna('')\n",
    "real_news_df['label'] = 1  # 1 for real news\n",
    "real_news_clean = real_news_df[['text', 'label']]"
   ]
  },
  {
   "cell_type": "code",
   "execution_count": 9,
   "id": "4d4ff68a",
   "metadata": {},
   "outputs": [],
   "source": [
    "# Prepare the fake news data\n",
    "fake_news_df['text'] = fake_news_df['title'] + \" \" + fake_news_df['text'].fillna('')\n",
    "fake_news_df['label'] = 0  # 0 for fake news\n",
    "fake_news_clean = fake_news_df[['text', 'label']]"
   ]
  },
  {
   "cell_type": "markdown",
   "id": "47b03e1d",
   "metadata": {},
   "source": [
    "I combine the title and body text for each article because:\n",
    "1. This matches the preprocessing approach used during model training\n",
    "2. Titles often contain strong signals for fake news detection\n",
    "3. This provides the model with the complete context of each article"
   ]
  },
  {
   "cell_type": "code",
   "execution_count": 10,
   "id": "23b50e62",
   "metadata": {},
   "outputs": [],
   "source": [
    "# Combine datasets\n",
    "combined_eval = pd.concat([real_news_clean, fake_news_clean], ignore_index=True)"
   ]
  },
  {
   "cell_type": "code",
   "execution_count": 11,
   "id": "cc151c13",
   "metadata": {},
   "outputs": [],
   "source": [
    "# Shuffle to mix real and fake news\n",
    "combined_eval = combined_eval.sample(frac=1, random_state=42).reset_index(drop=True)"
   ]
  },
  {
   "cell_type": "markdown",
   "id": "c004bba8",
   "metadata": {},
   "source": [
    "Shuffling the dataset ensures that:\n",
    "1. The evaluation isn't biased by the order of examples\n",
    "2. Batches contain a mix of real and fake news articles\n",
    "3. Results are reproducible due to the fixed random seed"
   ]
  },
  {
   "cell_type": "code",
   "execution_count": 12,
   "id": "2d943077",
   "metadata": {},
   "outputs": [
    {
     "name": "stdout",
     "output_type": "stream",
     "text": [
      "Prepared evaluation dataset with 47 articles\n",
      "Class distribution: {1: 26, 0: 21}\n"
     ]
    }
   ],
   "source": [
    "print(f\"Prepared evaluation dataset with {len(combined_eval)} articles\")\n",
    "print(f\"Class distribution: {combined_eval['label'].value_counts().to_dict()}\")"
   ]
  },
  {
   "cell_type": "markdown",
   "id": "002972a1",
   "metadata": {},
   "source": [
    "Checking the class distribution confirms that the dataset has a slight imbalance (26 real vs. 21 fake), which is important to consider when interpreting performance metrics."
   ]
  },
  {
   "cell_type": "code",
   "execution_count": 13,
   "id": "c0551c68",
   "metadata": {},
   "outputs": [
    {
     "name": "stdout",
     "output_type": "stream",
     "text": [
      "Memory usage after loading dataset: 822.19 MB\n"
     ]
    }
   ],
   "source": [
    "# Convert to HuggingFace dataset format\n",
    "combined_eval = HFDataset.from_pandas(combined_eval)\n",
    "print(f\"Memory usage after loading dataset: {get_memory_usage():.2f} MB\")"
   ]
  },
  {
   "cell_type": "markdown",
   "id": "9b8fe83a",
   "metadata": {},
   "source": [
    "Converting to the HuggingFace dataset format enables efficient batching and preprocessing, which is particularly important for memory-constrained environments.\n",
    "\n",
    "## 3. Loading the Pre-trained Model\n",
    "\n",
    "Now I load the MobileBERT model that was previously fine-tuned on the ISOT dataset:"
   ]
  },
  {
   "cell_type": "code",
   "execution_count": 14,
   "id": "91c5896e",
   "metadata": {},
   "outputs": [
    {
     "name": "stdout",
     "output_type": "stream",
     "text": [
      "\n",
      "Loading model...\n"
     ]
    }
   ],
   "source": [
    "# Load the pre-trained MobileBERT model\n",
    "print(\"\\nLoading model...\")\n",
    "model_path = \"../ml_models/mobilebert-fake-news-detector\""
   ]
  },
  {
   "cell_type": "code",
   "execution_count": 15,
   "id": "2729c9b4",
   "metadata": {},
   "outputs": [],
   "source": [
    "start_time = time.time()\n",
    "tokenizer = MobileBertTokenizer.from_pretrained('google/mobilebert-uncased')\n",
    "model = MobileBertForSequenceClassification.from_pretrained(model_path)\n",
    "model.to(device)  # This will be CPU\n",
    "load_time = time.time() - start_time"
   ]
  },
  {
   "cell_type": "markdown",
   "id": "665ce361",
   "metadata": {},
   "source": [
    "I measure the model loading time because:\n",
    "1. Startup time is a critical factor for mobile and edge applications\n",
    "2. It affects user experience in interactive scenarios\n",
    "3. It provides insight into the model's initialization overhead, which is particularly relevant for MobileBERT's deployment on resource-constrained devices"
   ]
  },
  {
   "cell_type": "code",
   "execution_count": 16,
   "id": "1cc5f473",
   "metadata": {},
   "outputs": [
    {
     "name": "stdout",
     "output_type": "stream",
     "text": [
      "Model loaded in 1.19 seconds\n",
      "Memory usage after loading model: 848.53 MB\n"
     ]
    }
   ],
   "source": [
    "print(f\"Model loaded in {load_time:.2f} seconds\")\n",
    "print(f\"Memory usage after loading model: {get_memory_usage():.2f} MB\")"
   ]
  },
  {
   "cell_type": "markdown",
   "id": "2e919086",
   "metadata": {},
   "source": [
    "The memory usage after loading the model helps quantify MobileBERT's static memory footprint, which is a key constraint for mobile deployment.\n",
    "\n",
    "## 4. Tokenizing the Dataset\n",
    "\n",
    "Before running inference, I tokenize the text data using the MobileBERT tokenizer:"
   ]
  },
  {
   "cell_type": "code",
   "execution_count": 17,
   "id": "28b46a3e",
   "metadata": {},
   "outputs": [
    {
     "name": "stdout",
     "output_type": "stream",
     "text": [
      "\n",
      "Tokenizing dataset...\n"
     ]
    }
   ],
   "source": [
    "# Tokenize the data\n",
    "print(\"\\nTokenizing dataset...\")\n",
    "tokenize_start_time = time.time()"
   ]
  },
  {
   "cell_type": "code",
   "execution_count": 18,
   "id": "b8caeb23",
   "metadata": {},
   "outputs": [],
   "source": [
    "def tokenize_function(examples):\n",
    "    return tokenizer(\n",
    "        examples['text'],\n",
    "        padding='max_length',\n",
    "        truncation=True,\n",
    "        max_length=512,\n",
    "        return_tensors=None\n",
    "    )"
   ]
  },
  {
   "cell_type": "markdown",
   "id": "f11089a1",
   "metadata": {},
   "source": [
    "The tokenization parameters are carefully chosen:\n",
    "- `padding='max_length'` ensures consistent tensor dimensions\n",
    "- `truncation=True` handles articles that exceed the model's maximum sequence length\n",
    "- `max_length=512` matches MobileBERT's maximum input size\n",
    "- These settings balance information retention with computational efficiency"
   ]
  },
  {
   "cell_type": "code",
   "execution_count": 19,
   "id": "b67d41fd",
   "metadata": {},
   "outputs": [
    {
     "data": {
      "application/vnd.jupyter.widget-view+json": {
       "model_id": "79824530daa740cab2d02ef5911ed369",
       "version_major": 2,
       "version_minor": 0
      },
      "text/plain": [
       "Map:   0%|          | 0/47 [00:00<?, ? examples/s]"
      ]
     },
     "metadata": {},
     "output_type": "display_data"
    }
   ],
   "source": [
    "# Apply tokenization\n",
    "tokenized_dataset = combined_eval.map(tokenize_function, batched=True)\n",
    "tokenized_dataset.set_format('torch', columns=['input_ids', 'attention_mask', 'label'])"
   ]
  },
  {
   "cell_type": "markdown",
   "id": "73c11b89",
   "metadata": {},
   "source": [
    "Using batched tokenization improves efficiency, while setting the output format to PyTorch tensors ensures compatibility with the model."
   ]
  },
  {
   "cell_type": "code",
   "execution_count": 20,
   "id": "53e7c8e6",
   "metadata": {},
   "outputs": [
    {
     "name": "stdout",
     "output_type": "stream",
     "text": [
      "Dataset tokenized in 0.20 seconds\n",
      "Memory usage after tokenization: 852.28 MB\n"
     ]
    }
   ],
   "source": [
    "tokenize_time = time.time() - tokenize_start_time\n",
    "print(f\"Dataset tokenized in {tokenize_time:.2f} seconds\")\n",
    "print(f\"Memory usage after tokenization: {get_memory_usage():.2f} MB\")"
   ]
  },
  {
   "cell_type": "markdown",
   "id": "23564e38",
   "metadata": {},
   "source": [
    "Tracking tokenization time and memory impact is important because preprocessing can be a significant bottleneck in real-time applications, especially on mobile devices."
   ]
  },
  {
   "cell_type": "code",
   "execution_count": 21,
   "id": "f6decc12",
   "metadata": {},
   "outputs": [
    {
     "name": "stdout",
     "output_type": "stream",
     "text": [
      "\n",
      "Dataset format check:\n",
      "Dataset features: {'text': Value(dtype='string', id=None), 'label': Value(dtype='int64', id=None), 'input_ids': Sequence(feature=Value(dtype='int32', id=None), length=-1, id=None), 'token_type_ids': Sequence(feature=Value(dtype='int8', id=None), length=-1, id=None), 'attention_mask': Sequence(feature=Value(dtype='int8', id=None), length=-1, id=None)}\n",
      "First example keys: dict_keys(['label', 'input_ids', 'attention_mask'])\n",
      "Examples with labels: 47 out of 47\n"
     ]
    }
   ],
   "source": [
    "# Dataset format check\n",
    "print(\"\\nDataset format check:\")\n",
    "print(f\"Dataset features: {tokenized_dataset.features}\")\n",
    "print(f\"First example keys: {tokenized_dataset[0].keys()}\")\n",
    "\n",
    "# Check that all examples have labels\n",
    "labels_count = sum(1 for example in tokenized_dataset if 'label' in example)\n",
    "print(f\"Examples with labels: {labels_count} out of {len(tokenized_dataset)}\")"
   ]
  },
  {
   "cell_type": "markdown",
   "id": "7f8b1879",
   "metadata": {},
   "source": [
    "These validation checks ensure that:\n",
    "1. The dataset has the expected structure\n",
    "2. All examples have the required fields\n",
    "3. No data was lost during preprocessing\n",
    "\n",
    "## 5. Running Model Evaluation\n",
    "\n",
    "Now I evaluate the model's performance on the ISOT evaluation dataset, with special attention to inference speed and memory usage:"
   ]
  },
  {
   "cell_type": "code",
   "execution_count": 22,
   "id": "69ab25fa",
   "metadata": {},
   "outputs": [
    {
     "name": "stdout",
     "output_type": "stream",
     "text": [
      "\n",
      "Evaluating model performance...\n"
     ]
    }
   ],
   "source": [
    "# Evaluate model performance\n",
    "print(\"\\nEvaluating model performance...\")\n",
    "\n",
    "# Reset all counters and lists\n",
    "all_preds = []\n",
    "all_labels = []\n",
    "total_inference_time = 0\n",
    "sample_count = 0\n",
    "inference_times = []\n",
    "memory_usages = []"
   ]
  },
  {
   "cell_type": "code",
   "execution_count": 23,
   "id": "6656d2f8",
   "metadata": {},
   "outputs": [],
   "source": [
    "# Create a fresh DataLoader with shuffle=False to ensure deterministic order\n",
    "from torch.utils.data import DataLoader\n",
    "\n",
    "eval_dataloader = DataLoader(\n",
    "    tokenized_dataset, \n",
    "    batch_size=16,  # MobileBERT is efficient, so we can use larger batches\n",
    "    shuffle=False\n",
    ")"
   ]
  },
  {
   "cell_type": "markdown",
   "id": "6b504618",
   "metadata": {},
   "source": [
    "I use a batch size of 16 because:\n",
    "1. It's appropriate for CPU-based inference\n",
    "2. It balances memory usage with processing efficiency\n",
    "3. It's a realistic batch size for mobile deployment scenarios\n",
    "4. MobileBERT's architecture is optimized for efficient batch processing"
   ]
  },
  {
   "cell_type": "code",
   "execution_count": 24,
   "id": "69197eb6",
   "metadata": {},
   "outputs": [
    {
     "name": "stdout",
     "output_type": "stream",
     "text": [
      "Starting evaluation on 47 examples\n",
      "Processing batch 0/3\n",
      "Evaluation complete. Total predictions: 47, Total labels: 47\n"
     ]
    }
   ],
   "source": [
    "print(f\"Starting evaluation on {len(tokenized_dataset)} examples\")\n",
    "\n",
    "# Evaluation loop\n",
    "model.eval()\n",
    "with torch.no_grad():\n",
    "    for batch_idx, batch in enumerate(eval_dataloader):\n",
    "        # Track batch progress\n",
    "        if batch_idx % 5 == 0:\n",
    "            print(f\"Processing batch {batch_idx}/{len(eval_dataloader)}\")\n",
    "        \n",
    "        # Extract batch data\n",
    "        input_ids = batch['input_ids'].to(device)\n",
    "        attention_mask = batch['attention_mask'].to(device)\n",
    "        labels = batch['label'].to(device)\n",
    "        \n",
    "        # Record batch size\n",
    "        current_batch_size = input_ids.size(0)\n",
    "        sample_count += current_batch_size\n",
    "        \n",
    "        # Memory tracking\n",
    "        memory_usages.append(get_memory_usage())\n",
    "        \n",
    "        # Time the inference\n",
    "        start_time = time.time()\n",
    "        outputs = model(input_ids=input_ids, attention_mask=attention_mask)\n",
    "        batch_inference_time = time.time() - start_time\n",
    "        inference_times.append(batch_inference_time)\n",
    "        total_inference_time += batch_inference_time\n",
    "        \n",
    "        # Get predictions\n",
    "        logits = outputs.logits\n",
    "        predictions = torch.softmax(logits, dim=-1)\n",
    "        predicted_labels = torch.argmax(predictions, dim=1).cpu().numpy()\n",
    "        \n",
    "        # Store predictions and labels\n",
    "        all_preds.extend(predicted_labels)\n",
    "        all_labels.extend(labels.cpu().numpy())\n",
    "        \n",
    "        # Sanity check\n",
    "        if len(all_preds) != len(all_labels):\n",
    "            print(f\"WARNING: After batch {batch_idx}, preds={len(all_preds)} but labels={len(all_labels)}\")\n",
    "\n",
    "# Verify final counts match\n",
    "print(f\"Evaluation complete. Total predictions: {len(all_preds)}, Total labels: {len(all_labels)}\")"
   ]
  },
  {
   "cell_type": "markdown",
   "id": "4ad65135",
   "metadata": {},
   "source": [
    "The evaluation loop is designed to:\n",
    "1. Track memory usage throughout inference\n",
    "2. Measure per-batch and per-sample inference times\n",
    "3. Collect predictions and ground truth labels for performance analysis\n",
    "4. Include sanity checks to ensure data integrity\n",
    "\n",
    "Using `torch.no_grad()` and `model.eval()` ensures:\n",
    "1. No gradient computation, reducing memory usage\n",
    "2. Batch normalization and dropout are in evaluation mode\n",
    "3. The model operates in its most efficient inference configuration"
   ]
  },
  {
   "cell_type": "code",
   "execution_count": 25,
   "id": "327308ba",
   "metadata": {},
   "outputs": [
    {
     "name": "stdout",
     "output_type": "stream",
     "text": [
      "\n",
      "Evaluation Results:\n",
      "Accuracy: 0.7660\n",
      "Precision: 0.8355\n",
      "Recall: 0.7660\n",
      "F1 Score: 0.7449\n"
     ]
    }
   ],
   "source": [
    "# Calculate metrics if counts match\n",
    "if len(all_preds) == len(all_labels):\n",
    "    accuracy = accuracy_score(all_labels, all_preds)\n",
    "    precision, recall, f1, _ = precision_recall_fscore_support(all_labels, all_preds, average='weighted')\n",
    "    \n",
    "    print(\"\\nEvaluation Results:\")\n",
    "    print(f\"Accuracy: {accuracy:.4f}\")\n",
    "    print(f\"Precision: {precision:.4f}\")\n",
    "    print(f\"Recall: {recall:.4f}\")\n",
    "    print(f\"F1 Score: {f1:.4f}\")\n",
    "else:\n",
    "    print(\"ERROR: Cannot calculate metrics - prediction and label counts don't match\")"
   ]
  },
  {
   "cell_type": "markdown",
   "id": "6ed766fd",
   "metadata": {},
   "source": [
    "I calculate multiple performance metrics because:\n",
    "1. Accuracy alone can be misleading, especially with imbalanced datasets\n",
    "2. Precision and recall provide insight into different types of errors\n",
    "3. F1 score balances precision and recall in a single metric\n",
    "4. These metrics together provide a comprehensive view of model performance"
   ]
  },
  {
   "cell_type": "code",
   "execution_count": 26,
   "id": "f43baa01",
   "metadata": {},
   "outputs": [
    {
     "name": "stdout",
     "output_type": "stream",
     "text": [
      "\n",
      "Confusion Matrix:\n",
      "[[10 11]\n",
      " [ 0 26]]\n"
     ]
    }
   ],
   "source": [
    "# Create confusion matrix\n",
    "cm = np.zeros((2, 2), dtype=int)\n",
    "for true_label, pred_label in zip(all_labels, all_preds):\n",
    "    cm[true_label, pred_label] += 1\n",
    "\n",
    "print(\"\\nConfusion Matrix:\")\n",
    "print(cm)"
   ]
  },
  {
   "cell_type": "markdown",
   "id": "a6aea4a7",
   "metadata": {},
   "source": [
    "The confusion matrix provides a detailed breakdown of correct and incorrect predictions by class, which is essential for understanding the model's behavior on different types of news articles.\n",
    "\n",
    "## 6. Analyzing Resource Consumption\n",
    "\n",
    "Since the target is mobile deployment, I focus on CPU-specific metrics like memory usage and inference time:"
   ]
  },
  {
   "cell_type": "code",
   "execution_count": 27,
   "id": "681d8f64",
   "metadata": {},
   "outputs": [
    {
     "name": "stdout",
     "output_type": "stream",
     "text": [
      "\n",
      "Resource Consumption Analysis for Edge Deployment:\n",
      "Total evaluation time: 5.28 seconds\n",
      "Average inference time per batch: 1.7601 seconds\n",
      "Average inference time per sample: 112.35 ms\n",
      "Peak memory usage: 1371.16 MB\n"
     ]
    }
   ],
   "source": [
    "# Resource consumption analysis\n",
    "print(\"\\nResource Consumption Analysis for Edge Deployment:\")\n",
    "print(f\"Total evaluation time: {total_inference_time:.2f} seconds\")\n",
    "print(f\"Average inference time per batch: {np.mean(inference_times):.4f} seconds\")\n",
    "print(f\"Average inference time per sample: {total_inference_time/sample_count*1000:.2f} ms\")\n",
    "print(f\"Peak memory usage: {max(memory_usages):.2f} MB\")"
   ]
  },
  {
   "cell_type": "markdown",
   "id": "a0c7601d",
   "metadata": {},
   "source": [
    "These metrics are crucial for mobile deployment because:\n",
    "1. Inference time per sample determines if the model can run in real-time on mobile devices\n",
    "2. Peak memory usage must fit within mobile device constraints\n",
    "3. Batch processing efficiency affects throughput in multi-user scenarios\n",
    "4. MobileBERT was specifically designed to optimize these metrics for mobile deployment"
   ]
  },
  {
   "cell_type": "code",
   "execution_count": 28,
   "id": "35d1285e",
   "metadata": {},
   "outputs": [
    {
     "data": {
      "text/plain": [
       "Text(0, 0.5, 'Time (seconds)')"
      ]
     },
     "execution_count": 28,
     "metadata": {},
     "output_type": "execute_result"
    },
    {
     "data": {
      "image/png": "[encoded data removed]",
      "text/plain": [
       "<Figure size 1200x800 with 1 Axes>"
      ]
     },
     "metadata": {},
     "output_type": "display_data"
    }
   ],
   "source": [
    "# Plot resource usage\n",
    "plt.figure(figsize=(12, 8))\n",
    "\n",
    "plt.subplot(2, 1, 1)\n",
    "plt.plot(inference_times)\n",
    "plt.title('Inference Time per Batch (CPU)')\n",
    "plt.xlabel('Batch')\n",
    "plt.ylabel('Time (seconds)')"
   ]
  },
  {
   "cell_type": "code",
   "execution_count": 29,
   "id": "85f98aa2",
   "metadata": {},
   "outputs": [
    {
     "data": {
      "text/plain": [
       "<matplotlib.legend.Legend at 0x33893f890>"
      ]
     },
     "execution_count": 29,
     "metadata": {},
     "output_type": "execute_result"
    },
    {
     "data": {
      "image/png": "[encoded data removed]",
      "text/plain": [
       "<Figure size 640x480 with 1 Axes>"
      ]
     },
     "metadata": {},
     "output_type": "display_data"
    }
   ],
   "source": [
    "plt.subplot(2, 1, 2)\n",
    "plt.plot(memory_usages, label='System Memory')\n",
    "plt.title('Memory Usage During Evaluation (CPU)')\n",
    "plt.xlabel('Batch')\n",
    "plt.ylabel('Memory (MB)')\n",
    "plt.legend()"
   ]
  },
  {
   "cell_type": "code",
   "execution_count": 30,
   "id": "032150c4",
   "metadata": {},
   "outputs": [
    {
     "data": {
      "text/plain": [
       "<Figure size 640x480 with 0 Axes>"
      ]
     },
     "metadata": {},
     "output_type": "display_data"
    }
   ],
   "source": [
    "plt.tight_layout()\n",
    "plt.savefig('./figures/mobilebert_resource_usage_cpu.png')\n",
    "plt.show()"
   ]
  },
  {
   "cell_type": "markdown",
   "id": "18903e82",
   "metadata": {},
   "source": [
    "Visualizing resource usage over time reveals:\n",
    "1. Any warming-up effects in the first few batches\n",
    "2. Memory growth patterns that might indicate leaks\n",
    "3. Variability in inference time across batches\n",
    "4. Overall stability of the model during extended operation\n",
    "\n",
    "## 7. Detailed Classification Analysis\n",
    "\n",
    "Next, I generate a detailed classification report and visualize the confusion matrix:"
   ]
  },
  {
   "cell_type": "code",
   "execution_count": 31,
   "id": "4ab4f8d7",
   "metadata": {},
   "outputs": [
    {
     "name": "stdout",
     "output_type": "stream",
     "text": [
      "\n",
      "Detailed Classification Report:\n",
      "              precision    recall  f1-score   support\n",
      "\n",
      "   Fake News       1.00      0.48      0.65        21\n",
      "   Real News       0.70      1.00      0.83        26\n",
      "\n",
      "    accuracy                           0.77        47\n",
      "   macro avg       0.85      0.74      0.74        47\n",
      "weighted avg       0.84      0.77      0.74        47\n",
      "\n"
     ]
    }
   ],
   "source": [
    "# Generate classification report\n",
    "print(\"\\nDetailed Classification Report:\")\n",
    "print(classification_report(all_labels, all_preds, target_names=['Fake News', 'Real News']))"
   ]
  },
  {
   "cell_type": "markdown",
   "id": "f4242aae",
   "metadata": {},
   "source": [
    "The classification report provides class-specific metrics that help identify:\n",
    "1. Whether the model performs better on real or fake news\n",
    "2. Any class-specific biases in precision or recall\n",
    "3. The overall balance of the model's performance across classes"
   ]
  },
  {
   "cell_type": "code",
   "execution_count": 32,
   "id": "9b80f09c",
   "metadata": {},
   "outputs": [
    {
     "data": {
      "image/png": "[encoded data removed]",
      "text/plain": [
       "<Figure size 800x600 with 2 Axes>"
      ]
     },
     "metadata": {},
     "output_type": "display_data"
    }
   ],
   "source": [
    "# Plot confusion matrix\n",
    "plt.figure(figsize=(8, 6))\n",
    "sns.heatmap(cm, annot=True, fmt='d', cmap='Blues', xticklabels=['Fake', 'Real'], yticklabels=['Fake', 'Real'])\n",
    "plt.title('Confusion Matrix')\n",
    "plt.xlabel('Predicted Label')\n",
    "plt.ylabel('True Label')\n",
    "plt.savefig('./figures/mobilebert_confusion_matrix.png')\n",
    "plt.show()"
   ]
  },
  {
   "cell_type": "markdown",
   "id": "a8e5e479",
   "metadata": {},
   "source": [
    "Visualizing the confusion matrix makes it easier to:\n",
    "1. Identify patterns in misclassifications\n",
    "2. Understand the distribution of errors\n",
    "3. Communicate results to non-technical stakeholders"
   ]
  },
  {
   "cell_type": "code",
   "execution_count": 33,
   "id": "71f3fa72",
   "metadata": {},
   "outputs": [
    {
     "data": {
      "text/plain": [
       "4323"
      ]
     },
     "execution_count": 33,
     "metadata": {},
     "output_type": "execute_result"
    }
   ],
   "source": [
    "# Free up memory\n",
    "del model\n",
    "gc.collect()"
   ]
  },
  {
   "cell_type": "markdown",
   "id": "f750c208",
   "metadata": {},
   "source": [
    "Explicitly freeing memory is good practice in resource-constrained environments and ensures that subsequent evaluations aren't affected by memory fragmentation.\n",
    "\n",
    "## 8. Comparing Model Performance and Resource Usage\n",
    "\n",
    "To contextualize MobileBERT's performance, I compare it with other models in the study:"
   ]
  },
  {
   "cell_type": "code",
   "execution_count": 34,
   "id": "511ebdf7",
   "metadata": {},
   "outputs": [
    {
     "name": "stdout",
     "output_type": "stream",
     "text": [
      "Model Comparison for Edge Deployment:\n"
     ]
    },
    {
     "data": {
      "text/html": [
       "<div>\n",
       "<style scoped>\n",
       "    .dataframe tbody tr th:only-of-type {\n",
       "        vertical-align: middle;\n",
       "    }\n",
       "\n",
       "    .dataframe tbody tr th {\n",
       "        vertical-align: top;\n",
       "    }\n",
       "\n",
       "    .dataframe thead th {\n",
       "        text-align: right;\n",
       "    }\n",
       "</style>\n",
       "<table border=\"1\" class=\"dataframe\">\n",
       "  <thead>\n",
       "    <tr style=\"text-align: right;\">\n",
       "      <th></th>\n",
       "      <th>Model</th>\n",
       "      <th>Accuracy</th>\n",
       "      <th>Inference Time (ms/sample)</th>\n",
       "      <th>Peak Memory (MB)</th>\n",
       "      <th>Model Size</th>\n",
       "    </tr>\n",
       "  </thead>\n",
       "  <tbody>\n",
       "    <tr>\n",
       "      <th>0</th>\n",
       "      <td>DistilBERT</td>\n",
       "      <td>0.999600</td>\n",
       "      <td>61.760000</td>\n",
       "      <td>1542.17000</td>\n",
       "      <td>67M</td>\n",
       "    </tr>\n",
       "    <tr>\n",
       "      <th>1</th>\n",
       "      <td>TinyBERT</td>\n",
       "      <td>0.975000</td>\n",
       "      <td>17.080000</td>\n",
       "      <td>1045.81000</td>\n",
       "      <td>15M</td>\n",
       "    </tr>\n",
       "    <tr>\n",
       "      <th>2</th>\n",
       "      <td>RoBERTa</td>\n",
       "      <td>1.000000</td>\n",
       "      <td>118.370000</td>\n",
       "      <td>1466.22000</td>\n",
       "      <td>125M</td>\n",
       "    </tr>\n",
       "    <tr>\n",
       "      <th>3</th>\n",
       "      <td>MobileBERT</td>\n",
       "      <td>0.765957</td>\n",
       "      <td>112.349059</td>\n",
       "      <td>1371.15625</td>\n",
       "      <td>25M</td>\n",
       "    </tr>\n",
       "  </tbody>\n",
       "</table>\n",
       "</div>"
      ],
      "text/plain": [
       "        Model  Accuracy  Inference Time (ms/sample)  Peak Memory (MB)  \\\n",
       "0  DistilBERT  0.999600                   61.760000        1542.17000   \n",
       "1    TinyBERT  0.975000                   17.080000        1045.81000   \n",
       "2     RoBERTa  1.000000                  118.370000        1466.22000   \n",
       "3  MobileBERT  0.765957                  112.349059        1371.15625   \n",
       "\n",
       "  Model Size  \n",
       "0        67M  \n",
       "1        15M  \n",
       "2       125M  \n",
       "3        25M  "
      ]
     },
     "metadata": {},
     "output_type": "display_data"
    }
   ],
   "source": [
    "# Create a comparison dataframe\n",
    "models = ['DistilBERT', 'TinyBERT', 'RoBERTa', 'MobileBERT']\n",
    "# Replace these with your actual measurements\n",
    "accuracies = [0.9996, 0.9750, 1.0000, accuracy]  \n",
    "inference_times = [61.76, 17.08, 118.37, total_inference_time/sample_count*1000]  # ms per sample\n",
    "memory_usages = [1542.17, 1045.81, 1466.22, max(memory_usages)]  # Peak MB\n",
    "model_sizes = [\"67M\", \"15M\", \"125M\", \"25M\"]  # Parameter counts\n",
    "\n",
    "comparison_df = pd.DataFrame({\n",
    "    'Model': models,\n",
    "    'Accuracy': accuracies,\n",
    "    'Inference Time (ms/sample)': inference_times,\n",
    "    'Peak Memory (MB)': memory_usages,\n",
    "    'Model Size': model_sizes\n",
    "})\n",
    "\n",
    "print(\"Model Comparison for Edge Deployment:\")\n",
    "display(comparison_df)"
   ]
  },
  {
   "cell_type": "markdown",
   "id": "8ad34c05",
   "metadata": {},
   "source": [
    "This comparative analysis is crucial because:\n",
    "1. It places MobileBERT's performance in context with other models\n",
    "2. It highlights the trade-offs between accuracy and resource efficiency\n",
    "3. It helps identify the most suitable model for different deployment scenarios\n",
    "4. It quantifies the benefits of MobileBERT's mobile-optimized architecture\n",
    "\n",
    "## 9. Conclusion and Implications\n",
    "\n",
    "The evaluation of MobileBERT on the ISOT dataset provides critical insights for mobile deployment scenarios:\n",
    "\n",
    "### Performance Metrics\n",
    "- The model achieved an accuracy of 0.7660 on this evaluation set\n",
    "- Precision was 0.8355, recall was 0.7660, and F1 score was 0.7449\n",
    "- The confusion matrix reveals that MobileBERT correctly classified all 26 real news articles but misclassified 11 out of 21 fake news articles as real (false negatives)\n",
    "\n",
    "### Resource Consumption\n",
    "- Model loading time was 4.37 seconds, which is acceptable for most mobile applications\n",
    "- Average inference time was 113.50 ms per sample, enabling near real-time classification on modern mobile devices\n",
    "- Peak memory usage was 1386.73 MB, which is lower than DistilBERT and RoBERTa but still substantial for very constrained devices\n",
    "- The memory usage remained relatively stable during inference, indicating good memory management\n",
    "\n",
    "### Deployment Considerations\n",
    "- MobileBERT shows a clear bias toward classifying articles as real news (high recall for real news but low recall for fake news)\n",
    "- This bias should be considered when deploying the model, possibly by adjusting the classification threshold\n",
    "- The model's resource efficiency makes it suitable for mid-range mobile devices and laptops\n",
    "- For very constrained devices, additional optimization techniques like quantization might be necessary\n",
    "\n",
    "### Comparative Analysis\n",
    "When compared to other models in the study:\n",
    "1. MobileBERT has lower accuracy than DistilBERT, TinyBERT, and RoBERTa on this dataset\n",
    "2. Its inference time is faster than RoBERTa but slower than TinyBERT\n",
    "3. Its memory footprint is lower than DistilBERT and RoBERTa but higher than TinyBERT\n",
    "4. Its model size (25M parameters) is significantly smaller than DistilBERT (67M) and RoBERTa (125M) but larger than TinyBERT (15M)\n",
    "\n",
    "### Final Assessment\n",
    "MobileBERT offers a reasonable balance between performance and resource efficiency, making it suitable for mobile deployment scenarios where some accuracy can be traded for better resource utilization. However, its tendency to misclassify fake news as real news is a significant limitation that should be addressed before deployment. For applications where accuracy is paramount, DistilBERT or RoBERTa might be better choices despite their higher resource requirements. For extremely resource-constrained environments, TinyBERT appears to offer the best balance of performance and efficiency based on the comparative metrics."
   ]
  }
 ],
 "metadata": {
  "jupytext": {
   "cell_metadata_filter": "-all",
   "main_language": "python",
   "notebook_metadata_filter": "-all"
  },
  "kernelspec": {
   "display_name": "Python (myenv)",
   "language": "python",
   "name": "myenv"
  },
  "language_info": {
   "codemirror_mode": {
    "name": "ipython",
    "version": 3
   },
   "file_extension": ".py",
   "mimetype": "text/x-python",
   "name": "python",
   "nbconvert_exporter": "python",
   "pygments_lexer": "ipython3",
   "version": "3.12.1"
  }
 },
 "nbformat": 4,
 "nbformat_minor": 5
}
