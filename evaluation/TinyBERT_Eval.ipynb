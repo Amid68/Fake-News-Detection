{
 "cells": [
  {
   "cell_type": "markdown",
   "id": "c567a116",
   "metadata": {},
   "source": [
    "# TinyBERT Evaluation on ISOT Dataset\n",
    "\n",
    "## Introduction\n",
    "\n",
    "This notebook documents the evaluation of a fine-tuned TinyBERT model on the ISOT fake news detection dataset. The primary goal is to assess the model's performance and analyze its resource consumption, with a specific focus on CPU-based edge deployment scenarios such as laptops or mobile devices. TinyBERT is an even more compact model than DistilBERT, potentially making it more suitable for highly resource-constrained environments. This evaluation is a critical component of our comparative analysis of lightweight pretrained models for fake news detection.\n",
    "\n",
    "## 1. Setting Up the Environment\n",
    "\n",
    "First, I import all necessary libraries and set up utility functions to monitor resource usage:"
   ]
  },
  {
   "cell_type": "code",
   "execution_count": 1,
   "id": "484b4e4e",
   "metadata": {},
   "outputs": [],
   "source": [
    "# Import necessary libraries\n",
    "import os\n",
    "import time\n",
    "import numpy as np\n",
    "import pandas as pd\n",
    "import torch\n",
    "import psutil\n",
    "import gc\n",
    "import re\n",
    "from transformers import BertTokenizer, BertForSequenceClassification\n",
    "from datasets import Dataset as HFDataset\n",
    "from sklearn.metrics import accuracy_score, precision_recall_fscore_support, classification_report\n",
    "import matplotlib.pyplot as plt\n",
    "import seaborn as sns"
   ]
  },
  {
   "cell_type": "markdown",
   "id": "066a1d40",
   "metadata": {},
   "source": [
    "I've selected these libraries for the following reasons:\n",
    "- `torch` for PyTorch-based model inference\n",
    "- `transformers` for loading and using the TinyBERT model\n",
    "- `psutil` for monitoring system resource usage\n",
    "- `sklearn.metrics` for comprehensive model evaluation\n",
    "- `matplotlib` and `seaborn` for visualization of results\n",
    "- `gc` for explicit garbage collection to manage memory"
   ]
  },
  {
   "cell_type": "code",
   "execution_count": 2,
   "id": "f1467061",
   "metadata": {},
   "outputs": [
    {
     "name": "stdout",
     "output_type": "stream",
     "text": [
      "Using device: cpu\n"
     ]
    }
   ],
   "source": [
    "# Set device - using CPU for edge device testing\n",
    "device = torch.device(\"cpu\")\n",
    "print(f\"Using device: {device}\")"
   ]
  },
  {
   "cell_type": "markdown",
   "id": "13509c18",
   "metadata": {},
   "source": [
    "I deliberately choose to use the CPU rather than GPU for this evaluation because:\n",
    "1. The primary target for deployment is edge devices that typically lack dedicated GPUs\n",
    "2. CPU performance metrics are more relevant for assessing real-world deployment feasibility\n",
    "3. This allows for a fair comparison with other lightweight models in similar deployment scenarios\n",
    "4. TinyBERT's primary advantage is its efficiency on CPU-only devices"
   ]
  },
  {
   "cell_type": "code",
   "execution_count": 3,
   "id": "aa2a347f",
   "metadata": {},
   "outputs": [],
   "source": [
    "# Function to get current memory usage\n",
    "def get_memory_usage():\n",
    "    process = psutil.Process(os.getpid())\n",
    "    return process.memory_info().rss / 1024 / 1024  # Convert to MB"
   ]
  },
  {
   "cell_type": "markdown",
   "id": "15179f3f",
   "metadata": {},
   "source": [
    "This utility function tracks the resident set size (RSS) of the Python process, providing a reliable measure of actual memory consumption during model loading and inference. This is crucial for understanding TinyBERT's viability for memory-constrained edge devices.\n",
    "\n",
    "## 2. Loading and Preparing ISOT Evaluation Dataset\n",
    "\n",
    "Next, I load the ISOT evaluation dataset, which provides a reliable assessment since it comes from the same domain as the training data:"
   ]
  },
  {
   "cell_type": "code",
   "execution_count": 4,
   "id": "0f0065d3",
   "metadata": {},
   "outputs": [
    {
     "name": "stdout",
     "output_type": "stream",
     "text": [
      "Memory usage before loading dataset: 816.75 MB\n"
     ]
    }
   ],
   "source": [
    "# Check memory usage before loading dataset\n",
    "print(f\"Memory usage before loading dataset: {get_memory_usage():.2f} MB\")"
   ]
  },
  {
   "cell_type": "markdown",
   "id": "fc4b30d0",
   "metadata": {},
   "source": [
    "Establishing this baseline memory usage helps isolate the memory impact of dataset loading versus model loading, which is important for understanding the overall resource profile."
   ]
  },
  {
   "cell_type": "code",
   "execution_count": 5,
   "id": "b5a0b0a0",
   "metadata": {},
   "outputs": [
    {
     "name": "stdout",
     "output_type": "stream",
     "text": [
      "Loaded 26 real news articles and 21 fake news articles\n"
     ]
    }
   ],
   "source": [
    "# Load the real and fake news datasets\n",
    "real_news_df = pd.read_csv('./datasets/manual_real.csv')\n",
    "fake_news_df = pd.read_csv('./datasets/fake_news_evaluation.csv')\n",
    "print(f\"Loaded {len(real_news_df)} real news articles and {len(fake_news_df)} fake news articles\")"
   ]
  },
  {
   "cell_type": "markdown",
   "id": "1fc9db77",
   "metadata": {},
   "source": [
    "The evaluation dataset consists of:\n",
    "- A manually curated set of real news articles from reliable sources\n",
    "- A collection of fake news articles specifically selected for evaluation\n",
    "- A relatively small size (40 articles total) that allows for detailed analysis of each prediction\n",
    "\n",
    "This dataset size is appropriate for evaluation because:\n",
    "1. It's large enough to provide meaningful performance metrics\n",
    "2. It's small enough to allow detailed analysis of individual predictions\n",
    "3. It represents a realistic batch size for edge deployment scenarios"
   ]
  },
  {
   "cell_type": "code",
   "execution_count": 6,
   "id": "93980010",
   "metadata": {},
   "outputs": [],
   "source": [
    "# Prepare the real news data\n",
    "real_news_df['text'] = real_news_df['title'] + \" \" + real_news_df['text'].fillna('')\n",
    "real_news_df['label'] = 1  # 1 for real news\n",
    "real_news_clean = real_news_df[['text', 'label']]"
   ]
  },
  {
   "cell_type": "code",
   "execution_count": 7,
   "id": "d6b731a1",
   "metadata": {},
   "outputs": [],
   "source": [
    "# Prepare the fake news data\n",
    "fake_news_df['text'] = fake_news_df['title'] + \" \" + fake_news_df['text'].fillna('')\n",
    "fake_news_df['label'] = 0  # 0 for fake news\n",
    "fake_news_clean = fake_news_df[['text', 'label']]"
   ]
  },
  {
   "cell_type": "markdown",
   "id": "46738f0b",
   "metadata": {},
   "source": [
    "I combine the title and body text for each article because:\n",
    "1. This matches the preprocessing approach used during model training\n",
    "2. Titles often contain strong signals for fake news detection\n",
    "3. This provides the model with the complete context of each article"
   ]
  },
  {
   "cell_type": "code",
   "execution_count": 8,
   "id": "eceb3ac4",
   "metadata": {},
   "outputs": [],
   "source": [
    "# Combine datasets\n",
    "combined_eval = pd.concat([real_news_clean, fake_news_clean], ignore_index=True)"
   ]
  },
  {
   "cell_type": "code",
   "execution_count": 9,
   "id": "650bad0d",
   "metadata": {},
   "outputs": [],
   "source": [
    "# Shuffle to mix real and fake news\n",
    "combined_eval = combined_eval.sample(frac=1, random_state=42).reset_index(drop=True)"
   ]
  },
  {
   "cell_type": "markdown",
   "id": "81cd9755",
   "metadata": {},
   "source": [
    "Shuffling the dataset ensures that:\n",
    "1. The evaluation isn't biased by the order of examples\n",
    "2. Batches contain a mix of real and fake news articles\n",
    "3. Results are reproducible due to the fixed random seed"
   ]
  },
  {
   "cell_type": "code",
   "execution_count": 10,
   "id": "45902c67",
   "metadata": {},
   "outputs": [
    {
     "name": "stdout",
     "output_type": "stream",
     "text": [
      "Prepared evaluation dataset with 47 articles\n",
      "Class distribution: {1: 26, 0: 21}\n"
     ]
    }
   ],
   "source": [
    "print(f\"Prepared evaluation dataset with {len(combined_eval)} articles\")\n",
    "print(f\"Class distribution: {combined_eval['label'].value_counts().to_dict()}\")"
   ]
  },
  {
   "cell_type": "markdown",
   "id": "5d7ed81a",
   "metadata": {},
   "source": [
    "Checking the class distribution confirms that the dataset is relatively balanced (21 fake vs. 19 real), which is important for unbiased evaluation."
   ]
  },
  {
   "cell_type": "code",
   "execution_count": 11,
   "id": "6e22fd44",
   "metadata": {},
   "outputs": [
    {
     "name": "stdout",
     "output_type": "stream",
     "text": [
      "Memory usage after loading dataset: 819.72 MB\n"
     ]
    }
   ],
   "source": [
    "# Convert to HuggingFace dataset format\n",
    "combined_eval = HFDataset.from_pandas(combined_eval)\n",
    "print(f\"Memory usage after loading dataset: {get_memory_usage():.2f} MB\")"
   ]
  },
  {
   "cell_type": "markdown",
   "id": "436b6eb9",
   "metadata": {},
   "source": [
    "Converting to the HuggingFace dataset format enables efficient batching and preprocessing, which is particularly important for memory-constrained environments.\n",
    "\n",
    "## 3. Loading the Pre-trained Model\n",
    "\n",
    "Now I load the TinyBERT model that was previously fine-tuned on the ISOT dataset:"
   ]
  },
  {
   "cell_type": "code",
   "execution_count": 12,
   "id": "5aed66ac",
   "metadata": {},
   "outputs": [
    {
     "name": "stdout",
     "output_type": "stream",
     "text": [
      "\n",
      "Loading model...\n"
     ]
    }
   ],
   "source": [
    "# Load the pre-trained TinyBERT model\n",
    "print(\"\\nLoading model...\")\n",
    "model_path = \"../ml_models/tinybert-fake-news-detector\""
   ]
  },
  {
   "cell_type": "code",
   "execution_count": 13,
   "id": "d5596bf6",
   "metadata": {},
   "outputs": [],
   "source": [
    "start_time = time.time()\n",
    "tokenizer = BertTokenizer.from_pretrained('huawei-noah/TinyBERT_General_4L_312D')\n",
    "model = BertForSequenceClassification.from_pretrained(model_path)\n",
    "model.to(device)  # This will be CPU\n",
    "load_time = time.time() - start_time"
   ]
  },
  {
   "cell_type": "markdown",
   "id": "3a309f55",
   "metadata": {},
   "source": [
    "I measure the model loading time because:\n",
    "1. Startup time is a critical factor for edge applications\n",
    "2. It affects user experience in interactive scenarios\n",
    "3. It provides insight into the model's initialization overhead\n",
    "4. TinyBERT should demonstrate faster loading times than larger models"
   ]
  },
  {
   "cell_type": "code",
   "execution_count": 14,
   "id": "c7a0f0cd",
   "metadata": {},
   "outputs": [
    {
     "name": "stdout",
     "output_type": "stream",
     "text": [
      "Model loaded in 0.88 seconds\n",
      "Memory usage after loading model: 833.20 MB\n"
     ]
    }
   ],
   "source": [
    "print(f\"Model loaded in {load_time:.2f} seconds\")\n",
    "print(f\"Memory usage after loading model: {get_memory_usage():.2f} MB\")"
   ]
  },
  {
   "cell_type": "markdown",
   "id": "fbb942a5",
   "metadata": {},
   "source": [
    "The memory usage after loading the model helps quantify TinyBERT's static memory footprint, which should be significantly lower than larger models like DistilBERT and RoBERTa.\n",
    "\n",
    "## 4. Tokenizing the Dataset\n",
    "\n",
    "Before running inference, I tokenize the text data using the appropriate tokenizer:"
   ]
  },
  {
   "cell_type": "code",
   "execution_count": 15,
   "id": "c03d575c",
   "metadata": {},
   "outputs": [
    {
     "name": "stdout",
     "output_type": "stream",
     "text": [
      "\n",
      "Tokenizing dataset...\n"
     ]
    }
   ],
   "source": [
    "# Tokenize the data\n",
    "print(\"\\nTokenizing dataset...\")\n",
    "tokenize_start_time = time.time()"
   ]
  },
  {
   "cell_type": "code",
   "execution_count": 16,
   "id": "e7b12a00",
   "metadata": {},
   "outputs": [],
   "source": [
    "def tokenize_function(examples):\n",
    "    return tokenizer(\n",
    "        examples['text'],\n",
    "        padding='max_length',\n",
    "        truncation=True,\n",
    "        max_length=512,\n",
    "        return_tensors=None\n",
    "    )"
   ]
  },
  {
   "cell_type": "markdown",
   "id": "ff4697ff",
   "metadata": {},
   "source": [
    "The tokenization parameters are carefully chosen:\n",
    "- `padding='max_length'` ensures consistent tensor dimensions\n",
    "- `truncation=True` handles articles that exceed the model's maximum sequence length\n",
    "- `max_length=512` matches the maximum input size\n",
    "- These settings balance information retention with computational efficiency"
   ]
  },
  {
   "cell_type": "code",
   "execution_count": 17,
   "id": "0c9dc0fd",
   "metadata": {},
   "outputs": [
    {
     "data": {
      "application/vnd.jupyter.widget-view+json": {
       "model_id": "09d7e78cc5f94a19ae81dc974c8b17da",
       "version_major": 2,
       "version_minor": 0
      },
      "text/plain": [
       "Map:   0%|          | 0/47 [00:00<?, ? examples/s]"
      ]
     },
     "metadata": {},
     "output_type": "display_data"
    }
   ],
   "source": [
    "# Apply tokenization\n",
    "tokenized_dataset = combined_eval.map(tokenize_function, batched=True)\n",
    "tokenized_dataset.set_format('torch', columns=['input_ids', 'attention_mask', 'label'])"
   ]
  },
  {
   "cell_type": "markdown",
   "id": "0fbaccaa",
   "metadata": {},
   "source": [
    "Using batched tokenization improves efficiency, while setting the output format to PyTorch tensors ensures compatibility with the model."
   ]
  },
  {
   "cell_type": "code",
   "execution_count": 18,
   "id": "fd2cbc88",
   "metadata": {},
   "outputs": [
    {
     "name": "stdout",
     "output_type": "stream",
     "text": [
      "Dataset tokenized in 0.20 seconds\n",
      "Memory usage after tokenization: 836.58 MB\n"
     ]
    }
   ],
   "source": [
    "tokenize_time = time.time() - tokenize_start_time\n",
    "print(f\"Dataset tokenized in {tokenize_time:.2f} seconds\")\n",
    "print(f\"Memory usage after tokenization: {get_memory_usage():.2f} MB\")"
   ]
  },
  {
   "cell_type": "markdown",
   "id": "dc681f9f",
   "metadata": {},
   "source": [
    "Tracking tokenization time and memory impact is important because preprocessing can be a significant bottleneck in real-time applications."
   ]
  },
  {
   "cell_type": "code",
   "execution_count": 19,
   "id": "db7631fb",
   "metadata": {},
   "outputs": [
    {
     "name": "stdout",
     "output_type": "stream",
     "text": [
      "\n",
      "Dataset format check:\n",
      "Dataset features: {'text': Value(dtype='string', id=None), 'label': Value(dtype='int64', id=None), 'input_ids': Sequence(feature=Value(dtype='int32', id=None), length=-1, id=None), 'token_type_ids': Sequence(feature=Value(dtype='int8', id=None), length=-1, id=None), 'attention_mask': Sequence(feature=Value(dtype='int8', id=None), length=-1, id=None)}\n",
      "First example keys: dict_keys(['label', 'input_ids', 'attention_mask'])\n",
      "Examples with labels: 47 out of 47\n"
     ]
    }
   ],
   "source": [
    "# Dataset format check\n",
    "print(\"\\nDataset format check:\")\n",
    "print(f\"Dataset features: {tokenized_dataset.features}\")\n",
    "print(f\"First example keys: {tokenized_dataset[0].keys()}\")\n",
    "\n",
    "# Check that all examples have labels\n",
    "labels_count = sum(1 for example in tokenized_dataset if 'label' in example)\n",
    "print(f\"Examples with labels: {labels_count} out of {len(tokenized_dataset)}\")"
   ]
  },
  {
   "cell_type": "markdown",
   "id": "949df710",
   "metadata": {},
   "source": [
    "These validation checks ensure that:\n",
    "1. The dataset has the expected structure\n",
    "2. All examples have the required fields\n",
    "3. No data was lost during preprocessing\n",
    "\n",
    "## 5. Running Model Evaluation\n",
    "\n",
    "Now I evaluate the model's performance on the ISOT evaluation dataset, with special attention to inference speed and memory usage:"
   ]
  },
  {
   "cell_type": "code",
   "execution_count": 20,
   "id": "28b2c3dd",
   "metadata": {},
   "outputs": [
    {
     "name": "stdout",
     "output_type": "stream",
     "text": [
      "\n",
      "Evaluating model performance...\n"
     ]
    }
   ],
   "source": [
    "# Evaluate model performance\n",
    "print(\"\\nEvaluating model performance...\")\n",
    "\n",
    "# Reset all counters and lists\n",
    "all_preds = []\n",
    "all_labels = []\n",
    "total_inference_time = 0\n",
    "sample_count = 0\n",
    "inference_times = []\n",
    "memory_usages = []"
   ]
  },
  {
   "cell_type": "code",
   "execution_count": 21,
   "id": "09e6c3d1",
   "metadata": {},
   "outputs": [],
   "source": [
    "# Create a fresh DataLoader with shuffle=False to ensure deterministic order\n",
    "from torch.utils.data import DataLoader\n",
    "\n",
    "eval_dataloader = DataLoader(\n",
    "    tokenized_dataset, \n",
    "    batch_size=16,  # Smaller batch size for CPU\n",
    "    shuffle=False\n",
    ")"
   ]
  },
  {
   "cell_type": "markdown",
   "id": "6d8fe279",
   "metadata": {},
   "source": [
    "I use a batch size of 16 because:\n",
    "1. It's appropriate for CPU-based inference\n",
    "2. It balances memory usage with processing efficiency\n",
    "3. It's a realistic batch size for edge deployment scenarios"
   ]
  },
  {
   "cell_type": "code",
   "execution_count": 22,
   "id": "a584d2f2",
   "metadata": {},
   "outputs": [
    {
     "name": "stdout",
     "output_type": "stream",
     "text": [
      "Starting evaluation on 47 examples\n",
      "Processing batch 0/3\n",
      "Evaluation complete. Total predictions: 47, Total labels: 47\n"
     ]
    }
   ],
   "source": [
    "print(f\"Starting evaluation on {len(tokenized_dataset)} examples\")\n",
    "\n",
    "# Evaluation loop\n",
    "model.eval()\n",
    "with torch.no_grad():\n",
    "    for batch_idx, batch in enumerate(eval_dataloader):\n",
    "        # Track batch progress\n",
    "        if batch_idx % 5 == 0:\n",
    "            print(f\"Processing batch {batch_idx}/{len(eval_dataloader)}\")\n",
    "        \n",
    "        # Extract batch data\n",
    "        input_ids = batch['input_ids'].to(device)\n",
    "        attention_mask = batch['attention_mask'].to(device)\n",
    "        labels = batch['label'].to(device)\n",
    "        \n",
    "        # Record batch size\n",
    "        current_batch_size = input_ids.size(0)\n",
    "        sample_count += current_batch_size\n",
    "        \n",
    "        # Memory tracking\n",
    "        memory_usages.append(get_memory_usage())\n",
    "        \n",
    "        # Time the inference\n",
    "        start_time = time.time()\n",
    "        outputs = model(input_ids=input_ids, attention_mask=attention_mask)\n",
    "        batch_inference_time = time.time() - start_time\n",
    "        inference_times.append(batch_inference_time)\n",
    "        total_inference_time += batch_inference_time\n",
    "        \n",
    "        # Get predictions\n",
    "        logits = outputs.logits\n",
    "        predictions = torch.softmax(logits, dim=-1)\n",
    "        predicted_labels = torch.argmax(predictions, dim=1).cpu().numpy()\n",
    "        \n",
    "        # Store predictions and labels\n",
    "        all_preds.extend(predicted_labels)\n",
    "        all_labels.extend(labels.cpu().numpy())\n",
    "        \n",
    "        # Sanity check\n",
    "        if len(all_preds) != len(all_labels):\n",
    "            print(f\"WARNING: After batch {batch_idx}, preds={len(all_preds)} but labels={len(all_labels)}\")\n",
    "\n",
    "# Verify final counts match\n",
    "print(f\"Evaluation complete. Total predictions: {len(all_preds)}, Total labels: {len(all_labels)}\")"
   ]
  },
  {
   "cell_type": "markdown",
   "id": "ae2e53b8",
   "metadata": {},
   "source": [
    "The evaluation loop is designed to:\n",
    "1. Track memory usage throughout inference\n",
    "2. Measure per-batch and per-sample inference times\n",
    "3. Collect predictions and ground truth labels for performance analysis\n",
    "4. Include sanity checks to ensure data integrity\n",
    "\n",
    "Using `torch.no_grad()` and `model.eval()` ensures:\n",
    "1. No gradient computation, reducing memory usage\n",
    "2. Batch normalization and dropout are in evaluation mode\n",
    "3. The model operates in its most efficient inference configuration"
   ]
  },
  {
   "cell_type": "code",
   "execution_count": 23,
   "id": "0362800b",
   "metadata": {},
   "outputs": [
    {
     "name": "stdout",
     "output_type": "stream",
     "text": [
      "\n",
      "Evaluation Results:\n",
      "Accuracy: 0.9787\n",
      "Precision: 0.9795\n",
      "Recall: 0.9787\n",
      "F1 Score: 0.9787\n"
     ]
    }
   ],
   "source": [
    "# Calculate metrics if counts match\n",
    "if len(all_preds) == len(all_labels):\n",
    "    accuracy = accuracy_score(all_labels, all_preds)\n",
    "    precision, recall, f1, _ = precision_recall_fscore_support(all_labels, all_preds, average='weighted')\n",
    "    \n",
    "    print(\"\\nEvaluation Results:\")\n",
    "    print(f\"Accuracy: {accuracy:.4f}\")\n",
    "    print(f\"Precision: {precision:.4f}\")\n",
    "    print(f\"Recall: {recall:.4f}\")\n",
    "    print(f\"F1 Score: {f1:.4f}\")\n",
    "else:\n",
    "    print(\"ERROR: Cannot calculate metrics - prediction and label counts don't match\")"
   ]
  },
  {
   "cell_type": "markdown",
   "id": "e4a643f8",
   "metadata": {},
   "source": [
    "I calculate multiple performance metrics because:\n",
    "1. Accuracy alone can be misleading, especially with imbalanced datasets\n",
    "2. Precision and recall provide insight into different types of errors\n",
    "3. F1 score balances precision and recall in a single metric\n",
    "4. These metrics together provide a comprehensive view of model performance"
   ]
  },
  {
   "cell_type": "code",
   "execution_count": 24,
   "id": "a14684ab",
   "metadata": {},
   "outputs": [
    {
     "name": "stdout",
     "output_type": "stream",
     "text": [
      "\n",
      "Confusion Matrix:\n",
      "[[20  1]\n",
      " [ 0 26]]\n"
     ]
    }
   ],
   "source": [
    "# Create confusion matrix\n",
    "cm = np.zeros((2, 2), dtype=int)\n",
    "for true_label, pred_label in zip(all_labels, all_preds):\n",
    "    cm[true_label, pred_label] += 1\n",
    "\n",
    "print(\"\\nConfusion Matrix:\")\n",
    "print(cm)"
   ]
  },
  {
   "cell_type": "markdown",
   "id": "ab3354e4",
   "metadata": {},
   "source": [
    "The confusion matrix provides a detailed breakdown of correct and incorrect predictions by class, which is essential for understanding the model's behavior on different types of news articles.\n",
    "\n",
    "## 6. Analyzing Resource Consumption\n",
    "\n",
    "Since the target is edge deployment, I focus on CPU-specific metrics like memory usage and inference time:"
   ]
  },
  {
   "cell_type": "code",
   "execution_count": 25,
   "id": "2ea45f9e",
   "metadata": {},
   "outputs": [
    {
     "name": "stdout",
     "output_type": "stream",
     "text": [
      "\n",
      "Resource Consumption Analysis for Edge Deployment:\n",
      "Total evaluation time: 0.74 seconds\n",
      "Average inference time per batch: 0.2470 seconds\n",
      "Average inference time per sample: 15.77 ms\n",
      "Peak memory usage: 1044.44 MB\n"
     ]
    }
   ],
   "source": [
    "# Resource consumption analysis\n",
    "print(\"\\nResource Consumption Analysis for Edge Deployment:\")\n",
    "print(f\"Total evaluation time: {total_inference_time:.2f} seconds\")\n",
    "print(f\"Average inference time per batch: {np.mean(inference_times):.4f} seconds\")\n",
    "print(f\"Average inference time per sample: {total_inference_time/sample_count*1000:.2f} ms\")\n",
    "print(f\"Peak memory usage: {max(memory_usages):.2f} MB\")"
   ]
  },
  {
   "cell_type": "markdown",
   "id": "151fca1d",
   "metadata": {},
   "source": [
    "These metrics are crucial for edge deployment because:\n",
    "1. Inference time per sample determines if the model can run in real-time\n",
    "2. Peak memory usage must fit within device constraints\n",
    "3. Batch processing efficiency affects throughput in multi-user scenarios\n",
    "4. TinyBERT should demonstrate significant advantages in these metrics compared to larger models"
   ]
  },
  {
   "cell_type": "code",
   "execution_count": 26,
   "id": "2f78bdf7",
   "metadata": {},
   "outputs": [
    {
     "data": {
      "text/plain": [
       "Text(0, 0.5, 'Time (seconds)')"
      ]
     },
     "execution_count": 26,
     "metadata": {},
     "output_type": "execute_result"
    },
    {
     "data": {
      "image/png": "[encoded data removed]",
      "text/plain": [
       "<Figure size 1200x800 with 1 Axes>"
      ]
     },
     "metadata": {},
     "output_type": "display_data"
    }
   ],
   "source": [
    "# Plot resource usage\n",
    "plt.figure(figsize=(12, 8))\n",
    "\n",
    "plt.subplot(2, 1, 1)\n",
    "plt.plot(inference_times)\n",
    "plt.title('Inference Time per Batch (CPU)')\n",
    "plt.xlabel('Batch')\n",
    "plt.ylabel('Time (seconds)')"
   ]
  },
  {
   "cell_type": "code",
   "execution_count": 27,
   "id": "73a12ca1",
   "metadata": {},
   "outputs": [
    {
     "data": {
      "text/plain": [
       "<matplotlib.legend.Legend at 0x33aa015b0>"
      ]
     },
     "execution_count": 27,
     "metadata": {},
     "output_type": "execute_result"
    },
    {
     "data": {
      "image/png": "[encoded data removed]",
      "text/plain": [
       "<Figure size 640x480 with 1 Axes>"
      ]
     },
     "metadata": {},
     "output_type": "display_data"
    }
   ],
   "source": [
    "plt.subplot(2, 1, 2)\n",
    "plt.plot(memory_usages, label='System Memory')\n",
    "plt.title('Memory Usage During Evaluation (CPU)')\n",
    "plt.xlabel('Batch')\n",
    "plt.ylabel('Memory (MB)')\n",
    "plt.legend()"
   ]
  },
  {
   "cell_type": "code",
   "execution_count": 28,
   "id": "3c4471af",
   "metadata": {},
   "outputs": [
    {
     "data": {
      "text/plain": [
       "<Figure size 640x480 with 0 Axes>"
      ]
     },
     "metadata": {},
     "output_type": "display_data"
    }
   ],
   "source": [
    "plt.tight_layout()\n",
    "plt.savefig('tinybert_resource_usage_cpu.png')\n",
    "plt.show()"
   ]
  },
  {
   "cell_type": "markdown",
   "id": "83ac89ab",
   "metadata": {},
   "source": [
    "Visualizing resource usage over time reveals:\n",
    "1. Any warming-up effects in the first few batches\n",
    "2. Memory growth patterns that might indicate leaks\n",
    "3. Variability in inference time across batches\n",
    "4. Overall stability of the model during extended operation\n",
    "\n",
    "## 7. Detailed Classification Analysis\n",
    "\n",
    "Finally, I generate a detailed classification report and visualize the confusion matrix:"
   ]
  },
  {
   "cell_type": "code",
   "execution_count": 29,
   "id": "2dca97ff",
   "metadata": {},
   "outputs": [
    {
     "name": "stdout",
     "output_type": "stream",
     "text": [
      "\n",
      "Detailed Classification Report:\n",
      "              precision    recall  f1-score   support\n",
      "\n",
      "   Fake News       1.00      0.95      0.98        21\n",
      "   Real News       0.96      1.00      0.98        26\n",
      "\n",
      "    accuracy                           0.98        47\n",
      "   macro avg       0.98      0.98      0.98        47\n",
      "weighted avg       0.98      0.98      0.98        47\n",
      "\n"
     ]
    }
   ],
   "source": [
    "# Generate classification report\n",
    "print(\"\\nDetailed Classification Report:\")\n",
    "print(classification_report(all_labels, all_preds, target_names=['Fake News', 'Real News']))"
   ]
  },
  {
   "cell_type": "markdown",
   "id": "f00a1549",
   "metadata": {},
   "source": [
    "The classification report provides class-specific metrics that help identify:\n",
    "1. Whether the model performs better on real or fake news\n",
    "2. Any class-specific biases in precision or recall\n",
    "3. The overall balance of the model's performance across classes"
   ]
  },
  {
   "cell_type": "code",
   "execution_count": 30,
   "id": "5cbb3057",
   "metadata": {},
   "outputs": [
    {
     "data": {
      "image/png": "[encoded data removed]",
      "text/plain": [
       "<Figure size 800x600 with 2 Axes>"
      ]
     },
     "metadata": {},
     "output_type": "display_data"
    }
   ],
   "source": [
    "# Plot confusion matrix\n",
    "plt.figure(figsize=(8, 6))\n",
    "sns.heatmap(cm, annot=True, fmt='d', cmap='Blues', xticklabels=['Fake', 'Real'], yticklabels=['Fake', 'Real'])\n",
    "plt.title('Confusion Matrix')\n",
    "plt.xlabel('Predicted Label')\n",
    "plt.ylabel('True Label')\n",
    "plt.savefig('tinybert_confusion_matrix.png')\n",
    "plt.show()"
   ]
  },
  {
   "cell_type": "markdown",
   "id": "aed555d1",
   "metadata": {},
   "source": [
    "Visualizing the confusion matrix makes it easier to:\n",
    "1. Identify patterns in misclassifications\n",
    "2. Understand the distribution of errors\n",
    "3. Communicate results to non-technical stakeholders"
   ]
  },
  {
   "cell_type": "code",
   "execution_count": 31,
   "id": "ed8f298d",
   "metadata": {},
   "outputs": [
    {
     "data": {
      "text/plain": [
       "4385"
      ]
     },
     "execution_count": 31,
     "metadata": {},
     "output_type": "execute_result"
    }
   ],
   "source": [
    "# Free up memory\n",
    "del model\n",
    "gc.collect()"
   ]
  },
  {
   "cell_type": "markdown",
   "id": "cb9f1830",
   "metadata": {},
   "source": [
    "Explicitly freeing memory is good practice in resource-constrained environments and ensures that subsequent evaluations aren't affected by memory fragmentation.\n",
    "\n",
    "## 8. Conclusion and Implications\n",
    "\n",
    "The evaluation of TinyBERT on the ISOT dataset provides critical insights for edge deployment scenarios:\n",
    "\n",
    "### Performance Metrics\n",
    "- The model achieved excellent accuracy (0.9750) on this evaluation set\n",
    "- Precision was 0.9762, recall was 0.9750, and F1 score was 0.9750\n",
    "- The confusion matrix shows that TinyBERT correctly classified 20 out of 21 fake news articles and all 19 real news articles, with only one false positive\n",
    "\n",
    "### Resource Consumption\n",
    "- Model loading time was 2.44 seconds, which is faster than larger models\n",
    "- Average inference time was remarkably low at 17.08 ms per sample, enabling real-time classification even on low-power devices\n",
    "- Peak memory usage was 1045.81 MB, which is significantly lower than larger models like DistilBERT and RoBERTa\n",
    "- The memory usage remained relatively stable during inference, indicating good memory management\n",
    "\n",
    "### Deployment Considerations\n",
    "- TinyBERT's excellent performance combined with its low resource requirements makes it an ideal candidate for edge deployment\n",
    "- The model's fast inference time (17.08 ms per sample) is particularly impressive, enabling real-time classification even on resource-constrained devices\n",
    "- With only one misclassification out of 40 examples, TinyBERT demonstrates that model compression doesn't necessarily come at a significant cost to accuracy\n",
    "- The model's smaller size and faster inference make it suitable for mobile applications and IoT devices where battery life and processing power are limited\n",
    "\n",
    "### Comparative Context\n",
    "When compared to other models in our study:\n",
    "1. TinyBERT offers the best balance of performance and efficiency\n",
    "2. Its inference time is significantly faster than DistilBERT and RoBERTa\n",
    "3. Its memory footprint is lower than other models\n",
    "4. Its accuracy remains competitive despite its smaller size\n",
    "\n",
    "This evaluation demonstrates that TinyBERT offers an excellent balance of performance and efficiency for fake news detection on edge devices. Its combination of high accuracy (97.5%) and extremely fast inference time (17.08 ms per sample) makes it particularly well-suited for deployment in resource-constrained environments where real-time processing is required. The minimal accuracy trade-off compared to larger models is well justified by the significant gains in efficiency and reduced resource requirements."
   ]
  }
 ],
 "metadata": {
  "jupytext": {
   "cell_metadata_filter": "-all",
   "main_language": "python",
   "notebook_metadata_filter": "-all"
  },
  "kernelspec": {
   "display_name": "Python (myenv)",
   "language": "python",
   "name": "myenv"
  },
  "language_info": {
   "codemirror_mode": {
    "name": "ipython",
    "version": 3
   },
   "file_extension": ".py",
   "mimetype": "text/x-python",
   "name": "python",
   "nbconvert_exporter": "python",
   "pygments_lexer": "ipython3",
   "version": "3.12.1"
  }
 },
 "nbformat": 4,
 "nbformat_minor": 5
}
