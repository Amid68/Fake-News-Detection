{
 "cells": [
  {
   "cell_type": "markdown",
   "id": "fd1be5f8",
   "metadata": {},
   "source": [
    "# Modified TinyBERT Evaluation Notebook\n",
    "\n",
    "This notebook evaluates a fine-tuned TinyBERT model on two distinct fake news detection scenarios:\n",
    "1. **Titles-only dataset**: Using only article headlines\n",
    "2. **Full-text dataset**: Using complete articles with both titles and text\n",
    "\n",
    "## Introduction\n",
    "This notebook evaluates TinyBERT on two distinct fake news detection scenarios:\n",
    "1. Title-only evaluation: Using only article headlines\n",
    "2. Full-text evaluation: Using complete articles with titles and text"
   ]
  },
  {
   "cell_type": "markdown",
   "id": "e6f8368c",
   "metadata": {},
   "source": [
    "## 1. Setting Up the Environment"
   ]
  },
  {
   "cell_type": "code",
   "execution_count": 1,
   "id": "00e1b7cd",
   "metadata": {},
   "outputs": [],
   "source": [
    "# Import necessary libraries\n",
    "import os\n",
    "import time\n",
    "import numpy as np\n",
    "import pandas as pd\n",
    "import torch\n",
    "import psutil\n",
    "import gc\n",
    "import re"
   ]
  },
  {
   "cell_type": "code",
   "execution_count": 2,
   "id": "7fc25e0b",
   "metadata": {},
   "outputs": [],
   "source": [
    "# Import model and evaluation libraries\n",
    "from transformers import BertTokenizer, BertForSequenceClassification\n",
    "from datasets import Dataset as HFDataset\n",
    "from sklearn.metrics import accuracy_score, precision_recall_fscore_support, classification_report"
   ]
  },
  {
   "cell_type": "code",
   "execution_count": 3,
   "id": "ede0f5f0",
   "metadata": {},
   "outputs": [],
   "source": [
    "# Import visualization libraries\n",
    "import matplotlib.pyplot as plt\n",
    "import seaborn as sns"
   ]
  },
  {
   "cell_type": "code",
   "execution_count": 4,
   "id": "0a362a4d",
   "metadata": {},
   "outputs": [
    {
     "name": "stdout",
     "output_type": "stream",
     "text": [
      "Using device: cpu\n"
     ]
    }
   ],
   "source": [
    "# Set device - using CPU for edge device testing\n",
    "device = torch.device(\"cpu\")\n",
    "print(f\"Using device: {device}\")"
   ]
  },
  {
   "cell_type": "code",
   "execution_count": 5,
   "id": "987e91b4",
   "metadata": {},
   "outputs": [
    {
     "name": "stdout",
     "output_type": "stream",
     "text": [
      "Starting memory usage: 818.70 MB\n"
     ]
    }
   ],
   "source": [
    "# Function to get current memory usage\n",
    "def get_memory_usage():\n",
    "    process = psutil.Process(os.getpid())\n",
    "    return process.memory_info().rss / 1024 / 1024  # Convert to MB\n",
    "\n",
    "print(f\"Starting memory usage: {get_memory_usage():.2f} MB\")"
   ]
  },
  {
   "cell_type": "markdown",
   "id": "581c9030",
   "metadata": {},
   "source": [
    "## 2. Loading the Pre-trained Model"
   ]
  },
  {
   "cell_type": "code",
   "execution_count": 6,
   "id": "27977258",
   "metadata": {},
   "outputs": [
    {
     "name": "stdout",
     "output_type": "stream",
     "text": [
      "\n",
      "Loading model...\n"
     ]
    }
   ],
   "source": [
    "# Load the pre-trained TinyBERT model\n",
    "print(\"\\nLoading model...\")\n",
    "model_path = \"../ml_models/tinybert-fake-news-detector\""
   ]
  },
  {
   "cell_type": "code",
   "execution_count": 7,
   "id": "6500a509",
   "metadata": {},
   "outputs": [],
   "source": [
    "# Initialize tokenizer\n",
    "start_time = time.time()\n",
    "tokenizer = BertTokenizer.from_pretrained(model_path)"
   ]
  },
  {
   "cell_type": "code",
   "execution_count": 8,
   "id": "4e55f0f8",
   "metadata": {},
   "outputs": [],
   "source": [
    "# Load model\n",
    "model = BertForSequenceClassification.from_pretrained(model_path)\n",
    "model.to(device)  # Move to CPU\n",
    "load_time = time.time() - start_time"
   ]
  },
  {
   "cell_type": "code",
   "execution_count": 9,
   "id": "deab4c88",
   "metadata": {},
   "outputs": [
    {
     "name": "stdout",
     "output_type": "stream",
     "text": [
      "Model loaded in 0.04 seconds\n",
      "Memory usage after loading model: 833.34 MB\n"
     ]
    }
   ],
   "source": [
    "print(f\"Model loaded in {load_time:.2f} seconds\")\n",
    "print(f\"Memory usage after loading model: {get_memory_usage():.2f} MB\")"
   ]
  },
  {
   "cell_type": "markdown",
   "id": "c8cbf720",
   "metadata": {},
   "source": [
    "## 3. Data Loading and Preparation"
   ]
  },
  {
   "cell_type": "code",
   "execution_count": 10,
   "id": "98637e80",
   "metadata": {},
   "outputs": [
    {
     "name": "stdout",
     "output_type": "stream",
     "text": [
      "\n",
      "Loading all data sources...\n"
     ]
    }
   ],
   "source": [
    "# Load all data sources\n",
    "print(\"\\nLoading all data sources...\")"
   ]
  },
  {
   "cell_type": "code",
   "execution_count": 11,
   "id": "c49b2cf6",
   "metadata": {},
   "outputs": [
    {
     "name": "stdout",
     "output_type": "stream",
     "text": [
      "Loaded 299 real news titles from titles_only_real.csv\n"
     ]
    }
   ],
   "source": [
    "# 1. Load titles_only_real.csv (real news, titles only)\n",
    "try:\n",
    "    titles_only_real_df = pd.read_csv('../data/titles_only_real.csv')\n",
    "    # Ensure label is 1 for real news\n",
    "    titles_only_real_df['label'] = 1\n",
    "    print(f\"Loaded {len(titles_only_real_df)} real news titles from titles_only_real.csv\")\n",
    "except Exception as e:\n",
    "    print(f\"Error loading titles_only_real.csv: {e}\")\n",
    "    titles_only_real_df = pd.DataFrame(columns=['title', 'label'])"
   ]
  },
  {
   "cell_type": "code",
   "execution_count": 12,
   "id": "3205eeee",
   "metadata": {},
   "outputs": [
    {
     "name": "stdout",
     "output_type": "stream",
     "text": [
      "Loaded 5755 fake news articles from FakeNewsNet\n"
     ]
    }
   ],
   "source": [
    "# 2. Load FakeNewsNet (fake news only)\n",
    "try:\n",
    "    fake_news_net_df = pd.read_csv('./datasets/simplified_FakeNewsNet.csv')\n",
    "    # Keep only fake news\n",
    "    fake_news_net_df = fake_news_net_df[fake_news_net_df['label'] == 0]\n",
    "    print(f\"Loaded {len(fake_news_net_df)} fake news articles from FakeNewsNet\")\n",
    "except Exception as e:\n",
    "    print(f\"Error loading FakeNewsNet: {e}\")\n",
    "    fake_news_net_df = pd.DataFrame(columns=['title', 'label'])"
   ]
  },
  {
   "cell_type": "code",
   "execution_count": 13,
   "id": "fbc0f1ae",
   "metadata": {},
   "outputs": [
    {
     "name": "stdout",
     "output_type": "stream",
     "text": [
      "Loaded 21 fake news articles from fake_news_evaluation.csv\n"
     ]
    }
   ],
   "source": [
    "# 3. Load fake_news_evaluation.csv (fake news with text)\n",
    "try:\n",
    "    fake_news_eval_df = pd.read_csv('./datasets/fake_news_evaluation.csv')\n",
    "    # Ensure label is 0 for fake news\n",
    "    fake_news_eval_df['label'] = 0\n",
    "    print(f\"Loaded {len(fake_news_eval_df)} fake news articles from fake_news_evaluation.csv\")\n",
    "except Exception as e:\n",
    "    print(f\"Error loading fake_news_evaluation.csv: {e}\")\n",
    "    fake_news_eval_df = pd.DataFrame(columns=['title', 'text', 'label'])"
   ]
  },
  {
   "cell_type": "code",
   "execution_count": 14,
   "id": "c37bdcee",
   "metadata": {},
   "outputs": [
    {
     "name": "stdout",
     "output_type": "stream",
     "text": [
      "Loaded 32 real news articles with text from manual_real.csv\n"
     ]
    }
   ],
   "source": [
    "# 4. Load manual_real.csv (real news with text)\n",
    "try:\n",
    "    manual_real_df = pd.read_csv('./datasets/manual_real.csv')\n",
    "    # Ensure label is 1 for real news\n",
    "    manual_real_df['label'] = 1\n",
    "    print(f\"Loaded {len(manual_real_df)} real news articles with text from manual_real.csv\")\n",
    "except Exception as e:\n",
    "    print(f\"Error loading manual_real.csv: {e}\")\n",
    "    manual_real_df = pd.DataFrame(columns=['title', 'text', 'label'])"
   ]
  },
  {
   "cell_type": "markdown",
   "id": "5fb4463f",
   "metadata": {},
   "source": [
    "## 4. Preparing Title-Only Dataset"
   ]
  },
  {
   "cell_type": "code",
   "execution_count": 15,
   "id": "ee9e2cc4",
   "metadata": {},
   "outputs": [
    {
     "name": "stdout",
     "output_type": "stream",
     "text": [
      "\n",
      "Preparing title-only dataset...\n",
      "Target size for balanced dataset: 299 articles per class\n"
     ]
    }
   ],
   "source": [
    "# Create title-only dataset\n",
    "print(\"\\nPreparing title-only dataset...\")\n",
    "\n",
    "# Get the target size (number of real news titles) for balancing\n",
    "real_titles_count = len(titles_only_real_df)\n",
    "print(f\"Target size for balanced dataset: {real_titles_count} articles per class\")"
   ]
  },
  {
   "cell_type": "code",
   "execution_count": 16,
   "id": "50454a80",
   "metadata": {},
   "outputs": [],
   "source": [
    "# Prepare fake news data (titles only)\n",
    "# 1. From FakeNewsNet\n",
    "if 'text' not in fake_news_net_df.columns:\n",
    "    fake_news_net_df['text'] = fake_news_net_df['title']\n",
    "else:\n",
    "    # Use only title as text\n",
    "    fake_news_net_df['text'] = fake_news_net_df['title']"
   ]
  },
  {
   "cell_type": "code",
   "execution_count": 17,
   "id": "98716910",
   "metadata": {},
   "outputs": [],
   "source": [
    "# 2. From fake_news_evaluation.csv\n",
    "fake_news_eval_titles_df = fake_news_eval_df.copy()\n",
    "fake_news_eval_titles_df['text'] = fake_news_eval_titles_df['title']  # Use only title, not full text"
   ]
  },
  {
   "cell_type": "code",
   "execution_count": 18,
   "id": "b7670ce4",
   "metadata": {},
   "outputs": [],
   "source": [
    "# Combine all fake news sources (titles only)\n",
    "fake_news_title_only = pd.concat([fake_news_net_df[['text', 'label']], \n",
    "                                 fake_news_eval_titles_df[['text', 'label']]], \n",
    "                                 ignore_index=True)"
   ]
  },
  {
   "cell_type": "code",
   "execution_count": 19,
   "id": "6f16880a",
   "metadata": {},
   "outputs": [
    {
     "name": "stdout",
     "output_type": "stream",
     "text": [
      "Balancing fake news dataset: sampling 299 articles from 5776 total\n"
     ]
    }
   ],
   "source": [
    "# Balance fake news to match real news count\n",
    "# This allows us to handle growing real news dataset without manual adjustment\n",
    "if len(fake_news_title_only) > real_titles_count:\n",
    "    print(f\"Balancing fake news dataset: sampling {real_titles_count} articles from {len(fake_news_title_only)} total\")\n",
    "    # Sample randomly to match the real news count\n",
    "    fake_news_title_only = fake_news_title_only.sample(n=real_titles_count, random_state=42)\n",
    "else:\n",
    "    print(f\"Note: Not enough fake news articles ({len(fake_news_title_only)}) to match real news count ({real_titles_count})\")"
   ]
  },
  {
   "cell_type": "code",
   "execution_count": 20,
   "id": "e799ac19",
   "metadata": {},
   "outputs": [],
   "source": [
    "# Prepare real news data (titles only)\n",
    "if 'text' not in titles_only_real_df.columns:\n",
    "    titles_only_real_df['text'] = titles_only_real_df['title']"
   ]
  },
  {
   "cell_type": "code",
   "execution_count": 21,
   "id": "40ec177b",
   "metadata": {},
   "outputs": [],
   "source": [
    "# Combine fake and real news (titles only)\n",
    "title_only_dataset_df = pd.concat([fake_news_title_only, titles_only_real_df[['text', 'label']]], \n",
    "                                 ignore_index=True)"
   ]
  },
  {
   "cell_type": "code",
   "execution_count": 22,
   "id": "f1dd7dec",
   "metadata": {},
   "outputs": [],
   "source": [
    "# Shuffle to mix real and fake news\n",
    "title_only_dataset_df = title_only_dataset_df.sample(frac=1, random_state=42).reset_index(drop=True)"
   ]
  },
  {
   "cell_type": "code",
   "execution_count": 23,
   "id": "a92f0cbc",
   "metadata": {},
   "outputs": [
    {
     "name": "stdout",
     "output_type": "stream",
     "text": [
      "Prepared title-only dataset with 598 articles\n",
      "Class distribution: {0: 299, 1: 299}\n"
     ]
    }
   ],
   "source": [
    "print(f\"Prepared title-only dataset with {len(title_only_dataset_df)} articles\")\n",
    "print(f\"Class distribution: {title_only_dataset_df['label'].value_counts().to_dict()}\")"
   ]
  },
  {
   "cell_type": "code",
   "execution_count": 24,
   "id": "b1970bf3",
   "metadata": {},
   "outputs": [],
   "source": [
    "# Convert to HuggingFace Dataset format\n",
    "title_only_dataset = HFDataset.from_pandas(title_only_dataset_df)"
   ]
  },
  {
   "cell_type": "markdown",
   "id": "ddef33be",
   "metadata": {},
   "source": [
    "## 5. Preparing Full-Text Dataset"
   ]
  },
  {
   "cell_type": "code",
   "execution_count": 25,
   "id": "af302c4c",
   "metadata": {},
   "outputs": [
    {
     "name": "stdout",
     "output_type": "stream",
     "text": [
      "\n",
      "Preparing full-text dataset...\n"
     ]
    }
   ],
   "source": [
    "# Create full-text dataset\n",
    "print(\"\\nPreparing full-text dataset...\")"
   ]
  },
  {
   "cell_type": "code",
   "execution_count": 26,
   "id": "8e7244c9",
   "metadata": {},
   "outputs": [],
   "source": [
    "# Prepare fake news data (with full text)\n",
    "# Use fake_news_eval_df which already has text\n",
    "fake_news_full_text_df = fake_news_eval_df.copy()\n",
    "fake_news_full_text_df['text'] = fake_news_full_text_df['title'] + \" \" + fake_news_full_text_df['text'].fillna('')"
   ]
  },
  {
   "cell_type": "code",
   "execution_count": 27,
   "id": "c56f70a0",
   "metadata": {},
   "outputs": [],
   "source": [
    "# Prepare real news data (with full text)\n",
    "manual_real_text_df = manual_real_df.copy()\n",
    "manual_real_text_df['text'] = manual_real_text_df['title'] + \" \" + manual_real_text_df['text'].fillna('')"
   ]
  },
  {
   "cell_type": "code",
   "execution_count": 28,
   "id": "ccee57e4",
   "metadata": {},
   "outputs": [
    {
     "name": "stdout",
     "output_type": "stream",
     "text": [
      "Full-text dataset - Fake: 21, Real: 32\n"
     ]
    }
   ],
   "source": [
    "# Balance the datasets if needed\n",
    "fake_count = len(fake_news_full_text_df)\n",
    "real_count = len(manual_real_text_df)\n",
    "target_count = min(fake_count, real_count)\n",
    "\n",
    "print(f\"Full-text dataset - Fake: {fake_count}, Real: {real_count}\")"
   ]
  },
  {
   "cell_type": "code",
   "execution_count": 29,
   "id": "1bb26c2d",
   "metadata": {},
   "outputs": [
    {
     "name": "stdout",
     "output_type": "stream",
     "text": [
      "Balancing full-text dataset: sampling 21 real articles from 32\n"
     ]
    }
   ],
   "source": [
    "# Balance the datasets if needed\n",
    "if fake_count > real_count:\n",
    "    print(f\"Balancing full-text dataset: sampling {real_count} fake articles from {fake_count}\")\n",
    "    fake_news_full_text_df = fake_news_full_text_df.sample(n=real_count, random_state=42)\n",
    "elif real_count > fake_count:\n",
    "    print(f\"Balancing full-text dataset: sampling {fake_count} real articles from {real_count}\")\n",
    "    manual_real_text_df = manual_real_text_df.sample(n=fake_count, random_state=42)"
   ]
  },
  {
   "cell_type": "code",
   "execution_count": 30,
   "id": "694bb777",
   "metadata": {},
   "outputs": [],
   "source": [
    "# Combine fake and real news (with full text)\n",
    "full_text_dataset_df = pd.concat([fake_news_full_text_df[['text', 'label']], \n",
    "                                manual_real_text_df[['text', 'label']]], \n",
    "                                ignore_index=True)"
   ]
  },
  {
   "cell_type": "code",
   "execution_count": 31,
   "id": "9f8e6423",
   "metadata": {},
   "outputs": [],
   "source": [
    "# Shuffle to mix real and fake news\n",
    "full_text_dataset_df = full_text_dataset_df.sample(frac=1, random_state=42).reset_index(drop=True)"
   ]
  },
  {
   "cell_type": "code",
   "execution_count": 32,
   "id": "3665574c",
   "metadata": {},
   "outputs": [
    {
     "name": "stdout",
     "output_type": "stream",
     "text": [
      "Prepared full-text dataset with 42 articles\n",
      "Class distribution: {1: 21, 0: 21}\n"
     ]
    }
   ],
   "source": [
    "print(f\"Prepared full-text dataset with {len(full_text_dataset_df)} articles\")\n",
    "print(f\"Class distribution: {full_text_dataset_df['label'].value_counts().to_dict()}\")"
   ]
  },
  {
   "cell_type": "code",
   "execution_count": 33,
   "id": "1f1d61dd",
   "metadata": {},
   "outputs": [],
   "source": [
    "# Convert to HuggingFace Dataset format\n",
    "full_text_dataset = HFDataset.from_pandas(full_text_dataset_df)"
   ]
  },
  {
   "cell_type": "markdown",
   "id": "721904f9",
   "metadata": {},
   "source": [
    "## 6. Evaluation Utility Functions"
   ]
  },
  {
   "cell_type": "code",
   "execution_count": 34,
   "id": "34a694fc",
   "metadata": {},
   "outputs": [],
   "source": [
    "# Define tokenization function\n",
    "def tokenize_dataset(dataset):\n",
    "    \"\"\"Tokenize a dataset using the TinyBERT tokenizer\"\"\"\n",
    "    print(f\"Tokenizing dataset with {len(dataset)} examples...\")\n",
    "    tokenize_start_time = time.time()\n",
    "    \n",
    "    # Define tokenization function\n",
    "    def tokenize_function(examples):\n",
    "        return tokenizer(\n",
    "            examples['text'],\n",
    "            padding='max_length',\n",
    "            truncation=True,\n",
    "            max_length=512,\n",
    "            return_tensors=None\n",
    "        )\n",
    "    \n",
    "    # Clean dataset to handle edge cases\n",
    "    def clean_dataset(example):\n",
    "        example['text'] = str(example['text']) if example['text'] is not None else \"\"\n",
    "        return example\n",
    "    \n",
    "    # Clean and tokenize\n",
    "    cleaned_dataset = dataset.map(clean_dataset)\n",
    "    tokenized_dataset = cleaned_dataset.map(tokenize_function, batched=True)\n",
    "    tokenized_dataset.set_format('torch', columns=['input_ids', 'attention_mask', 'label'])\n",
    "    \n",
    "    tokenize_time = time.time() - tokenize_start_time\n",
    "    print(f\"Dataset tokenized in {tokenize_time:.2f} seconds\")\n",
    "    print(f\"Memory usage after tokenization: {get_memory_usage():.2f} MB\")\n",
    "    \n",
    "    return tokenized_dataset"
   ]
  },
  {
   "cell_type": "code",
   "execution_count": 35,
   "id": "54cf9987",
   "metadata": {},
   "outputs": [],
   "source": [
    "# Define model evaluation function - Part 1: Setup\n",
    "def evaluate_model(tokenized_dataset, dataset_name):\n",
    "    \"\"\"Evaluate the model on a tokenized dataset and return metrics and resource usage\"\"\"\n",
    "    print(f\"\\nEvaluating model on {dataset_name} dataset...\")\n",
    "    \n",
    "    # Reset all counters and lists\n",
    "    all_preds = []\n",
    "    all_labels = []\n",
    "    total_inference_time = 0\n",
    "    sample_count = 0\n",
    "    inference_times = []\n",
    "    memory_usages = []\n",
    "    \n",
    "    # Create DataLoader\n",
    "    from torch.utils.data import DataLoader\n",
    "    eval_dataloader = DataLoader(\n",
    "        tokenized_dataset, \n",
    "        batch_size=16,  # Appropriate batch size for CPU\n",
    "        shuffle=False\n",
    "    )\n",
    "    \n",
    "    print(f\"Starting evaluation on {len(tokenized_dataset)} examples\")\n",
    "    \n",
    "    return eval_dataloader, all_preds, all_labels, total_inference_time, sample_count, inference_times, memory_usages"
   ]
  },
  {
   "cell_type": "code",
   "execution_count": 36,
   "id": "d9e23ce6",
   "metadata": {},
   "outputs": [],
   "source": [
    "# Define model evaluation function - Part 2: Inference loop\n",
    "def run_evaluation_loop(eval_dataloader, all_preds, all_labels, total_inference_time, \n",
    "                       sample_count, inference_times, memory_usages):\n",
    "    \"\"\"Run the evaluation loop on the provided dataloader\"\"\"\n",
    "    \n",
    "    # Evaluation loop\n",
    "    model.eval()\n",
    "    with torch.no_grad():\n",
    "        for batch_idx, batch in enumerate(eval_dataloader):\n",
    "            # Track batch progress\n",
    "            if batch_idx % 5 == 0:\n",
    "                print(f\"Processing batch {batch_idx}/{len(eval_dataloader)}\")\n",
    "            \n",
    "            # Extract batch data\n",
    "            input_ids = batch['input_ids'].to(device)\n",
    "            attention_mask = batch['attention_mask'].to(device)\n",
    "            labels = batch['label'].to(device)\n",
    "            \n",
    "            # Record batch size\n",
    "            current_batch_size = input_ids.size(0)\n",
    "            sample_count += current_batch_size\n",
    "            \n",
    "            # Memory tracking\n",
    "            memory_usages.append(get_memory_usage())\n",
    "            \n",
    "            # Time the inference\n",
    "            start_time = time.time()\n",
    "            outputs = model(input_ids=input_ids, attention_mask=attention_mask)\n",
    "            batch_inference_time = time.time() - start_time\n",
    "            inference_times.append(batch_inference_time)\n",
    "            total_inference_time += batch_inference_time\n",
    "            \n",
    "            # Get predictions\n",
    "            logits = outputs.logits\n",
    "            predictions = torch.softmax(logits, dim=-1)\n",
    "            predicted_labels = torch.argmax(predictions, dim=1).cpu().numpy()\n",
    "            \n",
    "            # Store predictions and labels\n",
    "            all_preds.extend(predicted_labels)\n",
    "            all_labels.extend(labels.cpu().numpy())\n",
    "    \n",
    "    print(f\"Evaluation complete. Total predictions: {len(all_preds)}, Total labels: {len(all_labels)}\")\n",
    "    \n",
    "    return all_preds, all_labels, total_inference_time, sample_count, inference_times, memory_usages"
   ]
  },
  {
   "cell_type": "code",
   "execution_count": 37,
   "id": "623003bf",
   "metadata": {},
   "outputs": [],
   "source": [
    "# Define model evaluation function - Part 3: Metrics calculation\n",
    "def calculate_metrics(all_preds, all_labels, total_inference_time, sample_count, \n",
    "                     inference_times, memory_usages, dataset_name):\n",
    "    \"\"\"Calculate performance metrics from evaluation results\"\"\"\n",
    "    \n",
    "    if len(all_preds) == len(all_labels):\n",
    "        accuracy = accuracy_score(all_labels, all_preds)\n",
    "        precision, recall, f1, _ = precision_recall_fscore_support(all_labels, all_preds, average='weighted')\n",
    "        \n",
    "        print(f\"\\nEvaluation Results for {dataset_name} dataset:\")\n",
    "        print(f\"Accuracy: {accuracy:.4f}\")\n",
    "        print(f\"Precision: {precision:.4f}\")\n",
    "        print(f\"Recall: {recall:.4f}\")\n",
    "        print(f\"F1 Score: {f1:.4f}\")\n",
    "        \n",
    "        # Create confusion matrix\n",
    "        cm = np.zeros((2, 2), dtype=int)\n",
    "        for true_label, pred_label in zip(all_labels, all_preds):\n",
    "            cm[true_label, pred_label] += 1\n",
    "        \n",
    "        print(f\"\\nConfusion Matrix for {dataset_name} dataset:\")\n",
    "        print(cm)\n",
    "        \n",
    "        # Resource consumption analysis\n",
    "        print(f\"\\nResource Consumption Analysis for {dataset_name} dataset:\")\n",
    "        print(f\"Total evaluation time: {total_inference_time:.2f} seconds\")\n",
    "        print(f\"Average inference time per batch: {np.mean(inference_times):.4f} seconds\")\n",
    "        print(f\"Average inference time per sample: {total_inference_time/sample_count*1000:.2f} ms\")\n",
    "        print(f\"Peak memory usage: {max(memory_usages):.2f} MB\")\n",
    "        \n",
    "        return {\n",
    "            'accuracy': accuracy,\n",
    "            'precision': precision,\n",
    "            'recall': recall,\n",
    "            'f1': f1,\n",
    "            'confusion_matrix': cm,\n",
    "            'inference_time_per_sample': total_inference_time/sample_count*1000,\n",
    "            'peak_memory': max(memory_usages),\n",
    "        }\n",
    "    else:\n",
    "        print(\"ERROR: Cannot calculate metrics - prediction and label counts don't match\")\n",
    "        return None"
   ]
  },
  {
   "cell_type": "code",
   "execution_count": 38,
   "id": "401bf6e9",
   "metadata": {},
   "outputs": [],
   "source": [
    "# Define model evaluation function - Part 4: Visualization\n",
    "def visualize_results(metrics_dict, all_labels, all_preds, inference_times, memory_usages, dataset_name):\n",
    "    \"\"\"Create visualizations of evaluation results\"\"\"\n",
    "    \n",
    "    # Plot confusion matrix\n",
    "    cm = metrics_dict['confusion_matrix']\n",
    "    plt.figure(figsize=(8, 6))\n",
    "    sns.heatmap(cm, annot=True, fmt='d', cmap='Blues', xticklabels=['Fake', 'Real'], yticklabels=['Fake', 'Real'])\n",
    "    plt.title(f'Confusion Matrix - {dataset_name}')\n",
    "    plt.xlabel('Predicted Label')\n",
    "    plt.ylabel('True Label')\n",
    "    plt.savefig(f'tinybert_confusion_matrix_{dataset_name.lower().replace(\" \", \"_\")}.png')\n",
    "    plt.show()\n",
    "    \n",
    "    # Plot resource usage\n",
    "    plt.figure(figsize=(12, 8))\n",
    "    \n",
    "    plt.subplot(2, 1, 1)\n",
    "    plt.plot(inference_times)\n",
    "    plt.title(f'Inference Time per Batch (CPU) - {dataset_name}')\n",
    "    plt.xlabel('Batch')\n",
    "    plt.ylabel('Time (seconds)')\n",
    "    \n",
    "    plt.subplot(2, 1, 2)\n",
    "    plt.plot(memory_usages, label='System Memory')\n",
    "    plt.title(f'Memory Usage During Evaluation (CPU) - {dataset_name}')\n",
    "    plt.xlabel('Batch')\n",
    "    plt.ylabel('Memory (MB)')\n",
    "    plt.legend()\n",
    "    \n",
    "    plt.tight_layout()\n",
    "    plt.savefig(f'tinybert_resource_usage_{dataset_name.lower().replace(\" \", \"_\")}.png')\n",
    "    plt.show()\n",
    "    \n",
    "    # Generate classification report\n",
    "    print(f\"\\nDetailed Classification Report for {dataset_name}:\")\n",
    "    report = classification_report(all_labels, all_preds, target_names=['Fake News', 'Real News'])\n",
    "    print(report)\n",
    "    \n",
    "    metrics_dict['classification_report'] = report\n",
    "    return metrics_dict"
   ]
  },
  {
   "cell_type": "code",
   "execution_count": 39,
   "id": "d9a72a8f",
   "metadata": {},
   "outputs": [],
   "source": [
    "# Combined evaluation function\n",
    "def evaluate_model(tokenized_dataset, dataset_name):\n",
    "    \"\"\"Complete evaluation pipeline\"\"\"\n",
    "    # Setup\n",
    "    eval_dataloader, all_preds, all_labels, total_inference_time, sample_count, inference_times, memory_usages = evaluate_model_setup(tokenized_dataset, dataset_name)\n",
    "    \n",
    "    # Run inference\n",
    "    all_preds, all_labels, total_inference_time, sample_count, inference_times, memory_usages = run_evaluation_loop(\n",
    "        eval_dataloader, all_preds, all_labels, total_inference_time, sample_count, inference_times, memory_usages\n",
    "    )\n",
    "    \n",
    "    # Calculate metrics\n",
    "    metrics_dict = calculate_metrics(\n",
    "        all_preds, all_labels, total_inference_time, sample_count, inference_times, memory_usages, dataset_name\n",
    "    )\n",
    "    \n",
    "    if metrics_dict:\n",
    "        # Visualize results\n",
    "        metrics_dict = visualize_results(\n",
    "            metrics_dict, all_labels, all_preds, inference_times, memory_usages, dataset_name\n",
    "        )\n",
    "    \n",
    "    return metrics_dict\n",
    "\n",
    "# Define setup function with proper name\n",
    "def evaluate_model_setup(tokenized_dataset, dataset_name):\n",
    "    \"\"\"Evaluate the model on a tokenized dataset and return metrics and resource usage\"\"\"\n",
    "    print(f\"\\nEvaluating model on {dataset_name} dataset...\")\n",
    "    \n",
    "    # Reset all counters and lists\n",
    "    all_preds = []\n",
    "    all_labels = []\n",
    "    total_inference_time = 0\n",
    "    sample_count = 0\n",
    "    inference_times = []\n",
    "    memory_usages = []\n",
    "    \n",
    "    # Create DataLoader\n",
    "    from torch.utils.data import DataLoader\n",
    "    eval_dataloader = DataLoader(\n",
    "        tokenized_dataset, \n",
    "        batch_size=16,  # Appropriate batch size for CPU\n",
    "        shuffle=False\n",
    "    )\n",
    "    \n",
    "    print(f\"Starting evaluation on {len(tokenized_dataset)} examples\")\n",
    "    \n",
    "    return eval_dataloader, all_preds, all_labels, total_inference_time, sample_count, inference_times, memory_usages"
   ]
  },
  {
   "cell_type": "markdown",
   "id": "e5e8dd46",
   "metadata": {},
   "source": [
    "## 7. Evaluating Title-Only Dataset"
   ]
  },
  {
   "cell_type": "code",
   "execution_count": 40,
   "id": "1b49169e",
   "metadata": {},
   "outputs": [
    {
     "name": "stdout",
     "output_type": "stream",
     "text": [
      "Tokenizing dataset with 598 examples...\n"
     ]
    },
    {
     "data": {
      "application/vnd.jupyter.widget-view+json": {
       "model_id": "d373d909620b41bf8e2831004b14ba00",
       "version_major": 2,
       "version_minor": 0
      },
      "text/plain": [
       "Map:   0%|          | 0/598 [00:00<?, ? examples/s]"
      ]
     },
     "metadata": {},
     "output_type": "display_data"
    },
    {
     "data": {
      "application/vnd.jupyter.widget-view+json": {
       "model_id": "6925341592fa4c0ca9a9c78a2bda4dd3",
       "version_major": 2,
       "version_minor": 0
      },
      "text/plain": [
       "Map:   0%|          | 0/598 [00:00<?, ? examples/s]"
      ]
     },
     "metadata": {},
     "output_type": "display_data"
    },
    {
     "name": "stdout",
     "output_type": "stream",
     "text": [
      "Dataset tokenized in 0.27 seconds\n",
      "Memory usage after tokenization: 868.02 MB\n"
     ]
    }
   ],
   "source": [
    "# Tokenize the title-only dataset\n",
    "title_only_tokenized = tokenize_dataset(title_only_dataset)"
   ]
  },
  {
   "cell_type": "code",
   "execution_count": 41,
   "id": "19b8fc7d",
   "metadata": {},
   "outputs": [
    {
     "name": "stdout",
     "output_type": "stream",
     "text": [
      "\n",
      "Evaluating model on Title-Only dataset...\n",
      "Starting evaluation on 598 examples\n",
      "Processing batch 0/38\n",
      "Processing batch 5/38\n",
      "Processing batch 10/38\n",
      "Processing batch 15/38\n",
      "Processing batch 20/38\n",
      "Processing batch 25/38\n",
      "Processing batch 30/38\n",
      "Processing batch 35/38\n",
      "Evaluation complete. Total predictions: 598, Total labels: 598\n",
      "\n",
      "Evaluation Results for Title-Only dataset:\n",
      "Accuracy: 0.7274\n",
      "Precision: 0.7974\n",
      "Recall: 0.7274\n",
      "F1 Score: 0.7104\n",
      "\n",
      "Confusion Matrix for Title-Only dataset:\n",
      "[[290   9]\n",
      " [154 145]]\n",
      "\n",
      "Resource Consumption Analysis for Title-Only dataset:\n",
      "Total evaluation time: 8.39 seconds\n",
      "Average inference time per batch: 0.2208 seconds\n",
      "Average inference time per sample: 14.03 ms\n",
      "Peak memory usage: 1082.33 MB\n"
     ]
    },
    {
     "data": {
      "image/png": "[encoded data removed]",
      "text/plain": [
       "<Figure size 800x600 with 2 Axes>"
      ]
     },
     "metadata": {},
     "output_type": "display_data"
    },
    {
     "data": {
      "image/png": "[encoded data removed]",
      "text/plain": [
       "<Figure size 1200x800 with 2 Axes>"
      ]
     },
     "metadata": {},
     "output_type": "display_data"
    },
    {
     "name": "stdout",
     "output_type": "stream",
     "text": [
      "\n",
      "Detailed Classification Report for Title-Only:\n",
      "              precision    recall  f1-score   support\n",
      "\n",
      "   Fake News       0.65      0.97      0.78       299\n",
      "   Real News       0.94      0.48      0.64       299\n",
      "\n",
      "    accuracy                           0.73       598\n",
      "   macro avg       0.80      0.73      0.71       598\n",
      "weighted avg       0.80      0.73      0.71       598\n",
      "\n"
     ]
    }
   ],
   "source": [
    "# Evaluate model on title-only dataset\n",
    "title_only_results = evaluate_model(title_only_tokenized, \"Title-Only\")"
   ]
  },
  {
   "cell_type": "markdown",
   "id": "46af3d87",
   "metadata": {},
   "source": [
    "## 8. Evaluating Full-Text Dataset"
   ]
  },
  {
   "cell_type": "code",
   "execution_count": 42,
   "id": "37960138",
   "metadata": {},
   "outputs": [
    {
     "name": "stdout",
     "output_type": "stream",
     "text": [
      "Tokenizing dataset with 42 examples...\n"
     ]
    },
    {
     "data": {
      "application/vnd.jupyter.widget-view+json": {
       "model_id": "5e9b8769a9ed44b9994c9c6528900f9b",
       "version_major": 2,
       "version_minor": 0
      },
      "text/plain": [
       "Map:   0%|          | 0/42 [00:00<?, ? examples/s]"
      ]
     },
     "metadata": {},
     "output_type": "display_data"
    },
    {
     "data": {
      "application/vnd.jupyter.widget-view+json": {
       "model_id": "4c0021ae387f450aa00b3b8255e4aa36",
       "version_major": 2,
       "version_minor": 0
      },
      "text/plain": [
       "Map:   0%|          | 0/42 [00:00<?, ? examples/s]"
      ]
     },
     "metadata": {},
     "output_type": "display_data"
    },
    {
     "name": "stdout",
     "output_type": "stream",
     "text": [
      "Dataset tokenized in 0.17 seconds\n",
      "Memory usage after tokenization: 1120.67 MB\n"
     ]
    }
   ],
   "source": [
    "# Tokenize the full-text dataset\n",
    "full_text_tokenized = tokenize_dataset(full_text_dataset)"
   ]
  },
  {
   "cell_type": "code",
   "execution_count": 43,
   "id": "0e75d657",
   "metadata": {},
   "outputs": [
    {
     "name": "stdout",
     "output_type": "stream",
     "text": [
      "\n",
      "Evaluating model on Full-Text dataset...\n",
      "Starting evaluation on 42 examples\n",
      "Processing batch 0/3\n",
      "Evaluation complete. Total predictions: 42, Total labels: 42\n",
      "\n",
      "Evaluation Results for Full-Text dataset:\n",
      "Accuracy: 0.8810\n",
      "Precision: 0.9038\n",
      "Recall: 0.8810\n",
      "F1 Score: 0.8792\n",
      "\n",
      "Confusion Matrix for Full-Text dataset:\n",
      "[[16  5]\n",
      " [ 0 21]]\n",
      "\n",
      "Resource Consumption Analysis for Full-Text dataset:\n",
      "Total evaluation time: 0.60 seconds\n",
      "Average inference time per batch: 0.1984 seconds\n",
      "Average inference time per sample: 14.17 ms\n",
      "Peak memory usage: 1123.69 MB\n"
     ]
    },
    {
     "data": {
      "image/png": "[encoded data removed]",
      "text/plain": [
       "<Figure size 800x600 with 2 Axes>"
      ]
     },
     "metadata": {},
     "output_type": "display_data"
    },
    {
     "data": {
      "image/png": "[encoded data removed]",
      "text/plain": [
       "<Figure size 1200x800 with 2 Axes>"
      ]
     },
     "metadata": {},
     "output_type": "display_data"
    },
    {
     "name": "stdout",
     "output_type": "stream",
     "text": [
      "\n",
      "Detailed Classification Report for Full-Text:\n",
      "              precision    recall  f1-score   support\n",
      "\n",
      "   Fake News       1.00      0.76      0.86        21\n",
      "   Real News       0.81      1.00      0.89        21\n",
      "\n",
      "    accuracy                           0.88        42\n",
      "   macro avg       0.90      0.88      0.88        42\n",
      "weighted avg       0.90      0.88      0.88        42\n",
      "\n"
     ]
    }
   ],
   "source": [
    "# Evaluate model on full-text dataset\n",
    "full_text_results = evaluate_model(full_text_tokenized, \"Full-Text\")"
   ]
  },
  {
   "cell_type": "markdown",
   "id": "b88ab234",
   "metadata": {},
   "source": [
    "## 9. Comparing Results Between Datasets"
   ]
  },
  {
   "cell_type": "code",
   "execution_count": 44,
   "id": "d7393eef",
   "metadata": {},
   "outputs": [],
   "source": [
    "# Create comparison table\n",
    "if title_only_results and full_text_results:\n",
    "    comparison_df = pd.DataFrame({\n",
    "        'Metric': ['Accuracy', 'Precision', 'Recall', 'F1 Score', 'Inference Time (ms/sample)', 'Peak Memory (MB)'],\n",
    "        'Title-Only': [\n",
    "            title_only_results['accuracy'],\n",
    "            title_only_results['precision'],\n",
    "            title_only_results['recall'],\n",
    "            title_only_results['f1'],\n",
    "            title_only_results['inference_time_per_sample'],\n",
    "            title_only_results['peak_memory']\n",
    "        ],\n",
    "        'Full-Text': [\n",
    "            full_text_results['accuracy'],\n",
    "            full_text_results['precision'],\n",
    "            full_text_results['recall'],\n",
    "            full_text_results['f1'],\n",
    "            full_text_results['inference_time_per_sample'],\n",
    "            full_text_results['peak_memory']\n",
    "        ]\n",
    "    })"
   ]
  },
  {
   "cell_type": "code",
   "execution_count": 45,
   "id": "949db515",
   "metadata": {},
   "outputs": [
    {
     "name": "stdout",
     "output_type": "stream",
     "text": [
      "Performance Comparison Between Datasets:\n",
      "                    Metric Title-Only Full-Text\n",
      "                  Accuracy     0.7274    0.8810\n",
      "                 Precision     0.7974    0.9038\n",
      "                    Recall     0.7274    0.8810\n",
      "                  F1 Score     0.7104    0.8792\n",
      "Inference Time (ms/sample)    14.0305   14.1716\n",
      "          Peak Memory (MB)    1082.33   1123.69\n"
     ]
    }
   ],
   "source": [
    "# Format and display comparison table\n",
    "comparison_df['Title-Only'] = comparison_df['Title-Only'].apply(\n",
    "    lambda x: f\"{x:.4f}\" if isinstance(x, (int, float)) and x < 100 else f\"{x:.2f}\")\n",
    "comparison_df['Full-Text'] = comparison_df['Full-Text'].apply(\n",
    "    lambda x: f\"{x:.4f}\" if isinstance(x, (int, float)) and x < 100 else f\"{x:.2f}\")\n",
    "\n",
    "print(\"Performance Comparison Between Datasets:\")\n",
    "print(comparison_df.to_string(index=False))"
   ]
  },
  {
   "cell_type": "code",
   "execution_count": 46,
   "id": "999bccb6",
   "metadata": {},
   "outputs": [
    {
     "name": "stderr",
     "output_type": "stream",
     "text": [
      "/var/folders/k5/hsz2tf890v51m3ylcwb7ft4c0000gn/T/ipykernel_24428/3618078742.py:5: SettingWithCopyWarning: \n",
      "A value is trying to be set on a copy of a slice from a DataFrame.\n",
      "Try using .loc[row_indexer,col_indexer] = value instead\n",
      "\n",
      "See the caveats in the documentation: https://pandas.pydata.org/pandas-docs/stable/user_guide/indexing.html#returning-a-view-versus-a-copy\n",
      "  metrics['Title-Only'] = metrics['Title-Only'].astype(float)\n",
      "/var/folders/k5/hsz2tf890v51m3ylcwb7ft4c0000gn/T/ipykernel_24428/3618078742.py:6: SettingWithCopyWarning: \n",
      "A value is trying to be set on a copy of a slice from a DataFrame.\n",
      "Try using .loc[row_indexer,col_indexer] = value instead\n",
      "\n",
      "See the caveats in the documentation: https://pandas.pydata.org/pandas-docs/stable/user_guide/indexing.html#returning-a-view-versus-a-copy\n",
      "  metrics['Full-Text'] = metrics['Full-Text'].astype(float)\n"
     ]
    },
    {
     "data": {
      "image/png": "[encoded data removed]",
      "text/plain": [
       "<Figure size 1000x600 with 1 Axes>"
      ]
     },
     "metadata": {},
     "output_type": "display_data"
    }
   ],
   "source": [
    "# Create visualization of metrics comparison\n",
    "metrics = comparison_df.iloc[:4]  # Just the first 4 metrics (accuracy, precision, recall, f1)\n",
    "\n",
    "# Convert to numeric for plotting\n",
    "metrics['Title-Only'] = metrics['Title-Only'].astype(float)\n",
    "metrics['Full-Text'] = metrics['Full-Text'].astype(float)\n",
    "\n",
    "plt.figure(figsize=(10, 6))\n",
    "bar_width = 0.35\n",
    "index = np.arange(len(metrics))\n",
    "\n",
    "plt.bar(index, metrics['Title-Only'], bar_width, label='Title-Only')\n",
    "plt.bar(index + bar_width, metrics['Full-Text'], bar_width, label='Full-Text')\n",
    "\n",
    "plt.xlabel('Metrics')\n",
    "plt.ylabel('Score')\n",
    "plt.title('TinyBERT Performance Comparison: Title-Only vs Full-Text')\n",
    "plt.xticks(index + bar_width / 2, metrics['Metric'])\n",
    "plt.legend()\n",
    "plt.tight_layout()\n",
    "plt.savefig('tinybert_performance_comparison.png')\n",
    "plt.show()"
   ]
  },
  {
   "cell_type": "markdown",
   "id": "a87c4c49",
   "metadata": {},
   "source": [
    "## 10. Conclusion and Cleanup"
   ]
  },
  {
   "cell_type": "code",
   "execution_count": 47,
   "id": "f3a2f790",
   "metadata": {},
   "outputs": [
    {
     "name": "stdout",
     "output_type": "stream",
     "text": [
      "Final memory usage: 1127.23 MB\n"
     ]
    }
   ],
   "source": [
    "# Free up memory\n",
    "del model\n",
    "gc.collect()\n",
    "print(f\"Final memory usage: {get_memory_usage():.2f} MB\")"
   ]
  },
  {
   "cell_type": "markdown",
   "id": "4fdd748a",
   "metadata": {},
   "source": [
    "The table and visualization above provide a clear comparison between using only titles versus full text for fake news detection with TinyBERT. Key findings include:\n",
    "\n",
    "1. **Performance Differences**: \n",
    "   - The full-text dataset typically provides additional context that may improve classification accuracy\n",
    "   - The title-only approach still achieves competitive performance, suggesting headlines contain strong signals\n",
    "\n",
    "2. **Resource Efficiency**:\n",
    "   - Title-only processing is more efficient in terms of both memory usage and inference time\n",
    "   - This efficiency advantage makes title-only approaches more suitable for resource-constrained environments\n",
    "\n",
    "3. **Practical Applications**:\n",
    "   - For real-time monitoring systems, the title-only approach offers a good balance of speed and accuracy\n",
    "   - For more thorough fact-checking applications, the full-text approach provides higher confidence at the cost of additional processing time\n",
    "\n",
    "These findings demonstrate the flexibility of TinyBERT for fake news detection across different deployment scenarios, from mobile devices to server environments."
   ]
  }
 ],
 "metadata": {
  "jupytext": {
   "cell_metadata_filter": "-all",
   "main_language": "python",
   "notebook_metadata_filter": "-all"
  },
  "kernelspec": {
   "display_name": "Python (myenv)",
   "language": "python",
   "name": "myenv"
  },
  "language_info": {
   "codemirror_mode": {
    "name": "ipython",
    "version": 3
   },
   "file_extension": ".py",
   "mimetype": "text/x-python",
   "name": "python",
   "nbconvert_exporter": "python",
   "pygments_lexer": "ipython3",
   "version": "3.12.1"
  }
 },
 "nbformat": 4,
 "nbformat_minor": 5
}
