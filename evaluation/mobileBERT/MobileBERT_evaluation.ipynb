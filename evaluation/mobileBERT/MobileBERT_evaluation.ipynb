{
 "cells": [
  {
   "cell_type": "markdown",
   "id": "e5023484",
   "metadata": {},
   "source": [
    "# MobileBERT External Dataset Evaluation for Fake News Detection\n",
    "\n",
    "## Introduction\n",
    "\n",
    "In this notebook, I'm going to test my fine-tuned MobileBERT model on completely new datasets to see how well it actually works in the real world. MobileBERT is specifically designed for mobile and edge devices, using a unique architecture that makes it much faster while maintaining competitive accuracy. Unlike DistilBERT which uses knowledge distillation, MobileBERT achieves efficiency through architectural innovations like bottleneck structures and optimized attention mechanisms, making it particularly well-suited for resource-constrained environments.\n",
    "\n",
    "I want to find out several things:\n",
    "\n",
    "1. How well does my model work on external datasets with real news and AI-generated fake news?\n",
    "2. What are the practical costs of running this model on mobile-like hardware, including memory usage and speed?\n",
    "3. What kinds of articles does my model get wrong, and why?\n",
    "4. How does MobileBERT's mobile-optimized architecture perform compared to other efficiency-focused models?\n",
    "\n",
    "The main question I'm trying to answer is whether my trained MobileBERT model can actually handle real-world content that's different from what it saw during training, while maintaining the efficiency characteristics that make it suitable for mobile deployment.\n",
    "\n",
    "## Setting Up the Environment\n",
    "\n",
    "First, I'll import all the libraries I need for this evaluation. These will handle everything from data processing to creating visualizations, with special attention to the performance monitoring tools that are crucial for mobile deployment scenarios."
   ]
  },
  {
   "cell_type": "code",
   "execution_count": 1,
   "id": "8eb4bed0",
   "metadata": {},
   "outputs": [],
   "source": [
    "# Import basic libraries for data manipulation and visualization\n",
    "import pandas as pd\n",
    "import numpy as np\n",
    "import matplotlib.pyplot as plt\n",
    "import seaborn as sns\n",
    "import time\n",
    "import os\n",
    "import psutil\n",
    "import gc"
   ]
  },
  {
   "cell_type": "code",
   "execution_count": 2,
   "id": "0248e496",
   "metadata": {},
   "outputs": [],
   "source": [
    "# Import PyTorch and transformers\n",
    "import torch\n",
    "from torch.utils.data import DataLoader, TensorDataset\n",
    "from transformers import AutoTokenizer, AutoModelForSequenceClassification"
   ]
  },
  {
   "cell_type": "code",
   "execution_count": 3,
   "id": "42d506f4",
   "metadata": {},
   "outputs": [],
   "source": [
    "# Import evaluation metrics\n",
    "from sklearn.metrics import accuracy_score, precision_recall_fscore_support\n",
    "from sklearn.metrics import classification_report, confusion_matrix\n",
    "from sklearn.model_selection import train_test_split"
   ]
  },
  {
   "cell_type": "code",
   "execution_count": 4,
   "id": "78824432",
   "metadata": {},
   "outputs": [],
   "source": [
    "# Improved memory measurement function - crucial for mobile deployment analysis\n",
    "def measure_peak_memory_usage(func, *args, **kwargs):\n",
    "    \"\"\"\n",
    "    Measure peak memory usage during function execution\n",
    "    \n",
    "    This function is particularly important for mobile deployment scenarios\n",
    "    where memory constraints are often the limiting factor for model performance.\n",
    "    \n",
    "    Args:\n",
    "        func: Function to measure\n",
    "        *args, **kwargs: Arguments to pass to the function\n",
    "        \n",
    "    Returns:\n",
    "        Tuple of (function result, peak memory usage in MB)\n",
    "    \"\"\"\n",
    "    # Reset garbage collection and force collection before starting\n",
    "    gc.collect()\n",
    "    \n",
    "    # Start tracking\n",
    "    process = psutil.Process()\n",
    "    start_memory = process.memory_info().rss / (1024 * 1024)\n",
    "    peak_memory = start_memory\n",
    "    \n",
    "    # Define a memory tracking function\n",
    "    def track_peak_memory():\n",
    "        nonlocal peak_memory\n",
    "        current = process.memory_info().rss / (1024 * 1024)\n",
    "        peak_memory = max(peak_memory, current)\n",
    "    \n",
    "    # Set up a timer to periodically check memory\n",
    "    import threading\n",
    "    stop_tracking = False\n",
    "    \n",
    "    def memory_tracker():\n",
    "        while not stop_tracking:\n",
    "            track_peak_memory()\n",
    "            time.sleep(0.1)\n",
    "    \n",
    "    # Start tracking thread\n",
    "    tracking_thread = threading.Thread(target=memory_tracker)\n",
    "    tracking_thread.daemon = True\n",
    "    tracking_thread.start()\n",
    "    \n",
    "    # Run the function\n",
    "    try:\n",
    "        result = func(*args, **kwargs)\n",
    "    finally:\n",
    "        # Stop tracking\n",
    "        stop_tracking = True\n",
    "        tracking_thread.join(timeout=1.0)\n",
    "    \n",
    "    # Calculate memory used\n",
    "    memory_used = peak_memory - start_memory\n",
    "    \n",
    "    return result, memory_used"
   ]
  },
  {
   "cell_type": "code",
   "execution_count": 5,
   "id": "81107552",
   "metadata": {},
   "outputs": [
    {
     "name": "stdout",
     "output_type": "stream",
     "text": [
      "Using device: cpu (simulating mobile device performance)\n"
     ]
    }
   ],
   "source": [
    "# Suppress warnings and set visualization style\n",
    "import warnings\n",
    "warnings.filterwarnings('ignore')\n",
    "\n",
    "# Set consistent visualization style\n",
    "plt.style.use('ggplot')\n",
    "sns.set(font_scale=1.2)\n",
    "plt.rcParams['figure.figsize'] = (10, 6)\n",
    "\n",
    "# Force CPU usage to simulate mobile device performance\n",
    "device = torch.device(\"cpu\")\n",
    "print(f\"Using device: {device} (simulating mobile device performance)\")"
   ]
  },
  {
   "cell_type": "markdown",
   "id": "c9a617f4",
   "metadata": {},
   "source": [
    "## Loading External Datasets\n",
    "\n",
    "Now I'll load my external test datasets. These contain news articles that my model has never seen before, which will give me a realistic picture of how it performs in the wild. This is especially important for MobileBERT since mobile applications often encounter diverse, unpredictable content in real-world usage scenarios."
   ]
  },
  {
   "cell_type": "code",
   "execution_count": 6,
   "id": "08cc1484",
   "metadata": {},
   "outputs": [],
   "source": [
    "# Load external datasets\n",
    "real_df = pd.read_csv('../datasets/manual_real.csv')\n",
    "fake_df = pd.read_csv('../datasets/fake_claude.csv')"
   ]
  },
  {
   "cell_type": "code",
   "execution_count": 7,
   "id": "ab68899a",
   "metadata": {},
   "outputs": [],
   "source": [
    "# Process real news data\n",
    "if 'title' in real_df.columns and 'content' in real_df.columns:\n",
    "    real_df['combined_text'] = real_df['title'] + \" \" + real_df['content']\n",
    "elif 'text' in real_df.columns:\n",
    "    real_df['combined_text'] = real_df['text']\n",
    "real_df['label'] = 0  # Real news\n",
    "\n",
    "# Process fake news data\n",
    "if 'title' in fake_df.columns and 'content' in fake_df.columns:\n",
    "    fake_df['combined_text'] = fake_df['title'] + \" \" + fake_df['content']\n",
    "elif 'text' in fake_df.columns:\n",
    "    fake_df['combined_text'] = fake_df['text']\n",
    "fake_df['label'] = 1  # Fake news"
   ]
  },
  {
   "cell_type": "code",
   "execution_count": 8,
   "id": "06e4a09e",
   "metadata": {},
   "outputs": [
    {
     "name": "stdout",
     "output_type": "stream",
     "text": [
      "External dataset: 858 articles (429 real, 429 fake)\n"
     ]
    }
   ],
   "source": [
    "# Combine external datasets\n",
    "external_df = pd.concat(\n",
    "    [real_df[['combined_text', 'label']], fake_df[['combined_text', 'label']]],\n",
    "    ignore_index=True\n",
    ")\n",
    "X_external = external_df['combined_text']\n",
    "y_external = external_df['label']\n",
    "\n",
    "print(f\"External dataset: {len(external_df)} articles ({len(real_df)} real, {len(fake_df)} fake)\")"
   ]
  },
  {
   "cell_type": "markdown",
   "id": "2f5aeab1",
   "metadata": {},
   "source": [
    "## Loading and Measuring MobileBERT\n",
    "\n",
    "Next, I'll load my trained MobileBERT model and check how much computer resources it actually uses. This is particularly critical for MobileBERT since it was specifically designed for mobile deployment, and understanding its resource characteristics will help me evaluate whether it meets the efficiency goals that motivated its development."
   ]
  },
  {
   "cell_type": "code",
   "execution_count": 9,
   "id": "d2163be0",
   "metadata": {},
   "outputs": [],
   "source": [
    "# Clean up before loading\n",
    "gc.collect()\n",
    "\n",
    "# Measure memory before model loading\n",
    "memory_before = psutil.Process().memory_info().rss / (1024 * 1024)  # MB\n",
    "\n",
    "# Load the MobileBERT model and tokenizer\n",
    "model_path = '../../ml_models/mobilebert_welfake_model'\n",
    "tokenizer = AutoTokenizer.from_pretrained(model_path)\n",
    "model = AutoModelForSequenceClassification.from_pretrained(model_path)\n",
    "model = model.to(device)"
   ]
  },
  {
   "cell_type": "code",
   "execution_count": 10,
   "id": "ac961afd",
   "metadata": {},
   "outputs": [
    {
     "name": "stdout",
     "output_type": "stream",
     "text": [
      "MobileBERT model loaded successfully\n",
      "Number of parameters: 24,582,914\n",
      "Model size: 93.78 MB\n",
      "Memory increase after loading: 430.66 MB\n"
     ]
    }
   ],
   "source": [
    "# Measure memory after model loading\n",
    "memory_after = psutil.Process().memory_info().rss / (1024 * 1024)  # MB\n",
    "model_memory = memory_after - memory_before\n",
    "\n",
    "# Calculate model size from parameters\n",
    "param_size = sum(p.nelement() * p.element_size() for p in model.parameters()) / (1024 * 1024)\n",
    "num_params = sum(p.numel() for p in model.parameters())\n",
    "\n",
    "print(f\"MobileBERT model loaded successfully\")\n",
    "print(f\"Number of parameters: {num_params:,}\")\n",
    "print(f\"Model size: {param_size:.2f} MB\")\n",
    "print(f\"Memory increase after loading: {model_memory:.2f} MB\")"
   ]
  },
  {
   "cell_type": "markdown",
   "id": "5a6811cb",
   "metadata": {},
   "source": [
    "## Preparing Data for Evaluation\n",
    "\n",
    "Before I can test my model, I need to convert my text data into the format that the transformer expects. This involves tokenizing all the text and setting up data loaders. For MobileBERT, this step is particularly important because the model's efficiency gains come partly from how it processes input sequences."
   ]
  },
  {
   "cell_type": "code",
   "execution_count": 11,
   "id": "d270b366",
   "metadata": {},
   "outputs": [],
   "source": [
    "def prepare_data(texts, labels, tokenizer, batch_size=32):\n",
    "    \"\"\"\n",
    "    Tokenize text data and create DataLoader for model input\n",
    "    \n",
    "    For MobileBERT, the tokenization process is similar to other BERT models,\n",
    "    but the model's internal optimizations make it more efficient at processing\n",
    "    the resulting token sequences.\n",
    "    \n",
    "    Args:\n",
    "        texts: List or Series of text samples\n",
    "        labels: List or Series of labels\n",
    "        tokenizer: The tokenizer to use\n",
    "        batch_size: Batch size for DataLoader\n",
    "        \n",
    "    Returns:\n",
    "        DataLoader with tokenized inputs and labels\n",
    "    \"\"\"\n",
    "    # Tokenize the text\n",
    "    encodings = tokenizer(\n",
    "        list(texts),\n",
    "        truncation=True,\n",
    "        padding='max_length',\n",
    "        max_length=512,  # Standard for BERT models\n",
    "        return_tensors='pt'\n",
    "    )\n",
    "    \n",
    "    # Create dataset and dataloader\n",
    "    dataset = TensorDataset(\n",
    "        encodings['input_ids'],\n",
    "        encodings['attention_mask'],\n",
    "        torch.tensor(labels.values if hasattr(labels, 'values') else labels)\n",
    "    )\n",
    "    dataloader = DataLoader(dataset, batch_size=batch_size, shuffle=False)\n",
    "    \n",
    "    return dataloader"
   ]
  },
  {
   "cell_type": "code",
   "execution_count": 12,
   "id": "a2e51e42",
   "metadata": {},
   "outputs": [],
   "source": [
    "# Prepare external dataset\n",
    "external_loader = prepare_data(X_external, y_external, tokenizer)"
   ]
  },
  {
   "cell_type": "markdown",
   "id": "0abd22cb",
   "metadata": {},
   "source": [
    "## Evaluation Function\n",
    "\n",
    "I'll create a function that tests my model and tracks both how accurate it is and how much computer resources it uses. This gives me the full picture of what it would cost to run this in production, which is especially important for MobileBERT since its entire design philosophy centers around efficient deployment."
   ]
  },
  {
   "cell_type": "code",
   "execution_count": 13,
   "id": "77c12bed",
   "metadata": {},
   "outputs": [],
   "source": [
    "def evaluate_model(model, dataloader, dataset_name):\n",
    "    \"\"\"\n",
    "    Evaluate model and measure performance metrics and resource usage\n",
    "    \n",
    "    For MobileBERT evaluation, we pay special attention to efficiency metrics\n",
    "    since this model was specifically designed for mobile and edge deployment.\n",
    "    \n",
    "    Args:\n",
    "        model: The model to evaluate\n",
    "        dataloader: DataLoader with test data\n",
    "        dataset_name: Name of the dataset for reporting\n",
    "        \n",
    "    Returns:\n",
    "        Dictionary with performance metrics and resource usage\n",
    "    \"\"\"\n",
    "    model.eval()\n",
    "    \n",
    "    # Define the prediction function to measure\n",
    "    def make_predictions():\n",
    "        all_preds = []\n",
    "        all_labels = []\n",
    "        \n",
    "        start_time = time.time()\n",
    "        with torch.no_grad():\n",
    "            for batch in dataloader:\n",
    "                input_ids, attention_mask, labels = [b.to(device) for b in batch]\n",
    "                outputs = model(input_ids=input_ids, attention_mask=attention_mask)\n",
    "                preds = torch.argmax(outputs.logits, dim=1)\n",
    "                \n",
    "                all_preds.extend(preds.cpu().numpy())\n",
    "                all_labels.extend(labels.cpu().numpy())\n",
    "        \n",
    "        predict_time = time.time() - start_time\n",
    "        return all_preds, all_labels, predict_time\n",
    "    \n",
    "    # Run predictions with memory measurement\n",
    "    (all_preds, all_labels, predict_time), memory_used = measure_peak_memory_usage(make_predictions)\n",
    "    \n",
    "    # Convert to numpy arrays\n",
    "    all_preds = np.array(all_preds)\n",
    "    all_labels = np.array(all_labels)\n",
    "    \n",
    "    # Calculate metrics\n",
    "    accuracy = accuracy_score(all_labels, all_preds)\n",
    "    precision, recall, f1, _ = precision_recall_fscore_support(\n",
    "        all_labels, all_preds, average='weighted'\n",
    "    )\n",
    "    \n",
    "    # Print results\n",
    "    print(f\"\\nMobileBERT Evaluation on {dataset_name}:\")\n",
    "    print(f\"Accuracy: {accuracy:.4f}\")\n",
    "    print(f\"Precision: {precision:.4f}\")\n",
    "    print(f\"Recall: {recall:.4f}\")\n",
    "    print(f\"F1 Score: {f1:.4f}\")\n",
    "    print(f\"Prediction time: {predict_time:.2f} seconds for {len(all_labels)} samples\")\n",
    "    print(f\"Average prediction time: {predict_time/len(all_labels)*1000:.2f} ms per sample\")\n",
    "    print(f\"Peak memory usage during inference: {memory_used:.2f} MB\")\n",
    "    \n",
    "    # Return results for visualization\n",
    "    return {\n",
    "        'y_pred': all_preds,\n",
    "        'y_true': all_labels,\n",
    "        'accuracy': accuracy,\n",
    "        'precision': precision,\n",
    "        'recall': recall,\n",
    "        'f1': f1,\n",
    "        'predict_time': predict_time,\n",
    "        'samples': len(all_labels),\n",
    "        'memory_used': memory_used\n",
    "    }"
   ]
  },
  {
   "cell_type": "markdown",
   "id": "29a8f679",
   "metadata": {},
   "source": [
    "## Performance on External Datasets\n",
    "\n",
    "Now I'll actually test my MobileBERT model on the external datasets. This is where I find out if my model learned general patterns about fake news, or if it just memorized the specific training data. For MobileBERT, this test is particularly interesting because I want to see if the architectural optimizations that make it mobile-friendly have any impact on its ability to generalize to new content."
   ]
  },
  {
   "cell_type": "code",
   "execution_count": 14,
   "id": "e6ffc10a",
   "metadata": {},
   "outputs": [
    {
     "name": "stdout",
     "output_type": "stream",
     "text": [
      "\n",
      "MobileBERT Evaluation on External Datasets:\n",
      "Accuracy: 0.5629\n",
      "Precision: 0.7579\n",
      "Recall: 0.5629\n",
      "F1 Score: 0.4611\n",
      "Prediction time: 88.68 seconds for 858 samples\n",
      "Average prediction time: 103.36 ms per sample\n",
      "Peak memory usage during inference: 1198.80 MB\n"
     ]
    }
   ],
   "source": [
    "# Evaluate on external datasets\n",
    "external_results = evaluate_model(model, external_loader, \"External Datasets\")"
   ]
  },
  {
   "cell_type": "markdown",
   "id": "dbf25047",
   "metadata": {},
   "source": [
    "### Confusion Matrix for External Data\n",
    "\n",
    "I'll create a confusion matrix to see exactly where my MobileBERT model is making mistakes. This visualization shows me the patterns in how my model gets confused between real and fake news, which will help me understand whether MobileBERT's optimizations affect its decision-making patterns."
   ]
  },
  {
   "cell_type": "code",
   "execution_count": 15,
   "id": "16a4d8d1",
   "metadata": {},
   "outputs": [],
   "source": [
    "# Create and plot confusion matrix\n",
    "def plot_confusion_matrix(y_true, y_pred, title):\n",
    "    \"\"\"\n",
    "    Create and visualize confusion matrix\n",
    "    \n",
    "    Args:\n",
    "        y_true: True labels\n",
    "        y_pred: Predicted labels\n",
    "        title: Plot title\n",
    "    \"\"\"\n",
    "    cm = confusion_matrix(y_true, y_pred)\n",
    "    plt.figure(figsize=(8, 6))\n",
    "    sns.heatmap(cm, annot=True, fmt='d', cmap='Blues',\n",
    "                xticklabels=['Real News', 'Fake News'],\n",
    "                yticklabels=['Real News', 'Fake News'])\n",
    "    plt.title(title)\n",
    "    plt.ylabel('True Label')\n",
    "    plt.xlabel('Predicted Label')\n",
    "    plt.tight_layout()\n",
    "    plt.show()\n",
    "    \n",
    "    # Calculate error rates\n",
    "    tn, fp, fn, tp = cm.ravel()\n",
    "    fpr = fp/(fp+tn)\n",
    "    fnr = fn/(fn+tp)\n",
    "    print(f\"False Positive Rate: {fpr:.4f} ({fp} real news articles misclassified as fake)\")\n",
    "    print(f\"False Negative Rate: {fnr:.4f} ({fn} fake news articles misclassified as real)\")"
   ]
  },
  {
   "cell_type": "code",
   "execution_count": 16,
   "id": "b769a82a",
   "metadata": {},
   "outputs": [
    {
     "data": {
      "image/png": "[encoded data removed]",
      "text/plain": [
       "<Figure size 800x600 with 2 Axes>"
      ]
     },
     "metadata": {},
     "output_type": "display_data"
    },
    {
     "name": "stdout",
     "output_type": "stream",
     "text": [
      "False Positive Rate: 0.0023 (1 real news articles misclassified as fake)\n",
      "False Negative Rate: 0.8718 (374 fake news articles misclassified as real)\n"
     ]
    }
   ],
   "source": [
    "# Plot confusion matrix for External Datasets\n",
    "plot_confusion_matrix(\n",
    "    external_results['y_true'], \n",
    "    external_results['y_pred'], \n",
    "    \"MobileBERT Confusion Matrix on External Datasets\"\n",
    ")"
   ]
  },
  {
   "cell_type": "markdown",
   "id": "acf7da1a",
   "metadata": {},
   "source": [
    "### What the Results Revealed About MobileBERT's Struggles\n",
    "\n",
    "When I ran the confusion matrix analysis, it revealed a sobering reality about how MobileBERT performs on external datasets. The results showed significant challenges that raise important questions about whether the architectural optimizations that make MobileBERT mobile-friendly come at a substantial cost to generalization ability.\n",
    "\n",
    "The confusion matrix demonstrated that MobileBERT developed an extreme bias toward predicting \"real\" when encountering unfamiliar content. With a false negative rate of 87.18%, my model missed 374 out of 429 fake news articles while only misclassifying 1 real article as fake. This represents a much more severe generalization problem than I observed with other transformer models.\n",
    "\n",
    "Looking at my model's overall accuracy of 56.29%, it's clear that the mobile optimizations significantly impacted the model's ability to handle diverse content. This accuracy is barely better than random guessing and substantially worse than what I achieved with DistilBERT on the same external dataset. The F1 score of 0.4611 further confirms that MobileBERT struggled significantly with this generalization task.\n",
    "\n",
    "The extreme bias toward classifying content as \"real\" creates a particularly problematic scenario for fake news detection applications. While having a very low false positive rate (0.23%) means legitimate news rarely gets flagged incorrectly, missing 87% of fake news makes the system largely ineffective at its primary purpose.\n",
    "\n",
    "These results taught me that MobileBERT's architectural innovations, while achieving mobile efficiency goals, appear to have created significant trade-offs in the model's ability to learn robust patterns for distinguishing fake from real news. This suggests that the efficiency gains through architectural optimization may come at a higher cost to model capability than approaches like knowledge distillation.\n",
    "\n",
    "## Looking at Specific Mistakes\n",
    "\n",
    "I want to dig deeper into the specific articles my MobileBERT model got wrong. Understanding exactly which articles confused my model will help me figure out whether the architectural optimizations that make MobileBERT mobile-friendly have any systematic impact on the types of content it struggles with."
   ]
  },
  {
   "cell_type": "code",
   "execution_count": 17,
   "id": "5096b81c",
   "metadata": {},
   "outputs": [],
   "source": [
    "def analyze_errors(X_text, y_true, y_pred, dataset_name, n_examples=3):\n",
    "    \"\"\"\n",
    "    Display examples of misclassified articles\n",
    "    \n",
    "    For MobileBERT, understanding error patterns is particularly important\n",
    "    because we want to know if efficiency optimizations create systematic\n",
    "    blind spots in content understanding.\n",
    "    \n",
    "    Args:\n",
    "        X_text: Text data\n",
    "        y_true: True labels\n",
    "        y_pred: Predicted labels\n",
    "        dataset_name: Name of the dataset\n",
    "        n_examples: Number of examples to display\n",
    "    \"\"\"\n",
    "    errors = np.where(y_true != y_pred)[0]\n",
    "    \n",
    "    if len(errors) == 0:\n",
    "        print(f\"No errors found on {dataset_name}!\")\n",
    "        return\n",
    "    \n",
    "    print(f\"\\nMobileBERT misclassified {len(errors)} out of {len(y_true)} articles on {dataset_name} ({len(errors)/len(y_true):.2%})\")\n",
    "    print(f\"Showing {min(n_examples, len(errors))} examples:\")\n",
    "    \n",
    "    # Select random errors to display\n",
    "    np.random.seed(42)  # For reproducibility\n",
    "    display_indices = np.random.choice(errors, size=min(n_examples, len(errors)), replace=False)\n",
    "    \n",
    "    for i, idx in enumerate(display_indices):\n",
    "        print(f\"\\nExample {i+1}:\")\n",
    "        print(f\"Text snippet: {X_text.iloc[idx][:200]}...\")  # First 200 chars\n",
    "        print(f\"True label: {'Real' if y_true[idx] == 0 else 'Fake'}\")\n",
    "        print(f\"Predicted: {'Real' if y_pred[idx] == 0 else 'Fake'}\")\n",
    "        print(\"-\" * 80)"
   ]
  },
  {
   "cell_type": "code",
   "execution_count": 18,
   "id": "bca0bf44",
   "metadata": {},
   "outputs": [
    {
     "name": "stdout",
     "output_type": "stream",
     "text": [
      "\n",
      "MobileBERT misclassified 375 out of 858 articles on External Datasets (43.71%)\n",
      "Showing 3 examples:\n",
      "\n",
      "Example 1:\n",
      "Text snippet: A comprehensive review conducted by Wikipedia's internal governance team has discovered that approximately 40% of articles relating to corporations, pharmaceuticals, and controversial scientific topic...\n",
      "True label: Fake\n",
      "Predicted: Real\n",
      "--------------------------------------------------------------------------------\n",
      "\n",
      "Example 2:\n",
      "Text snippet: A group of former special operations personnel have come forward claiming they were unwitting participants in a classified DARPA program that attempted to develop telepathic capabilities in soldiers. ...\n",
      "True label: Fake\n",
      "Predicted: Real\n",
      "--------------------------------------------------------------------------------\n",
      "\n",
      "Example 3:\n",
      "Text snippet: A classified government initiative code-named 'Opinion Cascade' has reportedly recruited over 3,000 social media influencers to subtly promote official narratives on controversial topics. According to...\n",
      "True label: Fake\n",
      "Predicted: Real\n",
      "--------------------------------------------------------------------------------\n"
     ]
    }
   ],
   "source": [
    "# Analyze errors on External datasets\n",
    "analyze_errors(\n",
    "    X_external, \n",
    "    external_results['y_true'], \n",
    "    external_results['y_pred'], \n",
    "    \"External Datasets\"\n",
    ")"
   ]
  },
  {
   "cell_type": "markdown",
   "id": "397c16ba",
   "metadata": {},
   "source": [
    "### What the Error Analysis Revealed About Severe Generalization Problems\n",
    "\n",
    "When I examined the specific articles my MobileBERT model got wrong, I discovered patterns that revealed serious limitations in how the model handles external content. With a 43.71% overall misclassification rate, the error analysis showed that MobileBERT's struggles go well beyond typical generalization challenges.\n",
    "\n",
    "The fake news articles that fooled my MobileBERT model demonstrated an extreme pattern where the model essentially gave up on detecting fake content altogether. The examples I examined were sophisticated AI-generated articles, but they weren't necessarily more challenging than those that other models handled successfully. This suggests that MobileBERT's architectural optimizations may have fundamentally impaired its ability to learn the subtle patterns that distinguish sophisticated fake news.\n",
    "\n",
    "Looking at the specific failure cases, I noticed that MobileBERT seemed to default to classifying any professional-sounding article as real, regardless of its actual veracity. The three examples I examined all involved articles with official-sounding sources and professional formatting, but MobileBERT failed to detect the fabricated nature of the content.\n",
    "\n",
    "This error pattern reveals a critical limitation: MobileBERT appears to have learned surface-level indicators of credibility (professional language, official sources, proper formatting) but failed to develop the deeper semantic understanding needed to identify subtle inconsistencies or fabricated claims. This represents a fundamental failure in fake news detection capability.\n",
    "\n",
    "The severity of this bias problem makes MobileBERT largely unsuitable for real-world fake news detection applications, despite its mobile optimization benefits. The trade-offs between efficiency and capability appear to be much more severe than I initially anticipated, raising questions about whether architectural optimization approaches can maintain the semantic sophistication needed for complex NLP tasks.\n",
    "\n",
    "## Testing Performance on Mobile-Like Hardware\n",
    "\n",
    "For my MobileBERT model to fulfill its intended purpose, I need to understand how it performs when running on hardware similar to mobile devices. I'll test different batch sizes to see how I can optimize the trade-off between speed and efficiency, paying special attention to the performance characteristics that make MobileBERT suitable for mobile deployment."
   ]
  },
  {
   "cell_type": "code",
   "execution_count": 19,
   "id": "68013319",
   "metadata": {},
   "outputs": [],
   "source": [
    "# Analyze batch processing efficiency with focus on mobile deployment scenarios\n",
    "batch_sizes = [1, 2, 4, 8, 16, 32]\n",
    "results = []\n",
    "\n",
    "# Create sample input\n",
    "sample_text = [\"This is a sample news article for testing inference speed.\"] * 32\n",
    "sample_encodings = tokenizer(\n",
    "    sample_text,\n",
    "    truncation=True,\n",
    "    padding='max_length',\n",
    "    max_length=512,\n",
    "    return_tensors='pt'\n",
    ")"
   ]
  },
  {
   "cell_type": "code",
   "execution_count": 20,
   "id": "957e3bd5",
   "metadata": {},
   "outputs": [],
   "source": [
    "# Test different batch sizes to understand mobile deployment characteristics\n",
    "for batch_size in batch_sizes:\n",
    "    # Prepare input batch\n",
    "    input_ids = sample_encodings['input_ids'][:batch_size].to(device)\n",
    "    attention_mask = sample_encodings['attention_mask'][:batch_size].to(device)\n",
    "    \n",
    "    # Warm-up - important for mobile deployment scenarios\n",
    "    with torch.no_grad():\n",
    "        _ = model(input_ids=input_ids, attention_mask=attention_mask)\n",
    "    \n",
    "    # Timed runs\n",
    "    times = []\n",
    "    for _ in range(5):  # 5 runs per batch size\n",
    "        with torch.no_grad():\n",
    "            start = time.time()\n",
    "            _ = model(input_ids=input_ids, attention_mask=attention_mask)\n",
    "            end = time.time()\n",
    "        times.append(end - start)\n",
    "    \n",
    "    # Calculate statistics\n",
    "    avg_time = np.mean(times)\n",
    "    per_sample = avg_time / batch_size * 1000  # ms\n",
    "    \n",
    "    results.append({\n",
    "        'Batch Size': batch_size,\n",
    "        'Total Time (ms)': avg_time * 1000,\n",
    "        'Time per Sample (ms)': per_sample\n",
    "    })"
   ]
  },
  {
   "cell_type": "code",
   "execution_count": 21,
   "id": "489c45f2",
   "metadata": {},
   "outputs": [
    {
     "name": "stdout",
     "output_type": "stream",
     "text": [
      "\n",
      "Batch Processing Efficiency on CPU (Mobile-like Performance):\n",
      "   Batch Size  Total Time (ms)  Time per Sample (ms)\n",
      "0           1           218.68                218.68\n",
      "1           2           366.69                183.35\n",
      "2           4           428.63                107.16\n",
      "3           8           769.80                 96.23\n",
      "4          16          1825.11                114.07\n",
      "5          32          3280.66                102.52\n"
     ]
    },
    {
     "data": {
      "image/png": "[encoded data removed]",
      "text/plain": [
       "<Figure size 1000x600 with 1 Axes>"
      ]
     },
     "metadata": {},
     "output_type": "display_data"
    }
   ],
   "source": [
    "# Show batch efficiency results with mobile deployment context\n",
    "batch_df = pd.DataFrame(results)\n",
    "print(\"\\nBatch Processing Efficiency on CPU (Mobile-like Performance):\")\n",
    "print(batch_df.round(2))\n",
    "\n",
    "# Plot the results\n",
    "plt.figure(figsize=(10, 6))\n",
    "plt.plot(batch_df['Batch Size'], batch_df['Time per Sample (ms)'], marker='o', linewidth=2)\n",
    "plt.title('MobileBERT: Inference Time per Sample vs Batch Size')\n",
    "plt.xlabel('Batch Size')\n",
    "plt.ylabel('Time per Sample (ms)')\n",
    "plt.grid(True)\n",
    "plt.tight_layout()\n",
    "plt.show()"
   ]
  },
  {
   "cell_type": "markdown",
   "id": "b93a1266",
   "metadata": {},
   "source": [
    "### What I Discovered About MobileBERT's Unexpected Performance Characteristics\n",
    "\n",
    "When I analyzed the batch processing results for MobileBERT, I found patterns that revealed some surprising aspects about how the model's architectural optimizations translate into real-world performance. The results showed characteristics that were quite different from what I expected based on MobileBERT's mobile optimization design goals.\n",
    "\n",
    "At single sample processing, I observed that MobileBERT required 218.68 ms per sample, which is significantly slower than the ~52ms I measured for DistilBERT on the same hardware. This was unexpected, since MobileBERT's architectural innovations are specifically designed to improve mobile performance, yet it performed slower than a knowledge-distilled model.\n",
    "\n",
    "As I increased the batch size, the optimal performance occurred around batch size 8, where processing time dropped to about 96.23 ms per sample. However, even at its optimal batch size, MobileBERT still processed samples more slowly than DistilBERT's optimal performance. The efficiency curve showed a different pattern than I expected, with less dramatic improvements from batching.\n",
    "\n",
    "These results taught me that architectural optimization for mobile deployment doesn't automatically translate into faster inference times. Despite MobileBERT's bottleneck structures and reorganized attention patterns being designed for efficiency, the actual wall-clock performance was disappointing compared to other efficiency-focused models.\n",
    "\n",
    "The slower-than-expected performance suggests that while MobileBERT's architectural innovations may provide theoretical efficiency benefits, they don't necessarily translate into practical speed advantages on CPU inference. This finding highlights the importance of empirical testing rather than relying solely on architectural design claims when evaluating models for mobile deployment.\n",
    "\n",
    "## Memory Usage Analysis for Mobile Deployment\n",
    "\n",
    "Next, I'll test how sequence length affects memory usage in MobileBERT. Since this model was specifically designed for mobile devices where memory is often the most constraining factor, understanding its memory scaling behavior is crucial for practical deployment decisions."
   ]
  },
  {
   "cell_type": "code",
   "execution_count": 22,
   "id": "13da7fb9",
   "metadata": {},
   "outputs": [],
   "source": [
    "# Analyze memory usage for different sequence lengths with mobile deployment focus\n",
    "seq_lengths = [64, 128, 256, 512]\n",
    "memory_results = []"
   ]
  },
  {
   "cell_type": "code",
   "execution_count": 23,
   "id": "54fe509c",
   "metadata": {},
   "outputs": [],
   "source": [
    "# Test memory scaling behavior for mobile deployment scenarios\n",
    "for seq_len in seq_lengths:\n",
    "    # Create sample input with specific sequence length\n",
    "    sample_text = [\"This is a test\"] * 8  # Use batch size of 8\n",
    "    sample_encodings = tokenizer(\n",
    "        sample_text,\n",
    "        truncation=True,\n",
    "        padding='max_length',\n",
    "        max_length=seq_len,\n",
    "        return_tensors='pt'\n",
    "    )\n",
    "    \n",
    "    input_ids = sample_encodings['input_ids'].to(device)\n",
    "    attention_mask = sample_encodings['attention_mask'].to(device)\n",
    "    \n",
    "    # Measure memory usage with our improved function\n",
    "    def run_inference():\n",
    "        with torch.no_grad():\n",
    "            _ = model(input_ids=input_ids, attention_mask=attention_mask)\n",
    "    \n",
    "    # Clean up and make measurements more reliable\n",
    "    gc.collect()\n",
    "    _, memory_used = measure_peak_memory_usage(run_inference)\n",
    "    \n",
    "    memory_results.append({\n",
    "        'Sequence Length': seq_len,\n",
    "        'Memory Used (MB)': memory_used\n",
    "    })"
   ]
  },
  {
   "cell_type": "code",
   "execution_count": 24,
   "id": "e1affd83",
   "metadata": {},
   "outputs": [
    {
     "name": "stdout",
     "output_type": "stream",
     "text": [
      "\n",
      "Memory Usage for Different Sequence Lengths (Mobile Deployment Context):\n",
      "   Sequence Length  Memory Used (MB)\n",
      "0               64           0.03125\n",
      "1              128           0.03125\n",
      "2              256           0.03125\n",
      "3              512           0.03125\n"
     ]
    },
    {
     "data": {
      "image/png": "[encoded data removed]",
      "text/plain": [
       "<Figure size 1000x600 with 1 Axes>"
      ]
     },
     "metadata": {},
     "output_type": "display_data"
    }
   ],
   "source": [
    "# Show memory usage results with mobile deployment implications\n",
    "memory_df = pd.DataFrame(memory_results)\n",
    "print(\"\\nMemory Usage for Different Sequence Lengths (Mobile Deployment Context):\")\n",
    "print(memory_df)\n",
    "\n",
    "# Plot the results\n",
    "plt.figure(figsize=(10, 6))\n",
    "plt.plot(memory_df['Sequence Length'], memory_df['Memory Used (MB)'], marker='o', linewidth=2)\n",
    "plt.title('MobileBERT: Memory Usage vs Sequence Length')\n",
    "plt.xlabel('Sequence Length')\n",
    "plt.ylabel('Memory Used (MB)')\n",
    "plt.grid(True)\n",
    "plt.tight_layout()\n",
    "plt.show()"
   ]
  },
  {
   "cell_type": "markdown",
   "id": "5019e88f",
   "metadata": {},
   "source": [
    "### What I Learned About MobileBERT's Memory Efficiency\n",
    "\n",
    "When I ran the memory analysis for MobileBERT, I discovered something unexpected about the model's memory behavior. The results showed completely flat memory usage at 0.03125 MB across all sequence lengths from 64 to 512 tokens, which was quite different from what I expected based on transformer theory.\n",
    "\n",
    "This flat memory usage pattern suggests either that my memory measurement function isn't capturing the true memory scaling behavior during inference, or that MobileBERT's architectural optimizations have somehow managed to eliminate the typical quadratic memory scaling that plagues most transformer models. If the latter is true, it would be a remarkable achievement for mobile deployment.\n",
    "\n",
    "However, I need to be cautious about interpreting these results. The consistently identical memory measurements across vastly different sequence lengths (0.03125 MB for both 64 and 512 tokens) seem more likely to indicate a measurement limitation rather than actual model behavior. In real-world mobile deployment, I would need more sophisticated profiling tools to get accurate memory usage patterns.\n",
    "\n",
    "From a practical mobile deployment perspective, if these results are accurate, they would suggest that MobileBERT has solved one of the biggest challenges for mobile transformer deployment. But given the theoretical impossibility of completely eliminating attention's quadratic complexity, I should treat these results with skepticism and use more robust memory profiling methods for production deployment decisions.\n",
    "\n",
    "The flat memory pattern, while potentially promising, highlights the importance of using multiple measurement approaches when evaluating models for mobile deployment, especially when results seem too good to be true.\n",
    "\n",
    "## Summary and Mobile Deployment Insights\n",
    "\n",
    "Based on all the testing I did, I learned valuable lessons about how MobileBERT's mobile-optimized architecture performs in real-world scenarios. This evaluation process taught me fundamental principles about deploying efficiency-focused transformer models and whether architectural optimizations for mobile deployment come with trade-offs in capability or generalization."
   ]
  },
  {
   "cell_type": "code",
   "execution_count": 25,
   "id": "7fa47b34",
   "metadata": {},
   "outputs": [
    {
     "name": "stdout",
     "output_type": "stream",
     "text": [
      "MobileBERT External Dataset Performance Summary:\n",
      "                    Metric      External Dataset Results\n",
      "          Model Parameters                    24,582,914\n",
      "           Model Size (MB)                         93.78\n",
      "     Memory Footprint (MB)                        430.66\n",
      "                  Accuracy                        0.5629\n",
      "                 Precision                        0.7579\n",
      "                    Recall                        0.5629\n",
      "                  F1 Score                        0.4611\n",
      "Inference Time (ms/sample)                        103.36\n",
      "       False Positive Rate         From confusion matrix\n",
      "       False Negative Rate         From confusion matrix\n",
      "        Optimal Batch Size           From batch analysis\n",
      "         Memory Efficiency From sequence length analysis\n"
     ]
    }
   ],
   "source": [
    "# Create summary table of results focusing on mobile deployment characteristics\n",
    "summary = pd.DataFrame({\n",
    "    'Metric': [\n",
    "        'Model Parameters',\n",
    "        'Model Size (MB)',\n",
    "        'Memory Footprint (MB)',\n",
    "        'Accuracy',\n",
    "        'Precision', \n",
    "        'Recall',\n",
    "        'F1 Score',\n",
    "        'Inference Time (ms/sample)',\n",
    "        'False Positive Rate',\n",
    "        'False Negative Rate',\n",
    "        'Optimal Batch Size',\n",
    "        'Memory Efficiency'\n",
    "    ],\n",
    "    'External Dataset Results': [\n",
    "        f\"{num_params:,}\",\n",
    "        f\"{param_size:.2f}\",\n",
    "        f\"{model_memory:.2f}\",\n",
    "        f\"{external_results['accuracy']:.4f}\",\n",
    "        f\"{external_results['precision']:.4f}\",\n",
    "        f\"{external_results['recall']:.4f}\",\n",
    "        f\"{external_results['f1']:.4f}\",\n",
    "        f\"{external_results['predict_time']/external_results['samples']*1000:.2f}\",\n",
    "        \"From confusion matrix\",\n",
    "        \"From confusion matrix\",\n",
    "        \"From batch analysis\",\n",
    "        \"From sequence length analysis\"\n",
    "    ]\n",
    "})\n",
    "\n",
    "print(\"MobileBERT External Dataset Performance Summary:\")\n",
    "print(summary.to_string(index=False))"
   ]
  },
  {
   "cell_type": "markdown",
   "id": "9fe33144",
   "metadata": {},
   "source": [
    "### The Sobering Mobile Optimization Reality\n",
    "\n",
    "When I completed this evaluation, the results taught me harsh lessons about the real costs of mobile optimization in transformer models. Understanding these patterns helped me build a more realistic understanding of the trade-offs between efficiency and capability in mobile machine learning deployment.\n",
    "\n",
    "The architectural efficiency versus accuracy trade-off proved to be much more severe than anticipated. While MobileBERT achieved its efficiency goals in terms of model size (93.78 MB vs DistilBERT's 255.41 MB), the cost to accuracy was substantial. With only 56.29% accuracy on external datasets compared to DistilBERT's significantly better performance, the efficiency gains came at an unacceptable cost to model capability.\n",
    "\n",
    "The generalization performance revealed critical limitations in MobileBERT's ability to handle diverse content. The 87% false negative rate demonstrated that the architectural optimizations fundamentally impaired the model's capacity to learn robust patterns for fake news detection. This isn't just a matter of different generalization patterns – it represents a basic failure to perform the intended task.\n",
    "\n",
    "The resource optimization insights were mixed at best. While MobileBERT achieved smaller model size, the actual inference speeds were slower than DistilBERT despite the mobile optimization focus. This disconnect between theoretical mobile optimization and practical performance highlights the complexity of achieving real efficiency gains through architectural changes.\n",
    "\n",
    "Most importantly, this evaluation taught me that mobile optimization can come with hidden costs that aren't immediately apparent from model architecture or parameter count alone. The severe generalization problems I observed suggest that some architectural optimization approaches may fundamentally compromise the model's ability to learn complex semantic relationships needed for sophisticated NLP tasks.\n",
    "\n",
    "## Conclusion\n",
    "\n",
    "This evaluation process provided sobering lessons about the real-world implications of mobile-optimized transformer architectures. While MobileBERT succeeded in achieving its size reduction goals, the systematic evaluation revealed significant trade-offs that call into question the viability of this approach for complex NLP tasks like fake news detection.\n",
    "\n",
    "Understanding MobileBERT's limitations through systematic testing showed me that architectural innovation doesn't automatically lead to successful mobile deployment. Despite achieving a smaller model size, MobileBERT failed to deliver on both accuracy and speed promises, performing worse than knowledge distillation approaches on both fronts.\n",
    "\n",
    "The generalization challenges revealed fundamental problems with MobileBERT's ability to handle diverse content. The extreme bias toward classifying content as real, resulting in an 87% false negative rate, demonstrates that the architectural optimizations may have compromised essential semantic understanding capabilities needed for this task.\n",
    "\n",
    "The practical deployment considerations highlighted important lessons about the difference between theoretical optimization and real-world performance. Despite being designed for mobile deployment, MobileBERT's actual inference speeds were slower than DistilBERT, while its accuracy was dramatically worse.\n",
    "\n",
    "My evaluation revealed that mobile optimization through architectural changes can introduce trade-offs that are more severe than alternative approaches like knowledge distillation. For fake news detection applications, MobileBERT's combination of poor accuracy, slow inference, and extreme bias makes it unsuitable for real-world deployment, despite its smaller size.\n",
    "\n",
    "This systematic evaluation approach taught me the critical importance of comprehensive empirical testing when evaluating efficiency-focused models. Theoretical benefits from architectural innovation don't guarantee practical advantages, and the hidden costs to model capability can be severe enough to outweigh any efficiency gains.\n",
    "\n",
    "For future mobile AI development, these results suggest focusing on approaches that maintain semantic sophistication while achieving efficiency, rather than pursuing architectural optimizations that may fundamentally compromise model understanding capabilities.\n",
    "\n",
    "## Model Cleanup\n",
    "\n",
    "Finally, I'll clean up the memory by releasing the model resources, which is particularly important in mobile deployment scenarios where memory management is crucial."
   ]
  },
  {
   "cell_type": "code",
   "execution_count": 26,
   "id": "75ddf24a",
   "metadata": {},
   "outputs": [
    {
     "name": "stdout",
     "output_type": "stream",
     "text": [
      "MobileBERT model resources released\n"
     ]
    }
   ],
   "source": [
    "# Clean up models to free memory - critical for mobile deployment scenarios\n",
    "del model\n",
    "del tokenizer\n",
    "\n",
    "# Force garbage collection\n",
    "gc.collect()\n",
    "\n",
    "print(\"MobileBERT model resources released\")"
   ]
  }
 ],
 "metadata": {
  "jupytext": {
   "cell_metadata_filter": "-all",
   "main_language": "python",
   "notebook_metadata_filter": "-all"
  },
  "kernelspec": {
   "display_name": "Python (myenv)",
   "language": "python",
   "name": "myenv"
  },
  "language_info": {
   "codemirror_mode": {
    "name": "ipython",
    "version": 3
   },
   "file_extension": ".py",
   "mimetype": "text/x-python",
   "name": "python",
   "nbconvert_exporter": "python",
   "pygments_lexer": "ipython3",
   "version": "3.12.1"
  }
 },
 "nbformat": 4,
 "nbformat_minor": 5
}
