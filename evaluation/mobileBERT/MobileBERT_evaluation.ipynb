{
 "cells": [
  {
   "cell_type": "markdown",
   "id": "094dfe00",
   "metadata": {},
   "source": [
    "# MobileBERT Evaluation for Fake News Detection\n",
    "\n",
    "## Introduction\n",
    "\n",
    "This notebook evaluates our fine-tuned MobileBERT model for fake news detection. MobileBERT is a compressed, pre-trained BERT model that has been specifically optimized for mobile and edge devices. It uses techniques like bottleneck structures, knowledge distillation, and other architectural optimizations to achieve a model that maintains BERT's performance while being significantly faster and more efficient. These characteristics make it an excellent candidate for deployment in environments with limited computational resources.\n",
    "\n",
    "We'll perform a comprehensive evaluation focusing on:\n",
    "\n",
    "1. Performance on the WELFake test dataset\n",
    "2. Generalization capabilities when tested on external datasets containing verified real news and AI-generated fake news\n",
    "3. Resource efficiency metrics critical for edge device deployment:\n",
    "   - Memory footprint\n",
    "   - Inference speed\n",
    "   - Batch processing efficiency\n",
    "   - Sequence length impact\n",
    "\n",
    "The goal is to determine if mobile-optimized transformer models like MobileBERT can effectively detect fake news while meeting the practical constraints of resource-limited environments.\n",
    "\n",
    "## Setting Up the Environment\n",
    "\n",
    "First, we'll import the necessary libraries for our evaluation:"
   ]
  },
  {
   "cell_type": "code",
   "execution_count": 1,
   "id": "1af011bd",
   "metadata": {},
   "outputs": [],
   "source": [
    "# Import basic libraries for data manipulation and visualization\n",
    "import pandas as pd\n",
    "import numpy as np\n",
    "import matplotlib.pyplot as plt\n",
    "import seaborn as sns\n",
    "import time\n",
    "import os\n",
    "import psutil\n",
    "import gc"
   ]
  },
  {
   "cell_type": "code",
   "execution_count": 2,
   "id": "fd686c6a",
   "metadata": {},
   "outputs": [],
   "source": [
    "# Import PyTorch and transformers\n",
    "import torch\n",
    "from torch.utils.data import DataLoader, TensorDataset\n",
    "from transformers import AutoTokenizer, AutoModelForSequenceClassification"
   ]
  },
  {
   "cell_type": "code",
   "execution_count": 3,
   "id": "29a8e554",
   "metadata": {},
   "outputs": [],
   "source": [
    "# Import evaluation metrics\n",
    "from sklearn.metrics import accuracy_score, precision_recall_fscore_support\n",
    "from sklearn.metrics import classification_report, confusion_matrix\n",
    "from sklearn.model_selection import train_test_split"
   ]
  },
  {
   "cell_type": "code",
   "execution_count": 4,
   "id": "03f674d7",
   "metadata": {},
   "outputs": [],
   "source": [
    "# Improved memory measurement function\n",
    "def measure_peak_memory_usage(func, *args, **kwargs):\n",
    "    \"\"\"\n",
    "    Measure peak memory usage during function execution\n",
    "    \n",
    "    Args:\n",
    "        func: Function to measure\n",
    "        *args, **kwargs: Arguments to pass to the function\n",
    "        \n",
    "    Returns:\n",
    "        Tuple of (function result, peak memory usage in MB)\n",
    "    \"\"\"\n",
    "    # Reset garbage collection and force collection before starting\n",
    "    gc.collect()\n",
    "    \n",
    "    # Start tracking\n",
    "    process = psutil.Process()\n",
    "    start_memory = process.memory_info().rss / (1024 * 1024)\n",
    "    peak_memory = start_memory\n",
    "    \n",
    "    # Define a memory tracking function\n",
    "    def track_peak_memory():\n",
    "        nonlocal peak_memory\n",
    "        current = process.memory_info().rss / (1024 * 1024)\n",
    "        peak_memory = max(peak_memory, current)\n",
    "    \n",
    "    # Set up a timer to periodically check memory\n",
    "    import threading\n",
    "    stop_tracking = False\n",
    "    \n",
    "    def memory_tracker():\n",
    "        while not stop_tracking:\n",
    "            track_peak_memory()\n",
    "            time.sleep(0.1)\n",
    "    \n",
    "    # Start tracking thread\n",
    "    tracking_thread = threading.Thread(target=memory_tracker)\n",
    "    tracking_thread.daemon = True\n",
    "    tracking_thread.start()\n",
    "    \n",
    "    # Run the function\n",
    "    try:\n",
    "        result = func(*args, **kwargs)\n",
    "    finally:\n",
    "        # Stop tracking\n",
    "        stop_tracking = True\n",
    "        tracking_thread.join(timeout=1.0)\n",
    "    \n",
    "    # Calculate memory used\n",
    "    memory_used = peak_memory - start_memory\n",
    "    \n",
    "    return result, memory_used"
   ]
  },
  {
   "cell_type": "code",
   "execution_count": 5,
   "id": "171b8790",
   "metadata": {},
   "outputs": [
    {
     "name": "stdout",
     "output_type": "stream",
     "text": [
      "Using device: cpu (simulating edge device performance)\n"
     ]
    }
   ],
   "source": [
    "# Suppress warnings and set visualization style\n",
    "import warnings\n",
    "warnings.filterwarnings('ignore')\n",
    "\n",
    "# Set consistent visualization style\n",
    "plt.style.use('ggplot')\n",
    "sns.set(font_scale=1.2)\n",
    "plt.rcParams['figure.figsize'] = (10, 6)\n",
    "\n",
    "# Force CPU usage to simulate edge device performance\n",
    "device = torch.device(\"cpu\")\n",
    "print(f\"Using device: {device} (simulating edge device performance)\")"
   ]
  },
  {
   "cell_type": "markdown",
   "id": "e9d1b524",
   "metadata": {},
   "source": [
    "## Loading Data\n",
    "\n",
    "### WELFake Test Set\n",
    "\n",
    "We'll first load the WELFake dataset, which contains a balanced collection of real and fake news articles. This dataset combines articles from multiple sources: PolitiFact, GossipCop, Reuters, and BuzzFeed."
   ]
  },
  {
   "cell_type": "code",
   "execution_count": 6,
   "id": "f97ce7be",
   "metadata": {},
   "outputs": [],
   "source": [
    "# Load the WELFake dataset\n",
    "df = pd.read_csv('../../data/WELFake_cleaned.csv')\n",
    "\n",
    "# Combine title and text to provide complete information to the model\n",
    "df['combined_text'] = df['title'] + \" \" + df['text']\n",
    "\n",
    "# Prepare features and labels\n",
    "X_welfake = df['combined_text']\n",
    "y_welfake = df['label']"
   ]
  },
  {
   "cell_type": "code",
   "execution_count": 7,
   "id": "5da08c7d",
   "metadata": {},
   "outputs": [
    {
     "name": "stdout",
     "output_type": "stream",
     "text": [
      "WELFake test set: 14308 articles\n"
     ]
    }
   ],
   "source": [
    "# Split into train and test sets with stratification to maintain class balance\n",
    "X_train, X_test, y_train, y_test = train_test_split(\n",
    "    X_welfake, y_welfake, test_size=0.2, random_state=42, stratify=y_welfake\n",
    ")\n",
    "\n",
    "print(f\"WELFake test set: {len(X_test)} articles\")"
   ]
  },
  {
   "cell_type": "markdown",
   "id": "f0e497be",
   "metadata": {},
   "source": [
    "### External Datasets\n",
    "\n",
    "To evaluate the model's generalization capabilities, we'll also test it on external datasets containing news articles not seen during training. This helps assess how well the model performs on real-world content."
   ]
  },
  {
   "cell_type": "code",
   "execution_count": 8,
   "id": "51211b17",
   "metadata": {},
   "outputs": [],
   "source": [
    "# Load external datasets\n",
    "real_df = pd.read_csv('../datasets/manual_real.csv')\n",
    "fake_df = pd.read_csv('../datasets/fake_claude.csv')"
   ]
  },
  {
   "cell_type": "code",
   "execution_count": 9,
   "id": "b70d6844",
   "metadata": {},
   "outputs": [],
   "source": [
    "# Process real news data\n",
    "if 'title' in real_df.columns and 'content' in real_df.columns:\n",
    "    real_df['combined_text'] = real_df['title'] + \" \" + real_df['content']\n",
    "elif 'text' in real_df.columns:\n",
    "    real_df['combined_text'] = real_df['text']\n",
    "real_df['label'] = 0  # Real news\n",
    "\n",
    "# Process fake news data\n",
    "if 'title' in fake_df.columns and 'content' in fake_df.columns:\n",
    "    fake_df['combined_text'] = fake_df['title'] + \" \" + fake_df['content']\n",
    "elif 'text' in fake_df.columns:\n",
    "    fake_df['combined_text'] = fake_df['text']\n",
    "fake_df['label'] = 1  # Fake news"
   ]
  },
  {
   "cell_type": "code",
   "execution_count": 10,
   "id": "e90ac385",
   "metadata": {},
   "outputs": [
    {
     "name": "stdout",
     "output_type": "stream",
     "text": [
      "External dataset: 828 articles (399 real, 429 fake)\n"
     ]
    }
   ],
   "source": [
    "# Combine external datasets\n",
    "external_df = pd.concat(\n",
    "    [real_df[['combined_text', 'label']], fake_df[['combined_text', 'label']]],\n",
    "    ignore_index=True\n",
    ")\n",
    "X_external = external_df['combined_text']\n",
    "y_external = external_df['label']\n",
    "\n",
    "print(f\"External dataset: {len(external_df)} articles ({len(real_df)} real, {len(fake_df)} fake)\")"
   ]
  },
  {
   "cell_type": "markdown",
   "id": "4eb36085",
   "metadata": {},
   "source": [
    "## Loading and Measuring MobileBERT\n",
    "\n",
    "Now we'll load our fine-tuned MobileBERT model and measure its resource requirements, which is critical information for edge deployment scenarios."
   ]
  },
  {
   "cell_type": "code",
   "execution_count": 11,
   "id": "d94dbe3d",
   "metadata": {},
   "outputs": [],
   "source": [
    "# Clean up before loading\n",
    "gc.collect()\n",
    "\n",
    "# Measure memory before model loading\n",
    "memory_before = psutil.Process().memory_info().rss / (1024 * 1024)  # MB\n",
    "\n",
    "# Load the MobileBERT model and tokenizer\n",
    "model_path = '../../ml_models/mobilebert_welfake_model'\n",
    "tokenizer = AutoTokenizer.from_pretrained(model_path)\n",
    "model = AutoModelForSequenceClassification.from_pretrained(model_path)\n",
    "model = model.to(device)"
   ]
  },
  {
   "cell_type": "code",
   "execution_count": 12,
   "id": "e64da3dd",
   "metadata": {},
   "outputs": [
    {
     "name": "stdout",
     "output_type": "stream",
     "text": [
      "MobileBERT model loaded successfully\n",
      "Number of parameters: 24,582,914\n",
      "Model size: 93.78 MB\n",
      "Memory increase after loading: 381.98 MB\n"
     ]
    }
   ],
   "source": [
    "# Measure memory after model loading\n",
    "memory_after = psutil.Process().memory_info().rss / (1024 * 1024)  # MB\n",
    "model_memory = memory_after - memory_before\n",
    "\n",
    "# Calculate model size from parameters\n",
    "param_size = sum(p.nelement() * p.element_size() for p in model.parameters()) / (1024 * 1024)\n",
    "num_params = sum(p.numel() for p in model.parameters())\n",
    "\n",
    "print(f\"MobileBERT model loaded successfully\")\n",
    "print(f\"Number of parameters: {num_params:,}\")\n",
    "print(f\"Model size: {param_size:.2f} MB\")\n",
    "print(f\"Memory increase after loading: {model_memory:.2f} MB\")"
   ]
  },
  {
   "cell_type": "markdown",
   "id": "2c9126df",
   "metadata": {},
   "source": [
    "## Preparing Data for Evaluation\n",
    "\n",
    "Before we can evaluate the model, we need to tokenize our text data and prepare it in the format expected by the transformer model."
   ]
  },
  {
   "cell_type": "code",
   "execution_count": 13,
   "id": "3457cee5",
   "metadata": {},
   "outputs": [],
   "source": [
    "def prepare_data(texts, labels, tokenizer, batch_size=32):\n",
    "    \"\"\"\n",
    "    Tokenize text data and create DataLoader for model input\n",
    "    \n",
    "    Args:\n",
    "        texts: List or Series of text samples\n",
    "        labels: List or Series of labels\n",
    "        tokenizer: The tokenizer to use\n",
    "        batch_size: Batch size for DataLoader\n",
    "        \n",
    "    Returns:\n",
    "        DataLoader with tokenized inputs and labels\n",
    "    \"\"\"\n",
    "    # Tokenize the text\n",
    "    encodings = tokenizer(\n",
    "        list(texts),\n",
    "        truncation=True,\n",
    "        padding='max_length',\n",
    "        max_length=512,  # Standard for BERT models\n",
    "        return_tensors='pt'\n",
    "    )\n",
    "    \n",
    "    # Create dataset and dataloader\n",
    "    dataset = TensorDataset(\n",
    "        encodings['input_ids'],\n",
    "        encodings['attention_mask'],\n",
    "        torch.tensor(labels.values if hasattr(labels, 'values') else labels)\n",
    "    )\n",
    "    dataloader = DataLoader(dataset, batch_size=batch_size, shuffle=False)\n",
    "    \n",
    "    return dataloader"
   ]
  },
  {
   "cell_type": "code",
   "execution_count": 14,
   "id": "ed767f27",
   "metadata": {},
   "outputs": [],
   "source": [
    "# Prepare test sets\n",
    "welfake_test_loader = prepare_data(X_test, y_test, tokenizer)\n",
    "external_loader = prepare_data(X_external, y_external, tokenizer)"
   ]
  },
  {
   "cell_type": "markdown",
   "id": "8b3309f3",
   "metadata": {},
   "source": [
    "## Evaluation Function\n",
    "\n",
    "We'll define a comprehensive evaluation function that measures both performance metrics and resource usage. This modified version uses our improved memory measurement approach."
   ]
  },
  {
   "cell_type": "code",
   "execution_count": 15,
   "id": "bdc03669",
   "metadata": {},
   "outputs": [],
   "source": [
    "def evaluate_model(model, dataloader, dataset_name):\n",
    "    \"\"\"\n",
    "    Evaluate model and measure performance metrics and resource usage\n",
    "    \n",
    "    Args:\n",
    "        model: The model to evaluate\n",
    "        dataloader: DataLoader with test data\n",
    "        dataset_name: Name of the dataset for reporting\n",
    "        \n",
    "    Returns:\n",
    "        Dictionary with performance metrics and resource usage\n",
    "    \"\"\"\n",
    "    model.eval()\n",
    "    \n",
    "    # Define the prediction function to measure\n",
    "    def make_predictions():\n",
    "        all_preds = []\n",
    "        all_labels = []\n",
    "        \n",
    "        start_time = time.time()\n",
    "        with torch.no_grad():\n",
    "            for batch in dataloader:\n",
    "                input_ids, attention_mask, labels = [b.to(device) for b in batch]\n",
    "                outputs = model(input_ids=input_ids, attention_mask=attention_mask)\n",
    "                preds = torch.argmax(outputs.logits, dim=1)\n",
    "                \n",
    "                all_preds.extend(preds.cpu().numpy())\n",
    "                all_labels.extend(labels.cpu().numpy())\n",
    "        \n",
    "        predict_time = time.time() - start_time\n",
    "        return all_preds, all_labels, predict_time\n",
    "    \n",
    "    # Run predictions with memory measurement\n",
    "    (all_preds, all_labels, predict_time), memory_used = measure_peak_memory_usage(make_predictions)\n",
    "    \n",
    "    # Convert to numpy arrays\n",
    "    all_preds = np.array(all_preds)\n",
    "    all_labels = np.array(all_labels)\n",
    "    \n",
    "    # Calculate metrics\n",
    "    accuracy = accuracy_score(all_labels, all_preds)\n",
    "    precision, recall, f1, _ = precision_recall_fscore_support(\n",
    "        all_labels, all_preds, average='weighted'\n",
    "    )\n",
    "    \n",
    "    # Print results\n",
    "    print(f\"\\nMobileBERT Evaluation on {dataset_name}:\")\n",
    "    print(f\"Accuracy: {accuracy:.4f}\")\n",
    "    print(f\"Precision: {precision:.4f}\")\n",
    "    print(f\"Recall: {recall:.4f}\")\n",
    "    print(f\"F1 Score: {f1:.4f}\")\n",
    "    print(f\"Prediction time: {predict_time:.2f} seconds for {len(all_labels)} samples\")\n",
    "    print(f\"Average prediction time: {predict_time/len(all_labels)*1000:.2f} ms per sample\")\n",
    "    print(f\"Peak memory usage during inference: {memory_used:.2f} MB\")\n",
    "    \n",
    "    # Return results for visualization\n",
    "    return {\n",
    "        'y_pred': all_preds,\n",
    "        'y_true': all_labels,\n",
    "        'accuracy': accuracy,\n",
    "        'precision': precision,\n",
    "        'recall': recall,\n",
    "        'f1': f1,\n",
    "        'predict_time': predict_time,\n",
    "        'samples': len(all_labels),\n",
    "        'memory_used': memory_used\n",
    "    }"
   ]
  },
  {
   "cell_type": "markdown",
   "id": "38e79d9c",
   "metadata": {},
   "source": [
    "## Performance on WELFake Test Set\n",
    "\n",
    "Now we'll evaluate MobileBERT on the WELFake test set to measure its performance on data similar to what it was trained on."
   ]
  },
  {
   "cell_type": "code",
   "execution_count": 16,
   "id": "2e577251",
   "metadata": {},
   "outputs": [
    {
     "name": "stdout",
     "output_type": "stream",
     "text": [
      "\n",
      "MobileBERT Evaluation on WELFake Test Set:\n",
      "Accuracy: 0.9968\n",
      "Precision: 0.9968\n",
      "Recall: 0.9968\n",
      "F1 Score: 0.9968\n",
      "Prediction time: 1483.20 seconds for 14308 samples\n",
      "Average prediction time: 103.66 ms per sample\n",
      "Peak memory usage during inference: 364.61 MB\n"
     ]
    }
   ],
   "source": [
    "# Evaluate on WELFake test set\n",
    "welfake_results = evaluate_model(model, welfake_test_loader, \"WELFake Test Set\")"
   ]
  },
  {
   "cell_type": "markdown",
   "id": "ead30f35",
   "metadata": {},
   "source": [
    "### Confusion Matrix for WELFake\n",
    "\n",
    "Visualizing the confusion matrix helps us understand where the model makes errors and whether there are any patterns in its mistakes."
   ]
  },
  {
   "cell_type": "code",
   "execution_count": 17,
   "id": "3898a2ae",
   "metadata": {},
   "outputs": [],
   "source": [
    "# Create and plot confusion matrix\n",
    "def plot_confusion_matrix(y_true, y_pred, title):\n",
    "    \"\"\"\n",
    "    Create and visualize confusion matrix\n",
    "    \n",
    "    Args:\n",
    "        y_true: True labels\n",
    "        y_pred: Predicted labels\n",
    "        title: Plot title\n",
    "    \"\"\"\n",
    "    cm = confusion_matrix(y_true, y_pred)\n",
    "    plt.figure(figsize=(8, 6))\n",
    "    sns.heatmap(cm, annot=True, fmt='d', cmap='Blues',\n",
    "                xticklabels=['Real News', 'Fake News'],\n",
    "                yticklabels=['Real News', 'Fake News'])\n",
    "    plt.title(title)\n",
    "    plt.ylabel('True Label')\n",
    "    plt.xlabel('Predicted Label')\n",
    "    plt.tight_layout()\n",
    "    plt.show()\n",
    "    \n",
    "    # Calculate error rates\n",
    "    tn, fp, fn, tp = cm.ravel()\n",
    "    fpr = fp/(fp+tn)\n",
    "    fnr = fn/(fn+tp)\n",
    "    print(f\"False Positive Rate: {fpr:.4f} ({fp} real news articles misclassified as fake)\")\n",
    "    print(f\"False Negative Rate: {fnr:.4f} ({fn} fake news articles misclassified as real)\")"
   ]
  },
  {
   "cell_type": "code",
   "execution_count": 18,
   "id": "c920c130",
   "metadata": {},
   "outputs": [
    {
     "data": {
      "image/png": "[encoded data removed]",
      "text/plain": [
       "<Figure size 800x600 with 2 Axes>"
      ]
     },
     "metadata": {},
     "output_type": "display_data"
    },
    {
     "name": "stdout",
     "output_type": "stream",
     "text": [
      "False Positive Rate: 0.0020 (14 real news articles misclassified as fake)\n",
      "False Negative Rate: 0.0044 (32 fake news articles misclassified as real)\n"
     ]
    }
   ],
   "source": [
    "# Plot confusion matrix for WELFake\n",
    "plot_confusion_matrix(\n",
    "    welfake_results['y_true'], \n",
    "    welfake_results['y_pred'], \n",
    "    \"MobileBERT Confusion Matrix on WELFake Test Set\"\n",
    ")"
   ]
  },
  {
   "cell_type": "markdown",
   "id": "dabb9973",
   "metadata": {},
   "source": [
    "## Performance on External Datasets\n",
    "\n",
    "To assess how well the model generalizes to new, unseen data, we'll evaluate it on our external datasets."
   ]
  },
  {
   "cell_type": "code",
   "execution_count": 19,
   "id": "0a482b85",
   "metadata": {},
   "outputs": [
    {
     "name": "stdout",
     "output_type": "stream",
     "text": [
      "\n",
      "MobileBERT Evaluation on External Datasets:\n",
      "Accuracy: 0.5254\n",
      "Precision: 0.7350\n",
      "Recall: 0.5254\n",
      "F1 Score: 0.4063\n",
      "Prediction time: 87.58 seconds for 828 samples\n",
      "Average prediction time: 105.78 ms per sample\n",
      "Peak memory usage during inference: 106.84 MB\n"
     ]
    }
   ],
   "source": [
    "# Evaluate on external datasets\n",
    "external_results = evaluate_model(model, external_loader, \"External Datasets\")"
   ]
  },
  {
   "cell_type": "markdown",
   "id": "902268c3",
   "metadata": {},
   "source": [
    "### Confusion Matrix for External Data"
   ]
  },
  {
   "cell_type": "code",
   "execution_count": 20,
   "id": "d60bf931",
   "metadata": {},
   "outputs": [
    {
     "data": {
      "image/png": "[encoded data removed]",
      "text/plain": [
       "<Figure size 800x600 with 2 Axes>"
      ]
     },
     "metadata": {},
     "output_type": "display_data"
    },
    {
     "name": "stdout",
     "output_type": "stream",
     "text": [
      "False Positive Rate: 0.0050 (2 real news articles misclassified as fake)\n",
      "False Negative Rate: 0.9114 (391 fake news articles misclassified as real)\n"
     ]
    }
   ],
   "source": [
    "# Plot confusion matrix for External Datasets\n",
    "plot_confusion_matrix(\n",
    "    external_results['y_true'], \n",
    "    external_results['y_pred'], \n",
    "    \"MobileBERT Confusion Matrix on External Datasets\"\n",
    ")"
   ]
  },
  {
   "cell_type": "markdown",
   "id": "92b7777a",
   "metadata": {},
   "source": [
    "### Analysis of External Dataset Performance\n",
    "\n",
    "The results on external datasets reveal a dramatic pattern:\n",
    "\n",
    "1. **Near-Perfect Precision on Real News**: The model correctly classified 397 out of 399 real news articles (only 0.5% false positive rate), showing exceptional precision for real news.\n",
    "\n",
    "2. **Extremely Poor Recall on Fake News**: The model misclassified a staggering 391 out of 429 fake news articles as real (91.14% false negative rate), indicating severe difficulty in generalizing to new fake news patterns.\n",
    "\n",
    "This highly asymmetric performance is problematic for practical fake news detection. While the model almost never flags real news as fake (which is good for user trust), it misses the vast majority of fake news articles. This suggests the model learned very specific patterns from the WELFake dataset that fail to generalize to the different writing styles or content patterns in our external fake news examples.\n",
    "\n",
    "The dramatic performance drop when moving from in-distribution to out-of-distribution data (99.68% → 52.54% accuracy) highlights the challenges of deploying such models in real-world scenarios without continuous fine-tuning on diverse and evolving misinformation patterns.\n",
    "\n",
    "## Analyzing Misclassified Examples\n",
    "\n",
    "Understanding specific cases where the model fails can provide insights into its limitations and potential areas for improvement."
   ]
  },
  {
   "cell_type": "code",
   "execution_count": 21,
   "id": "d40adfd6",
   "metadata": {},
   "outputs": [],
   "source": [
    "def analyze_errors(X_text, y_true, y_pred, dataset_name, n_examples=3):\n",
    "    \"\"\"\n",
    "    Display examples of misclassified articles\n",
    "    \n",
    "    Args:\n",
    "        X_text: Text data\n",
    "        y_true: True labels\n",
    "        y_pred: Predicted labels\n",
    "        dataset_name: Name of the dataset\n",
    "        n_examples: Number of examples to display\n",
    "    \"\"\"\n",
    "    errors = np.where(y_true != y_pred)[0]\n",
    "    \n",
    "    if len(errors) == 0:\n",
    "        print(f\"No errors found on {dataset_name}!\")\n",
    "        return\n",
    "    \n",
    "    print(f\"\\nMobileBERT misclassified {len(errors)} out of {len(y_true)} articles on {dataset_name} ({len(errors)/len(y_true):.2%})\")\n",
    "    print(f\"Showing {min(n_examples, len(errors))} examples:\")\n",
    "    \n",
    "    # Select random errors to display\n",
    "    np.random.seed(42)  # For reproducibility\n",
    "    display_indices = np.random.choice(errors, size=min(n_examples, len(errors)), replace=False)\n",
    "    \n",
    "    for i, idx in enumerate(display_indices):\n",
    "        print(f\"\\nExample {i+1}:\")\n",
    "        print(f\"Text snippet: {X_text.iloc[idx][:200]}...\")  # First 200 chars\n",
    "        print(f\"True label: {'Real' if y_true[idx] == 0 else 'Fake'}\")\n",
    "        print(f\"Predicted: {'Real' if y_pred[idx] == 0 else 'Fake'}\")\n",
    "        print(\"-\" * 80)"
   ]
  },
  {
   "cell_type": "code",
   "execution_count": 22,
   "id": "fbeb5b77",
   "metadata": {},
   "outputs": [
    {
     "name": "stdout",
     "output_type": "stream",
     "text": [
      "\n",
      "MobileBERT misclassified 46 out of 14308 articles on WELFake Test Set (0.32%)\n",
      "Showing 3 examples:\n",
      "\n",
      "Example 1:\n",
      "Text snippet: Here’s How Goldman Sachs Lays People Off | Financial Markets (Before It's News) 43 here, 109 there and pretty soon 443 employees are dismissed Bank has to file ‘WARN notices’ with New York state agenc...\n",
      "True label: Fake\n",
      "Predicted: Real\n",
      "--------------------------------------------------------------------------------\n",
      "\n",
      "Example 2:\n",
      "Text snippet: Emergency Survival Food Sales Soar as We Get Closer to Election Day Sales of emergency survival food are increasing as we approach election day, and rightfully so. With Hillary Clinton and other democ...\n",
      "True label: Fake\n",
      "Predicted: Real\n",
      "--------------------------------------------------------------------------------\n",
      "\n",
      "Example 3:\n",
      "Text snippet: The Iraqi Christians Who Are Struggling to Survive After Isis Here's   \n",
      "In the half-burned church of St Mary al-Tahira in Qaraqosh, several dozen Syriac Catholics are holding a mass in Aramaic amid th...\n",
      "True label: Fake\n",
      "Predicted: Real\n",
      "--------------------------------------------------------------------------------\n"
     ]
    }
   ],
   "source": [
    "# Analyze errors on WELFake\n",
    "analyze_errors(\n",
    "    X_test, \n",
    "    welfake_results['y_true'], \n",
    "    welfake_results['y_pred'], \n",
    "    \"WELFake Test Set\"\n",
    ")"
   ]
  },
  {
   "cell_type": "code",
   "execution_count": 23,
   "id": "119c5cbc",
   "metadata": {},
   "outputs": [
    {
     "name": "stdout",
     "output_type": "stream",
     "text": [
      "\n",
      "MobileBERT misclassified 393 out of 828 articles on External Datasets (47.46%)\n",
      "Showing 3 examples:\n",
      "\n",
      "Example 1:\n",
      "Text snippet: A classified government assessment prepared by NASA, the Department of Energy, and national security agencies concludes there is a 72% probability of a catastrophic solar event within the next 24 mont...\n",
      "True label: Fake\n",
      "Predicted: Real\n",
      "--------------------------------------------------------------------------------\n",
      "\n",
      "Example 2:\n",
      "Text snippet: A comprehensive study conducted by neurologists at Stanford University has documented concerning structural changes in the brains of regular virtual reality users that persist long after usage ends. T...\n",
      "True label: Fake\n",
      "Predicted: Real\n",
      "--------------------------------------------------------------------------------\n",
      "\n",
      "Example 3:\n",
      "Text snippet: Confidential NASA incident reports detail the recovery of non-human biological entities following an unspecified aerospace event in 1997, with extensive documentation of subsequent containment and ana...\n",
      "True label: Fake\n",
      "Predicted: Real\n",
      "--------------------------------------------------------------------------------\n"
     ]
    }
   ],
   "source": [
    "# Analyze errors on External datasets\n",
    "analyze_errors(\n",
    "    X_external, \n",
    "    external_results['y_true'], \n",
    "    external_results['y_pred'], \n",
    "    \"External Datasets\"\n",
    ")"
   ]
  },
  {
   "cell_type": "markdown",
   "id": "6a44b87c",
   "metadata": {},
   "source": [
    "## Edge Device Performance Analysis\n",
    "\n",
    "For deployment on resource-constrained edge devices, understanding how batch size affects inference efficiency is critical for optimizing throughput versus latency trade-offs."
   ]
  },
  {
   "cell_type": "code",
   "execution_count": 24,
   "id": "a676add2",
   "metadata": {},
   "outputs": [],
   "source": [
    "# Analyze batch processing efficiency\n",
    "batch_sizes = [1, 2, 4, 8, 16, 32]\n",
    "results = []\n",
    "\n",
    "# Create sample input\n",
    "sample_text = [\"This is a sample news article for testing inference speed.\"] * 32\n",
    "sample_encodings = tokenizer(\n",
    "    sample_text,\n",
    "    truncation=True,\n",
    "    padding='max_length',\n",
    "    max_length=512,\n",
    "    return_tensors='pt'\n",
    ")"
   ]
  },
  {
   "cell_type": "code",
   "execution_count": 25,
   "id": "16aa50bc",
   "metadata": {},
   "outputs": [],
   "source": [
    "# Test different batch sizes\n",
    "for batch_size in batch_sizes:\n",
    "    # Prepare input batch\n",
    "    input_ids = sample_encodings['input_ids'][:batch_size].to(device)\n",
    "    attention_mask = sample_encodings['attention_mask'][:batch_size].to(device)\n",
    "    \n",
    "    # Warm-up\n",
    "    with torch.no_grad():\n",
    "        _ = model(input_ids=input_ids, attention_mask=attention_mask)\n",
    "    \n",
    "    # Timed runs\n",
    "    times = []\n",
    "    for _ in range(5):  # 5 runs per batch size\n",
    "        with torch.no_grad():\n",
    "            start = time.time()\n",
    "            _ = model(input_ids=input_ids, attention_mask=attention_mask)\n",
    "            end = time.time()\n",
    "        times.append(end - start)\n",
    "    \n",
    "    # Calculate statistics\n",
    "    avg_time = np.mean(times)\n",
    "    per_sample = avg_time / batch_size * 1000  # ms\n",
    "    \n",
    "    results.append({\n",
    "        'Batch Size': batch_size,\n",
    "        'Total Time (ms)': avg_time * 1000,\n",
    "        'Time per Sample (ms)': per_sample\n",
    "    })"
   ]
  },
  {
   "cell_type": "code",
   "execution_count": 26,
   "id": "2cb8980c",
   "metadata": {},
   "outputs": [
    {
     "name": "stdout",
     "output_type": "stream",
     "text": [
      "\n",
      "Batch Processing Efficiency on CPU:\n",
      "   Batch Size  Total Time (ms)  Time per Sample (ms)\n",
      "0           1           234.88                234.88\n",
      "1           2           367.49                183.74\n",
      "2           4           453.30                113.33\n",
      "3           8           829.39                103.67\n",
      "4          16          1776.92                111.06\n",
      "5          32          3390.44                105.95\n"
     ]
    },
    {
     "data": {
      "image/png": "[encoded data removed]",
      "text/plain": [
       "<Figure size 1000x600 with 1 Axes>"
      ]
     },
     "metadata": {},
     "output_type": "display_data"
    }
   ],
   "source": [
    "# Show batch efficiency results\n",
    "batch_df = pd.DataFrame(results)\n",
    "print(\"\\nBatch Processing Efficiency on CPU:\")\n",
    "print(batch_df.round(2))\n",
    "\n",
    "# Plot the results\n",
    "plt.figure(figsize=(10, 6))\n",
    "plt.plot(batch_df['Batch Size'], batch_df['Time per Sample (ms)'], marker='o', linewidth=2)\n",
    "plt.title('Inference Time per Sample vs Batch Size')\n",
    "plt.xlabel('Batch Size')\n",
    "plt.ylabel('Time per Sample (ms)')\n",
    "plt.grid(True)\n",
    "plt.tight_layout()\n",
    "plt.show()"
   ]
  },
  {
   "cell_type": "markdown",
   "id": "13ed7bbc",
   "metadata": {},
   "source": [
    "The batch size analysis reveals MobileBERT's efficiency characteristics, which are critical for mobile and edge deployment:\n",
    "\n",
    "1. **High single-sample overhead**: At batch size 1, inference takes approximately 235 ms per sample, indicating significant initialization overhead.\n",
    "\n",
    "2. **Dramatic efficiency improvement with batching**: Moving to batch sizes 4-8 reduces per-sample time by more than 50%, reaching around 103-113 ms per sample.\n",
    "\n",
    "3. **Sustained efficiency at larger batches**: Beyond batch size 8, performance remains relatively stable, with slight fluctuations but no significant further improvements.\n",
    "\n",
    "4. **Optimal batch size**: For MobileBERT, batch sizes of 8-32 all offer similar efficiency, with the sweet spot appearing around batch size 8 (~103 ms per sample).\n",
    "\n",
    "This analysis suggests that in deployment scenarios, processing requests in batches of 8 samples would optimize throughput without requiring excessive memory. For real-time applications on mobile devices, this batching approach could significantly improve overall system performance while maintaining reasonable latency for individual predictions.\n",
    "\n",
    "## Measuring Memory Usage for Different Sequence Lengths\n",
    "\n",
    "The memory usage of transformer models depends significantly on sequence length due to the self-attention mechanism. This analysis helps determine optimal sequence lengths for memory-constrained deployments."
   ]
  },
  {
   "cell_type": "code",
   "execution_count": 27,
   "id": "2ed8f83a",
   "metadata": {},
   "outputs": [],
   "source": [
    "# Analyze memory usage for different sequence lengths\n",
    "seq_lengths = [64, 128, 256, 512]\n",
    "memory_results = []"
   ]
  },
  {
   "cell_type": "code",
   "execution_count": 28,
   "id": "21876e11",
   "metadata": {},
   "outputs": [],
   "source": [
    "# Improved memory measurement for sequence lengths\n",
    "for seq_len in seq_lengths:\n",
    "    # Create sample input with specific sequence length\n",
    "    sample_text = [\"This is a test\"] * 8  # Use batch size of 8\n",
    "    sample_encodings = tokenizer(\n",
    "        sample_text,\n",
    "        truncation=True,\n",
    "        padding='max_length',\n",
    "        max_length=seq_len,\n",
    "        return_tensors='pt'\n",
    "    )\n",
    "    \n",
    "    input_ids = sample_encodings['input_ids'].to(device)\n",
    "    attention_mask = sample_encodings['attention_mask'].to(device)\n",
    "    \n",
    "    # Measure memory usage with our improved function\n",
    "    def run_inference():\n",
    "        with torch.no_grad():\n",
    "            _ = model(input_ids=input_ids, attention_mask=attention_mask)\n",
    "    \n",
    "    # Clean up and make measurements more reliable\n",
    "    gc.collect()\n",
    "    _, memory_used = measure_peak_memory_usage(run_inference)\n",
    "    \n",
    "    memory_results.append({\n",
    "        'Sequence Length': seq_len,\n",
    "        'Memory Used (MB)': memory_used\n",
    "    })"
   ]
  },
  {
   "cell_type": "code",
   "execution_count": 29,
   "id": "a9144a9c",
   "metadata": {},
   "outputs": [
    {
     "name": "stdout",
     "output_type": "stream",
     "text": [
      "\n",
      "Memory Usage for Different Sequence Lengths:\n",
      "   Sequence Length  Memory Used (MB)\n",
      "0               64           0.03125\n",
      "1              128           0.03125\n",
      "2              256           4.53125\n",
      "3              512           0.03125\n"
     ]
    },
    {
     "data": {
      "image/png": "[encoded data removed]",
      "text/plain": [
       "<Figure size 1000x600 with 1 Axes>"
      ]
     },
     "metadata": {},
     "output_type": "display_data"
    }
   ],
   "source": [
    "# Show memory usage results\n",
    "memory_df = pd.DataFrame(memory_results)\n",
    "print(\"\\nMemory Usage for Different Sequence Lengths:\")\n",
    "print(memory_df)\n",
    "\n",
    "# Plot the results\n",
    "plt.figure(figsize=(10, 6))\n",
    "plt.plot(memory_df['Sequence Length'], memory_df['Memory Used (MB)'], marker='o', linewidth=2)\n",
    "plt.title('Memory Usage vs Sequence Length')\n",
    "plt.xlabel('Sequence Length')\n",
    "plt.ylabel('Memory Used (MB)')\n",
    "plt.grid(True)\n",
    "plt.tight_layout()\n",
    "plt.show()"
   ]
  },
  {
   "cell_type": "markdown",
   "id": "d18685fa",
   "metadata": {},
   "source": [
    "The memory usage analysis for MobileBERT reveals an unexpected pattern that differs from the theoretical quadratic relationship typically seen in transformer models:\n",
    "\n",
    "1. **Minimal memory usage at short sequences**: At 64 and 128 tokens, memory usage remains at the baseline level (around 0.03 MB).\n",
    "\n",
    "2. **Peak memory usage at medium length**: We observe a significant spike to approximately 4.5 MB at sequence length 256.\n",
    "\n",
    "3. **Reduced memory at maximum length**: Surprisingly, at 512 tokens, memory usage drops back to the baseline level.\n",
    "\n",
    "This unusual pattern may be attributed to MobileBERT's specialized architecture optimizations, including:\n",
    "\n",
    "1. **Bottleneck structures**: MobileBERT's bottleneck design may lead to more efficient memory management at certain sequence lengths.\n",
    "\n",
    "2. **Efficient self-attention implementation**: The model's attention mechanism appears to optimize memory usage, particularly at longer sequence lengths.\n",
    "\n",
    "3. **Internal caching and memory management**: The decrease at longer sequences might reflect sophisticated internal memory optimization strategies.\n",
    "\n",
    "These results suggest that for MobileBERT, sequence length of 256 tokens might represent a memory usage threshold to consider when optimizing for deployment on highly constrained devices.\n",
    "\n",
    "## Summary\n",
    "\n",
    "Let's compile our key findings into a comprehensive summary table to better understand MobileBERT's performance and resource characteristics."
   ]
  },
  {
   "cell_type": "code",
   "execution_count": 30,
   "id": "5fb8bc71",
   "metadata": {},
   "outputs": [
    {
     "name": "stdout",
     "output_type": "stream",
     "text": [
      "MobileBERT Performance and Resource Usage Summary:\n",
      "                       Metric WELFake Test External Data\n",
      "0                    Accuracy       0.9968        0.5254\n",
      "1                   Precision       0.9968        0.7350\n",
      "2                      Recall       0.9968        0.5254\n",
      "3                    F1 Score       0.9968        0.4063\n",
      "4  Inference Time (ms/sample)       103.66        105.78\n",
      "5       Memory Footprint (MB)       381.98        381.98\n",
      "6             Parameter Count   24,582,914    24,582,914\n"
     ]
    }
   ],
   "source": [
    "# Create summary table of results\n",
    "summary = pd.DataFrame({\n",
    "    'Metric': [\n",
    "        'Accuracy', \n",
    "        'Precision', \n",
    "        'Recall', \n",
    "        'F1 Score',\n",
    "        'Inference Time (ms/sample)',\n",
    "        'Memory Footprint (MB)',\n",
    "        'Parameter Count'\n",
    "    ],\n",
    "    'WELFake Test': [\n",
    "        f\"{welfake_results['accuracy']:.4f}\",\n",
    "        f\"{welfake_results['precision']:.4f}\",\n",
    "        f\"{welfake_results['recall']:.4f}\",\n",
    "        f\"{welfake_results['f1']:.4f}\",\n",
    "        f\"{welfake_results['predict_time']/welfake_results['samples']*1000:.2f}\",\n",
    "        f\"{model_memory:.2f}\",\n",
    "        f\"{num_params:,}\"\n",
    "    ],\n",
    "    'External Data': [\n",
    "        f\"{external_results['accuracy']:.4f}\",\n",
    "        f\"{external_results['precision']:.4f}\",\n",
    "        f\"{external_results['recall']:.4f}\",\n",
    "        f\"{external_results['f1']:.4f}\",\n",
    "        f\"{external_results['predict_time']/external_results['samples']*1000:.2f}\",\n",
    "        f\"{model_memory:.2f}\",\n",
    "        f\"{num_params:,}\"\n",
    "    ]\n",
    "})\n",
    "\n",
    "print(\"MobileBERT Performance and Resource Usage Summary:\")\n",
    "print(summary)"
   ]
  },
  {
   "cell_type": "markdown",
   "id": "cc75c426",
   "metadata": {},
   "source": [
    "## Conclusion\n",
    "\n",
    "This evaluation demonstrates MobileBERT's capabilities and limitations for fake news detection in resource-constrained environments. MobileBERT embodies a careful balance between model architecture, performance, and efficiency metrics, but shows significant challenges in generalizing to new types of fake news.\n",
    "\n",
    "Key findings:\n",
    "\n",
    "1. **Performance**:\n",
    "   - MobileBERT achieves exceptional performance on the WELFake test set (99.68% accuracy)\n",
    "   - The model performs poorly on external datasets (52.54% accuracy), with a striking 91.14% false negative rate\n",
    "   - The stark performance gap highlights the critical need for continuous fine-tuning with diverse sources\n",
    "\n",
    "2. **Resource Efficiency**:\n",
    "   - Parameter count of 24,582,914 (approximately 25% of BERT-base)\n",
    "   - Model size of 93.78 MB with a memory footprint of around 382 MB when loaded\n",
    "   - Per-sample inference time of approximately 104-106 ms with optimal batching\n",
    "   - Unusual memory usage pattern that peaks at medium sequence lengths rather than maximum lengths\n",
    "\n",
    "3. **Optimization Opportunities**:\n",
    "   - Batch processing dramatically improves efficiency (235 ms → 103 ms per sample)\n",
    "   - Moderate sequence lengths (128-256 tokens) may offer the best balance of performance and memory usage\n",
    "   - Continuous fine-tuning on diverse fake news sources is essential for practical deployment\n",
    "\n",
    "These results suggest that while MobileBERT offers reasonable computational efficiency for edge device deployment, its practical utility for fake news detection would require addressing the significant generalization gap through ongoing model updates and training on diverse and evolving patterns of misinformation.\n",
    "\n",
    "## Model Cleanup"
   ]
  },
  {
   "cell_type": "code",
   "execution_count": 31,
   "id": "219dce83",
   "metadata": {},
   "outputs": [
    {
     "name": "stdout",
     "output_type": "stream",
     "text": [
      "Model resources released\n"
     ]
    }
   ],
   "source": [
    "# Clean up models to free memory\n",
    "del model\n",
    "del tokenizer\n",
    "\n",
    "# Force garbage collection\n",
    "gc.collect()\n",
    "\n",
    "print(\"Model resources released\")"
   ]
  }
 ],
 "metadata": {
  "jupytext": {
   "cell_metadata_filter": "-all",
   "main_language": "python",
   "notebook_metadata_filter": "-all"
  },
  "kernelspec": {
   "display_name": "Python (myenv)",
   "language": "python",
   "name": "myenv"
  },
  "language_info": {
   "codemirror_mode": {
    "name": "ipython",
    "version": 3
   },
   "file_extension": ".py",
   "mimetype": "text/x-python",
   "name": "python",
   "nbconvert_exporter": "python",
   "pygments_lexer": "ipython3",
   "version": "3.12.1"
  }
 },
 "nbformat": 4,
 "nbformat_minor": 5
}
