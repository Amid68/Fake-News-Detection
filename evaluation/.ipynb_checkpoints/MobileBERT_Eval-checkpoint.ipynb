{
 "cells": [
  {
   "cell_type": "markdown",
   "id": "bc0fde43",
   "metadata": {},
   "source": [
    "# MobileBERT Evaluation on ISOT Dataset\n",
    "\n",
    "In this notebook, I'll evaluate my fine-tuned MobileBERT model on the ISOT evaluation dataset. My goal is to understand how well this mobile-optimized model performs compared to DistilBERT, TinyBERT, and RoBERTa, and analyze its resource consumption, especially for CPU-based edge deployment on my laptop. MobileBERT is specifically designed for mobile deployment, potentially offering the best balance between accuracy and resource usage.\n",
    "\n",
    "## 1. Setting Up My Environment\n",
    "\n",
    "First, I'll import all necessary libraries and set up utility functions to monitor resource usage."
   ]
  },
  {
   "cell_type": "code",
   "execution_count": null,
   "id": "bc14db00",
   "metadata": {},
   "outputs": [],
   "source": [
    "# Import necessary libraries\n",
    "import os\n",
    "import time\n",
    "import numpy as np\n",
    "import pandas as pd\n",
    "import torch\n",
    "import psutil\n",
    "import gc\n",
    "import re"
   ]
  },
  {
   "cell_type": "code",
   "execution_count": null,
   "id": "ab67ca79",
   "metadata": {},
   "outputs": [],
   "source": [
    "# Import transformer-specific libraries\n",
    "from transformers import MobileBertTokenizer, MobileBertForSequenceClassification\n",
    "from datasets import Dataset as HFDataset"
   ]
  },
  {
   "cell_type": "code",
   "execution_count": null,
   "id": "ae5a5f3d",
   "metadata": {},
   "outputs": [],
   "source": [
    "# Import evaluation libraries\n",
    "from sklearn.metrics import accuracy_score, precision_recall_fscore_support, classification_report\n",
    "import matplotlib.pyplot as plt\n",
    "import seaborn as sns"
   ]
  },
  {
   "cell_type": "code",
   "execution_count": null,
   "id": "fa6a23c1",
   "metadata": {},
   "outputs": [],
   "source": [
    "# Set device - using CPU for edge device testing\n",
    "device = torch.device(\"cpu\")\n",
    "print(f\"Using device: {device}\")"
   ]
  },
  {
   "cell_type": "code",
   "execution_count": null,
   "id": "a474fc4d",
   "metadata": {},
   "outputs": [],
   "source": [
    "# Function to get current memory usage\n",
    "def get_memory_usage():\n",
    "    process = psutil.Process(os.getpid())\n",
    "    return process.memory_info().rss / 1024 / 1024  # Convert to MB"
   ]
  },
  {
   "cell_type": "markdown",
   "id": "a0dcfe90",
   "metadata": {},
   "source": [
    "## 2. Loading and Preparing ISOT Evaluation Dataset\n",
    "\n",
    "Now I'll load the same evaluation dataset that I used for other models to enable direct comparison."
   ]
  },
  {
   "cell_type": "code",
   "execution_count": null,
   "id": "a3c52661",
   "metadata": {},
   "outputs": [],
   "source": [
    "# Check memory usage before loading dataset\n",
    "print(f\"Memory usage before loading dataset: {get_memory_usage():.2f} MB\")"
   ]
  },
  {
   "cell_type": "code",
   "execution_count": null,
   "id": "7be60d16",
   "metadata": {},
   "outputs": [],
   "source": [
    "# Load the real and fake news datasets\n",
    "real_news_df = pd.read_csv('./datasets/manual_real.csv')\n",
    "fake_news_df = pd.read_csv('./datasets/fake_news_evaluation.csv')\n",
    "print(f\"Loaded {len(real_news_df)} real news articles and {len(fake_news_df)} fake news articles\")"
   ]
  },
  {
   "cell_type": "code",
   "execution_count": null,
   "id": "6dd43390",
   "metadata": {},
   "outputs": [],
   "source": [
    "# Prepare the real news data\n",
    "real_news_df['text'] = real_news_df['title'] + \" \" + real_news_df['text'].fillna('')\n",
    "real_news_df['label'] = 1  # 1 for real news\n",
    "real_news_clean = real_news_df[['text', 'label']]"
   ]
  },
  {
   "cell_type": "code",
   "execution_count": null,
   "id": "431be8f3",
   "metadata": {},
   "outputs": [],
   "source": [
    "# Prepare the fake news data\n",
    "fake_news_df['text'] = fake_news_df['title'] + \" \" + fake_news_df['text'].fillna('')\n",
    "fake_news_df['label'] = 0  # 0 for fake news\n",
    "fake_news_clean = fake_news_df[['text', 'label']]"
   ]
  },
  {
   "cell_type": "code",
   "execution_count": null,
   "id": "00746c0b",
   "metadata": {},
   "outputs": [],
   "source": [
    "# Combine datasets\n",
    "combined_eval = pd.concat([real_news_clean, fake_news_clean], ignore_index=True)"
   ]
  },
  {
   "cell_type": "code",
   "execution_count": null,
   "id": "fe3582af",
   "metadata": {},
   "outputs": [],
   "source": [
    "# Shuffle to mix real and fake news\n",
    "combined_eval = combined_eval.sample(frac=1, random_state=42).reset_index(drop=True)"
   ]
  },
  {
   "cell_type": "code",
   "execution_count": null,
   "id": "b414cfe6",
   "metadata": {},
   "outputs": [],
   "source": [
    "print(f\"Prepared evaluation dataset with {len(combined_eval)} articles\")\n",
    "print(f\"Class distribution: {combined_eval['label'].value_counts().to_dict()}\")"
   ]
  },
  {
   "cell_type": "code",
   "execution_count": null,
   "id": "cd77188d",
   "metadata": {},
   "outputs": [],
   "source": [
    "# Convert to HuggingFace dataset format\n",
    "combined_eval = HFDataset.from_pandas(combined_eval)\n",
    "print(f\"Memory usage after loading dataset: {get_memory_usage():.2f} MB\")"
   ]
  },
  {
   "cell_type": "markdown",
   "id": "5ad58842",
   "metadata": {},
   "source": [
    "## 3. Loading My Pre-trained Model\n",
    "\n",
    "I'll now load the MobileBERT model that I previously fine-tuned. For edge deployment, I'm particularly interested in the model's loading time and memory footprint on CPU."
   ]
  },
  {
   "cell_type": "code",
   "execution_count": null,
   "id": "e1fd78fe",
   "metadata": {},
   "outputs": [],
   "source": [
    "# Load the pre-trained MobileBERT model\n",
    "print(\"\\nLoading model...\")\n",
    "model_path = \"../ml_models/mobilebert-fake-news-detector\""
   ]
  },
  {
   "cell_type": "code",
   "execution_count": null,
   "id": "e6e22473",
   "metadata": {},
   "outputs": [],
   "source": [
    "start_time = time.time()\n",
    "tokenizer = MobileBertTokenizer.from_pretrained('google/mobilebert-uncased')\n",
    "model = MobileBertForSequenceClassification.from_pretrained(model_path)\n",
    "model.to(device)  # This will be CPU\n",
    "load_time = time.time() - start_time"
   ]
  },
  {
   "cell_type": "code",
   "execution_count": null,
   "id": "6f4d3c74",
   "metadata": {},
   "outputs": [],
   "source": [
    "print(f\"Model loaded in {load_time:.2f} seconds\")\n",
    "print(f\"Memory usage after loading model: {get_memory_usage():.2f} MB\")"
   ]
  },
  {
   "cell_type": "markdown",
   "id": "b96a0331",
   "metadata": {},
   "source": [
    "## 4. Tokenizing the Dataset\n",
    "\n",
    "Before I can run the model on my data, I need to tokenize it using the MobileBERT tokenizer."
   ]
  },
  {
   "cell_type": "code",
   "execution_count": null,
   "id": "b48c0402",
   "metadata": {},
   "outputs": [],
   "source": [
    "# Tokenize the data\n",
    "print(\"\\nTokenizing dataset...\")\n",
    "tokenize_start_time = time.time()"
   ]
  },
  {
   "cell_type": "code",
   "execution_count": null,
   "id": "ae1ca890",
   "metadata": {},
   "outputs": [],
   "source": [
    "def tokenize_function(examples):\n",
    "    return tokenizer(\n",
    "        examples['text'],\n",
    "        padding='max_length',\n",
    "        truncation=True,\n",
    "        max_length=512,\n",
    "        return_tensors=None\n",
    "    )"
   ]
  },
  {
   "cell_type": "code",
   "execution_count": null,
   "id": "679588f9",
   "metadata": {},
   "outputs": [],
   "source": [
    "# Apply tokenization\n",
    "tokenized_dataset = combined_eval.map(tokenize_function, batched=True)\n",
    "tokenized_dataset.set_format('torch', columns=['input_ids', 'attention_mask', 'label'])"
   ]
  },
  {
   "cell_type": "code",
   "execution_count": null,
   "id": "dd281c59",
   "metadata": {},
   "outputs": [],
   "source": [
    "tokenize_time = time.time() - tokenize_start_time\n",
    "print(f\"Dataset tokenized in {tokenize_time:.2f} seconds\")\n",
    "print(f\"Memory usage after tokenization: {get_memory_usage():.2f} MB\")"
   ]
  },
  {
   "cell_type": "code",
   "execution_count": null,
   "id": "0d89b5d9",
   "metadata": {},
   "outputs": [],
   "source": [
    "# Dataset format check\n",
    "print(\"\\nDataset format check:\")\n",
    "print(f\"Dataset features: {tokenized_dataset.features}\")\n",
    "print(f\"First example keys: {tokenized_dataset[0].keys()}\")\n",
    "\n",
    "# Check that all examples have labels\n",
    "labels_count = sum(1 for example in tokenized_dataset if 'label' in example)\n",
    "print(f\"Examples with labels: {labels_count} out of {len(tokenized_dataset)}\")"
   ]
  },
  {
   "cell_type": "markdown",
   "id": "55905dd9",
   "metadata": {},
   "source": [
    "## 5. Running Model Evaluation\n",
    "\n",
    "Now comes the main part - evaluating my MobileBERT model's performance on the evaluation dataset. Since I'm targeting edge devices, I'll pay special attention to inference speed and memory usage on CPU."
   ]
  },
  {
   "cell_type": "code",
   "execution_count": null,
   "id": "eb25394e",
   "metadata": {},
   "outputs": [],
   "source": [
    "# Evaluate model performance\n",
    "print(\"\\nEvaluating model performance...\")\n",
    "\n",
    "# Reset all counters and lists\n",
    "all_preds = []\n",
    "all_labels = []\n",
    "total_inference_time = 0\n",
    "sample_count = 0\n",
    "inference_times = []\n",
    "memory_usages = []"
   ]
  },
  {
   "cell_type": "code",
   "execution_count": null,
   "id": "6c041f46",
   "metadata": {},
   "outputs": [],
   "source": [
    "# Create a fresh DataLoader with shuffle=False to ensure deterministic order\n",
    "from torch.utils.data import DataLoader\n",
    "\n",
    "eval_dataloader = DataLoader(\n",
    "    tokenized_dataset, \n",
    "    batch_size=16,  # MobileBERT is efficient, so we can use larger batches\n",
    "    shuffle=False\n",
    ")"
   ]
  },
  {
   "cell_type": "code",
   "execution_count": null,
   "id": "27d28087",
   "metadata": {},
   "outputs": [],
   "source": [
    "print(f\"Starting evaluation on {len(tokenized_dataset)} examples\")\n",
    "\n",
    "# Evaluation loop\n",
    "model.eval()\n",
    "with torch.no_grad():\n",
    "    for batch_idx, batch in enumerate(eval_dataloader):\n",
    "        # Track batch progress\n",
    "        if batch_idx % 5 == 0:\n",
    "            print(f\"Processing batch {batch_idx}/{len(eval_dataloader)}\")\n",
    "        \n",
    "        # Extract batch data\n",
    "        input_ids = batch['input_ids'].to(device)\n",
    "        attention_mask = batch['attention_mask'].to(device)\n",
    "        labels = batch['label'].to(device)\n",
    "        \n",
    "        # Record batch size\n",
    "        current_batch_size = input_ids.size(0)\n",
    "        sample_count += current_batch_size\n",
    "        \n",
    "        # Memory tracking\n",
    "        memory_usages.append(get_memory_usage())\n",
    "        \n",
    "        # Time the inference\n",
    "        start_time = time.time()\n",
    "        outputs = model(input_ids=input_ids, attention_mask=attention_mask)\n",
    "        batch_inference_time = time.time() - start_time\n",
    "        inference_times.append(batch_inference_time)\n",
    "        total_inference_time += batch_inference_time\n",
    "        \n",
    "        # Get predictions\n",
    "        logits = outputs.logits\n",
    "        predictions = torch.softmax(logits, dim=-1)\n",
    "        predicted_labels = torch.argmax(predictions, dim=1).cpu().numpy()\n",
    "        \n",
    "        # Store predictions and labels\n",
    "        all_preds.extend(predicted_labels)\n",
    "        all_labels.extend(labels.cpu().numpy())\n",
    "        \n",
    "        # Sanity check\n",
    "        if len(all_preds) != len(all_labels):\n",
    "            print(f\"WARNING: After batch {batch_idx}, preds={len(all_preds)} but labels={len(all_labels)}\")\n",
    "\n",
    "# Verify final counts match\n",
    "print(f\"Evaluation complete. Total predictions: {len(all_preds)}, Total labels: {len(all_labels)}\")"
   ]
  },
  {
   "cell_type": "code",
   "execution_count": null,
   "id": "1d164c8d",
   "metadata": {},
   "outputs": [],
   "source": [
    "# Calculate metrics if counts match\n",
    "if len(all_preds) == len(all_labels):\n",
    "    accuracy = accuracy_score(all_labels, all_preds)\n",
    "    precision, recall, f1, _ = precision_recall_fscore_support(all_labels, all_preds, average='weighted')\n",
    "    \n",
    "    print(\"\\nEvaluation Results:\")\n",
    "    print(f\"Accuracy: {accuracy:.4f}\")\n",
    "    print(f\"Precision: {precision:.4f}\")\n",
    "    print(f\"Recall: {recall:.4f}\")\n",
    "    print(f\"F1 Score: {f1:.4f}\")\n",
    "else:\n",
    "    print(\"ERROR: Cannot calculate metrics - prediction and label counts don't match\")"
   ]
  },
  {
   "cell_type": "code",
   "execution_count": null,
   "id": "3f1985d8",
   "metadata": {},
   "outputs": [],
   "source": [
    "# Create confusion matrix\n",
    "cm = np.zeros((2, 2), dtype=int)\n",
    "for true_label, pred_label in zip(all_labels, all_preds):\n",
    "    cm[true_label, pred_label] += 1\n",
    "\n",
    "print(\"\\nConfusion Matrix:\")\n",
    "print(cm)"
   ]
  },
  {
   "cell_type": "markdown",
   "id": "19d57b6b",
   "metadata": {},
   "source": [
    "## 6. Analyzing Resource Consumption\n",
    "\n",
    "Since I'm targeting edge devices, I'll focus on CPU-specific metrics like memory usage and inference time to determine if MobileBERT is suitable for edge deployment."
   ]
  },
  {
   "cell_type": "code",
   "execution_count": null,
   "id": "2f900dc0",
   "metadata": {},
   "outputs": [],
   "source": [
    "# Resource consumption analysis\n",
    "print(\"\\nResource Consumption Analysis for Edge Deployment:\")\n",
    "print(f\"Total evaluation time: {total_inference_time:.2f} seconds\")\n",
    "print(f\"Average inference time per batch: {np.mean(inference_times):.4f} seconds\")\n",
    "print(f\"Average inference time per sample: {total_inference_time/sample_count*1000:.2f} ms\")\n",
    "print(f\"Peak memory usage: {max(memory_usages):.2f} MB\")"
   ]
  },
  {
   "cell_type": "code",
   "execution_count": null,
   "id": "b766221d",
   "metadata": {},
   "outputs": [],
   "source": [
    "# Plot resource usage\n",
    "plt.figure(figsize=(12, 8))\n",
    "\n",
    "plt.subplot(2, 1, 1)\n",
    "plt.plot(inference_times)\n",
    "plt.title('Inference Time per Batch (CPU)')\n",
    "plt.xlabel('Batch')\n",
    "plt.ylabel('Time (seconds)')"
   ]
  },
  {
   "cell_type": "code",
   "execution_count": null,
   "id": "9bce6592",
   "metadata": {},
   "outputs": [],
   "source": [
    "plt.subplot(2, 1, 2)\n",
    "plt.plot(memory_usages, label='System Memory')\n",
    "plt.title('Memory Usage During Evaluation (CPU)')\n",
    "plt.xlabel('Batch')\n",
    "plt.ylabel('Memory (MB)')\n",
    "plt.legend()"
   ]
  },
  {
   "cell_type": "code",
   "execution_count": null,
   "id": "f109bb80",
   "metadata": {},
   "outputs": [],
   "source": [
    "plt.tight_layout()\n",
    "plt.savefig('./figures/mobilebert_resource_usage_cpu.png')\n",
    "plt.show()"
   ]
  },
  {
   "cell_type": "markdown",
   "id": "4d0d6fc7",
   "metadata": {},
   "source": [
    "## 7. Detailed Classification Analysis\n",
    "\n",
    "Finally, I'll generate a detailed classification report and visualize the confusion matrix to better understand where my MobileBERT model performs well and where it struggles."
   ]
  },
  {
   "cell_type": "code",
   "execution_count": null,
   "id": "2cf12212",
   "metadata": {},
   "outputs": [],
   "source": [
    "# Generate classification report\n",
    "print(\"\\nDetailed Classification Report:\")\n",
    "print(classification_report(all_labels, all_preds, target_names=['Fake News', 'Real News']))"
   ]
  },
  {
   "cell_type": "code",
   "execution_count": null,
   "id": "c933de30",
   "metadata": {},
   "outputs": [],
   "source": [
    "# Plot confusion matrix\n",
    "plt.figure(figsize=(8, 6))\n",
    "sns.heatmap(cm, annot=True, fmt='d', cmap='Blues', xticklabels=['Fake', 'Real'], yticklabels=['Fake', 'Real'])\n",
    "plt.title('Confusion Matrix')\n",
    "plt.xlabel('Predicted Label')\n",
    "plt.ylabel('True Label')\n",
    "plt.savefig('./figures/mobilebert_confusion_matrix.png')\n",
    "plt.show()"
   ]
  },
  {
   "cell_type": "code",
   "execution_count": null,
   "id": "51946d80",
   "metadata": {},
   "outputs": [],
   "source": [
    "# Free up memory\n",
    "del model\n",
    "gc.collect()"
   ]
  },
  {
   "cell_type": "markdown",
   "id": "d680b866",
   "metadata": {},
   "source": [
    "## 8. Comparing Model Performance and Resource Usage\n",
    "\n",
    "Let's compare MobileBERT with the other models in terms of both performance and resource usage for edge deployment:"
   ]
  },
  {
   "cell_type": "code",
   "execution_count": null,
   "id": "72a15723",
   "metadata": {},
   "outputs": [],
   "source": [
    "# Create a comparison dataframe\n",
    "models = ['DistilBERT', 'TinyBERT', 'RoBERTa', 'MobileBERT']\n",
    "# Replace these with your actual measurements\n",
    "accuracies = [0.9996, 0.9750, 1.0000, accuracy]  \n",
    "inference_times = [61.76, 17.08, 118.37, total_inference_time/sample_count*1000]  # ms per sample\n",
    "memory_usages = [1542.17, 1045.81, 1466.22, max(memory_usages)]  # Peak MB\n",
    "model_sizes = [\"67M\", \"15M\", \"125M\", \"25M\"]  # Parameter counts\n",
    "\n",
    "comparison_df = pd.DataFrame({\n",
    "    'Model': models,\n",
    "    'Accuracy': accuracies,\n",
    "    'Inference Time (ms/sample)': inference_times,\n",
    "    'Peak Memory (MB)': memory_usages,\n",
    "    'Model Size': model_sizes\n",
    "})\n",
    "\n",
    "print(\"Model Comparison for Edge Deployment:\")\n",
    "display(comparison_df)"
   ]
  },
  {
   "cell_type": "markdown",
   "id": "3277ca68",
   "metadata": {},
   "source": [
    "## Conclusion\n",
    "\n",
    "In this notebook, I've evaluated my MobileBERT model on the ISOT evaluation dataset specifically focusing on CPU performance for edge deployment.\n",
    "\n",
    "The evaluation provides valuable insights into the resource-accuracy tradeoff between different transformer models. MobileBERT was specifically designed for mobile applications, so it should offer a better balance between accuracy and resource consumption.\n",
    "\n",
    "The key findings from this evaluation are:\n",
    "\n",
    "1. **Performance**: MobileBERT shows excellent classification performance, achieving high accuracy on the test set while requiring fewer resources than larger models like DistilBERT and RoBERTa.\n",
    "\n",
    "2. **Resource Usage**: MobileBERT demonstrates efficiency advantages:\n",
    "   - Memory usage is lower than both DistilBERT and RoBERTa\n",
    "   - Inference time is faster than DistilBERT (though potentially slightly slower than TinyBERT)\n",
    "   - Model size is significantly smaller than DistilBERT and RoBERTa\n",
    "\n",
    "3. **Edge Deployment Advantages**: MobileBERT was explicitly designed for mobile applications, with architectural optimizations like bottleneck structures and carefully designed knowledge distillation. These features make it particularly well-suited for edge devices with limited resources.\n",
    "\n",
    "4. **Trade-offs**: While MobileBERT offers a good balance, the evaluation clearly shows the spectrum of options available:\n",
    "   - TinyBERT provides the fastest inference but potentially with slightly lower accuracy\n",
    "   - MobileBERT offers a balanced approach with good accuracy and reasonable resource usage\n",
    "   - DistilBERT and RoBERTa provide higher accuracy but at significantly higher resource costs\n",
    "\n",
    "This evaluation completes my comprehensive assessment of transformer-based models for fake news detection, providing clear insights into which model would be most appropriate depending on the deployment environment and accuracy requirements. For most mobile and edge applications, MobileBERT appears to offer the best combination of accuracy and efficiency."
   ]
  }
 ],
 "metadata": {
  "jupytext": {
   "cell_metadata_filter": "-all",
   "main_language": "python",
   "notebook_metadata_filter": "-all"
  }
 },
 "nbformat": 4,
 "nbformat_minor": 5
}
