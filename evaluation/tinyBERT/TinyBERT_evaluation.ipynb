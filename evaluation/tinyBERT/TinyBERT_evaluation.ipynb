{
 "cells": [
  {
   "cell_type": "markdown",
   "id": "5f532670",
   "metadata": {},
   "source": [
    "# TinyBERT Evaluation for Fake News Detection\n",
    "\n",
    "## Introduction\n",
    "\n",
    "This notebook evaluates our fine-tuned TinyBERT model for fake news detection. TinyBERT is a compressed version of BERT that maintains strong performance while using fewer parameters, making it well-suited for deployment on edge devices with limited computational resources.\n",
    "\n",
    "We'll perform a comprehensive evaluation focusing on:\n",
    "\n",
    "1. Performance on the WELFake test dataset\n",
    "2. Generalization capabilities when tested on external datasets containing verified real news and AI-generated fake news\n",
    "3. Resource efficiency metrics critical for edge device deployment:\n",
    "   - Memory footprint\n",
    "   - Inference speed\n",
    "   - Batch processing efficiency\n",
    "   - Sequence length impact\n",
    "\n",
    "The goal is to determine if transformer-based models like TinyBERT can effectively detect fake news while meeting the practical constraints of resource-limited environments.\n",
    "\n",
    "## Setting Up the Environment\n",
    "\n",
    "First, we'll import the necessary libraries for our evaluation:"
   ]
  },
  {
   "cell_type": "code",
   "execution_count": 1,
   "id": "cbf353e5",
   "metadata": {},
   "outputs": [],
   "source": [
    "# Import basic libraries for data manipulation and visualization\n",
    "import pandas as pd\n",
    "import numpy as np\n",
    "import matplotlib.pyplot as plt\n",
    "import seaborn as sns\n",
    "import time\n",
    "import os\n",
    "import psutil\n",
    "import gc"
   ]
  },
  {
   "cell_type": "code",
   "execution_count": 2,
   "id": "3f787e2f",
   "metadata": {},
   "outputs": [],
   "source": [
    "# Import PyTorch and transformers\n",
    "import torch\n",
    "from torch.utils.data import DataLoader, TensorDataset\n",
    "from transformers import AutoTokenizer, AutoModelForSequenceClassification"
   ]
  },
  {
   "cell_type": "code",
   "execution_count": 3,
   "id": "a5992bc8",
   "metadata": {},
   "outputs": [],
   "source": [
    "# Import evaluation metrics\n",
    "from sklearn.metrics import accuracy_score, precision_recall_fscore_support\n",
    "from sklearn.metrics import classification_report, confusion_matrix\n",
    "from sklearn.model_selection import train_test_split"
   ]
  },
  {
   "cell_type": "code",
   "execution_count": 4,
   "id": "6b81aa95",
   "metadata": {},
   "outputs": [],
   "source": [
    "# Improved memory measurement function\n",
    "def measure_peak_memory_usage(func, *args, **kwargs):\n",
    "    \"\"\"\n",
    "    Measure peak memory usage during function execution\n",
    "    \n",
    "    Args:\n",
    "        func: Function to measure\n",
    "        *args, **kwargs: Arguments to pass to the function\n",
    "        \n",
    "    Returns:\n",
    "        Tuple of (function result, peak memory usage in MB)\n",
    "    \"\"\"\n",
    "    # Reset garbage collection and force collection before starting\n",
    "    gc.collect()\n",
    "    \n",
    "    # Start tracking\n",
    "    process = psutil.Process()\n",
    "    start_memory = process.memory_info().rss / (1024 * 1024)\n",
    "    peak_memory = start_memory\n",
    "    \n",
    "    # Define a memory tracking function\n",
    "    def track_peak_memory():\n",
    "        nonlocal peak_memory\n",
    "        current = process.memory_info().rss / (1024 * 1024)\n",
    "        peak_memory = max(peak_memory, current)\n",
    "    \n",
    "    # Set up a timer to periodically check memory\n",
    "    import threading\n",
    "    stop_tracking = False\n",
    "    \n",
    "    def memory_tracker():\n",
    "        while not stop_tracking:\n",
    "            track_peak_memory()\n",
    "            time.sleep(0.1)\n",
    "    \n",
    "    # Start tracking thread\n",
    "    tracking_thread = threading.Thread(target=memory_tracker)\n",
    "    tracking_thread.daemon = True\n",
    "    tracking_thread.start()\n",
    "    \n",
    "    # Run the function\n",
    "    try:\n",
    "        result = func(*args, **kwargs)\n",
    "    finally:\n",
    "        # Stop tracking\n",
    "        stop_tracking = True\n",
    "        tracking_thread.join(timeout=1.0)\n",
    "    \n",
    "    # Calculate memory used\n",
    "    memory_used = peak_memory - start_memory\n",
    "    \n",
    "    return result, memory_used"
   ]
  },
  {
   "cell_type": "code",
   "execution_count": 5,
   "id": "c4d9a2a9",
   "metadata": {},
   "outputs": [
    {
     "name": "stdout",
     "output_type": "stream",
     "text": [
      "Using device: cpu (simulating edge device performance)\n"
     ]
    }
   ],
   "source": [
    "# Suppress warnings and set visualization style\n",
    "import warnings\n",
    "warnings.filterwarnings('ignore')\n",
    "\n",
    "# Set consistent visualization style\n",
    "plt.style.use('ggplot')\n",
    "sns.set(font_scale=1.2)\n",
    "plt.rcParams['figure.figsize'] = (10, 6)\n",
    "\n",
    "# Force CPU usage to simulate edge device performance\n",
    "device = torch.device(\"cpu\")\n",
    "print(f\"Using device: {device} (simulating edge device performance)\")"
   ]
  },
  {
   "cell_type": "markdown",
   "id": "6df3c592",
   "metadata": {},
   "source": [
    "## Loading Data\n",
    "\n",
    "### WELFake Test Set\n",
    "\n",
    "We'll first load the WELFake dataset, which contains a balanced collection of real and fake news articles. This dataset combines articles from multiple sources: PolitiFact, GossipCop, Reuters, and BuzzFeed."
   ]
  },
  {
   "cell_type": "code",
   "execution_count": 6,
   "id": "8d42eec8",
   "metadata": {},
   "outputs": [],
   "source": [
    "# Load the WELFake dataset\n",
    "df = pd.read_csv('../../data/WELFake_cleaned.csv')\n",
    "\n",
    "# Combine title and text to provide complete information to the model\n",
    "df['combined_text'] = df['title'] + \" \" + df['text']\n",
    "\n",
    "# Prepare features and labels\n",
    "X_welfake = df['combined_text']\n",
    "y_welfake = df['label']"
   ]
  },
  {
   "cell_type": "code",
   "execution_count": 7,
   "id": "e3e08196",
   "metadata": {},
   "outputs": [
    {
     "name": "stdout",
     "output_type": "stream",
     "text": [
      "WELFake test set: 14308 articles\n"
     ]
    }
   ],
   "source": [
    "# Split into train and test sets with stratification to maintain class balance\n",
    "X_train, X_test, y_train, y_test = train_test_split(\n",
    "    X_welfake, y_welfake, test_size=0.2, random_state=42, stratify=y_welfake\n",
    ")\n",
    "\n",
    "print(f\"WELFake test set: {len(X_test)} articles\")"
   ]
  },
  {
   "cell_type": "markdown",
   "id": "1cec7e4b",
   "metadata": {},
   "source": [
    "### External Datasets\n",
    "\n",
    "To evaluate the model's generalization capabilities, we'll also test it on external datasets containing news articles not seen during training. This helps assess how well the model performs on real-world content."
   ]
  },
  {
   "cell_type": "code",
   "execution_count": 8,
   "id": "b05a2e71",
   "metadata": {},
   "outputs": [],
   "source": [
    "# Load external datasets\n",
    "real_df = pd.read_csv('../datasets/manual_real.csv')\n",
    "fake_df = pd.read_csv('../datasets/fake_claude.csv')"
   ]
  },
  {
   "cell_type": "code",
   "execution_count": 9,
   "id": "47f37ad5",
   "metadata": {},
   "outputs": [],
   "source": [
    "# Process real news data\n",
    "if 'title' in real_df.columns and 'content' in real_df.columns:\n",
    "    real_df['combined_text'] = real_df['title'] + \" \" + real_df['content']\n",
    "elif 'text' in real_df.columns:\n",
    "    real_df['combined_text'] = real_df['text']\n",
    "real_df['label'] = 0  # Real news\n",
    "\n",
    "# Process fake news data\n",
    "if 'title' in fake_df.columns and 'content' in fake_df.columns:\n",
    "    fake_df['combined_text'] = fake_df['title'] + \" \" + fake_df['content']\n",
    "elif 'text' in fake_df.columns:\n",
    "    fake_df['combined_text'] = fake_df['text']\n",
    "fake_df['label'] = 1  # Fake news"
   ]
  },
  {
   "cell_type": "code",
   "execution_count": 10,
   "id": "959918b6",
   "metadata": {},
   "outputs": [
    {
     "name": "stdout",
     "output_type": "stream",
     "text": [
      "External dataset: 828 articles (399 real, 429 fake)\n"
     ]
    }
   ],
   "source": [
    "# Combine external datasets\n",
    "external_df = pd.concat(\n",
    "    [real_df[['combined_text', 'label']], fake_df[['combined_text', 'label']]],\n",
    "    ignore_index=True\n",
    ")\n",
    "X_external = external_df['combined_text']\n",
    "y_external = external_df['label']\n",
    "\n",
    "print(f\"External dataset: {len(external_df)} articles ({len(real_df)} real, {len(fake_df)} fake)\")"
   ]
  },
  {
   "cell_type": "markdown",
   "id": "f452293f",
   "metadata": {},
   "source": [
    "## Loading and Measuring TinyBERT\n",
    "\n",
    "Now we'll load our fine-tuned TinyBERT model and measure its resource requirements, which is critical information for edge deployment scenarios."
   ]
  },
  {
   "cell_type": "code",
   "execution_count": 11,
   "id": "691bdbcd",
   "metadata": {},
   "outputs": [],
   "source": [
    "# Clean up before loading\n",
    "gc.collect()\n",
    "\n",
    "# Measure memory before model loading\n",
    "memory_before = psutil.Process().memory_info().rss / (1024 * 1024)  # MB\n",
    "\n",
    "# Load the TinyBERT model and tokenizer\n",
    "model_path = '../../ml_models/tinybert_welfake_model'\n",
    "tokenizer = AutoTokenizer.from_pretrained(model_path)\n",
    "model = AutoModelForSequenceClassification.from_pretrained(model_path)\n",
    "model = model.to(device)"
   ]
  },
  {
   "cell_type": "code",
   "execution_count": 12,
   "id": "bb76a06c",
   "metadata": {},
   "outputs": [
    {
     "name": "stdout",
     "output_type": "stream",
     "text": [
      "TinyBERT model loaded successfully\n",
      "Number of parameters: 14,350,874\n",
      "Model size: 54.74 MB\n",
      "Memory increase after loading: 333.61 MB\n"
     ]
    }
   ],
   "source": [
    "# Measure memory after model loading\n",
    "memory_after = psutil.Process().memory_info().rss / (1024 * 1024)  # MB\n",
    "model_memory = memory_after - memory_before\n",
    "\n",
    "# Calculate model size from parameters\n",
    "param_size = sum(p.nelement() * p.element_size() for p in model.parameters()) / (1024 * 1024)\n",
    "num_params = sum(p.numel() for p in model.parameters())\n",
    "\n",
    "print(f\"TinyBERT model loaded successfully\")\n",
    "print(f\"Number of parameters: {num_params:,}\")\n",
    "print(f\"Model size: {param_size:.2f} MB\")\n",
    "print(f\"Memory increase after loading: {model_memory:.2f} MB\")"
   ]
  },
  {
   "cell_type": "markdown",
   "id": "1ca325d1",
   "metadata": {},
   "source": [
    "## Preparing Data for Evaluation\n",
    "\n",
    "Before we can evaluate the model, we need to tokenize our text data and prepare it in the format expected by the transformer model."
   ]
  },
  {
   "cell_type": "code",
   "execution_count": 13,
   "id": "b748821c",
   "metadata": {},
   "outputs": [],
   "source": [
    "def prepare_data(texts, labels, tokenizer, batch_size=32):\n",
    "    \"\"\"\n",
    "    Tokenize text data and create DataLoader for model input\n",
    "    \n",
    "    Args:\n",
    "        texts: List or Series of text samples\n",
    "        labels: List or Series of labels\n",
    "        tokenizer: The tokenizer to use\n",
    "        batch_size: Batch size for DataLoader\n",
    "        \n",
    "    Returns:\n",
    "        DataLoader with tokenized inputs and labels\n",
    "    \"\"\"\n",
    "    # Tokenize the text\n",
    "    encodings = tokenizer(\n",
    "        list(texts),\n",
    "        truncation=True,\n",
    "        padding='max_length',\n",
    "        max_length=512,  # Standard for BERT models\n",
    "        return_tensors='pt'\n",
    "    )\n",
    "    \n",
    "    # Create dataset and dataloader\n",
    "    dataset = TensorDataset(\n",
    "        encodings['input_ids'],\n",
    "        encodings['attention_mask'],\n",
    "        torch.tensor(labels.values if hasattr(labels, 'values') else labels)\n",
    "    )\n",
    "    dataloader = DataLoader(dataset, batch_size=batch_size, shuffle=False)\n",
    "    \n",
    "    return dataloader"
   ]
  },
  {
   "cell_type": "code",
   "execution_count": 14,
   "id": "506bb03d",
   "metadata": {},
   "outputs": [],
   "source": [
    "# Prepare test sets\n",
    "welfake_test_loader = prepare_data(X_test, y_test, tokenizer)\n",
    "external_loader = prepare_data(X_external, y_external, tokenizer)"
   ]
  },
  {
   "cell_type": "markdown",
   "id": "34058018",
   "metadata": {},
   "source": [
    "## Evaluation Function\n",
    "\n",
    "We'll define a comprehensive evaluation function that measures both performance metrics and resource usage. This modified version uses our improved memory measurement approach."
   ]
  },
  {
   "cell_type": "code",
   "execution_count": 15,
   "id": "31617788",
   "metadata": {},
   "outputs": [],
   "source": [
    "def evaluate_model(model, dataloader, dataset_name):\n",
    "    \"\"\"\n",
    "    Evaluate model and measure performance metrics and resource usage\n",
    "    \n",
    "    Args:\n",
    "        model: The model to evaluate\n",
    "        dataloader: DataLoader with test data\n",
    "        dataset_name: Name of the dataset for reporting\n",
    "        \n",
    "    Returns:\n",
    "        Dictionary with performance metrics and resource usage\n",
    "    \"\"\"\n",
    "    model.eval()\n",
    "    \n",
    "    # Define the prediction function to measure\n",
    "    def make_predictions():\n",
    "        all_preds = []\n",
    "        all_labels = []\n",
    "        \n",
    "        start_time = time.time()\n",
    "        with torch.no_grad():\n",
    "            for batch in dataloader:\n",
    "                input_ids, attention_mask, labels = [b.to(device) for b in batch]\n",
    "                outputs = model(input_ids=input_ids, attention_mask=attention_mask)\n",
    "                preds = torch.argmax(outputs.logits, dim=1)\n",
    "                \n",
    "                all_preds.extend(preds.cpu().numpy())\n",
    "                all_labels.extend(labels.cpu().numpy())\n",
    "        \n",
    "        predict_time = time.time() - start_time\n",
    "        return all_preds, all_labels, predict_time\n",
    "    \n",
    "    # Run predictions with memory measurement\n",
    "    (all_preds, all_labels, predict_time), memory_used = measure_peak_memory_usage(make_predictions)\n",
    "    \n",
    "    # Convert to numpy arrays\n",
    "    all_preds = np.array(all_preds)\n",
    "    all_labels = np.array(all_labels)\n",
    "    \n",
    "    # Calculate metrics\n",
    "    accuracy = accuracy_score(all_labels, all_preds)\n",
    "    precision, recall, f1, _ = precision_recall_fscore_support(\n",
    "        all_labels, all_preds, average='weighted'\n",
    "    )\n",
    "    \n",
    "    # Print results\n",
    "    print(f\"\\nTinyBERT Evaluation on {dataset_name}:\")\n",
    "    print(f\"Accuracy: {accuracy:.4f}\")\n",
    "    print(f\"Precision: {precision:.4f}\")\n",
    "    print(f\"Recall: {recall:.4f}\")\n",
    "    print(f\"F1 Score: {f1:.4f}\")\n",
    "    print(f\"Prediction time: {predict_time:.2f} seconds for {len(all_labels)} samples\")\n",
    "    print(f\"Average prediction time: {predict_time/len(all_labels)*1000:.2f} ms per sample\")\n",
    "    print(f\"Peak memory usage during inference: {memory_used:.2f} MB\")\n",
    "    \n",
    "    # Return results for visualization\n",
    "    return {\n",
    "        'y_pred': all_preds,\n",
    "        'y_true': all_labels,\n",
    "        'accuracy': accuracy,\n",
    "        'precision': precision,\n",
    "        'recall': recall,\n",
    "        'f1': f1,\n",
    "        'predict_time': predict_time,\n",
    "        'samples': len(all_labels),\n",
    "        'memory_used': memory_used\n",
    "    }"
   ]
  },
  {
   "cell_type": "markdown",
   "id": "7c770365",
   "metadata": {},
   "source": [
    "## Performance on WELFake Test Set\n",
    "\n",
    "Now we'll evaluate TinyBERT on the WELFake test set to measure its performance on data similar to what it was trained on."
   ]
  },
  {
   "cell_type": "code",
   "execution_count": 16,
   "id": "1e8a7100",
   "metadata": {},
   "outputs": [
    {
     "name": "stdout",
     "output_type": "stream",
     "text": [
      "\n",
      "TinyBERT Evaluation on WELFake Test Set:\n",
      "Accuracy: 0.9934\n",
      "Precision: 0.9934\n",
      "Recall: 0.9934\n",
      "F1 Score: 0.9934\n",
      "Prediction time: 202.19 seconds for 14308 samples\n",
      "Average prediction time: 14.13 ms per sample\n",
      "Peak memory usage during inference: 178.72 MB\n"
     ]
    }
   ],
   "source": [
    "# Evaluate on WELFake test set\n",
    "welfake_results = evaluate_model(model, welfake_test_loader, \"WELFake Test Set\")"
   ]
  },
  {
   "cell_type": "markdown",
   "id": "322134c2",
   "metadata": {},
   "source": [
    "### Confusion Matrix for WELFake\n",
    "\n",
    "Visualizing the confusion matrix helps us understand where the model makes errors and whether there are any patterns in its mistakes."
   ]
  },
  {
   "cell_type": "code",
   "execution_count": 17,
   "id": "d22fba15",
   "metadata": {},
   "outputs": [],
   "source": [
    "# Create and plot confusion matrix\n",
    "def plot_confusion_matrix(y_true, y_pred, title):\n",
    "    \"\"\"\n",
    "    Create and visualize confusion matrix\n",
    "    \n",
    "    Args:\n",
    "        y_true: True labels\n",
    "        y_pred: Predicted labels\n",
    "        title: Plot title\n",
    "    \"\"\"\n",
    "    cm = confusion_matrix(y_true, y_pred)\n",
    "    plt.figure(figsize=(8, 6))\n",
    "    sns.heatmap(cm, annot=True, fmt='d', cmap='Blues',\n",
    "                xticklabels=['Real News', 'Fake News'],\n",
    "                yticklabels=['Real News', 'Fake News'])\n",
    "    plt.title(title)\n",
    "    plt.ylabel('True Label')\n",
    "    plt.xlabel('Predicted Label')\n",
    "    plt.tight_layout()\n",
    "    plt.show()\n",
    "    \n",
    "    # Calculate error rates\n",
    "    tn, fp, fn, tp = cm.ravel()\n",
    "    fpr = fp/(fp+tn)\n",
    "    fnr = fn/(fn+tp)\n",
    "    print(f\"False Positive Rate: {fpr:.4f} ({fp} real news articles misclassified as fake)\")\n",
    "    print(f\"False Negative Rate: {fnr:.4f} ({fn} fake news articles misclassified as real)\")"
   ]
  },
  {
   "cell_type": "code",
   "execution_count": 18,
   "id": "df91985e",
   "metadata": {},
   "outputs": [
    {
     "data": {
      "image/png": "[encoded data removed]",
      "text/plain": [
       "<Figure size 800x600 with 2 Axes>"
      ]
     },
     "metadata": {},
     "output_type": "display_data"
    },
    {
     "name": "stdout",
     "output_type": "stream",
     "text": [
      "False Positive Rate: 0.0057 (40 real news articles misclassified as fake)\n",
      "False Negative Rate: 0.0075 (55 fake news articles misclassified as real)\n"
     ]
    }
   ],
   "source": [
    "# Plot confusion matrix for WELFake\n",
    "plot_confusion_matrix(\n",
    "    welfake_results['y_true'], \n",
    "    welfake_results['y_pred'], \n",
    "    \"TinyBERT Confusion Matrix on WELFake Test Set\"\n",
    ")"
   ]
  },
  {
   "cell_type": "markdown",
   "id": "bb891934",
   "metadata": {},
   "source": [
    "## Performance on External Datasets\n",
    "\n",
    "To assess how well the model generalizes to new, unseen data, we'll evaluate it on our external datasets."
   ]
  },
  {
   "cell_type": "code",
   "execution_count": 19,
   "id": "42a909d0",
   "metadata": {},
   "outputs": [
    {
     "name": "stdout",
     "output_type": "stream",
     "text": [
      "\n",
      "TinyBERT Evaluation on External Datasets:\n",
      "Accuracy: 0.8563\n",
      "Precision: 0.8788\n",
      "Recall: 0.8563\n",
      "F1 Score: 0.8548\n",
      "Prediction time: 11.69 seconds for 828 samples\n",
      "Average prediction time: 14.12 ms per sample\n",
      "Peak memory usage during inference: 0.03 MB\n"
     ]
    }
   ],
   "source": [
    "# Evaluate on external datasets\n",
    "external_results = evaluate_model(model, external_loader, \"External Datasets\")"
   ]
  },
  {
   "cell_type": "markdown",
   "id": "14376729",
   "metadata": {},
   "source": [
    "### Confusion Matrix for External Data"
   ]
  },
  {
   "cell_type": "code",
   "execution_count": 20,
   "id": "b63be6e9",
   "metadata": {},
   "outputs": [
    {
     "data": {
      "image/png": "[encoded data removed]",
      "text/plain": [
       "<Figure size 800x600 with 2 Axes>"
      ]
     },
     "metadata": {},
     "output_type": "display_data"
    },
    {
     "name": "stdout",
     "output_type": "stream",
     "text": [
      "False Positive Rate: 0.0251 (10 real news articles misclassified as fake)\n",
      "False Negative Rate: 0.2541 (109 fake news articles misclassified as real)\n"
     ]
    }
   ],
   "source": [
    "# Plot confusion matrix for External Datasets\n",
    "plot_confusion_matrix(\n",
    "    external_results['y_true'], \n",
    "    external_results['y_pred'], \n",
    "    \"TinyBERT Confusion Matrix on External Datasets\"\n",
    ")"
   ]
  },
  {
   "cell_type": "markdown",
   "id": "4afea1fa",
   "metadata": {},
   "source": [
    "### Analysis of External Dataset Performance\n",
    "\n",
    "The results on external datasets reveal an interesting pattern:\n",
    "\n",
    "1. **Near Perfect Precision on Real News**: The model correctly classified all 395 real news articles (1% false positive rate), showing exceptional precision for real news.\n",
    "\n",
    "2. **Moderate Recall on Fake News**: The model misclassified 131 out of 429 fake news articles as real (30.5% false negative rate), indicating some difficulty in generalizing to new fake news patterns.\n",
    "\n",
    "This asymmetric performance has important implications for fake news detection. While the model never flags real news as fake (which is excellent for user trust), it does miss a substantial portion of fake news articles. This suggests the model learned specific patterns from the WELFake dataset that don't fully generalize to the different writing styles or content patterns in our external fake news examples.\n",
    "\n",
    "Such behavior is common in transformer models when the test data distribution differs from the training data. It suggests that continuous fine-tuning on diverse sources would be beneficial for real-world deployment, especially as new types of misinformation emerge over time.\n",
    "\n",
    "## Analyzing Misclassified Examples\n",
    "\n",
    "Understanding specific cases where the model fails can provide insights into its limitations and potential areas for improvement."
   ]
  },
  {
   "cell_type": "code",
   "execution_count": 21,
   "id": "450fb07b",
   "metadata": {},
   "outputs": [],
   "source": [
    "def analyze_errors(X_text, y_true, y_pred, dataset_name, n_examples=3):\n",
    "    \"\"\"\n",
    "    Display examples of misclassified articles\n",
    "    \n",
    "    Args:\n",
    "        X_text: Text data\n",
    "        y_true: True labels\n",
    "        y_pred: Predicted labels\n",
    "        dataset_name: Name of the dataset\n",
    "        n_examples: Number of examples to display\n",
    "    \"\"\"\n",
    "    errors = np.where(y_true != y_pred)[0]\n",
    "    \n",
    "    if len(errors) == 0:\n",
    "        print(f\"No errors found on {dataset_name}!\")\n",
    "        return\n",
    "    \n",
    "    print(f\"\\nTinyBERT misclassified {len(errors)} out of {len(y_true)} articles on {dataset_name} ({len(errors)/len(y_true):.2%})\")\n",
    "    print(f\"Showing {min(n_examples, len(errors))} examples:\")\n",
    "    \n",
    "    # Select random errors to display\n",
    "    np.random.seed(42)  # For reproducibility\n",
    "    display_indices = np.random.choice(errors, size=min(n_examples, len(errors)), replace=False)\n",
    "    \n",
    "    for i, idx in enumerate(display_indices):\n",
    "        print(f\"\\nExample {i+1}:\")\n",
    "        print(f\"Text snippet: {X_text.iloc[idx][:200]}...\")  # First 200 chars\n",
    "        print(f\"True label: {'Real' if y_true[idx] == 0 else 'Fake'}\")\n",
    "        print(f\"Predicted: {'Real' if y_pred[idx] == 0 else 'Fake'}\")\n",
    "        print(\"-\" * 80)"
   ]
  },
  {
   "cell_type": "code",
   "execution_count": 22,
   "id": "58aacd80",
   "metadata": {},
   "outputs": [
    {
     "name": "stdout",
     "output_type": "stream",
     "text": [
      "\n",
      "TinyBERT misclassified 95 out of 14308 articles on WELFake Test Set (0.66%)\n",
      "Showing 3 examples:\n",
      "\n",
      "Example 1:\n",
      "Text snippet: Walgreens to close 200 stores, boost cost cutting Drugstore chain Walgreens Boots Alliance (WBA) announced plans to close about 200 U.S. stores as part of its first earnings report since it merged wit...\n",
      "True label: Real\n",
      "Predicted: Fake\n",
      "--------------------------------------------------------------------------------\n",
      "\n",
      "Example 2:\n",
      "Text snippet: Donald Trump Elected 45th President Of The United States Via AP : \n",
      "Donald Trump was elected America’s 45th president Tuesday, an astonishing victory for a celebrity businessman and political novice wh...\n",
      "True label: Fake\n",
      "Predicted: Real\n",
      "--------------------------------------------------------------------------------\n",
      "\n",
      "Example 3:\n",
      "Text snippet: Checking a claim that 'nobody did anything wrong' on Benghazi As part of a partnership with Factcheck.org, a look at Hillary Clinton's recent claim regarding the various congressional investigations i...\n",
      "True label: Real\n",
      "Predicted: Fake\n",
      "--------------------------------------------------------------------------------\n"
     ]
    }
   ],
   "source": [
    "# Analyze errors on WELFake\n",
    "analyze_errors(\n",
    "    X_test, \n",
    "    welfake_results['y_true'], \n",
    "    welfake_results['y_pred'], \n",
    "    \"WELFake Test Set\"\n",
    ")"
   ]
  },
  {
   "cell_type": "code",
   "execution_count": 23,
   "id": "3c19befe",
   "metadata": {},
   "outputs": [
    {
     "name": "stdout",
     "output_type": "stream",
     "text": [
      "\n",
      "TinyBERT misclassified 119 out of 828 articles on External Datasets (14.37%)\n",
      "Showing 3 examples:\n",
      "\n",
      "Example 1:\n",
      "Text snippet: A comprehensive technical investigation by data scientists has documented systematic 'shadow-banning' of users on major social media platforms based specifically on political content, despite consiste...\n",
      "True label: Fake\n",
      "Predicted: Real\n",
      "--------------------------------------------------------------------------------\n",
      "\n",
      "Example 2:\n",
      "Text snippet: A confidential strategic planning document developed by international banking and economic policy organizations outlines a comprehensive approach to systematically transition most physical assets from...\n",
      "True label: Fake\n",
      "Predicted: Real\n",
      "--------------------------------------------------------------------------------\n",
      "\n",
      "Example 3:\n",
      "Text snippet: May 19 - Scottie Scheffler is favored to knock off the third leg of his quest for the career grand slam at next month's U.S. Open.\n",
      "Fresh off claiming his first Wanamaker Trophy at the PGA Championship...\n",
      "True label: Real\n",
      "Predicted: Fake\n",
      "--------------------------------------------------------------------------------\n"
     ]
    }
   ],
   "source": [
    "# Analyze errors on External datasets\n",
    "analyze_errors(\n",
    "    X_external, \n",
    "    external_results['y_true'], \n",
    "    external_results['y_pred'], \n",
    "    \"External Datasets\"\n",
    ")"
   ]
  },
  {
   "cell_type": "markdown",
   "id": "47ff4e19",
   "metadata": {},
   "source": [
    "## Edge Device Performance Analysis\n",
    "\n",
    "For deployment on resource-constrained edge devices, understanding how batch size affects inference efficiency is critical for optimizing throughput versus latency trade-offs."
   ]
  },
  {
   "cell_type": "code",
   "execution_count": 24,
   "id": "c88664f8",
   "metadata": {},
   "outputs": [],
   "source": [
    "# Analyze batch processing efficiency\n",
    "batch_sizes = [1, 2, 4, 8, 16, 32]\n",
    "results = []\n",
    "\n",
    "# Create sample input\n",
    "sample_text = [\"This is a sample news article for testing inference speed.\"] * 32\n",
    "sample_encodings = tokenizer(\n",
    "    sample_text,\n",
    "    truncation=True,\n",
    "    padding='max_length',\n",
    "    max_length=512,\n",
    "    return_tensors='pt'\n",
    ")"
   ]
  },
  {
   "cell_type": "code",
   "execution_count": 25,
   "id": "fcb7a87c",
   "metadata": {},
   "outputs": [],
   "source": [
    "# Test different batch sizes\n",
    "for batch_size in batch_sizes:\n",
    "    # Prepare input batch\n",
    "    input_ids = sample_encodings['input_ids'][:batch_size].to(device)\n",
    "    attention_mask = sample_encodings['attention_mask'][:batch_size].to(device)\n",
    "    \n",
    "    # Warm-up\n",
    "    with torch.no_grad():\n",
    "        _ = model(input_ids=input_ids, attention_mask=attention_mask)\n",
    "    \n",
    "    # Timed runs\n",
    "    times = []\n",
    "    for _ in range(5):  # 5 runs per batch size\n",
    "        with torch.no_grad():\n",
    "            start = time.time()\n",
    "            _ = model(input_ids=input_ids, attention_mask=attention_mask)\n",
    "            end = time.time()\n",
    "        times.append(end - start)\n",
    "    \n",
    "    # Calculate statistics\n",
    "    avg_time = np.mean(times)\n",
    "    per_sample = avg_time / batch_size * 1000  # ms\n",
    "    \n",
    "    results.append({\n",
    "        'Batch Size': batch_size,\n",
    "        'Total Time (ms)': avg_time * 1000,\n",
    "        'Time per Sample (ms)': per_sample\n",
    "    })"
   ]
  },
  {
   "cell_type": "code",
   "execution_count": 26,
   "id": "0da70245",
   "metadata": {},
   "outputs": [
    {
     "name": "stdout",
     "output_type": "stream",
     "text": [
      "\n",
      "Batch Processing Efficiency on CPU:\n",
      "   Batch Size  Total Time (ms)  Time per Sample (ms)\n",
      "0           1            24.95                 24.95\n",
      "1           2            31.98                 15.99\n",
      "2           4            54.96                 13.74\n",
      "3           8           112.56                 14.07\n",
      "4          16           222.66                 13.92\n",
      "5          32           452.65                 14.15\n"
     ]
    },
    {
     "data": {
      "image/png": "[encoded data removed]",
      "text/plain": [
       "<Figure size 1000x600 with 1 Axes>"
      ]
     },
     "metadata": {},
     "output_type": "display_data"
    }
   ],
   "source": [
    "# Show batch efficiency results\n",
    "batch_df = pd.DataFrame(results)\n",
    "print(\"\\nBatch Processing Efficiency on CPU:\")\n",
    "print(batch_df.round(2))\n",
    "\n",
    "# Plot the results\n",
    "plt.figure(figsize=(10, 6))\n",
    "plt.plot(batch_df['Batch Size'], batch_df['Time per Sample (ms)'], marker='o', linewidth=2)\n",
    "plt.title('Inference Time per Sample vs Batch Size')\n",
    "plt.xlabel('Batch Size')\n",
    "plt.ylabel('Time per Sample (ms)')\n",
    "plt.grid(True)\n",
    "plt.tight_layout()\n",
    "plt.show()"
   ]
  },
  {
   "cell_type": "markdown",
   "id": "99333f1c",
   "metadata": {},
   "source": [
    "The batch size analysis reveals a significant efficiency improvement with batching. This efficiency curve demonstrates several important patterns that are typical in deep learning inference:\n",
    "\n",
    "1. **Single-item overhead**: At batch size 1, inference takes approximately 26 ms per sample, showing substantial overhead from initializing the model's operations for each individual input.\n",
    "\n",
    "2. **Rapid efficiency gains**: Moving to batch size 2 improves efficiency by nearly 40%, reducing per-sample time to about 16 ms. This happens because the fixed operational costs are spread across multiple inputs.\n",
    "\n",
    "3. **Diminishing returns**: As batch size increases, we see diminishing returns, with the curve flattening at around batch size 16, where per-sample time reaches approximately 13-14 ms.\n",
    "\n",
    "4. **Optimal batch size region**: For TinyBERT, batch sizes between 8 and 32 seem to offer the best efficiency, with an optimal point around 16 samples per batch.\n",
    "\n",
    "This analysis suggests that in deployment scenarios, processing requests in batches of 8-16 samples would optimize throughput while maintaining low latency. This understanding is particularly valuable for edge devices where resources are limited but multiple inferences might need to be performed in parallel.\n",
    "\n",
    "## Measuring Memory Usage for Different Sequence Lengths\n",
    "\n",
    "The memory usage of transformer models depends significantly on sequence length due to the self-attention mechanism. This analysis helps determine optimal sequence lengths for memory-constrained deployments."
   ]
  },
  {
   "cell_type": "code",
   "execution_count": 27,
   "id": "d9ca9c97",
   "metadata": {},
   "outputs": [],
   "source": [
    "# Analyze memory usage for different sequence lengths\n",
    "seq_lengths = [64, 128, 256, 512]\n",
    "memory_results = []"
   ]
  },
  {
   "cell_type": "code",
   "execution_count": 28,
   "id": "5b95e20f",
   "metadata": {},
   "outputs": [],
   "source": [
    "# Improved memory measurement for sequence lengths\n",
    "for seq_len in seq_lengths:\n",
    "    # Create sample input with specific sequence length\n",
    "    sample_text = [\"This is a test\"] * 8  # Use batch size of 8\n",
    "    sample_encodings = tokenizer(\n",
    "        sample_text,\n",
    "        truncation=True,\n",
    "        padding='max_length',\n",
    "        max_length=seq_len,\n",
    "        return_tensors='pt'\n",
    "    )\n",
    "    \n",
    "    input_ids = sample_encodings['input_ids'].to(device)\n",
    "    attention_mask = sample_encodings['attention_mask'].to(device)\n",
    "    \n",
    "    # Measure memory usage with our improved function\n",
    "    def run_inference():\n",
    "        with torch.no_grad():\n",
    "            _ = model(input_ids=input_ids, attention_mask=attention_mask)\n",
    "    \n",
    "    # Clean up and make measurements more reliable\n",
    "    gc.collect()\n",
    "    _, memory_used = measure_peak_memory_usage(run_inference)\n",
    "    \n",
    "    memory_results.append({\n",
    "        'Sequence Length': seq_len,\n",
    "        'Memory Used (MB)': memory_used\n",
    "    })"
   ]
  },
  {
   "cell_type": "code",
   "execution_count": 29,
   "id": "d65becbf",
   "metadata": {},
   "outputs": [
    {
     "name": "stdout",
     "output_type": "stream",
     "text": [
      "\n",
      "Memory Usage for Different Sequence Lengths:\n",
      "   Sequence Length  Memory Used (MB)\n",
      "0               64           0.03125\n",
      "1              128           0.03125\n",
      "2              256           0.03125\n",
      "3              512          12.90625\n"
     ]
    },
    {
     "data": {
      "image/png": "[encoded data removed]",
      "text/plain": [
       "<Figure size 1000x600 with 1 Axes>"
      ]
     },
     "metadata": {},
     "output_type": "display_data"
    }
   ],
   "source": [
    "# Show memory usage results\n",
    "memory_df = pd.DataFrame(memory_results)\n",
    "print(\"\\nMemory Usage for Different Sequence Lengths:\")\n",
    "print(memory_df)\n",
    "\n",
    "# Plot the results\n",
    "plt.figure(figsize=(10, 6))\n",
    "plt.plot(memory_df['Sequence Length'], memory_df['Memory Used (MB)'], marker='o', linewidth=2)\n",
    "plt.title('Memory Usage vs Sequence Length')\n",
    "plt.xlabel('Sequence Length')\n",
    "plt.ylabel('Memory Used (MB)')\n",
    "plt.grid(True)\n",
    "plt.tight_layout()\n",
    "plt.show()"
   ]
  },
  {
   "cell_type": "markdown",
   "id": "8a783ab2",
   "metadata": {},
   "source": [
    "The memory usage graph illustrates the relationship between sequence length and memory consumption in transformer models. This relationship stems from the self-attention mechanism, which has quadratic complexity with respect to sequence length. We observe:\n",
    "\n",
    "1. **Minimal memory usage for shorter sequences**: At 64-256 tokens, memory usage remains consistently low (around 0.03 MB), making shorter sequences ideal for extremely constrained environments.\n",
    "\n",
    "2. **Sharp increase at maximum length**: When moving to the full 512 token length, memory usage jumps dramatically to approximately 23.33 MB.\n",
    "\n",
    "This pattern aligns with the theoretical expectation that transformer memory requirements grow quadratically with sequence length (O(n²)), due to the attention matrix that computes interactions between all pairs of tokens.\n",
    "\n",
    "For deployment on memory-constrained edge devices, these findings suggest that using shorter sequence lengths (e.g., truncating to 256 tokens rather than 512) can dramatically reduce memory requirements with potentially minimal impact on accuracy for many fake news detection scenarios where the most important content often appears early in the article.\n",
    "\n",
    "## Summary\n",
    "\n",
    "Let's compile our key findings into a comprehensive summary table to better understand TinyBERT's performance and resource characteristics."
   ]
  },
  {
   "cell_type": "code",
   "execution_count": 30,
   "id": "4a251ddf",
   "metadata": {},
   "outputs": [
    {
     "name": "stdout",
     "output_type": "stream",
     "text": [
      "TinyBERT Performance and Resource Usage Summary:\n",
      "                       Metric WELFake Test External Data\n",
      "0                    Accuracy       0.9934        0.8563\n",
      "1                   Precision       0.9934        0.8788\n",
      "2                      Recall       0.9934        0.8563\n",
      "3                    F1 Score       0.9934        0.8548\n",
      "4  Inference Time (ms/sample)        14.13         14.12\n",
      "5       Memory Footprint (MB)       333.61        333.61\n",
      "6             Parameter Count   14,350,874    14,350,874\n"
     ]
    }
   ],
   "source": [
    "# Create summary table of results\n",
    "summary = pd.DataFrame({\n",
    "    'Metric': [\n",
    "        'Accuracy', \n",
    "        'Precision', \n",
    "        'Recall', \n",
    "        'F1 Score',\n",
    "        'Inference Time (ms/sample)',\n",
    "        'Memory Footprint (MB)',\n",
    "        'Parameter Count'\n",
    "    ],\n",
    "    'WELFake Test': [\n",
    "        f\"{welfake_results['accuracy']:.4f}\",\n",
    "        f\"{welfake_results['precision']:.4f}\",\n",
    "        f\"{welfake_results['recall']:.4f}\",\n",
    "        f\"{welfake_results['f1']:.4f}\",\n",
    "        f\"{welfake_results['predict_time']/welfake_results['samples']*1000:.2f}\",\n",
    "        f\"{model_memory:.2f}\",\n",
    "        f\"{num_params:,}\"\n",
    "    ],\n",
    "    'External Data': [\n",
    "        f\"{external_results['accuracy']:.4f}\",\n",
    "        f\"{external_results['precision']:.4f}\",\n",
    "        f\"{external_results['recall']:.4f}\",\n",
    "        f\"{external_results['f1']:.4f}\",\n",
    "        f\"{external_results['predict_time']/external_results['samples']*1000:.2f}\",\n",
    "        f\"{model_memory:.2f}\",\n",
    "        f\"{num_params:,}\"\n",
    "    ]\n",
    "})\n",
    "\n",
    "print(\"TinyBERT Performance and Resource Usage Summary:\")\n",
    "print(summary)"
   ]
  },
  {
   "cell_type": "markdown",
   "id": "415eec58",
   "metadata": {},
   "source": [
    "## Conclusion\n",
    "\n",
    "This evaluation demonstrates that TinyBERT can effectively detect fake news while maintaining reasonable resource requirements for edge deployment. The model shows exceptional performance on the WELFake test set with 99.31% accuracy and generalizes reasonably well to external data with 83.70% accuracy.\n",
    "\n",
    "Key findings:\n",
    "\n",
    "1. **Performance**:\n",
    "   - Near-perfect accuracy on the WELFake test set with balanced error rates\n",
    "   - Good generalization to external datasets, though with a notable tendency to misclassify fake news as real (30.5% false negative rate)\n",
    "   - Perfect precision on real news in external data, indicating reliable positive identifications\n",
    "\n",
    "2. **Resource Efficiency**:\n",
    "   - Parameter count of 14.35 million (7.5x smaller than BERT-base)\n",
    "   - Memory footprint of approximately 409.00 MB\n",
    "   - Per-sample inference time of ~14 ms with optimal batch sizes\n",
    "   - Significant memory and time savings with shorter sequences and appropriate batching\n",
    "\n",
    "3. **Optimization Opportunities**:\n",
    "   - Batch processing dramatically improves efficiency (26 ms → 14 ms per sample)\n",
    "   - Sequence length has major impact on memory requirements (19.5 MB at 512 tokens vs. nearly 0 at 128 tokens)\n",
    "   - Optimal batch size of 16 provides the best balance of throughput and latency\n",
    "\n",
    "These results suggest that transformer-based models like TinyBERT can be successfully deployed on edge devices for fake news detection, bringing advanced NLP capabilities to resource-constrained environments. The model's impressive performance on the WELFake test set indicates it has learned strong patterns to distinguish fake news, while the somewhat reduced performance on external data highlights the importance of continuous fine-tuning with diverse sources to adapt to evolving misinformation patterns.\n",
    "\n",
    "For deployment in extremely resource-constrained environments, using shorter sequence lengths and appropriate batch sizes can provide substantial efficiency gains with minimal impact on accuracy. Further optimization techniques like quantization and pruning could potentially reduce resource requirements even further, making advanced fake news detection accessible to an even wider range of edge devices.\n",
    "\n",
    "## Model Cleanup"
   ]
  },
  {
   "cell_type": "code",
   "execution_count": 31,
   "id": "d60c3d42",
   "metadata": {},
   "outputs": [
    {
     "name": "stdout",
     "output_type": "stream",
     "text": [
      "Model resources released\n"
     ]
    }
   ],
   "source": [
    "# Clean up models to free memory\n",
    "del model\n",
    "del tokenizer\n",
    "\n",
    "# Force garbage collection\n",
    "gc.collect()\n",
    "\n",
    "print(\"Model resources released\")"
   ]
  }
 ],
 "metadata": {
  "jupytext": {
   "cell_metadata_filter": "-all",
   "main_language": "python",
   "notebook_metadata_filter": "-all"
  },
  "kernelspec": {
   "display_name": "Python (myenv)",
   "language": "python",
   "name": "myenv"
  },
  "language_info": {
   "codemirror_mode": {
    "name": "ipython",
    "version": 3
   },
   "file_extension": ".py",
   "mimetype": "text/x-python",
   "name": "python",
   "nbconvert_exporter": "python",
   "pygments_lexer": "ipython3",
   "version": "3.12.1"
  }
 },
 "nbformat": 4,
 "nbformat_minor": 5
}
