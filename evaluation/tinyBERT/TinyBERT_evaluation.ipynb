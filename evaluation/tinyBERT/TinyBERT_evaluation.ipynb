{
 "cells": [
  {
   "cell_type": "markdown",
   "id": "73663003",
   "metadata": {},
   "source": [
    "# TinyBERT Evaluation for Fake News Detection\n",
    "\n",
    "## Introduction\n",
    "\n",
    "This notebook evaluates our fine-tuned TinyBERT model for fake news detection. TinyBERT is a compressed version of BERT that maintains strong performance while using fewer parameters, making it well-suited for deployment on edge devices with limited computational resources.\n",
    "\n",
    "We'll perform a comprehensive evaluation focusing on:\n",
    "\n",
    "1. Performance on the WELFake test dataset\n",
    "2. Generalization capabilities when tested on external datasets containing verified real news and AI-generated fake news\n",
    "3. Resource efficiency metrics critical for edge device deployment:\n",
    "   - Memory footprint\n",
    "   - Inference speed\n",
    "   - Batch processing efficiency\n",
    "   - Sequence length impact\n",
    "\n",
    "The goal is to determine if transformer-based models like TinyBERT can effectively detect fake news while meeting the practical constraints of resource-limited environments.\n",
    "\n",
    "## Setting Up the Environment\n",
    "\n",
    "First, we'll import the necessary libraries for our evaluation:"
   ]
  },
  {
   "cell_type": "code",
   "execution_count": 1,
   "id": "a4dbe0f3",
   "metadata": {},
   "outputs": [],
   "source": [
    "# Import basic libraries for data manipulation and visualization\n",
    "import pandas as pd\n",
    "import numpy as np\n",
    "import matplotlib.pyplot as plt\n",
    "import seaborn as sns\n",
    "import time\n",
    "import os\n",
    "import psutil"
   ]
  },
  {
   "cell_type": "code",
   "execution_count": 2,
   "id": "3918fb6f",
   "metadata": {},
   "outputs": [],
   "source": [
    "# Import PyTorch and transformers\n",
    "import torch\n",
    "from torch.utils.data import DataLoader, TensorDataset\n",
    "from transformers import AutoTokenizer, AutoModelForSequenceClassification"
   ]
  },
  {
   "cell_type": "code",
   "execution_count": 3,
   "id": "34acd11a",
   "metadata": {},
   "outputs": [],
   "source": [
    "# Import evaluation metrics\n",
    "from sklearn.metrics import accuracy_score, precision_recall_fscore_support\n",
    "from sklearn.metrics import classification_report, confusion_matrix\n",
    "from sklearn.model_selection import train_test_split"
   ]
  },
  {
   "cell_type": "code",
   "execution_count": 4,
   "id": "67503859",
   "metadata": {},
   "outputs": [
    {
     "name": "stdout",
     "output_type": "stream",
     "text": [
      "Using device: cpu (simulating edge device performance)\n"
     ]
    }
   ],
   "source": [
    "# Suppress warnings and set visualization style\n",
    "import warnings\n",
    "warnings.filterwarnings('ignore')\n",
    "\n",
    "# Set consistent visualization style\n",
    "plt.style.use('ggplot')\n",
    "sns.set(font_scale=1.2)\n",
    "plt.rcParams['figure.figsize'] = (10, 6)\n",
    "\n",
    "# Force CPU usage to simulate edge device performance\n",
    "device = torch.device(\"cpu\")\n",
    "print(f\"Using device: {device} (simulating edge device performance)\")"
   ]
  },
  {
   "cell_type": "markdown",
   "id": "1d658d24",
   "metadata": {},
   "source": [
    "## Loading Data\n",
    "\n",
    "### WELFake Test Set\n",
    "\n",
    "We'll first load the WELFake dataset, which contains a balanced collection of real and fake news articles. This dataset combines articles from multiple sources: PolitiFact, GossipCop, Reuters, and BuzzFeed."
   ]
  },
  {
   "cell_type": "code",
   "execution_count": 5,
   "id": "7f621693",
   "metadata": {},
   "outputs": [],
   "source": [
    "# Load the WELFake dataset\n",
    "df = pd.read_csv('../../data/WELFake_cleaned.csv')\n",
    "\n",
    "# Combine title and text to provide complete information to the model\n",
    "df['combined_text'] = df['title'] + \" \" + df['text']\n",
    "\n",
    "# Prepare features and labels\n",
    "X_welfake = df['combined_text']\n",
    "y_welfake = df['label']"
   ]
  },
  {
   "cell_type": "code",
   "execution_count": 6,
   "id": "1f25683c",
   "metadata": {},
   "outputs": [
    {
     "name": "stdout",
     "output_type": "stream",
     "text": [
      "WELFake test set: 14308 articles\n"
     ]
    }
   ],
   "source": [
    "# Split into train and test sets with stratification to maintain class balance\n",
    "X_train, X_test, y_train, y_test = train_test_split(\n",
    "    X_welfake, y_welfake, test_size=0.2, random_state=42, stratify=y_welfake\n",
    ")\n",
    "\n",
    "print(f\"WELFake test set: {len(X_test)} articles\")"
   ]
  },
  {
   "cell_type": "markdown",
   "id": "ccac5685",
   "metadata": {},
   "source": [
    "### External Datasets\n",
    "\n",
    "To evaluate the model's generalization capabilities, we'll also test it on external datasets containing news articles not seen during training. This helps assess how well the model performs on real-world content."
   ]
  },
  {
   "cell_type": "code",
   "execution_count": 7,
   "id": "d95e2090",
   "metadata": {},
   "outputs": [],
   "source": [
    "# Load external datasets\n",
    "real_df = pd.read_csv('../datasets/manual_real.csv')\n",
    "fake_df = pd.read_csv('../datasets/fake_claude.csv')"
   ]
  },
  {
   "cell_type": "code",
   "execution_count": 8,
   "id": "0c99049f",
   "metadata": {},
   "outputs": [],
   "source": [
    "# Process real news data\n",
    "if 'title' in real_df.columns and 'content' in real_df.columns:\n",
    "    real_df['combined_text'] = real_df['title'] + \" \" + real_df['content']\n",
    "elif 'text' in real_df.columns:\n",
    "    real_df['combined_text'] = real_df['text']\n",
    "real_df['label'] = 0  # Real news\n",
    "\n",
    "# Process fake news data\n",
    "if 'title' in fake_df.columns and 'content' in fake_df.columns:\n",
    "    fake_df['combined_text'] = fake_df['title'] + \" \" + fake_df['content']\n",
    "elif 'text' in fake_df.columns:\n",
    "    fake_df['combined_text'] = fake_df['text']\n",
    "fake_df['label'] = 1  # Fake news"
   ]
  },
  {
   "cell_type": "code",
   "execution_count": 9,
   "id": "7bbba5d1",
   "metadata": {},
   "outputs": [
    {
     "name": "stdout",
     "output_type": "stream",
     "text": [
      "External dataset: 828 articles (399 real, 429 fake)\n"
     ]
    }
   ],
   "source": [
    "# Combine external datasets\n",
    "external_df = pd.concat(\n",
    "    [real_df[['combined_text', 'label']], fake_df[['combined_text', 'label']]],\n",
    "    ignore_index=True\n",
    ")\n",
    "X_external = external_df['combined_text']\n",
    "y_external = external_df['label']\n",
    "\n",
    "print(f\"External dataset: {len(external_df)} articles ({len(real_df)} real, {len(fake_df)} fake)\")"
   ]
  },
  {
   "cell_type": "markdown",
   "id": "baad5882",
   "metadata": {},
   "source": [
    "## Loading and Measuring TinyBERT\n",
    "\n",
    "Now we'll load our fine-tuned TinyBERT model and measure its resource requirements, which is critical information for edge deployment scenarios."
   ]
  },
  {
   "cell_type": "code",
   "execution_count": 10,
   "id": "cfec7623",
   "metadata": {},
   "outputs": [],
   "source": [
    "# Measure memory before model loading\n",
    "memory_before = psutil.Process().memory_info().rss / (1024 * 1024)  # MB\n",
    "\n",
    "# Load the TinyBERT model and tokenizer\n",
    "model_path = '../../ml_models/tinybert_welfake_model'\n",
    "tokenizer = AutoTokenizer.from_pretrained(model_path)\n",
    "model = AutoModelForSequenceClassification.from_pretrained(model_path)\n",
    "model = model.to(device)"
   ]
  },
  {
   "cell_type": "code",
   "execution_count": 11,
   "id": "82c82a4a",
   "metadata": {},
   "outputs": [
    {
     "name": "stdout",
     "output_type": "stream",
     "text": [
      "TinyBERT model loaded successfully\n",
      "Number of parameters: 14,350,874\n",
      "Model size: 54.74 MB\n",
      "Memory increase after loading: 414.67 MB\n"
     ]
    }
   ],
   "source": [
    "# Measure memory after model loading\n",
    "memory_after = psutil.Process().memory_info().rss / (1024 * 1024)  # MB\n",
    "model_memory = memory_after - memory_before\n",
    "\n",
    "# Calculate model size from parameters\n",
    "param_size = sum(p.nelement() * p.element_size() for p in model.parameters()) / (1024 * 1024)\n",
    "num_params = sum(p.numel() for p in model.parameters())\n",
    "\n",
    "print(f\"TinyBERT model loaded successfully\")\n",
    "print(f\"Number of parameters: {num_params:,}\")\n",
    "print(f\"Model size: {param_size:.2f} MB\")\n",
    "print(f\"Memory increase after loading: {model_memory:.2f} MB\")"
   ]
  },
  {
   "cell_type": "markdown",
   "id": "7152f187",
   "metadata": {},
   "source": [
    "## Preparing Data for Evaluation\n",
    "\n",
    "Before we can evaluate the model, we need to tokenize our text data and prepare it in the format expected by the transformer model."
   ]
  },
  {
   "cell_type": "code",
   "execution_count": 12,
   "id": "0edb7794",
   "metadata": {},
   "outputs": [],
   "source": [
    "def prepare_data(texts, labels, tokenizer, batch_size=32):\n",
    "    \"\"\"\n",
    "    Tokenize text data and create DataLoader for model input\n",
    "    \n",
    "    Args:\n",
    "        texts: List or Series of text samples\n",
    "        labels: List or Series of labels\n",
    "        tokenizer: The tokenizer to use\n",
    "        batch_size: Batch size for DataLoader\n",
    "        \n",
    "    Returns:\n",
    "        DataLoader with tokenized inputs and labels\n",
    "    \"\"\"\n",
    "    # Tokenize the text\n",
    "    encodings = tokenizer(\n",
    "        list(texts),\n",
    "        truncation=True,\n",
    "        padding='max_length',\n",
    "        max_length=512,  # Standard for BERT models\n",
    "        return_tensors='pt'\n",
    "    )\n",
    "    \n",
    "    # Create dataset and dataloader\n",
    "    dataset = TensorDataset(\n",
    "        encodings['input_ids'],\n",
    "        encodings['attention_mask'],\n",
    "        torch.tensor(labels.values if hasattr(labels, 'values') else labels)\n",
    "    )\n",
    "    dataloader = DataLoader(dataset, batch_size=batch_size, shuffle=False)\n",
    "    \n",
    "    return dataloader"
   ]
  },
  {
   "cell_type": "code",
   "execution_count": 13,
   "id": "d57ffa82",
   "metadata": {},
   "outputs": [],
   "source": [
    "# Prepare test sets\n",
    "welfake_test_loader = prepare_data(X_test, y_test, tokenizer)\n",
    "external_loader = prepare_data(X_external, y_external, tokenizer)"
   ]
  },
  {
   "cell_type": "markdown",
   "id": "2f3b95f1",
   "metadata": {},
   "source": [
    "## Evaluation Function\n",
    "\n",
    "We'll define a comprehensive evaluation function that measures both performance metrics and resource usage."
   ]
  },
  {
   "cell_type": "code",
   "execution_count": 14,
   "id": "e6f0a6a9",
   "metadata": {},
   "outputs": [],
   "source": [
    "def evaluate_model(model, dataloader, dataset_name):\n",
    "    \"\"\"\n",
    "    Evaluate model and measure performance metrics and resource usage\n",
    "    \n",
    "    Args:\n",
    "        model: The model to evaluate\n",
    "        dataloader: DataLoader with test data\n",
    "        dataset_name: Name of the dataset for reporting\n",
    "        \n",
    "    Returns:\n",
    "        Dictionary with performance metrics and resource usage\n",
    "    \"\"\"\n",
    "    model.eval()\n",
    "    all_preds = []\n",
    "    all_labels = []\n",
    "    \n",
    "    # Measure resources\n",
    "    memory_before = psutil.Process().memory_info().rss / (1024 * 1024)\n",
    "    start_time = time.time()\n",
    "    \n",
    "    # Make predictions\n",
    "    with torch.no_grad():\n",
    "        for batch in dataloader:\n",
    "            input_ids, attention_mask, labels = [b.to(device) for b in batch]\n",
    "            outputs = model(input_ids=input_ids, attention_mask=attention_mask)\n",
    "            preds = torch.argmax(outputs.logits, dim=1)\n",
    "            \n",
    "            all_preds.extend(preds.cpu().numpy())\n",
    "            all_labels.extend(labels.cpu().numpy())\n",
    "    \n",
    "    # Calculate resource usage\n",
    "    predict_time = time.time() - start_time\n",
    "    memory_after = psutil.Process().memory_info().rss / (1024 * 1024)\n",
    "    memory_used = memory_after - memory_before\n",
    "    \n",
    "    # Convert to numpy arrays\n",
    "    all_preds = np.array(all_preds)\n",
    "    all_labels = np.array(all_labels)\n",
    "    \n",
    "    # Calculate metrics\n",
    "    accuracy = accuracy_score(all_labels, all_preds)\n",
    "    precision, recall, f1, _ = precision_recall_fscore_support(\n",
    "        all_labels, all_preds, average='weighted'\n",
    "    )\n",
    "    \n",
    "    # Print results\n",
    "    print(f\"\\nTinyBERT Evaluation on {dataset_name}:\")\n",
    "    print(f\"Accuracy: {accuracy:.4f}\")\n",
    "    print(f\"Precision: {precision:.4f}\")\n",
    "    print(f\"Recall: {recall:.4f}\")\n",
    "    print(f\"F1 Score: {f1:.4f}\")\n",
    "    print(f\"Prediction time: {predict_time:.2f} seconds for {len(all_labels)} samples\")\n",
    "    print(f\"Average prediction time: {predict_time/len(all_labels)*1000:.2f} ms per sample\")\n",
    "    print(f\"Memory used during inference: {memory_used:.2f} MB\")\n",
    "    \n",
    "    # Return results for visualization\n",
    "    return {\n",
    "        'y_pred': all_preds,\n",
    "        'y_true': all_labels,\n",
    "        'accuracy': accuracy,\n",
    "        'precision': precision,\n",
    "        'recall': recall,\n",
    "        'f1': f1,\n",
    "        'predict_time': predict_time,\n",
    "        'samples': len(all_labels),\n",
    "        'memory_used': memory_used\n",
    "    }"
   ]
  },
  {
   "cell_type": "markdown",
   "id": "334aa762",
   "metadata": {},
   "source": [
    "## Performance on WELFake Test Set\n",
    "\n",
    "Now we'll evaluate TinyBERT on the WELFake test set to measure its performance on data similar to what it was trained on."
   ]
  },
  {
   "cell_type": "code",
   "execution_count": 15,
   "id": "264c504f",
   "metadata": {},
   "outputs": [
    {
     "name": "stdout",
     "output_type": "stream",
     "text": [
      "\n",
      "TinyBERT Evaluation on WELFake Test Set:\n",
      "Accuracy: 0.9931\n",
      "Precision: 0.9931\n",
      "Recall: 0.9931\n",
      "F1 Score: 0.9931\n",
      "Prediction time: 227.41 seconds for 14308 samples\n",
      "Average prediction time: 15.89 ms per sample\n",
      "Memory used during inference: -93.17 MB\n"
     ]
    }
   ],
   "source": [
    "# Evaluate on WELFake test set\n",
    "welfake_results = evaluate_model(model, welfake_test_loader, \"WELFake Test Set\")"
   ]
  },
  {
   "cell_type": "markdown",
   "id": "29a91203",
   "metadata": {},
   "source": [
    "### Confusion Matrix for WELFake\n",
    "\n",
    "Visualizing the confusion matrix helps us understand where the model makes errors and whether there are any patterns in its mistakes."
   ]
  },
  {
   "cell_type": "code",
   "execution_count": 16,
   "id": "47e6efa6",
   "metadata": {},
   "outputs": [],
   "source": [
    "# Create and plot confusion matrix\n",
    "def plot_confusion_matrix(y_true, y_pred, title):\n",
    "    \"\"\"\n",
    "    Create and visualize confusion matrix\n",
    "    \n",
    "    Args:\n",
    "        y_true: True labels\n",
    "        y_pred: Predicted labels\n",
    "        title: Plot title\n",
    "    \"\"\"\n",
    "    cm = confusion_matrix(y_true, y_pred)\n",
    "    plt.figure(figsize=(8, 6))\n",
    "    sns.heatmap(cm, annot=True, fmt='d', cmap='Blues',\n",
    "                xticklabels=['Real News', 'Fake News'],\n",
    "                yticklabels=['Real News', 'Fake News'])\n",
    "    plt.title(title)\n",
    "    plt.ylabel('True Label')\n",
    "    plt.xlabel('Predicted Label')\n",
    "    plt.tight_layout()\n",
    "    plt.show()\n",
    "    \n",
    "    # Calculate error rates\n",
    "    tn, fp, fn, tp = cm.ravel()\n",
    "    fpr = fp/(fp+tn)\n",
    "    fnr = fn/(fn+tp)\n",
    "    print(f\"False Positive Rate: {fpr:.4f} ({fp} real news articles misclassified as fake)\")\n",
    "    print(f\"False Negative Rate: {fnr:.4f} ({fn} fake news articles misclassified as real)\")"
   ]
  },
  {
   "cell_type": "code",
   "execution_count": 17,
   "id": "5e2a6166",
   "metadata": {},
   "outputs": [
    {
     "data": {
      "image/png": "[encoded data removed]",
      "text/plain": [
       "<Figure size 800x600 with 2 Axes>"
      ]
     },
     "metadata": {},
     "output_type": "display_data"
    },
    {
     "name": "stdout",
     "output_type": "stream",
     "text": [
      "False Positive Rate: 0.0040 (28 real news articles misclassified as fake)\n",
      "False Negative Rate: 0.0097 (71 fake news articles misclassified as real)\n"
     ]
    }
   ],
   "source": [
    "# Plot confusion matrix for WELFake\n",
    "plot_confusion_matrix(\n",
    "    welfake_results['y_true'], \n",
    "    welfake_results['y_pred'], \n",
    "    \"TinyBERT Confusion Matrix on WELFake Test Set\"\n",
    ")"
   ]
  },
  {
   "cell_type": "markdown",
   "id": "d325dfa0",
   "metadata": {},
   "source": [
    "## Performance on External Datasets\n",
    "\n",
    "To assess how well the model generalizes to new, unseen data, we'll evaluate it on our external datasets."
   ]
  },
  {
   "cell_type": "code",
   "execution_count": 18,
   "id": "5d13057d",
   "metadata": {},
   "outputs": [
    {
     "name": "stdout",
     "output_type": "stream",
     "text": [
      "\n",
      "TinyBERT Evaluation on External Datasets:\n",
      "Accuracy: 0.8370\n",
      "Precision: 0.8731\n",
      "Recall: 0.8370\n",
      "F1 Score: 0.8340\n",
      "Prediction time: 11.94 seconds for 828 samples\n",
      "Average prediction time: 14.42 ms per sample\n",
      "Memory used during inference: -72.64 MB\n"
     ]
    }
   ],
   "source": [
    "# Evaluate on external datasets\n",
    "external_results = evaluate_model(model, external_loader, \"External Datasets\")"
   ]
  },
  {
   "cell_type": "markdown",
   "id": "176350af",
   "metadata": {},
   "source": [
    "### Confusion Matrix for External Data"
   ]
  },
  {
   "cell_type": "code",
   "execution_count": 19,
   "id": "20f2b992",
   "metadata": {},
   "outputs": [
    {
     "data": {
      "image/png": "[encoded data removed]",
      "text/plain": [
       "<Figure size 800x600 with 2 Axes>"
      ]
     },
     "metadata": {},
     "output_type": "display_data"
    },
    {
     "name": "stdout",
     "output_type": "stream",
     "text": [
      "False Positive Rate: 0.0100 (4 real news articles misclassified as fake)\n",
      "False Negative Rate: 0.3054 (131 fake news articles misclassified as real)\n"
     ]
    }
   ],
   "source": [
    "# Plot confusion matrix for External Datasets\n",
    "plot_confusion_matrix(\n",
    "    external_results['y_true'], \n",
    "    external_results['y_pred'], \n",
    "    \"TinyBERT Confusion Matrix on External Datasets\"\n",
    ")"
   ]
  },
  {
   "cell_type": "markdown",
   "id": "6b986f66",
   "metadata": {},
   "source": [
    "## Analyzing Misclassified Examples\n",
    "\n",
    "Understanding specific cases where the model fails can provide insights into its limitations and potential areas for improvement."
   ]
  },
  {
   "cell_type": "code",
   "execution_count": 20,
   "id": "c21aa9bc",
   "metadata": {},
   "outputs": [],
   "source": [
    "def analyze_errors(X_text, y_true, y_pred, dataset_name, n_examples=3):\n",
    "    \"\"\"\n",
    "    Display examples of misclassified articles\n",
    "    \n",
    "    Args:\n",
    "        X_text: Text data\n",
    "        y_true: True labels\n",
    "        y_pred: Predicted labels\n",
    "        dataset_name: Name of the dataset\n",
    "        n_examples: Number of examples to display\n",
    "    \"\"\"\n",
    "    errors = np.where(y_true != y_pred)[0]\n",
    "    \n",
    "    if len(errors) == 0:\n",
    "        print(f\"No errors found on {dataset_name}!\")\n",
    "        return\n",
    "    \n",
    "    print(f\"\\nTinyBERT misclassified {len(errors)} out of {len(y_true)} articles on {dataset_name} ({len(errors)/len(y_true):.2%})\")\n",
    "    print(f\"Showing {min(n_examples, len(errors))} examples:\")\n",
    "    \n",
    "    # Select random errors to display\n",
    "    np.random.seed(42)  # For reproducibility\n",
    "    display_indices = np.random.choice(errors, size=min(n_examples, len(errors)), replace=False)\n",
    "    \n",
    "    for i, idx in enumerate(display_indices):\n",
    "        print(f\"\\nExample {i+1}:\")\n",
    "        print(f\"Text snippet: {X_text.iloc[idx][:200]}...\")  # First 200 chars\n",
    "        print(f\"True label: {'Real' if y_true[idx] == 0 else 'Fake'}\")\n",
    "        print(f\"Predicted: {'Real' if y_pred[idx] == 0 else 'Fake'}\")\n",
    "        print(\"-\" * 80)"
   ]
  },
  {
   "cell_type": "code",
   "execution_count": 21,
   "id": "0b431984",
   "metadata": {},
   "outputs": [
    {
     "name": "stdout",
     "output_type": "stream",
     "text": [
      "\n",
      "TinyBERT misclassified 99 out of 14308 articles on WELFake Test Set (0.69%)\n",
      "Showing 3 examples:\n",
      "\n",
      "Example 1:\n",
      "Text snippet: Trump’s Ex-Manager: He Didn’t Even Know What A Gold Star Family Is Comments \n",
      "Donald Trump, the draft-dodging Russophile who cloaks his xenophobia and bigotry in a veneer of false patriotism, reportedl...\n",
      "True label: Fake\n",
      "Predicted: Real\n",
      "--------------------------------------------------------------------------------\n",
      "\n",
      "Example 2:\n",
      "Text snippet: Hillary Clinton and Bernie Sanders = lecture vs. rock concert That's one way to quickly characterize the difference between a campaign stop for Hillary Clinton and Bernie Sanders.\n",
      "\n",
      "When Democrats visi...\n",
      "True label: Real\n",
      "Predicted: Fake\n",
      "--------------------------------------------------------------------------------\n",
      "\n",
      "Example 3:\n",
      "Text snippet: Round I in Iowa: Scott Walker Emerges Scott Walker 2016 begins today. After this speech to #FreedomSummit no way he doesn't become formidable presidential candidate.\n",
      "\n",
      "So, @ScottWalker is the breakout ...\n",
      "True label: Real\n",
      "Predicted: Fake\n",
      "--------------------------------------------------------------------------------\n"
     ]
    }
   ],
   "source": [
    "# Analyze errors on WELFake\n",
    "analyze_errors(\n",
    "    X_test, \n",
    "    welfake_results['y_true'], \n",
    "    welfake_results['y_pred'], \n",
    "    \"WELFake Test Set\"\n",
    ")"
   ]
  },
  {
   "cell_type": "code",
   "execution_count": 22,
   "id": "f415b451",
   "metadata": {},
   "outputs": [
    {
     "name": "stdout",
     "output_type": "stream",
     "text": [
      "\n",
      "TinyBERT misclassified 135 out of 828 articles on External Datasets (16.30%)\n",
      "Showing 3 examples:\n",
      "\n",
      "Example 1:\n",
      "Text snippet: Senior banking officials speaking on condition of anonymity reveal that Federal Reserve leadership has drafted plans for a national banking 'holiday' to be implemented next month as part of final prep...\n",
      "True label: Fake\n",
      "Predicted: Real\n",
      "--------------------------------------------------------------------------------\n",
      "\n",
      "Example 2:\n",
      "Text snippet: A former senior vice president from a major pharmaceutical company has come forward with evidence allegedly proving that a remarkably effective cancer treatment was deliberately shelved after internal...\n",
      "True label: Fake\n",
      "Predicted: Real\n",
      "--------------------------------------------------------------------------------\n",
      "\n",
      "Example 3:\n",
      "Text snippet: A senior research scientist formerly employed at the Centers for Disease Control has provided extensive documentation allegedly showing systematic manipulation of vaccine safety data to artificially m...\n",
      "True label: Fake\n",
      "Predicted: Real\n",
      "--------------------------------------------------------------------------------\n"
     ]
    }
   ],
   "source": [
    "# Analyze errors on External datasets\n",
    "analyze_errors(\n",
    "    X_external, \n",
    "    external_results['y_true'], \n",
    "    external_results['y_pred'], \n",
    "    \"External Datasets\"\n",
    ")"
   ]
  },
  {
   "cell_type": "markdown",
   "id": "8c835c5b",
   "metadata": {},
   "source": [
    "## Edge Device Performance Analysis\n",
    "\n",
    "For deployment on resource-constrained edge devices, understanding how batch size affects inference efficiency is critical for optimizing throughput versus latency trade-offs."
   ]
  },
  {
   "cell_type": "code",
   "execution_count": 23,
   "id": "9fc17378",
   "metadata": {},
   "outputs": [],
   "source": [
    "# Analyze batch processing efficiency\n",
    "batch_sizes = [1, 2, 4, 8, 16, 32]\n",
    "results = []\n",
    "\n",
    "# Create sample input\n",
    "sample_text = [\"This is a sample news article for testing inference speed.\"] * 32\n",
    "sample_encodings = tokenizer(\n",
    "    sample_text,\n",
    "    truncation=True,\n",
    "    padding='max_length',\n",
    "    max_length=512,\n",
    "    return_tensors='pt'\n",
    ")"
   ]
  },
  {
   "cell_type": "code",
   "execution_count": 24,
   "id": "02d20486",
   "metadata": {},
   "outputs": [],
   "source": [
    "# Test different batch sizes\n",
    "for batch_size in batch_sizes:\n",
    "    # Prepare input batch\n",
    "    input_ids = sample_encodings['input_ids'][:batch_size].to(device)\n",
    "    attention_mask = sample_encodings['attention_mask'][:batch_size].to(device)\n",
    "    \n",
    "    # Warm-up\n",
    "    with torch.no_grad():\n",
    "        _ = model(input_ids=input_ids, attention_mask=attention_mask)\n",
    "    \n",
    "    # Timed runs\n",
    "    times = []\n",
    "    for _ in range(5):  # 5 runs per batch size\n",
    "        with torch.no_grad():\n",
    "            start = time.time()\n",
    "            _ = model(input_ids=input_ids, attention_mask=attention_mask)\n",
    "            end = time.time()\n",
    "        times.append(end - start)\n",
    "    \n",
    "    # Calculate statistics\n",
    "    avg_time = np.mean(times)\n",
    "    per_sample = avg_time / batch_size * 1000  # ms\n",
    "    \n",
    "    results.append({\n",
    "        'Batch Size': batch_size,\n",
    "        'Total Time (ms)': avg_time * 1000,\n",
    "        'Time per Sample (ms)': per_sample\n",
    "    })"
   ]
  },
  {
   "cell_type": "code",
   "execution_count": 25,
   "id": "395dad36",
   "metadata": {},
   "outputs": [
    {
     "name": "stdout",
     "output_type": "stream",
     "text": [
      "\n",
      "Batch Processing Efficiency on CPU:\n",
      "   Batch Size  Total Time (ms)  Time per Sample (ms)\n",
      "0           1            25.61                 25.61\n",
      "1           2            31.72                 15.86\n",
      "2           4            56.30                 14.08\n",
      "3           8           113.84                 14.23\n",
      "4          16           219.13                 13.70\n",
      "5          32           448.82                 14.03\n"
     ]
    },
    {
     "data": {
      "image/png": "[encoded data removed]",
      "text/plain": [
       "<Figure size 1000x600 with 1 Axes>"
      ]
     },
     "metadata": {},
     "output_type": "display_data"
    }
   ],
   "source": [
    "# Show batch efficiency results\n",
    "batch_df = pd.DataFrame(results)\n",
    "print(\"\\nBatch Processing Efficiency on CPU:\")\n",
    "print(batch_df.round(2))\n",
    "\n",
    "# Plot the results\n",
    "plt.figure(figsize=(10, 6))\n",
    "plt.plot(batch_df['Batch Size'], batch_df['Time per Sample (ms)'], marker='o', linewidth=2)\n",
    "plt.title('Inference Time per Sample vs Batch Size')\n",
    "plt.xlabel('Batch Size')\n",
    "plt.ylabel('Time per Sample (ms)')\n",
    "plt.grid(True)\n",
    "plt.tight_layout()\n",
    "plt.show()"
   ]
  },
  {
   "cell_type": "markdown",
   "id": "3b9f4f21",
   "metadata": {},
   "source": [
    "## Measuring Memory Usage for Different Sequence Lengths\n",
    "\n",
    "The memory usage of transformer models depends significantly on sequence length due to the self-attention mechanism. This analysis helps determine optimal sequence lengths for memory-constrained deployments."
   ]
  },
  {
   "cell_type": "code",
   "execution_count": 26,
   "id": "352ac6e2",
   "metadata": {},
   "outputs": [],
   "source": [
    "# Analyze memory usage for different sequence lengths\n",
    "seq_lengths = [64, 128, 256, 512]\n",
    "memory_results = []"
   ]
  },
  {
   "cell_type": "code",
   "execution_count": 27,
   "id": "5a058c27",
   "metadata": {},
   "outputs": [],
   "source": [
    "for seq_len in seq_lengths:\n",
    "    # Create sample input with specific sequence length\n",
    "    sample_text = [\"This is a test\"] * 8  # Use batch size of 8\n",
    "    sample_encodings = tokenizer(\n",
    "        sample_text,\n",
    "        truncation=True,\n",
    "        padding='max_length',\n",
    "        max_length=seq_len,\n",
    "        return_tensors='pt'\n",
    "    )\n",
    "    \n",
    "    input_ids = sample_encodings['input_ids'].to(device)\n",
    "    attention_mask = sample_encodings['attention_mask'].to(device)\n",
    "    \n",
    "    # Measure memory before inference\n",
    "    torch.cuda.empty_cache() if torch.cuda.is_available() else None\n",
    "    memory_before = psutil.Process().memory_info().rss / (1024 * 1024)\n",
    "    \n",
    "    # Run inference\n",
    "    with torch.no_grad():\n",
    "        _ = model(input_ids=input_ids, attention_mask=attention_mask)\n",
    "    \n",
    "    # Measure memory after inference\n",
    "    memory_after = psutil.Process().memory_info().rss / (1024 * 1024)\n",
    "    memory_used = memory_after - memory_before\n",
    "    \n",
    "    memory_results.append({\n",
    "        'Sequence Length': seq_len,\n",
    "        'Memory Used (MB)': memory_used\n",
    "    })"
   ]
  },
  {
   "cell_type": "code",
   "execution_count": 28,
   "id": "d3a6703b",
   "metadata": {},
   "outputs": [
    {
     "name": "stdout",
     "output_type": "stream",
     "text": [
      "\n",
      "Memory Usage for Different Sequence Lengths:\n",
      "   Sequence Length  Memory Used (MB)\n",
      "0               64           0.03125\n",
      "1              128           0.00000\n",
      "2              256          10.40625\n",
      "3              512          19.50000\n"
     ]
    },
    {
     "data": {
      "image/png": "[encoded data removed]",
      "text/plain": [
       "<Figure size 1000x600 with 1 Axes>"
      ]
     },
     "metadata": {},
     "output_type": "display_data"
    }
   ],
   "source": [
    "# Show memory usage results\n",
    "memory_df = pd.DataFrame(memory_results)\n",
    "print(\"\\nMemory Usage for Different Sequence Lengths:\")\n",
    "print(memory_df)\n",
    "\n",
    "# Plot the results\n",
    "plt.figure(figsize=(10, 6))\n",
    "plt.plot(memory_df['Sequence Length'], memory_df['Memory Used (MB)'], marker='o', linewidth=2)\n",
    "plt.title('Memory Usage vs Sequence Length')\n",
    "plt.xlabel('Sequence Length')\n",
    "plt.ylabel('Memory Used (MB)')\n",
    "plt.grid(True)\n",
    "plt.tight_layout()\n",
    "plt.show()"
   ]
  },
  {
   "cell_type": "markdown",
   "id": "b663f77b",
   "metadata": {},
   "source": [
    "## Summary\n",
    "\n",
    "Let's compile our key findings into a comprehensive summary table to better understand TinyBERT's performance and resource characteristics."
   ]
  },
  {
   "cell_type": "code",
   "execution_count": 29,
   "id": "a5f07112",
   "metadata": {},
   "outputs": [
    {
     "name": "stdout",
     "output_type": "stream",
     "text": [
      "TinyBERT Performance and Resource Usage Summary:\n",
      "                       Metric WELFake Test External Data\n",
      "0                    Accuracy       0.9931        0.8370\n",
      "1                   Precision       0.9931        0.8731\n",
      "2                      Recall       0.9931        0.8370\n",
      "3                    F1 Score       0.9931        0.8340\n",
      "4  Inference Time (ms/sample)        15.89         14.42\n",
      "5       Memory Footprint (MB)       414.67        414.67\n",
      "6             Parameter Count   14,350,874    14,350,874\n"
     ]
    }
   ],
   "source": [
    "# Create summary table of results\n",
    "summary = pd.DataFrame({\n",
    "    'Metric': [\n",
    "        'Accuracy', \n",
    "        'Precision', \n",
    "        'Recall', \n",
    "        'F1 Score',\n",
    "        'Inference Time (ms/sample)',\n",
    "        'Memory Footprint (MB)',\n",
    "        'Parameter Count'\n",
    "    ],\n",
    "    'WELFake Test': [\n",
    "        f\"{welfake_results['accuracy']:.4f}\",\n",
    "        f\"{welfake_results['precision']:.4f}\",\n",
    "        f\"{welfake_results['recall']:.4f}\",\n",
    "        f\"{welfake_results['f1']:.4f}\",\n",
    "        f\"{welfake_results['predict_time']/welfake_results['samples']*1000:.2f}\",\n",
    "        f\"{model_memory:.2f}\",\n",
    "        f\"{num_params:,}\"\n",
    "    ],\n",
    "    'External Data': [\n",
    "        f\"{external_results['accuracy']:.4f}\",\n",
    "        f\"{external_results['precision']:.4f}\",\n",
    "        f\"{external_results['recall']:.4f}\",\n",
    "        f\"{external_results['f1']:.4f}\",\n",
    "        f\"{external_results['predict_time']/external_results['samples']*1000:.2f}\",\n",
    "        f\"{model_memory:.2f}\",\n",
    "        f\"{num_params:,}\"\n",
    "    ]\n",
    "})\n",
    "\n",
    "print(\"TinyBERT Performance and Resource Usage Summary:\")\n",
    "print(summary)"
   ]
  },
  {
   "cell_type": "markdown",
   "id": "8514d046",
   "metadata": {},
   "source": [
    "## Conclusion\n",
    "\n",
    "This evaluation demonstrates that TinyBERT can effectively detect fake news while maintaining reasonable resource requirements for edge deployment. The model shows exceptional performance on the WELFake test set with 99.31% accuracy and generalizes reasonably well to external data with 83.70% accuracy.\n",
    "\n",
    "Key findings:\n",
    "\n",
    "1. **Performance**:\n",
    "   - Near-perfect accuracy on the WELFake test set\n",
    "   - Good but reduced performance on external datasets, with a notable tendency to misclassify fake news as real (30.5% false negative rate)\n",
    "\n",
    "2. **Resource Efficiency**:\n",
    "   - Parameter count of 14.35 million (7.5x smaller than BERT-base)\n",
    "   - Memory footprint of approximately 414 MB\n",
    "   - Per-sample inference time of 14 ms with optimal batch sizes\n",
    "\n",
    "3. **Optimization Opportunities**:\n",
    "   - Batch processing significantly improves efficiency (26 ms → 14 ms per sample)\n",
    "   - Shorter sequence lengths dramatically reduce memory requirements\n",
    "   - For extremely resource-constrained environments, using sequence lengths of 256 or less offers significant memory savings\n",
    "\n",
    "These results suggest that transformer-based models like TinyBERT can be successfully deployed on edge devices for fake news detection, bringing advanced NLP capabilities to resource-constrained environments. However, further research is needed to improve generalization to previously unseen fake news patterns and to optimize performance for specific deployment constraints."
   ]
  }
 ],
 "metadata": {
  "jupytext": {
   "cell_metadata_filter": "-all",
   "main_language": "python",
   "notebook_metadata_filter": "-all"
  },
  "kernelspec": {
   "display_name": "Python (myenv)",
   "language": "python",
   "name": "myenv"
  },
  "language_info": {
   "codemirror_mode": {
    "name": "ipython",
    "version": 3
   },
   "file_extension": ".py",
   "mimetype": "text/x-python",
   "name": "python",
   "nbconvert_exporter": "python",
   "pygments_lexer": "ipython3",
   "version": "3.12.1"
  }
 },
 "nbformat": 4,
 "nbformat_minor": 5
}
