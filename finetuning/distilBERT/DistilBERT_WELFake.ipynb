{
 "cells": [
  {
   "cell_type": "markdown",
   "id": "1b8253ef",
   "metadata": {},
   "source": [
    "# DistilBERT for Fake News Detection - Unified Training Pipeline\n",
    "\n",
    "## 1. Introduction\n",
    "\n",
    "This notebook demonstrates how to fine-tune DistilBERT for fake news detection using our standardized train/validation/test splits. DistilBERT represents a different approach to model compression compared to TinyBERT, using knowledge distillation to retain 97% of BERT's performance while reducing model size by 40% and increasing inference speed by 60%.\n",
    "\n",
    "DistilBERT achieves this efficiency through a sophisticated distillation process where it learns to mimic BERT's behavior across all layers simultaneously, rather than just the final outputs. With approximately 66 million parameters (about 60% of BERT-base), it strikes an excellent balance between performance and computational efficiency.\n",
    "\n",
    "### Understanding DistilBERT's Architectural Philosophy\n",
    "\n",
    "While TinyBERT focuses on aggressive parameter reduction through bottleneck structures, DistilBERT takes a different approach. It maintains BERT's general architecture but reduces the number of layers from 12 to 6, while keeping the hidden dimension size constant at 768. This design choice preserves BERT's representational capacity while significantly reducing computational requirements.\n",
    "\n",
    "The knowledge distillation process for DistilBERT involves three types of losses: masked language modeling loss (like BERT's pretraining), distillation loss (matching the teacher's output distributions), and cosine embedding loss (aligning hidden state representations). This comprehensive approach allows DistilBERT to capture both the surface patterns and deeper semantic understanding that make BERT effective.\n",
    "\n",
    "### Why Unified Data Splits Enable Fair Comparison\n",
    "\n",
    "Using identical train/validation/test splits across all models in our comparison study eliminates a major confounding variable. When researchers use different data splits for different models, they introduce an element of randomness that can significantly affect conclusions. A model might appear superior simply because it received easier test examples, not because of genuine architectural advantages.\n",
    "\n",
    "By standardizing our data splits, we ensure that performance differences reflect true capabilities. This approach allows us to make confident statements about the trade-offs between model complexity, training time, inference speed, and accuracy. When we later compare DistilBERT's 66 million parameters against TinyBERT's 15 million or against traditional machine learning approaches, we'll know these comparisons are scientifically valid.\n",
    "\n",
    "## 2. Environment Setup\n",
    "\n",
    "We'll configure our environment with careful attention to both reproducibility and clean output formatting."
   ]
  },
  {
   "cell_type": "code",
   "execution_count": 1,
   "id": "060382ae",
   "metadata": {
    "execution": {
     "iopub.execute_input": "2025-06-04T10:29:52.826821Z",
     "iopub.status.busy": "2025-06-04T10:29:52.826577Z",
     "iopub.status.idle": "2025-06-04T10:29:53.822227Z",
     "shell.execute_reply": "2025-06-04T10:29:53.821688Z",
     "shell.execute_reply.started": "2025-06-04T10:29:52.826801Z"
    }
   },
   "outputs": [],
   "source": [
    "# Import essential libraries for data manipulation and visualization\n",
    "import pandas as pd\n",
    "import numpy as np\n",
    "import matplotlib.pyplot as plt\n",
    "import seaborn as sns\n",
    "import time\n",
    "import os\n",
    "import random\n",
    "import warnings\n",
    "warnings.filterwarnings('ignore')"
   ]
  },
  {
   "cell_type": "code",
   "execution_count": 2,
   "id": "224e04ba",
   "metadata": {
    "execution": {
     "iopub.execute_input": "2025-06-04T10:29:53.824041Z",
     "iopub.status.busy": "2025-06-04T10:29:53.823680Z",
     "iopub.status.idle": "2025-06-04T10:29:57.831049Z",
     "shell.execute_reply": "2025-06-04T10:29:57.830512Z",
     "shell.execute_reply.started": "2025-06-04T10:29:53.824021Z"
    }
   },
   "outputs": [],
   "source": [
    "# Import PyTorch for deep learning operations\n",
    "import torch\n",
    "from torch.utils.data import DataLoader, TensorDataset"
   ]
  },
  {
   "cell_type": "code",
   "execution_count": 3,
   "id": "6aa543e9",
   "metadata": {
    "execution": {
     "iopub.execute_input": "2025-06-04T10:29:57.832061Z",
     "iopub.status.busy": "2025-06-04T10:29:57.831778Z",
     "iopub.status.idle": "2025-06-04T10:30:19.419406Z",
     "shell.execute_reply": "2025-06-04T10:30:19.418813Z",
     "shell.execute_reply.started": "2025-06-04T10:29:57.832046Z"
    }
   },
   "outputs": [
    {
     "name": "stderr",
     "output_type": "stream",
     "text": [
      "2025-06-04 10:30:06.367684: E external/local_xla/xla/stream_executor/cuda/cuda_fft.cc:477] Unable to register cuFFT factory: Attempting to register factory for plugin cuFFT when one has already been registered\n",
      "WARNING: All log messages before absl::InitializeLog() is called are written to STDERR\n",
      "E0000 00:00:1749033006.520631      35 cuda_dnn.cc:8310] Unable to register cuDNN factory: Attempting to register factory for plugin cuDNN when one has already been registered\n",
      "E0000 00:00:1749033006.564383      35 cuda_blas.cc:1418] Unable to register cuBLAS factory: Attempting to register factory for plugin cuBLAS when one has already been registered\n"
     ]
    }
   ],
   "source": [
    "# Import Hugging Face transformers for pre-trained models and training utilities\n",
    "from transformers import AutoTokenizer, AutoModelForSequenceClassification\n",
    "from transformers import Trainer, TrainingArguments\n",
    "from transformers import EarlyStoppingCallback\n",
    "from datasets import Dataset"
   ]
  },
  {
   "cell_type": "code",
   "execution_count": 4,
   "id": "08fe2264",
   "metadata": {
    "execution": {
     "iopub.execute_input": "2025-06-04T10:30:19.421112Z",
     "iopub.status.busy": "2025-06-04T10:30:19.420183Z",
     "iopub.status.idle": "2025-06-04T10:30:19.424703Z",
     "shell.execute_reply": "2025-06-04T10:30:19.423904Z",
     "shell.execute_reply.started": "2025-06-04T10:30:19.421083Z"
    }
   },
   "outputs": [],
   "source": [
    "# Import evaluation metrics for comprehensive performance assessment\n",
    "from sklearn.metrics import accuracy_score, precision_recall_fscore_support\n",
    "from sklearn.metrics import classification_report, confusion_matrix"
   ]
  },
  {
   "cell_type": "code",
   "execution_count": 5,
   "id": "67be7a39",
   "metadata": {
    "execution": {
     "iopub.execute_input": "2025-06-04T10:30:19.427868Z",
     "iopub.status.busy": "2025-06-04T10:30:19.427562Z",
     "iopub.status.idle": "2025-06-04T10:30:19.444695Z",
     "shell.execute_reply": "2025-06-04T10:30:19.443952Z",
     "shell.execute_reply.started": "2025-06-04T10:30:19.427850Z"
    }
   },
   "outputs": [],
   "source": [
    "# Configure environment settings for reproducibility and clean output\n",
    "def set_seed(seed_value=42):\n",
    "    \"\"\"\n",
    "    Configure all random number generators and environment settings for reproducible results.\n",
    "    \n",
    "    This function ensures that every run of our training produces identical results,\n",
    "    which is crucial for scientific reproducibility and fair model comparison.\n",
    "    We also configure tokenizer settings to eliminate parallelism warnings.\n",
    "    \"\"\"\n",
    "    random.seed(seed_value)\n",
    "    np.random.seed(seed_value)\n",
    "    torch.manual_seed(seed_value)\n",
    "    torch.cuda.manual_seed_all(seed_value)\n",
    "    os.environ['PYTHONHASHSEED'] = str(seed_value)\n",
    "    \n",
    "    # Disable tokenizer parallelism to avoid fork warnings during training\n",
    "    os.environ[\"TOKENIZERS_PARALLELISM\"] = \"false\"\n",
    "    \n",
    "    # Ensure deterministic behavior in CUDA operations\n",
    "    torch.backends.cudnn.deterministic = True\n",
    "\n",
    "# Apply our environment configuration\n",
    "set_seed(42)"
   ]
  },
  {
   "cell_type": "markdown",
   "id": "d3570341",
   "metadata": {},
   "source": [
    "Understanding why we disable tokenizer parallelism helps appreciate the complexity of modern machine learning systems. Transformer tokenizers can use multiple CPU cores to process text faster, but this can conflict with PyTorch's own parallelization strategies during training. By explicitly setting single-threaded tokenization, we avoid these conflicts while maintaining clean, professional output."
   ]
  },
  {
   "cell_type": "code",
   "execution_count": 6,
   "id": "6cd4b960",
   "metadata": {
    "execution": {
     "iopub.execute_input": "2025-06-04T10:30:19.445662Z",
     "iopub.status.busy": "2025-06-04T10:30:19.445389Z",
     "iopub.status.idle": "2025-06-04T10:30:19.450563Z",
     "shell.execute_reply": "2025-06-04T10:30:19.449859Z",
     "shell.execute_reply.started": "2025-06-04T10:30:19.445644Z"
    }
   },
   "outputs": [],
   "source": [
    "# Configure visualization settings for clear, informative plots\n",
    "plt.style.use('ggplot')\n",
    "sns.set(font_scale=1.2)\n",
    "plt.rcParams['figure.figsize'] = (10, 6)"
   ]
  },
  {
   "cell_type": "code",
   "execution_count": 7,
   "id": "c2afc0b7",
   "metadata": {
    "execution": {
     "iopub.execute_input": "2025-06-04T10:30:19.451564Z",
     "iopub.status.busy": "2025-06-04T10:30:19.451326Z",
     "iopub.status.idle": "2025-06-04T10:30:19.462639Z",
     "shell.execute_reply": "2025-06-04T10:30:19.461963Z",
     "shell.execute_reply.started": "2025-06-04T10:30:19.451548Z"
    }
   },
   "outputs": [
    {
     "name": "stdout",
     "output_type": "stream",
     "text": [
      "Using device: cuda\n",
      "GPU: Tesla T4\n",
      "GPU Memory: 15.8 GB\n"
     ]
    }
   ],
   "source": [
    "# Determine computational device and display hardware information\n",
    "device = torch.device(\"cuda\" if torch.cuda.is_available() else \"cpu\")\n",
    "print(f\"Using device: {device}\")\n",
    "\n",
    "if torch.cuda.is_available():\n",
    "    print(f\"GPU: {torch.cuda.get_device_name(0)}\")\n",
    "    print(f\"GPU Memory: {torch.cuda.get_device_properties(0).total_memory / 1e9:.1f} GB\")\n",
    "else:\n",
    "    print(\"Training will proceed on CPU - consider using GPU for faster training\")"
   ]
  },
  {
   "cell_type": "markdown",
   "id": "584def65",
   "metadata": {},
   "source": [
    "## 3. Loading Standardized Data Splits\n",
    "\n",
    "Rather than creating our own data divisions, we'll load the carefully prepared splits that ensure fair comparison across all models in our evaluation study."
   ]
  },
  {
   "cell_type": "code",
   "execution_count": 8,
   "id": "ce741770",
   "metadata": {
    "execution": {
     "iopub.execute_input": "2025-06-04T10:30:19.463753Z",
     "iopub.status.busy": "2025-06-04T10:30:19.463498Z",
     "iopub.status.idle": "2025-06-04T10:30:31.341543Z",
     "shell.execute_reply": "2025-06-04T10:30:31.340846Z",
     "shell.execute_reply.started": "2025-06-04T10:30:19.463735Z"
    }
   },
   "outputs": [
    {
     "name": "stdout",
     "output_type": "stream",
     "text": [
      "Loading standardized train/validation/test splits...\n",
      "Training set: 50,075 samples\n",
      "Validation set: 10,731 samples\n",
      "Test set: 10,731 samples\n",
      "Total articles: 71,537\n"
     ]
    }
   ],
   "source": [
    "# Load the standardized data splits for consistent model comparison\n",
    "print(\"Loading standardized train/validation/test splits...\")\n",
    "\n",
    "train_df = pd.read_csv('/kaggle/input/welfake-clean-split/train.csv')\n",
    "val_df = pd.read_csv('/kaggle/input/welfake-clean-split/validation.csv')\n",
    "test_df = pd.read_csv('/kaggle/input/welfake-clean-split/test.csv')\n",
    "\n",
    "print(f\"Training set: {len(train_df):,} samples\")\n",
    "print(f\"Validation set: {len(val_df):,} samples\")\n",
    "print(f\"Test set: {len(test_df):,} samples\")\n",
    "print(f\"Total articles: {len(train_df) + len(val_df) + len(test_df):,}\")"
   ]
  },
  {
   "cell_type": "code",
   "execution_count": 9,
   "id": "ee0e175f",
   "metadata": {
    "execution": {
     "iopub.execute_input": "2025-06-04T10:30:31.342444Z",
     "iopub.status.busy": "2025-06-04T10:30:31.342222Z",
     "iopub.status.idle": "2025-06-04T10:30:31.363974Z",
     "shell.execute_reply": "2025-06-04T10:30:31.363273Z",
     "shell.execute_reply.started": "2025-06-04T10:30:31.342427Z"
    }
   },
   "outputs": [
    {
     "name": "stdout",
     "output_type": "stream",
     "text": [
      "\n",
      "Class balance verification:\n",
      "Train set: 51.0% fake news (24,520 real, 25,555 fake)\n",
      "Validation set: 51.0% fake news (5,254 real, 5,477 fake)\n",
      "Test set: 51.0% fake news (5,254 real, 5,477 fake)\n"
     ]
    }
   ],
   "source": [
    "# Verify consistent class distribution across all splits\n",
    "print(\"\\nClass balance verification:\")\n",
    "for name, df in [('Train', train_df), ('Validation', val_df), ('Test', test_df)]:\n",
    "    fake_ratio = df['label'].mean()\n",
    "    real_count = sum(df['label'] == 0)\n",
    "    fake_count = sum(df['label'] == 1)\n",
    "    print(f\"{name} set: {fake_ratio:.1%} fake news ({real_count:,} real, {fake_count:,} fake)\")"
   ]
  },
  {
   "cell_type": "markdown",
   "id": "24989c24",
   "metadata": {},
   "source": [
    "The consistent class balance across splits (approximately 51% fake news) ensures that our model encounters the same classification challenge during training, validation, and final testing. This consistency is crucial because class imbalance can significantly affect model behavior, and we want to isolate the effects of architectural differences rather than dataset variations."
   ]
  },
  {
   "cell_type": "code",
   "execution_count": 10,
   "id": "2f58a877",
   "metadata": {
    "execution": {
     "iopub.execute_input": "2025-06-04T10:30:31.364898Z",
     "iopub.status.busy": "2025-06-04T10:30:31.364703Z",
     "iopub.status.idle": "2025-06-04T10:30:31.370022Z",
     "shell.execute_reply": "2025-06-04T10:30:31.369367Z",
     "shell.execute_reply.started": "2025-06-04T10:30:31.364883Z"
    }
   },
   "outputs": [
    {
     "name": "stdout",
     "output_type": "stream",
     "text": [
      "\n",
      "Sample articles from training set:\n",
      "\n",
      "Example 1 (Fake): SWEDISH RESIDENT SPEAKS OUT ABOUT DECADES OF MUSLIM IMMIGRATION: “We all live in the same town, but not in the same world”  The Swedish identity will ...\n",
      "\n",
      "Example 2 (Real): Russia will keep bases in Syria to strike at insurgents: Kremlin MOSCOW (Reuters) - Russia will keep a naval and an air base in Syria capable of carry...\n"
     ]
    }
   ],
   "source": [
    "# Display sample data to understand text characteristics\n",
    "print(\"\\nSample articles from training set:\")\n",
    "for i in range(2):\n",
    "    label_text = \"Fake\" if train_df.iloc[i]['label'] == 1 else \"Real\"\n",
    "    text_preview = train_df.iloc[i]['combined_text'][:150] + \"...\"\n",
    "    print(f\"\\nExample {i+1} ({label_text}): {text_preview}\")"
   ]
  },
  {
   "cell_type": "markdown",
   "id": "8d351254",
   "metadata": {},
   "source": [
    "## 4. Data Preprocessing for DistilBERT\n",
    "\n",
    "Transformer models require specific text preprocessing that converts raw text into numerical tokens. DistilBERT uses the same tokenizer as BERT, which employs WordPiece tokenization to handle the vast vocabulary of natural language efficiently."
   ]
  },
  {
   "cell_type": "code",
   "execution_count": 11,
   "id": "0d7a12a6",
   "metadata": {
    "execution": {
     "iopub.execute_input": "2025-06-04T10:30:31.371304Z",
     "iopub.status.busy": "2025-06-04T10:30:31.370754Z",
     "iopub.status.idle": "2025-06-04T10:30:33.641921Z",
     "shell.execute_reply": "2025-06-04T10:30:33.641225Z",
     "shell.execute_reply.started": "2025-06-04T10:30:31.371277Z"
    }
   },
   "outputs": [
    {
     "name": "stdout",
     "output_type": "stream",
     "text": [
      "Successfully converted data to Hugging Face Dataset format\n",
      "This format optimizes memory usage and enables efficient batch processing\n"
     ]
    }
   ],
   "source": [
    "# Convert pandas DataFrames to Hugging Face Dataset format for efficient processing\n",
    "train_dataset = Dataset.from_pandas(train_df[['combined_text', 'label']])\n",
    "val_dataset = Dataset.from_pandas(val_df[['combined_text', 'label']])\n",
    "test_dataset = Dataset.from_pandas(test_df[['combined_text', 'label']])\n",
    "\n",
    "print(\"Successfully converted data to Hugging Face Dataset format\")\n",
    "print(\"This format optimizes memory usage and enables efficient batch processing\")"
   ]
  },
  {
   "cell_type": "code",
   "execution_count": 12,
   "id": "34660c66",
   "metadata": {
    "execution": {
     "iopub.execute_input": "2025-06-04T10:30:33.642761Z",
     "iopub.status.busy": "2025-06-04T10:30:33.642580Z",
     "iopub.status.idle": "2025-06-04T10:30:34.408163Z",
     "shell.execute_reply": "2025-06-04T10:30:34.407363Z",
     "shell.execute_reply.started": "2025-06-04T10:30:33.642746Z"
    }
   },
   "outputs": [
    {
     "data": {
      "application/vnd.jupyter.widget-view+json": {
       "model_id": "e619aff4c886454aa2f36d6e298945ce",
       "version_major": 2,
       "version_minor": 0
      },
      "text/plain": [
       "tokenizer_config.json:   0%|          | 0.00/48.0 [00:00<?, ?B/s]"
      ]
     },
     "metadata": {},
     "output_type": "display_data"
    },
    {
     "data": {
      "application/vnd.jupyter.widget-view+json": {
       "model_id": "e1dd2c511d594d809c1c063058502e2e",
       "version_major": 2,
       "version_minor": 0
      },
      "text/plain": [
       "config.json:   0%|          | 0.00/483 [00:00<?, ?B/s]"
      ]
     },
     "metadata": {},
     "output_type": "display_data"
    },
    {
     "data": {
      "application/vnd.jupyter.widget-view+json": {
       "model_id": "5ad61f512c5b4b1db8ffda9525ffd943",
       "version_major": 2,
       "version_minor": 0
      },
      "text/plain": [
       "vocab.txt:   0%|          | 0.00/232k [00:00<?, ?B/s]"
      ]
     },
     "metadata": {},
     "output_type": "display_data"
    },
    {
     "data": {
      "application/vnd.jupyter.widget-view+json": {
       "model_id": "89c301c4a20546cd9d907eab005725f8",
       "version_major": 2,
       "version_minor": 0
      },
      "text/plain": [
       "tokenizer.json:   0%|          | 0.00/466k [00:00<?, ?B/s]"
      ]
     },
     "metadata": {},
     "output_type": "display_data"
    },
    {
     "name": "stdout",
     "output_type": "stream",
     "text": [
      "DistilBERT tokenizer loaded successfully\n",
      "Vocabulary size: 30,522 tokens\n",
      "Uses WordPiece tokenization with BERT's vocabulary\n"
     ]
    }
   ],
   "source": [
    "# Load DistilBERT tokenizer with identical vocabulary to BERT\n",
    "tokenizer = AutoTokenizer.from_pretrained(\"distilbert-base-uncased\")\n",
    "\n",
    "print(\"DistilBERT tokenizer loaded successfully\")\n",
    "print(f\"Vocabulary size: {tokenizer.vocab_size:,} tokens\")\n",
    "print(\"Uses WordPiece tokenization with BERT's vocabulary\")"
   ]
  },
  {
   "cell_type": "markdown",
   "id": "df7066b7",
   "metadata": {},
   "source": [
    "Understanding DistilBERT's tokenization helps appreciate why it maintains such strong performance despite being smaller. By using BERT's exact vocabulary and tokenization strategy, DistilBERT can leverage all the linguistic patterns that BERT learned during pretraining, just with fewer computational layers to process them."
   ]
  },
  {
   "cell_type": "code",
   "execution_count": 13,
   "id": "54b38282",
   "metadata": {
    "execution": {
     "iopub.execute_input": "2025-06-04T10:30:34.409741Z",
     "iopub.status.busy": "2025-06-04T10:30:34.409041Z",
     "iopub.status.idle": "2025-06-04T10:30:34.413939Z",
     "shell.execute_reply": "2025-06-04T10:30:34.413289Z",
     "shell.execute_reply.started": "2025-06-04T10:30:34.409711Z"
    }
   },
   "outputs": [],
   "source": [
    "def tokenize_function(examples):\n",
    "    \"\"\"\n",
    "    Tokenize text data for DistilBERT with appropriate preprocessing settings.\n",
    "    \n",
    "    This function converts variable-length news articles into fixed-length token sequences\n",
    "    that DistilBERT can process efficiently. The key parameters ensure consistent input\n",
    "    formatting while handling the diversity of article lengths in our dataset.\n",
    "    \n",
    "    Args:\n",
    "        examples: Dictionary containing text examples from our dataset\n",
    "        \n",
    "    Returns:\n",
    "        Dictionary with tokenized inputs including token IDs and attention masks\n",
    "    \"\"\"\n",
    "    return tokenizer(\n",
    "        examples[\"combined_text\"],\n",
    "        padding=\"max_length\",        # Pad shorter articles to consistent length\n",
    "        truncation=True,             # Truncate longer articles to model limits\n",
    "        max_length=512,              # Standard sequence length for BERT family models\n",
    "        return_attention_mask=True   # Generate attention masks for padded tokens\n",
    "    )"
   ]
  },
  {
   "cell_type": "markdown",
   "id": "9849bdba",
   "metadata": {},
   "source": [
    "The attention mask mechanism deserves special explanation because it's crucial for transformer performance. When we pad shorter articles to reach our standard 512-token length, we need to tell the model which tokens are real content versus padding. The attention mask serves this purpose, ensuring that DistilBERT focuses only on actual article content when making predictions."
   ]
  },
  {
   "cell_type": "code",
   "execution_count": 14,
   "id": "4b71cdc5",
   "metadata": {
    "execution": {
     "iopub.execute_input": "2025-06-04T10:30:34.418734Z",
     "iopub.status.busy": "2025-06-04T10:30:34.417958Z",
     "iopub.status.idle": "2025-06-04T10:33:10.583923Z",
     "shell.execute_reply": "2025-06-04T10:33:10.583345Z",
     "shell.execute_reply.started": "2025-06-04T10:30:34.418711Z"
    }
   },
   "outputs": [
    {
     "name": "stdout",
     "output_type": "stream",
     "text": [
      "Tokenizing datasets...\n",
      "This process converts text to numerical tokens that DistilBERT can understand\n"
     ]
    },
    {
     "data": {
      "application/vnd.jupyter.widget-view+json": {
       "model_id": "69537152963c4fcd8c94d2612cc0fbb7",
       "version_major": 2,
       "version_minor": 0
      },
      "text/plain": [
       "Map:   0%|          | 0/50075 [00:00<?, ? examples/s]"
      ]
     },
     "metadata": {},
     "output_type": "display_data"
    },
    {
     "data": {
      "application/vnd.jupyter.widget-view+json": {
       "model_id": "b39ebed503f2468bae9b052685364aaa",
       "version_major": 2,
       "version_minor": 0
      },
      "text/plain": [
       "Map:   0%|          | 0/10731 [00:00<?, ? examples/s]"
      ]
     },
     "metadata": {},
     "output_type": "display_data"
    },
    {
     "data": {
      "application/vnd.jupyter.widget-view+json": {
       "model_id": "f81f574581674dc8abe562c464002ad4",
       "version_major": 2,
       "version_minor": 0
      },
      "text/plain": [
       "Map:   0%|          | 0/10731 [00:00<?, ? examples/s]"
      ]
     },
     "metadata": {},
     "output_type": "display_data"
    },
    {
     "name": "stdout",
     "output_type": "stream",
     "text": [
      "Tokenization completed successfully\n"
     ]
    }
   ],
   "source": [
    "# Apply tokenization to all datasets with progress tracking\n",
    "print(\"Tokenizing datasets...\")\n",
    "print(\"This process converts text to numerical tokens that DistilBERT can understand\")\n",
    "\n",
    "tokenized_train = train_dataset.map(tokenize_function, batched=True)\n",
    "tokenized_val = val_dataset.map(tokenize_function, batched=True)\n",
    "tokenized_test = test_dataset.map(tokenize_function, batched=True)\n",
    "\n",
    "print(\"Tokenization completed successfully\")"
   ]
  },
  {
   "cell_type": "code",
   "execution_count": 15,
   "id": "da105da3",
   "metadata": {
    "execution": {
     "iopub.execute_input": "2025-06-04T10:33:10.584870Z",
     "iopub.status.busy": "2025-06-04T10:33:10.584631Z",
     "iopub.status.idle": "2025-06-04T10:33:10.590970Z",
     "shell.execute_reply": "2025-06-04T10:33:10.590328Z",
     "shell.execute_reply.started": "2025-06-04T10:33:10.584843Z"
    }
   },
   "outputs": [
    {
     "name": "stdout",
     "output_type": "stream",
     "text": [
      "Datasets configured for PyTorch training\n",
      "Ready for efficient batch processing during training\n"
     ]
    }
   ],
   "source": [
    "# Configure datasets for PyTorch compatibility\n",
    "tokenized_train.set_format(\"torch\", columns=[\"input_ids\", \"attention_mask\", \"label\"])\n",
    "tokenized_val.set_format(\"torch\", columns=[\"input_ids\", \"attention_mask\", \"label\"])\n",
    "tokenized_test.set_format(\"torch\", columns=[\"input_ids\", \"attention_mask\", \"label\"])\n",
    "\n",
    "print(\"Datasets configured for PyTorch training\")\n",
    "print(\"Ready for efficient batch processing during training\")"
   ]
  },
  {
   "cell_type": "markdown",
   "id": "9e52182d",
   "metadata": {},
   "source": [
    "## 5. DistilBERT Model Configuration\n",
    "\n",
    "Now we'll load DistilBERT and configure it specifically for binary classification, taking advantage of its architectural strengths while adapting it to our fake news detection task."
   ]
  },
  {
   "cell_type": "code",
   "execution_count": 16,
   "id": "a67ac237",
   "metadata": {
    "execution": {
     "iopub.execute_input": "2025-06-04T10:33:10.591773Z",
     "iopub.status.busy": "2025-06-04T10:33:10.591578Z",
     "iopub.status.idle": "2025-06-04T10:33:13.834971Z",
     "shell.execute_reply": "2025-06-04T10:33:13.834363Z",
     "shell.execute_reply.started": "2025-06-04T10:33:10.591758Z"
    }
   },
   "outputs": [
    {
     "data": {
      "application/vnd.jupyter.widget-view+json": {
       "model_id": "6cd328f0405241b29c66183fb41ad26b",
       "version_major": 2,
       "version_minor": 0
      },
      "text/plain": [
       "model.safetensors:   0%|          | 0.00/268M [00:00<?, ?B/s]"
      ]
     },
     "metadata": {},
     "output_type": "display_data"
    },
    {
     "name": "stderr",
     "output_type": "stream",
     "text": [
      "Some weights of DistilBertForSequenceClassification were not initialized from the model checkpoint at distilbert-base-uncased and are newly initialized: ['classifier.bias', 'classifier.weight', 'pre_classifier.bias', 'pre_classifier.weight']\n",
      "You should probably TRAIN this model on a down-stream task to be able to use it for predictions and inference.\n"
     ]
    },
    {
     "name": "stdout",
     "output_type": "stream",
     "text": [
      "DistilBERT model loaded and configured for fake news detection\n"
     ]
    }
   ],
   "source": [
    "# Load pre-trained DistilBERT and adapt for binary classification\n",
    "model = AutoModelForSequenceClassification.from_pretrained(\n",
    "    \"distilbert-base-uncased\",\n",
    "    num_labels=2,                    # Binary classification: real (0) vs fake (1)\n",
    "    output_attentions=False,         # Don't output attention weights to save memory\n",
    "    output_hidden_states=False       # Don't output hidden states to save memory\n",
    ")\n",
    "\n",
    "# Transfer model to appropriate computational device\n",
    "model.to(device)\n",
    "\n",
    "print(\"DistilBERT model loaded and configured for fake news detection\")"
   ]
  },
  {
   "cell_type": "code",
   "execution_count": 17,
   "id": "5441d4a8",
   "metadata": {
    "execution": {
     "iopub.execute_input": "2025-06-04T10:33:13.835900Z",
     "iopub.status.busy": "2025-06-04T10:33:13.835661Z",
     "iopub.status.idle": "2025-06-04T10:33:13.842388Z",
     "shell.execute_reply": "2025-06-04T10:33:13.841684Z",
     "shell.execute_reply.started": "2025-06-04T10:33:13.835873Z"
    }
   },
   "outputs": [
    {
     "name": "stdout",
     "output_type": "stream",
     "text": [
      "\n",
      "Model Architecture Analysis:\n",
      "Total parameters: 66,955,010\n",
      "Trainable parameters: 66,955,010\n",
      "Model size: 255.4 MB\n",
      "Reduction from BERT-base: ~39%\n"
     ]
    }
   ],
   "source": [
    "# Analyze model characteristics for resource planning\n",
    "num_params = sum(p.numel() for p in model.parameters())\n",
    "trainable_params = sum(p.numel() for p in model.parameters() if p.requires_grad)\n",
    "param_size_mb = sum(p.numel() * p.element_size() for p in model.parameters()) / (1024 * 1024)\n",
    "\n",
    "print(f\"\\nModel Architecture Analysis:\")\n",
    "print(f\"Total parameters: {num_params:,}\")\n",
    "print(f\"Trainable parameters: {trainable_params:,}\")\n",
    "print(f\"Model size: {param_size_mb:.1f} MB\")\n",
    "print(f\"Reduction from BERT-base: ~{(1 - num_params/110_000_000)*100:.0f}%\")"
   ]
  },
  {
   "cell_type": "markdown",
   "id": "2952482a",
   "metadata": {},
   "source": [
    "These statistics help us understand DistilBERT's efficiency gains. With approximately 66 million parameters compared to BERT's 110 million, DistilBERT achieves a 40% reduction in model size. This reduction comes primarily from halving the number of transformer layers (6 instead of 12) while maintaining the hidden dimension size that preserves representational capacity.\n",
    "\n",
    "## 6. Training Configuration Optimized for DistilBERT\n",
    "\n",
    "DistilBERT's training configuration differs from TinyBERT because of its different distillation approach and architectural characteristics. We'll use hyperparameters that leverage DistilBERT's strengths effectively."
   ]
  },
  {
   "cell_type": "code",
   "execution_count": 18,
   "id": "bb46453b",
   "metadata": {
    "execution": {
     "iopub.execute_input": "2025-06-04T10:33:13.843554Z",
     "iopub.status.busy": "2025-06-04T10:33:13.843248Z",
     "iopub.status.idle": "2025-06-04T10:33:13.860015Z",
     "shell.execute_reply": "2025-06-04T10:33:13.859195Z",
     "shell.execute_reply.started": "2025-06-04T10:33:13.843524Z"
    }
   },
   "outputs": [],
   "source": [
    "def compute_metrics(eval_pred):\n",
    "    \"\"\"\n",
    "    Compute comprehensive evaluation metrics during training and validation.\n",
    "    \n",
    "    This function provides multiple performance indicators that help us monitor\n",
    "    training progress and make informed decisions about model convergence.\n",
    "    For fake news detection, we particularly care about balanced performance\n",
    "    across both classes to avoid bias toward either false positives or false negatives.\n",
    "    \n",
    "    Args:\n",
    "        eval_pred: Tuple containing (predictions, true_labels) from model evaluation\n",
    "        \n",
    "    Returns:\n",
    "        Dictionary with accuracy, precision, recall, and F1 score\n",
    "    \"\"\"\n",
    "    predictions, labels = eval_pred\n",
    "    predictions = np.argmax(predictions, axis=1)\n",
    "    \n",
    "    # Calculate overall accuracy\n",
    "    accuracy = accuracy_score(labels, predictions)\n",
    "    \n",
    "    # Calculate precision, recall, and F1 with weighted averaging for class imbalance\n",
    "    precision, recall, f1, _ = precision_recall_fscore_support(\n",
    "        labels, predictions, average='weighted'\n",
    "    )\n",
    "    \n",
    "    return {\n",
    "        'accuracy': accuracy,\n",
    "        'precision': precision,\n",
    "        'recall': recall,\n",
    "        'f1': f1\n",
    "    }"
   ]
  },
  {
   "cell_type": "code",
   "execution_count": 19,
   "id": "5c1530ae",
   "metadata": {
    "execution": {
     "iopub.execute_input": "2025-06-04T10:33:13.860997Z",
     "iopub.status.busy": "2025-06-04T10:33:13.860783Z",
     "iopub.status.idle": "2025-06-04T10:33:13.904276Z",
     "shell.execute_reply": "2025-06-04T10:33:13.903598Z",
     "shell.execute_reply.started": "2025-06-04T10:33:13.860982Z"
    }
   },
   "outputs": [],
   "source": [
    "# Configure training arguments specifically optimized for DistilBERT\n",
    "training_args = TrainingArguments(\n",
    "    output_dir=\"./results/distilbert_welfake_unified\",\n",
    "    \n",
    "    # Evaluation and checkpointing strategy\n",
    "    eval_strategy=\"epoch\",              # Evaluate after each complete epoch\n",
    "    save_strategy=\"epoch\",              # Save checkpoints after each epoch\n",
    "    \n",
    "    # Learning rate configuration for DistilBERT\n",
    "    learning_rate=5e-5,                 # Standard BERT learning rate (lower than TinyBERT)\n",
    "    warmup_steps=500,                   # Gradual learning rate warmup\n",
    "    \n",
    "    # Batch size configuration optimized for DistilBERT's architecture\n",
    "    per_device_train_batch_size=16,     # Training batch size\n",
    "    per_device_eval_batch_size=64,      # Larger evaluation batches for efficiency\n",
    "    gradient_accumulation_steps=2,       # Effective batch size of 32\n",
    "    \n",
    "    # Training duration - DistilBERT typically needs fewer epochs than training from scratch\n",
    "    num_train_epochs=3,                 # Conservative to prevent overfitting\n",
    "    \n",
    "    # Regularization parameters\n",
    "    weight_decay=0.01,                  # L2 regularization strength\n",
    "    adam_epsilon=1e-8,                  # Adam optimizer epsilon (BERT standard)\n",
    "    max_grad_norm=1.0,                  # Gradient clipping threshold\n",
    "    \n",
    "    # Model selection criteria\n",
    "    load_best_model_at_end=True,        # Load best checkpoint at completion\n",
    "    metric_for_best_model=\"f1\",         # Use F1 score for model selection\n",
    "    greater_is_better=True,             # Higher F1 scores are better\n",
    "    \n",
    "    # Computational efficiency settings\n",
    "    fp16=torch.cuda.is_available(),     # Mixed precision if GPU available\n",
    "    dataloader_num_workers=0,           # Single-threaded data loading (avoids warnings)\n",
    "    \n",
    "    # Logging and monitoring\n",
    "    logging_steps=100,                  # Log training progress every 100 steps\n",
    "    save_total_limit=2,                 # Keep only the best 2 checkpoints\n",
    "    report_to=\"none\",                   # Disable external logging services\n",
    "    push_to_hub=False,                  # Don't upload to Hugging Face Hub\n",
    "    \n",
    "    # Reproducibility\n",
    "    seed=42,                           # Ensure reproducible results\n",
    ")"
   ]
  },
  {
   "cell_type": "markdown",
   "id": "ee1bb467",
   "metadata": {},
   "source": [
    "Notice that DistilBERT uses a lower learning rate (5e-5) compared to TinyBERT's 1e-4. This reflects the different distillation approaches: DistilBERT was trained to closely match BERT's behavior, so it benefits from the same conservative learning rates that work well for BERT fine-tuning. TinyBERT's more aggressive compression allows for higher learning rates during fine-tuning."
   ]
  },
  {
   "cell_type": "code",
   "execution_count": 20,
   "id": "cf21c470",
   "metadata": {
    "execution": {
     "iopub.execute_input": "2025-06-04T10:33:13.905624Z",
     "iopub.status.busy": "2025-06-04T10:33:13.905029Z",
     "iopub.status.idle": "2025-06-04T10:33:13.909097Z",
     "shell.execute_reply": "2025-06-04T10:33:13.908589Z",
     "shell.execute_reply.started": "2025-06-04T10:33:13.905606Z"
    }
   },
   "outputs": [
    {
     "name": "stdout",
     "output_type": "stream",
     "text": [
      "Early stopping configured with patience=2\n",
      "Training will halt if validation F1 doesn't improve for 2 consecutive epochs\n"
     ]
    }
   ],
   "source": [
    "# Configure early stopping to prevent overfitting\n",
    "early_stopping_callback = EarlyStoppingCallback(\n",
    "    early_stopping_patience=2,          # Stop if no improvement for 2 evaluations\n",
    "    early_stopping_threshold=0.001      # Minimum improvement considered significant\n",
    ")\n",
    "\n",
    "print(\"Early stopping configured with patience=2\")\n",
    "print(\"Training will halt if validation F1 doesn't improve for 2 consecutive epochs\")"
   ]
  },
  {
   "cell_type": "code",
   "execution_count": 21,
   "id": "f376c40d",
   "metadata": {
    "execution": {
     "iopub.execute_input": "2025-06-04T10:33:13.910013Z",
     "iopub.status.busy": "2025-06-04T10:33:13.909827Z",
     "iopub.status.idle": "2025-06-04T10:33:13.931123Z",
     "shell.execute_reply": "2025-06-04T10:33:13.930304Z",
     "shell.execute_reply.started": "2025-06-04T10:33:13.909999Z"
    }
   },
   "outputs": [
    {
     "name": "stdout",
     "output_type": "stream",
     "text": [
      "Trainer initialized with DistilBERT-specific optimizations\n",
      "Ready to begin training on fake news detection task\n"
     ]
    }
   ],
   "source": [
    "# Initialize the Trainer with DistilBERT-optimized configuration\n",
    "trainer = Trainer(\n",
    "    model=model,\n",
    "    args=training_args,\n",
    "    train_dataset=tokenized_train,\n",
    "    eval_dataset=tokenized_val,\n",
    "    tokenizer=tokenizer,\n",
    "    compute_metrics=compute_metrics,\n",
    "    callbacks=[early_stopping_callback]\n",
    ")\n",
    "\n",
    "print(\"Trainer initialized with DistilBERT-specific optimizations\")\n",
    "print(\"Ready to begin training on fake news detection task\")"
   ]
  },
  {
   "cell_type": "markdown",
   "id": "3c635a62",
   "metadata": {},
   "source": [
    "## 7. Model Training\n",
    "\n",
    "We'll now train DistilBERT on our standardized dataset, monitoring its performance throughout the training process to understand how quickly it converges to optimal performance."
   ]
  },
  {
   "cell_type": "code",
   "execution_count": 36,
   "id": "fc94cfdb",
   "metadata": {
    "execution": {
     "iopub.execute_input": "2025-06-04T12:04:03.846755Z",
     "iopub.status.busy": "2025-06-04T12:04:03.846474Z",
     "iopub.status.idle": "2025-06-04T13:19:33.080639Z",
     "shell.execute_reply": "2025-06-04T13:19:33.079881Z",
     "shell.execute_reply.started": "2025-06-04T12:04:03.846737Z"
    }
   },
   "outputs": [
    {
     "name": "stdout",
     "output_type": "stream",
     "text": [
      "Starting DistilBERT training...\n",
      "Training progress will be displayed with validation metrics after each epoch\n"
     ]
    },
    {
     "data": {
      "text/html": [
       "\n",
       "    <div>\n",
       "      \n",
       "      <progress value='2346' max='2346' style='width:300px; height:20px; vertical-align: middle;'></progress>\n",
       "      [2346/2346 1:15:26, Epoch 2/3]\n",
       "    </div>\n",
       "    <table border=\"1\" class=\"dataframe\">\n",
       "  <thead>\n",
       " <tr style=\"text-align: left;\">\n",
       "      <th>Epoch</th>\n",
       "      <th>Training Loss</th>\n",
       "      <th>Validation Loss</th>\n",
       "      <th>Accuracy</th>\n",
       "      <th>Precision</th>\n",
       "      <th>Recall</th>\n",
       "      <th>F1</th>\n",
       "    </tr>\n",
       "  </thead>\n",
       "  <tbody>\n",
       "    <tr>\n",
       "      <td>1</td>\n",
       "      <td>0.053300</td>\n",
       "      <td>0.072704</td>\n",
       "      <td>0.994129</td>\n",
       "      <td>0.994145</td>\n",
       "      <td>0.994129</td>\n",
       "      <td>0.994129</td>\n",
       "    </tr>\n",
       "    <tr>\n",
       "      <td>2</td>\n",
       "      <td>0.005400</td>\n",
       "      <td>0.067910</td>\n",
       "      <td>0.995807</td>\n",
       "      <td>0.995807</td>\n",
       "      <td>0.995807</td>\n",
       "      <td>0.995807</td>\n",
       "    </tr>\n",
       "  </tbody>\n",
       "</table><p>"
      ],
      "text/plain": [
       "<IPython.core.display.HTML object>"
      ]
     },
     "metadata": {},
     "output_type": "display_data"
    },
    {
     "name": "stdout",
     "output_type": "stream",
     "text": [
      "\n",
      "Training completed successfully!\n",
      "Total training time: 75.49 minutes\n",
      "Average time per epoch: 25.16 minutes\n"
     ]
    }
   ],
   "source": [
    "# Begin training with comprehensive timing analysis\n",
    "print(\"Starting DistilBERT training...\")\n",
    "print(\"Training progress will be displayed with validation metrics after each epoch\")\n",
    "\n",
    "training_start_time = time.time()\n",
    "\n",
    "# Execute the fine-tuning process\n",
    "train_result = trainer.train()\n",
    "\n",
    "# Calculate comprehensive training statistics\n",
    "training_duration = time.time() - training_start_time\n",
    "print(f\"\\nTraining completed successfully!\")\n",
    "print(f\"Total training time: {training_duration/60:.2f} minutes\")\n",
    "print(f\"Average time per epoch: {training_duration/(60*training_args.num_train_epochs):.2f} minutes\")"
   ]
  },
  {
   "cell_type": "code",
   "execution_count": 37,
   "id": "dc410bc7",
   "metadata": {
    "execution": {
     "iopub.execute_input": "2025-06-04T13:27:33.831353Z",
     "iopub.status.busy": "2025-06-04T13:27:33.830809Z",
     "iopub.status.idle": "2025-06-04T13:27:33.835986Z",
     "shell.execute_reply": "2025-06-04T13:27:33.835217Z",
     "shell.execute_reply.started": "2025-06-04T13:27:33.831332Z"
    }
   },
   "outputs": [
    {
     "name": "stdout",
     "output_type": "stream",
     "text": [
      "\n",
      "Training Convergence Analysis:\n",
      "Final training loss: 0.021089473521719606\n",
      "Training steps completed: Not available\n",
      "Training efficiency: 11.1 samples/second\n"
     ]
    }
   ],
   "source": [
    "# Analyze training convergence and final metrics\n",
    "print(\"\\nTraining Convergence Analysis:\")\n",
    "if hasattr(train_result, 'metrics'):\n",
    "    final_loss = train_result.metrics.get('train_loss', 'Not available')\n",
    "    total_steps = train_result.metrics.get('train_steps', 'Not available')\n",
    "    \n",
    "    print(f\"Final training loss: {final_loss}\")\n",
    "    print(f\"Training steps completed: {total_steps}\")\n",
    "    print(f\"Training efficiency: {len(train_df)/training_duration:.1f} samples/second\")"
   ]
  },
  {
   "cell_type": "markdown",
   "id": "82dac13c",
   "metadata": {},
   "source": [
    "During training, you'll notice that DistilBERT converges relatively quickly compared to training BERT from scratch. This rapid convergence reflects the effectiveness of knowledge distillation - DistilBERT starts with representations that are already well-suited for language understanding tasks, requiring only task-specific fine-tuning rather than learning language patterns from scratch.\n",
    "\n",
    "## 8. Comprehensive Model Evaluation\n",
    "\n",
    "After training completes, we'll evaluate our DistilBERT model on the held-out test set to assess its true generalization performance and understand its strengths and limitations."
   ]
  },
  {
   "cell_type": "code",
   "execution_count": 38,
   "id": "599f73c0",
   "metadata": {
    "execution": {
     "iopub.execute_input": "2025-06-04T13:27:33.837395Z",
     "iopub.status.busy": "2025-06-04T13:27:33.837134Z",
     "iopub.status.idle": "2025-06-04T13:29:12.552976Z",
     "shell.execute_reply": "2025-06-04T13:29:12.552350Z",
     "shell.execute_reply.started": "2025-06-04T13:27:33.837369Z"
    }
   },
   "outputs": [
    {
     "name": "stdout",
     "output_type": "stream",
     "text": [
      "Evaluating DistilBERT on test set...\n",
      "This evaluation uses the same test data as all other models in our comparison\n"
     ]
    },
    {
     "data": {
      "text/html": [],
      "text/plain": [
       "<IPython.core.display.HTML object>"
      ]
     },
     "metadata": {},
     "output_type": "display_data"
    },
    {
     "name": "stdout",
     "output_type": "stream",
     "text": [
      "\n",
      "Test Set Performance Summary:\n",
      "Accuracy: 0.9965\n",
      "Precision: 0.9965\n",
      "Recall: 0.9965\n",
      "F1 Score: 0.9965\n",
      "Evaluation time: 98.70 seconds\n"
     ]
    }
   ],
   "source": [
    "# Evaluate trained model on standardized test set\n",
    "print(\"Evaluating DistilBERT on test set...\")\n",
    "print(\"This evaluation uses the same test data as all other models in our comparison\")\n",
    "\n",
    "test_results = trainer.evaluate(tokenized_test)\n",
    "\n",
    "print(\"\\nTest Set Performance Summary:\")\n",
    "print(f\"Accuracy: {test_results['eval_accuracy']:.4f}\")\n",
    "print(f\"Precision: {test_results['eval_precision']:.4f}\")\n",
    "print(f\"Recall: {test_results['eval_recall']:.4f}\")\n",
    "print(f\"F1 Score: {test_results['eval_f1']:.4f}\")\n",
    "print(f\"Evaluation time: {test_results['eval_runtime']:.2f} seconds\")"
   ]
  },
  {
   "cell_type": "code",
   "execution_count": 39,
   "id": "2ef197f8",
   "metadata": {
    "execution": {
     "iopub.execute_input": "2025-06-04T13:29:12.553844Z",
     "iopub.status.busy": "2025-06-04T13:29:12.553646Z",
     "iopub.status.idle": "2025-06-04T13:30:49.690164Z",
     "shell.execute_reply": "2025-06-04T13:30:49.689419Z",
     "shell.execute_reply.started": "2025-06-04T13:29:12.553823Z"
    }
   },
   "outputs": [
    {
     "name": "stdout",
     "output_type": "stream",
     "text": [
      "\n",
      "Inference Efficiency Analysis:\n",
      "Processing speed: 108.7 samples/second\n",
      "Average time per article: 9.20 milliseconds\n"
     ]
    }
   ],
   "source": [
    "# Generate detailed predictions for comprehensive analysis\n",
    "predictions = trainer.predict(tokenized_test)\n",
    "y_pred = np.argmax(predictions.predictions, axis=1)\n",
    "y_true = predictions.label_ids\n",
    "\n",
    "# Calculate additional performance metrics\n",
    "samples_per_second = len(test_df) / test_results['eval_runtime']\n",
    "ms_per_sample = (test_results['eval_runtime'] * 1000) / len(test_df)\n",
    "\n",
    "print(f\"\\nInference Efficiency Analysis:\")\n",
    "print(f\"Processing speed: {samples_per_second:.1f} samples/second\")\n",
    "print(f\"Average time per article: {ms_per_sample:.2f} milliseconds\")"
   ]
  },
  {
   "cell_type": "markdown",
   "id": "c4424a18",
   "metadata": {},
   "source": [
    "These efficiency metrics help us understand DistilBERT's practical deployment characteristics. The inference speed is crucial for real-world applications where news articles need to be classified in real-time as they're published or shared on social media platforms."
   ]
  },
  {
   "cell_type": "code",
   "execution_count": 40,
   "id": "8c29777c",
   "metadata": {
    "execution": {
     "iopub.execute_input": "2025-06-04T13:30:49.692094Z",
     "iopub.status.busy": "2025-06-04T13:30:49.691893Z",
     "iopub.status.idle": "2025-06-04T13:30:49.910464Z",
     "shell.execute_reply": "2025-06-04T13:30:49.909605Z",
     "shell.execute_reply.started": "2025-06-04T13:30:49.692078Z"
    }
   },
   "outputs": [
    {
     "data": {
      "image/png": "[encoded data removed]",
      "text/plain": [
       "<Figure size 800x600 with 2 Axes>"
      ]
     },
     "metadata": {},
     "output_type": "display_data"
    },
    {
     "name": "stdout",
     "output_type": "stream",
     "text": [
      "\n",
      "Detailed Error Analysis:\n",
      "True Negatives (Real correctly identified): 5,239\n",
      "False Positives (Real misclassified as Fake): 15\n",
      "False Negatives (Fake misclassified as Real): 23\n",
      "True Positives (Fake correctly identified): 5,454\n",
      "\n",
      "Error Rates:\n",
      "False Positive Rate: 0.0029 (0.29%)\n",
      "False Negative Rate: 0.0042 (0.42%)\n"
     ]
    }
   ],
   "source": [
    "# Create and analyze confusion matrix\n",
    "cm = confusion_matrix(y_true, y_pred)\n",
    "\n",
    "plt.figure(figsize=(8, 6))\n",
    "sns.heatmap(cm, annot=True, fmt='d', cmap='Blues',\n",
    "            xticklabels=['Real News', 'Fake News'],\n",
    "            yticklabels=['Real News', 'Fake News'])\n",
    "plt.title('DistilBERT Test Set Confusion Matrix')\n",
    "plt.ylabel('True Label')\n",
    "plt.xlabel('Predicted Label')\n",
    "\n",
    "# Add percentage annotations\n",
    "total = cm.sum()\n",
    "for i in range(2):\n",
    "    for j in range(2):\n",
    "        percentage = cm[i,j] / total * 100\n",
    "        plt.text(j+0.5, i+0.7, f'({percentage:.1f}%)', \n",
    "                ha='center', va='center', fontsize=10, color='gray')\n",
    "\n",
    "plt.tight_layout()\n",
    "plt.show()\n",
    "\n",
    "# Extract and analyze error patterns\n",
    "tn, fp, fn, tp = cm.ravel()\n",
    "print(f\"\\nDetailed Error Analysis:\")\n",
    "print(f\"True Negatives (Real correctly identified): {tn:,}\")\n",
    "print(f\"False Positives (Real misclassified as Fake): {fp:,}\")\n",
    "print(f\"False Negatives (Fake misclassified as Real): {fn:,}\")\n",
    "print(f\"True Positives (Fake correctly identified): {tp:,}\")\n",
    "print(f\"\\nError Rates:\")\n",
    "print(f\"False Positive Rate: {fp/(fp+tn):.4f} ({fp/(fp+tn)*100:.2f}%)\")\n",
    "print(f\"False Negative Rate: {fn/(fn+tp):.4f} ({fn/(fn+tp)*100:.2f}%)\")"
   ]
  },
  {
   "cell_type": "code",
   "execution_count": 41,
   "id": "6cb5913b",
   "metadata": {
    "execution": {
     "iopub.execute_input": "2025-06-04T13:30:49.911495Z",
     "iopub.status.busy": "2025-06-04T13:30:49.911184Z",
     "iopub.status.idle": "2025-06-04T13:30:49.926616Z",
     "shell.execute_reply": "2025-06-04T13:30:49.926060Z",
     "shell.execute_reply.started": "2025-06-04T13:30:49.911441Z"
    }
   },
   "outputs": [
    {
     "name": "stdout",
     "output_type": "stream",
     "text": [
      "\n",
      "Detailed Classification Report:\n",
      "              precision    recall  f1-score   support\n",
      "\n",
      "   Real News     0.9956    0.9971    0.9964      5254\n",
      "   Fake News     0.9973    0.9958    0.9965      5477\n",
      "\n",
      "    accuracy                         0.9965     10731\n",
      "   macro avg     0.9964    0.9965    0.9965     10731\n",
      "weighted avg     0.9965    0.9965    0.9965     10731\n",
      "\n"
     ]
    }
   ],
   "source": [
    "# Generate comprehensive classification report\n",
    "print(\"\\nDetailed Classification Report:\")\n",
    "print(classification_report(y_true, y_pred, \n",
    "                          target_names=['Real News', 'Fake News'],\n",
    "                          digits=4))"
   ]
  },
  {
   "cell_type": "markdown",
   "id": "5794c247",
   "metadata": {},
   "source": [
    "## 9. Model Persistence and Documentation\n",
    "\n",
    "To ensure our trained DistilBERT model can be used for further analysis or production deployment, we'll save both the model weights and all necessary preprocessing components."
   ]
  },
  {
   "cell_type": "code",
   "execution_count": 42,
   "id": "e73917e5",
   "metadata": {
    "execution": {
     "iopub.execute_input": "2025-06-04T13:30:49.927634Z",
     "iopub.status.busy": "2025-06-04T13:30:49.927278Z",
     "iopub.status.idle": "2025-06-04T13:30:50.607805Z",
     "shell.execute_reply": "2025-06-04T13:30:50.607049Z",
     "shell.execute_reply.started": "2025-06-04T13:30:49.927612Z"
    }
   },
   "outputs": [
    {
     "name": "stdout",
     "output_type": "stream",
     "text": [
      "DistilBERT model saved to ./distilbert_welfake_unified_model\n",
      "Tokenizer saved to ./distilbert_welfake_unified_model\n",
      "\n",
      "Saved files: ['special_tokens_map.json', 'tokenizer.json', 'training_args.bin', 'vocab.txt', 'tokenizer_config.json', 'model.safetensors', 'config.json']\n"
     ]
    }
   ],
   "source": [
    "# Define save path for the trained model and associated files\n",
    "model_save_path = \"./distilbert_welfake_unified_model\"\n",
    "\n",
    "# Save the complete trained model\n",
    "trainer.save_model(model_save_path)\n",
    "print(f\"DistilBERT model saved to {model_save_path}\")\n",
    "\n",
    "# Save the tokenizer (essential for preprocessing new articles)\n",
    "tokenizer.save_pretrained(model_save_path)\n",
    "print(f\"Tokenizer saved to {model_save_path}\")\n",
    "\n",
    "# Verify saved files\n",
    "import os\n",
    "saved_files = os.listdir(model_save_path)\n",
    "print(f\"\\nSaved files: {saved_files}\")"
   ]
  },
  {
   "cell_type": "code",
   "execution_count": 43,
   "id": "542bd42d",
   "metadata": {
    "execution": {
     "iopub.execute_input": "2025-06-04T13:30:50.608911Z",
     "iopub.status.busy": "2025-06-04T13:30:50.608610Z",
     "iopub.status.idle": "2025-06-04T13:30:50.616502Z",
     "shell.execute_reply": "2025-06-04T13:30:50.615678Z",
     "shell.execute_reply.started": "2025-06-04T13:30:50.608879Z"
    }
   },
   "outputs": [
    {
     "name": "stdout",
     "output_type": "stream",
     "text": [
      "\n",
      "Model Documentation Summary:\n",
      "model_architecture: DistilBERT\n",
      "base_model: distilbert-base-uncased\n",
      "task: Binary Classification (Real vs Fake News)\n",
      "parameters: 66955010\n",
      "model_size_mb: 255.41\n",
      "training_time_minutes: 75.49\n",
      "test_accuracy: 0.9965\n",
      "test_f1: 0.9965\n",
      "test_precision: 0.9965\n",
      "test_recall: 0.9965\n",
      "inference_speed_ms: 9.20\n",
      "training_epochs: 3\n",
      "learning_rate: 0.00\n",
      "batch_size: 16\n",
      "max_sequence_length: 512\n",
      "dataset_splits:\n",
      "  train_samples: 50,075\n",
      "  validation_samples: 10,731\n",
      "  test_samples: 10,731\n"
     ]
    }
   ],
   "source": [
    "# Create comprehensive model documentation\n",
    "model_documentation = {\n",
    "    'model_architecture': 'DistilBERT',\n",
    "    'base_model': 'distilbert-base-uncased',\n",
    "    'task': 'Binary Classification (Real vs Fake News)',\n",
    "    'parameters': num_params,\n",
    "    'model_size_mb': param_size_mb,\n",
    "    'training_time_minutes': training_duration / 60,\n",
    "    'test_accuracy': test_results['eval_accuracy'],\n",
    "    'test_f1': test_results['eval_f1'],\n",
    "    'test_precision': test_results['eval_precision'],\n",
    "    'test_recall': test_results['eval_recall'],\n",
    "    'inference_speed_ms': ms_per_sample,\n",
    "    'training_epochs': training_args.num_train_epochs,\n",
    "    'learning_rate': training_args.learning_rate,\n",
    "    'batch_size': training_args.per_device_train_batch_size,\n",
    "    'max_sequence_length': 512,\n",
    "    'dataset_splits': {\n",
    "        'train_samples': len(train_df),\n",
    "        'validation_samples': len(val_df),\n",
    "        'test_samples': len(test_df)\n",
    "    }\n",
    "}\n",
    "\n",
    "print(\"\\nModel Documentation Summary:\")\n",
    "for key, value in model_documentation.items():\n",
    "    if isinstance(value, float):\n",
    "        if 'accuracy' in key or 'f1' in key or 'precision' in key or 'recall' in key:\n",
    "            print(f\"{key}: {value:.4f}\")\n",
    "        else:\n",
    "            print(f\"{key}: {value:.2f}\")\n",
    "    elif isinstance(value, dict):\n",
    "        print(f\"{key}:\")\n",
    "        for subkey, subvalue in value.items():\n",
    "            print(f\"  {subkey}: {subvalue:,}\")\n",
    "    else:\n",
    "        print(f\"{key}: {value}\")"
   ]
  },
  {
   "cell_type": "markdown",
   "id": "9c7b04f2",
   "metadata": {},
   "source": [
    "## 10. Performance Analysis and Model Insights\n",
    "\n",
    "Let's analyze DistilBERT's performance characteristics and understand what these results reveal about the model's capabilities for fake news detection."
   ]
  },
  {
   "cell_type": "code",
   "execution_count": 44,
   "id": "866922f3",
   "metadata": {
    "execution": {
     "iopub.execute_input": "2025-06-04T13:30:50.617712Z",
     "iopub.status.busy": "2025-06-04T13:30:50.617424Z",
     "iopub.status.idle": "2025-06-04T13:30:50.636795Z",
     "shell.execute_reply": "2025-06-04T13:30:50.635999Z",
     "shell.execute_reply.started": "2025-06-04T13:30:50.617687Z"
    }
   },
   "outputs": [
    {
     "name": "stdout",
     "output_type": "stream",
     "text": [
      "DistilBERT Efficiency Analysis:\n",
      "Parameter reduction vs BERT-base: 39.1%\n",
      "Theoretical inference speedup: 2.0x\n",
      "Actual model size: 255.4 MB\n",
      "Inference speed: 9.2 ms per article\n"
     ]
    }
   ],
   "source": [
    "# Compare DistilBERT's efficiency against theoretical baselines\n",
    "bert_base_params = 110_000_000\n",
    "distilbert_reduction = (1 - num_params / bert_base_params) * 100\n",
    "theoretical_speedup = 12 / 6  # Layer reduction suggests 2x speedup\n",
    "\n",
    "print(\"DistilBERT Efficiency Analysis:\")\n",
    "print(f\"Parameter reduction vs BERT-base: {distilbert_reduction:.1f}%\")\n",
    "print(f\"Theoretical inference speedup: {theoretical_speedup:.1f}x\")\n",
    "print(f\"Actual model size: {param_size_mb:.1f} MB\")\n",
    "print(f\"Inference speed: {ms_per_sample:.1f} ms per article\")"
   ]
  },
  {
   "cell_type": "code",
   "execution_count": 45,
   "id": "5e207882",
   "metadata": {
    "execution": {
     "iopub.execute_input": "2025-06-04T13:30:50.638554Z",
     "iopub.status.busy": "2025-06-04T13:30:50.638383Z",
     "iopub.status.idle": "2025-06-04T13:30:50.653440Z",
     "shell.execute_reply": "2025-06-04T13:30:50.652706Z",
     "shell.execute_reply.started": "2025-06-04T13:30:50.638541Z"
    }
   },
   "outputs": [
    {
     "name": "stdout",
     "output_type": "stream",
     "text": [
      "\n",
      "Model Efficiency Metrics:\n",
      "Parameters per accuracy point: 671,929\n",
      "Efficiency score (accuracy/size): 0.390\n",
      "Training efficiency: 11 samples/second\n"
     ]
    }
   ],
   "source": [
    "# Analyze performance relative to model complexity\n",
    "params_per_accuracy_point = num_params / (test_results['eval_accuracy'] * 100)\n",
    "efficiency_score = test_results['eval_accuracy'] / (param_size_mb / 100)\n",
    "\n",
    "print(f\"\\nModel Efficiency Metrics:\")\n",
    "print(f\"Parameters per accuracy point: {params_per_accuracy_point:,.0f}\")\n",
    "print(f\"Efficiency score (accuracy/size): {efficiency_score:.3f}\")\n",
    "print(f\"Training efficiency: {len(train_df)/training_duration:.0f} samples/second\")"
   ]
  },
  {
   "cell_type": "markdown",
   "id": "6479fd9f",
   "metadata": {},
   "source": [
    "These metrics help us understand DistilBERT's value proposition. The efficiency score relates performance to model size, providing a single metric for comparing different architectures. Higher scores indicate better performance per unit of computational cost."
   ]
  },
  {
   "cell_type": "code",
   "execution_count": 46,
   "id": "2c8c7546",
   "metadata": {
    "execution": {
     "iopub.execute_input": "2025-06-04T13:30:50.654336Z",
     "iopub.status.busy": "2025-06-04T13:30:50.654108Z",
     "iopub.status.idle": "2025-06-04T13:30:51.168585Z",
     "shell.execute_reply": "2025-06-04T13:30:51.167870Z",
     "shell.execute_reply.started": "2025-06-04T13:30:50.654306Z"
    }
   },
   "outputs": [
    {
     "data": {
      "image/png": "[encoded data removed]",
      "text/plain": [
       "<Figure size 1200x500 with 2 Axes>"
      ]
     },
     "metadata": {},
     "output_type": "display_data"
    },
    {
     "name": "stdout",
     "output_type": "stream",
     "text": [
      "Average confidence for correct predictions: 1.000\n",
      "Average confidence for incorrect predictions: 0.987\n"
     ]
    }
   ],
   "source": [
    "# Examine prediction confidence patterns\n",
    "prediction_probs = torch.softmax(torch.tensor(predictions.predictions), dim=1)\n",
    "max_probs = torch.max(prediction_probs, dim=1)[0]\n",
    "confidence_distribution = max_probs.numpy()\n",
    "\n",
    "plt.figure(figsize=(12, 5))\n",
    "\n",
    "plt.subplot(1, 2, 1)\n",
    "plt.hist(confidence_distribution, bins=30, alpha=0.7, color='skyblue', edgecolor='black')\n",
    "plt.title('Distribution of Prediction Confidence')\n",
    "plt.xlabel('Maximum Probability')\n",
    "plt.ylabel('Number of Predictions')\n",
    "plt.grid(True, alpha=0.3)\n",
    "\n",
    "plt.subplot(1, 2, 2)\n",
    "correct_predictions = (y_pred == y_true)\n",
    "correct_confidence = confidence_distribution[correct_predictions]\n",
    "incorrect_confidence = confidence_distribution[~correct_predictions]\n",
    "\n",
    "plt.hist(correct_confidence, bins=20, alpha=0.7, label='Correct', color='green')\n",
    "plt.hist(incorrect_confidence, bins=20, alpha=0.7, label='Incorrect', color='red')\n",
    "plt.title('Confidence by Prediction Accuracy')\n",
    "plt.xlabel('Maximum Probability')\n",
    "plt.ylabel('Number of Predictions')\n",
    "plt.legend()\n",
    "plt.grid(True, alpha=0.3)\n",
    "\n",
    "plt.tight_layout()\n",
    "plt.show()\n",
    "\n",
    "print(f\"Average confidence for correct predictions: {np.mean(correct_confidence):.3f}\")\n",
    "print(f\"Average confidence for incorrect predictions: {np.mean(incorrect_confidence):.3f}\")"
   ]
  },
  {
   "cell_type": "markdown",
   "id": "e71a20df",
   "metadata": {},
   "source": [
    "This confidence analysis reveals important insights about model reliability. Well-calibrated models typically show higher confidence for correct predictions and lower confidence when making errors. This information is valuable for production systems that might need to flag uncertain predictions for human review.\n",
    "\n",
    "## 11. Error Analysis and Model Understanding\n",
    "\n",
    "Understanding where and why DistilBERT makes mistakes provides crucial insights for model improvement and helps identify the types of fake news that remain challenging to detect automatically."
   ]
  },
  {
   "cell_type": "code",
   "execution_count": 47,
   "id": "6344ad4b",
   "metadata": {
    "execution": {
     "iopub.execute_input": "2025-06-04T13:30:51.169795Z",
     "iopub.status.busy": "2025-06-04T13:30:51.169492Z",
     "iopub.status.idle": "2025-06-04T13:30:51.179994Z",
     "shell.execute_reply": "2025-06-04T13:30:51.179159Z",
     "shell.execute_reply.started": "2025-06-04T13:30:51.169769Z"
    }
   },
   "outputs": [
    {
     "name": "stdout",
     "output_type": "stream",
     "text": [
      "Analyzing 38 misclassified examples\n",
      "Overall error rate: 0.35%\n",
      "False positives (real → fake): 15\n",
      "False negatives (fake → real): 23\n",
      "\n",
      "Sample misclassified examples:\n",
      "\n",
      "Example 1:\n",
      "Text snippet: Exchange of equipment, arms & experience: Large-scale joint NATO drills held in Romania 4   Debate is raging in the UK over the work of Sharia Councils often used by Muslims to settle family disputes ...\n",
      "True label: Fake\n",
      "Predicted: Real\n",
      "Confidence: 1.000\n",
      "--------------------------------------------------------------------------------\n",
      "\n",
      "Example 2:\n",
      "Text snippet: Tapper Pushes 'Conflict Of Interest' Narrative Fulfilling a commitment he made last week to pursue baseless innuendo of conflicts of interest between Presiden  ...\n",
      "True label: Fake\n",
      "Predicted: Real\n",
      "Confidence: 1.000\n",
      "--------------------------------------------------------------------------------\n",
      "\n",
      "Example 3:\n",
      "Text snippet: Aziz Ansari Why Trump Makes Me Scared for My Family\n",
      " DONT go anywhere near a mosque, I told my mother. Do all your prayer at home. O.K.?\n",
      "\n",
      "Were not going, she replied.\n",
      "\n",
      "I am the son of Muslim immi...\n",
      "True label: Real\n",
      "Predicted: Fake\n",
      "Confidence: 1.000\n",
      "--------------------------------------------------------------------------------\n",
      "\n",
      "Example 4:\n",
      "Text snippet: Defense Secretary Carter used personal email in first months on the job Defense Secretary Ash Carter used his personal email account to conduct some of his professional correspondence during his first...\n",
      "True label: Real\n",
      "Predicted: Fake\n",
      "Confidence: 1.000\n",
      "--------------------------------------------------------------------------------\n",
      "\n",
      "Example 5:\n",
      "Text snippet: Barney Frank Powerfully Disproves Ben Carson's Comments On Homosexuality Barney Frank became a spokesman for lesbian, gay, bisexual and transgender equality as the country's first congressman to volun...\n",
      "True label: Real\n",
      "Predicted: Fake\n",
      "Confidence: 0.950\n",
      "--------------------------------------------------------------------------------\n"
     ]
    }
   ],
   "source": [
    "def analyze_prediction_errors(texts, y_true, y_pred, n_examples=5):\n",
    "    \"\"\"\n",
    "    Examine specific examples where DistilBERT made incorrect predictions.\n",
    "    \n",
    "    This analysis helps identify patterns in model failures and provides insights\n",
    "    into the types of content that remain challenging for automated detection.\n",
    "    Understanding these failure modes is crucial for improving model robustness\n",
    "    and setting appropriate expectations for production deployment.\n",
    "    \"\"\"\n",
    "    error_indices = np.where(y_true != y_pred)[0]\n",
    "    \n",
    "    if len(error_indices) == 0:\n",
    "        print(\"Perfect classification achieved - no errors to analyze!\")\n",
    "        return\n",
    "    \n",
    "    error_rate = len(error_indices) / len(y_true)\n",
    "    print(f\"Analyzing {len(error_indices)} misclassified examples\")\n",
    "    print(f\"Overall error rate: {error_rate:.2%}\")\n",
    "    \n",
    "    # Separate false positives and false negatives\n",
    "    false_positives = error_indices[(y_true[error_indices] == 0) & (y_pred[error_indices] == 1)]\n",
    "    false_negatives = error_indices[(y_true[error_indices] == 1) & (y_pred[error_indices] == 0)]\n",
    "    \n",
    "    print(f\"False positives (real → fake): {len(false_positives)}\")\n",
    "    print(f\"False negatives (fake → real): {len(false_negatives)}\")\n",
    "    \n",
    "    # Sample errors for detailed examination\n",
    "    print(f\"\\nSample misclassified examples:\")\n",
    "    sample_errors = np.random.choice(error_indices, \n",
    "                                   size=min(n_examples, len(error_indices)), \n",
    "                                   replace=False)\n",
    "    \n",
    "    for i, idx in enumerate(sample_errors):\n",
    "        true_label = \"Real\" if y_true[idx] == 0 else \"Fake\"\n",
    "        pred_label = \"Real\" if y_pred[idx] == 0 else \"Fake\"\n",
    "        confidence = confidence_distribution[idx]\n",
    "        \n",
    "        print(f\"\\nExample {i+1}:\")\n",
    "        print(f\"Text snippet: {test_df.iloc[idx]['combined_text'][:200]}...\")\n",
    "        print(f\"True label: {true_label}\")\n",
    "        print(f\"Predicted: {pred_label}\")\n",
    "        print(f\"Confidence: {confidence:.3f}\")\n",
    "        print(\"-\" * 80)\n",
    "\n",
    "# Perform detailed error analysis\n",
    "analyze_prediction_errors(test_df['combined_text'], y_true, y_pred)"
   ]
  },
  {
   "cell_type": "code",
   "execution_count": 48,
   "id": "c15f7193",
   "metadata": {
    "execution": {
     "iopub.execute_input": "2025-06-04T13:30:51.181564Z",
     "iopub.status.busy": "2025-06-04T13:30:51.180833Z",
     "iopub.status.idle": "2025-06-04T13:30:51.807186Z",
     "shell.execute_reply": "2025-06-04T13:30:51.806380Z",
     "shell.execute_reply.started": "2025-06-04T13:30:51.181540Z"
    }
   },
   "outputs": [
    {
     "data": {
      "image/png": "[encoded data removed]",
      "text/plain": [
       "<Figure size 1200x500 with 2 Axes>"
      ]
     },
     "metadata": {},
     "output_type": "display_data"
    },
    {
     "data": {
      "image/png": "[encoded data removed]",
      "text/plain": [
       "<Figure size 1000x600 with 1 Axes>"
      ]
     },
     "metadata": {},
     "output_type": "display_data"
    },
    {
     "name": "stdout",
     "output_type": "stream",
     "text": [
      "Average length of correctly classified articles: 3345 characters\n",
      "Average length of misclassified articles: 3389 characters\n"
     ]
    }
   ],
   "source": [
    "# Analyze error patterns by article characteristics\n",
    "test_df_with_predictions = test_df.copy()\n",
    "test_df_with_predictions['predicted'] = y_pred\n",
    "test_df_with_predictions['correct'] = (y_true == y_pred)\n",
    "test_df_with_predictions['confidence'] = confidence_distribution\n",
    "\n",
    "# Examine text length patterns in errors\n",
    "test_df_with_predictions['text_length'] = test_df_with_predictions['combined_text'].str.len()\n",
    "\n",
    "plt.figure(figsize=(12, 5))\n",
    "\n",
    "plt.subplot(1, 2, 1)\n",
    "correct_lengths = test_df_with_predictions[test_df_with_predictions['correct']]['text_length']\n",
    "incorrect_lengths = test_df_with_predictions[~test_df_with_predictions['correct']]['text_length']\n",
    "\n",
    "plt.hist(correct_lengths, bins=30, alpha=0.7, label='Correct', color='green', density=True)\n",
    "plt.hist(incorrect_lengths, bins=30, alpha=0.7, label='Incorrect', color='red', density=True)\n",
    "plt.title('Article Length Distribution by Prediction Accuracy')\n",
    "plt.xlabel('Article Length (characters)')\n",
    "plt.ylabel('Density')\n",
    "plt.legend()\n",
    "plt.grid(True, alpha=0.3)\n",
    "\n",
    "plt.subplot(1, 2, 2)\n",
    "error_by_class = test_df_with_predictions.groupby(['label', 'correct']).size().unstack(fill_value=0)\n",
    "error_by_class.plot(kind='bar', color=['red', 'green'], alpha=0.7)\n",
    "plt.title('Prediction Accuracy by True Class')\n",
    "plt.xlabel('True Label (0=Real, 1=Fake)')\n",
    "plt.ylabel('Number of Articles')\n",
    "plt.legend(['Incorrect', 'Correct'])\n",
    "plt.xticks(rotation=0)\n",
    "plt.grid(True, alpha=0.3)\n",
    "\n",
    "plt.tight_layout()\n",
    "plt.show()\n",
    "\n",
    "print(f\"Average length of correctly classified articles: {np.mean(correct_lengths):.0f} characters\")\n",
    "print(f\"Average length of misclassified articles: {np.mean(incorrect_lengths):.0f} characters\")"
   ]
  },
  {
   "cell_type": "markdown",
   "id": "844a552d",
   "metadata": {},
   "source": [
    "## 12. Conclusion and Model Comparison Readiness\n",
    "\n",
    "Our DistilBERT implementation demonstrates the effectiveness of knowledge distillation for creating efficient yet capable models for fake news detection. By using standardized data splits, we've ensured that our results can be directly compared with other models in our evaluation study.\n",
    "\n",
    "### Key Achievements and Insights\n",
    "\n",
    "**Performance Efficiency Balance**: DistilBERT achieved strong performance while using significantly fewer parameters than BERT-base, demonstrating the power of knowledge distillation. With approximately 66 million parameters, it offers a middle ground between the aggressive compression of TinyBERT and the full complexity of BERT.\n",
    "\n",
    "**Training Efficiency**: The model converged quickly due to its pre-distilled knowledge, requiring fewer epochs than training from scratch while achieving competitive performance. This efficiency makes DistilBERT particularly attractive for scenarios where training time and computational resources are constrained.\n",
    "\n",
    "**Standardized Evaluation**: By using identical train/validation/test splits as other models in our comparison study, we ensure that performance differences reflect genuine architectural advantages rather than data distribution variations. This methodological rigor enables confident conclusions about model trade-offs.\n",
    "\n",
    "### Deployment Considerations\n",
    "\n",
    "DistilBERT's characteristics make it well-suited for production environments where both performance and efficiency matter. With approximately 255 MB model size and inference speeds measured in tens of milliseconds, it can handle real-time content moderation tasks while maintaining high accuracy standards.\n",
    "\n",
    "The model's confidence calibration also provides valuable information for production systems. High-confidence predictions can be automatically acted upon, while low-confidence cases can be flagged for human review, creating a hybrid system that leverages both automated efficiency and human judgment.\n",
    "\n",
    "### Scientific Contribution to Model Comparison\n",
    "\n",
    "This implementation establishes DistilBERT as a strong baseline in the efficiency-performance spectrum. When compared with TinyBERT's more aggressive compression and traditional machine learning approaches, DistilBERT helps map the frontier of what's possible with different levels of model complexity.\n",
    "\n",
    "The standardized evaluation framework we've used here provides the foundation for drawing meaningful conclusions about when the additional complexity of transformer models is justified versus simpler approaches, and how different compression strategies compare in practical applications.\n",
    "\n",
    "### Future Research Directions\n",
    "\n",
    "While this single-run approach provides solid baseline performance, future work could explore domain-specific fine-tuning, ensemble methods combining DistilBERT with other models, or continual learning approaches to handle evolving misinformation patterns. The systematic evaluation framework established here provides the methodological foundation for such investigations."
   ]
  }
 ],
 "metadata": {
  "jupytext": {
   "cell_metadata_filter": "-all",
   "main_language": "python",
   "notebook_metadata_filter": "-all"
  },
  "kaggle": {
   "accelerator": "nvidiaTeslaT4",
   "dataSources": [
    {
     "datasetId": 7588305,
     "sourceId": 12056825,
     "sourceType": "datasetVersion"
    }
   ],
   "dockerImageVersionId": 31041,
   "isGpuEnabled": true,
   "isInternetEnabled": true,
   "language": "python",
   "sourceType": "notebook"
  },
  "kernelspec": {
   "display_name": "Python 3 (ipykernel)",
   "language": "python",
   "name": "python3"
  },
  "language_info": {
   "codemirror_mode": {
    "name": "ipython",
    "version": 3
   },
   "file_extension": ".py",
   "mimetype": "text/x-python",
   "name": "python",
   "nbconvert_exporter": "python",
   "pygments_lexer": "ipython3",
   "version": "3.12.1"
  }
 },
 "nbformat": 4,
 "nbformat_minor": 5
}
