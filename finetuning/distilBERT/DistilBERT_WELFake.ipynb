{
 "cells": [
  {
   "cell_type": "markdown",
   "id": "458e9b42",
   "metadata": {},
   "source": [
    "# DistilBERT for Fake News Detection\n",
    "\n",
    "## 1. Introduction\n",
    "\n",
    "This notebook demonstrates how to finetune DistilBERT for detecting fake news using the WELFake dataset. DistilBERT is an efficient and lightweight transformer model that uses knowledge distillation to achieve performance comparable to larger models while requiring significantly fewer computational resources.\n",
    "\n",
    "DistilBERT has approximately 66 million parameters, making it about 40% smaller than BERT-base, while maintaining 97% of BERT's performance on natural language understanding tasks. This efficiency makes it an excellent candidate for fake news detection applications that may need to run in environments with limited resources.\n",
    "\n",
    "### Why DistilBERT for Fake News Detection?\n",
    "\n",
    "Transformer models like BERT have revolutionized NLP tasks with their ability to capture contextual relationships in text. However, their size and computational requirements can be prohibitive for many real-world applications. DistilBERT addresses this limitation through knowledge distillation, where a smaller student model (DistilBERT) learns to mimic a larger teacher model (BERT).\n",
    "\n",
    "For fake news detection, we need both accuracy and efficiency:\n",
    "- Accuracy is critical to avoid falsely flagging legitimate news\n",
    "- Efficiency enables deployment in real-time content moderation systems\n",
    "- Smaller model size allows for deployment in environments with resource constraints\n",
    "\n",
    "## 2. Environment Setup\n",
    "\n",
    "First, let's import the necessary libraries and set up our environment. We'll need PyTorch for deep learning, Hugging Face Transformers for the model, and various utilities for data processing and evaluation."
   ]
  },
  {
   "cell_type": "code",
   "execution_count": 1,
   "id": "57ffb5cf",
   "metadata": {
    "execution": {
     "iopub.execute_input": "2025-05-18T17:45:06.629367Z",
     "iopub.status.busy": "2025-05-18T17:45:06.628683Z",
     "iopub.status.idle": "2025-05-18T17:45:07.679628Z",
     "shell.execute_reply": "2025-05-18T17:45:07.678946Z",
     "shell.execute_reply.started": "2025-05-18T17:45:06.629330Z"
    }
   },
   "outputs": [],
   "source": [
    "# Import basic utilities\n",
    "import pandas as pd\n",
    "import numpy as np\n",
    "import matplotlib.pyplot as plt\n",
    "import seaborn as sns"
   ]
  },
  {
   "cell_type": "markdown",
   "id": "4a53a401",
   "metadata": {},
   "source": [
    "### PyTorch and System Libraries\n",
    "We import PyTorch for our deep learning framework and set up system utilities for file management and timing."
   ]
  },
  {
   "cell_type": "code",
   "execution_count": 2,
   "id": "3ef3d562",
   "metadata": {
    "execution": {
     "iopub.execute_input": "2025-05-18T17:45:07.681318Z",
     "iopub.status.busy": "2025-05-18T17:45:07.680930Z",
     "iopub.status.idle": "2025-05-18T17:45:12.239759Z",
     "shell.execute_reply": "2025-05-18T17:45:12.239200Z",
     "shell.execute_reply.started": "2025-05-18T17:45:07.681292Z"
    }
   },
   "outputs": [],
   "source": [
    "# Import PyTorch\n",
    "import torch\n",
    "import os\n",
    "import time\n",
    "import random"
   ]
  },
  {
   "cell_type": "markdown",
   "id": "c0675b9b",
   "metadata": {},
   "source": [
    "### Hugging Face Libraries\n",
    "The Transformers library provides pre-trained models and utilities for fine-tuning, while the Datasets library helps with efficient data handling."
   ]
  },
  {
   "cell_type": "code",
   "execution_count": 3,
   "id": "65dc6691",
   "metadata": {
    "execution": {
     "iopub.execute_input": "2025-05-18T17:45:12.240832Z",
     "iopub.status.busy": "2025-05-18T17:45:12.240423Z",
     "iopub.status.idle": "2025-05-18T17:45:36.414764Z",
     "shell.execute_reply": "2025-05-18T17:45:36.413911Z",
     "shell.execute_reply.started": "2025-05-18T17:45:12.240813Z"
    }
   },
   "outputs": [
    {
     "name": "stderr",
     "output_type": "stream",
     "text": [
      "2025-05-18 17:45:21.684638: E external/local_xla/xla/stream_executor/cuda/cuda_fft.cc:477] Unable to register cuFFT factory: Attempting to register factory for plugin cuFFT when one has already been registered\n",
      "WARNING: All log messages before absl::InitializeLog() is called are written to STDERR\n",
      "E0000 00:00:1747590321.917080      35 cuda_dnn.cc:8310] Unable to register cuDNN factory: Attempting to register factory for plugin cuDNN when one has already been registered\n",
      "E0000 00:00:1747590321.984477      35 cuda_blas.cc:1418] Unable to register cuBLAS factory: Attempting to register factory for plugin cuBLAS when one has already been registered\n"
     ]
    }
   ],
   "source": [
    "# Import Hugging Face libraries\n",
    "from transformers import AutoTokenizer, AutoModelForSequenceClassification\n",
    "from transformers import Trainer, TrainingArguments\n",
    "from transformers import EarlyStoppingCallback\n",
    "from datasets import Dataset"
   ]
  },
  {
   "cell_type": "markdown",
   "id": "f19eaaf7",
   "metadata": {},
   "source": [
    "### Evaluation Libraries\n",
    "These libraries will help us measure our model's performance with standard metrics."
   ]
  },
  {
   "cell_type": "code",
   "execution_count": 4,
   "id": "338fd5c2",
   "metadata": {
    "execution": {
     "iopub.execute_input": "2025-05-18T17:45:36.416372Z",
     "iopub.status.busy": "2025-05-18T17:45:36.415744Z",
     "iopub.status.idle": "2025-05-18T17:45:36.420787Z",
     "shell.execute_reply": "2025-05-18T17:45:36.420096Z",
     "shell.execute_reply.started": "2025-05-18T17:45:36.416347Z"
    }
   },
   "outputs": [],
   "source": [
    "# Import evaluation libraries\n",
    "from sklearn.metrics import accuracy_score, precision_recall_fscore_support\n",
    "from sklearn.metrics import classification_report, confusion_matrix"
   ]
  },
  {
   "cell_type": "markdown",
   "id": "b1d4faab",
   "metadata": {},
   "source": [
    "### Utilities for Clean Output\n",
    "We'll suppress warnings to keep our notebook clean and focused on the results."
   ]
  },
  {
   "cell_type": "code",
   "execution_count": 5,
   "id": "14683d63",
   "metadata": {
    "execution": {
     "iopub.execute_input": "2025-05-18T17:45:36.422987Z",
     "iopub.status.busy": "2025-05-18T17:45:36.422744Z",
     "iopub.status.idle": "2025-05-18T17:45:36.451465Z",
     "shell.execute_reply": "2025-05-18T17:45:36.450470Z",
     "shell.execute_reply.started": "2025-05-18T17:45:36.422964Z"
    }
   },
   "outputs": [],
   "source": [
    "# Suppress warnings\n",
    "import warnings\n",
    "warnings.filterwarnings('ignore')"
   ]
  },
  {
   "cell_type": "markdown",
   "id": "1d4bb9ae",
   "metadata": {},
   "source": [
    "### Setting Up Reproducibility\n",
    "Setting a random seed ensures our results are reproducible across different runs."
   ]
  },
  {
   "cell_type": "code",
   "execution_count": 6,
   "id": "c843d7a9",
   "metadata": {
    "execution": {
     "iopub.execute_input": "2025-05-18T17:45:36.452304Z",
     "iopub.status.busy": "2025-05-18T17:45:36.452080Z",
     "iopub.status.idle": "2025-05-18T17:45:36.465797Z",
     "shell.execute_reply": "2025-05-18T17:45:36.465070Z",
     "shell.execute_reply.started": "2025-05-18T17:45:36.452285Z"
    }
   },
   "outputs": [],
   "source": [
    "# Set seeds for reproducibility\n",
    "def set_seed(seed_value=42):\n",
    "    \"\"\"\n",
    "    Set seeds for all random number generators to ensure reproducibility.\n",
    "    This affects random, numpy, PyTorch CPU and GPU operations.\n",
    "    \"\"\"\n",
    "    random.seed(seed_value)\n",
    "    np.random.seed(seed_value)\n",
    "    torch.manual_seed(seed_value)\n",
    "    torch.cuda.manual_seed_all(seed_value)\n",
    "    os.environ['PYTHONHASHSEED'] = str(seed_value)\n",
    "    torch.backends.cudnn.deterministic = True"
   ]
  },
  {
   "cell_type": "code",
   "execution_count": 7,
   "id": "b88356c4",
   "metadata": {
    "execution": {
     "iopub.execute_input": "2025-05-18T17:45:36.466548Z",
     "iopub.status.busy": "2025-05-18T17:45:36.466319Z",
     "iopub.status.idle": "2025-05-18T17:45:36.487960Z",
     "shell.execute_reply": "2025-05-18T17:45:36.487188Z",
     "shell.execute_reply.started": "2025-05-18T17:45:36.466527Z"
    }
   },
   "outputs": [],
   "source": [
    "# Apply seed\n",
    "set_seed()"
   ]
  },
  {
   "cell_type": "markdown",
   "id": "13dc2810",
   "metadata": {},
   "source": [
    "### Checking Hardware Availability\n",
    "We'll check if a GPU is available to accelerate training."
   ]
  },
  {
   "cell_type": "code",
   "execution_count": 8,
   "id": "bdb915c3",
   "metadata": {
    "execution": {
     "iopub.execute_input": "2025-05-18T17:45:36.489904Z",
     "iopub.status.busy": "2025-05-18T17:45:36.488735Z",
     "iopub.status.idle": "2025-05-18T17:45:36.500382Z",
     "shell.execute_reply": "2025-05-18T17:45:36.499629Z",
     "shell.execute_reply.started": "2025-05-18T17:45:36.489877Z"
    }
   },
   "outputs": [
    {
     "name": "stdout",
     "output_type": "stream",
     "text": [
      "Using device: cuda\n"
     ]
    }
   ],
   "source": [
    "# Check if GPU is available\n",
    "device = torch.device(\"cuda\" if torch.cuda.is_available() else \"cpu\")\n",
    "print(f\"Using device: {device}\")"
   ]
  },
  {
   "cell_type": "markdown",
   "id": "f29beeee",
   "metadata": {},
   "source": [
    "## 3. Loading and Exploring the Dataset\n",
    "\n",
    "The WELFake dataset combines real and fake news articles from multiple sources. Let's load it and understand its structure and distribution before proceeding with model training."
   ]
  },
  {
   "cell_type": "code",
   "execution_count": 9,
   "id": "8b8424f6",
   "metadata": {
    "execution": {
     "iopub.execute_input": "2025-05-18T17:45:36.502016Z",
     "iopub.status.busy": "2025-05-18T17:45:36.501770Z",
     "iopub.status.idle": "2025-05-18T17:45:42.451223Z",
     "shell.execute_reply": "2025-05-18T17:45:42.450620Z",
     "shell.execute_reply.started": "2025-05-18T17:45:36.501988Z"
    }
   },
   "outputs": [],
   "source": [
    "# Load the cleaned dataset\n",
    "df = pd.read_csv('/kaggle/input/welfake-cleaned/WELFake_cleaned.csv')"
   ]
  },
  {
   "cell_type": "markdown",
   "id": "2771d83e",
   "metadata": {},
   "source": [
    "### Dataset Size and Shape\n",
    "First, let's check the overall size of the dataset to understand how much data we're working with."
   ]
  },
  {
   "cell_type": "code",
   "execution_count": 10,
   "id": "4fe0415d",
   "metadata": {
    "execution": {
     "iopub.execute_input": "2025-05-18T17:45:42.452304Z",
     "iopub.status.busy": "2025-05-18T17:45:42.452003Z",
     "iopub.status.idle": "2025-05-18T17:45:42.456701Z",
     "shell.execute_reply": "2025-05-18T17:45:42.455909Z",
     "shell.execute_reply.started": "2025-05-18T17:45:42.452267Z"
    }
   },
   "outputs": [
    {
     "name": "stdout",
     "output_type": "stream",
     "text": [
      "Dataset shape: (71537, 10)\n"
     ]
    }
   ],
   "source": [
    "# Display basic information\n",
    "print(f\"Dataset shape: {df.shape}\")"
   ]
  },
  {
   "cell_type": "markdown",
   "id": "6becdb7f",
   "metadata": {},
   "source": [
    "### Class Distribution\n",
    "It's important to check the balance between real and fake news articles to ensure our model doesn't develop bias toward the majority class."
   ]
  },
  {
   "cell_type": "code",
   "execution_count": 11,
   "id": "aa59dfec",
   "metadata": {
    "execution": {
     "iopub.execute_input": "2025-05-18T17:45:42.457613Z",
     "iopub.status.busy": "2025-05-18T17:45:42.457361Z",
     "iopub.status.idle": "2025-05-18T17:45:42.480328Z",
     "shell.execute_reply": "2025-05-18T17:45:42.479661Z",
     "shell.execute_reply.started": "2025-05-18T17:45:42.457595Z"
    }
   },
   "outputs": [
    {
     "name": "stdout",
     "output_type": "stream",
     "text": [
      "Class distribution:\n",
      "label\n",
      "1    51.04\n",
      "0    48.96\n",
      "Name: proportion, dtype: float64\n"
     ]
    }
   ],
   "source": [
    "# Check class distribution\n",
    "class_distribution = df['label'].value_counts(normalize=True).mul(100).round(2)\n",
    "print(f\"Class distribution:\")\n",
    "print(class_distribution)"
   ]
  },
  {
   "cell_type": "markdown",
   "id": "d3e21f3e",
   "metadata": {},
   "source": [
    "### Visualizing the Class Distribution\n",
    "A visual representation helps us better understand the dataset balance."
   ]
  },
  {
   "cell_type": "code",
   "execution_count": 12,
   "id": "3ea024aa",
   "metadata": {
    "execution": {
     "iopub.execute_input": "2025-05-18T17:45:42.481205Z",
     "iopub.status.busy": "2025-05-18T17:45:42.481046Z",
     "iopub.status.idle": "2025-05-18T17:45:42.726072Z",
     "shell.execute_reply": "2025-05-18T17:45:42.725406Z",
     "shell.execute_reply.started": "2025-05-18T17:45:42.481192Z"
    }
   },
   "outputs": [
    {
     "data": {
      "image/png": "[encoded data removed]",
      "text/plain": [
       "<Figure size 800x600 with 1 Axes>"
      ]
     },
     "metadata": {},
     "output_type": "display_data"
    }
   ],
   "source": [
    "# Visualize class distribution\n",
    "plt.figure(figsize=(8, 6))\n",
    "ax = sns.countplot(x='label', data=df, palette='viridis')\n",
    "plt.title('Distribution of Real vs. Fake News')\n",
    "plt.xlabel('Label (0: Real, 1: Fake)')\n",
    "plt.ylabel('Count')\n",
    "\n",
    "# Add count labels on top of the bars\n",
    "for p in ax.patches:\n",
    "    ax.annotate(f'{p.get_height():,}', \n",
    "                (p.get_x() + p.get_width() / 2., p.get_height()), \n",
    "                ha = 'center', va = 'bottom')\n",
    "plt.tight_layout()\n",
    "plt.show()"
   ]
  },
  {
   "cell_type": "markdown",
   "id": "a95c8629",
   "metadata": {},
   "source": [
    "### Sample Data\n",
    "Examining a few samples helps us understand the content and structure of the articles."
   ]
  },
  {
   "cell_type": "code",
   "execution_count": 13,
   "id": "d8b531b1",
   "metadata": {
    "execution": {
     "iopub.execute_input": "2025-05-18T17:45:42.727059Z",
     "iopub.status.busy": "2025-05-18T17:45:42.726799Z",
     "iopub.status.idle": "2025-05-18T17:45:42.738139Z",
     "shell.execute_reply": "2025-05-18T17:45:42.737530Z",
     "shell.execute_reply.started": "2025-05-18T17:45:42.727034Z"
    }
   },
   "outputs": [
    {
     "name": "stdout",
     "output_type": "stream",
     "text": [
      "\n",
      "Sample data:\n",
      "   Unnamed: 0                                              title  \\\n",
      "0           0  LAW ENFORCEMENT ON HIGH ALERT Following Threat...   \n",
      "1           2  UNBELIEVABLE! OBAMA’S ATTORNEY GENERAL SAYS MO...   \n",
      "2           3  Bobby Jindal, raised Hindu, uses story of Chri...   \n",
      "\n",
      "                                                text  label  title_length  \\\n",
      "0  No comment is expected from Barack Obama Membe...      1           130   \n",
      "1   Now, most of the demonstrators gathered last ...      1           137   \n",
      "2  A dozen politically active pastors came here f...      0           105   \n",
      "\n",
      "   text_length  word_count  title_has_allcaps  title_exclamation  \\\n",
      "0         5049         871               True              False   \n",
      "1          216          34               True               True   \n",
      "2         8010        1321              False              False   \n",
      "\n",
      "   title_question  \n",
      "0           False  \n",
      "1           False  \n",
      "2           False  \n"
     ]
    }
   ],
   "source": [
    "# Display sample data\n",
    "print(\"\\nSample data:\")\n",
    "print(df.head(3))"
   ]
  },
  {
   "cell_type": "markdown",
   "id": "6b7668ab",
   "metadata": {},
   "source": [
    "## 4. Data Preprocessing\n",
    "\n",
    "For transformer-based models like DistilBERT, we need to carefully prepare our input data. We'll combine the article title and text to provide complete information to the model and then split our data into training, validation, and test sets.\n",
    "\n",
    "### Combining Title and Text\n",
    "For news articles, both the headline and body contain important information. By combining them, we provide the model with the complete content."
   ]
  },
  {
   "cell_type": "code",
   "execution_count": 14,
   "id": "ccd3bafe",
   "metadata": {
    "execution": {
     "iopub.execute_input": "2025-05-18T17:45:42.741597Z",
     "iopub.status.busy": "2025-05-18T17:45:42.741364Z",
     "iopub.status.idle": "2025-05-18T17:45:43.129997Z",
     "shell.execute_reply": "2025-05-18T17:45:43.129219Z",
     "shell.execute_reply.started": "2025-05-18T17:45:42.741580Z"
    }
   },
   "outputs": [],
   "source": [
    "# Combine title and text\n",
    "df['full_text'] = df['title'] + \" \" + df['text']"
   ]
  },
  {
   "cell_type": "markdown",
   "id": "42fa9a50",
   "metadata": {},
   "source": [
    "### Data Splitting\n",
    "We'll use a stratified split to maintain class balance across all datasets. We'll create three sets:\n",
    "- Training set (70% of data): Used to train the model\n",
    "- Validation set (15% of data): Used for hyperparameter tuning and early stopping\n",
    "- Test set (15% of data): Used for final evaluation"
   ]
  },
  {
   "cell_type": "code",
   "execution_count": 15,
   "id": "5c958f98",
   "metadata": {
    "execution": {
     "iopub.execute_input": "2025-05-18T17:45:43.131103Z",
     "iopub.status.busy": "2025-05-18T17:45:43.130841Z",
     "iopub.status.idle": "2025-05-18T17:45:43.147947Z",
     "shell.execute_reply": "2025-05-18T17:45:43.147422Z",
     "shell.execute_reply.started": "2025-05-18T17:45:43.131079Z"
    }
   },
   "outputs": [],
   "source": [
    "# Import train_test_split\n",
    "from sklearn.model_selection import train_test_split"
   ]
  },
  {
   "cell_type": "code",
   "execution_count": 16,
   "id": "82dfed4e",
   "metadata": {
    "execution": {
     "iopub.execute_input": "2025-05-18T17:45:43.148721Z",
     "iopub.status.busy": "2025-05-18T17:45:43.148505Z",
     "iopub.status.idle": "2025-05-18T17:45:43.196253Z",
     "shell.execute_reply": "2025-05-18T17:45:43.195394Z",
     "shell.execute_reply.started": "2025-05-18T17:45:43.148705Z"
    }
   },
   "outputs": [],
   "source": [
    "# First split: 85% train+val, 15% test\n",
    "train_val_df, test_df = train_test_split(df, test_size=0.15, stratify=df['label'], random_state=42)"
   ]
  },
  {
   "cell_type": "code",
   "execution_count": 17,
   "id": "15d91749",
   "metadata": {
    "execution": {
     "iopub.execute_input": "2025-05-18T17:45:43.197430Z",
     "iopub.status.busy": "2025-05-18T17:45:43.197199Z",
     "iopub.status.idle": "2025-05-18T17:45:43.232877Z",
     "shell.execute_reply": "2025-05-18T17:45:43.232019Z",
     "shell.execute_reply.started": "2025-05-18T17:45:43.197404Z"
    }
   },
   "outputs": [],
   "source": [
    "# Second split: 70% train, 15% val (82.35% of the remaining 85%)\n",
    "train_df, val_df = train_test_split(train_val_df, test_size=0.1765, stratify=train_val_df['label'], random_state=42)"
   ]
  },
  {
   "cell_type": "markdown",
   "id": "bedd7119",
   "metadata": {},
   "source": [
    "### Checking Dataset Sizes\n",
    "Let's verify our data splits have the expected proportions."
   ]
  },
  {
   "cell_type": "code",
   "execution_count": 18,
   "id": "d978cfe6",
   "metadata": {
    "execution": {
     "iopub.execute_input": "2025-05-18T17:45:43.234137Z",
     "iopub.status.busy": "2025-05-18T17:45:43.233749Z",
     "iopub.status.idle": "2025-05-18T17:45:43.239510Z",
     "shell.execute_reply": "2025-05-18T17:45:43.238905Z",
     "shell.execute_reply.started": "2025-05-18T17:45:43.234112Z"
    }
   },
   "outputs": [
    {
     "name": "stdout",
     "output_type": "stream",
     "text": [
      "Training set: 50073 examples\n",
      "Validation set: 10733 examples\n",
      "Test set: 10731 examples\n"
     ]
    }
   ],
   "source": [
    "# Display dataset sizes\n",
    "print(f\"Training set: {train_df.shape[0]} examples\")\n",
    "print(f\"Validation set: {val_df.shape[0]} examples\")\n",
    "print(f\"Test set: {test_df.shape[0]} examples\")"
   ]
  },
  {
   "cell_type": "markdown",
   "id": "3a7b1c76",
   "metadata": {},
   "source": [
    "### Converting to Hugging Face Datasets\n",
    "The Hugging Face Trainer API works best with their Dataset format, which optimizes memory usage and provides efficient data loading."
   ]
  },
  {
   "cell_type": "code",
   "execution_count": 19,
   "id": "bf12e281",
   "metadata": {
    "execution": {
     "iopub.execute_input": "2025-05-18T17:45:43.241035Z",
     "iopub.status.busy": "2025-05-18T17:45:43.240422Z",
     "iopub.status.idle": "2025-05-18T17:45:44.897521Z",
     "shell.execute_reply": "2025-05-18T17:45:44.896711Z",
     "shell.execute_reply.started": "2025-05-18T17:45:43.241017Z"
    }
   },
   "outputs": [],
   "source": [
    "# Convert training data to Hugging Face dataset\n",
    "train_dataset = Dataset.from_pandas(train_df[['full_text', 'label']])"
   ]
  },
  {
   "cell_type": "code",
   "execution_count": 20,
   "id": "4116e711",
   "metadata": {
    "execution": {
     "iopub.execute_input": "2025-05-18T17:45:44.898638Z",
     "iopub.status.busy": "2025-05-18T17:45:44.898422Z",
     "iopub.status.idle": "2025-05-18T17:45:45.226270Z",
     "shell.execute_reply": "2025-05-18T17:45:45.225694Z",
     "shell.execute_reply.started": "2025-05-18T17:45:44.898621Z"
    }
   },
   "outputs": [],
   "source": [
    "# Convert validation data to Hugging Face dataset\n",
    "val_dataset = Dataset.from_pandas(val_df[['full_text', 'label']])"
   ]
  },
  {
   "cell_type": "code",
   "execution_count": 21,
   "id": "8536b96e",
   "metadata": {
    "execution": {
     "iopub.execute_input": "2025-05-18T17:45:45.227074Z",
     "iopub.status.busy": "2025-05-18T17:45:45.226872Z",
     "iopub.status.idle": "2025-05-18T17:45:45.550529Z",
     "shell.execute_reply": "2025-05-18T17:45:45.549768Z",
     "shell.execute_reply.started": "2025-05-18T17:45:45.227060Z"
    }
   },
   "outputs": [],
   "source": [
    "# Convert test data to Hugging Face dataset\n",
    "test_dataset = Dataset.from_pandas(test_df[['full_text', 'label']])"
   ]
  },
  {
   "cell_type": "markdown",
   "id": "0f84d312",
   "metadata": {},
   "source": [
    "## 5. Tokenization and Data Preparation\n",
    "\n",
    "Transformer models like DistilBERT work with tokenized input, not raw text. We need to convert our text data into token IDs and prepare attention masks.\n",
    "\n",
    "### Loading the DistilBERT Tokenizer\n",
    "We'll use the pretrained tokenizer that corresponds to our DistilBERT model."
   ]
  },
  {
   "cell_type": "code",
   "execution_count": 22,
   "id": "bc4ecf3c",
   "metadata": {
    "execution": {
     "iopub.execute_input": "2025-05-18T17:45:45.552052Z",
     "iopub.status.busy": "2025-05-18T17:45:45.551468Z",
     "iopub.status.idle": "2025-05-18T17:45:47.019352Z",
     "shell.execute_reply": "2025-05-18T17:45:47.018758Z",
     "shell.execute_reply.started": "2025-05-18T17:45:45.552025Z"
    }
   },
   "outputs": [
    {
     "data": {
      "application/vnd.jupyter.widget-view+json": {
       "model_id": "80880debef334a49866885e08ed346aa",
       "version_major": 2,
       "version_minor": 0
      },
      "text/plain": [
       "tokenizer_config.json:   0%|          | 0.00/48.0 [00:00<?, ?B/s]"
      ]
     },
     "metadata": {},
     "output_type": "display_data"
    },
    {
     "data": {
      "application/vnd.jupyter.widget-view+json": {
       "model_id": "e2fd50d6f6744bed92b6b63fd16682df",
       "version_major": 2,
       "version_minor": 0
      },
      "text/plain": [
       "config.json:   0%|          | 0.00/483 [00:00<?, ?B/s]"
      ]
     },
     "metadata": {},
     "output_type": "display_data"
    },
    {
     "data": {
      "application/vnd.jupyter.widget-view+json": {
       "model_id": "c04ab53c019d491e9a72a5090a735703",
       "version_major": 2,
       "version_minor": 0
      },
      "text/plain": [
       "vocab.txt:   0%|          | 0.00/232k [00:00<?, ?B/s]"
      ]
     },
     "metadata": {},
     "output_type": "display_data"
    },
    {
     "data": {
      "application/vnd.jupyter.widget-view+json": {
       "model_id": "e3f0d247ecf64a13bfde9de314bda3ad",
       "version_major": 2,
       "version_minor": 0
      },
      "text/plain": [
       "tokenizer.json:   0%|          | 0.00/466k [00:00<?, ?B/s]"
      ]
     },
     "metadata": {},
     "output_type": "display_data"
    }
   ],
   "source": [
    "# Load DistilBERT tokenizer\n",
    "tokenizer = AutoTokenizer.from_pretrained(\"distilbert-base-uncased\")"
   ]
  },
  {
   "cell_type": "markdown",
   "id": "8fded658",
   "metadata": {},
   "source": [
    "### Defining the Tokenization Function\n",
    "This function will convert text to token IDs and handle padding and truncation to ensure all inputs have the same length."
   ]
  },
  {
   "cell_type": "code",
   "execution_count": 23,
   "id": "84469f53",
   "metadata": {
    "execution": {
     "iopub.execute_input": "2025-05-18T17:45:47.020515Z",
     "iopub.status.busy": "2025-05-18T17:45:47.020256Z",
     "iopub.status.idle": "2025-05-18T17:45:47.024792Z",
     "shell.execute_reply": "2025-05-18T17:45:47.024121Z",
     "shell.execute_reply.started": "2025-05-18T17:45:47.020492Z"
    }
   },
   "outputs": [],
   "source": [
    "# Define tokenization function\n",
    "def tokenize_function(examples):\n",
    "    \"\"\"\n",
    "    Tokenize text data for DistilBERT with appropriate padding and truncation.\n",
    "    \n",
    "    Args:\n",
    "        examples: Dictionary containing text examples\n",
    "        \n",
    "    Returns:\n",
    "        Dictionary with tokenized inputs\n",
    "    \"\"\"\n",
    "    return tokenizer(\n",
    "        examples[\"full_text\"],\n",
    "        padding=\"max_length\",\n",
    "        truncation=True,\n",
    "        max_length=512,  # DistilBERT can handle sequences up to 512 tokens\n",
    "    )"
   ]
  },
  {
   "cell_type": "markdown",
   "id": "08308905",
   "metadata": {},
   "source": [
    "### Tokenizing the Datasets\n",
    "Now we'll apply the tokenization function to all our datasets."
   ]
  },
  {
   "cell_type": "code",
   "execution_count": 24,
   "id": "34ba06d4",
   "metadata": {
    "execution": {
     "iopub.execute_input": "2025-05-18T17:45:47.025850Z",
     "iopub.status.busy": "2025-05-18T17:45:47.025578Z",
     "iopub.status.idle": "2025-05-18T17:46:42.315152Z",
     "shell.execute_reply": "2025-05-18T17:46:42.314373Z",
     "shell.execute_reply.started": "2025-05-18T17:45:47.025829Z"
    }
   },
   "outputs": [
    {
     "data": {
      "application/vnd.jupyter.widget-view+json": {
       "model_id": "41a36759dc214b12aa21a5b88cf8a291",
       "version_major": 2,
       "version_minor": 0
      },
      "text/plain": [
       "Map:   0%|          | 0/50073 [00:00<?, ? examples/s]"
      ]
     },
     "metadata": {},
     "output_type": "display_data"
    }
   ],
   "source": [
    "# Tokenize training dataset\n",
    "tokenized_train = train_dataset.map(tokenize_function, batched=True)"
   ]
  },
  {
   "cell_type": "code",
   "execution_count": 25,
   "id": "c664d6b2",
   "metadata": {
    "execution": {
     "iopub.execute_input": "2025-05-18T17:46:42.316185Z",
     "iopub.status.busy": "2025-05-18T17:46:42.315998Z",
     "iopub.status.idle": "2025-05-18T17:46:54.048484Z",
     "shell.execute_reply": "2025-05-18T17:46:54.047916Z",
     "shell.execute_reply.started": "2025-05-18T17:46:42.316170Z"
    }
   },
   "outputs": [
    {
     "data": {
      "application/vnd.jupyter.widget-view+json": {
       "model_id": "e84128ec1554448f897ef7fa71433a22",
       "version_major": 2,
       "version_minor": 0
      },
      "text/plain": [
       "Map:   0%|          | 0/10733 [00:00<?, ? examples/s]"
      ]
     },
     "metadata": {},
     "output_type": "display_data"
    }
   ],
   "source": [
    "# Tokenize validation dataset\n",
    "tokenized_val = val_dataset.map(tokenize_function, batched=True)"
   ]
  },
  {
   "cell_type": "code",
   "execution_count": 26,
   "id": "83be9a44",
   "metadata": {
    "execution": {
     "iopub.execute_input": "2025-05-18T17:46:54.049432Z",
     "iopub.status.busy": "2025-05-18T17:46:54.049210Z",
     "iopub.status.idle": "2025-05-18T17:47:05.905580Z",
     "shell.execute_reply": "2025-05-18T17:47:05.904993Z",
     "shell.execute_reply.started": "2025-05-18T17:46:54.049404Z"
    }
   },
   "outputs": [
    {
     "data": {
      "application/vnd.jupyter.widget-view+json": {
       "model_id": "0e9c180feea64a60a222b6115244acb1",
       "version_major": 2,
       "version_minor": 0
      },
      "text/plain": [
       "Map:   0%|          | 0/10731 [00:00<?, ? examples/s]"
      ]
     },
     "metadata": {},
     "output_type": "display_data"
    }
   ],
   "source": [
    "# Tokenize test dataset\n",
    "tokenized_test = test_dataset.map(tokenize_function, batched=True)"
   ]
  },
  {
   "cell_type": "markdown",
   "id": "7002cde2",
   "metadata": {},
   "source": [
    "### Setting Dataset Format for PyTorch\n",
    "We need to specify which columns to use and convert them to PyTorch tensors."
   ]
  },
  {
   "cell_type": "code",
   "execution_count": 27,
   "id": "95bc056f",
   "metadata": {
    "execution": {
     "iopub.execute_input": "2025-05-18T17:47:05.906484Z",
     "iopub.status.busy": "2025-05-18T17:47:05.906298Z",
     "iopub.status.idle": "2025-05-18T17:47:05.911099Z",
     "shell.execute_reply": "2025-05-18T17:47:05.910360Z",
     "shell.execute_reply.started": "2025-05-18T17:47:05.906470Z"
    }
   },
   "outputs": [],
   "source": [
    "# Set format for training dataset\n",
    "tokenized_train.set_format(\"torch\", columns=[\"input_ids\", \"attention_mask\", \"label\"])"
   ]
  },
  {
   "cell_type": "code",
   "execution_count": 28,
   "id": "e61c987c",
   "metadata": {
    "execution": {
     "iopub.execute_input": "2025-05-18T17:47:05.912110Z",
     "iopub.status.busy": "2025-05-18T17:47:05.911830Z",
     "iopub.status.idle": "2025-05-18T17:47:05.926956Z",
     "shell.execute_reply": "2025-05-18T17:47:05.926369Z",
     "shell.execute_reply.started": "2025-05-18T17:47:05.912083Z"
    }
   },
   "outputs": [],
   "source": [
    "# Set format for validation dataset\n",
    "tokenized_val.set_format(\"torch\", columns=[\"input_ids\", \"attention_mask\", \"label\"])"
   ]
  },
  {
   "cell_type": "code",
   "execution_count": 29,
   "id": "5e8cff59",
   "metadata": {
    "execution": {
     "iopub.execute_input": "2025-05-18T17:47:05.927874Z",
     "iopub.status.busy": "2025-05-18T17:47:05.927575Z",
     "iopub.status.idle": "2025-05-18T17:47:05.942826Z",
     "shell.execute_reply": "2025-05-18T17:47:05.942148Z",
     "shell.execute_reply.started": "2025-05-18T17:47:05.927858Z"
    }
   },
   "outputs": [],
   "source": [
    "# Set format for test dataset\n",
    "tokenized_test.set_format(\"torch\", columns=[\"input_ids\", \"attention_mask\", \"label\"])"
   ]
  },
  {
   "cell_type": "markdown",
   "id": "498279f9",
   "metadata": {},
   "source": [
    "## 6. Setting Up the DistilBERT Model\n",
    "\n",
    "Now we'll load the pretrained DistilBERT model and configure it for our binary classification task.\n",
    "\n",
    "### Loading Pretrained DistilBERT\n",
    "We'll use the standard DistilBERT base model, which provides a good balance between performance and efficiency."
   ]
  },
  {
   "cell_type": "code",
   "execution_count": 30,
   "id": "33faf246",
   "metadata": {
    "execution": {
     "iopub.execute_input": "2025-05-18T17:47:05.943597Z",
     "iopub.status.busy": "2025-05-18T17:47:05.943409Z",
     "iopub.status.idle": "2025-05-18T17:47:09.119583Z",
     "shell.execute_reply": "2025-05-18T17:47:09.119090Z",
     "shell.execute_reply.started": "2025-05-18T17:47:05.943583Z"
    }
   },
   "outputs": [
    {
     "data": {
      "application/vnd.jupyter.widget-view+json": {
       "model_id": "ff9aa84a4c244b4fa9a26bed27d02c78",
       "version_major": 2,
       "version_minor": 0
      },
      "text/plain": [
       "model.safetensors:   0%|          | 0.00/268M [00:00<?, ?B/s]"
      ]
     },
     "metadata": {},
     "output_type": "display_data"
    },
    {
     "name": "stderr",
     "output_type": "stream",
     "text": [
      "Some weights of DistilBertForSequenceClassification were not initialized from the model checkpoint at distilbert-base-uncased and are newly initialized: ['classifier.bias', 'classifier.weight', 'pre_classifier.bias', 'pre_classifier.weight']\n",
      "You should probably TRAIN this model on a down-stream task to be able to use it for predictions and inference.\n"
     ]
    }
   ],
   "source": [
    "# Load DistilBERT model\n",
    "model = AutoModelForSequenceClassification.from_pretrained(\n",
    "    \"distilbert-base-uncased\",\n",
    "    num_labels=2  # Binary classification: real (0) or fake (1)\n",
    ")"
   ]
  },
  {
   "cell_type": "markdown",
   "id": "25579ba0",
   "metadata": {},
   "source": [
    "### Moving Model to GPU\n",
    "To accelerate training, we'll move the model to GPU if available."
   ]
  },
  {
   "cell_type": "code",
   "execution_count": 31,
   "id": "a6a755a7",
   "metadata": {
    "execution": {
     "iopub.execute_input": "2025-05-18T17:47:09.120349Z",
     "iopub.status.busy": "2025-05-18T17:47:09.120158Z",
     "iopub.status.idle": "2025-05-18T17:47:09.392382Z",
     "shell.execute_reply": "2025-05-18T17:47:09.391609Z",
     "shell.execute_reply.started": "2025-05-18T17:47:09.120334Z"
    }
   },
   "outputs": [
    {
     "data": {
      "text/plain": [
       "DistilBertForSequenceClassification(\n",
       "  (distilbert): DistilBertModel(\n",
       "    (embeddings): Embeddings(\n",
       "      (word_embeddings): Embedding(30522, 768, padding_idx=0)\n",
       "      (position_embeddings): Embedding(512, 768)\n",
       "      (LayerNorm): LayerNorm((768,), eps=1e-12, elementwise_affine=True)\n",
       "      (dropout): Dropout(p=0.1, inplace=False)\n",
       "    )\n",
       "    (transformer): Transformer(\n",
       "      (layer): ModuleList(\n",
       "        (0-5): 6 x TransformerBlock(\n",
       "          (attention): DistilBertSdpaAttention(\n",
       "            (dropout): Dropout(p=0.1, inplace=False)\n",
       "            (q_lin): Linear(in_features=768, out_features=768, bias=True)\n",
       "            (k_lin): Linear(in_features=768, out_features=768, bias=True)\n",
       "            (v_lin): Linear(in_features=768, out_features=768, bias=True)\n",
       "            (out_lin): Linear(in_features=768, out_features=768, bias=True)\n",
       "          )\n",
       "          (sa_layer_norm): LayerNorm((768,), eps=1e-12, elementwise_affine=True)\n",
       "          (ffn): FFN(\n",
       "            (dropout): Dropout(p=0.1, inplace=False)\n",
       "            (lin1): Linear(in_features=768, out_features=3072, bias=True)\n",
       "            (lin2): Linear(in_features=3072, out_features=768, bias=True)\n",
       "            (activation): GELUActivation()\n",
       "          )\n",
       "          (output_layer_norm): LayerNorm((768,), eps=1e-12, elementwise_affine=True)\n",
       "        )\n",
       "      )\n",
       "    )\n",
       "  )\n",
       "  (pre_classifier): Linear(in_features=768, out_features=768, bias=True)\n",
       "  (classifier): Linear(in_features=768, out_features=2, bias=True)\n",
       "  (dropout): Dropout(p=0.2, inplace=False)\n",
       ")"
      ]
     },
     "execution_count": 31,
     "metadata": {},
     "output_type": "execute_result"
    }
   ],
   "source": [
    "# Move model to the appropriate device (GPU if available)\n",
    "model.to(device)"
   ]
  },
  {
   "cell_type": "markdown",
   "id": "b17ed3ff",
   "metadata": {},
   "source": [
    "### Examining Model Architecture\n",
    "Understanding the model architecture helps us appreciate its efficiency compared to larger models like BERT-base."
   ]
  },
  {
   "cell_type": "code",
   "execution_count": 32,
   "id": "1733c3b0",
   "metadata": {
    "execution": {
     "iopub.execute_input": "2025-05-18T17:47:09.393446Z",
     "iopub.status.busy": "2025-05-18T17:47:09.393212Z",
     "iopub.status.idle": "2025-05-18T17:47:09.397918Z",
     "shell.execute_reply": "2025-05-18T17:47:09.397339Z",
     "shell.execute_reply.started": "2025-05-18T17:47:09.393420Z"
    }
   },
   "outputs": [
    {
     "name": "stdout",
     "output_type": "stream",
     "text": [
      "DistilBertForSequenceClassification(\n",
      "  (distilbert): DistilBertModel(\n",
      "    (embeddings): Embeddings(\n",
      "      (word_embeddings): Embedding(30522, 768, padding_idx=0)\n",
      "      (position_embeddings): Embedding(512, 768)\n",
      "      (LayerNorm): LayerNorm((768,), eps=1e-12, elementwise_affine=True)\n",
      "      (dropout): Dropout(p=0.1, inplace=False)\n",
      "    )\n",
      "    (transformer): Transformer(\n",
      "      (layer): ModuleList(\n",
      "        (0-5): 6 x TransformerBlock(\n",
      "          (attention): DistilBertSdpaAttention(\n",
      "            (dropout): Dropout(p=0.1, inplace=False)\n",
      "            (q_lin): Linear(in_features=768, out_features=768, bias=True)\n",
      "            (k_lin): Linear(in_features=768, out_features=768, bias=True)\n",
      "            (v_lin): Linear(in_features=768, out_features=768, bias=True)\n",
      "            (out_lin): Linear(in_features=768, out_features=768, bias=True)\n",
      "          )\n",
      "          (sa_layer_norm): LayerNorm((768,), eps=1e-12, elementwise_affine=True)\n",
      "          (ffn): FFN(\n",
      "            (dropout): Dropout(p=0.1, inplace=False)\n",
      "            (lin1): Linear(in_features=768, out_features=3072, bias=True)\n",
      "            (lin2): Linear(in_features=3072, out_features=768, bias=True)\n",
      "            (activation): GELUActivation()\n",
      "          )\n",
      "          (output_layer_norm): LayerNorm((768,), eps=1e-12, elementwise_affine=True)\n",
      "        )\n",
      "      )\n",
      "    )\n",
      "  )\n",
      "  (pre_classifier): Linear(in_features=768, out_features=768, bias=True)\n",
      "  (classifier): Linear(in_features=768, out_features=2, bias=True)\n",
      "  (dropout): Dropout(p=0.2, inplace=False)\n",
      ")\n"
     ]
    }
   ],
   "source": [
    "# Print model architecture\n",
    "print(model)"
   ]
  },
  {
   "cell_type": "markdown",
   "id": "3a550489",
   "metadata": {},
   "source": [
    "## 7. Defining the Evaluation Metrics\n",
    "\n",
    "To assess our model's performance, we need to define appropriate evaluation metrics. For fake news detection, accuracy alone isn't sufficient—we also need to consider precision, recall, and F1 score.\n",
    "\n",
    "### Metrics Computation Function\n",
    "This function will calculate multiple performance metrics during training and evaluation."
   ]
  },
  {
   "cell_type": "code",
   "execution_count": 33,
   "id": "4d6d1053",
   "metadata": {
    "execution": {
     "iopub.execute_input": "2025-05-18T17:47:09.398693Z",
     "iopub.status.busy": "2025-05-18T17:47:09.398478Z",
     "iopub.status.idle": "2025-05-18T17:47:09.411593Z",
     "shell.execute_reply": "2025-05-18T17:47:09.410950Z",
     "shell.execute_reply.started": "2025-05-18T17:47:09.398674Z"
    }
   },
   "outputs": [],
   "source": [
    "# Define the metrics computation function\n",
    "def compute_metrics(eval_pred):\n",
    "    \"\"\"\n",
    "    Compute evaluation metrics for the model.\n",
    "    \n",
    "    Args:\n",
    "        eval_pred: Tuple of predictions and label ids\n",
    "        \n",
    "    Returns:\n",
    "        Dictionary of metrics including accuracy, precision, recall, and F1\n",
    "    \"\"\"\n",
    "    predictions, labels = eval_pred\n",
    "    predictions = np.argmax(predictions, axis=1)\n",
    "    \n",
    "    # Calculate accuracy\n",
    "    accuracy = accuracy_score(labels, predictions)\n",
    "    \n",
    "    # Calculate precision, recall, and F1 score\n",
    "    precision, recall, f1, _ = precision_recall_fscore_support(\n",
    "        labels, predictions, average='weighted'\n",
    "    )\n",
    "    \n",
    "    return {\n",
    "        'accuracy': accuracy,\n",
    "        'precision': precision,\n",
    "        'recall': recall,\n",
    "        'f1': f1\n",
    "    }"
   ]
  },
  {
   "cell_type": "markdown",
   "id": "292f118b",
   "metadata": {},
   "source": [
    "## 8. Training Configuration\n",
    "\n",
    "Configuring the training process properly is crucial for achieving good model performance efficiently.\n",
    "\n",
    "### Output Directory\n",
    "We'll specify where to save checkpoints and the final model."
   ]
  },
  {
   "cell_type": "code",
   "execution_count": 34,
   "id": "9b05f1b1",
   "metadata": {
    "execution": {
     "iopub.execute_input": "2025-05-18T17:47:09.412525Z",
     "iopub.status.busy": "2025-05-18T17:47:09.412332Z",
     "iopub.status.idle": "2025-05-18T17:47:09.428509Z",
     "shell.execute_reply": "2025-05-18T17:47:09.427985Z",
     "shell.execute_reply.started": "2025-05-18T17:47:09.412510Z"
    }
   },
   "outputs": [],
   "source": [
    "# Define output directory\n",
    "output_dir = \"./results/distilbert_welfake\""
   ]
  },
  {
   "cell_type": "markdown",
   "id": "b06b0a36",
   "metadata": {},
   "source": [
    "### Training Arguments\n",
    "The TrainingArguments object configures all aspects of the training process, from learning rate to batch size to evaluation strategy."
   ]
  },
  {
   "cell_type": "code",
   "execution_count": 35,
   "id": "c18ce59a",
   "metadata": {
    "execution": {
     "iopub.execute_input": "2025-05-18T17:47:09.429397Z",
     "iopub.status.busy": "2025-05-18T17:47:09.429213Z",
     "iopub.status.idle": "2025-05-18T17:47:09.473305Z",
     "shell.execute_reply": "2025-05-18T17:47:09.472807Z",
     "shell.execute_reply.started": "2025-05-18T17:47:09.429383Z"
    }
   },
   "outputs": [],
   "source": [
    "# Define training arguments\n",
    "training_args = TrainingArguments(\n",
    "    output_dir=output_dir,\n",
    "    eval_strategy=\"epoch\",         # Evaluate after each epoch\n",
    "    save_strategy=\"epoch\",         # Save checkpoint after each epoch\n",
    "    learning_rate=5e-5,            # Recommended fine-tuning learning rate for BERT family models\n",
    "    per_device_train_batch_size=16, # Batch size for training\n",
    "    per_device_eval_batch_size=64,  # Larger batch size for evaluation (no gradients needed)\n",
    "    num_train_epochs=5,             # Maximum number of epochs\n",
    "    weight_decay=0.01,              # Weight decay for regularization\n",
    "    load_best_model_at_end=True,    # Load the best model at the end of training\n",
    "    metric_for_best_model=\"f1\",     # Use F1 score to determine the best model\n",
    "    push_to_hub=False,              # Don't push to Hugging Face Hub\n",
    "    report_to=\"tensorboard\",        # Generate TensorBoard logs\n",
    ")"
   ]
  },
  {
   "cell_type": "markdown",
   "id": "5eebfc0a",
   "metadata": {},
   "source": [
    "### Early Stopping\n",
    "To prevent overfitting and save training time, we'll implement early stopping based on validation performance."
   ]
  },
  {
   "cell_type": "code",
   "execution_count": 36,
   "id": "cc9a821a",
   "metadata": {
    "execution": {
     "iopub.execute_input": "2025-05-18T17:47:09.474066Z",
     "iopub.status.busy": "2025-05-18T17:47:09.473879Z",
     "iopub.status.idle": "2025-05-18T17:47:09.477562Z",
     "shell.execute_reply": "2025-05-18T17:47:09.476930Z",
     "shell.execute_reply.started": "2025-05-18T17:47:09.474052Z"
    }
   },
   "outputs": [],
   "source": [
    "# Create early stopping callback\n",
    "early_stopping_callback = EarlyStoppingCallback(early_stopping_patience=2)"
   ]
  },
  {
   "cell_type": "markdown",
   "id": "9b68e546",
   "metadata": {},
   "source": [
    "### Initializing the Trainer\n",
    "The Hugging Face Trainer handles the training loop, evaluation, and logging."
   ]
  },
  {
   "cell_type": "code",
   "execution_count": 37,
   "id": "d0dfcd1f",
   "metadata": {
    "execution": {
     "iopub.execute_input": "2025-05-18T17:47:09.478554Z",
     "iopub.status.busy": "2025-05-18T17:47:09.478325Z",
     "iopub.status.idle": "2025-05-18T17:47:09.774314Z",
     "shell.execute_reply": "2025-05-18T17:47:09.773776Z",
     "shell.execute_reply.started": "2025-05-18T17:47:09.478538Z"
    }
   },
   "outputs": [],
   "source": [
    "# Initialize Trainer\n",
    "trainer = Trainer(\n",
    "    model=model,\n",
    "    args=training_args,\n",
    "    train_dataset=tokenized_train,\n",
    "    eval_dataset=tokenized_val,\n",
    "    tokenizer=tokenizer,\n",
    "    compute_metrics=compute_metrics,\n",
    "    callbacks=[early_stopping_callback]\n",
    ")"
   ]
  },
  {
   "cell_type": "markdown",
   "id": "c0fa7286",
   "metadata": {},
   "source": [
    "## 9. Training Process\n",
    "\n",
    "Now we're ready to train our DistilBERT model on the WELFake dataset. We'll track the training time to assess efficiency.\n",
    "\n",
    "### Starting Timer\n",
    "We'll measure how long the training process takes."
   ]
  },
  {
   "cell_type": "code",
   "execution_count": 38,
   "id": "d0d54e3c",
   "metadata": {
    "execution": {
     "iopub.execute_input": "2025-05-18T17:47:09.775212Z",
     "iopub.status.busy": "2025-05-18T17:47:09.775007Z",
     "iopub.status.idle": "2025-05-18T17:47:09.778866Z",
     "shell.execute_reply": "2025-05-18T17:47:09.778141Z",
     "shell.execute_reply.started": "2025-05-18T17:47:09.775196Z"
    }
   },
   "outputs": [],
   "source": [
    "# Start timer\n",
    "start_time = time.time()"
   ]
  },
  {
   "cell_type": "markdown",
   "id": "40f4d322",
   "metadata": {},
   "source": [
    "### Training the Model\n",
    "This will fine-tune DistilBERT on our fake news detection task."
   ]
  },
  {
   "cell_type": "code",
   "execution_count": 39,
   "id": "9d2d7f15",
   "metadata": {
    "execution": {
     "iopub.execute_input": "2025-05-18T17:47:09.780078Z",
     "iopub.status.busy": "2025-05-18T17:47:09.779784Z",
     "iopub.status.idle": "2025-05-18T19:21:45.327452Z",
     "shell.execute_reply": "2025-05-18T19:21:45.325092Z",
     "shell.execute_reply.started": "2025-05-18T17:47:09.780055Z"
    }
   },
   "outputs": [
    {
     "name": "stdout",
     "output_type": "stream",
     "text": [
      "Starting training...\n"
     ]
    },
    {
     "data": {
      "text/html": [
       "\n",
       "    <div>\n",
       "      \n",
       "      <progress value='6333' max='7825' style='width:300px; height:20px; vertical-align: middle;'></progress>\n",
       "      [6333/7825 1:34:32 < 22:16, 1.12 it/s, Epoch 4.05/5]\n",
       "    </div>\n",
       "    <table border=\"1\" class=\"dataframe\">\n",
       "  <thead>\n",
       " <tr style=\"text-align: left;\">\n",
       "      <th>Epoch</th>\n",
       "      <th>Training Loss</th>\n",
       "      <th>Validation Loss</th>\n",
       "      <th>Accuracy</th>\n",
       "      <th>Precision</th>\n",
       "      <th>Recall</th>\n",
       "      <th>F1</th>\n",
       "    </tr>\n",
       "  </thead>\n",
       "  <tbody>\n",
       "    <tr>\n",
       "      <td>1</td>\n",
       "      <td>0.031500</td>\n",
       "      <td>0.032046</td>\n",
       "      <td>0.989472</td>\n",
       "      <td>0.989592</td>\n",
       "      <td>0.989472</td>\n",
       "      <td>0.989473</td>\n",
       "    </tr>\n",
       "    <tr>\n",
       "      <td>2</td>\n",
       "      <td>0.013800</td>\n",
       "      <td>0.025826</td>\n",
       "      <td>0.992826</td>\n",
       "      <td>0.992865</td>\n",
       "      <td>0.992826</td>\n",
       "      <td>0.992826</td>\n",
       "    </tr>\n",
       "    <tr>\n",
       "      <td>3</td>\n",
       "      <td>0.007600</td>\n",
       "      <td>0.018540</td>\n",
       "      <td>0.996273</td>\n",
       "      <td>0.996273</td>\n",
       "      <td>0.996273</td>\n",
       "      <td>0.996273</td>\n",
       "    </tr>\n",
       "    <tr>\n",
       "      <td>4</td>\n",
       "      <td>0.000900</td>\n",
       "      <td>0.026803</td>\n",
       "      <td>0.996179</td>\n",
       "      <td>0.996187</td>\n",
       "      <td>0.996179</td>\n",
       "      <td>0.996179</td>\n",
       "    </tr>\n",
       "  </tbody>\n",
       "</table><p>\n",
       "    <div>\n",
       "      \n",
       "      <progress value='84' max='84' style='width:300px; height:20px; vertical-align: middle;'></progress>\n",
       "      [84/84 01:24]\n",
       "    </div>\n",
       "    "
      ],
      "text/plain": [
       "<IPython.core.display.HTML object>"
      ]
     },
     "metadata": {},
     "output_type": "display_data"
    },
    {
     "ename": "KeyboardInterrupt",
     "evalue": "",
     "output_type": "error",
     "traceback": [
      "\u001b[0;31m---------------------------------------------------------------------------\u001b[0m",
      "\u001b[0;31mKeyboardInterrupt\u001b[0m                         Traceback (most recent call last)",
      "\u001b[0;32m/tmp/ipykernel_35/919901487.py\u001b[0m in \u001b[0;36m<cell line: 0>\u001b[0;34m()\u001b[0m\n\u001b[1;32m      1\u001b[0m \u001b[0;31m# Train the model\u001b[0m\u001b[0;34m\u001b[0m\u001b[0;34m\u001b[0m\u001b[0m\n\u001b[1;32m      2\u001b[0m \u001b[0mprint\u001b[0m\u001b[0;34m(\u001b[0m\u001b[0;34m\"Starting training...\"\u001b[0m\u001b[0;34m)\u001b[0m\u001b[0;34m\u001b[0m\u001b[0;34m\u001b[0m\u001b[0m\n\u001b[0;32m----> 3\u001b[0;31m \u001b[0mtrain_result\u001b[0m \u001b[0;34m=\u001b[0m \u001b[0mtrainer\u001b[0m\u001b[0;34m.\u001b[0m\u001b[0mtrain\u001b[0m\u001b[0;34m(\u001b[0m\u001b[0;34m)\u001b[0m\u001b[0;34m\u001b[0m\u001b[0;34m\u001b[0m\u001b[0m\n\u001b[0m",
      "\u001b[0;32m/usr/local/lib/python3.11/dist-packages/transformers/trainer.py\u001b[0m in \u001b[0;36mtrain\u001b[0;34m(self, resume_from_checkpoint, trial, ignore_keys_for_eval, **kwargs)\u001b[0m\n\u001b[1;32m   2243\u001b[0m                 \u001b[0mhf_hub_utils\u001b[0m\u001b[0;34m.\u001b[0m\u001b[0menable_progress_bars\u001b[0m\u001b[0;34m(\u001b[0m\u001b[0;34m)\u001b[0m\u001b[0;34m\u001b[0m\u001b[0;34m\u001b[0m\u001b[0m\n\u001b[1;32m   2244\u001b[0m         \u001b[0;32melse\u001b[0m\u001b[0;34m:\u001b[0m\u001b[0;34m\u001b[0m\u001b[0;34m\u001b[0m\u001b[0m\n\u001b[0;32m-> 2245\u001b[0;31m             return inner_training_loop(\n\u001b[0m\u001b[1;32m   2246\u001b[0m                 \u001b[0margs\u001b[0m\u001b[0;34m=\u001b[0m\u001b[0margs\u001b[0m\u001b[0;34m,\u001b[0m\u001b[0;34m\u001b[0m\u001b[0;34m\u001b[0m\u001b[0m\n\u001b[1;32m   2247\u001b[0m                 \u001b[0mresume_from_checkpoint\u001b[0m\u001b[0;34m=\u001b[0m\u001b[0mresume_from_checkpoint\u001b[0m\u001b[0;34m,\u001b[0m\u001b[0;34m\u001b[0m\u001b[0;34m\u001b[0m\u001b[0m\n",
      "\u001b[0;32m/usr/local/lib/python3.11/dist-packages/transformers/trainer.py\u001b[0m in \u001b[0;36m_inner_training_loop\u001b[0;34m(self, batch_size, args, resume_from_checkpoint, trial, ignore_keys_for_eval)\u001b[0m\n\u001b[1;32m   2558\u001b[0m                     )\n\u001b[1;32m   2559\u001b[0m                     \u001b[0;32mwith\u001b[0m \u001b[0mcontext\u001b[0m\u001b[0;34m(\u001b[0m\u001b[0;34m)\u001b[0m\u001b[0;34m:\u001b[0m\u001b[0;34m\u001b[0m\u001b[0;34m\u001b[0m\u001b[0m\n\u001b[0;32m-> 2560\u001b[0;31m                         \u001b[0mtr_loss_step\u001b[0m \u001b[0;34m=\u001b[0m \u001b[0mself\u001b[0m\u001b[0;34m.\u001b[0m\u001b[0mtraining_step\u001b[0m\u001b[0;34m(\u001b[0m\u001b[0mmodel\u001b[0m\u001b[0;34m,\u001b[0m \u001b[0minputs\u001b[0m\u001b[0;34m,\u001b[0m \u001b[0mnum_items_in_batch\u001b[0m\u001b[0;34m)\u001b[0m\u001b[0;34m\u001b[0m\u001b[0;34m\u001b[0m\u001b[0m\n\u001b[0m\u001b[1;32m   2561\u001b[0m \u001b[0;34m\u001b[0m\u001b[0m\n\u001b[1;32m   2562\u001b[0m                     if (\n",
      "\u001b[0;32m/usr/local/lib/python3.11/dist-packages/transformers/trainer.py\u001b[0m in \u001b[0;36mtraining_step\u001b[0;34m(***failed resolving arguments***)\u001b[0m\n\u001b[1;32m   3780\u001b[0m                 \u001b[0mkwargs\u001b[0m\u001b[0;34m[\u001b[0m\u001b[0;34m\"scale_wrt_gas\"\u001b[0m\u001b[0;34m]\u001b[0m \u001b[0;34m=\u001b[0m \u001b[0;32mFalse\u001b[0m\u001b[0;34m\u001b[0m\u001b[0;34m\u001b[0m\u001b[0m\n\u001b[1;32m   3781\u001b[0m \u001b[0;34m\u001b[0m\u001b[0m\n\u001b[0;32m-> 3782\u001b[0;31m             \u001b[0mself\u001b[0m\u001b[0;34m.\u001b[0m\u001b[0maccelerator\u001b[0m\u001b[0;34m.\u001b[0m\u001b[0mbackward\u001b[0m\u001b[0;34m(\u001b[0m\u001b[0mloss\u001b[0m\u001b[0;34m,\u001b[0m \u001b[0;34m**\u001b[0m\u001b[0mkwargs\u001b[0m\u001b[0;34m)\u001b[0m\u001b[0;34m\u001b[0m\u001b[0;34m\u001b[0m\u001b[0m\n\u001b[0m\u001b[1;32m   3783\u001b[0m \u001b[0;34m\u001b[0m\u001b[0m\n\u001b[1;32m   3784\u001b[0m             \u001b[0;32mreturn\u001b[0m \u001b[0mloss\u001b[0m\u001b[0;34m.\u001b[0m\u001b[0mdetach\u001b[0m\u001b[0;34m(\u001b[0m\u001b[0;34m)\u001b[0m\u001b[0;34m\u001b[0m\u001b[0;34m\u001b[0m\u001b[0m\n",
      "\u001b[0;32m/usr/local/lib/python3.11/dist-packages/accelerate/accelerator.py\u001b[0m in \u001b[0;36mbackward\u001b[0;34m(self, loss, **kwargs)\u001b[0m\n\u001b[1;32m   2357\u001b[0m             \u001b[0mself\u001b[0m\u001b[0;34m.\u001b[0m\u001b[0mlomo_backward\u001b[0m\u001b[0;34m(\u001b[0m\u001b[0mloss\u001b[0m\u001b[0;34m,\u001b[0m \u001b[0mlearning_rate\u001b[0m\u001b[0;34m)\u001b[0m\u001b[0;34m\u001b[0m\u001b[0;34m\u001b[0m\u001b[0m\n\u001b[1;32m   2358\u001b[0m         \u001b[0;32melse\u001b[0m\u001b[0;34m:\u001b[0m\u001b[0;34m\u001b[0m\u001b[0;34m\u001b[0m\u001b[0m\n\u001b[0;32m-> 2359\u001b[0;31m             \u001b[0mloss\u001b[0m\u001b[0;34m.\u001b[0m\u001b[0mbackward\u001b[0m\u001b[0;34m(\u001b[0m\u001b[0;34m**\u001b[0m\u001b[0mkwargs\u001b[0m\u001b[0;34m)\u001b[0m\u001b[0;34m\u001b[0m\u001b[0;34m\u001b[0m\u001b[0m\n\u001b[0m\u001b[1;32m   2360\u001b[0m \u001b[0;34m\u001b[0m\u001b[0m\n\u001b[1;32m   2361\u001b[0m     \u001b[0;32mdef\u001b[0m \u001b[0mset_trigger\u001b[0m\u001b[0;34m(\u001b[0m\u001b[0mself\u001b[0m\u001b[0;34m)\u001b[0m\u001b[0;34m:\u001b[0m\u001b[0;34m\u001b[0m\u001b[0;34m\u001b[0m\u001b[0m\n",
      "\u001b[0;32m/usr/local/lib/python3.11/dist-packages/torch/_tensor.py\u001b[0m in \u001b[0;36mbackward\u001b[0;34m(self, gradient, retain_graph, create_graph, inputs)\u001b[0m\n\u001b[1;32m    624\u001b[0m                 \u001b[0minputs\u001b[0m\u001b[0;34m=\u001b[0m\u001b[0minputs\u001b[0m\u001b[0;34m,\u001b[0m\u001b[0;34m\u001b[0m\u001b[0;34m\u001b[0m\u001b[0m\n\u001b[1;32m    625\u001b[0m             )\n\u001b[0;32m--> 626\u001b[0;31m         torch.autograd.backward(\n\u001b[0m\u001b[1;32m    627\u001b[0m             \u001b[0mself\u001b[0m\u001b[0;34m,\u001b[0m \u001b[0mgradient\u001b[0m\u001b[0;34m,\u001b[0m \u001b[0mretain_graph\u001b[0m\u001b[0;34m,\u001b[0m \u001b[0mcreate_graph\u001b[0m\u001b[0;34m,\u001b[0m \u001b[0minputs\u001b[0m\u001b[0;34m=\u001b[0m\u001b[0minputs\u001b[0m\u001b[0;34m\u001b[0m\u001b[0;34m\u001b[0m\u001b[0m\n\u001b[1;32m    628\u001b[0m         )\n",
      "\u001b[0;32m/usr/local/lib/python3.11/dist-packages/torch/autograd/__init__.py\u001b[0m in \u001b[0;36mbackward\u001b[0;34m(tensors, grad_tensors, retain_graph, create_graph, grad_variables, inputs)\u001b[0m\n\u001b[1;32m    345\u001b[0m     \u001b[0;31m# some Python versions print out the first line of a multi-line function\u001b[0m\u001b[0;34m\u001b[0m\u001b[0;34m\u001b[0m\u001b[0m\n\u001b[1;32m    346\u001b[0m     \u001b[0;31m# calls in the traceback and some print out the last line\u001b[0m\u001b[0;34m\u001b[0m\u001b[0;34m\u001b[0m\u001b[0m\n\u001b[0;32m--> 347\u001b[0;31m     _engine_run_backward(\n\u001b[0m\u001b[1;32m    348\u001b[0m         \u001b[0mtensors\u001b[0m\u001b[0;34m,\u001b[0m\u001b[0;34m\u001b[0m\u001b[0;34m\u001b[0m\u001b[0m\n\u001b[1;32m    349\u001b[0m         \u001b[0mgrad_tensors_\u001b[0m\u001b[0;34m,\u001b[0m\u001b[0;34m\u001b[0m\u001b[0;34m\u001b[0m\u001b[0m\n",
      "\u001b[0;32m/usr/local/lib/python3.11/dist-packages/torch/autograd/graph.py\u001b[0m in \u001b[0;36m_engine_run_backward\u001b[0;34m(t_outputs, *args, **kwargs)\u001b[0m\n\u001b[1;32m    821\u001b[0m         \u001b[0munregister_hooks\u001b[0m \u001b[0;34m=\u001b[0m \u001b[0m_register_logging_hooks_on_whole_graph\u001b[0m\u001b[0;34m(\u001b[0m\u001b[0mt_outputs\u001b[0m\u001b[0;34m)\u001b[0m\u001b[0;34m\u001b[0m\u001b[0;34m\u001b[0m\u001b[0m\n\u001b[1;32m    822\u001b[0m     \u001b[0;32mtry\u001b[0m\u001b[0;34m:\u001b[0m\u001b[0;34m\u001b[0m\u001b[0;34m\u001b[0m\u001b[0m\n\u001b[0;32m--> 823\u001b[0;31m         return Variable._execution_engine.run_backward(  # Calls into the C++ engine to run the backward pass\n\u001b[0m\u001b[1;32m    824\u001b[0m             \u001b[0mt_outputs\u001b[0m\u001b[0;34m,\u001b[0m \u001b[0;34m*\u001b[0m\u001b[0margs\u001b[0m\u001b[0;34m,\u001b[0m \u001b[0;34m**\u001b[0m\u001b[0mkwargs\u001b[0m\u001b[0;34m\u001b[0m\u001b[0;34m\u001b[0m\u001b[0m\n\u001b[1;32m    825\u001b[0m         )  # Calls into the C++ engine to run the backward pass\n",
      "\u001b[0;31mKeyboardInterrupt\u001b[0m: "
     ]
    }
   ],
   "source": [
    "# Train the model\n",
    "print(\"Starting training...\")\n",
    "train_result = trainer.train()"
   ]
  },
  {
   "cell_type": "markdown",
   "id": "9f9185e6-f15a-4f53-8d80-101200e9c917",
   "metadata": {},
   "source": [
    "It seems the model started overfitting at epoch 4 so I stopped the training. Now I will explicitly set the model to checkpoint at epoch 3 which gave me the best results."
   ]
  },
  {
   "cell_type": "code",
   "execution_count": 40,
   "id": "27e33ff3-dd5a-436f-b24a-3d6f5e0aa32a",
   "metadata": {
    "execution": {
     "iopub.execute_input": "2025-05-18T19:25:49.753625Z",
     "iopub.status.busy": "2025-05-18T19:25:49.753337Z",
     "iopub.status.idle": "2025-05-18T19:25:49.800633Z",
     "shell.execute_reply": "2025-05-18T19:25:49.799932Z",
     "shell.execute_reply.started": "2025-05-18T19:25:49.753605Z"
    }
   },
   "outputs": [],
   "source": [
    "model = AutoModelForSequenceClassification.from_pretrained(\n",
    "    \"/kaggle/working/results/distilbert_welfake/checkpoint-4695\"\n",
    ")"
   ]
  },
  {
   "cell_type": "code",
   "execution_count": 41,
   "id": "1c94d584-a5c9-444b-876b-2a7555053da3",
   "metadata": {
    "execution": {
     "iopub.execute_input": "2025-05-18T19:25:54.859304Z",
     "iopub.status.busy": "2025-05-18T19:25:54.858587Z",
     "iopub.status.idle": "2025-05-18T19:25:54.956083Z",
     "shell.execute_reply": "2025-05-18T19:25:54.955502Z",
     "shell.execute_reply.started": "2025-05-18T19:25:54.859281Z"
    }
   },
   "outputs": [
    {
     "data": {
      "text/plain": [
       "DistilBertForSequenceClassification(\n",
       "  (distilbert): DistilBertModel(\n",
       "    (embeddings): Embeddings(\n",
       "      (word_embeddings): Embedding(30522, 768, padding_idx=0)\n",
       "      (position_embeddings): Embedding(512, 768)\n",
       "      (LayerNorm): LayerNorm((768,), eps=1e-12, elementwise_affine=True)\n",
       "      (dropout): Dropout(p=0.1, inplace=False)\n",
       "    )\n",
       "    (transformer): Transformer(\n",
       "      (layer): ModuleList(\n",
       "        (0-5): 6 x TransformerBlock(\n",
       "          (attention): DistilBertSdpaAttention(\n",
       "            (dropout): Dropout(p=0.1, inplace=False)\n",
       "            (q_lin): Linear(in_features=768, out_features=768, bias=True)\n",
       "            (k_lin): Linear(in_features=768, out_features=768, bias=True)\n",
       "            (v_lin): Linear(in_features=768, out_features=768, bias=True)\n",
       "            (out_lin): Linear(in_features=768, out_features=768, bias=True)\n",
       "          )\n",
       "          (sa_layer_norm): LayerNorm((768,), eps=1e-12, elementwise_affine=True)\n",
       "          (ffn): FFN(\n",
       "            (dropout): Dropout(p=0.1, inplace=False)\n",
       "            (lin1): Linear(in_features=768, out_features=3072, bias=True)\n",
       "            (lin2): Linear(in_features=3072, out_features=768, bias=True)\n",
       "            (activation): GELUActivation()\n",
       "          )\n",
       "          (output_layer_norm): LayerNorm((768,), eps=1e-12, elementwise_affine=True)\n",
       "        )\n",
       "      )\n",
       "    )\n",
       "  )\n",
       "  (pre_classifier): Linear(in_features=768, out_features=768, bias=True)\n",
       "  (classifier): Linear(in_features=768, out_features=2, bias=True)\n",
       "  (dropout): Dropout(p=0.2, inplace=False)\n",
       ")"
      ]
     },
     "execution_count": 41,
     "metadata": {},
     "output_type": "execute_result"
    }
   ],
   "source": [
    "# Load it to the appropriate device\n",
    "model.to(device)"
   ]
  },
  {
   "cell_type": "markdown",
   "id": "8137a8bf",
   "metadata": {},
   "source": [
    "### Calculating Training Time\n",
    "Let's check how long the training took."
   ]
  },
  {
   "cell_type": "code",
   "execution_count": 42,
   "id": "4be4ddd5",
   "metadata": {
    "execution": {
     "iopub.execute_input": "2025-05-18T19:25:59.516285Z",
     "iopub.status.busy": "2025-05-18T19:25:59.516017Z",
     "iopub.status.idle": "2025-05-18T19:25:59.520896Z",
     "shell.execute_reply": "2025-05-18T19:25:59.519964Z",
     "shell.execute_reply.started": "2025-05-18T19:25:59.516265Z"
    }
   },
   "outputs": [
    {
     "name": "stdout",
     "output_type": "stream",
     "text": [
      "Training completed in 98.83 minutes\n"
     ]
    }
   ],
   "source": [
    "# Calculate training time\n",
    "train_time = time.time() - start_time\n",
    "print(f\"Training completed in {train_time/60:.2f} minutes\")"
   ]
  },
  {
   "cell_type": "markdown",
   "id": "f7ff9c63",
   "metadata": {},
   "source": [
    "### Training Metrics Summary\n",
    "We'll examine the final training metrics."
   ]
  },
  {
   "cell_type": "code",
   "execution_count": 43,
   "id": "ca1bf819",
   "metadata": {
    "execution": {
     "iopub.execute_input": "2025-05-18T19:26:03.166157Z",
     "iopub.status.busy": "2025-05-18T19:26:03.165886Z",
     "iopub.status.idle": "2025-05-18T19:26:03.186955Z",
     "shell.execute_reply": "2025-05-18T19:26:03.186095Z",
     "shell.execute_reply.started": "2025-05-18T19:26:03.166136Z"
    }
   },
   "outputs": [
    {
     "ename": "NameError",
     "evalue": "name 'train_result' is not defined",
     "output_type": "error",
     "traceback": [
      "\u001b[0;31m---------------------------------------------------------------------------\u001b[0m",
      "\u001b[0;31mNameError\u001b[0m                                 Traceback (most recent call last)",
      "\u001b[0;32m/tmp/ipykernel_35/3970003865.py\u001b[0m in \u001b[0;36m<cell line: 0>\u001b[0;34m()\u001b[0m\n\u001b[1;32m      1\u001b[0m \u001b[0;31m# Print training metrics\u001b[0m\u001b[0;34m\u001b[0m\u001b[0;34m\u001b[0m\u001b[0m\n\u001b[0;32m----> 2\u001b[0;31m \u001b[0mprint\u001b[0m\u001b[0;34m(\u001b[0m\u001b[0;34mf\"Training metrics: {train_result.metrics}\"\u001b[0m\u001b[0;34m)\u001b[0m\u001b[0;34m\u001b[0m\u001b[0;34m\u001b[0m\u001b[0m\n\u001b[0m",
      "\u001b[0;31mNameError\u001b[0m: name 'train_result' is not defined"
     ]
    }
   ],
   "source": [
    "# Print training metrics\n",
    "print(f\"Training metrics: {train_result.metrics}\")"
   ]
  },
  {
   "cell_type": "markdown",
   "id": "922756d7",
   "metadata": {},
   "source": [
    "## 10. Evaluation on Test Set\n",
    "\n",
    "After training, we'll evaluate our model on the held-out test set to assess its performance on unseen data.\n",
    "\n",
    "### Running Evaluation\n",
    "This will calculate all our defined metrics on the test set."
   ]
  },
  {
   "cell_type": "code",
   "execution_count": 44,
   "id": "9ff21b50",
   "metadata": {
    "execution": {
     "iopub.execute_input": "2025-05-18T19:26:28.286518Z",
     "iopub.status.busy": "2025-05-18T19:26:28.285864Z",
     "iopub.status.idle": "2025-05-18T19:27:54.173094Z",
     "shell.execute_reply": "2025-05-18T19:27:54.172439Z",
     "shell.execute_reply.started": "2025-05-18T19:26:28.286494Z"
    }
   },
   "outputs": [
    {
     "name": "stdout",
     "output_type": "stream",
     "text": [
      "\n",
      "Evaluating on test set...\n"
     ]
    }
   ],
   "source": [
    "# Evaluate on test set\n",
    "print(\"\\nEvaluating on test set...\")\n",
    "test_results = trainer.evaluate(tokenized_test)"
   ]
  },
  {
   "cell_type": "markdown",
   "id": "aaf7130d",
   "metadata": {},
   "source": [
    "### Displaying Test Results\n",
    "Let's examine the test metrics to see how well our model generalizes."
   ]
  },
  {
   "cell_type": "code",
   "execution_count": 45,
   "id": "b3cc981e",
   "metadata": {
    "execution": {
     "iopub.execute_input": "2025-05-18T19:27:54.174394Z",
     "iopub.status.busy": "2025-05-18T19:27:54.174193Z",
     "iopub.status.idle": "2025-05-18T19:27:54.178729Z",
     "shell.execute_reply": "2025-05-18T19:27:54.177942Z",
     "shell.execute_reply.started": "2025-05-18T19:27:54.174379Z"
    }
   },
   "outputs": [
    {
     "name": "stdout",
     "output_type": "stream",
     "text": [
      "Test results: {'eval_loss': 0.02680298313498497, 'eval_accuracy': 0.9961792936352624, 'eval_precision': 0.9961872073978384, 'eval_recall': 0.9961792936352624, 'eval_f1': 0.9961794344304633}\n"
     ]
    }
   ],
   "source": [
    "# Print test results\n",
    "print(f\"Test results: {test_results}\")"
   ]
  },
  {
   "cell_type": "markdown",
   "id": "70945b6d",
   "metadata": {},
   "source": [
    "### Generating and Processing Predictions\n",
    "To create a confusion matrix and detailed classification report, we need the individual predictions."
   ]
  },
  {
   "cell_type": "code",
   "execution_count": 46,
   "id": "ed9543fb",
   "metadata": {
    "execution": {
     "iopub.execute_input": "2025-05-18T19:28:08.573125Z",
     "iopub.status.busy": "2025-05-18T19:28:08.572575Z",
     "iopub.status.idle": "2025-05-18T19:29:34.447930Z",
     "shell.execute_reply": "2025-05-18T19:29:34.447351Z",
     "shell.execute_reply.started": "2025-05-18T19:28:08.573100Z"
    }
   },
   "outputs": [],
   "source": [
    "# Get predictions\n",
    "predictions = trainer.predict(tokenized_test)"
   ]
  },
  {
   "cell_type": "code",
   "execution_count": 47,
   "id": "6d424cf8",
   "metadata": {
    "execution": {
     "iopub.execute_input": "2025-05-18T19:29:34.449184Z",
     "iopub.status.busy": "2025-05-18T19:29:34.448943Z",
     "iopub.status.idle": "2025-05-18T19:29:34.453435Z",
     "shell.execute_reply": "2025-05-18T19:29:34.452869Z",
     "shell.execute_reply.started": "2025-05-18T19:29:34.449166Z"
    }
   },
   "outputs": [],
   "source": [
    "# Process predictions\n",
    "preds = np.argmax(predictions.predictions, axis=1)\n",
    "labels = predictions.label_ids"
   ]
  },
  {
   "cell_type": "markdown",
   "id": "14cb954e",
   "metadata": {},
   "source": [
    "### Creating a Confusion Matrix\n",
    "A confusion matrix helps us understand where the model makes errors."
   ]
  },
  {
   "cell_type": "code",
   "execution_count": 48,
   "id": "9adf46ea",
   "metadata": {
    "execution": {
     "iopub.execute_input": "2025-05-18T19:29:34.454462Z",
     "iopub.status.busy": "2025-05-18T19:29:34.454218Z",
     "iopub.status.idle": "2025-05-18T19:29:34.474618Z",
     "shell.execute_reply": "2025-05-18T19:29:34.474065Z",
     "shell.execute_reply.started": "2025-05-18T19:29:34.454435Z"
    }
   },
   "outputs": [],
   "source": [
    "# Create confusion matrix\n",
    "cm = confusion_matrix(labels, preds)"
   ]
  },
  {
   "cell_type": "code",
   "execution_count": 49,
   "id": "459177f3",
   "metadata": {
    "execution": {
     "iopub.execute_input": "2025-05-18T19:29:34.476697Z",
     "iopub.status.busy": "2025-05-18T19:29:34.476421Z",
     "iopub.status.idle": "2025-05-18T19:29:34.670306Z",
     "shell.execute_reply": "2025-05-18T19:29:34.669586Z",
     "shell.execute_reply.started": "2025-05-18T19:29:34.476677Z"
    }
   },
   "outputs": [
    {
     "data": {
      "image/png": "[encoded data removed]",
      "text/plain": [
       "<Figure size 800x600 with 2 Axes>"
      ]
     },
     "metadata": {},
     "output_type": "display_data"
    }
   ],
   "source": [
    "# Visualize confusion matrix\n",
    "plt.figure(figsize=(8, 6))\n",
    "sns.heatmap(cm, annot=True, fmt='d', cmap='Blues', \n",
    "            xticklabels=['Real News', 'Fake News'], \n",
    "            yticklabels=['Real News', 'Fake News'])\n",
    "plt.title('DistilBERT Confusion Matrix')\n",
    "plt.xlabel('Predicted Label')\n",
    "plt.ylabel('True Label')\n",
    "plt.tight_layout()\n",
    "plt.show()"
   ]
  },
  {
   "cell_type": "markdown",
   "id": "adf76097",
   "metadata": {},
   "source": [
    "### Detailed Classification Report\n",
    "This provides precision, recall, and F1 score for each class."
   ]
  },
  {
   "cell_type": "code",
   "execution_count": 50,
   "id": "641c0d10",
   "metadata": {
    "execution": {
     "iopub.execute_input": "2025-05-18T19:29:34.671145Z",
     "iopub.status.busy": "2025-05-18T19:29:34.670948Z",
     "iopub.status.idle": "2025-05-18T19:29:34.684533Z",
     "shell.execute_reply": "2025-05-18T19:29:34.683784Z",
     "shell.execute_reply.started": "2025-05-18T19:29:34.671129Z"
    }
   },
   "outputs": [
    {
     "name": "stdout",
     "output_type": "stream",
     "text": [
      "\n",
      "Classification Report:\n",
      "              precision    recall  f1-score   support\n",
      "\n",
      "   Real News       0.99      1.00      1.00      5254\n",
      "   Fake News       1.00      0.99      1.00      5477\n",
      "\n",
      "    accuracy                           1.00     10731\n",
      "   macro avg       1.00      1.00      1.00     10731\n",
      "weighted avg       1.00      1.00      1.00     10731\n",
      "\n"
     ]
    }
   ],
   "source": [
    "# Print classification report\n",
    "print(\"\\nClassification Report:\")\n",
    "print(classification_report(labels, preds, target_names=['Real News', 'Fake News']))"
   ]
  },
  {
   "cell_type": "markdown",
   "id": "7d373622",
   "metadata": {},
   "source": [
    "## 11. Saving the Model\n",
    "\n",
    "To use our trained model in applications, we need to save it to disk.\n",
    "\n",
    "### Creating Save Path\n",
    "This defines where we'll store the model files."
   ]
  },
  {
   "cell_type": "code",
   "execution_count": 51,
   "id": "cf3e4c54",
   "metadata": {
    "execution": {
     "iopub.execute_input": "2025-05-18T19:29:34.685512Z",
     "iopub.status.busy": "2025-05-18T19:29:34.685284Z",
     "iopub.status.idle": "2025-05-18T19:29:34.691101Z",
     "shell.execute_reply": "2025-05-18T19:29:34.690420Z",
     "shell.execute_reply.started": "2025-05-18T19:29:34.685484Z"
    }
   },
   "outputs": [],
   "source": [
    "# Define model save path\n",
    "model_save_path = \"./distilbert_welfake_model\""
   ]
  },
  {
   "cell_type": "markdown",
   "id": "49d29544",
   "metadata": {},
   "source": [
    "### Saving Model and Tokenizer\n",
    "We need to save both the model weights and the tokenizer for inference."
   ]
  },
  {
   "cell_type": "code",
   "execution_count": 52,
   "id": "9d438919",
   "metadata": {
    "execution": {
     "iopub.execute_input": "2025-05-18T19:29:34.692000Z",
     "iopub.status.busy": "2025-05-18T19:29:34.691773Z",
     "iopub.status.idle": "2025-05-18T19:29:35.336572Z",
     "shell.execute_reply": "2025-05-18T19:29:35.335790Z",
     "shell.execute_reply.started": "2025-05-18T19:29:34.691985Z"
    }
   },
   "outputs": [],
   "source": [
    "# Save model\n",
    "trainer.save_model(model_save_path)"
   ]
  },
  {
   "cell_type": "code",
   "execution_count": 53,
   "id": "757da8d6",
   "metadata": {
    "execution": {
     "iopub.execute_input": "2025-05-18T19:29:35.337745Z",
     "iopub.status.busy": "2025-05-18T19:29:35.337466Z",
     "iopub.status.idle": "2025-05-18T19:29:35.356148Z",
     "shell.execute_reply": "2025-05-18T19:29:35.355469Z",
     "shell.execute_reply.started": "2025-05-18T19:29:35.337722Z"
    }
   },
   "outputs": [
    {
     "data": {
      "text/plain": [
       "('./distilbert_welfake_model/tokenizer_config.json',\n",
       " './distilbert_welfake_model/special_tokens_map.json',\n",
       " './distilbert_welfake_model/vocab.txt',\n",
       " './distilbert_welfake_model/added_tokens.json',\n",
       " './distilbert_welfake_model/tokenizer.json')"
      ]
     },
     "execution_count": 53,
     "metadata": {},
     "output_type": "execute_result"
    }
   ],
   "source": [
    "# Save tokenizer\n",
    "tokenizer.save_pretrained(model_save_path)"
   ]
  },
  {
   "cell_type": "code",
   "execution_count": 54,
   "id": "28eddf60",
   "metadata": {
    "execution": {
     "iopub.execute_input": "2025-05-18T19:29:35.357254Z",
     "iopub.status.busy": "2025-05-18T19:29:35.357017Z",
     "iopub.status.idle": "2025-05-18T19:29:35.361286Z",
     "shell.execute_reply": "2025-05-18T19:29:35.360605Z",
     "shell.execute_reply.started": "2025-05-18T19:29:35.357233Z"
    }
   },
   "outputs": [
    {
     "name": "stdout",
     "output_type": "stream",
     "text": [
      "Model saved to ./distilbert_welfake_model\n"
     ]
    }
   ],
   "source": [
    "print(f\"Model saved to {model_save_path}\")"
   ]
  },
  {
   "cell_type": "markdown",
   "id": "3fb4fe0f",
   "metadata": {},
   "source": [
    "## 12. Error Analysis\n",
    "\n",
    "Understanding where and why our model makes mistakes is crucial for improvement.\n",
    "\n",
    "### Finding Misclassified Examples\n",
    "Let's identify which examples the model got wrong."
   ]
  },
  {
   "cell_type": "code",
   "execution_count": 55,
   "id": "e39951ab",
   "metadata": {
    "execution": {
     "iopub.execute_input": "2025-05-18T19:29:35.363745Z",
     "iopub.status.busy": "2025-05-18T19:29:35.363542Z",
     "iopub.status.idle": "2025-05-18T19:29:35.373694Z",
     "shell.execute_reply": "2025-05-18T19:29:35.373064Z",
     "shell.execute_reply.started": "2025-05-18T19:29:35.363729Z"
    }
   },
   "outputs": [],
   "source": [
    "# Find misclassified examples\n",
    "misclassified_indices = np.where(preds != labels)[0]"
   ]
  },
  {
   "cell_type": "markdown",
   "id": "1e584ed5",
   "metadata": {},
   "source": [
    "### Creating a DataFrame of Errors\n",
    "This will help us analyze the misclassified examples."
   ]
  },
  {
   "cell_type": "code",
   "execution_count": 56,
   "id": "51bdf26e",
   "metadata": {
    "execution": {
     "iopub.execute_input": "2025-05-18T19:29:35.374699Z",
     "iopub.status.busy": "2025-05-18T19:29:35.374437Z",
     "iopub.status.idle": "2025-05-18T19:29:35.393107Z",
     "shell.execute_reply": "2025-05-18T19:29:35.392272Z",
     "shell.execute_reply.started": "2025-05-18T19:29:35.374674Z"
    }
   },
   "outputs": [],
   "source": [
    "# Create DataFrame of misclassified examples\n",
    "misclassified_df = test_df.iloc[misclassified_indices].reset_index(drop=True)"
   ]
  },
  {
   "cell_type": "markdown",
   "id": "f633109c",
   "metadata": {},
   "source": [
    "### Adding Predicted Labels\n",
    "We'll add the model's predictions to compare with the true labels."
   ]
  },
  {
   "cell_type": "code",
   "execution_count": 57,
   "id": "eca297c1",
   "metadata": {
    "execution": {
     "iopub.execute_input": "2025-05-18T19:29:35.394209Z",
     "iopub.status.busy": "2025-05-18T19:29:35.393990Z",
     "iopub.status.idle": "2025-05-18T19:29:35.406563Z",
     "shell.execute_reply": "2025-05-18T19:29:35.406010Z",
     "shell.execute_reply.started": "2025-05-18T19:29:35.394192Z"
    }
   },
   "outputs": [],
   "source": [
    "# Add prediction column\n",
    "misclassified_df['prediction'] = preds[misclassified_indices]"
   ]
  },
  {
   "cell_type": "markdown",
   "id": "0d4e9af7",
   "metadata": {},
   "source": [
    "### Counting Misclassifications\n",
    "Let's see how many examples were misclassified out of the total."
   ]
  },
  {
   "cell_type": "code",
   "execution_count": 58,
   "id": "42ac0aa1",
   "metadata": {
    "execution": {
     "iopub.execute_input": "2025-05-18T19:29:35.407671Z",
     "iopub.status.busy": "2025-05-18T19:29:35.407360Z",
     "iopub.status.idle": "2025-05-18T19:29:35.421854Z",
     "shell.execute_reply": "2025-05-18T19:29:35.421011Z",
     "shell.execute_reply.started": "2025-05-18T19:29:35.407618Z"
    }
   },
   "outputs": [
    {
     "name": "stdout",
     "output_type": "stream",
     "text": [
      "Total misclassified examples: 41\n"
     ]
    }
   ],
   "source": [
    "# Display number of misclassified examples\n",
    "print(f\"Total misclassified examples: {len(misclassified_df)}\")"
   ]
  },
  {
   "cell_type": "markdown",
   "id": "33cbec8e",
   "metadata": {},
   "source": [
    "### Examining Error Examples\n",
    "Looking at specific misclassified examples helps identify patterns in the model's errors."
   ]
  },
  {
   "cell_type": "code",
   "execution_count": 59,
   "id": "efed2e36",
   "metadata": {
    "execution": {
     "iopub.execute_input": "2025-05-18T19:29:35.422976Z",
     "iopub.status.busy": "2025-05-18T19:29:35.422710Z",
     "iopub.status.idle": "2025-05-18T19:29:35.441249Z",
     "shell.execute_reply": "2025-05-18T19:29:35.440443Z",
     "shell.execute_reply.started": "2025-05-18T19:29:35.422950Z"
    }
   },
   "outputs": [
    {
     "name": "stdout",
     "output_type": "stream",
     "text": [
      "\n",
      "Sample of misclassified examples:\n",
      "\n",
      "Example 1:\n",
      "Title: \"Top Five Clinton Donors Are Jewish\" - How Anti-Semitic Is This Fact?\n",
      "True label: Fake\n",
      "Predicted: Real\n",
      "--------------------------------------------------------------------------------\n",
      "\n",
      "Example 2:\n",
      "Title: US Abstains From UN Vote Against Cuba Embargo\n",
      "True label: Fake\n",
      "Predicted: Real\n",
      "--------------------------------------------------------------------------------\n",
      "\n",
      "Example 3:\n",
      "Title: Hillary Campaign Manager Gets $7K a Month from Hillary Donor Linked to Economic Collapse\n",
      "True label: Fake\n",
      "Predicted: Real\n",
      "--------------------------------------------------------------------------------\n",
      "\n",
      "Example 4:\n",
      "Title: Move To Drug Test Gun Owners In Open Carry States\n",
      "True label: Fake\n",
      "Predicted: Real\n",
      "--------------------------------------------------------------------------------\n",
      "\n",
      "Example 5:\n",
      "Title: Kevin MacDonald celebrates Trump’s Amazing Victory\n",
      "True label: Fake\n",
      "Predicted: Real\n",
      "--------------------------------------------------------------------------------\n"
     ]
    }
   ],
   "source": [
    "# Display sample of misclassified examples\n",
    "print(\"\\nSample of misclassified examples:\")\n",
    "for i in range(min(5, len(misclassified_df))):\n",
    "    print(f\"\\nExample {i+1}:\")\n",
    "    print(f\"Title: {misclassified_df.iloc[i]['title']}\")\n",
    "    print(f\"True label: {'Real' if misclassified_df.iloc[i]['label'] == 0 else 'Fake'}\")\n",
    "    print(f\"Predicted: {'Real' if misclassified_df.iloc[i]['prediction'] == 0 else 'Fake'}\")\n",
    "    print(\"-\" * 80)"
   ]
  },
  {
   "cell_type": "markdown",
   "id": "ec4e8eb6",
   "metadata": {},
   "source": [
    "## 13. Resource Usage Analysis\n",
    "\n",
    "For practical deployment, we need to understand the resource requirements of our model.\n",
    "\n",
    "### Model Size Calculation\n",
    "Let's measure the memory footprint of our model."
   ]
  },
  {
   "cell_type": "code",
   "execution_count": 60,
   "id": "895ad4ff",
   "metadata": {
    "execution": {
     "iopub.execute_input": "2025-05-18T19:29:35.442700Z",
     "iopub.status.busy": "2025-05-18T19:29:35.442020Z",
     "iopub.status.idle": "2025-05-18T19:29:35.453520Z",
     "shell.execute_reply": "2025-05-18T19:29:35.453008Z",
     "shell.execute_reply.started": "2025-05-18T19:29:35.442678Z"
    }
   },
   "outputs": [],
   "source": [
    "# Define function to calculate model size\n",
    "def get_model_size(model):\n",
    "    \"\"\"Calculate model size in MB\"\"\"\n",
    "    model_size = sum(p.numel() * p.element_size() for p in model.parameters()) / (1024 * 1024)\n",
    "    return model_size"
   ]
  },
  {
   "cell_type": "code",
   "execution_count": 61,
   "id": "7f6109ed",
   "metadata": {
    "execution": {
     "iopub.execute_input": "2025-05-18T19:29:35.454473Z",
     "iopub.status.busy": "2025-05-18T19:29:35.454281Z",
     "iopub.status.idle": "2025-05-18T19:29:35.469364Z",
     "shell.execute_reply": "2025-05-18T19:29:35.468603Z",
     "shell.execute_reply.started": "2025-05-18T19:29:35.454451Z"
    }
   },
   "outputs": [],
   "source": [
    "# Calculate model size\n",
    "model_size_mb = get_model_size(model)"
   ]
  },
  {
   "cell_type": "markdown",
   "id": "de512638",
   "metadata": {},
   "source": [
    "### Parameter Count\n",
    "The number of parameters affects both model size and computational requirements."
   ]
  },
  {
   "cell_type": "code",
   "execution_count": 62,
   "id": "90785c53",
   "metadata": {
    "execution": {
     "iopub.execute_input": "2025-05-18T19:29:35.470425Z",
     "iopub.status.busy": "2025-05-18T19:29:35.470166Z",
     "iopub.status.idle": "2025-05-18T19:29:35.483478Z",
     "shell.execute_reply": "2025-05-18T19:29:35.482783Z",
     "shell.execute_reply.started": "2025-05-18T19:29:35.470404Z"
    }
   },
   "outputs": [],
   "source": [
    "# Calculate parameter count\n",
    "param_count = sum(p.numel() for p in model.parameters())"
   ]
  },
  {
   "cell_type": "markdown",
   "id": "5401f436",
   "metadata": {},
   "source": [
    "### Printing Size Statistics\n",
    "Let's summarize the model's resource usage."
   ]
  },
  {
   "cell_type": "code",
   "execution_count": 63,
   "id": "2c30350b",
   "metadata": {
    "execution": {
     "iopub.execute_input": "2025-05-18T19:29:35.484268Z",
     "iopub.status.busy": "2025-05-18T19:29:35.484105Z",
     "iopub.status.idle": "2025-05-18T19:29:35.498423Z",
     "shell.execute_reply": "2025-05-18T19:29:35.497690Z",
     "shell.execute_reply.started": "2025-05-18T19:29:35.484247Z"
    }
   },
   "outputs": [
    {
     "name": "stdout",
     "output_type": "stream",
     "text": [
      "\n",
      "Model Analysis:\n",
      "Parameter count: 66,955,010\n",
      "Model size: 255.41 MB\n"
     ]
    }
   ],
   "source": [
    "# Print model size statistics\n",
    "print(f\"\\nModel Analysis:\")\n",
    "print(f\"Parameter count: {param_count:,}\")\n",
    "print(f\"Model size: {model_size_mb:.2f} MB\")"
   ]
  },
  {
   "cell_type": "markdown",
   "id": "7bd24be7",
   "metadata": {},
   "source": [
    "### Measuring Inference Time\n",
    "Inference speed is critical for real-time applications."
   ]
  },
  {
   "cell_type": "code",
   "execution_count": 64,
   "id": "6a4049c2",
   "metadata": {
    "execution": {
     "iopub.execute_input": "2025-05-18T19:29:35.499492Z",
     "iopub.status.busy": "2025-05-18T19:29:35.499153Z",
     "iopub.status.idle": "2025-05-18T19:29:35.511409Z",
     "shell.execute_reply": "2025-05-18T19:29:35.510886Z",
     "shell.execute_reply.started": "2025-05-18T19:29:35.499464Z"
    }
   },
   "outputs": [],
   "source": [
    "# Define function to measure inference time\n",
    "def measure_inference_time(model, dataset, batch_size=1, num_samples=100):\n",
    "    \"\"\"\n",
    "    Measure average inference time per sample at different batch sizes.\n",
    "    \n",
    "    Args:\n",
    "        model: The model to evaluate\n",
    "        dataset: The dataset to use for inference\n",
    "        batch_size: Batch size for inference\n",
    "        num_samples: Number of samples to process\n",
    "        \n",
    "    Returns:\n",
    "        Average inference time per sample in milliseconds\n",
    "    \"\"\"\n",
    "    model.eval()\n",
    "    dataloader = torch.utils.data.DataLoader(\n",
    "        dataset.select(range(min(num_samples, len(dataset)))), \n",
    "        batch_size=batch_size\n",
    "    )\n",
    "    \n",
    "    total_time = 0\n",
    "    sample_count = 0\n",
    "    \n",
    "    with torch.no_grad():\n",
    "        for batch in dataloader:\n",
    "            # Move batch to device\n",
    "            batch = {k: v.to(device) for k, v in batch.items()}\n",
    "            \n",
    "            start_time = time.time()\n",
    "            _ = model(input_ids=batch['input_ids'], attention_mask=batch['attention_mask'])\n",
    "            batch_time = time.time() - start_time\n",
    "            \n",
    "            total_time += batch_time\n",
    "            sample_count += batch['input_ids'].size(0)\n",
    "    \n",
    "    avg_time_per_sample = (total_time / sample_count) * 1000  # Convert to ms\n",
    "    return avg_time_per_sample"
   ]
  },
  {
   "cell_type": "markdown",
   "id": "fb06ff33",
   "metadata": {},
   "source": [
    "### Testing Different Batch Sizes\n",
    "Measuring inference time with different batch sizes helps optimize deployment."
   ]
  },
  {
   "cell_type": "code",
   "execution_count": 65,
   "id": "eac33e47",
   "metadata": {
    "execution": {
     "iopub.execute_input": "2025-05-18T19:29:35.512201Z",
     "iopub.status.busy": "2025-05-18T19:29:35.512025Z",
     "iopub.status.idle": "2025-05-18T19:29:37.140834Z",
     "shell.execute_reply": "2025-05-18T19:29:37.140184Z",
     "shell.execute_reply.started": "2025-05-18T19:29:35.512187Z"
    }
   },
   "outputs": [
    {
     "name": "stdout",
     "output_type": "stream",
     "text": [
      "Average inference time (batch size 1): 4.51 ms per sample\n"
     ]
    }
   ],
   "source": [
    "# Measure inference time for batch size 1\n",
    "bs1_time = measure_inference_time(model, tokenized_test, batch_size=1)\n",
    "print(f\"Average inference time (batch size 1): {bs1_time:.2f} ms per sample\")"
   ]
  },
  {
   "cell_type": "code",
   "execution_count": 66,
   "id": "064f3237",
   "metadata": {
    "execution": {
     "iopub.execute_input": "2025-05-18T19:29:37.141700Z",
     "iopub.status.busy": "2025-05-18T19:29:37.141477Z",
     "iopub.status.idle": "2025-05-18T19:29:38.499984Z",
     "shell.execute_reply": "2025-05-18T19:29:38.499146Z",
     "shell.execute_reply.started": "2025-05-18T19:29:37.141683Z"
    }
   },
   "outputs": [
    {
     "name": "stdout",
     "output_type": "stream",
     "text": [
      "Average inference time (batch size 8): 0.59 ms per sample\n"
     ]
    }
   ],
   "source": [
    "# Measure inference time for batch size 8\n",
    "bs8_time = measure_inference_time(model, tokenized_test, batch_size=8)\n",
    "print(f\"Average inference time (batch size 8): {bs8_time:.2f} ms per sample\")"
   ]
  },
  {
   "cell_type": "code",
   "execution_count": 67,
   "id": "38bc70cf",
   "metadata": {
    "execution": {
     "iopub.execute_input": "2025-05-18T19:29:38.501236Z",
     "iopub.status.busy": "2025-05-18T19:29:38.500959Z",
     "iopub.status.idle": "2025-05-18T19:29:40.000115Z",
     "shell.execute_reply": "2025-05-18T19:29:39.999338Z",
     "shell.execute_reply.started": "2025-05-18T19:29:38.501210Z"
    }
   },
   "outputs": [
    {
     "name": "stdout",
     "output_type": "stream",
     "text": [
      "Average inference time (batch size 32): 0.24 ms per sample\n"
     ]
    }
   ],
   "source": [
    "# Measure inference time for batch size 32\n",
    "bs32_time = measure_inference_time(model, tokenized_test, batch_size=32)\n",
    "print(f\"Average inference time (batch size 32): {bs32_time:.2f} ms per sample\")"
   ]
  },
  {
   "cell_type": "markdown",
   "id": "fe2c33bd",
   "metadata": {},
   "source": [
    "## 14. Conclusion and Performance Analysis\n",
    "\n",
    "Our DistilBERT model achieved excellent performance on the fake news detection task. This is particularly impressive considering the model's reduced size compared to BERT-base.\n",
    "\n",
    "### Understanding the Results\n",
    "\n",
    "Looking at the confusion matrix and classification report, we can analyze:\n",
    "\n",
    "1. **True Positives (Fake News correctly identified)**\n",
    "2. **True Negatives (Real News correctly identified)**\n",
    "3. **False Positives (Real News misclassified as Fake)**\n",
    "4. **False Negatives (Fake News misclassified as Real)**\n",
    "\n",
    "The model's tendency to misclassify in one direction more than another is an important consideration for practical applications, as false negatives (missing fake news) might be more concerning than false positives in certain contexts.\n",
    "\n",
    "### Efficiency Analysis\n",
    "\n",
    "The model demonstrates efficient metrics:\n",
    "\n",
    "1. **Model Size**: Approximately 250 MB (66 million parameters)\n",
    "2. **Training Time**: To be measured during execution\n",
    "3. **Inference Speed**: To be measured during execution\n",
    "\n",
    "This efficiency is a direct result of using DistilBERT, which is approximately 40% smaller than BERT-base (which has 110M parameters) but achieves 97% of BERT's performance through knowledge distillation.\n",
    "\n",
    "### Comparison with Traditional Models\n",
    "\n",
    "Compared to traditional machine learning approaches (Logistic Regression and Random Forest with TF-IDF features) discussed in the baseline models document, DistilBERT is expected to show superior performance. The typical performance improvement of transformer-based models over traditional approaches demonstrates their power in capturing complex linguistic patterns and contextual relationships that traditional bag-of-words approaches miss.\n",
    "\n",
    "## 15. Next Steps and Practical Applications\n",
    "\n",
    "Our DistilBERT model for fake news detection shows great promise for real-world applications. Here are several directions for future work:\n",
    "\n",
    "### Deployment Considerations\n",
    "\n",
    "1. **API Development**: Create a simple REST API for real-time fake news detection\n",
    "2. **Mobile Deployment**: Package the model for on-device inference on smartphones\n",
    "3. **Browser Extension**: Develop a browser plugin that can analyze news articles as users browse\n",
    "\n",
    "### Explainability\n",
    "\n",
    "1. **Attention Visualization**: Analyze which parts of articles the model focuses on when making predictions\n",
    "2. **Feature Importance**: Identify which words or phrases most strongly influence classification\n",
    "3. **User-Friendly Explanations**: Develop ways to explain why an article was classified as fake or real\n",
    "\n",
    "By leveraging DistilBERT's efficiency and accuracy, we can create practical tools that help combat the spread of misinformation while maintaining reasonable computational requirements."
   ]
  }
 ],
 "metadata": {
  "jupytext": {
   "cell_metadata_filter": "-all",
   "main_language": "python",
   "notebook_metadata_filter": "-all"
  },
  "kaggle": {
   "accelerator": "nvidiaTeslaT4",
   "dataSources": [
    {
     "datasetId": 7453450,
     "sourceId": 11861402,
     "sourceType": "datasetVersion"
    }
   ],
   "dockerImageVersionId": 31041,
   "isGpuEnabled": true,
   "isInternetEnabled": true,
   "language": "python",
   "sourceType": "notebook"
  },
  "kernelspec": {
   "display_name": "Python 3 (ipykernel)",
   "language": "python",
   "name": "python3"
  },
  "language_info": {
   "codemirror_mode": {
    "name": "ipython",
    "version": 3
   },
   "file_extension": ".py",
   "mimetype": "text/x-python",
   "name": "python",
   "nbconvert_exporter": "python",
   "pygments_lexer": "ipython3",
   "version": "3.12.1"
  }
 },
 "nbformat": 4,
 "nbformat_minor": 5
}
