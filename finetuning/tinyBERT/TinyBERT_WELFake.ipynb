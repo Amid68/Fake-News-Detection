{
 "cells": [
  {
   "cell_type": "markdown",
   "id": "c51c200d",
   "metadata": {},
   "source": [
    "# TinyBERT for Fake News Detection - Unified Training Pipeline\n",
    "\n",
    "## 1. Introduction\n",
    "\n",
    "This notebook demonstrates how to fine-tune TinyBERT for fake news detection using our standardized train/validation/test splits. By using the same data splits across all models in our comparison study, we ensure that performance differences reflect genuine model capabilities rather than variations in data distribution.\n",
    "\n",
    "TinyBERT is an efficient transformer model created through knowledge distillation from BERT. With approximately 15 million parameters (about 7.5x smaller than BERT-base), it maintains strong performance while being suitable for resource-constrained environments like mobile devices or edge computing platforms.\n",
    "\n",
    "### Why Unified Data Splits Matter\n",
    "\n",
    "When comparing different model architectures - from simple logistic regression to complex transformers - using identical train/validation/test splits is crucial for scientific rigor. This approach ensures that:\n",
    "\n",
    "- Performance differences reflect model architecture capabilities, not lucky data distributions\n",
    "- All models face identical challenges in terms of data complexity and class balance\n",
    "- Results are reproducible and comparable across different modeling approaches\n",
    "- We avoid the confounding variable of different data splits affecting our conclusions\n",
    "\n",
    "### TinyBERT's Architectural Advantages\n",
    "\n",
    "TinyBERT achieves its efficiency through sophisticated knowledge distillation techniques where a smaller \"student\" model learns to mimic the behavior of a larger \"teacher\" model. This process allows TinyBERT to capture much of BERT's language understanding while requiring significantly fewer computational resources.\n",
    "\n",
    "## 2. Environment Setup\n",
    "\n",
    "We'll set up our environment with the necessary libraries for transformer fine-tuning and evaluation."
   ]
  },
  {
   "cell_type": "code",
   "execution_count": 1,
   "id": "910ecfec",
   "metadata": {
    "execution": {
     "iopub.execute_input": "2025-06-04T09:59:40.591381Z",
     "iopub.status.busy": "2025-06-04T09:59:40.591066Z",
     "iopub.status.idle": "2025-06-04T09:59:41.425651Z",
     "shell.execute_reply": "2025-06-04T09:59:41.425103Z",
     "shell.execute_reply.started": "2025-06-04T09:59:40.591346Z"
    }
   },
   "outputs": [],
   "source": [
    "# Import basic utilities for data handling and visualization\n",
    "import pandas as pd\n",
    "import numpy as np\n",
    "import matplotlib.pyplot as plt\n",
    "import seaborn as sns\n",
    "import time\n",
    "import os\n",
    "import random\n",
    "import warnings\n",
    "warnings.filterwarnings('ignore')"
   ]
  },
  {
   "cell_type": "code",
   "execution_count": 2,
   "id": "73f5a8b1",
   "metadata": {
    "execution": {
     "iopub.execute_input": "2025-06-04T09:59:41.427091Z",
     "iopub.status.busy": "2025-06-04T09:59:41.426791Z",
     "iopub.status.idle": "2025-06-04T09:59:43.097925Z",
     "shell.execute_reply": "2025-06-04T09:59:43.096933Z",
     "shell.execute_reply.started": "2025-06-04T09:59:41.427067Z"
    }
   },
   "outputs": [],
   "source": [
    "# Import PyTorch for deep learning operations\n",
    "import torch\n",
    "from torch.utils.data import DataLoader, TensorDataset"
   ]
  },
  {
   "cell_type": "code",
   "execution_count": 3,
   "id": "e24c6bb6",
   "metadata": {
    "execution": {
     "iopub.execute_input": "2025-06-04T09:59:43.098884Z",
     "iopub.status.busy": "2025-06-04T09:59:43.098559Z",
     "iopub.status.idle": "2025-06-04T09:59:49.002599Z",
     "shell.execute_reply": "2025-06-04T09:59:49.001845Z",
     "shell.execute_reply.started": "2025-06-04T09:59:43.098865Z"
    }
   },
   "outputs": [
    {
     "name": "stderr",
     "output_type": "stream",
     "text": [
      "2025-06-04 09:59:45.928804: E external/local_xla/xla/stream_executor/cuda/cuda_fft.cc:477] Unable to register cuFFT factory: Attempting to register factory for plugin cuFFT when one has already been registered\n",
      "WARNING: All log messages before absl::InitializeLog() is called are written to STDERR\n",
      "E0000 00:00:1749031185.951235    9438 cuda_dnn.cc:8310] Unable to register cuDNN factory: Attempting to register factory for plugin cuDNN when one has already been registered\n",
      "E0000 00:00:1749031185.958096    9438 cuda_blas.cc:1418] Unable to register cuBLAS factory: Attempting to register factory for plugin cuBLAS when one has already been registered\n"
     ]
    }
   ],
   "source": [
    "# Import Hugging Face transformers for pre-trained models\n",
    "from transformers import AutoTokenizer, AutoModelForSequenceClassification\n",
    "from transformers import Trainer, TrainingArguments\n",
    "from transformers import EarlyStoppingCallback\n",
    "from datasets import Dataset"
   ]
  },
  {
   "cell_type": "code",
   "execution_count": 4,
   "id": "ff707e1d",
   "metadata": {
    "execution": {
     "iopub.execute_input": "2025-06-04T09:59:49.003839Z",
     "iopub.status.busy": "2025-06-04T09:59:49.003370Z",
     "iopub.status.idle": "2025-06-04T09:59:49.007495Z",
     "shell.execute_reply": "2025-06-04T09:59:49.006707Z",
     "shell.execute_reply.started": "2025-06-04T09:59:49.003819Z"
    }
   },
   "outputs": [],
   "source": [
    "# Import evaluation metrics for performance assessment\n",
    "from sklearn.metrics import accuracy_score, precision_recall_fscore_support\n",
    "from sklearn.metrics import classification_report, confusion_matrix"
   ]
  },
  {
   "cell_type": "code",
   "execution_count": 5,
   "id": "00310f53",
   "metadata": {
    "execution": {
     "iopub.execute_input": "2025-06-04T09:59:49.009584Z",
     "iopub.status.busy": "2025-06-04T09:59:49.009359Z",
     "iopub.status.idle": "2025-06-04T09:59:49.027206Z",
     "shell.execute_reply": "2025-06-04T09:59:49.026635Z",
     "shell.execute_reply.started": "2025-06-04T09:59:49.009568Z"
    }
   },
   "outputs": [],
   "source": [
    "# Set up reproducible random seeds for consistent results\n",
    "def set_seed(seed_value=42):\n",
    "    \"\"\"\n",
    "    Set seeds for all random number generators to ensure reproducibility.\n",
    "    This affects Python's random module, NumPy, and PyTorch operations.\n",
    "    \"\"\"\n",
    "    random.seed(seed_value)\n",
    "    np.random.seed(seed_value)\n",
    "    torch.manual_seed(seed_value)\n",
    "    torch.cuda.manual_seed_all(seed_value)\n",
    "    os.environ['PYTHONHASHSEED'] = str(seed_value)\n",
    "    os.environ[\"TOKENIZERS_PARALLELISM\"] = \"false\"\n",
    "    torch.backends.cudnn.deterministic = True\n",
    "\n",
    "# Apply consistent random seed\n",
    "set_seed(42)"
   ]
  },
  {
   "cell_type": "code",
   "execution_count": 6,
   "id": "384f573c",
   "metadata": {
    "execution": {
     "iopub.execute_input": "2025-06-04T09:59:49.028411Z",
     "iopub.status.busy": "2025-06-04T09:59:49.027892Z",
     "iopub.status.idle": "2025-06-04T09:59:49.046257Z",
     "shell.execute_reply": "2025-06-04T09:59:49.045726Z",
     "shell.execute_reply.started": "2025-06-04T09:59:49.028394Z"
    }
   },
   "outputs": [],
   "source": [
    "# Configure visualization settings for clear, readable plots\n",
    "plt.style.use('ggplot')\n",
    "sns.set(font_scale=1.2)\n",
    "plt.rcParams['figure.figsize'] = (10, 6)"
   ]
  },
  {
   "cell_type": "code",
   "execution_count": 7,
   "id": "9324f041",
   "metadata": {
    "execution": {
     "iopub.execute_input": "2025-06-04T09:59:49.047129Z",
     "iopub.status.busy": "2025-06-04T09:59:49.046859Z",
     "iopub.status.idle": "2025-06-04T09:59:49.063848Z",
     "shell.execute_reply": "2025-06-04T09:59:49.063149Z",
     "shell.execute_reply.started": "2025-06-04T09:59:49.047107Z"
    }
   },
   "outputs": [
    {
     "name": "stdout",
     "output_type": "stream",
     "text": [
      "Using device: cuda\n",
      "GPU: Tesla T4\n"
     ]
    }
   ],
   "source": [
    "# Determine available computational device\n",
    "device = torch.device(\"cuda\" if torch.cuda.is_available() else \"cpu\")\n",
    "print(f\"Using device: {device}\")\n",
    "if torch.cuda.is_available():\n",
    "    print(f\"GPU: {torch.cuda.get_device_name(0)}\")"
   ]
  },
  {
   "cell_type": "markdown",
   "id": "db4bf02c",
   "metadata": {},
   "source": [
    "## 3. Loading Standardized Data Splits\n",
    "\n",
    "Instead of creating our own data splits, we'll load the carefully prepared train/validation/test splits that ensure fair comparison across all models in our study."
   ]
  },
  {
   "cell_type": "code",
   "execution_count": 8,
   "id": "7abf9dae",
   "metadata": {
    "execution": {
     "iopub.execute_input": "2025-06-04T09:59:49.064744Z",
     "iopub.status.busy": "2025-06-04T09:59:49.064515Z",
     "iopub.status.idle": "2025-06-04T09:59:55.272869Z",
     "shell.execute_reply": "2025-06-04T09:59:55.271581Z",
     "shell.execute_reply.started": "2025-06-04T09:59:49.064715Z"
    }
   },
   "outputs": [
    {
     "name": "stdout",
     "output_type": "stream",
     "text": [
      "Loading standardized train/validation/test splits...\n",
      "Training set: 50,075 samples\n",
      "Validation set: 10,731 samples\n",
      "Test set: 10,731 samples\n"
     ]
    }
   ],
   "source": [
    "# Load the standardized data splits created for model comparison\n",
    "print(\"Loading standardized train/validation/test splits...\")\n",
    "\n",
    "train_df = pd.read_csv('/kaggle/input/welfake-clean-split/train.csv')\n",
    "val_df = pd.read_csv('/kaggle/input/welfake-clean-split/validation.csv')\n",
    "test_df = pd.read_csv('/kaggle/input/welfake-clean-split/test.csv')\n",
    "\n",
    "print(f\"Training set: {len(train_df):,} samples\")\n",
    "print(f\"Validation set: {len(val_df):,} samples\")\n",
    "print(f\"Test set: {len(test_df):,} samples\")"
   ]
  },
  {
   "cell_type": "code",
   "execution_count": 9,
   "id": "4f4f4f37",
   "metadata": {
    "execution": {
     "iopub.execute_input": "2025-06-04T09:59:55.274041Z",
     "iopub.status.busy": "2025-06-04T09:59:55.273791Z",
     "iopub.status.idle": "2025-06-04T09:59:55.279812Z",
     "shell.execute_reply": "2025-06-04T09:59:55.278991Z",
     "shell.execute_reply.started": "2025-06-04T09:59:55.274022Z"
    }
   },
   "outputs": [
    {
     "name": "stdout",
     "output_type": "stream",
     "text": [
      "\n",
      "Class balance verification:\n",
      "Train set: 51.0% fake news\n",
      "Validation set: 51.0% fake news\n",
      "Test set: 51.0% fake news\n"
     ]
    }
   ],
   "source": [
    "# Verify class balance across splits to ensure fair evaluation\n",
    "print(\"\\nClass balance verification:\")\n",
    "for name, df in [('Train', train_df), ('Validation', val_df), ('Test', test_df)]:\n",
    "    fake_ratio = df['label'].mean()\n",
    "    print(f\"{name} set: {fake_ratio:.1%} fake news\")"
   ]
  },
  {
   "cell_type": "markdown",
   "id": "252265a1",
   "metadata": {},
   "source": [
    "The consistent class balance across all splits (approximately 51% fake news) ensures that our model faces the same classification challenge during training, validation, and testing phases.\n",
    "\n",
    "## 4. Data Preprocessing for TinyBERT\n",
    "\n",
    "Transformer models require specific text preprocessing and tokenization. We'll prepare our data in the format expected by TinyBERT while maintaining consistency with our standardized splits."
   ]
  },
  {
   "cell_type": "code",
   "execution_count": 10,
   "id": "ec02d567",
   "metadata": {
    "execution": {
     "iopub.execute_input": "2025-06-04T09:59:55.281105Z",
     "iopub.status.busy": "2025-06-04T09:59:55.280843Z",
     "iopub.status.idle": "2025-06-04T09:59:57.498569Z",
     "shell.execute_reply": "2025-06-04T09:59:57.497812Z",
     "shell.execute_reply.started": "2025-06-04T09:59:55.281081Z"
    }
   },
   "outputs": [
    {
     "name": "stdout",
     "output_type": "stream",
     "text": [
      "Data converted to Hugging Face Dataset format\n"
     ]
    }
   ],
   "source": [
    "# Convert pandas DataFrames to Hugging Face Dataset format for efficient processing\n",
    "train_dataset = Dataset.from_pandas(train_df[['combined_text', 'label']])\n",
    "val_dataset = Dataset.from_pandas(val_df[['combined_text', 'label']])\n",
    "test_dataset = Dataset.from_pandas(test_df[['combined_text', 'label']])\n",
    "\n",
    "print(\"Data converted to Hugging Face Dataset format\")"
   ]
  },
  {
   "cell_type": "code",
   "execution_count": 11,
   "id": "b13fe0a2",
   "metadata": {
    "execution": {
     "iopub.execute_input": "2025-06-04T09:59:57.499525Z",
     "iopub.status.busy": "2025-06-04T09:59:57.499331Z",
     "iopub.status.idle": "2025-06-04T09:59:57.801878Z",
     "shell.execute_reply": "2025-06-04T09:59:57.801146Z",
     "shell.execute_reply.started": "2025-06-04T09:59:57.499509Z"
    }
   },
   "outputs": [
    {
     "name": "stdout",
     "output_type": "stream",
     "text": [
      "TinyBERT tokenizer loaded successfully\n"
     ]
    }
   ],
   "source": [
    "# Load TinyBERT tokenizer - this handles text-to-token conversion\n",
    "tokenizer = AutoTokenizer.from_pretrained(\"huawei-noah/TinyBERT_General_4L_312D\")\n",
    "print(\"TinyBERT tokenizer loaded successfully\")"
   ]
  },
  {
   "cell_type": "code",
   "execution_count": 12,
   "id": "6370d251",
   "metadata": {
    "execution": {
     "iopub.execute_input": "2025-06-04T09:59:57.802850Z",
     "iopub.status.busy": "2025-06-04T09:59:57.802600Z",
     "iopub.status.idle": "2025-06-04T09:59:57.807114Z",
     "shell.execute_reply": "2025-06-04T09:59:57.806463Z",
     "shell.execute_reply.started": "2025-06-04T09:59:57.802832Z"
    }
   },
   "outputs": [],
   "source": [
    "def tokenize_function(examples):\n",
    "    \"\"\"\n",
    "    Tokenize text data for TinyBERT with appropriate padding and truncation.\n",
    "    \n",
    "    This function converts raw text into the numerical token format that \n",
    "    TinyBERT expects, handling variable-length articles by padding shorter \n",
    "    texts and truncating longer ones to a consistent length.\n",
    "    \n",
    "    Args:\n",
    "        examples: Dictionary containing text examples from the dataset\n",
    "        \n",
    "    Returns:\n",
    "        Dictionary with tokenized inputs ready for model training\n",
    "    \"\"\"\n",
    "    return tokenizer(\n",
    "        examples[\"combined_text\"],\n",
    "        padding=\"max_length\",    # Pad shorter texts to uniform length\n",
    "        truncation=True,         # Truncate longer texts to fit model limits\n",
    "        max_length=512,          # Standard length for BERT-family models\n",
    "    )"
   ]
  },
  {
   "cell_type": "code",
   "execution_count": 13,
   "id": "b5ba61f7",
   "metadata": {
    "execution": {
     "iopub.execute_input": "2025-06-04T09:59:57.808092Z",
     "iopub.status.busy": "2025-06-04T09:59:57.807850Z",
     "iopub.status.idle": "2025-06-04T10:02:36.358400Z",
     "shell.execute_reply": "2025-06-04T10:02:36.357754Z",
     "shell.execute_reply.started": "2025-06-04T09:59:57.808069Z"
    }
   },
   "outputs": [
    {
     "name": "stdout",
     "output_type": "stream",
     "text": [
      "Tokenizing datasets...\n"
     ]
    },
    {
     "data": {
      "application/vnd.jupyter.widget-view+json": {
       "model_id": "53400499d8ee4a4c89ecccdb3a137f0c",
       "version_major": 2,
       "version_minor": 0
      },
      "text/plain": [
       "Map:   0%|          | 0/50075 [00:00<?, ? examples/s]"
      ]
     },
     "metadata": {},
     "output_type": "display_data"
    },
    {
     "data": {
      "application/vnd.jupyter.widget-view+json": {
       "model_id": "0218162d879947608398a8576724fb5a",
       "version_major": 2,
       "version_minor": 0
      },
      "text/plain": [
       "Map:   0%|          | 0/10731 [00:00<?, ? examples/s]"
      ]
     },
     "metadata": {},
     "output_type": "display_data"
    },
    {
     "data": {
      "application/vnd.jupyter.widget-view+json": {
       "model_id": "d384b99324824a189d2824303c683b67",
       "version_major": 2,
       "version_minor": 0
      },
      "text/plain": [
       "Map:   0%|          | 0/10731 [00:00<?, ? examples/s]"
      ]
     },
     "metadata": {},
     "output_type": "display_data"
    },
    {
     "name": "stdout",
     "output_type": "stream",
     "text": [
      "Tokenization complete - data ready for model training\n"
     ]
    }
   ],
   "source": [
    "# Apply tokenization to all datasets\n",
    "print(\"Tokenizing datasets...\")\n",
    "\n",
    "tokenized_train = train_dataset.map(tokenize_function, batched=True)\n",
    "tokenized_val = val_dataset.map(tokenize_function, batched=True)\n",
    "tokenized_test = test_dataset.map(tokenize_function, batched=True)\n",
    "\n",
    "# Set format for PyTorch compatibility\n",
    "tokenized_train.set_format(\"torch\", columns=[\"input_ids\", \"attention_mask\", \"label\"])\n",
    "tokenized_val.set_format(\"torch\", columns=[\"input_ids\", \"attention_mask\", \"label\"])\n",
    "tokenized_test.set_format(\"torch\", columns=[\"input_ids\", \"attention_mask\", \"label\"])\n",
    "\n",
    "print(\"Tokenization complete - data ready for model training\")"
   ]
  },
  {
   "cell_type": "markdown",
   "id": "1740701b",
   "metadata": {},
   "source": [
    "## 5. TinyBERT Model Configuration\n",
    "\n",
    "Now we'll load and configure TinyBERT for our binary classification task, optimizing the training parameters for this specific model architecture."
   ]
  },
  {
   "cell_type": "code",
   "execution_count": 14,
   "id": "799d8ff0",
   "metadata": {
    "execution": {
     "iopub.execute_input": "2025-06-04T10:02:36.361847Z",
     "iopub.status.busy": "2025-06-04T10:02:36.361425Z",
     "iopub.status.idle": "2025-06-04T10:02:36.775352Z",
     "shell.execute_reply": "2025-06-04T10:02:36.772358Z",
     "shell.execute_reply.started": "2025-06-04T10:02:36.361826Z"
    }
   },
   "outputs": [
    {
     "name": "stderr",
     "output_type": "stream",
     "text": [
      "Some weights of BertForSequenceClassification were not initialized from the model checkpoint at huawei-noah/TinyBERT_General_4L_312D and are newly initialized: ['classifier.bias', 'classifier.weight']\n",
      "You should probably TRAIN this model on a down-stream task to be able to use it for predictions and inference.\n"
     ]
    },
    {
     "name": "stdout",
     "output_type": "stream",
     "text": [
      "TinyBERT model loaded successfully\n",
      "Parameters: 14,350,874\n",
      "Model size: 54.74 MB\n"
     ]
    }
   ],
   "source": [
    "# Load pre-trained TinyBERT model and adapt it for binary classification\n",
    "model = AutoModelForSequenceClassification.from_pretrained(\n",
    "    \"huawei-noah/TinyBERT_General_4L_312D\",\n",
    "    num_labels=2  # Binary classification: real (0) or fake (1) news\n",
    ")\n",
    "\n",
    "# Move model to appropriate device (GPU if available)\n",
    "model.to(device)\n",
    "\n",
    "# Calculate model statistics for resource planning\n",
    "num_params = sum(p.numel() for p in model.parameters())\n",
    "param_size = sum(p.nelement() * p.element_size() for p in model.parameters()) / (1024 * 1024)\n",
    "\n",
    "print(f\"TinyBERT model loaded successfully\")\n",
    "print(f\"Parameters: {num_params:,}\")\n",
    "print(f\"Model size: {param_size:.2f} MB\")"
   ]
  },
  {
   "cell_type": "markdown",
   "id": "9d996842",
   "metadata": {},
   "source": [
    "Understanding TinyBERT's compact size helps us appreciate why it's suitable for deployment scenarios where computational resources are limited. At approximately 55 MB and 14 million parameters, it's substantially more efficient than full BERT while maintaining strong performance.\n",
    "\n",
    "## 6. Training Configuration Optimized for TinyBERT\n",
    "\n",
    "TinyBERT's distilled nature allows for specific training optimizations that differ from training BERT from scratch. We'll configure training parameters that leverage TinyBERT's pre-learned knowledge effectively."
   ]
  },
  {
   "cell_type": "code",
   "execution_count": 15,
   "id": "a2555bc6",
   "metadata": {
    "execution": {
     "iopub.execute_input": "2025-06-04T10:02:36.776442Z",
     "iopub.status.busy": "2025-06-04T10:02:36.776191Z",
     "iopub.status.idle": "2025-06-04T10:02:36.780792Z",
     "shell.execute_reply": "2025-06-04T10:02:36.780049Z",
     "shell.execute_reply.started": "2025-06-04T10:02:36.776416Z"
    }
   },
   "outputs": [],
   "source": [
    "def compute_metrics(eval_pred):\n",
    "    \"\"\"\n",
    "    Compute comprehensive evaluation metrics during training.\n",
    "    \n",
    "    This function calculates multiple performance indicators that help us\n",
    "    monitor training progress and make informed decisions about model quality.\n",
    "    \n",
    "    Args:\n",
    "        eval_pred: Tuple of (predictions, true_labels) from model evaluation\n",
    "        \n",
    "    Returns:\n",
    "        Dictionary containing accuracy, precision, recall, and F1 score\n",
    "    \"\"\"\n",
    "    predictions, labels = eval_pred\n",
    "    predictions = np.argmax(predictions, axis=1)\n",
    "    \n",
    "    # Calculate accuracy - overall correctness rate\n",
    "    accuracy = accuracy_score(labels, predictions)\n",
    "    \n",
    "    # Calculate precision, recall, and F1 with weighted averaging\n",
    "    # Weighted averaging accounts for class imbalance in our dataset\n",
    "    precision, recall, f1, _ = precision_recall_fscore_support(\n",
    "        labels, predictions, average='weighted'\n",
    "    )\n",
    "    \n",
    "    return {\n",
    "        'accuracy': accuracy,\n",
    "        'precision': precision,\n",
    "        'recall': recall,\n",
    "        'f1': f1\n",
    "    }"
   ]
  },
  {
   "cell_type": "code",
   "execution_count": 16,
   "id": "24c8d024",
   "metadata": {
    "execution": {
     "iopub.execute_input": "2025-06-04T10:02:36.781809Z",
     "iopub.status.busy": "2025-06-04T10:02:36.781598Z",
     "iopub.status.idle": "2025-06-04T10:02:36.826226Z",
     "shell.execute_reply": "2025-06-04T10:02:36.825733Z",
     "shell.execute_reply.started": "2025-06-04T10:02:36.781792Z"
    }
   },
   "outputs": [],
   "source": [
    "# Configure training arguments optimized for TinyBERT's architecture\n",
    "training_args = TrainingArguments(\n",
    "    output_dir=\"./results/tinybert_welfake_unified\",\n",
    "    \n",
    "    # Evaluation strategy - monitor performance throughout training\n",
    "    eval_strategy=\"epoch\",              # Evaluate after each complete epoch\n",
    "    save_strategy=\"epoch\",              # Save model checkpoints after each epoch\n",
    "    \n",
    "    # Learning rate configuration for distilled models\n",
    "    learning_rate=1e-4,                 # Higher than typical BERT due to distillation\n",
    "    warmup_steps=500,                   # Gradual learning rate warmup\n",
    "    \n",
    "    # Batch size configuration\n",
    "    per_device_train_batch_size=16,     # Training batch size\n",
    "    per_device_eval_batch_size=64,      # Larger evaluation batches for efficiency\n",
    "    gradient_accumulation_steps=2,       # Effective batch size of 32\n",
    "    \n",
    "    # Training duration and convergence\n",
    "    num_train_epochs=3,                 # Conservative epoch count to prevent overfitting\n",
    "    \n",
    "    # Regularization to improve generalization\n",
    "    weight_decay=0.01,                  # L2 regularization strength\n",
    "    adam_epsilon=1e-6,                  # Optimizer stability parameter\n",
    "    max_grad_norm=1.0,                  # Gradient clipping to prevent exploding gradients\n",
    "    \n",
    "    # Model selection criteria\n",
    "    load_best_model_at_end=True,        # Load best checkpoint at completion\n",
    "    metric_for_best_model=\"f1\",         # Use F1 score for model selection\n",
    "    greater_is_better=True,             # Higher F1 is better\n",
    "    \n",
    "    # Efficiency optimizations\n",
    "    fp16=torch.cuda.is_available(),     # Mixed precision training if GPU available\n",
    "    dataloader_num_workers=2,           # Parallel data loading\n",
    "    \n",
    "    # Logging and output\n",
    "    logging_steps=100,                  # Log metrics every 100 steps\n",
    "    report_to=\"none\",                   # Disable external logging services\n",
    "    push_to_hub=False,                  # Don't upload to model hub\n",
    "    save_total_limit=2,                 # Keep only best 2 checkpoints\n",
    ")"
   ]
  },
  {
   "cell_type": "markdown",
   "id": "712e2b50",
   "metadata": {},
   "source": [
    "These training arguments reflect lessons learned from TinyBERT's distillation process. The higher learning rate (1e-4 vs typical 5e-5 for BERT) leverages the model's pre-learned representations, while the conservative epoch count prevents overfitting to our specific dataset."
   ]
  },
  {
   "cell_type": "code",
   "execution_count": 17,
   "id": "138f378a",
   "metadata": {
    "execution": {
     "iopub.execute_input": "2025-06-04T10:02:36.827043Z",
     "iopub.status.busy": "2025-06-04T10:02:36.826853Z",
     "iopub.status.idle": "2025-06-04T10:02:36.830492Z",
     "shell.execute_reply": "2025-06-04T10:02:36.829819Z",
     "shell.execute_reply.started": "2025-06-04T10:02:36.827026Z"
    }
   },
   "outputs": [],
   "source": [
    "# Configure early stopping to prevent overfitting\n",
    "early_stopping_callback = EarlyStoppingCallback(\n",
    "    early_stopping_patience=3,          # Stop if no improvement for 3 evaluations\n",
    "    early_stopping_threshold=0.001      # Minimum improvement threshold\n",
    ")"
   ]
  },
  {
   "cell_type": "code",
   "execution_count": 18,
   "id": "9b9a87fd",
   "metadata": {
    "execution": {
     "iopub.execute_input": "2025-06-04T10:02:36.831259Z",
     "iopub.status.busy": "2025-06-04T10:02:36.831105Z",
     "iopub.status.idle": "2025-06-04T10:02:36.856780Z",
     "shell.execute_reply": "2025-06-04T10:02:36.856225Z",
     "shell.execute_reply.started": "2025-06-04T10:02:36.831247Z"
    }
   },
   "outputs": [
    {
     "name": "stdout",
     "output_type": "stream",
     "text": [
      "Trainer initialized with TinyBERT-optimized configuration\n"
     ]
    }
   ],
   "source": [
    "# Initialize the Trainer with our configuration\n",
    "trainer = Trainer(\n",
    "    model=model,\n",
    "    args=training_args,\n",
    "    train_dataset=tokenized_train,\n",
    "    eval_dataset=tokenized_val,\n",
    "    tokenizer=tokenizer,\n",
    "    compute_metrics=compute_metrics,\n",
    "    callbacks=[early_stopping_callback]\n",
    ")\n",
    "\n",
    "print(\"Trainer initialized with TinyBERT-optimized configuration\")"
   ]
  },
  {
   "cell_type": "markdown",
   "id": "d3d2789a",
   "metadata": {},
   "source": [
    "## 7. Model Training\n",
    "\n",
    "Now we'll train TinyBERT on our fake news detection task using the standardized training set, with the validation set guiding our training decisions."
   ]
  },
  {
   "cell_type": "code",
   "execution_count": 19,
   "id": "26a43d88",
   "metadata": {
    "execution": {
     "iopub.execute_input": "2025-06-04T10:02:36.857487Z",
     "iopub.status.busy": "2025-06-04T10:02:36.857320Z",
     "iopub.status.idle": "2025-06-04T10:17:28.829508Z",
     "shell.execute_reply": "2025-06-04T10:17:28.828777Z",
     "shell.execute_reply.started": "2025-06-04T10:02:36.857472Z"
    }
   },
   "outputs": [
    {
     "name": "stdout",
     "output_type": "stream",
     "text": [
      "Starting TinyBERT training...\n"
     ]
    },
    {
     "data": {
      "text/html": [
       "\n",
       "    <div>\n",
       "      \n",
       "      <progress value='2346' max='2346' style='width:300px; height:20px; vertical-align: middle;'></progress>\n",
       "      [2346/2346 14:49, Epoch 2/3]\n",
       "    </div>\n",
       "    <table border=\"1\" class=\"dataframe\">\n",
       "  <thead>\n",
       " <tr style=\"text-align: left;\">\n",
       "      <th>Epoch</th>\n",
       "      <th>Training Loss</th>\n",
       "      <th>Validation Loss</th>\n",
       "      <th>Accuracy</th>\n",
       "      <th>Precision</th>\n",
       "      <th>Recall</th>\n",
       "      <th>F1</th>\n",
       "    </tr>\n",
       "  </thead>\n",
       "  <tbody>\n",
       "    <tr>\n",
       "      <td>1</td>\n",
       "      <td>0.075300</td>\n",
       "      <td>0.052768</td>\n",
       "      <td>0.986395</td>\n",
       "      <td>0.986504</td>\n",
       "      <td>0.986395</td>\n",
       "      <td>0.986392</td>\n",
       "    </tr>\n",
       "    <tr>\n",
       "      <td>2</td>\n",
       "      <td>0.051200</td>\n",
       "      <td>0.103378</td>\n",
       "      <td>0.992452</td>\n",
       "      <td>0.992455</td>\n",
       "      <td>0.992452</td>\n",
       "      <td>0.992452</td>\n",
       "    </tr>\n",
       "  </tbody>\n",
       "</table><p>"
      ],
      "text/plain": [
       "<IPython.core.display.HTML object>"
      ]
     },
     "metadata": {},
     "output_type": "display_data"
    },
    {
     "name": "stdout",
     "output_type": "stream",
     "text": [
      "Training completed in 14.87 minutes\n"
     ]
    }
   ],
   "source": [
    "# Record training start time for efficiency analysis\n",
    "print(\"Starting TinyBERT training...\")\n",
    "start_time = time.time()\n",
    "\n",
    "# Execute the training process\n",
    "train_result = trainer.train()\n",
    "\n",
    "# Calculate total training time\n",
    "training_time = time.time() - start_time\n",
    "print(f\"Training completed in {training_time/60:.2f} minutes\")"
   ]
  },
  {
   "cell_type": "code",
   "execution_count": 20,
   "id": "6ed09230",
   "metadata": {
    "execution": {
     "iopub.execute_input": "2025-06-04T10:17:28.831198Z",
     "iopub.status.busy": "2025-06-04T10:17:28.830485Z",
     "iopub.status.idle": "2025-06-04T10:17:28.835437Z",
     "shell.execute_reply": "2025-06-04T10:17:28.834786Z",
     "shell.execute_reply.started": "2025-06-04T10:17:28.831171Z"
    }
   },
   "outputs": [
    {
     "name": "stdout",
     "output_type": "stream",
     "text": [
      "\n",
      "Training Results:\n",
      "Final training loss: 0.1225\n",
      "Training steps completed: N/A\n",
      "Total training time: 14.87 minutes\n"
     ]
    }
   ],
   "source": [
    "# Display training metrics and convergence information\n",
    "print(\"\\nTraining Results:\")\n",
    "print(f\"Final training loss: {train_result.metrics.get('train_loss', 'N/A'):.4f}\")\n",
    "print(f\"Training steps completed: {train_result.metrics.get('train_steps', 'N/A')}\")\n",
    "print(f\"Total training time: {training_time/60:.2f} minutes\")"
   ]
  },
  {
   "cell_type": "markdown",
   "id": "f65a50a8",
   "metadata": {},
   "source": [
    "During training, you'll observe TinyBERT's efficiency advantages. The model converges faster than larger transformers due to its distilled knowledge, requiring fewer epochs to achieve strong performance.\n",
    "\n",
    "## 8. Model Evaluation on Test Set\n",
    "\n",
    "After training completes, we'll evaluate our model on the held-out test set to assess its true generalization performance."
   ]
  },
  {
   "cell_type": "code",
   "execution_count": 21,
   "id": "8893e907",
   "metadata": {
    "execution": {
     "iopub.execute_input": "2025-06-04T10:17:28.836421Z",
     "iopub.status.busy": "2025-06-04T10:17:28.836130Z",
     "iopub.status.idle": "2025-06-04T10:17:45.945853Z",
     "shell.execute_reply": "2025-06-04T10:17:45.945135Z",
     "shell.execute_reply.started": "2025-06-04T10:17:28.836399Z"
    }
   },
   "outputs": [
    {
     "name": "stdout",
     "output_type": "stream",
     "text": [
      "Evaluating TinyBERT on test set...\n"
     ]
    },
    {
     "data": {
      "text/html": [],
      "text/plain": [
       "<IPython.core.display.HTML object>"
      ]
     },
     "metadata": {},
     "output_type": "display_data"
    },
    {
     "name": "stdout",
     "output_type": "stream",
     "text": [
      "Test Set Performance:\n",
      "Accuracy: 0.9928\n",
      "Precision: 0.9928\n",
      "Recall: 0.9928\n",
      "F1 Score: 0.9928\n"
     ]
    }
   ],
   "source": [
    "# Evaluate trained model on test set\n",
    "print(\"Evaluating TinyBERT on test set...\")\n",
    "test_results = trainer.evaluate(tokenized_test)\n",
    "\n",
    "print(\"Test Set Performance:\")\n",
    "print(f\"Accuracy: {test_results['eval_accuracy']:.4f}\")\n",
    "print(f\"Precision: {test_results['eval_precision']:.4f}\")\n",
    "print(f\"Recall: {test_results['eval_recall']:.4f}\")\n",
    "print(f\"F1 Score: {test_results['eval_f1']:.4f}\")"
   ]
  },
  {
   "cell_type": "code",
   "execution_count": 22,
   "id": "b7cbea43",
   "metadata": {
    "execution": {
     "iopub.execute_input": "2025-06-04T10:17:45.947148Z",
     "iopub.status.busy": "2025-06-04T10:17:45.946857Z",
     "iopub.status.idle": "2025-06-04T10:18:03.006386Z",
     "shell.execute_reply": "2025-06-04T10:18:03.005470Z",
     "shell.execute_reply.started": "2025-06-04T10:17:45.947120Z"
    }
   },
   "outputs": [],
   "source": [
    "# Generate detailed predictions for confusion matrix analysis\n",
    "predictions = trainer.predict(tokenized_test)\n",
    "y_pred = np.argmax(predictions.predictions, axis=1)\n",
    "y_true = predictions.label_ids"
   ]
  },
  {
   "cell_type": "code",
   "execution_count": 23,
   "id": "07f9047c",
   "metadata": {
    "execution": {
     "iopub.execute_input": "2025-06-04T10:18:03.008159Z",
     "iopub.status.busy": "2025-06-04T10:18:03.007538Z",
     "iopub.status.idle": "2025-06-04T10:18:03.340145Z",
     "shell.execute_reply": "2025-06-04T10:18:03.339440Z",
     "shell.execute_reply.started": "2025-06-04T10:18:03.008133Z"
    }
   },
   "outputs": [
    {
     "data": {
      "image/png": "[encoded data removed]",
      "text/plain": [
       "<Figure size 800x600 with 2 Axes>"
      ]
     },
     "metadata": {},
     "output_type": "display_data"
    },
    {
     "name": "stdout",
     "output_type": "stream",
     "text": [
      "\n",
      "Error Analysis:\n",
      "False Positive Rate: 0.0053 (28 real articles classified as fake)\n",
      "False Negative Rate: 0.0089 (49 fake articles classified as real)\n"
     ]
    }
   ],
   "source": [
    "# Create and visualize confusion matrix\n",
    "cm = confusion_matrix(y_true, y_pred)\n",
    "\n",
    "plt.figure(figsize=(8, 6))\n",
    "sns.heatmap(cm, annot=True, fmt='d', cmap='Blues',\n",
    "            xticklabels=['Real News', 'Fake News'],\n",
    "            yticklabels=['Real News', 'Fake News'])\n",
    "plt.title('TinyBERT Test Set Performance')\n",
    "plt.ylabel('True Label')\n",
    "plt.xlabel('Predicted Label')\n",
    "plt.tight_layout()\n",
    "plt.show()\n",
    "\n",
    "# Calculate and display error rates\n",
    "tn, fp, fn, tp = cm.ravel()\n",
    "print(f\"\\nError Analysis:\")\n",
    "print(f\"False Positive Rate: {fp/(fp+tn):.4f} ({fp} real articles classified as fake)\")\n",
    "print(f\"False Negative Rate: {fn/(fn+tp):.4f} ({fn} fake articles classified as real)\")"
   ]
  },
  {
   "cell_type": "code",
   "execution_count": 24,
   "id": "3f20c647",
   "metadata": {
    "execution": {
     "iopub.execute_input": "2025-06-04T10:18:03.341307Z",
     "iopub.status.busy": "2025-06-04T10:18:03.341053Z",
     "iopub.status.idle": "2025-06-04T10:18:03.354977Z",
     "shell.execute_reply": "2025-06-04T10:18:03.354262Z",
     "shell.execute_reply.started": "2025-06-04T10:18:03.341285Z"
    }
   },
   "outputs": [
    {
     "name": "stdout",
     "output_type": "stream",
     "text": [
      "\n",
      "Detailed Classification Report:\n",
      "              precision    recall  f1-score   support\n",
      "\n",
      "   Real News       0.99      0.99      0.99      5254\n",
      "   Fake News       0.99      0.99      0.99      5477\n",
      "\n",
      "    accuracy                           0.99     10731\n",
      "   macro avg       0.99      0.99      0.99     10731\n",
      "weighted avg       0.99      0.99      0.99     10731\n",
      "\n"
     ]
    }
   ],
   "source": [
    "# Generate comprehensive classification report\n",
    "print(\"\\nDetailed Classification Report:\")\n",
    "print(classification_report(y_true, y_pred, target_names=['Real News', 'Fake News']))"
   ]
  },
  {
   "cell_type": "markdown",
   "id": "a59e01d4",
   "metadata": {},
   "source": [
    "## 9. Model Persistence for Deployment\n",
    "\n",
    "To ensure our trained model can be used in production or for further evaluation, we'll save both the model and tokenizer."
   ]
  },
  {
   "cell_type": "code",
   "execution_count": 25,
   "id": "cf253535",
   "metadata": {
    "execution": {
     "iopub.execute_input": "2025-06-04T10:18:03.356013Z",
     "iopub.status.busy": "2025-06-04T10:18:03.355746Z",
     "iopub.status.idle": "2025-06-04T10:18:03.542510Z",
     "shell.execute_reply": "2025-06-04T10:18:03.541922Z",
     "shell.execute_reply.started": "2025-06-04T10:18:03.355978Z"
    }
   },
   "outputs": [
    {
     "name": "stdout",
     "output_type": "stream",
     "text": [
      "Model saved to ./tinybert_welfake_unified_model\n",
      "Tokenizer saved to ./tinybert_welfake_unified_model\n"
     ]
    }
   ],
   "source": [
    "# Define save path for the trained model\n",
    "model_save_path = \"./tinybert_welfake_unified_model\"\n",
    "\n",
    "# Save the trained model\n",
    "trainer.save_model(model_save_path)\n",
    "print(f\"Model saved to {model_save_path}\")\n",
    "\n",
    "# Save the tokenizer (essential for preprocessing new text)\n",
    "tokenizer.save_pretrained(model_save_path)\n",
    "print(f\"Tokenizer saved to {model_save_path}\")"
   ]
  },
  {
   "cell_type": "code",
   "execution_count": 26,
   "id": "113374bb",
   "metadata": {
    "execution": {
     "iopub.execute_input": "2025-06-04T10:18:03.543469Z",
     "iopub.status.busy": "2025-06-04T10:18:03.543263Z",
     "iopub.status.idle": "2025-06-04T10:18:03.548783Z",
     "shell.execute_reply": "2025-06-04T10:18:03.548004Z",
     "shell.execute_reply.started": "2025-06-04T10:18:03.543452Z"
    }
   },
   "outputs": [
    {
     "name": "stdout",
     "output_type": "stream",
     "text": [
      "\n",
      "Model Summary:\n",
      "model_name: TinyBERT\n",
      "parameters: 14350874\n",
      "model_size_mb: 54.7442\n",
      "training_time_minutes: 14.8661\n",
      "test_accuracy: 0.9928\n",
      "test_f1: 0.9928\n",
      "training_epochs: 3\n",
      "learning_rate: 0.0001\n",
      "batch_size: 16\n"
     ]
    }
   ],
   "source": [
    "# Create a summary of model characteristics for documentation\n",
    "model_summary = {\n",
    "    'model_name': 'TinyBERT',\n",
    "    'parameters': num_params,\n",
    "    'model_size_mb': param_size,\n",
    "    'training_time_minutes': training_time / 60,\n",
    "    'test_accuracy': test_results['eval_accuracy'],\n",
    "    'test_f1': test_results['eval_f1'],\n",
    "    'training_epochs': training_args.num_train_epochs,\n",
    "    'learning_rate': training_args.learning_rate,\n",
    "    'batch_size': training_args.per_device_train_batch_size\n",
    "}\n",
    "\n",
    "print(\"\\nModel Summary:\")\n",
    "for key, value in model_summary.items():\n",
    "    if isinstance(value, float):\n",
    "        print(f\"{key}: {value:.4f}\")\n",
    "    else:\n",
    "        print(f\"{key}: {value}\")"
   ]
  },
  {
   "cell_type": "markdown",
   "id": "86a28e5b",
   "metadata": {},
   "source": [
    "## 10. Performance Analysis and Insights\n",
    "\n",
    "Let's analyze TinyBERT's performance characteristics and understand what these results tell us about the model's capabilities."
   ]
  },
  {
   "cell_type": "code",
   "execution_count": 27,
   "id": "791bc0ae",
   "metadata": {
    "execution": {
     "iopub.execute_input": "2025-06-04T10:18:03.549812Z",
     "iopub.status.busy": "2025-06-04T10:18:03.549509Z",
     "iopub.status.idle": "2025-06-04T10:18:03.565622Z",
     "shell.execute_reply": "2025-06-04T10:18:03.565068Z",
     "shell.execute_reply.started": "2025-06-04T10:18:03.549794Z"
    }
   },
   "outputs": [
    {
     "name": "stdout",
     "output_type": "stream",
     "text": [
      "Efficiency Analysis:\n",
      "Test set evaluation time: 17.09 seconds\n",
      "Processing speed: 627.9 samples/second\n",
      "Average time per sample: 1.59 ms\n"
     ]
    }
   ],
   "source": [
    "# Calculate efficiency metrics for deployment planning\n",
    "samples_per_second = len(test_df) / test_results['eval_runtime']\n",
    "ms_per_sample = (test_results['eval_runtime'] * 1000) / len(test_df)\n",
    "\n",
    "print(\"Efficiency Analysis:\")\n",
    "print(f\"Test set evaluation time: {test_results['eval_runtime']:.2f} seconds\")\n",
    "print(f\"Processing speed: {samples_per_second:.1f} samples/second\")\n",
    "print(f\"Average time per sample: {ms_per_sample:.2f} ms\")"
   ]
  },
  {
   "cell_type": "code",
   "execution_count": 28,
   "id": "520719e8",
   "metadata": {
    "execution": {
     "iopub.execute_input": "2025-06-04T10:18:03.566480Z",
     "iopub.status.busy": "2025-06-04T10:18:03.566302Z",
     "iopub.status.idle": "2025-06-04T10:18:03.585706Z",
     "shell.execute_reply": "2025-06-04T10:18:03.585150Z",
     "shell.execute_reply.started": "2025-06-04T10:18:03.566465Z"
    }
   },
   "outputs": [
    {
     "name": "stdout",
     "output_type": "stream",
     "text": [
      "\n",
      "Resource Efficiency Summary:\n",
      "Model parameters: 14,350,874 (14.4M)\n",
      "Model size: 54.7 MB\n",
      "Training time: 14.9 minutes\n",
      "Inference speed: 1.6 ms/sample\n",
      "Final test accuracy: 99.3%\n"
     ]
    }
   ],
   "source": [
    "# Compare training efficiency with resource usage\n",
    "print(\"\\nResource Efficiency Summary:\")\n",
    "print(f\"Model parameters: {num_params:,} ({num_params/1e6:.1f}M)\")\n",
    "print(f\"Model size: {param_size:.1f} MB\")\n",
    "print(f\"Training time: {training_time/60:.1f} minutes\")\n",
    "print(f\"Inference speed: {ms_per_sample:.1f} ms/sample\")\n",
    "print(f\"Final test accuracy: {test_results['eval_accuracy']:.1%}\")"
   ]
  },
  {
   "cell_type": "markdown",
   "id": "564c753c",
   "metadata": {},
   "source": [
    "These metrics demonstrate TinyBERT's practical advantages for real-world deployment. The combination of high accuracy with efficient inference makes it well-suited for applications where computational resources are constrained.\n",
    "\n",
    "## 11. Error Analysis and Model Insights\n",
    "\n",
    "Understanding where and why our model makes mistakes provides valuable insights for potential improvements and deployment considerations."
   ]
  },
  {
   "cell_type": "code",
   "execution_count": 29,
   "id": "def050cb",
   "metadata": {
    "execution": {
     "iopub.execute_input": "2025-06-04T10:18:03.586684Z",
     "iopub.status.busy": "2025-06-04T10:18:03.586456Z",
     "iopub.status.idle": "2025-06-04T10:18:03.602040Z",
     "shell.execute_reply": "2025-06-04T10:18:03.601428Z",
     "shell.execute_reply.started": "2025-06-04T10:18:03.586660Z"
    }
   },
   "outputs": [
    {
     "name": "stdout",
     "output_type": "stream",
     "text": [
      "Analyzing 77 misclassified examples out of 10731 total\n",
      "Error rate: 0.72%\n",
      "\n",
      "Sample misclassified examples:\n",
      "\n",
      "Example 1:\n",
      "Text snippet: Rubio: My pro-family, pro-growth tax reform plan for the 21st century Six months ago, Senator Mike Lee and I offered a variety of ideas on how to reform America's tax code to be both pro-growth and pr...\n",
      "True label: Real\n",
      "Predicted: Fake\n",
      "--------------------------------------------------------------------------------\n",
      "\n",
      "Example 2:\n",
      "Text snippet: The 6 most important parts of Donald Trump's energy policy When it comes to energy policy, the 2016 presidential election really isn't all that complicated.\n",
      "\n",
      "Hillary Clinton plans to continue Presiden...\n",
      "True label: Real\n",
      "Predicted: Fake\n",
      "--------------------------------------------------------------------------------\n",
      "\n",
      "Example 3:\n",
      "Text snippet:  Texas Schools Proposed Textbooks : Mexicans Are Lazy And Want To Destroy Society Texas textbooks are once again in the limelight. After years of asking for ethnic studies, they finally offered them. ...\n",
      "True label: Fake\n",
      "Predicted: Real\n",
      "--------------------------------------------------------------------------------\n",
      "\n",
      "Example 4:\n",
      "Text snippet: Debate: Washington's Syria policy The Debate Washington's Syria policy \n",
      "In this episode of The Debate, Press TV has conducted an interview with Brian Becker, with the ANSWER Coalition, and Michael Lan...\n",
      "True label: Fake\n",
      "Predicted: Real\n",
      "--------------------------------------------------------------------------------\n",
      "\n",
      "Example 5:\n",
      "Text snippet: What's NaNoWriMo? Your Story. 30 Days. Try it. All programs for National Novel Writing Month, Camp NaNoWriMo, and the Young Writers Program are free, but tax-deductible donations are gratefully receiv...\n",
      "True label: Fake\n",
      "Predicted: Real\n",
      "--------------------------------------------------------------------------------\n"
     ]
    }
   ],
   "source": [
    "# Analyze specific misclassification patterns\n",
    "def analyze_errors(texts, y_true, y_pred, n_examples=5):\n",
    "    \"\"\"\n",
    "    Examine specific examples where the model made incorrect predictions.\n",
    "    This helps identify patterns in model failures and potential areas for improvement.\n",
    "    \"\"\"\n",
    "    errors = np.where(y_true != y_pred)[0]\n",
    "    \n",
    "    if len(errors) == 0:\n",
    "        print(\"Perfect classification - no errors to analyze!\")\n",
    "        return\n",
    "    \n",
    "    print(f\"Analyzing {len(errors)} misclassified examples out of {len(y_true)} total\")\n",
    "    print(f\"Error rate: {len(errors)/len(y_true):.2%}\")\n",
    "    \n",
    "    # Sample a few errors for detailed examination\n",
    "    sample_errors = np.random.choice(errors, size=min(n_examples, len(errors)), replace=False)\n",
    "    \n",
    "    print(f\"\\nSample misclassified examples:\")\n",
    "    for i, idx in enumerate(sample_errors):\n",
    "        true_label = \"Real\" if y_true[idx] == 0 else \"Fake\"\n",
    "        pred_label = \"Real\" if y_pred[idx] == 0 else \"Fake\"\n",
    "        \n",
    "        print(f\"\\nExample {i+1}:\")\n",
    "        print(f\"Text snippet: {test_df.iloc[idx]['combined_text'][:200]}...\")\n",
    "        print(f\"True label: {true_label}\")\n",
    "        print(f\"Predicted: {pred_label}\")\n",
    "        print(\"-\" * 80)\n",
    "\n",
    "# Analyze errors to understand model limitations\n",
    "analyze_errors(test_df['combined_text'], y_true, y_pred)"
   ]
  },
  {
   "cell_type": "markdown",
   "id": "62a8a353",
   "metadata": {},
   "source": [
    "## 12. Conclusion and Next Steps\n",
    "\n",
    "Our TinyBERT implementation demonstrates the power of knowledge distillation for creating efficient yet capable models for fake news detection. By using standardized data splits, we ensure that our results can be fairly compared with other models in our evaluation study.\n",
    "\n",
    "### Key Achievements\n",
    "\n",
    "**Strong Performance**: TinyBERT achieved competitive accuracy while using significantly fewer resources than full-scale transformer models, demonstrating the effectiveness of knowledge distillation for this task.\n",
    "\n",
    "**Computational Efficiency**: With approximately 15 million parameters and sub-second inference times, TinyBERT offers a practical balance between performance and efficiency suitable for real-world deployment.\n",
    "\n",
    "**Fair Evaluation**: By using the same train/validation/test splits as other models in our comparison study, we ensure that performance differences reflect genuine architectural advantages rather than lucky data distributions.\n",
    "\n",
    "### Deployment Readiness\n",
    "\n",
    "This trained TinyBERT model is ready for integration into production systems where:\n",
    "- Real-time fake news detection is required\n",
    "- Computational resources are limited (mobile apps, edge devices)\n",
    "- High throughput processing of news articles is needed\n",
    "- Interpretable confidence scores are valuable for content moderation\n",
    "\n",
    "### Future Enhancements\n",
    "\n",
    "While this single-run training approach provides a solid baseline, further improvements could include:\n",
    "- Hyperparameter optimization using the validation set\n",
    "- Domain adaptation for specific news sources or topics\n",
    "- Ensemble methods combining TinyBERT with other efficient models\n",
    "- Continual learning approaches to handle evolving misinformation patterns\n",
    "\n",
    "The standardized evaluation framework we've established here provides the foundation for systematic comparison with other modeling approaches, helping identify the optimal balance between accuracy, efficiency, and deployment practicality for fake news detection systems."
   ]
  }
 ],
 "metadata": {
  "jupytext": {
   "cell_metadata_filter": "-all",
   "main_language": "python",
   "notebook_metadata_filter": "-all"
  },
  "kaggle": {
   "accelerator": "nvidiaTeslaT4",
   "dataSources": [
    {
     "datasetId": 7588305,
     "sourceId": 12056825,
     "sourceType": "datasetVersion"
    }
   ],
   "dockerImageVersionId": 31041,
   "isGpuEnabled": true,
   "isInternetEnabled": true,
   "language": "python",
   "sourceType": "notebook"
  },
  "kernelspec": {
   "display_name": "Python 3 (ipykernel)",
   "language": "python",
   "name": "python3"
  },
  "language_info": {
   "codemirror_mode": {
    "name": "ipython",
    "version": 3
   },
   "file_extension": ".py",
   "mimetype": "text/x-python",
   "name": "python",
   "nbconvert_exporter": "python",
   "pygments_lexer": "ipython3",
   "version": "3.12.1"
  }
 },
 "nbformat": 4,
 "nbformat_minor": 5
}
