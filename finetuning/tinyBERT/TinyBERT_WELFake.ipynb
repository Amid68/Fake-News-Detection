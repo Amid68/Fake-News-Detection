{
 "cells": [
  {
   "cell_type": "markdown",
   "id": "9a5c4d31",
   "metadata": {},
   "source": [
    "# TinyBERT for Fake News Detection\n",
    "\n",
    "## 1. Introduction\n",
    "\n",
    "This notebook demonstrates how to finetune TinyBERT for detecting fake news using the WELFake dataset. TinyBERT is an efficient and lightweight transformer model that uses knowledge distillation to achieve performance comparable to larger models while requiring significantly fewer computational resources.\n",
    "\n",
    "TinyBERT has approximately 15 million parameters, making it about 7.5x smaller than BERT-base, while maintaining strong performance on natural language understanding tasks. This efficiency makes it an excellent candidate for fake news detection applications that may need to run on resource-constrained environments like mobile devices or edge computing platforms.\n",
    "\n",
    "## 2. Environment Setup\n",
    "\n",
    "First, let's import the necessary libraries and set up our environment."
   ]
  },
  {
   "cell_type": "code",
   "execution_count": 1,
   "id": "0e10105e",
   "metadata": {
    "execution": {
     "iopub.execute_input": "2025-05-18T16:41:43.640967Z",
     "iopub.status.busy": "2025-05-18T16:41:43.640173Z",
     "iopub.status.idle": "2025-05-18T16:41:46.461220Z",
     "shell.execute_reply": "2025-05-18T16:41:46.460553Z",
     "shell.execute_reply.started": "2025-05-18T16:41:43.640920Z"
    }
   },
   "outputs": [],
   "source": [
    "# Import basic utilities\n",
    "import pandas as pd\n",
    "import numpy as np\n",
    "import matplotlib.pyplot as plt\n",
    "import seaborn as sns"
   ]
  },
  {
   "cell_type": "code",
   "execution_count": 2,
   "id": "aea8c400",
   "metadata": {
    "execution": {
     "iopub.execute_input": "2025-05-18T16:41:46.463089Z",
     "iopub.status.busy": "2025-05-18T16:41:46.462666Z",
     "iopub.status.idle": "2025-05-18T16:41:51.007561Z",
     "shell.execute_reply": "2025-05-18T16:41:51.007002Z",
     "shell.execute_reply.started": "2025-05-18T16:41:46.463069Z"
    }
   },
   "outputs": [],
   "source": [
    "# Import PyTorch\n",
    "import torch\n",
    "import os\n",
    "import time\n",
    "import random"
   ]
  },
  {
   "cell_type": "code",
   "execution_count": 3,
   "id": "975e3733",
   "metadata": {
    "execution": {
     "iopub.execute_input": "2025-05-18T16:41:51.008653Z",
     "iopub.status.busy": "2025-05-18T16:41:51.008277Z",
     "iopub.status.idle": "2025-05-18T16:42:14.858463Z",
     "shell.execute_reply": "2025-05-18T16:42:14.857891Z",
     "shell.execute_reply.started": "2025-05-18T16:41:51.008633Z"
    }
   },
   "outputs": [
    {
     "name": "stderr",
     "output_type": "stream",
     "text": [
      "2025-05-18 16:42:00.578647: E external/local_xla/xla/stream_executor/cuda/cuda_fft.cc:477] Unable to register cuFFT factory: Attempting to register factory for plugin cuFFT when one has already been registered\n",
      "WARNING: All log messages before absl::InitializeLog() is called are written to STDERR\n",
      "E0000 00:00:1747586520.813525      35 cuda_dnn.cc:8310] Unable to register cuDNN factory: Attempting to register factory for plugin cuDNN when one has already been registered\n",
      "E0000 00:00:1747586520.885592      35 cuda_blas.cc:1418] Unable to register cuBLAS factory: Attempting to register factory for plugin cuBLAS when one has already been registered\n"
     ]
    }
   ],
   "source": [
    "# Import Hugging Face libraries\n",
    "from transformers import AutoTokenizer, AutoModelForSequenceClassification\n",
    "from transformers import Trainer, TrainingArguments\n",
    "from transformers import EarlyStoppingCallback\n",
    "from datasets import Dataset"
   ]
  },
  {
   "cell_type": "code",
   "execution_count": 4,
   "id": "208074e0",
   "metadata": {
    "execution": {
     "iopub.execute_input": "2025-05-18T16:42:14.859736Z",
     "iopub.status.busy": "2025-05-18T16:42:14.859240Z",
     "iopub.status.idle": "2025-05-18T16:42:14.863294Z",
     "shell.execute_reply": "2025-05-18T16:42:14.862473Z",
     "shell.execute_reply.started": "2025-05-18T16:42:14.859717Z"
    }
   },
   "outputs": [],
   "source": [
    "# Import evaluation libraries\n",
    "from sklearn.metrics import accuracy_score, precision_recall_fscore_support\n",
    "from sklearn.metrics import classification_report, confusion_matrix"
   ]
  },
  {
   "cell_type": "code",
   "execution_count": 5,
   "id": "d18f91da",
   "metadata": {
    "execution": {
     "iopub.execute_input": "2025-05-18T16:42:14.865973Z",
     "iopub.status.busy": "2025-05-18T16:42:14.865631Z",
     "iopub.status.idle": "2025-05-18T16:42:14.888590Z",
     "shell.execute_reply": "2025-05-18T16:42:14.888010Z",
     "shell.execute_reply.started": "2025-05-18T16:42:14.865926Z"
    }
   },
   "outputs": [],
   "source": [
    "# Suppress warnings\n",
    "import warnings\n",
    "warnings.filterwarnings('ignore')"
   ]
  },
  {
   "cell_type": "code",
   "execution_count": 6,
   "id": "9d0a2e1b",
   "metadata": {
    "execution": {
     "iopub.execute_input": "2025-05-18T16:42:14.889465Z",
     "iopub.status.busy": "2025-05-18T16:42:14.889272Z",
     "iopub.status.idle": "2025-05-18T16:42:14.903888Z",
     "shell.execute_reply": "2025-05-18T16:42:14.903229Z",
     "shell.execute_reply.started": "2025-05-18T16:42:14.889450Z"
    }
   },
   "outputs": [],
   "source": [
    "# Set seeds for reproducibility\n",
    "def set_seed(seed_value=42):\n",
    "    random.seed(seed_value)\n",
    "    np.random.seed(seed_value)\n",
    "    torch.manual_seed(seed_value)\n",
    "    torch.cuda.manual_seed_all(seed_value)\n",
    "    os.environ['PYTHONHASHSEED'] = str(seed_value)\n",
    "    torch.backends.cudnn.deterministic = True"
   ]
  },
  {
   "cell_type": "code",
   "execution_count": 7,
   "id": "9e7fcbb8",
   "metadata": {
    "execution": {
     "iopub.execute_input": "2025-05-18T16:42:14.904799Z",
     "iopub.status.busy": "2025-05-18T16:42:14.904587Z",
     "iopub.status.idle": "2025-05-18T16:42:14.921790Z",
     "shell.execute_reply": "2025-05-18T16:42:14.921230Z",
     "shell.execute_reply.started": "2025-05-18T16:42:14.904784Z"
    }
   },
   "outputs": [],
   "source": [
    "# Apply seed\n",
    "set_seed()"
   ]
  },
  {
   "cell_type": "code",
   "execution_count": 8,
   "id": "24281d8e",
   "metadata": {
    "execution": {
     "iopub.execute_input": "2025-05-18T16:42:14.922584Z",
     "iopub.status.busy": "2025-05-18T16:42:14.922392Z",
     "iopub.status.idle": "2025-05-18T16:42:14.928116Z",
     "shell.execute_reply": "2025-05-18T16:42:14.927470Z",
     "shell.execute_reply.started": "2025-05-18T16:42:14.922561Z"
    }
   },
   "outputs": [
    {
     "name": "stdout",
     "output_type": "stream",
     "text": [
      "Using device: cuda\n"
     ]
    }
   ],
   "source": [
    "# Check if GPU is available\n",
    "device = torch.device(\"cuda\" if torch.cuda.is_available() else \"cpu\")\n",
    "print(f\"Using device: {device}\")"
   ]
  },
  {
   "cell_type": "markdown",
   "id": "a1e83596",
   "metadata": {},
   "source": [
    "## 3. Loading and Exploring the Dataset\n",
    "\n",
    "Let's load the cleaned WELFake dataset and explore its characteristics."
   ]
  },
  {
   "cell_type": "code",
   "execution_count": 9,
   "id": "02995cbd",
   "metadata": {
    "execution": {
     "iopub.execute_input": "2025-05-18T16:42:14.929370Z",
     "iopub.status.busy": "2025-05-18T16:42:14.928731Z",
     "iopub.status.idle": "2025-05-18T16:42:20.592663Z",
     "shell.execute_reply": "2025-05-18T16:42:20.592134Z",
     "shell.execute_reply.started": "2025-05-18T16:42:14.929347Z"
    }
   },
   "outputs": [],
   "source": [
    "# Load the cleaned dataset\n",
    "df = pd.read_csv('/kaggle/input/welfake-cleaned/WELFake_cleaned.csv')"
   ]
  },
  {
   "cell_type": "code",
   "execution_count": 10,
   "id": "31a79f84",
   "metadata": {
    "execution": {
     "iopub.execute_input": "2025-05-18T16:42:20.593533Z",
     "iopub.status.busy": "2025-05-18T16:42:20.593347Z",
     "iopub.status.idle": "2025-05-18T16:42:20.597700Z",
     "shell.execute_reply": "2025-05-18T16:42:20.597071Z",
     "shell.execute_reply.started": "2025-05-18T16:42:20.593520Z"
    }
   },
   "outputs": [
    {
     "name": "stdout",
     "output_type": "stream",
     "text": [
      "Dataset shape: (71537, 10)\n"
     ]
    }
   ],
   "source": [
    "# Display basic information\n",
    "print(f\"Dataset shape: {df.shape}\")"
   ]
  },
  {
   "cell_type": "code",
   "execution_count": 11,
   "id": "4b601552",
   "metadata": {
    "execution": {
     "iopub.execute_input": "2025-05-18T16:42:20.598743Z",
     "iopub.status.busy": "2025-05-18T16:42:20.598496Z",
     "iopub.status.idle": "2025-05-18T16:42:20.624645Z",
     "shell.execute_reply": "2025-05-18T16:42:20.623989Z",
     "shell.execute_reply.started": "2025-05-18T16:42:20.598721Z"
    }
   },
   "outputs": [
    {
     "name": "stdout",
     "output_type": "stream",
     "text": [
      "Class distribution:\n",
      "label\n",
      "1    51.04\n",
      "0    48.96\n",
      "Name: proportion, dtype: float64\n"
     ]
    }
   ],
   "source": [
    "# Check class distribution\n",
    "class_distribution = df['label'].value_counts(normalize=True).mul(100).round(2)\n",
    "print(f\"Class distribution:\")\n",
    "print(class_distribution)"
   ]
  },
  {
   "cell_type": "code",
   "execution_count": 12,
   "id": "2ef712cf",
   "metadata": {
    "execution": {
     "iopub.execute_input": "2025-05-18T16:42:20.625870Z",
     "iopub.status.busy": "2025-05-18T16:42:20.625589Z",
     "iopub.status.idle": "2025-05-18T16:42:20.894541Z",
     "shell.execute_reply": "2025-05-18T16:42:20.893877Z",
     "shell.execute_reply.started": "2025-05-18T16:42:20.625849Z"
    }
   },
   "outputs": [
    {
     "data": {
      "image/png": "[encoded data removed]",
      "text/plain": [
       "<Figure size 800x600 with 1 Axes>"
      ]
     },
     "metadata": {},
     "output_type": "display_data"
    }
   ],
   "source": [
    "# Visualize class distribution\n",
    "plt.figure(figsize=(8, 6))\n",
    "ax = sns.countplot(x='label', data=df, palette='viridis')\n",
    "plt.title('Distribution of Real vs. Fake News')\n",
    "plt.xlabel('Label (0: Real, 1: Fake)')\n",
    "plt.ylabel('Count')\n",
    "\n",
    "# Add count labels on top of the bars\n",
    "for p in ax.patches:\n",
    "    ax.annotate(f'{p.get_height():,}', \n",
    "                (p.get_x() + p.get_width() / 2., p.get_height()), \n",
    "                ha = 'center', va = 'bottom')\n",
    "plt.tight_layout()\n",
    "plt.show()"
   ]
  },
  {
   "cell_type": "code",
   "execution_count": 13,
   "id": "0b978f24",
   "metadata": {
    "execution": {
     "iopub.execute_input": "2025-05-18T16:42:20.895424Z",
     "iopub.status.busy": "2025-05-18T16:42:20.895224Z",
     "iopub.status.idle": "2025-05-18T16:42:20.909803Z",
     "shell.execute_reply": "2025-05-18T16:42:20.908888Z",
     "shell.execute_reply.started": "2025-05-18T16:42:20.895408Z"
    }
   },
   "outputs": [
    {
     "name": "stdout",
     "output_type": "stream",
     "text": [
      "\n",
      "Sample data:\n",
      "   Unnamed: 0                                              title  \\\n",
      "0           0  LAW ENFORCEMENT ON HIGH ALERT Following Threat...   \n",
      "1           2  UNBELIEVABLE! OBAMA’S ATTORNEY GENERAL SAYS MO...   \n",
      "2           3  Bobby Jindal, raised Hindu, uses story of Chri...   \n",
      "\n",
      "                                                text  label  title_length  \\\n",
      "0  No comment is expected from Barack Obama Membe...      1           130   \n",
      "1   Now, most of the demonstrators gathered last ...      1           137   \n",
      "2  A dozen politically active pastors came here f...      0           105   \n",
      "\n",
      "   text_length  word_count  title_has_allcaps  title_exclamation  \\\n",
      "0         5049         871               True              False   \n",
      "1          216          34               True               True   \n",
      "2         8010        1321              False              False   \n",
      "\n",
      "   title_question  \n",
      "0           False  \n",
      "1           False  \n",
      "2           False  \n"
     ]
    }
   ],
   "source": [
    "# Display sample data\n",
    "print(\"\\nSample data:\")\n",
    "print(df.head(3))"
   ]
  },
  {
   "cell_type": "markdown",
   "id": "4cddf51c",
   "metadata": {},
   "source": [
    "## 4. Data Preprocessing\n",
    "\n",
    "We'll prepare our data for the model by combining the title and text fields and splitting into train/validation/test sets."
   ]
  },
  {
   "cell_type": "code",
   "execution_count": 14,
   "id": "80d36a1a",
   "metadata": {
    "execution": {
     "iopub.execute_input": "2025-05-18T16:42:20.914033Z",
     "iopub.status.busy": "2025-05-18T16:42:20.913512Z",
     "iopub.status.idle": "2025-05-18T16:42:21.305623Z",
     "shell.execute_reply": "2025-05-18T16:42:21.304823Z",
     "shell.execute_reply.started": "2025-05-18T16:42:20.914002Z"
    }
   },
   "outputs": [],
   "source": [
    "# Combine title and text\n",
    "df['full_text'] = df['title'] + \" \" + df['text']"
   ]
  },
  {
   "cell_type": "code",
   "execution_count": 15,
   "id": "a571d58c",
   "metadata": {
    "execution": {
     "iopub.execute_input": "2025-05-18T16:42:21.306619Z",
     "iopub.status.busy": "2025-05-18T16:42:21.306366Z",
     "iopub.status.idle": "2025-05-18T16:42:21.323298Z",
     "shell.execute_reply": "2025-05-18T16:42:21.322762Z",
     "shell.execute_reply.started": "2025-05-18T16:42:21.306598Z"
    }
   },
   "outputs": [],
   "source": [
    "# Import train_test_split\n",
    "from sklearn.model_selection import train_test_split"
   ]
  },
  {
   "cell_type": "code",
   "execution_count": 16,
   "id": "2dcc3007",
   "metadata": {
    "execution": {
     "iopub.execute_input": "2025-05-18T16:42:21.324065Z",
     "iopub.status.busy": "2025-05-18T16:42:21.323862Z",
     "iopub.status.idle": "2025-05-18T16:42:21.368544Z",
     "shell.execute_reply": "2025-05-18T16:42:21.367741Z",
     "shell.execute_reply.started": "2025-05-18T16:42:21.324050Z"
    }
   },
   "outputs": [],
   "source": [
    "# First split: 85% train+val, 15% test\n",
    "train_val_df, test_df = train_test_split(df, test_size=0.15, stratify=df['label'], random_state=42)"
   ]
  },
  {
   "cell_type": "code",
   "execution_count": 17,
   "id": "c3254cdc",
   "metadata": {
    "execution": {
     "iopub.execute_input": "2025-05-18T16:42:21.369636Z",
     "iopub.status.busy": "2025-05-18T16:42:21.369381Z",
     "iopub.status.idle": "2025-05-18T16:42:21.404543Z",
     "shell.execute_reply": "2025-05-18T16:42:21.403998Z",
     "shell.execute_reply.started": "2025-05-18T16:42:21.369614Z"
    }
   },
   "outputs": [],
   "source": [
    "# Second split: 70% train, 15% val (82.35% of the remaining 85%)\n",
    "train_df, val_df = train_test_split(train_val_df, test_size=0.1765, stratify=train_val_df['label'], random_state=42)"
   ]
  },
  {
   "cell_type": "code",
   "execution_count": 18,
   "id": "a9b0dde2",
   "metadata": {
    "execution": {
     "iopub.execute_input": "2025-05-18T16:42:21.405465Z",
     "iopub.status.busy": "2025-05-18T16:42:21.405224Z",
     "iopub.status.idle": "2025-05-18T16:42:21.409901Z",
     "shell.execute_reply": "2025-05-18T16:42:21.409104Z",
     "shell.execute_reply.started": "2025-05-18T16:42:21.405443Z"
    }
   },
   "outputs": [
    {
     "name": "stdout",
     "output_type": "stream",
     "text": [
      "Training set: 50073 examples\n",
      "Validation set: 10733 examples\n",
      "Test set: 10731 examples\n"
     ]
    }
   ],
   "source": [
    "# Display dataset sizes\n",
    "print(f\"Training set: {train_df.shape[0]} examples\")\n",
    "print(f\"Validation set: {val_df.shape[0]} examples\")\n",
    "print(f\"Test set: {test_df.shape[0]} examples\")"
   ]
  },
  {
   "cell_type": "code",
   "execution_count": 19,
   "id": "5315fea0",
   "metadata": {
    "execution": {
     "iopub.execute_input": "2025-05-18T16:42:21.410924Z",
     "iopub.status.busy": "2025-05-18T16:42:21.410686Z",
     "iopub.status.idle": "2025-05-18T16:42:23.092759Z",
     "shell.execute_reply": "2025-05-18T16:42:23.092225Z",
     "shell.execute_reply.started": "2025-05-18T16:42:21.410909Z"
    }
   },
   "outputs": [],
   "source": [
    "# Convert training data to Hugging Face dataset\n",
    "train_dataset = Dataset.from_pandas(train_df[['full_text', 'label']])"
   ]
  },
  {
   "cell_type": "code",
   "execution_count": 20,
   "id": "372c56df",
   "metadata": {
    "execution": {
     "iopub.execute_input": "2025-05-18T16:42:23.093624Z",
     "iopub.status.busy": "2025-05-18T16:42:23.093445Z",
     "iopub.status.idle": "2025-05-18T16:42:23.416200Z",
     "shell.execute_reply": "2025-05-18T16:42:23.415432Z",
     "shell.execute_reply.started": "2025-05-18T16:42:23.093610Z"
    }
   },
   "outputs": [],
   "source": [
    "# Convert validation data to Hugging Face dataset\n",
    "val_dataset = Dataset.from_pandas(val_df[['full_text', 'label']])"
   ]
  },
  {
   "cell_type": "code",
   "execution_count": 21,
   "id": "84c6eb81",
   "metadata": {
    "execution": {
     "iopub.execute_input": "2025-05-18T16:42:23.417309Z",
     "iopub.status.busy": "2025-05-18T16:42:23.417033Z",
     "iopub.status.idle": "2025-05-18T16:42:23.739221Z",
     "shell.execute_reply": "2025-05-18T16:42:23.738448Z",
     "shell.execute_reply.started": "2025-05-18T16:42:23.417288Z"
    }
   },
   "outputs": [],
   "source": [
    "# Convert test data to Hugging Face dataset\n",
    "test_dataset = Dataset.from_pandas(test_df[['full_text', 'label']])"
   ]
  },
  {
   "cell_type": "markdown",
   "id": "d7b9bd69",
   "metadata": {},
   "source": [
    "## 5. Tokenization and Data Preparation\n",
    "\n",
    "Now we'll tokenize our text data using the TinyBERT tokenizer, which prepares the data for input to the model."
   ]
  },
  {
   "cell_type": "code",
   "execution_count": 22,
   "id": "3c9c04b8",
   "metadata": {
    "execution": {
     "iopub.execute_input": "2025-05-18T16:42:23.740199Z",
     "iopub.status.busy": "2025-05-18T16:42:23.739929Z",
     "iopub.status.idle": "2025-05-18T16:42:26.039289Z",
     "shell.execute_reply": "2025-05-18T16:42:26.038746Z",
     "shell.execute_reply.started": "2025-05-18T16:42:23.740184Z"
    }
   },
   "outputs": [
    {
     "data": {
      "application/vnd.jupyter.widget-view+json": {
       "model_id": "6cde1055f7254a81865ff58e313d9cc0",
       "version_major": 2,
       "version_minor": 0
      },
      "text/plain": [
       "config.json:   0%|          | 0.00/409 [00:00<?, ?B/s]"
      ]
     },
     "metadata": {},
     "output_type": "display_data"
    },
    {
     "data": {
      "application/vnd.jupyter.widget-view+json": {
       "model_id": "42c9bf6c1f8f422d8887974514361ad6",
       "version_major": 2,
       "version_minor": 0
      },
      "text/plain": [
       "vocab.txt:   0%|          | 0.00/232k [00:00<?, ?B/s]"
      ]
     },
     "metadata": {},
     "output_type": "display_data"
    }
   ],
   "source": [
    "# Load TinyBERT tokenizer\n",
    "tokenizer = AutoTokenizer.from_pretrained(\"huawei-noah/TinyBERT_General_4L_312D\")"
   ]
  },
  {
   "cell_type": "code",
   "execution_count": 23,
   "id": "803286ec",
   "metadata": {
    "execution": {
     "iopub.execute_input": "2025-05-18T16:42:26.040225Z",
     "iopub.status.busy": "2025-05-18T16:42:26.040015Z",
     "iopub.status.idle": "2025-05-18T16:42:26.044389Z",
     "shell.execute_reply": "2025-05-18T16:42:26.043630Z",
     "shell.execute_reply.started": "2025-05-18T16:42:26.040202Z"
    }
   },
   "outputs": [],
   "source": [
    "# Define tokenization function\n",
    "def tokenize_function(examples):\n",
    "    return tokenizer(\n",
    "        examples[\"full_text\"],\n",
    "        padding=\"max_length\",\n",
    "        truncation=True,\n",
    "        max_length=512,  # TinyBERT can handle sequences up to 512 tokens\n",
    "    )"
   ]
  },
  {
   "cell_type": "code",
   "execution_count": 24,
   "id": "5ed60b14",
   "metadata": {
    "execution": {
     "iopub.execute_input": "2025-05-18T16:42:26.045465Z",
     "iopub.status.busy": "2025-05-18T16:42:26.045194Z",
     "iopub.status.idle": "2025-05-18T16:43:24.495918Z",
     "shell.execute_reply": "2025-05-18T16:43:24.495049Z",
     "shell.execute_reply.started": "2025-05-18T16:42:26.045441Z"
    }
   },
   "outputs": [
    {
     "data": {
      "application/vnd.jupyter.widget-view+json": {
       "model_id": "7c8bf6071e514c38827bf72e676ec01a",
       "version_major": 2,
       "version_minor": 0
      },
      "text/plain": [
       "Map:   0%|          | 0/50073 [00:00<?, ? examples/s]"
      ]
     },
     "metadata": {},
     "output_type": "display_data"
    }
   ],
   "source": [
    "# Tokenize training dataset\n",
    "tokenized_train = train_dataset.map(tokenize_function, batched=True)"
   ]
  },
  {
   "cell_type": "code",
   "execution_count": 25,
   "id": "096c2bfc",
   "metadata": {
    "execution": {
     "iopub.execute_input": "2025-05-18T16:43:24.497043Z",
     "iopub.status.busy": "2025-05-18T16:43:24.496769Z",
     "iopub.status.idle": "2025-05-18T16:43:36.968703Z",
     "shell.execute_reply": "2025-05-18T16:43:36.968190Z",
     "shell.execute_reply.started": "2025-05-18T16:43:24.497026Z"
    }
   },
   "outputs": [
    {
     "data": {
      "application/vnd.jupyter.widget-view+json": {
       "model_id": "3b10d4e67cf947cd8c966b3d2737f469",
       "version_major": 2,
       "version_minor": 0
      },
      "text/plain": [
       "Map:   0%|          | 0/10733 [00:00<?, ? examples/s]"
      ]
     },
     "metadata": {},
     "output_type": "display_data"
    }
   ],
   "source": [
    "# Tokenize validation dataset\n",
    "tokenized_val = val_dataset.map(tokenize_function, batched=True)"
   ]
  },
  {
   "cell_type": "code",
   "execution_count": 26,
   "id": "7de1b869",
   "metadata": {
    "execution": {
     "iopub.execute_input": "2025-05-18T16:43:36.969718Z",
     "iopub.status.busy": "2025-05-18T16:43:36.969330Z",
     "iopub.status.idle": "2025-05-18T16:43:49.525710Z",
     "shell.execute_reply": "2025-05-18T16:43:49.525172Z",
     "shell.execute_reply.started": "2025-05-18T16:43:36.969699Z"
    }
   },
   "outputs": [
    {
     "data": {
      "application/vnd.jupyter.widget-view+json": {
       "model_id": "1c5d724b003143e2871561897104bf68",
       "version_major": 2,
       "version_minor": 0
      },
      "text/plain": [
       "Map:   0%|          | 0/10731 [00:00<?, ? examples/s]"
      ]
     },
     "metadata": {},
     "output_type": "display_data"
    }
   ],
   "source": [
    "# Tokenize test dataset\n",
    "tokenized_test = test_dataset.map(tokenize_function, batched=True)"
   ]
  },
  {
   "cell_type": "code",
   "execution_count": 27,
   "id": "cd5d6c3f",
   "metadata": {
    "execution": {
     "iopub.execute_input": "2025-05-18T16:43:49.526793Z",
     "iopub.status.busy": "2025-05-18T16:43:49.526523Z",
     "iopub.status.idle": "2025-05-18T16:43:49.531383Z",
     "shell.execute_reply": "2025-05-18T16:43:49.530440Z",
     "shell.execute_reply.started": "2025-05-18T16:43:49.526771Z"
    }
   },
   "outputs": [],
   "source": [
    "# Set format for training dataset\n",
    "tokenized_train.set_format(\"torch\", columns=[\"input_ids\", \"attention_mask\", \"label\"])"
   ]
  },
  {
   "cell_type": "code",
   "execution_count": 28,
   "id": "1a74531c",
   "metadata": {
    "execution": {
     "iopub.execute_input": "2025-05-18T16:43:49.532433Z",
     "iopub.status.busy": "2025-05-18T16:43:49.532171Z",
     "iopub.status.idle": "2025-05-18T16:43:49.547819Z",
     "shell.execute_reply": "2025-05-18T16:43:49.547261Z",
     "shell.execute_reply.started": "2025-05-18T16:43:49.532410Z"
    }
   },
   "outputs": [],
   "source": [
    "# Set format for validation dataset\n",
    "tokenized_val.set_format(\"torch\", columns=[\"input_ids\", \"attention_mask\", \"label\"])"
   ]
  },
  {
   "cell_type": "code",
   "execution_count": 29,
   "id": "d74a83ef",
   "metadata": {
    "execution": {
     "iopub.execute_input": "2025-05-18T16:43:49.548799Z",
     "iopub.status.busy": "2025-05-18T16:43:49.548558Z",
     "iopub.status.idle": "2025-05-18T16:43:49.562461Z",
     "shell.execute_reply": "2025-05-18T16:43:49.561710Z",
     "shell.execute_reply.started": "2025-05-18T16:43:49.548779Z"
    }
   },
   "outputs": [],
   "source": [
    "# Set format for test dataset\n",
    "tokenized_test.set_format(\"torch\", columns=[\"input_ids\", \"attention_mask\", \"label\"])"
   ]
  },
  {
   "cell_type": "markdown",
   "id": "637f6aac",
   "metadata": {},
   "source": [
    "## 6. Setting Up the TinyBERT Model\n",
    "\n",
    "Next, we'll load the TinyBERT model and configure it for binary classification."
   ]
  },
  {
   "cell_type": "code",
   "execution_count": 30,
   "id": "4e9c29d2",
   "metadata": {
    "execution": {
     "iopub.execute_input": "2025-05-18T16:43:49.563896Z",
     "iopub.status.busy": "2025-05-18T16:43:49.563217Z",
     "iopub.status.idle": "2025-05-18T16:43:50.769544Z",
     "shell.execute_reply": "2025-05-18T16:43:50.768990Z",
     "shell.execute_reply.started": "2025-05-18T16:43:49.563871Z"
    }
   },
   "outputs": [
    {
     "data": {
      "application/vnd.jupyter.widget-view+json": {
       "model_id": "97f9d0543b0a43a99acd1bceddf28161",
       "version_major": 2,
       "version_minor": 0
      },
      "text/plain": [
       "pytorch_model.bin:   0%|          | 0.00/62.7M [00:00<?, ?B/s]"
      ]
     },
     "metadata": {},
     "output_type": "display_data"
    },
    {
     "name": "stderr",
     "output_type": "stream",
     "text": [
      "Some weights of BertForSequenceClassification were not initialized from the model checkpoint at huawei-noah/TinyBERT_General_4L_312D and are newly initialized: ['classifier.bias', 'classifier.weight']\n",
      "You should probably TRAIN this model on a down-stream task to be able to use it for predictions and inference.\n"
     ]
    }
   ],
   "source": [
    "# Load TinyBERT model\n",
    "model = AutoModelForSequenceClassification.from_pretrained(\n",
    "    \"huawei-noah/TinyBERT_General_4L_312D\",\n",
    "    num_labels=2  # Binary classification: real (0) or fake (1)\n",
    ")"
   ]
  },
  {
   "cell_type": "code",
   "execution_count": 31,
   "id": "43123516",
   "metadata": {
    "execution": {
     "iopub.execute_input": "2025-05-18T16:43:50.770319Z",
     "iopub.status.busy": "2025-05-18T16:43:50.770139Z",
     "iopub.status.idle": "2025-05-18T16:43:50.956719Z",
     "shell.execute_reply": "2025-05-18T16:43:50.955995Z",
     "shell.execute_reply.started": "2025-05-18T16:43:50.770305Z"
    }
   },
   "outputs": [
    {
     "data": {
      "text/plain": [
       "BertForSequenceClassification(\n",
       "  (bert): BertModel(\n",
       "    (embeddings): BertEmbeddings(\n",
       "      (word_embeddings): Embedding(30522, 312, padding_idx=0)\n",
       "      (position_embeddings): Embedding(512, 312)\n",
       "      (token_type_embeddings): Embedding(2, 312)\n",
       "      (LayerNorm): LayerNorm((312,), eps=1e-12, elementwise_affine=True)\n",
       "      (dropout): Dropout(p=0.1, inplace=False)\n",
       "    )\n",
       "    (encoder): BertEncoder(\n",
       "      (layer): ModuleList(\n",
       "        (0-3): 4 x BertLayer(\n",
       "          (attention): BertAttention(\n",
       "            (self): BertSdpaSelfAttention(\n",
       "              (query): Linear(in_features=312, out_features=312, bias=True)\n",
       "              (key): Linear(in_features=312, out_features=312, bias=True)\n",
       "              (value): Linear(in_features=312, out_features=312, bias=True)\n",
       "              (dropout): Dropout(p=0.1, inplace=False)\n",
       "            )\n",
       "            (output): BertSelfOutput(\n",
       "              (dense): Linear(in_features=312, out_features=312, bias=True)\n",
       "              (LayerNorm): LayerNorm((312,), eps=1e-12, elementwise_affine=True)\n",
       "              (dropout): Dropout(p=0.1, inplace=False)\n",
       "            )\n",
       "          )\n",
       "          (intermediate): BertIntermediate(\n",
       "            (dense): Linear(in_features=312, out_features=1200, bias=True)\n",
       "            (intermediate_act_fn): GELUActivation()\n",
       "          )\n",
       "          (output): BertOutput(\n",
       "            (dense): Linear(in_features=1200, out_features=312, bias=True)\n",
       "            (LayerNorm): LayerNorm((312,), eps=1e-12, elementwise_affine=True)\n",
       "            (dropout): Dropout(p=0.1, inplace=False)\n",
       "          )\n",
       "        )\n",
       "      )\n",
       "    )\n",
       "    (pooler): BertPooler(\n",
       "      (dense): Linear(in_features=312, out_features=312, bias=True)\n",
       "      (activation): Tanh()\n",
       "    )\n",
       "  )\n",
       "  (dropout): Dropout(p=0.1, inplace=False)\n",
       "  (classifier): Linear(in_features=312, out_features=2, bias=True)\n",
       ")"
      ]
     },
     "execution_count": 31,
     "metadata": {},
     "output_type": "execute_result"
    }
   ],
   "source": [
    "# Move model to the appropriate device (GPU if available)\n",
    "model.to(device)"
   ]
  },
  {
   "cell_type": "code",
   "execution_count": 32,
   "id": "0b179b4a",
   "metadata": {
    "execution": {
     "iopub.execute_input": "2025-05-18T16:43:50.957744Z",
     "iopub.status.busy": "2025-05-18T16:43:50.957475Z",
     "iopub.status.idle": "2025-05-18T16:43:50.962101Z",
     "shell.execute_reply": "2025-05-18T16:43:50.961390Z",
     "shell.execute_reply.started": "2025-05-18T16:43:50.957727Z"
    }
   },
   "outputs": [
    {
     "name": "stdout",
     "output_type": "stream",
     "text": [
      "BertForSequenceClassification(\n",
      "  (bert): BertModel(\n",
      "    (embeddings): BertEmbeddings(\n",
      "      (word_embeddings): Embedding(30522, 312, padding_idx=0)\n",
      "      (position_embeddings): Embedding(512, 312)\n",
      "      (token_type_embeddings): Embedding(2, 312)\n",
      "      (LayerNorm): LayerNorm((312,), eps=1e-12, elementwise_affine=True)\n",
      "      (dropout): Dropout(p=0.1, inplace=False)\n",
      "    )\n",
      "    (encoder): BertEncoder(\n",
      "      (layer): ModuleList(\n",
      "        (0-3): 4 x BertLayer(\n",
      "          (attention): BertAttention(\n",
      "            (self): BertSdpaSelfAttention(\n",
      "              (query): Linear(in_features=312, out_features=312, bias=True)\n",
      "              (key): Linear(in_features=312, out_features=312, bias=True)\n",
      "              (value): Linear(in_features=312, out_features=312, bias=True)\n",
      "              (dropout): Dropout(p=0.1, inplace=False)\n",
      "            )\n",
      "            (output): BertSelfOutput(\n",
      "              (dense): Linear(in_features=312, out_features=312, bias=True)\n",
      "              (LayerNorm): LayerNorm((312,), eps=1e-12, elementwise_affine=True)\n",
      "              (dropout): Dropout(p=0.1, inplace=False)\n",
      "            )\n",
      "          )\n",
      "          (intermediate): BertIntermediate(\n",
      "            (dense): Linear(in_features=312, out_features=1200, bias=True)\n",
      "            (intermediate_act_fn): GELUActivation()\n",
      "          )\n",
      "          (output): BertOutput(\n",
      "            (dense): Linear(in_features=1200, out_features=312, bias=True)\n",
      "            (LayerNorm): LayerNorm((312,), eps=1e-12, elementwise_affine=True)\n",
      "            (dropout): Dropout(p=0.1, inplace=False)\n",
      "          )\n",
      "        )\n",
      "      )\n",
      "    )\n",
      "    (pooler): BertPooler(\n",
      "      (dense): Linear(in_features=312, out_features=312, bias=True)\n",
      "      (activation): Tanh()\n",
      "    )\n",
      "  )\n",
      "  (dropout): Dropout(p=0.1, inplace=False)\n",
      "  (classifier): Linear(in_features=312, out_features=2, bias=True)\n",
      ")\n"
     ]
    }
   ],
   "source": [
    "# Print model architecture\n",
    "print(model)"
   ]
  },
  {
   "cell_type": "markdown",
   "id": "b8fa90fb",
   "metadata": {},
   "source": [
    "## 7. Defining the Evaluation Metrics\n",
    "\n",
    "Let's define a function to compute evaluation metrics during training and evaluation."
   ]
  },
  {
   "cell_type": "code",
   "execution_count": 33,
   "id": "940044c3",
   "metadata": {
    "execution": {
     "iopub.execute_input": "2025-05-18T16:43:50.963125Z",
     "iopub.status.busy": "2025-05-18T16:43:50.962897Z",
     "iopub.status.idle": "2025-05-18T16:43:50.978207Z",
     "shell.execute_reply": "2025-05-18T16:43:50.977669Z",
     "shell.execute_reply.started": "2025-05-18T16:43:50.963103Z"
    }
   },
   "outputs": [],
   "source": [
    "# Define the metrics computation function\n",
    "def compute_metrics(eval_pred):\n",
    "    predictions, labels = eval_pred\n",
    "    predictions = np.argmax(predictions, axis=1)\n",
    "    \n",
    "    # Calculate accuracy\n",
    "    accuracy = accuracy_score(labels, predictions)\n",
    "    \n",
    "    # Calculate precision, recall, and F1 score\n",
    "    precision, recall, f1, _ = precision_recall_fscore_support(\n",
    "        labels, predictions, average='weighted'\n",
    "    )\n",
    "    \n",
    "    return {\n",
    "        'accuracy': accuracy,\n",
    "        'precision': precision,\n",
    "        'recall': recall,\n",
    "        'f1': f1\n",
    "    }"
   ]
  },
  {
   "cell_type": "markdown",
   "id": "ea4068ac",
   "metadata": {},
   "source": [
    "## 8. Training Configuration\n",
    "\n",
    "Now we'll set up the training configuration using the Hugging Face Trainer."
   ]
  },
  {
   "cell_type": "code",
   "execution_count": 34,
   "id": "c7bc4ed7",
   "metadata": {
    "execution": {
     "iopub.execute_input": "2025-05-18T16:43:50.979199Z",
     "iopub.status.busy": "2025-05-18T16:43:50.978945Z",
     "iopub.status.idle": "2025-05-18T16:43:50.994206Z",
     "shell.execute_reply": "2025-05-18T16:43:50.993661Z",
     "shell.execute_reply.started": "2025-05-18T16:43:50.979179Z"
    }
   },
   "outputs": [],
   "source": [
    "# Define output directory\n",
    "output_dir = \"./results/tinybert_welfake\""
   ]
  },
  {
   "cell_type": "code",
   "execution_count": 38,
   "id": "a20d9f49",
   "metadata": {
    "execution": {
     "iopub.execute_input": "2025-05-18T16:44:34.676432Z",
     "iopub.status.busy": "2025-05-18T16:44:34.675996Z",
     "iopub.status.idle": "2025-05-18T16:44:34.711426Z",
     "shell.execute_reply": "2025-05-18T16:44:34.710887Z",
     "shell.execute_reply.started": "2025-05-18T16:44:34.676412Z"
    }
   },
   "outputs": [],
   "source": [
    "# Define training arguments\n",
    "training_args = TrainingArguments(\n",
    "    output_dir=output_dir,\n",
    "    eval_strategy=\"epoch\",\n",
    "    save_strategy=\"epoch\",\n",
    "    learning_rate=5e-5,\n",
    "    per_device_train_batch_size=16,\n",
    "    per_device_eval_batch_size=64,\n",
    "    num_train_epochs=5,\n",
    "    weight_decay=0.01,\n",
    "    load_best_model_at_end=True,\n",
    "    metric_for_best_model=\"f1\",\n",
    "    push_to_hub=False,\n",
    "    report_to=\"tensorboard\",\n",
    ")"
   ]
  },
  {
   "cell_type": "code",
   "execution_count": 39,
   "id": "c15bd63a",
   "metadata": {
    "execution": {
     "iopub.execute_input": "2025-05-18T16:44:34.712978Z",
     "iopub.status.busy": "2025-05-18T16:44:34.712694Z",
     "iopub.status.idle": "2025-05-18T16:44:34.716311Z",
     "shell.execute_reply": "2025-05-18T16:44:34.715645Z",
     "shell.execute_reply.started": "2025-05-18T16:44:34.712938Z"
    }
   },
   "outputs": [],
   "source": [
    "# Create early stopping callback\n",
    "early_stopping_callback = EarlyStoppingCallback(early_stopping_patience=2)"
   ]
  },
  {
   "cell_type": "code",
   "execution_count": 40,
   "id": "292b287f",
   "metadata": {
    "execution": {
     "iopub.execute_input": "2025-05-18T16:44:34.717472Z",
     "iopub.status.busy": "2025-05-18T16:44:34.717009Z",
     "iopub.status.idle": "2025-05-18T16:44:35.362594Z",
     "shell.execute_reply": "2025-05-18T16:44:35.362067Z",
     "shell.execute_reply.started": "2025-05-18T16:44:34.717448Z"
    }
   },
   "outputs": [],
   "source": [
    "# Initialize Trainer\n",
    "trainer = Trainer(\n",
    "    model=model,\n",
    "    args=training_args,\n",
    "    train_dataset=tokenized_train,\n",
    "    eval_dataset=tokenized_val,\n",
    "    tokenizer=tokenizer,\n",
    "    compute_metrics=compute_metrics,\n",
    "    callbacks=[early_stopping_callback]\n",
    ")"
   ]
  },
  {
   "cell_type": "markdown",
   "id": "f1004859",
   "metadata": {},
   "source": [
    "## 9. Training Process\n",
    "\n",
    "Let's train the model and track the time it takes."
   ]
  },
  {
   "cell_type": "code",
   "execution_count": 41,
   "id": "bbc91abd",
   "metadata": {
    "execution": {
     "iopub.execute_input": "2025-05-18T16:44:35.363515Z",
     "iopub.status.busy": "2025-05-18T16:44:35.363271Z",
     "iopub.status.idle": "2025-05-18T16:44:35.367142Z",
     "shell.execute_reply": "2025-05-18T16:44:35.366227Z",
     "shell.execute_reply.started": "2025-05-18T16:44:35.363494Z"
    }
   },
   "outputs": [],
   "source": [
    "# Start timer\n",
    "start_time = time.time()"
   ]
  },
  {
   "cell_type": "code",
   "execution_count": 42,
   "id": "9d8e1676",
   "metadata": {
    "execution": {
     "iopub.execute_input": "2025-05-18T16:44:35.369406Z",
     "iopub.status.busy": "2025-05-18T16:44:35.369163Z",
     "iopub.status.idle": "2025-05-18T17:05:37.122892Z",
     "shell.execute_reply": "2025-05-18T17:05:37.122257Z",
     "shell.execute_reply.started": "2025-05-18T16:44:35.369391Z"
    }
   },
   "outputs": [
    {
     "name": "stdout",
     "output_type": "stream",
     "text": [
      "Starting training...\n"
     ]
    },
    {
     "data": {
      "text/html": [
       "\n",
       "    <div>\n",
       "      \n",
       "      <progress value='6260' max='7825' style='width:300px; height:20px; vertical-align: middle;'></progress>\n",
       "      [6260/7825 20:59 < 05:14, 4.97 it/s, Epoch 4/5]\n",
       "    </div>\n",
       "    <table border=\"1\" class=\"dataframe\">\n",
       "  <thead>\n",
       " <tr style=\"text-align: left;\">\n",
       "      <th>Epoch</th>\n",
       "      <th>Training Loss</th>\n",
       "      <th>Validation Loss</th>\n",
       "      <th>Accuracy</th>\n",
       "      <th>Precision</th>\n",
       "      <th>Recall</th>\n",
       "      <th>F1</th>\n",
       "    </tr>\n",
       "  </thead>\n",
       "  <tbody>\n",
       "    <tr>\n",
       "      <td>1</td>\n",
       "      <td>0.059100</td>\n",
       "      <td>0.041846</td>\n",
       "      <td>0.986956</td>\n",
       "      <td>0.987080</td>\n",
       "      <td>0.986956</td>\n",
       "      <td>0.986957</td>\n",
       "    </tr>\n",
       "    <tr>\n",
       "      <td>2</td>\n",
       "      <td>0.026300</td>\n",
       "      <td>0.032371</td>\n",
       "      <td>0.992919</td>\n",
       "      <td>0.992928</td>\n",
       "      <td>0.992919</td>\n",
       "      <td>0.992919</td>\n",
       "    </tr>\n",
       "    <tr>\n",
       "      <td>3</td>\n",
       "      <td>0.015700</td>\n",
       "      <td>0.046069</td>\n",
       "      <td>0.991242</td>\n",
       "      <td>0.991290</td>\n",
       "      <td>0.991242</td>\n",
       "      <td>0.991243</td>\n",
       "    </tr>\n",
       "    <tr>\n",
       "      <td>4</td>\n",
       "      <td>0.007200</td>\n",
       "      <td>0.060904</td>\n",
       "      <td>0.990217</td>\n",
       "      <td>0.990283</td>\n",
       "      <td>0.990217</td>\n",
       "      <td>0.990218</td>\n",
       "    </tr>\n",
       "  </tbody>\n",
       "</table><p>"
      ],
      "text/plain": [
       "<IPython.core.display.HTML object>"
      ]
     },
     "metadata": {},
     "output_type": "display_data"
    }
   ],
   "source": [
    "# Train the model\n",
    "print(\"Starting training...\")\n",
    "train_result = trainer.train()"
   ]
  },
  {
   "cell_type": "code",
   "execution_count": 43,
   "id": "fbbf95ac",
   "metadata": {
    "execution": {
     "iopub.execute_input": "2025-05-18T17:05:37.124027Z",
     "iopub.status.busy": "2025-05-18T17:05:37.123738Z",
     "iopub.status.idle": "2025-05-18T17:05:37.127917Z",
     "shell.execute_reply": "2025-05-18T17:05:37.127375Z",
     "shell.execute_reply.started": "2025-05-18T17:05:37.124003Z"
    }
   },
   "outputs": [
    {
     "name": "stdout",
     "output_type": "stream",
     "text": [
      "Training completed in 21.03 minutes\n"
     ]
    }
   ],
   "source": [
    "# Calculate training time\n",
    "train_time = time.time() - start_time\n",
    "print(f\"Training completed in {train_time/60:.2f} minutes\")"
   ]
  },
  {
   "cell_type": "code",
   "execution_count": 44,
   "id": "2059ceb0",
   "metadata": {
    "execution": {
     "iopub.execute_input": "2025-05-18T17:05:37.129097Z",
     "iopub.status.busy": "2025-05-18T17:05:37.128739Z",
     "iopub.status.idle": "2025-05-18T17:05:37.143676Z",
     "shell.execute_reply": "2025-05-18T17:05:37.143000Z",
     "shell.execute_reply.started": "2025-05-18T17:05:37.129072Z"
    }
   },
   "outputs": [
    {
     "name": "stdout",
     "output_type": "stream",
     "text": [
      "Training metrics: {'train_runtime': 1261.3336, 'train_samples_per_second': 198.492, 'train_steps_per_second': 6.204, 'total_flos': 2871986231697408.0, 'train_loss': 0.041746389599273, 'epoch': 4.0}\n"
     ]
    }
   ],
   "source": [
    "# Print training metrics\n",
    "print(f\"Training metrics: {train_result.metrics}\")"
   ]
  },
  {
   "cell_type": "markdown",
   "id": "950b481c",
   "metadata": {},
   "source": [
    "## 10. Evaluation on Test Set\n",
    "\n",
    "After training, we'll evaluate the model on our held-out test set."
   ]
  },
  {
   "cell_type": "code",
   "execution_count": 45,
   "id": "83577d99",
   "metadata": {
    "execution": {
     "iopub.execute_input": "2025-05-18T17:05:37.144420Z",
     "iopub.status.busy": "2025-05-18T17:05:37.144264Z",
     "iopub.status.idle": "2025-05-18T17:05:55.929894Z",
     "shell.execute_reply": "2025-05-18T17:05:55.929353Z",
     "shell.execute_reply.started": "2025-05-18T17:05:37.144407Z"
    }
   },
   "outputs": [
    {
     "name": "stdout",
     "output_type": "stream",
     "text": [
      "\n",
      "Evaluating on test set...\n"
     ]
    },
    {
     "data": {
      "text/html": [],
      "text/plain": [
       "<IPython.core.display.HTML object>"
      ]
     },
     "metadata": {},
     "output_type": "display_data"
    }
   ],
   "source": [
    "# Evaluate on test set\n",
    "print(\"\\nEvaluating on test set...\")\n",
    "test_results = trainer.evaluate(tokenized_test)"
   ]
  },
  {
   "cell_type": "code",
   "execution_count": 46,
   "id": "34170ef7",
   "metadata": {
    "execution": {
     "iopub.execute_input": "2025-05-18T17:05:55.930861Z",
     "iopub.status.busy": "2025-05-18T17:05:55.930604Z",
     "iopub.status.idle": "2025-05-18T17:05:55.934528Z",
     "shell.execute_reply": "2025-05-18T17:05:55.933850Z",
     "shell.execute_reply.started": "2025-05-18T17:05:55.930836Z"
    }
   },
   "outputs": [
    {
     "name": "stdout",
     "output_type": "stream",
     "text": [
      "Test results: {'eval_loss': 0.03283044323325157, 'eval_accuracy': 0.9917062715497158, 'eval_precision': 0.9917335078148819, 'eval_recall': 0.9917062715497158, 'eval_f1': 0.9917067885366362, 'eval_runtime': 18.7665, 'eval_samples_per_second': 571.817, 'eval_steps_per_second': 4.476, 'epoch': 4.0}\n"
     ]
    }
   ],
   "source": [
    "# Print test results\n",
    "print(f\"Test results: {test_results}\")"
   ]
  },
  {
   "cell_type": "code",
   "execution_count": 47,
   "id": "27e804de",
   "metadata": {
    "execution": {
     "iopub.execute_input": "2025-05-18T17:05:55.935514Z",
     "iopub.status.busy": "2025-05-18T17:05:55.935331Z",
     "iopub.status.idle": "2025-05-18T17:06:14.695408Z",
     "shell.execute_reply": "2025-05-18T17:06:14.694820Z",
     "shell.execute_reply.started": "2025-05-18T17:05:55.935500Z"
    }
   },
   "outputs": [],
   "source": [
    "# Get predictions\n",
    "predictions = trainer.predict(tokenized_test)"
   ]
  },
  {
   "cell_type": "code",
   "execution_count": 48,
   "id": "d961c85f",
   "metadata": {
    "execution": {
     "iopub.execute_input": "2025-05-18T17:06:14.696535Z",
     "iopub.status.busy": "2025-05-18T17:06:14.696242Z",
     "iopub.status.idle": "2025-05-18T17:06:14.701001Z",
     "shell.execute_reply": "2025-05-18T17:06:14.700375Z",
     "shell.execute_reply.started": "2025-05-18T17:06:14.696513Z"
    }
   },
   "outputs": [],
   "source": [
    "# Process predictions\n",
    "preds = np.argmax(predictions.predictions, axis=1)\n",
    "labels = predictions.label_ids"
   ]
  },
  {
   "cell_type": "code",
   "execution_count": 49,
   "id": "267f2483",
   "metadata": {
    "execution": {
     "iopub.execute_input": "2025-05-18T17:06:14.702007Z",
     "iopub.status.busy": "2025-05-18T17:06:14.701718Z",
     "iopub.status.idle": "2025-05-18T17:06:14.721927Z",
     "shell.execute_reply": "2025-05-18T17:06:14.721351Z",
     "shell.execute_reply.started": "2025-05-18T17:06:14.701982Z"
    }
   },
   "outputs": [],
   "source": [
    "# Create confusion matrix\n",
    "cm = confusion_matrix(labels, preds)"
   ]
  },
  {
   "cell_type": "code",
   "execution_count": 50,
   "id": "edb81304",
   "metadata": {
    "execution": {
     "iopub.execute_input": "2025-05-18T17:06:14.723792Z",
     "iopub.status.busy": "2025-05-18T17:06:14.723014Z",
     "iopub.status.idle": "2025-05-18T17:06:14.902922Z",
     "shell.execute_reply": "2025-05-18T17:06:14.902210Z",
     "shell.execute_reply.started": "2025-05-18T17:06:14.723770Z"
    }
   },
   "outputs": [
    {
     "data": {
      "image/png": "[encoded data removed]",
      "text/plain": [
       "<Figure size 800x600 with 2 Axes>"
      ]
     },
     "metadata": {},
     "output_type": "display_data"
    }
   ],
   "source": [
    "# Visualize confusion matrix\n",
    "plt.figure(figsize=(8, 6))\n",
    "sns.heatmap(cm, annot=True, fmt='d', cmap='Blues', \n",
    "            xticklabels=['Real News', 'Fake News'], \n",
    "            yticklabels=['Real News', 'Fake News'])\n",
    "plt.title('TinyBERT Confusion Matrix')\n",
    "plt.xlabel('Predicted Label')\n",
    "plt.ylabel('True Label')\n",
    "plt.tight_layout()\n",
    "plt.show()"
   ]
  },
  {
   "cell_type": "code",
   "execution_count": 51,
   "id": "932dbcad",
   "metadata": {
    "execution": {
     "iopub.execute_input": "2025-05-18T17:06:14.906080Z",
     "iopub.status.busy": "2025-05-18T17:06:14.905791Z",
     "iopub.status.idle": "2025-05-18T17:06:14.918656Z",
     "shell.execute_reply": "2025-05-18T17:06:14.918017Z",
     "shell.execute_reply.started": "2025-05-18T17:06:14.906063Z"
    }
   },
   "outputs": [
    {
     "name": "stdout",
     "output_type": "stream",
     "text": [
      "\n",
      "Classification Report:\n",
      "              precision    recall  f1-score   support\n",
      "\n",
      "   Real News       0.99      1.00      0.99      5254\n",
      "   Fake News       1.00      0.99      0.99      5477\n",
      "\n",
      "    accuracy                           0.99     10731\n",
      "   macro avg       0.99      0.99      0.99     10731\n",
      "weighted avg       0.99      0.99      0.99     10731\n",
      "\n"
     ]
    }
   ],
   "source": [
    "# Print classification report\n",
    "print(\"\\nClassification Report:\")\n",
    "print(classification_report(labels, preds, target_names=['Real News', 'Fake News']))"
   ]
  },
  {
   "cell_type": "markdown",
   "id": "a0ef1a39",
   "metadata": {},
   "source": [
    "## 11. Saving the Model\n",
    "\n",
    "Now we'll save the model for future use."
   ]
  },
  {
   "cell_type": "code",
   "execution_count": 52,
   "id": "076c3f9f",
   "metadata": {
    "execution": {
     "iopub.execute_input": "2025-05-18T17:06:14.919629Z",
     "iopub.status.busy": "2025-05-18T17:06:14.919419Z",
     "iopub.status.idle": "2025-05-18T17:06:14.930539Z",
     "shell.execute_reply": "2025-05-18T17:06:14.929903Z",
     "shell.execute_reply.started": "2025-05-18T17:06:14.919613Z"
    }
   },
   "outputs": [],
   "source": [
    "# Define model save path\n",
    "model_save_path = \"./tinybert_welfake_model\""
   ]
  },
  {
   "cell_type": "code",
   "execution_count": 53,
   "id": "624d1efb",
   "metadata": {
    "execution": {
     "iopub.execute_input": "2025-05-18T17:06:14.931309Z",
     "iopub.status.busy": "2025-05-18T17:06:14.931152Z",
     "iopub.status.idle": "2025-05-18T17:06:15.099807Z",
     "shell.execute_reply": "2025-05-18T17:06:15.099248Z",
     "shell.execute_reply.started": "2025-05-18T17:06:14.931297Z"
    }
   },
   "outputs": [],
   "source": [
    "# Save model\n",
    "trainer.save_model(model_save_path)"
   ]
  },
  {
   "cell_type": "code",
   "execution_count": 54,
   "id": "c50d681e",
   "metadata": {
    "execution": {
     "iopub.execute_input": "2025-05-18T17:06:15.100630Z",
     "iopub.status.busy": "2025-05-18T17:06:15.100451Z",
     "iopub.status.idle": "2025-05-18T17:06:15.118156Z",
     "shell.execute_reply": "2025-05-18T17:06:15.117580Z",
     "shell.execute_reply.started": "2025-05-18T17:06:15.100616Z"
    }
   },
   "outputs": [
    {
     "data": {
      "text/plain": [
       "('./tinybert_welfake_model/tokenizer_config.json',\n",
       " './tinybert_welfake_model/special_tokens_map.json',\n",
       " './tinybert_welfake_model/vocab.txt',\n",
       " './tinybert_welfake_model/added_tokens.json',\n",
       " './tinybert_welfake_model/tokenizer.json')"
      ]
     },
     "execution_count": 54,
     "metadata": {},
     "output_type": "execute_result"
    }
   ],
   "source": [
    "# Save tokenizer\n",
    "tokenizer.save_pretrained(model_save_path)"
   ]
  },
  {
   "cell_type": "code",
   "execution_count": 55,
   "id": "c86b8ea4",
   "metadata": {
    "execution": {
     "iopub.execute_input": "2025-05-18T17:06:15.118941Z",
     "iopub.status.busy": "2025-05-18T17:06:15.118740Z",
     "iopub.status.idle": "2025-05-18T17:06:15.126884Z",
     "shell.execute_reply": "2025-05-18T17:06:15.126341Z",
     "shell.execute_reply.started": "2025-05-18T17:06:15.118927Z"
    }
   },
   "outputs": [
    {
     "name": "stdout",
     "output_type": "stream",
     "text": [
      "Model saved to ./tinybert_welfake_model\n"
     ]
    }
   ],
   "source": [
    "print(f\"Model saved to {model_save_path}\")"
   ]
  },
  {
   "cell_type": "markdown",
   "id": "6e99b162",
   "metadata": {},
   "source": [
    "## 12. Error Analysis\n",
    "\n",
    "Let's look at some examples that the model misclassified to understand its weaknesses."
   ]
  },
  {
   "cell_type": "code",
   "execution_count": 56,
   "id": "680eb4a1",
   "metadata": {
    "execution": {
     "iopub.execute_input": "2025-05-18T17:06:15.127730Z",
     "iopub.status.busy": "2025-05-18T17:06:15.127514Z",
     "iopub.status.idle": "2025-05-18T17:06:15.141511Z",
     "shell.execute_reply": "2025-05-18T17:06:15.140928Z",
     "shell.execute_reply.started": "2025-05-18T17:06:15.127708Z"
    }
   },
   "outputs": [],
   "source": [
    "# Find misclassified examples\n",
    "misclassified_indices = np.where(preds != labels)[0]"
   ]
  },
  {
   "cell_type": "code",
   "execution_count": 57,
   "id": "6780413f",
   "metadata": {
    "execution": {
     "iopub.execute_input": "2025-05-18T17:06:15.142514Z",
     "iopub.status.busy": "2025-05-18T17:06:15.142283Z",
     "iopub.status.idle": "2025-05-18T17:06:15.155664Z",
     "shell.execute_reply": "2025-05-18T17:06:15.154994Z",
     "shell.execute_reply.started": "2025-05-18T17:06:15.142495Z"
    }
   },
   "outputs": [],
   "source": [
    "# Create DataFrame of misclassified examples\n",
    "misclassified_df = test_df.iloc[misclassified_indices].reset_index(drop=True)"
   ]
  },
  {
   "cell_type": "code",
   "execution_count": 58,
   "id": "ee588f58",
   "metadata": {
    "execution": {
     "iopub.execute_input": "2025-05-18T17:06:15.156669Z",
     "iopub.status.busy": "2025-05-18T17:06:15.156371Z",
     "iopub.status.idle": "2025-05-18T17:06:15.169464Z",
     "shell.execute_reply": "2025-05-18T17:06:15.168856Z",
     "shell.execute_reply.started": "2025-05-18T17:06:15.156650Z"
    }
   },
   "outputs": [],
   "source": [
    "# Add prediction column\n",
    "misclassified_df['prediction'] = preds[misclassified_indices]"
   ]
  },
  {
   "cell_type": "code",
   "execution_count": 59,
   "id": "13689bd2",
   "metadata": {
    "execution": {
     "iopub.execute_input": "2025-05-18T17:06:15.170669Z",
     "iopub.status.busy": "2025-05-18T17:06:15.170235Z",
     "iopub.status.idle": "2025-05-18T17:06:15.182728Z",
     "shell.execute_reply": "2025-05-18T17:06:15.182095Z",
     "shell.execute_reply.started": "2025-05-18T17:06:15.170648Z"
    }
   },
   "outputs": [
    {
     "name": "stdout",
     "output_type": "stream",
     "text": [
      "Total misclassified examples: 89\n"
     ]
    }
   ],
   "source": [
    "# Display number of misclassified examples\n",
    "print(f\"Total misclassified examples: {len(misclassified_df)}\")"
   ]
  },
  {
   "cell_type": "code",
   "execution_count": 60,
   "id": "85ab0e47",
   "metadata": {
    "execution": {
     "iopub.execute_input": "2025-05-18T17:06:15.183568Z",
     "iopub.status.busy": "2025-05-18T17:06:15.183355Z",
     "iopub.status.idle": "2025-05-18T17:06:15.199495Z",
     "shell.execute_reply": "2025-05-18T17:06:15.199000Z",
     "shell.execute_reply.started": "2025-05-18T17:06:15.183553Z"
    }
   },
   "outputs": [
    {
     "name": "stdout",
     "output_type": "stream",
     "text": [
      "\n",
      "Sample of misclassified examples:\n",
      "\n",
      "Example 1:\n",
      "Title: Debate: Washington's Syria policy\n",
      "True label: Fake\n",
      "Predicted: Real\n",
      "--------------------------------------------------------------------------------\n",
      "\n",
      "Example 2:\n",
      "Title: TRUMP SET TO ROLL BACK Even More of Obama’s Legacy With New Executive Order\n",
      "True label: Fake\n",
      "Predicted: Real\n",
      "--------------------------------------------------------------------------------\n",
      "\n",
      "Example 3:\n",
      "Title: Hillary Campaign Manager Gets $7K a Month from Hillary Donor Linked to Economic Collapse\n",
      "True label: Fake\n",
      "Predicted: Real\n",
      "--------------------------------------------------------------------------------\n",
      "\n",
      "Example 4:\n",
      "Title: Move To Drug Test Gun Owners In Open Carry States\n",
      "True label: Fake\n",
      "Predicted: Real\n",
      "--------------------------------------------------------------------------------\n",
      "\n",
      "Example 5:\n",
      "Title: Equal Parenting Rights, A synopsis of the facts\n",
      "True label: Fake\n",
      "Predicted: Real\n",
      "--------------------------------------------------------------------------------\n"
     ]
    }
   ],
   "source": [
    "# Display sample of misclassified examples\n",
    "print(\"\\nSample of misclassified examples:\")\n",
    "for i in range(min(5, len(misclassified_df))):\n",
    "    print(f\"\\nExample {i+1}:\")\n",
    "    print(f\"Title: {misclassified_df.iloc[i]['title']}\")\n",
    "    print(f\"True label: {'Real' if misclassified_df.iloc[i]['label'] == 0 else 'Fake'}\")\n",
    "    print(f\"Predicted: {'Real' if misclassified_df.iloc[i]['prediction'] == 0 else 'Fake'}\")\n",
    "    print(\"-\" * 80)"
   ]
  },
  {
   "cell_type": "markdown",
   "id": "22bbb0a9",
   "metadata": {},
   "source": [
    "## 13. Resource Usage Analysis\n",
    "\n",
    "Finally, let's analyze the resource usage of our TinyBERT model, which is important for deployment considerations."
   ]
  },
  {
   "cell_type": "code",
   "execution_count": 61,
   "id": "b862f24c",
   "metadata": {
    "execution": {
     "iopub.execute_input": "2025-05-18T17:06:15.200251Z",
     "iopub.status.busy": "2025-05-18T17:06:15.200065Z",
     "iopub.status.idle": "2025-05-18T17:06:15.215279Z",
     "shell.execute_reply": "2025-05-18T17:06:15.214685Z",
     "shell.execute_reply.started": "2025-05-18T17:06:15.200237Z"
    }
   },
   "outputs": [],
   "source": [
    "# Define function to calculate model size\n",
    "def get_model_size(model):\n",
    "    \"\"\"Calculate model size in MB\"\"\"\n",
    "    model_size = sum(p.numel() * p.element_size() for p in model.parameters()) / (1024 * 1024)\n",
    "    return model_size"
   ]
  },
  {
   "cell_type": "code",
   "execution_count": 62,
   "id": "48e3a26b",
   "metadata": {
    "execution": {
     "iopub.execute_input": "2025-05-18T17:06:15.216230Z",
     "iopub.status.busy": "2025-05-18T17:06:15.215991Z",
     "iopub.status.idle": "2025-05-18T17:06:15.229264Z",
     "shell.execute_reply": "2025-05-18T17:06:15.228607Z",
     "shell.execute_reply.started": "2025-05-18T17:06:15.216203Z"
    }
   },
   "outputs": [],
   "source": [
    "# Calculate model size\n",
    "model_size_mb = get_model_size(model)"
   ]
  },
  {
   "cell_type": "code",
   "execution_count": 63,
   "id": "edd0c29d",
   "metadata": {
    "execution": {
     "iopub.execute_input": "2025-05-18T17:06:15.230287Z",
     "iopub.status.busy": "2025-05-18T17:06:15.230003Z",
     "iopub.status.idle": "2025-05-18T17:06:15.243086Z",
     "shell.execute_reply": "2025-05-18T17:06:15.242406Z",
     "shell.execute_reply.started": "2025-05-18T17:06:15.230270Z"
    }
   },
   "outputs": [],
   "source": [
    "# Calculate parameter count\n",
    "param_count = sum(p.numel() for p in model.parameters())"
   ]
  },
  {
   "cell_type": "code",
   "execution_count": 64,
   "id": "01863e4c",
   "metadata": {
    "execution": {
     "iopub.execute_input": "2025-05-18T17:06:15.243922Z",
     "iopub.status.busy": "2025-05-18T17:06:15.243701Z",
     "iopub.status.idle": "2025-05-18T17:06:15.257194Z",
     "shell.execute_reply": "2025-05-18T17:06:15.256627Z",
     "shell.execute_reply.started": "2025-05-18T17:06:15.243902Z"
    }
   },
   "outputs": [
    {
     "name": "stdout",
     "output_type": "stream",
     "text": [
      "\n",
      "Model Analysis:\n",
      "Parameter count: 14,350,874\n",
      "Model size: 54.74 MB\n"
     ]
    }
   ],
   "source": [
    "# Print model size statistics\n",
    "print(f\"\\nModel Analysis:\")\n",
    "print(f\"Parameter count: {param_count:,}\")\n",
    "print(f\"Model size: {model_size_mb:.2f} MB\")"
   ]
  },
  {
   "cell_type": "code",
   "execution_count": 65,
   "id": "0fe93e07",
   "metadata": {
    "execution": {
     "iopub.execute_input": "2025-05-18T17:06:15.257887Z",
     "iopub.status.busy": "2025-05-18T17:06:15.257719Z",
     "iopub.status.idle": "2025-05-18T17:06:15.273059Z",
     "shell.execute_reply": "2025-05-18T17:06:15.272335Z",
     "shell.execute_reply.started": "2025-05-18T17:06:15.257874Z"
    }
   },
   "outputs": [],
   "source": [
    "# Define function to measure inference time\n",
    "def measure_inference_time(model, dataset, batch_size=1, num_samples=100):\n",
    "    \"\"\"Measure average inference time per sample\"\"\"\n",
    "    model.eval()\n",
    "    dataloader = torch.utils.data.DataLoader(\n",
    "        dataset.select(range(min(num_samples, len(dataset)))), \n",
    "        batch_size=batch_size\n",
    "    )\n",
    "    \n",
    "    total_time = 0\n",
    "    sample_count = 0\n",
    "    \n",
    "    with torch.no_grad():\n",
    "        for batch in dataloader:\n",
    "            # Move batch to device\n",
    "            batch = {k: v.to(device) for k, v in batch.items()}\n",
    "            \n",
    "            start_time = time.time()\n",
    "            _ = model(input_ids=batch['input_ids'], attention_mask=batch['attention_mask'])\n",
    "            batch_time = time.time() - start_time\n",
    "            \n",
    "            total_time += batch_time\n",
    "            sample_count += batch['input_ids'].size(0)\n",
    "    \n",
    "    avg_time_per_sample = (total_time / sample_count) * 1000  # Convert to ms\n",
    "    return avg_time_per_sample"
   ]
  },
  {
   "cell_type": "code",
   "execution_count": 66,
   "id": "ff335189",
   "metadata": {
    "execution": {
     "iopub.execute_input": "2025-05-18T17:06:15.273991Z",
     "iopub.status.busy": "2025-05-18T17:06:15.273754Z",
     "iopub.status.idle": "2025-05-18T17:06:15.701994Z",
     "shell.execute_reply": "2025-05-18T17:06:15.701263Z",
     "shell.execute_reply.started": "2025-05-18T17:06:15.273967Z"
    }
   },
   "outputs": [
    {
     "name": "stdout",
     "output_type": "stream",
     "text": [
      "Average inference time (batch size 1): 3.40 ms per sample\n"
     ]
    }
   ],
   "source": [
    "# Measure inference time for batch size 1\n",
    "bs1_time = measure_inference_time(model, tokenized_test, batch_size=1)\n",
    "print(f\"Average inference time (batch size 1): {bs1_time:.2f} ms per sample\")"
   ]
  },
  {
   "cell_type": "code",
   "execution_count": 67,
   "id": "2e17d2da",
   "metadata": {
    "execution": {
     "iopub.execute_input": "2025-05-18T17:06:15.703044Z",
     "iopub.status.busy": "2025-05-18T17:06:15.702713Z",
     "iopub.status.idle": "2025-05-18T17:06:15.981322Z",
     "shell.execute_reply": "2025-05-18T17:06:15.980576Z",
     "shell.execute_reply.started": "2025-05-18T17:06:15.703016Z"
    }
   },
   "outputs": [
    {
     "name": "stdout",
     "output_type": "stream",
     "text": [
      "Average inference time (batch size 8): 0.41 ms per sample\n"
     ]
    }
   ],
   "source": [
    "# Measure inference time for batch size 8\n",
    "bs8_time = measure_inference_time(model, tokenized_test, batch_size=8)\n",
    "print(f\"Average inference time (batch size 8): {bs8_time:.2f} ms per sample\")"
   ]
  },
  {
   "cell_type": "code",
   "execution_count": 68,
   "id": "8b7e4d74",
   "metadata": {
    "execution": {
     "iopub.execute_input": "2025-05-18T17:06:15.982108Z",
     "iopub.status.busy": "2025-05-18T17:06:15.981872Z",
     "iopub.status.idle": "2025-05-18T17:06:16.258761Z",
     "shell.execute_reply": "2025-05-18T17:06:16.258231Z",
     "shell.execute_reply.started": "2025-05-18T17:06:15.982093Z"
    }
   },
   "outputs": [
    {
     "name": "stdout",
     "output_type": "stream",
     "text": [
      "Average inference time (batch size 32): 0.16 ms per sample\n"
     ]
    }
   ],
   "source": [
    "# Measure inference time for batch size 32\n",
    "bs32_time = measure_inference_time(model, tokenized_test, batch_size=32)\n",
    "print(f\"Average inference time (batch size 32): {bs32_time:.2f} ms per sample\")"
   ]
  },
  {
   "cell_type": "markdown",
   "id": "064cca0b",
   "metadata": {},
   "source": [
    "## 14. Conclusion\n",
    "# TINYBERT FAKE NEWS DETECTION: SUMMARY\n",
    "\n",
    "## Performance Metrics\n",
    "- **Accuracy**: 0.9917\n",
    "- **F1 Score**: 0.9917\n",
    "- **Training Time**: 21.03 minutes\n",
    "- **Model Size**: 54.74 MB (14,350,874 parameters)\n",
    "\n",
    "## Key Advantages for Fake News Detection\n",
    "\n",
    "1. Efficient model size (~15M parameters) enables deployment on resource-constrained devices\n",
    "2. Maintains strong performance comparable to larger models\n",
    "3. Fast inference time makes it suitable for real-time applications\n",
    "4. Effectively captures linguistic patterns distinguishing real from fake news"
   ]
  },
  {
   "cell_type": "markdown",
   "id": "19cf9dd6",
   "metadata": {},
   "source": [
    "## 15. Next Steps\n",
    "\n",
    "For future work, consider these directions to further enhance fake news detection with TinyBERT:\n",
    "\n",
    "1. Experiment with different preprocessing techniques, such as removing stop words or using entity recognition\n",
    "2. Compare with other lightweight models like DistilBERT or MobileBERT\n",
    "3. Investigate domain adaptation techniques to improve performance on specific types of news\n",
    "4. Create an ensemble model combining TinyBERT with feature-based approaches\n",
    "5. Develop a simple API or interface for real-time fake news detection"
   ]
  }
 ],
 "metadata": {
  "jupytext": {
   "cell_metadata_filter": "-all",
   "main_language": "python",
   "notebook_metadata_filter": "-all"
  },
  "kaggle": {
   "accelerator": "nvidiaTeslaT4",
   "dataSources": [
    {
     "datasetId": 7453450,
     "sourceId": 11861402,
     "sourceType": "datasetVersion"
    }
   ],
   "dockerImageVersionId": 31041,
   "isGpuEnabled": true,
   "isInternetEnabled": true,
   "language": "python",
   "sourceType": "notebook"
  },
  "kernelspec": {
   "display_name": "Python 3 (ipykernel)",
   "language": "python",
   "name": "python3"
  },
  "language_info": {
   "codemirror_mode": {
    "name": "ipython",
    "version": 3
   },
   "file_extension": ".py",
   "mimetype": "text/x-python",
   "name": "python",
   "nbconvert_exporter": "python",
   "pygments_lexer": "ipython3",
   "version": "3.12.1"
  }
 },
 "nbformat": 4,
 "nbformat_minor": 5
}
