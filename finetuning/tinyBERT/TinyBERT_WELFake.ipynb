{
 "cells": [
  {
   "cell_type": "markdown",
   "id": "c3328447",
   "metadata": {
    "jupyter": {
     "source_hidden": true
    }
   },
   "source": [
    "# TinyBERT for Fake News Detection - Enhanced Training and Evaluation\n",
    "\n",
    "## 1. Introduction\n",
    "\n",
    "This notebook demonstrates how to finetune TinyBERT for detecting fake news using the WELFake dataset with improved training strategies and rigorous evaluation methods. TinyBERT is an efficient and lightweight transformer model that uses knowledge distillation to achieve performance comparable to larger models while requiring significantly fewer computational resources.\n",
    "\n",
    "TinyBERT has approximately 15 million parameters, making it about 7.5x smaller than BERT-base, while maintaining strong performance on natural language understanding tasks. This efficiency makes it an excellent candidate for fake news detection applications that may need to run on resource-constrained environments like mobile devices or edge computing platforms.\n",
    "\n",
    "### What's New in This Enhanced Version\n",
    "\n",
    "We've made several critical improvements to ensure more reliable and robust results:\n",
    "\n",
    "1. **Optimized Hyperparameters**: We'll use TinyBERT-specific learning rates and training strategies based on the model's architecture\n",
    "2. **Multiple Training Runs**: Instead of a single train/test split, we'll perform multiple runs to establish confidence intervals\n",
    "3. **K-Fold Cross-Validation**: We'll implement 5-fold cross-validation to ensure every sample is used for both training and testing\n",
    "4. **Improved Training Strategy**: Better early stopping patience, learning rate scheduling, and regularization techniques\n",
    "\n",
    "These changes will give us a much more accurate picture of TinyBERT's true capabilities for fake news detection.\n",
    "\n",
    "## 2. Environment Setup\n",
    "\n",
    "First, let's import the necessary libraries and set up our environment. We'll need PyTorch for deep learning, Hugging Face Transformers for the model, and various utilities for data processing and evaluation."
   ]
  },
  {
   "cell_type": "code",
   "execution_count": 1,
   "id": "6efd4133",
   "metadata": {
    "execution": {
     "iopub.execute_input": "2025-05-22T17:37:15.981002Z",
     "iopub.status.busy": "2025-05-22T17:37:15.980682Z",
     "iopub.status.idle": "2025-05-22T17:37:19.064836Z",
     "shell.execute_reply": "2025-05-22T17:37:19.064154Z",
     "shell.execute_reply.started": "2025-05-22T17:37:15.980973Z"
    }
   },
   "outputs": [],
   "source": [
    "# Import basic utilities\n",
    "import pandas as pd\n",
    "import numpy as np\n",
    "import matplotlib.pyplot as plt\n",
    "import seaborn as sns"
   ]
  },
  {
   "cell_type": "markdown",
   "id": "ceb3f582",
   "metadata": {},
   "source": [
    "### PyTorch and System Libraries\n",
    "We import PyTorch for our deep learning framework and set up system utilities for file management and timing."
   ]
  },
  {
   "cell_type": "code",
   "execution_count": 2,
   "id": "c30e9f08",
   "metadata": {
    "execution": {
     "iopub.execute_input": "2025-05-22T17:37:19.066127Z",
     "iopub.status.busy": "2025-05-22T17:37:19.065829Z",
     "iopub.status.idle": "2025-05-22T17:37:23.047128Z",
     "shell.execute_reply": "2025-05-22T17:37:23.046568Z",
     "shell.execute_reply.started": "2025-05-22T17:37:19.066109Z"
    }
   },
   "outputs": [],
   "source": [
    "# Import PyTorch\n",
    "import torch\n",
    "import os\n",
    "import time\n",
    "import random\n",
    "from collections import defaultdict"
   ]
  },
  {
   "cell_type": "markdown",
   "id": "de13b4e9",
   "metadata": {},
   "source": [
    "### Hugging Face Libraries\n",
    "The Transformers library provides pre-trained models and utilities for fine-tuning, while the Datasets library helps with efficient data handling."
   ]
  },
  {
   "cell_type": "code",
   "execution_count": 3,
   "id": "ef442c74",
   "metadata": {
    "execution": {
     "iopub.execute_input": "2025-05-22T17:37:23.048082Z",
     "iopub.status.busy": "2025-05-22T17:37:23.047779Z",
     "iopub.status.idle": "2025-05-22T17:37:46.046048Z",
     "shell.execute_reply": "2025-05-22T17:37:46.045384Z",
     "shell.execute_reply.started": "2025-05-22T17:37:23.048066Z"
    }
   },
   "outputs": [
    {
     "name": "stderr",
     "output_type": "stream",
     "text": [
      "2025-05-22 17:37:31.937352: E external/local_xla/xla/stream_executor/cuda/cuda_fft.cc:477] Unable to register cuFFT factory: Attempting to register factory for plugin cuFFT when one has already been registered\n",
      "WARNING: All log messages before absl::InitializeLog() is called are written to STDERR\n",
      "E0000 00:00:1747935452.120091      35 cuda_dnn.cc:8310] Unable to register cuDNN factory: Attempting to register factory for plugin cuDNN when one has already been registered\n",
      "E0000 00:00:1747935452.173562      35 cuda_blas.cc:1418] Unable to register cuBLAS factory: Attempting to register factory for plugin cuBLAS when one has already been registered\n"
     ]
    }
   ],
   "source": [
    "# Import Hugging Face libraries\n",
    "from transformers import AutoTokenizer, AutoModelForSequenceClassification\n",
    "from transformers import Trainer, TrainingArguments\n",
    "from transformers import EarlyStoppingCallback\n",
    "from transformers import get_scheduler\n",
    "from datasets import Dataset"
   ]
  },
  {
   "cell_type": "markdown",
   "id": "fc818db1",
   "metadata": {},
   "source": [
    "### Evaluation Libraries\n",
    "These libraries will help us measure our model's performance with standard metrics."
   ]
  },
  {
   "cell_type": "code",
   "execution_count": 4,
   "id": "6688b182",
   "metadata": {
    "execution": {
     "iopub.execute_input": "2025-05-22T17:37:46.047555Z",
     "iopub.status.busy": "2025-05-22T17:37:46.046866Z",
     "iopub.status.idle": "2025-05-22T17:37:46.067341Z",
     "shell.execute_reply": "2025-05-22T17:37:46.066808Z",
     "shell.execute_reply.started": "2025-05-22T17:37:46.047500Z"
    }
   },
   "outputs": [],
   "source": [
    "# Import evaluation libraries\n",
    "from sklearn.metrics import accuracy_score, precision_recall_fscore_support\n",
    "from sklearn.metrics import classification_report, confusion_matrix\n",
    "from sklearn.model_selection import train_test_split, KFold, StratifiedKFold"
   ]
  },
  {
   "cell_type": "markdown",
   "id": "dcc74fe5",
   "metadata": {},
   "source": [
    "### Utilities for Clean Output\n",
    "We'll suppress warnings to keep our notebook clean and focused on the results."
   ]
  },
  {
   "cell_type": "code",
   "execution_count": 5,
   "id": "464b40b5",
   "metadata": {
    "execution": {
     "iopub.execute_input": "2025-05-22T17:37:46.069463Z",
     "iopub.status.busy": "2025-05-22T17:37:46.069063Z",
     "iopub.status.idle": "2025-05-22T17:37:46.072554Z",
     "shell.execute_reply": "2025-05-22T17:37:46.071853Z",
     "shell.execute_reply.started": "2025-05-22T17:37:46.069446Z"
    }
   },
   "outputs": [],
   "source": [
    "# Suppress warnings\n",
    "import warnings\n",
    "warnings.filterwarnings('ignore')"
   ]
  },
  {
   "cell_type": "markdown",
   "id": "835cf28e",
   "metadata": {},
   "source": [
    "### Setting Up Reproducibility\n",
    "Setting a random seed ensures our results are reproducible across different runs. However, for multiple runs, we'll use different seeds to get a better estimate of model performance."
   ]
  },
  {
   "cell_type": "code",
   "execution_count": 6,
   "id": "0a1e8599",
   "metadata": {
    "execution": {
     "iopub.execute_input": "2025-05-22T17:37:46.073649Z",
     "iopub.status.busy": "2025-05-22T17:37:46.073371Z",
     "iopub.status.idle": "2025-05-22T17:37:46.084914Z",
     "shell.execute_reply": "2025-05-22T17:37:46.084238Z",
     "shell.execute_reply.started": "2025-05-22T17:37:46.073624Z"
    }
   },
   "outputs": [],
   "source": [
    "# Set seeds for reproducibility\n",
    "def set_seed(seed_value=42):\n",
    "    \"\"\"\n",
    "    Set seeds for all random number generators to ensure reproducibility.\n",
    "    This affects random, numpy, PyTorch CPU and GPU operations.\n",
    "    \"\"\"\n",
    "    random.seed(seed_value)\n",
    "    np.random.seed(seed_value)\n",
    "    torch.manual_seed(seed_value)\n",
    "    torch.cuda.manual_seed_all(seed_value)\n",
    "    os.environ['PYTHONHASHSEED'] = str(seed_value)\n",
    "    torch.backends.cudnn.deterministic = True"
   ]
  },
  {
   "cell_type": "code",
   "execution_count": 7,
   "id": "a5d76888",
   "metadata": {
    "execution": {
     "iopub.execute_input": "2025-05-22T17:37:46.085789Z",
     "iopub.status.busy": "2025-05-22T17:37:46.085550Z",
     "iopub.status.idle": "2025-05-22T17:37:46.099424Z",
     "shell.execute_reply": "2025-05-22T17:37:46.098742Z",
     "shell.execute_reply.started": "2025-05-22T17:37:46.085774Z"
    }
   },
   "outputs": [],
   "source": [
    "# Apply seed for initial setup\n",
    "set_seed()"
   ]
  },
  {
   "cell_type": "markdown",
   "id": "c4a8468b",
   "metadata": {},
   "source": [
    "### Checking Hardware Availability\n",
    "We'll check if a GPU is available to accelerate training."
   ]
  },
  {
   "cell_type": "code",
   "execution_count": 8,
   "id": "9d5cf665",
   "metadata": {
    "execution": {
     "iopub.execute_input": "2025-05-22T17:37:46.100434Z",
     "iopub.status.busy": "2025-05-22T17:37:46.100254Z",
     "iopub.status.idle": "2025-05-22T17:37:46.104371Z",
     "shell.execute_reply": "2025-05-22T17:37:46.103780Z",
     "shell.execute_reply.started": "2025-05-22T17:37:46.100421Z"
    }
   },
   "outputs": [
    {
     "name": "stdout",
     "output_type": "stream",
     "text": [
      "Using device: cuda\n"
     ]
    }
   ],
   "source": [
    "# Check if GPU is available\n",
    "device = torch.device(\"cuda\" if torch.cuda.is_available() else \"cpu\")\n",
    "print(f\"Using device: {device}\")"
   ]
  },
  {
   "cell_type": "markdown",
   "id": "53b9c36d",
   "metadata": {},
   "source": [
    "## 3. Loading and Exploring the Dataset\n",
    "\n",
    "The WELFake dataset combines real and fake news articles from multiple sources. Let's load it and understand its structure and distribution before proceeding with model training."
   ]
  },
  {
   "cell_type": "code",
   "execution_count": 9,
   "id": "7d0ec6be",
   "metadata": {
    "execution": {
     "iopub.execute_input": "2025-05-22T17:37:46.105228Z",
     "iopub.status.busy": "2025-05-22T17:37:46.105044Z",
     "iopub.status.idle": "2025-05-22T17:37:51.907165Z",
     "shell.execute_reply": "2025-05-22T17:37:51.906570Z",
     "shell.execute_reply.started": "2025-05-22T17:37:46.105214Z"
    }
   },
   "outputs": [],
   "source": [
    "# Load the cleaned dataset\n",
    "df = pd.read_csv('/kaggle/input/welfake-cleaned/WELFake_cleaned.csv')"
   ]
  },
  {
   "cell_type": "markdown",
   "id": "cc0f466b",
   "metadata": {},
   "source": [
    "### Dataset Size and Shape\n",
    "First, let's check the overall size of the dataset to understand how much data we're working with."
   ]
  },
  {
   "cell_type": "code",
   "execution_count": 10,
   "id": "11dacd76",
   "metadata": {
    "execution": {
     "iopub.execute_input": "2025-05-22T17:37:51.908125Z",
     "iopub.status.busy": "2025-05-22T17:37:51.907928Z",
     "iopub.status.idle": "2025-05-22T17:37:51.912611Z",
     "shell.execute_reply": "2025-05-22T17:37:51.911728Z",
     "shell.execute_reply.started": "2025-05-22T17:37:51.908110Z"
    }
   },
   "outputs": [
    {
     "name": "stdout",
     "output_type": "stream",
     "text": [
      "Dataset shape: (71537, 10)\n",
      "\n",
      "Column names: ['Unnamed: 0', 'title', 'text', 'label', 'title_length', 'text_length', 'word_count', 'title_has_allcaps', 'title_exclamation', 'title_question']\n"
     ]
    }
   ],
   "source": [
    "# Display basic information\n",
    "print(f\"Dataset shape: {df.shape}\")\n",
    "print(f\"\\nColumn names: {df.columns.tolist()}\")"
   ]
  },
  {
   "cell_type": "markdown",
   "id": "7f97a830",
   "metadata": {},
   "source": [
    "### Class Distribution\n",
    "It's important to check the balance between real and fake news articles to ensure our model doesn't develop bias toward the majority class."
   ]
  },
  {
   "cell_type": "code",
   "execution_count": 11,
   "id": "9833f6c2",
   "metadata": {
    "execution": {
     "iopub.execute_input": "2025-05-22T17:37:51.914101Z",
     "iopub.status.busy": "2025-05-22T17:37:51.913423Z",
     "iopub.status.idle": "2025-05-22T17:37:51.932109Z",
     "shell.execute_reply": "2025-05-22T17:37:51.931581Z",
     "shell.execute_reply.started": "2025-05-22T17:37:51.914082Z"
    }
   },
   "outputs": [
    {
     "name": "stdout",
     "output_type": "stream",
     "text": [
      "Class distribution:\n",
      "label\n",
      "1    51.04\n",
      "0    48.96\n",
      "Name: proportion, dtype: float64\n"
     ]
    }
   ],
   "source": [
    "# Check class distribution\n",
    "class_distribution = df['label'].value_counts(normalize=True).mul(100).round(2)\n",
    "print(f\"Class distribution:\")\n",
    "print(class_distribution)"
   ]
  },
  {
   "cell_type": "markdown",
   "id": "7d1d622b",
   "metadata": {},
   "source": [
    "### Visualizing the Class Distribution\n",
    "A visual representation helps us better understand the dataset balance."
   ]
  },
  {
   "cell_type": "code",
   "execution_count": 12,
   "id": "729c24ef",
   "metadata": {
    "execution": {
     "iopub.execute_input": "2025-05-22T17:37:51.933170Z",
     "iopub.status.busy": "2025-05-22T17:37:51.932845Z",
     "iopub.status.idle": "2025-05-22T17:37:52.170421Z",
     "shell.execute_reply": "2025-05-22T17:37:52.169701Z",
     "shell.execute_reply.started": "2025-05-22T17:37:51.933151Z"
    }
   },
   "outputs": [
    {
     "data": {
      "image/png": "[encoded data removed]",
      "text/plain": [
       "<Figure size 800x600 with 1 Axes>"
      ]
     },
     "metadata": {},
     "output_type": "display_data"
    }
   ],
   "source": [
    "# Visualize class distribution\n",
    "plt.figure(figsize=(8, 6))\n",
    "ax = sns.countplot(x='label', data=df, palette='viridis')\n",
    "plt.title('Distribution of Real vs. Fake News')\n",
    "plt.xlabel('Label (0: Real, 1: Fake)')\n",
    "plt.ylabel('Count')\n",
    "\n",
    "# Add count labels on top of the bars\n",
    "for p in ax.patches:\n",
    "    ax.annotate(f'{p.get_height():,}', \n",
    "                (p.get_x() + p.get_width() / 2., p.get_height()), \n",
    "                ha = 'center', va = 'bottom')\n",
    "plt.tight_layout()\n",
    "plt.show()"
   ]
  },
  {
   "cell_type": "markdown",
   "id": "65c6aa02",
   "metadata": {},
   "source": [
    "## 4. Data Preprocessing\n",
    "\n",
    "For transformer-based models like TinyBERT, we need to carefully prepare our input data. We'll combine the article title and text to provide complete information to the model.\n",
    "\n",
    "### Combining Title and Text\n",
    "For news articles, both the headline and body contain important information. By combining them, we provide the model with the complete content."
   ]
  },
  {
   "cell_type": "code",
   "execution_count": 13,
   "id": "ac5838cb",
   "metadata": {
    "execution": {
     "iopub.execute_input": "2025-05-22T17:37:52.171577Z",
     "iopub.status.busy": "2025-05-22T17:37:52.171219Z",
     "iopub.status.idle": "2025-05-22T17:37:52.567137Z",
     "shell.execute_reply": "2025-05-22T17:37:52.566388Z",
     "shell.execute_reply.started": "2025-05-22T17:37:52.171548Z"
    }
   },
   "outputs": [],
   "source": [
    "# Combine title and text\n",
    "df['full_text'] = df['title'] + \" \" + df['text']"
   ]
  },
  {
   "cell_type": "markdown",
   "id": "fb95c921",
   "metadata": {},
   "source": [
    "## 5. Enhanced Training Strategy with Multiple Runs\n",
    "\n",
    "### Understanding Why Multiple Runs Matter\n",
    "\n",
    "When we train a neural network, many factors introduce randomness: the initial weights, the order of data batches, dropout patterns, and even GPU operations. A single training run might give us a lucky (or unlucky) result that doesn't represent the model's true performance. By training multiple times with different random seeds, we can establish confidence intervals and understand the model's expected performance range.\n",
    "\n",
    "This is similar to measuring someone's running speed - you wouldn't time them just once and call it their definitive speed. You'd have them run multiple times and report their average time with a range."
   ]
  },
  {
   "cell_type": "code",
   "execution_count": 14,
   "id": "a5f03640",
   "metadata": {
    "execution": {
     "iopub.execute_input": "2025-05-22T17:37:52.570216Z",
     "iopub.status.busy": "2025-05-22T17:37:52.569976Z",
     "iopub.status.idle": "2025-05-22T17:37:52.577015Z",
     "shell.execute_reply": "2025-05-22T17:37:52.576304Z",
     "shell.execute_reply.started": "2025-05-22T17:37:52.570198Z"
    }
   },
   "outputs": [],
   "source": [
    "def perform_multiple_training_runs(df, n_runs=5):\n",
    "    \"\"\"\n",
    "    Perform multiple training runs with different random seeds to establish\n",
    "    confidence intervals for model performance.\n",
    "    \n",
    "    Args:\n",
    "        df: The dataframe containing our data\n",
    "        n_runs: Number of independent training runs\n",
    "        \n",
    "    Returns:\n",
    "        Dictionary containing results from all runs\n",
    "    \"\"\"\n",
    "    all_results = defaultdict(list)\n",
    "    \n",
    "    for run in range(n_runs):\n",
    "        print(f\"\\n{'='*60}\")\n",
    "        print(f\"Starting Run {run + 1} of {n_runs}\")\n",
    "        print(f\"{'='*60}\")\n",
    "        \n",
    "        # Set a different seed for each run\n",
    "        run_seed = 42 + run * 100  # Ensures different but reproducible seeds\n",
    "        set_seed(run_seed)\n",
    "        \n",
    "        # Create train/val/test split for this run\n",
    "        train_val_df, test_df = train_test_split(\n",
    "            df, test_size=0.15, stratify=df['label'], random_state=run_seed\n",
    "        )\n",
    "        train_df, val_df = train_test_split(\n",
    "            train_val_df, test_size=0.1765, stratify=train_val_df['label'], \n",
    "            random_state=run_seed\n",
    "        )\n",
    "        \n",
    "        # Store the results from this run\n",
    "        run_results = train_and_evaluate_single_run(\n",
    "            train_df, val_df, test_df, run_seed\n",
    "        )\n",
    "        \n",
    "        # Aggregate results\n",
    "        for metric, value in run_results.items():\n",
    "            all_results[metric].append(value)\n",
    "    \n",
    "    return all_results"
   ]
  },
  {
   "cell_type": "markdown",
   "id": "8ec5863a",
   "metadata": {},
   "source": [
    "## 6. TinyBERT-Specific Hyperparameter Configuration\n",
    "\n",
    "### Why TinyBERT Needs Special Treatment\n",
    "\n",
    "TinyBERT was created through a sophisticated knowledge distillation process where it learned to mimic BERT's behavior while being much smaller. This distillation process makes TinyBERT different from models that were simply trained from scratch with fewer parameters. The distilled knowledge allows TinyBERT to handle slightly higher learning rates than you might expect for such a small model, but it also benefits from specific training strategies."
   ]
  },
  {
   "cell_type": "code",
   "execution_count": 24,
   "id": "4edb569c",
   "metadata": {
    "execution": {
     "iopub.execute_input": "2025-05-22T17:43:02.346715Z",
     "iopub.status.busy": "2025-05-22T17:43:02.346207Z",
     "iopub.status.idle": "2025-05-22T17:43:02.352998Z",
     "shell.execute_reply": "2025-05-22T17:43:02.352293Z",
     "shell.execute_reply.started": "2025-05-22T17:43:02.346688Z"
    }
   },
   "outputs": [],
   "source": [
    "def get_tinybert_optimized_training_args(output_dir, train_dataset_size, batch_size=16):\n",
    "    \"\"\"\n",
    "    Get training arguments specifically optimized for TinyBERT architecture.\n",
    "    \n",
    "    These hyperparameters are based on:\n",
    "    1. TinyBERT's distilled nature allowing for higher learning rates\n",
    "    2. The model's smaller size requiring less regularization\n",
    "    3. Empirical findings from the original TinyBERT paper\n",
    "    \"\"\"\n",
    "    \n",
    "    # Calculate training steps for learning rate scheduler\n",
    "    num_epochs = 5\n",
    "    steps_per_epoch = train_dataset_size // batch_size\n",
    "    if steps_per_epoch % 2 != 0:\n",
    "        steps_per_epoch += 1\n",
    "    total_training_steps = steps_per_epoch * num_epochs\n",
    "    \n",
    "    # Warmup should be about 10% of total training\n",
    "    warmup_steps = int(0.1 * total_training_steps)\n",
    "    \n",
    "    training_args = TrainingArguments(\n",
    "        output_dir=output_dir,\n",
    "        \n",
    "        # Evaluation and saving strategy\n",
    "        eval_strategy=\"steps\",           # Evaluate more frequently\n",
    "        eval_steps=steps_per_epoch // 2, # Evaluate twice per epoch\n",
    "        save_strategy=\"steps\",           \n",
    "        save_steps=steps_per_epoch,      # Save after each epoch\n",
    "        \n",
    "        # Learning rate configuration\n",
    "        learning_rate=1e-4,              # Higher than typical BERT (5e-5) due to distillation\n",
    "        warmup_steps=warmup_steps,       # Gradual warmup\n",
    "        \n",
    "        # Batch size and gradient accumulation\n",
    "        per_device_train_batch_size=batch_size,\n",
    "        per_device_eval_batch_size=64,   # Larger for faster evaluation\n",
    "        gradient_accumulation_steps=2,    # Effective batch size of 32\n",
    "        \n",
    "        # Training epochs and patience\n",
    "        num_train_epochs=num_epochs,\n",
    "        \n",
    "        # Regularization\n",
    "        weight_decay=0.01,               # Standard weight decay\n",
    "        adam_epsilon=1e-6,               # Slightly smaller epsilon for stability\n",
    "        max_grad_norm=1.0,               # Gradient clipping\n",
    "        \n",
    "        # Model selection\n",
    "        load_best_model_at_end=True,\n",
    "        metric_for_best_model=\"f1\",\n",
    "        greater_is_better=True,\n",
    "        \n",
    "        # Efficiency settings\n",
    "        fp16=torch.cuda.is_available(),  # Mixed precision if GPU available\n",
    "        dataloader_num_workers=2,\n",
    "        \n",
    "        # Logging\n",
    "        logging_steps=50,\n",
    "        report_to=\"none\",  # Disable cloud logging for now\n",
    "        \n",
    "        # Disable certain features for clarity\n",
    "        push_to_hub=False,\n",
    "        save_total_limit=3,  # Keep only best 3 checkpoints\n",
    "        \n",
    "        # Random seed handled externally\n",
    "        seed=42,\n",
    "    )\n",
    "    \n",
    "    return training_args"
   ]
  },
  {
   "cell_type": "markdown",
   "id": "5e895d91",
   "metadata": {},
   "source": [
    "## 7. Implementing Custom Learning Rate Schedule\n",
    "\n",
    "### The Importance of Learning Rate Scheduling\n",
    "\n",
    "Think of learning rate scheduling like teaching someone to write - you start with big, bold strokes to get the general shape right, then gradually make smaller, more precise adjustments. For TinyBERT, we'll use a cosine schedule with warmup, which has been shown to work particularly well for distilled models."
   ]
  },
  {
   "cell_type": "code",
   "execution_count": 16,
   "id": "a320ef13",
   "metadata": {
    "execution": {
     "iopub.execute_input": "2025-05-22T17:37:52.589623Z",
     "iopub.status.busy": "2025-05-22T17:37:52.589351Z",
     "iopub.status.idle": "2025-05-22T17:37:52.603004Z",
     "shell.execute_reply": "2025-05-22T17:37:52.602443Z",
     "shell.execute_reply.started": "2025-05-22T17:37:52.589600Z"
    }
   },
   "outputs": [],
   "source": [
    "def create_tinybert_optimizer_and_scheduler(model, training_args, num_training_steps):\n",
    "    \"\"\"\n",
    "    Create optimizer and learning rate scheduler optimized for TinyBERT.\n",
    "    \n",
    "    We use:\n",
    "    1. AdamW optimizer with corrected weight decay\n",
    "    2. Cosine schedule with warmup for smooth training\n",
    "    \"\"\"\n",
    "    \n",
    "    # Separate parameters that should and shouldn't have weight decay\n",
    "    no_decay = [\"bias\", \"LayerNorm.weight\", \"LayerNorm.bias\"]\n",
    "    optimizer_grouped_parameters = [\n",
    "        {\n",
    "            \"params\": [p for n, p in model.named_parameters() \n",
    "                      if not any(nd in n for nd in no_decay)],\n",
    "            \"weight_decay\": training_args.weight_decay,\n",
    "        },\n",
    "        {\n",
    "            \"params\": [p for n, p in model.named_parameters() \n",
    "                      if any(nd in n for nd in no_decay)],\n",
    "            \"weight_decay\": 0.0,\n",
    "        },\n",
    "    ]\n",
    "    \n",
    "    # Create optimizer\n",
    "    optimizer = torch.optim.AdamW(\n",
    "        optimizer_grouped_parameters,\n",
    "        lr=training_args.learning_rate,\n",
    "        eps=training_args.adam_epsilon,\n",
    "        betas=(0.9, 0.98)  # Slightly different from default for TinyBERT\n",
    "    )\n",
    "    \n",
    "    # Create learning rate scheduler\n",
    "    lr_scheduler = get_scheduler(\n",
    "        \"cosine\",\n",
    "        optimizer=optimizer,\n",
    "        num_warmup_steps=training_args.warmup_steps,\n",
    "        num_training_steps=num_training_steps\n",
    "    )\n",
    "    \n",
    "    return optimizer, lr_scheduler"
   ]
  },
  {
   "cell_type": "markdown",
   "id": "d5696d22",
   "metadata": {},
   "source": [
    "## 8. Enhanced Early Stopping Configuration\n",
    "\n",
    "### Why Our Previous Early Stopping Was Too Aggressive\n",
    "\n",
    "With a patience of 2, we were essentially giving up after just two evaluations without improvement. But transformer training often shows a \"double descent\" pattern - performance might plateau or even slightly decrease before improving again. For TinyBERT, we'll use a more patient approach that considers the overall trend rather than reacting to short-term fluctuations."
   ]
  },
  {
   "cell_type": "code",
   "execution_count": 17,
   "id": "35df3fd2",
   "metadata": {
    "execution": {
     "iopub.execute_input": "2025-05-22T17:37:52.603908Z",
     "iopub.status.busy": "2025-05-22T17:37:52.603675Z",
     "iopub.status.idle": "2025-05-22T17:37:52.614399Z",
     "shell.execute_reply": "2025-05-22T17:37:52.613763Z",
     "shell.execute_reply.started": "2025-05-22T17:37:52.603892Z"
    }
   },
   "outputs": [],
   "source": [
    "def create_enhanced_early_stopping_callback():\n",
    "    \"\"\"\n",
    "    Create an early stopping callback with TinyBERT-appropriate patience.\n",
    "    \n",
    "    We use patience of 5 evaluation steps (2.5 epochs with our eval strategy)\n",
    "    to allow the model to work through temporary plateaus.\n",
    "    \"\"\"\n",
    "    return EarlyStoppingCallback(\n",
    "        early_stopping_patience=5,  # Much more patient than before\n",
    "        early_stopping_threshold=0.001  # Minimum improvement to reset patience\n",
    "    )"
   ]
  },
  {
   "cell_type": "markdown",
   "id": "0b9c47a0",
   "metadata": {},
   "source": [
    "## 9. Single Run Training and Evaluation Function"
   ]
  },
  {
   "cell_type": "code",
   "execution_count": 18,
   "id": "b90a3de4",
   "metadata": {
    "execution": {
     "iopub.execute_input": "2025-05-22T17:37:52.615425Z",
     "iopub.status.busy": "2025-05-22T17:37:52.615204Z",
     "iopub.status.idle": "2025-05-22T17:37:52.632012Z",
     "shell.execute_reply": "2025-05-22T17:37:52.631312Z",
     "shell.execute_reply.started": "2025-05-22T17:37:52.615409Z"
    }
   },
   "outputs": [],
   "source": [
    "def train_and_evaluate_single_run(train_df, val_df, test_df, seed):\n",
    "    \"\"\"\n",
    "    Perform a single training run with optimized hyperparameters.\n",
    "    \n",
    "    Returns:\n",
    "        Dictionary containing test metrics from this run\n",
    "    \"\"\"\n",
    "    set_seed(seed)\n",
    "    \n",
    "    # Convert to Hugging Face datasets\n",
    "    train_dataset = Dataset.from_pandas(train_df[['full_text', 'label']])\n",
    "    val_dataset = Dataset.from_pandas(val_df[['full_text', 'label']])\n",
    "    test_dataset = Dataset.from_pandas(test_df[['full_text', 'label']])\n",
    "    \n",
    "    # Load tokenizer\n",
    "    tokenizer = AutoTokenizer.from_pretrained(\"huawei-noah/TinyBERT_General_4L_312D\")\n",
    "    \n",
    "    # Define tokenization function\n",
    "    def tokenize_function(examples):\n",
    "        return tokenizer(\n",
    "            examples[\"full_text\"],\n",
    "            padding=\"max_length\",\n",
    "            truncation=True,\n",
    "            max_length=512,\n",
    "        )\n",
    "    \n",
    "    # Tokenize datasets\n",
    "    tokenized_train = train_dataset.map(tokenize_function, batched=True)\n",
    "    tokenized_val = val_dataset.map(tokenize_function, batched=True)\n",
    "    tokenized_test = test_dataset.map(tokenize_function, batched=True)\n",
    "    \n",
    "    # Set format\n",
    "    tokenized_train.set_format(\"torch\", columns=[\"input_ids\", \"attention_mask\", \"label\"])\n",
    "    tokenized_val.set_format(\"torch\", columns=[\"input_ids\", \"attention_mask\", \"label\"])\n",
    "    tokenized_test.set_format(\"torch\", columns=[\"input_ids\", \"attention_mask\", \"label\"])\n",
    "    \n",
    "    # Load model\n",
    "    model = AutoModelForSequenceClassification.from_pretrained(\n",
    "        \"huawei-noah/TinyBERT_General_4L_312D\",\n",
    "        num_labels=2\n",
    "    )\n",
    "    model.to(device)\n",
    "    \n",
    "    # Define metrics computation\n",
    "    def compute_metrics(eval_pred):\n",
    "        predictions, labels = eval_pred\n",
    "        predictions = np.argmax(predictions, axis=1)\n",
    "        \n",
    "        accuracy = accuracy_score(labels, predictions)\n",
    "        precision, recall, f1, _ = precision_recall_fscore_support(\n",
    "            labels, predictions, average='weighted'\n",
    "        )\n",
    "        \n",
    "        return {\n",
    "            'accuracy': accuracy,\n",
    "            'precision': precision,\n",
    "            'recall': recall,\n",
    "            'f1': f1\n",
    "        }\n",
    "    \n",
    "    # Get optimized training arguments\n",
    "    output_dir = f\"./results/tinybert_welfake_run_{seed}\"\n",
    "    training_args = get_tinybert_optimized_training_args(\n",
    "        output_dir, \n",
    "        len(tokenized_train)\n",
    "    )\n",
    "    \n",
    "    # Create trainer with enhanced configuration\n",
    "    trainer = Trainer(\n",
    "        model=model,\n",
    "        args=training_args,\n",
    "        train_dataset=tokenized_train,\n",
    "        eval_dataset=tokenized_val,\n",
    "        tokenizer=tokenizer,\n",
    "        compute_metrics=compute_metrics,\n",
    "        callbacks=[create_enhanced_early_stopping_callback()]\n",
    "    )\n",
    "    \n",
    "    # Custom optimizer and scheduler\n",
    "    num_training_steps = len(tokenized_train) // training_args.per_device_train_batch_size * training_args.num_train_epochs\n",
    "    optimizer, lr_scheduler = create_tinybert_optimizer_and_scheduler(\n",
    "        model, training_args, num_training_steps\n",
    "    )\n",
    "    trainer.optimizer = optimizer\n",
    "    trainer.lr_scheduler = lr_scheduler\n",
    "    \n",
    "    # Train the model\n",
    "    start_time = time.time()\n",
    "    train_result = trainer.train()\n",
    "    train_time = time.time() - start_time\n",
    "    \n",
    "    print(f\"Training completed in {train_time/60:.2f} minutes\")\n",
    "    \n",
    "    # Evaluate on test set\n",
    "    test_results = trainer.evaluate(tokenized_test)\n",
    "    \n",
    "    # Get predictions for confusion matrix\n",
    "    predictions = trainer.predict(tokenized_test)\n",
    "    preds = np.argmax(predictions.predictions, axis=1)\n",
    "    \n",
    "    # Calculate confusion matrix\n",
    "    cm = confusion_matrix(predictions.label_ids, preds)\n",
    "    \n",
    "    # Return results\n",
    "    return {\n",
    "        'accuracy': test_results['eval_accuracy'],\n",
    "        'precision': test_results['eval_precision'],\n",
    "        'recall': test_results['eval_recall'],\n",
    "        'f1': test_results['eval_f1'],\n",
    "        'train_time': train_time,\n",
    "        'confusion_matrix': cm,\n",
    "        'full_results': test_results\n",
    "    }"
   ]
  },
  {
   "cell_type": "markdown",
   "id": "aaf6189c",
   "metadata": {},
   "source": [
    "## 10. K-Fold Cross-Validation Implementation\n",
    "\n",
    "### Why K-Fold Cross-Validation Matters\n",
    "\n",
    "K-fold cross-validation ensures that every single sample in our dataset gets to be in the test set exactly once. This gives us a much more complete picture of our model's performance than a single train/test split. It's like having every student in a class take turns being the exam writer - you get a full assessment of everyone's capabilities."
   ]
  },
  {
   "cell_type": "code",
   "execution_count": 19,
   "id": "0a03172a",
   "metadata": {
    "execution": {
     "iopub.execute_input": "2025-05-22T17:37:52.633032Z",
     "iopub.status.busy": "2025-05-22T17:37:52.632746Z",
     "iopub.status.idle": "2025-05-22T17:37:52.646182Z",
     "shell.execute_reply": "2025-05-22T17:37:52.645572Z",
     "shell.execute_reply.started": "2025-05-22T17:37:52.633009Z"
    }
   },
   "outputs": [],
   "source": [
    "def perform_kfold_cross_validation(df, n_splits=5):\n",
    "    \"\"\"\n",
    "    Perform k-fold cross-validation for more robust evaluation.\n",
    "    \n",
    "    This is computationally expensive but gives us the most reliable\n",
    "    estimate of model performance.\n",
    "    \"\"\"\n",
    "    # Prepare data\n",
    "    X = df['full_text'].values\n",
    "    y = df['label'].values\n",
    "    \n",
    "    # Use StratifiedKFold to maintain class balance in each fold\n",
    "    skf = StratifiedKFold(n_splits=n_splits, shuffle=True, random_state=42)\n",
    "    \n",
    "    fold_results = []\n",
    "    \n",
    "    for fold, (train_idx, test_idx) in enumerate(skf.split(X, y)):\n",
    "        print(f\"\\n{'='*60}\")\n",
    "        print(f\"Processing Fold {fold + 1} of {n_splits}\")\n",
    "        print(f\"{'='*60}\")\n",
    "        \n",
    "        # Create fold datasets\n",
    "        fold_train_df = df.iloc[train_idx]\n",
    "        fold_test_df = df.iloc[test_idx]\n",
    "        \n",
    "        # Further split training into train/val\n",
    "        fold_train_df, fold_val_df = train_test_split(\n",
    "            fold_train_df, test_size=0.15, stratify=fold_train_df['label'], \n",
    "            random_state=42 + fold\n",
    "        )\n",
    "        \n",
    "        # Train and evaluate on this fold\n",
    "        fold_result = train_and_evaluate_single_run(\n",
    "            fold_train_df, fold_val_df, fold_test_df, seed=42 + fold\n",
    "        )\n",
    "        \n",
    "        fold_results.append(fold_result)\n",
    "        \n",
    "        print(f\"\\nFold {fold + 1} Results:\")\n",
    "        print(f\"Accuracy: {fold_result['accuracy']:.4f}\")\n",
    "        print(f\"F1 Score: {fold_result['f1']:.4f}\")\n",
    "    \n",
    "    return fold_results"
   ]
  },
  {
   "cell_type": "markdown",
   "id": "a9adec2f",
   "metadata": {},
   "source": [
    "## 11. Results Analysis and Visualization Functions\n",
    "\n",
    "### Making Sense of Multiple Runs\n",
    "\n",
    "When we have results from multiple runs, we need to present them in a way that shows both the average performance and the variability. This tells us not just how good the model is, but how consistent it is."
   ]
  },
  {
   "cell_type": "code",
   "execution_count": 20,
   "id": "d09129fc",
   "metadata": {
    "execution": {
     "iopub.execute_input": "2025-05-22T17:37:52.647205Z",
     "iopub.status.busy": "2025-05-22T17:37:52.646950Z",
     "iopub.status.idle": "2025-05-22T17:37:52.661964Z",
     "shell.execute_reply": "2025-05-22T17:37:52.661240Z",
     "shell.execute_reply.started": "2025-05-22T17:37:52.647183Z"
    }
   },
   "outputs": [],
   "source": [
    "def analyze_multiple_run_results(results_dict):\n",
    "    \"\"\"\n",
    "    Analyze and visualize results from multiple training runs.\n",
    "    \"\"\"\n",
    "    # Calculate statistics\n",
    "    metrics = ['accuracy', 'precision', 'recall', 'f1']\n",
    "    stats = {}\n",
    "    \n",
    "    for metric in metrics:\n",
    "        values = results_dict[metric]\n",
    "        stats[metric] = {\n",
    "            'mean': np.mean(values),\n",
    "            'std': np.std(values),\n",
    "            'min': np.min(values),\n",
    "            'max': np.max(values),\n",
    "            'values': values\n",
    "        }\n",
    "    \n",
    "    # Print summary statistics\n",
    "    print(\"\\nModel Performance Summary (Multiple Runs):\")\n",
    "    print(\"=\" * 60)\n",
    "    for metric in metrics:\n",
    "        mean = stats[metric]['mean']\n",
    "        std = stats[metric]['std']\n",
    "        print(f\"{metric.capitalize()}: {mean:.4f} ± {std:.4f}\")\n",
    "    \n",
    "    # Create visualization\n",
    "    fig, axes = plt.subplots(2, 2, figsize=(12, 10))\n",
    "    axes = axes.ravel()\n",
    "    \n",
    "    for idx, metric in enumerate(metrics):\n",
    "        ax = axes[idx]\n",
    "        values = stats[metric]['values']\n",
    "        \n",
    "        # Box plot with individual points\n",
    "        ax.boxplot(values, vert=True, patch_artist=True,\n",
    "                  boxprops=dict(facecolor='lightblue', alpha=0.7),\n",
    "                  medianprops=dict(color='red', linewidth=2))\n",
    "        ax.scatter(np.ones(len(values)), values, alpha=0.6, s=50)\n",
    "        \n",
    "        # Add mean line\n",
    "        ax.axhline(y=stats[metric]['mean'], color='green', \n",
    "                  linestyle='--', label=f'Mean: {stats[metric][\"mean\"]:.4f}')\n",
    "        \n",
    "        ax.set_ylabel(metric.capitalize())\n",
    "        ax.set_title(f'{metric.capitalize()} Distribution')\n",
    "        ax.legend()\n",
    "        ax.grid(True, alpha=0.3)\n",
    "    \n",
    "    plt.tight_layout()\n",
    "    plt.show()\n",
    "    \n",
    "    return stats"
   ]
  },
  {
   "cell_type": "markdown",
   "id": "bb914aea",
   "metadata": {},
   "source": [
    "## 12. Confidence Interval Calculation\n",
    "\n",
    "### Understanding Confidence Intervals\n",
    "\n",
    "A confidence interval tells us the range where we expect the true performance to lie. If we say \"95% confidence interval\", we mean that if we repeated this entire experiment many times, 95% of the time the true performance would fall within this range."
   ]
  },
  {
   "cell_type": "code",
   "execution_count": 21,
   "id": "a4c4d685",
   "metadata": {
    "execution": {
     "iopub.execute_input": "2025-05-22T17:37:52.662975Z",
     "iopub.status.busy": "2025-05-22T17:37:52.662723Z",
     "iopub.status.idle": "2025-05-22T17:37:52.675929Z",
     "shell.execute_reply": "2025-05-22T17:37:52.675237Z",
     "shell.execute_reply.started": "2025-05-22T17:37:52.662954Z"
    }
   },
   "outputs": [],
   "source": [
    "def calculate_confidence_intervals(values, confidence=0.95):\n",
    "    \"\"\"\n",
    "    Calculate confidence intervals for a set of values.\n",
    "    \n",
    "    We use the t-distribution for small sample sizes (n < 30).\n",
    "    \"\"\"\n",
    "    from scipy import stats as scipy_stats\n",
    "    \n",
    "    n = len(values)\n",
    "    mean = np.mean(values)\n",
    "    std_err = scipy_stats.sem(values)  # Standard error of the mean\n",
    "    \n",
    "    # Calculate confidence interval\n",
    "    ci = scipy_stats.t.interval(confidence, n-1, loc=mean, scale=std_err)\n",
    "    \n",
    "    return mean, ci[0], ci[1]"
   ]
  },
  {
   "cell_type": "markdown",
   "id": "159a0f2b",
   "metadata": {},
   "source": [
    "## 13. Main Execution Pipeline\n",
    "\n",
    "### Bringing It All Together\n",
    "\n",
    "Now we'll create the main execution pipeline that runs all our enhanced training and evaluation procedures."
   ]
  },
  {
   "cell_type": "code",
   "execution_count": 22,
   "id": "c47e51a6",
   "metadata": {
    "execution": {
     "iopub.execute_input": "2025-05-22T17:37:52.676941Z",
     "iopub.status.busy": "2025-05-22T17:37:52.676738Z",
     "iopub.status.idle": "2025-05-22T17:37:52.690865Z",
     "shell.execute_reply": "2025-05-22T17:37:52.690067Z",
     "shell.execute_reply.started": "2025-05-22T17:37:52.676927Z"
    }
   },
   "outputs": [],
   "source": [
    "def main_enhanced_training_pipeline():\n",
    "    \"\"\"\n",
    "    Execute the complete enhanced training and evaluation pipeline.\n",
    "    \"\"\"\n",
    "    print(\"Starting Enhanced TinyBERT Training Pipeline\")\n",
    "    print(\"=\" * 60)\n",
    "    \n",
    "    # Load data\n",
    "    df = pd.read_csv('/kaggle/input/welfake-cleaned/WELFake_cleaned.csv')\n",
    "    df['full_text'] = df['title'] + \" \" + df['text']\n",
    "    \n",
    "    # 1. Perform multiple training runs\n",
    "    print(\"\\nPhase 1: Multiple Training Runs\")\n",
    "    print(\"-\" * 40)\n",
    "    multiple_run_results = perform_multiple_training_runs(df, n_runs=5)\n",
    "    \n",
    "    # Analyze multiple run results\n",
    "    run_stats = analyze_multiple_run_results(multiple_run_results)\n",
    "    \n",
    "    # 2. Perform k-fold cross-validation (optional, computationally expensive)\n",
    "    print(\"\\nPhase 2: K-Fold Cross-Validation\")\n",
    "    print(\"-\" * 40)\n",
    "    print(\"Note: This is computationally expensive. Set perform_kfold=False to skip.\")\n",
    "    \n",
    "    perform_kfold = False  # Set to True if you want to run k-fold CV\n",
    "    \n",
    "    if perform_kfold:\n",
    "        kfold_results = perform_kfold_cross_validation(df, n_splits=5)\n",
    "        \n",
    "        # Extract metrics from k-fold results\n",
    "        kfold_metrics = defaultdict(list)\n",
    "        for fold_result in kfold_results:\n",
    "            for metric in ['accuracy', 'precision', 'recall', 'f1']:\n",
    "                kfold_metrics[metric].append(fold_result[metric])\n",
    "        \n",
    "        # Analyze k-fold results\n",
    "        print(\"\\nK-Fold Cross-Validation Results:\")\n",
    "        print(\"=\" * 60)\n",
    "        for metric in ['accuracy', 'precision', 'recall', 'f1']:\n",
    "            values = kfold_metrics[metric]\n",
    "            mean, ci_low, ci_high = calculate_confidence_intervals(values)\n",
    "            print(f\"{metric.capitalize()}: {mean:.4f} (95% CI: [{ci_low:.4f}, {ci_high:.4f}])\")\n",
    "    \n",
    "    # 3. Create final summary report\n",
    "    print(\"\\n\" + \"=\" * 60)\n",
    "    print(\"FINAL SUMMARY REPORT\")\n",
    "    print(\"=\" * 60)\n",
    "    \n",
    "    # Report multiple run results with confidence intervals\n",
    "    print(\"\\nMultiple Training Runs (n=5):\")\n",
    "    for metric in ['accuracy', 'precision', 'recall', 'f1']:\n",
    "        values = multiple_run_results[metric]\n",
    "        mean, ci_low, ci_high = calculate_confidence_intervals(values)\n",
    "        print(f\"{metric.capitalize()}: {mean:.4f} (95% CI: [{ci_low:.4f}, {ci_high:.4f}])\")\n",
    "    \n",
    "    # Training time analysis\n",
    "    train_times = multiple_run_results['train_time']\n",
    "    mean_time = np.mean(train_times) / 60  # Convert to minutes\n",
    "    std_time = np.std(train_times) / 60\n",
    "    print(f\"\\nAverage Training Time: {mean_time:.2f} ± {std_time:.2f} minutes\")\n",
    "    \n",
    "    return multiple_run_results, run_stats"
   ]
  },
  {
   "cell_type": "markdown",
   "id": "93b15d63",
   "metadata": {},
   "source": [
    "## 14. Execute the Enhanced Pipeline"
   ]
  },
  {
   "cell_type": "code",
   "execution_count": 25,
   "id": "41ea1149",
   "metadata": {
    "execution": {
     "iopub.execute_input": "2025-05-22T17:43:28.233960Z",
     "iopub.status.busy": "2025-05-22T17:43:28.233376Z",
     "iopub.status.idle": "2025-05-22T20:00:07.461676Z",
     "shell.execute_reply": "2025-05-22T20:00:07.460423Z",
     "shell.execute_reply.started": "2025-05-22T17:43:28.233935Z"
    }
   },
   "outputs": [
    {
     "name": "stdout",
     "output_type": "stream",
     "text": [
      "Starting Enhanced TinyBERT Training Pipeline\n",
      "============================================================\n",
      "\n",
      "Phase 1: Multiple Training Runs\n",
      "----------------------------------------\n",
      "\n",
      "============================================================\n",
      "Starting Run 1 of 5\n",
      "============================================================\n"
     ]
    },
    {
     "data": {
      "application/vnd.jupyter.widget-view+json": {
       "model_id": "20015366e1f542338dde5c8046fe6add",
       "version_major": 2,
       "version_minor": 0
      },
      "text/plain": [
       "Map:   0%|          | 0/50073 [00:00<?, ? examples/s]"
      ]
     },
     "metadata": {},
     "output_type": "display_data"
    },
    {
     "data": {
      "application/vnd.jupyter.widget-view+json": {
       "model_id": "cada2757d08a4025bdb6a2237cdc0d43",
       "version_major": 2,
       "version_minor": 0
      },
      "text/plain": [
       "Map:   0%|          | 0/10733 [00:00<?, ? examples/s]"
      ]
     },
     "metadata": {},
     "output_type": "display_data"
    },
    {
     "data": {
      "application/vnd.jupyter.widget-view+json": {
       "model_id": "ed920aa2dd7b45e1aae11cbfb563ba7f",
       "version_major": 2,
       "version_minor": 0
      },
      "text/plain": [
       "Map:   0%|          | 0/10731 [00:00<?, ? examples/s]"
      ]
     },
     "metadata": {},
     "output_type": "display_data"
    },
    {
     "name": "stderr",
     "output_type": "stream",
     "text": [
      "Some weights of BertForSequenceClassification were not initialized from the model checkpoint at huawei-noah/TinyBERT_General_4L_312D and are newly initialized: ['classifier.bias', 'classifier.weight']\n",
      "You should probably TRAIN this model on a down-stream task to be able to use it for predictions and inference.\n",
      "huggingface/tokenizers: The current process just got forked, after parallelism has already been used. Disabling parallelism to avoid deadlocks...\n",
      "To disable this warning, you can either:\n",
      "\t- Avoid using `tokenizers` before the fork if possible\n",
      "\t- Explicitly set the environment variable TOKENIZERS_PARALLELISM=(true | false)\n",
      "huggingface/tokenizers: The current process just got forked, after parallelism has already been used. Disabling parallelism to avoid deadlocks...\n",
      "To disable this warning, you can either:\n",
      "\t- Avoid using `tokenizers` before the fork if possible\n",
      "\t- Explicitly set the environment variable TOKENIZERS_PARALLELISM=(true | false)\n"
     ]
    },
    {
     "data": {
      "text/html": [
       "\n",
       "    <div>\n",
       "      \n",
       "      <progress value='3910' max='3910' style='width:300px; height:20px; vertical-align: middle;'></progress>\n",
       "      [3910/3910 24:57, Epoch 4/5]\n",
       "    </div>\n",
       "    <table border=\"1\" class=\"dataframe\">\n",
       "  <thead>\n",
       " <tr style=\"text-align: left;\">\n",
       "      <th>Step</th>\n",
       "      <th>Training Loss</th>\n",
       "      <th>Validation Loss</th>\n",
       "      <th>Accuracy</th>\n",
       "      <th>Precision</th>\n",
       "      <th>Recall</th>\n",
       "      <th>F1</th>\n",
       "    </tr>\n",
       "  </thead>\n",
       "  <tbody>\n",
       "    <tr>\n",
       "      <td>1565</td>\n",
       "      <td>0.128800</td>\n",
       "      <td>0.131314</td>\n",
       "      <td>0.987236</td>\n",
       "      <td>0.987275</td>\n",
       "      <td>0.987236</td>\n",
       "      <td>0.987237</td>\n",
       "    </tr>\n",
       "    <tr>\n",
       "      <td>3130</td>\n",
       "      <td>0.078200</td>\n",
       "      <td>0.105682</td>\n",
       "      <td>0.992174</td>\n",
       "      <td>0.992176</td>\n",
       "      <td>0.992174</td>\n",
       "      <td>0.992174</td>\n",
       "    </tr>\n",
       "  </tbody>\n",
       "</table><p>"
      ],
      "text/plain": [
       "<IPython.core.display.HTML object>"
      ]
     },
     "metadata": {},
     "output_type": "display_data"
    },
    {
     "name": "stderr",
     "output_type": "stream",
     "text": [
      "huggingface/tokenizers: The current process just got forked, after parallelism has already been used. Disabling parallelism to avoid deadlocks...\n",
      "To disable this warning, you can either:\n",
      "\t- Avoid using `tokenizers` before the fork if possible\n",
      "\t- Explicitly set the environment variable TOKENIZERS_PARALLELISM=(true | false)\n",
      "huggingface/tokenizers: The current process just got forked, after parallelism has already been used. Disabling parallelism to avoid deadlocks...\n",
      "To disable this warning, you can either:\n",
      "\t- Avoid using `tokenizers` before the fork if possible\n",
      "\t- Explicitly set the environment variable TOKENIZERS_PARALLELISM=(true | false)\n",
      "huggingface/tokenizers: The current process just got forked, after parallelism has already been used. Disabling parallelism to avoid deadlocks...\n",
      "To disable this warning, you can either:\n",
      "\t- Avoid using `tokenizers` before the fork if possible\n",
      "\t- Explicitly set the environment variable TOKENIZERS_PARALLELISM=(true | false)\n",
      "huggingface/tokenizers: The current process just got forked, after parallelism has already been used. Disabling parallelism to avoid deadlocks...\n",
      "To disable this warning, you can either:\n",
      "\t- Avoid using `tokenizers` before the fork if possible\n",
      "\t- Explicitly set the environment variable TOKENIZERS_PARALLELISM=(true | false)\n",
      "huggingface/tokenizers: The current process just got forked, after parallelism has already been used. Disabling parallelism to avoid deadlocks...\n",
      "To disable this warning, you can either:\n",
      "\t- Avoid using `tokenizers` before the fork if possible\n",
      "\t- Explicitly set the environment variable TOKENIZERS_PARALLELISM=(true | false)\n",
      "huggingface/tokenizers: The current process just got forked, after parallelism has already been used. Disabling parallelism to avoid deadlocks...\n",
      "To disable this warning, you can either:\n",
      "\t- Avoid using `tokenizers` before the fork if possible\n",
      "\t- Explicitly set the environment variable TOKENIZERS_PARALLELISM=(true | false)\n",
      "huggingface/tokenizers: The current process just got forked, after parallelism has already been used. Disabling parallelism to avoid deadlocks...\n",
      "To disable this warning, you can either:\n",
      "\t- Avoid using `tokenizers` before the fork if possible\n",
      "\t- Explicitly set the environment variable TOKENIZERS_PARALLELISM=(true | false)\n",
      "huggingface/tokenizers: The current process just got forked, after parallelism has already been used. Disabling parallelism to avoid deadlocks...\n",
      "To disable this warning, you can either:\n",
      "\t- Avoid using `tokenizers` before the fork if possible\n",
      "\t- Explicitly set the environment variable TOKENIZERS_PARALLELISM=(true | false)\n",
      "huggingface/tokenizers: The current process just got forked, after parallelism has already been used. Disabling parallelism to avoid deadlocks...\n",
      "To disable this warning, you can either:\n",
      "\t- Avoid using `tokenizers` before the fork if possible\n",
      "\t- Explicitly set the environment variable TOKENIZERS_PARALLELISM=(true | false)\n",
      "huggingface/tokenizers: The current process just got forked, after parallelism has already been used. Disabling parallelism to avoid deadlocks...\n",
      "To disable this warning, you can either:\n",
      "\t- Avoid using `tokenizers` before the fork if possible\n",
      "\t- Explicitly set the environment variable TOKENIZERS_PARALLELISM=(true | false)\n",
      "huggingface/tokenizers: The current process just got forked, after parallelism has already been used. Disabling parallelism to avoid deadlocks...\n",
      "To disable this warning, you can either:\n",
      "\t- Avoid using `tokenizers` before the fork if possible\n",
      "\t- Explicitly set the environment variable TOKENIZERS_PARALLELISM=(true | false)\n",
      "huggingface/tokenizers: The current process just got forked, after parallelism has already been used. Disabling parallelism to avoid deadlocks...\n",
      "To disable this warning, you can either:\n",
      "\t- Avoid using `tokenizers` before the fork if possible\n",
      "\t- Explicitly set the environment variable TOKENIZERS_PARALLELISM=(true | false)\n"
     ]
    },
    {
     "name": "stdout",
     "output_type": "stream",
     "text": [
      "Training completed in 25.00 minutes\n"
     ]
    },
    {
     "name": "stderr",
     "output_type": "stream",
     "text": [
      "huggingface/tokenizers: The current process just got forked, after parallelism has already been used. Disabling parallelism to avoid deadlocks...\n",
      "To disable this warning, you can either:\n",
      "\t- Avoid using `tokenizers` before the fork if possible\n",
      "\t- Explicitly set the environment variable TOKENIZERS_PARALLELISM=(true | false)\n",
      "huggingface/tokenizers: The current process just got forked, after parallelism has already been used. Disabling parallelism to avoid deadlocks...\n",
      "To disable this warning, you can either:\n",
      "\t- Avoid using `tokenizers` before the fork if possible\n",
      "\t- Explicitly set the environment variable TOKENIZERS_PARALLELISM=(true | false)\n"
     ]
    },
    {
     "data": {
      "text/html": [],
      "text/plain": [
       "<IPython.core.display.HTML object>"
      ]
     },
     "metadata": {},
     "output_type": "display_data"
    },
    {
     "name": "stderr",
     "output_type": "stream",
     "text": [
      "huggingface/tokenizers: The current process just got forked, after parallelism has already been used. Disabling parallelism to avoid deadlocks...\n",
      "To disable this warning, you can either:\n",
      "\t- Avoid using `tokenizers` before the fork if possible\n",
      "\t- Explicitly set the environment variable TOKENIZERS_PARALLELISM=(true | false)\n",
      "huggingface/tokenizers: The current process just got forked, after parallelism has already been used. Disabling parallelism to avoid deadlocks...\n",
      "To disable this warning, you can either:\n",
      "\t- Avoid using `tokenizers` before the fork if possible\n",
      "\t- Explicitly set the environment variable TOKENIZERS_PARALLELISM=(true | false)\n"
     ]
    },
    {
     "name": "stdout",
     "output_type": "stream",
     "text": [
      "\n",
      "============================================================\n",
      "Starting Run 2 of 5\n",
      "============================================================\n"
     ]
    },
    {
     "data": {
      "application/vnd.jupyter.widget-view+json": {
       "model_id": "741c94d6881242bbb2307203000b9d69",
       "version_major": 2,
       "version_minor": 0
      },
      "text/plain": [
       "Map:   0%|          | 0/50073 [00:00<?, ? examples/s]"
      ]
     },
     "metadata": {},
     "output_type": "display_data"
    },
    {
     "data": {
      "application/vnd.jupyter.widget-view+json": {
       "model_id": "1caa31ee11f043ac938123399ca6574c",
       "version_major": 2,
       "version_minor": 0
      },
      "text/plain": [
       "Map:   0%|          | 0/10733 [00:00<?, ? examples/s]"
      ]
     },
     "metadata": {},
     "output_type": "display_data"
    },
    {
     "data": {
      "application/vnd.jupyter.widget-view+json": {
       "model_id": "aa3a6a610a544c7aa632ba11e8991a5e",
       "version_major": 2,
       "version_minor": 0
      },
      "text/plain": [
       "Map:   0%|          | 0/10731 [00:00<?, ? examples/s]"
      ]
     },
     "metadata": {},
     "output_type": "display_data"
    },
    {
     "name": "stderr",
     "output_type": "stream",
     "text": [
      "Some weights of BertForSequenceClassification were not initialized from the model checkpoint at huawei-noah/TinyBERT_General_4L_312D and are newly initialized: ['classifier.bias', 'classifier.weight']\n",
      "You should probably TRAIN this model on a down-stream task to be able to use it for predictions and inference.\n",
      "huggingface/tokenizers: The current process just got forked, after parallelism has already been used. Disabling parallelism to avoid deadlocks...\n",
      "To disable this warning, you can either:\n",
      "\t- Avoid using `tokenizers` before the fork if possible\n",
      "\t- Explicitly set the environment variable TOKENIZERS_PARALLELISM=(true | false)\n",
      "huggingface/tokenizers: The current process just got forked, after parallelism has already been used. Disabling parallelism to avoid deadlocks...\n",
      "To disable this warning, you can either:\n",
      "\t- Avoid using `tokenizers` before the fork if possible\n",
      "\t- Explicitly set the environment variable TOKENIZERS_PARALLELISM=(true | false)\n"
     ]
    },
    {
     "data": {
      "text/html": [
       "\n",
       "    <div>\n",
       "      \n",
       "      <progress value='3910' max='3910' style='width:300px; height:20px; vertical-align: middle;'></progress>\n",
       "      [3910/3910 25:04, Epoch 4/5]\n",
       "    </div>\n",
       "    <table border=\"1\" class=\"dataframe\">\n",
       "  <thead>\n",
       " <tr style=\"text-align: left;\">\n",
       "      <th>Step</th>\n",
       "      <th>Training Loss</th>\n",
       "      <th>Validation Loss</th>\n",
       "      <th>Accuracy</th>\n",
       "      <th>Precision</th>\n",
       "      <th>Recall</th>\n",
       "      <th>F1</th>\n",
       "    </tr>\n",
       "  </thead>\n",
       "  <tbody>\n",
       "    <tr>\n",
       "      <td>1565</td>\n",
       "      <td>0.080500</td>\n",
       "      <td>0.054535</td>\n",
       "      <td>0.988913</td>\n",
       "      <td>0.988995</td>\n",
       "      <td>0.988913</td>\n",
       "      <td>0.988911</td>\n",
       "    </tr>\n",
       "    <tr>\n",
       "      <td>3130</td>\n",
       "      <td>0.063100</td>\n",
       "      <td>0.089513</td>\n",
       "      <td>0.992453</td>\n",
       "      <td>0.992490</td>\n",
       "      <td>0.992453</td>\n",
       "      <td>0.992452</td>\n",
       "    </tr>\n",
       "  </tbody>\n",
       "</table><p>"
      ],
      "text/plain": [
       "<IPython.core.display.HTML object>"
      ]
     },
     "metadata": {},
     "output_type": "display_data"
    },
    {
     "name": "stderr",
     "output_type": "stream",
     "text": [
      "huggingface/tokenizers: The current process just got forked, after parallelism has already been used. Disabling parallelism to avoid deadlocks...\n",
      "To disable this warning, you can either:\n",
      "\t- Avoid using `tokenizers` before the fork if possible\n",
      "\t- Explicitly set the environment variable TOKENIZERS_PARALLELISM=(true | false)\n",
      "huggingface/tokenizers: The current process just got forked, after parallelism has already been used. Disabling parallelism to avoid deadlocks...\n",
      "To disable this warning, you can either:\n",
      "\t- Avoid using `tokenizers` before the fork if possible\n",
      "\t- Explicitly set the environment variable TOKENIZERS_PARALLELISM=(true | false)\n",
      "huggingface/tokenizers: The current process just got forked, after parallelism has already been used. Disabling parallelism to avoid deadlocks...\n",
      "To disable this warning, you can either:\n",
      "\t- Avoid using `tokenizers` before the fork if possible\n",
      "\t- Explicitly set the environment variable TOKENIZERS_PARALLELISM=(true | false)\n",
      "huggingface/tokenizers: The current process just got forked, after parallelism has already been used. Disabling parallelism to avoid deadlocks...\n",
      "To disable this warning, you can either:\n",
      "\t- Avoid using `tokenizers` before the fork if possible\n",
      "\t- Explicitly set the environment variable TOKENIZERS_PARALLELISM=(true | false)\n",
      "huggingface/tokenizers: The current process just got forked, after parallelism has already been used. Disabling parallelism to avoid deadlocks...\n",
      "To disable this warning, you can either:\n",
      "\t- Avoid using `tokenizers` before the fork if possible\n",
      "\t- Explicitly set the environment variable TOKENIZERS_PARALLELISM=(true | false)\n",
      "huggingface/tokenizers: The current process just got forked, after parallelism has already been used. Disabling parallelism to avoid deadlocks...\n",
      "To disable this warning, you can either:\n",
      "\t- Avoid using `tokenizers` before the fork if possible\n",
      "\t- Explicitly set the environment variable TOKENIZERS_PARALLELISM=(true | false)\n",
      "huggingface/tokenizers: The current process just got forked, after parallelism has already been used. Disabling parallelism to avoid deadlocks...\n",
      "To disable this warning, you can either:\n",
      "\t- Avoid using `tokenizers` before the fork if possible\n",
      "\t- Explicitly set the environment variable TOKENIZERS_PARALLELISM=(true | false)\n",
      "huggingface/tokenizers: The current process just got forked, after parallelism has already been used. Disabling parallelism to avoid deadlocks...\n",
      "To disable this warning, you can either:\n",
      "\t- Avoid using `tokenizers` before the fork if possible\n",
      "\t- Explicitly set the environment variable TOKENIZERS_PARALLELISM=(true | false)\n",
      "huggingface/tokenizers: The current process just got forked, after parallelism has already been used. Disabling parallelism to avoid deadlocks...\n",
      "To disable this warning, you can either:\n",
      "\t- Avoid using `tokenizers` before the fork if possible\n",
      "\t- Explicitly set the environment variable TOKENIZERS_PARALLELISM=(true | false)\n",
      "huggingface/tokenizers: The current process just got forked, after parallelism has already been used. Disabling parallelism to avoid deadlocks...\n",
      "To disable this warning, you can either:\n",
      "\t- Avoid using `tokenizers` before the fork if possible\n",
      "\t- Explicitly set the environment variable TOKENIZERS_PARALLELISM=(true | false)\n",
      "huggingface/tokenizers: The current process just got forked, after parallelism has already been used. Disabling parallelism to avoid deadlocks...\n",
      "To disable this warning, you can either:\n",
      "\t- Avoid using `tokenizers` before the fork if possible\n",
      "\t- Explicitly set the environment variable TOKENIZERS_PARALLELISM=(true | false)\n",
      "huggingface/tokenizers: The current process just got forked, after parallelism has already been used. Disabling parallelism to avoid deadlocks...\n",
      "To disable this warning, you can either:\n",
      "\t- Avoid using `tokenizers` before the fork if possible\n",
      "\t- Explicitly set the environment variable TOKENIZERS_PARALLELISM=(true | false)\n"
     ]
    },
    {
     "name": "stdout",
     "output_type": "stream",
     "text": [
      "Training completed in 25.10 minutes\n"
     ]
    },
    {
     "name": "stderr",
     "output_type": "stream",
     "text": [
      "huggingface/tokenizers: The current process just got forked, after parallelism has already been used. Disabling parallelism to avoid deadlocks...\n",
      "To disable this warning, you can either:\n",
      "\t- Avoid using `tokenizers` before the fork if possible\n",
      "\t- Explicitly set the environment variable TOKENIZERS_PARALLELISM=(true | false)\n",
      "huggingface/tokenizers: The current process just got forked, after parallelism has already been used. Disabling parallelism to avoid deadlocks...\n",
      "To disable this warning, you can either:\n",
      "\t- Avoid using `tokenizers` before the fork if possible\n",
      "\t- Explicitly set the environment variable TOKENIZERS_PARALLELISM=(true | false)\n"
     ]
    },
    {
     "data": {
      "text/html": [],
      "text/plain": [
       "<IPython.core.display.HTML object>"
      ]
     },
     "metadata": {},
     "output_type": "display_data"
    },
    {
     "name": "stderr",
     "output_type": "stream",
     "text": [
      "huggingface/tokenizers: The current process just got forked, after parallelism has already been used. Disabling parallelism to avoid deadlocks...\n",
      "To disable this warning, you can either:\n",
      "\t- Avoid using `tokenizers` before the fork if possible\n",
      "\t- Explicitly set the environment variable TOKENIZERS_PARALLELISM=(true | false)\n",
      "huggingface/tokenizers: The current process just got forked, after parallelism has already been used. Disabling parallelism to avoid deadlocks...\n",
      "To disable this warning, you can either:\n",
      "\t- Avoid using `tokenizers` before the fork if possible\n",
      "\t- Explicitly set the environment variable TOKENIZERS_PARALLELISM=(true | false)\n"
     ]
    },
    {
     "name": "stdout",
     "output_type": "stream",
     "text": [
      "\n",
      "============================================================\n",
      "Starting Run 3 of 5\n",
      "============================================================\n"
     ]
    },
    {
     "data": {
      "application/vnd.jupyter.widget-view+json": {
       "model_id": "7b5d78243ff941f0b6871147223a0435",
       "version_major": 2,
       "version_minor": 0
      },
      "text/plain": [
       "Map:   0%|          | 0/50073 [00:00<?, ? examples/s]"
      ]
     },
     "metadata": {},
     "output_type": "display_data"
    },
    {
     "data": {
      "application/vnd.jupyter.widget-view+json": {
       "model_id": "85d4a655009a49d283d3cbad4d85099a",
       "version_major": 2,
       "version_minor": 0
      },
      "text/plain": [
       "Map:   0%|          | 0/10733 [00:00<?, ? examples/s]"
      ]
     },
     "metadata": {},
     "output_type": "display_data"
    },
    {
     "data": {
      "application/vnd.jupyter.widget-view+json": {
       "model_id": "8809742dfa334a97b0db662f41831c12",
       "version_major": 2,
       "version_minor": 0
      },
      "text/plain": [
       "Map:   0%|          | 0/10731 [00:00<?, ? examples/s]"
      ]
     },
     "metadata": {},
     "output_type": "display_data"
    },
    {
     "name": "stderr",
     "output_type": "stream",
     "text": [
      "Some weights of BertForSequenceClassification were not initialized from the model checkpoint at huawei-noah/TinyBERT_General_4L_312D and are newly initialized: ['classifier.bias', 'classifier.weight']\n",
      "You should probably TRAIN this model on a down-stream task to be able to use it for predictions and inference.\n",
      "huggingface/tokenizers: The current process just got forked, after parallelism has already been used. Disabling parallelism to avoid deadlocks...\n",
      "To disable this warning, you can either:\n",
      "\t- Avoid using `tokenizers` before the fork if possible\n",
      "\t- Explicitly set the environment variable TOKENIZERS_PARALLELISM=(true | false)\n",
      "huggingface/tokenizers: The current process just got forked, after parallelism has already been used. Disabling parallelism to avoid deadlocks...\n",
      "To disable this warning, you can either:\n",
      "\t- Avoid using `tokenizers` before the fork if possible\n",
      "\t- Explicitly set the environment variable TOKENIZERS_PARALLELISM=(true | false)\n"
     ]
    },
    {
     "data": {
      "text/html": [
       "\n",
       "    <div>\n",
       "      \n",
       "      <progress value='3910' max='3910' style='width:300px; height:20px; vertical-align: middle;'></progress>\n",
       "      [3910/3910 25:08, Epoch 4/5]\n",
       "    </div>\n",
       "    <table border=\"1\" class=\"dataframe\">\n",
       "  <thead>\n",
       " <tr style=\"text-align: left;\">\n",
       "      <th>Step</th>\n",
       "      <th>Training Loss</th>\n",
       "      <th>Validation Loss</th>\n",
       "      <th>Accuracy</th>\n",
       "      <th>Precision</th>\n",
       "      <th>Recall</th>\n",
       "      <th>F1</th>\n",
       "    </tr>\n",
       "  </thead>\n",
       "  <tbody>\n",
       "    <tr>\n",
       "      <td>1565</td>\n",
       "      <td>0.114900</td>\n",
       "      <td>0.205296</td>\n",
       "      <td>0.973819</td>\n",
       "      <td>0.974768</td>\n",
       "      <td>0.973819</td>\n",
       "      <td>0.973818</td>\n",
       "    </tr>\n",
       "    <tr>\n",
       "      <td>3130</td>\n",
       "      <td>0.069100</td>\n",
       "      <td>0.115138</td>\n",
       "      <td>0.991056</td>\n",
       "      <td>0.991107</td>\n",
       "      <td>0.991056</td>\n",
       "      <td>0.991056</td>\n",
       "    </tr>\n",
       "  </tbody>\n",
       "</table><p>"
      ],
      "text/plain": [
       "<IPython.core.display.HTML object>"
      ]
     },
     "metadata": {},
     "output_type": "display_data"
    },
    {
     "name": "stderr",
     "output_type": "stream",
     "text": [
      "huggingface/tokenizers: The current process just got forked, after parallelism has already been used. Disabling parallelism to avoid deadlocks...\n",
      "To disable this warning, you can either:\n",
      "\t- Avoid using `tokenizers` before the fork if possible\n",
      "\t- Explicitly set the environment variable TOKENIZERS_PARALLELISM=(true | false)\n",
      "huggingface/tokenizers: The current process just got forked, after parallelism has already been used. Disabling parallelism to avoid deadlocks...\n",
      "To disable this warning, you can either:\n",
      "\t- Avoid using `tokenizers` before the fork if possible\n",
      "\t- Explicitly set the environment variable TOKENIZERS_PARALLELISM=(true | false)\n",
      "huggingface/tokenizers: The current process just got forked, after parallelism has already been used. Disabling parallelism to avoid deadlocks...\n",
      "To disable this warning, you can either:\n",
      "\t- Avoid using `tokenizers` before the fork if possible\n",
      "\t- Explicitly set the environment variable TOKENIZERS_PARALLELISM=(true | false)\n",
      "huggingface/tokenizers: The current process just got forked, after parallelism has already been used. Disabling parallelism to avoid deadlocks...\n",
      "To disable this warning, you can either:\n",
      "\t- Avoid using `tokenizers` before the fork if possible\n",
      "\t- Explicitly set the environment variable TOKENIZERS_PARALLELISM=(true | false)\n",
      "huggingface/tokenizers: The current process just got forked, after parallelism has already been used. Disabling parallelism to avoid deadlocks...\n",
      "To disable this warning, you can either:\n",
      "\t- Avoid using `tokenizers` before the fork if possible\n",
      "\t- Explicitly set the environment variable TOKENIZERS_PARALLELISM=(true | false)\n",
      "huggingface/tokenizers: The current process just got forked, after parallelism has already been used. Disabling parallelism to avoid deadlocks...\n",
      "To disable this warning, you can either:\n",
      "\t- Avoid using `tokenizers` before the fork if possible\n",
      "\t- Explicitly set the environment variable TOKENIZERS_PARALLELISM=(true | false)\n",
      "huggingface/tokenizers: The current process just got forked, after parallelism has already been used. Disabling parallelism to avoid deadlocks...\n",
      "To disable this warning, you can either:\n",
      "\t- Avoid using `tokenizers` before the fork if possible\n",
      "\t- Explicitly set the environment variable TOKENIZERS_PARALLELISM=(true | false)\n",
      "huggingface/tokenizers: The current process just got forked, after parallelism has already been used. Disabling parallelism to avoid deadlocks...\n",
      "To disable this warning, you can either:\n",
      "\t- Avoid using `tokenizers` before the fork if possible\n",
      "\t- Explicitly set the environment variable TOKENIZERS_PARALLELISM=(true | false)\n",
      "huggingface/tokenizers: The current process just got forked, after parallelism has already been used. Disabling parallelism to avoid deadlocks...\n",
      "To disable this warning, you can either:\n",
      "\t- Avoid using `tokenizers` before the fork if possible\n",
      "\t- Explicitly set the environment variable TOKENIZERS_PARALLELISM=(true | false)\n",
      "huggingface/tokenizers: The current process just got forked, after parallelism has already been used. Disabling parallelism to avoid deadlocks...\n",
      "To disable this warning, you can either:\n",
      "\t- Avoid using `tokenizers` before the fork if possible\n",
      "\t- Explicitly set the environment variable TOKENIZERS_PARALLELISM=(true | false)\n",
      "huggingface/tokenizers: The current process just got forked, after parallelism has already been used. Disabling parallelism to avoid deadlocks...\n",
      "To disable this warning, you can either:\n",
      "\t- Avoid using `tokenizers` before the fork if possible\n",
      "\t- Explicitly set the environment variable TOKENIZERS_PARALLELISM=(true | false)\n",
      "huggingface/tokenizers: The current process just got forked, after parallelism has already been used. Disabling parallelism to avoid deadlocks...\n",
      "To disable this warning, you can either:\n",
      "\t- Avoid using `tokenizers` before the fork if possible\n",
      "\t- Explicitly set the environment variable TOKENIZERS_PARALLELISM=(true | false)\n"
     ]
    },
    {
     "name": "stdout",
     "output_type": "stream",
     "text": [
      "Training completed in 25.17 minutes\n"
     ]
    },
    {
     "name": "stderr",
     "output_type": "stream",
     "text": [
      "huggingface/tokenizers: The current process just got forked, after parallelism has already been used. Disabling parallelism to avoid deadlocks...\n",
      "To disable this warning, you can either:\n",
      "\t- Avoid using `tokenizers` before the fork if possible\n",
      "\t- Explicitly set the environment variable TOKENIZERS_PARALLELISM=(true | false)\n",
      "huggingface/tokenizers: The current process just got forked, after parallelism has already been used. Disabling parallelism to avoid deadlocks...\n",
      "To disable this warning, you can either:\n",
      "\t- Avoid using `tokenizers` before the fork if possible\n",
      "\t- Explicitly set the environment variable TOKENIZERS_PARALLELISM=(true | false)\n"
     ]
    },
    {
     "data": {
      "text/html": [],
      "text/plain": [
       "<IPython.core.display.HTML object>"
      ]
     },
     "metadata": {},
     "output_type": "display_data"
    },
    {
     "name": "stderr",
     "output_type": "stream",
     "text": [
      "huggingface/tokenizers: The current process just got forked, after parallelism has already been used. Disabling parallelism to avoid deadlocks...\n",
      "To disable this warning, you can either:\n",
      "\t- Avoid using `tokenizers` before the fork if possible\n",
      "\t- Explicitly set the environment variable TOKENIZERS_PARALLELISM=(true | false)\n",
      "huggingface/tokenizers: The current process just got forked, after parallelism has already been used. Disabling parallelism to avoid deadlocks...\n",
      "To disable this warning, you can either:\n",
      "\t- Avoid using `tokenizers` before the fork if possible\n",
      "\t- Explicitly set the environment variable TOKENIZERS_PARALLELISM=(true | false)\n"
     ]
    },
    {
     "name": "stdout",
     "output_type": "stream",
     "text": [
      "\n",
      "============================================================\n",
      "Starting Run 4 of 5\n",
      "============================================================\n"
     ]
    },
    {
     "data": {
      "application/vnd.jupyter.widget-view+json": {
       "model_id": "214f1577ab964b76ae9932b995e605f3",
       "version_major": 2,
       "version_minor": 0
      },
      "text/plain": [
       "Map:   0%|          | 0/50073 [00:00<?, ? examples/s]"
      ]
     },
     "metadata": {},
     "output_type": "display_data"
    },
    {
     "data": {
      "application/vnd.jupyter.widget-view+json": {
       "model_id": "47cf33bd9e384a0c92fd23e58ad6582e",
       "version_major": 2,
       "version_minor": 0
      },
      "text/plain": [
       "Map:   0%|          | 0/10733 [00:00<?, ? examples/s]"
      ]
     },
     "metadata": {},
     "output_type": "display_data"
    },
    {
     "data": {
      "application/vnd.jupyter.widget-view+json": {
       "model_id": "8bbd6d7a90284da2a62bf41b11e31e71",
       "version_major": 2,
       "version_minor": 0
      },
      "text/plain": [
       "Map:   0%|          | 0/10731 [00:00<?, ? examples/s]"
      ]
     },
     "metadata": {},
     "output_type": "display_data"
    },
    {
     "name": "stderr",
     "output_type": "stream",
     "text": [
      "Some weights of BertForSequenceClassification were not initialized from the model checkpoint at huawei-noah/TinyBERT_General_4L_312D and are newly initialized: ['classifier.bias', 'classifier.weight']\n",
      "You should probably TRAIN this model on a down-stream task to be able to use it for predictions and inference.\n",
      "huggingface/tokenizers: The current process just got forked, after parallelism has already been used. Disabling parallelism to avoid deadlocks...\n",
      "To disable this warning, you can either:\n",
      "\t- Avoid using `tokenizers` before the fork if possible\n",
      "\t- Explicitly set the environment variable TOKENIZERS_PARALLELISM=(true | false)\n",
      "huggingface/tokenizers: The current process just got forked, after parallelism has already been used. Disabling parallelism to avoid deadlocks...\n",
      "To disable this warning, you can either:\n",
      "\t- Avoid using `tokenizers` before the fork if possible\n",
      "\t- Explicitly set the environment variable TOKENIZERS_PARALLELISM=(true | false)\n"
     ]
    },
    {
     "data": {
      "text/html": [
       "\n",
       "    <div>\n",
       "      \n",
       "      <progress value='3910' max='3910' style='width:300px; height:20px; vertical-align: middle;'></progress>\n",
       "      [3910/3910 25:15, Epoch 4/5]\n",
       "    </div>\n",
       "    <table border=\"1\" class=\"dataframe\">\n",
       "  <thead>\n",
       " <tr style=\"text-align: left;\">\n",
       "      <th>Step</th>\n",
       "      <th>Training Loss</th>\n",
       "      <th>Validation Loss</th>\n",
       "      <th>Accuracy</th>\n",
       "      <th>Precision</th>\n",
       "      <th>Recall</th>\n",
       "      <th>F1</th>\n",
       "    </tr>\n",
       "  </thead>\n",
       "  <tbody>\n",
       "    <tr>\n",
       "      <td>1565</td>\n",
       "      <td>0.088500</td>\n",
       "      <td>0.059117</td>\n",
       "      <td>0.986677</td>\n",
       "      <td>0.986851</td>\n",
       "      <td>0.986677</td>\n",
       "      <td>0.986673</td>\n",
       "    </tr>\n",
       "    <tr>\n",
       "      <td>3130</td>\n",
       "      <td>0.079900</td>\n",
       "      <td>0.168120</td>\n",
       "      <td>0.987981</td>\n",
       "      <td>0.988130</td>\n",
       "      <td>0.987981</td>\n",
       "      <td>0.987978</td>\n",
       "    </tr>\n",
       "  </tbody>\n",
       "</table><p>"
      ],
      "text/plain": [
       "<IPython.core.display.HTML object>"
      ]
     },
     "metadata": {},
     "output_type": "display_data"
    },
    {
     "name": "stderr",
     "output_type": "stream",
     "text": [
      "huggingface/tokenizers: The current process just got forked, after parallelism has already been used. Disabling parallelism to avoid deadlocks...\n",
      "To disable this warning, you can either:\n",
      "\t- Avoid using `tokenizers` before the fork if possible\n",
      "\t- Explicitly set the environment variable TOKENIZERS_PARALLELISM=(true | false)\n",
      "huggingface/tokenizers: The current process just got forked, after parallelism has already been used. Disabling parallelism to avoid deadlocks...\n",
      "To disable this warning, you can either:\n",
      "\t- Avoid using `tokenizers` before the fork if possible\n",
      "\t- Explicitly set the environment variable TOKENIZERS_PARALLELISM=(true | false)\n",
      "huggingface/tokenizers: The current process just got forked, after parallelism has already been used. Disabling parallelism to avoid deadlocks...\n",
      "To disable this warning, you can either:\n",
      "\t- Avoid using `tokenizers` before the fork if possible\n",
      "\t- Explicitly set the environment variable TOKENIZERS_PARALLELISM=(true | false)\n",
      "huggingface/tokenizers: The current process just got forked, after parallelism has already been used. Disabling parallelism to avoid deadlocks...\n",
      "To disable this warning, you can either:\n",
      "\t- Avoid using `tokenizers` before the fork if possible\n",
      "\t- Explicitly set the environment variable TOKENIZERS_PARALLELISM=(true | false)\n",
      "huggingface/tokenizers: The current process just got forked, after parallelism has already been used. Disabling parallelism to avoid deadlocks...\n",
      "To disable this warning, you can either:\n",
      "\t- Avoid using `tokenizers` before the fork if possible\n",
      "\t- Explicitly set the environment variable TOKENIZERS_PARALLELISM=(true | false)\n",
      "huggingface/tokenizers: The current process just got forked, after parallelism has already been used. Disabling parallelism to avoid deadlocks...\n",
      "To disable this warning, you can either:\n",
      "\t- Avoid using `tokenizers` before the fork if possible\n",
      "\t- Explicitly set the environment variable TOKENIZERS_PARALLELISM=(true | false)\n",
      "huggingface/tokenizers: The current process just got forked, after parallelism has already been used. Disabling parallelism to avoid deadlocks...\n",
      "To disable this warning, you can either:\n",
      "\t- Avoid using `tokenizers` before the fork if possible\n",
      "\t- Explicitly set the environment variable TOKENIZERS_PARALLELISM=(true | false)\n",
      "huggingface/tokenizers: The current process just got forked, after parallelism has already been used. Disabling parallelism to avoid deadlocks...\n",
      "To disable this warning, you can either:\n",
      "\t- Avoid using `tokenizers` before the fork if possible\n",
      "\t- Explicitly set the environment variable TOKENIZERS_PARALLELISM=(true | false)\n",
      "huggingface/tokenizers: The current process just got forked, after parallelism has already been used. Disabling parallelism to avoid deadlocks...\n",
      "To disable this warning, you can either:\n",
      "\t- Avoid using `tokenizers` before the fork if possible\n",
      "\t- Explicitly set the environment variable TOKENIZERS_PARALLELISM=(true | false)\n",
      "huggingface/tokenizers: The current process just got forked, after parallelism has already been used. Disabling parallelism to avoid deadlocks...\n",
      "To disable this warning, you can either:\n",
      "\t- Avoid using `tokenizers` before the fork if possible\n",
      "\t- Explicitly set the environment variable TOKENIZERS_PARALLELISM=(true | false)\n",
      "huggingface/tokenizers: The current process just got forked, after parallelism has already been used. Disabling parallelism to avoid deadlocks...\n",
      "To disable this warning, you can either:\n",
      "\t- Avoid using `tokenizers` before the fork if possible\n",
      "\t- Explicitly set the environment variable TOKENIZERS_PARALLELISM=(true | false)\n",
      "huggingface/tokenizers: The current process just got forked, after parallelism has already been used. Disabling parallelism to avoid deadlocks...\n",
      "To disable this warning, you can either:\n",
      "\t- Avoid using `tokenizers` before the fork if possible\n",
      "\t- Explicitly set the environment variable TOKENIZERS_PARALLELISM=(true | false)\n"
     ]
    },
    {
     "name": "stdout",
     "output_type": "stream",
     "text": [
      "Training completed in 25.28 minutes\n"
     ]
    },
    {
     "name": "stderr",
     "output_type": "stream",
     "text": [
      "huggingface/tokenizers: The current process just got forked, after parallelism has already been used. Disabling parallelism to avoid deadlocks...\n",
      "To disable this warning, you can either:\n",
      "\t- Avoid using `tokenizers` before the fork if possible\n",
      "\t- Explicitly set the environment variable TOKENIZERS_PARALLELISM=(true | false)\n",
      "huggingface/tokenizers: The current process just got forked, after parallelism has already been used. Disabling parallelism to avoid deadlocks...\n",
      "To disable this warning, you can either:\n",
      "\t- Avoid using `tokenizers` before the fork if possible\n",
      "\t- Explicitly set the environment variable TOKENIZERS_PARALLELISM=(true | false)\n"
     ]
    },
    {
     "data": {
      "text/html": [],
      "text/plain": [
       "<IPython.core.display.HTML object>"
      ]
     },
     "metadata": {},
     "output_type": "display_data"
    },
    {
     "name": "stderr",
     "output_type": "stream",
     "text": [
      "huggingface/tokenizers: The current process just got forked, after parallelism has already been used. Disabling parallelism to avoid deadlocks...\n",
      "To disable this warning, you can either:\n",
      "\t- Avoid using `tokenizers` before the fork if possible\n",
      "\t- Explicitly set the environment variable TOKENIZERS_PARALLELISM=(true | false)\n",
      "huggingface/tokenizers: The current process just got forked, after parallelism has already been used. Disabling parallelism to avoid deadlocks...\n",
      "To disable this warning, you can either:\n",
      "\t- Avoid using `tokenizers` before the fork if possible\n",
      "\t- Explicitly set the environment variable TOKENIZERS_PARALLELISM=(true | false)\n"
     ]
    },
    {
     "name": "stdout",
     "output_type": "stream",
     "text": [
      "\n",
      "============================================================\n",
      "Starting Run 5 of 5\n",
      "============================================================\n"
     ]
    },
    {
     "data": {
      "application/vnd.jupyter.widget-view+json": {
       "model_id": "76dcb7544c4e4a25b9de9086c4f5152b",
       "version_major": 2,
       "version_minor": 0
      },
      "text/plain": [
       "Map:   0%|          | 0/50073 [00:00<?, ? examples/s]"
      ]
     },
     "metadata": {},
     "output_type": "display_data"
    },
    {
     "data": {
      "application/vnd.jupyter.widget-view+json": {
       "model_id": "6eda8bcac8cd46029bc38e130adf9700",
       "version_major": 2,
       "version_minor": 0
      },
      "text/plain": [
       "Map:   0%|          | 0/10733 [00:00<?, ? examples/s]"
      ]
     },
     "metadata": {},
     "output_type": "display_data"
    },
    {
     "data": {
      "application/vnd.jupyter.widget-view+json": {
       "model_id": "fb64407f038c4fb49160011c0e9ad931",
       "version_major": 2,
       "version_minor": 0
      },
      "text/plain": [
       "Map:   0%|          | 0/10731 [00:00<?, ? examples/s]"
      ]
     },
     "metadata": {},
     "output_type": "display_data"
    },
    {
     "name": "stderr",
     "output_type": "stream",
     "text": [
      "Some weights of BertForSequenceClassification were not initialized from the model checkpoint at huawei-noah/TinyBERT_General_4L_312D and are newly initialized: ['classifier.bias', 'classifier.weight']\n",
      "You should probably TRAIN this model on a down-stream task to be able to use it for predictions and inference.\n",
      "huggingface/tokenizers: The current process just got forked, after parallelism has already been used. Disabling parallelism to avoid deadlocks...\n",
      "To disable this warning, you can either:\n",
      "\t- Avoid using `tokenizers` before the fork if possible\n",
      "\t- Explicitly set the environment variable TOKENIZERS_PARALLELISM=(true | false)\n",
      "huggingface/tokenizers: The current process just got forked, after parallelism has already been used. Disabling parallelism to avoid deadlocks...\n",
      "To disable this warning, you can either:\n",
      "\t- Avoid using `tokenizers` before the fork if possible\n",
      "\t- Explicitly set the environment variable TOKENIZERS_PARALLELISM=(true | false)\n"
     ]
    },
    {
     "data": {
      "text/html": [
       "\n",
       "    <div>\n",
       "      \n",
       "      <progress value='3910' max='3910' style='width:300px; height:20px; vertical-align: middle;'></progress>\n",
       "      [3910/3910 25:16, Epoch 4/5]\n",
       "    </div>\n",
       "    <table border=\"1\" class=\"dataframe\">\n",
       "  <thead>\n",
       " <tr style=\"text-align: left;\">\n",
       "      <th>Step</th>\n",
       "      <th>Training Loss</th>\n",
       "      <th>Validation Loss</th>\n",
       "      <th>Accuracy</th>\n",
       "      <th>Precision</th>\n",
       "      <th>Recall</th>\n",
       "      <th>F1</th>\n",
       "    </tr>\n",
       "  </thead>\n",
       "  <tbody>\n",
       "    <tr>\n",
       "      <td>1565</td>\n",
       "      <td>0.164400</td>\n",
       "      <td>0.082648</td>\n",
       "      <td>0.987888</td>\n",
       "      <td>0.987913</td>\n",
       "      <td>0.987888</td>\n",
       "      <td>0.987887</td>\n",
       "    </tr>\n",
       "    <tr>\n",
       "      <td>3130</td>\n",
       "      <td>0.044500</td>\n",
       "      <td>0.134198</td>\n",
       "      <td>0.989192</td>\n",
       "      <td>0.989287</td>\n",
       "      <td>0.989192</td>\n",
       "      <td>0.989190</td>\n",
       "    </tr>\n",
       "  </tbody>\n",
       "</table><p>"
      ],
      "text/plain": [
       "<IPython.core.display.HTML object>"
      ]
     },
     "metadata": {},
     "output_type": "display_data"
    },
    {
     "name": "stderr",
     "output_type": "stream",
     "text": [
      "huggingface/tokenizers: The current process just got forked, after parallelism has already been used. Disabling parallelism to avoid deadlocks...\n",
      "To disable this warning, you can either:\n",
      "\t- Avoid using `tokenizers` before the fork if possible\n",
      "\t- Explicitly set the environment variable TOKENIZERS_PARALLELISM=(true | false)\n",
      "huggingface/tokenizers: The current process just got forked, after parallelism has already been used. Disabling parallelism to avoid deadlocks...\n",
      "To disable this warning, you can either:\n",
      "\t- Avoid using `tokenizers` before the fork if possible\n",
      "\t- Explicitly set the environment variable TOKENIZERS_PARALLELISM=(true | false)\n",
      "huggingface/tokenizers: The current process just got forked, after parallelism has already been used. Disabling parallelism to avoid deadlocks...\n",
      "To disable this warning, you can either:\n",
      "\t- Avoid using `tokenizers` before the fork if possible\n",
      "\t- Explicitly set the environment variable TOKENIZERS_PARALLELISM=(true | false)\n",
      "huggingface/tokenizers: The current process just got forked, after parallelism has already been used. Disabling parallelism to avoid deadlocks...\n",
      "To disable this warning, you can either:\n",
      "\t- Avoid using `tokenizers` before the fork if possible\n",
      "\t- Explicitly set the environment variable TOKENIZERS_PARALLELISM=(true | false)\n",
      "huggingface/tokenizers: The current process just got forked, after parallelism has already been used. Disabling parallelism to avoid deadlocks...\n",
      "To disable this warning, you can either:\n",
      "\t- Avoid using `tokenizers` before the fork if possible\n",
      "\t- Explicitly set the environment variable TOKENIZERS_PARALLELISM=(true | false)\n",
      "huggingface/tokenizers: The current process just got forked, after parallelism has already been used. Disabling parallelism to avoid deadlocks...\n",
      "To disable this warning, you can either:\n",
      "\t- Avoid using `tokenizers` before the fork if possible\n",
      "\t- Explicitly set the environment variable TOKENIZERS_PARALLELISM=(true | false)\n",
      "huggingface/tokenizers: The current process just got forked, after parallelism has already been used. Disabling parallelism to avoid deadlocks...\n",
      "To disable this warning, you can either:\n",
      "\t- Avoid using `tokenizers` before the fork if possible\n",
      "\t- Explicitly set the environment variable TOKENIZERS_PARALLELISM=(true | false)\n",
      "huggingface/tokenizers: The current process just got forked, after parallelism has already been used. Disabling parallelism to avoid deadlocks...\n",
      "To disable this warning, you can either:\n",
      "\t- Avoid using `tokenizers` before the fork if possible\n",
      "\t- Explicitly set the environment variable TOKENIZERS_PARALLELISM=(true | false)\n",
      "huggingface/tokenizers: The current process just got forked, after parallelism has already been used. Disabling parallelism to avoid deadlocks...\n",
      "To disable this warning, you can either:\n",
      "\t- Avoid using `tokenizers` before the fork if possible\n",
      "\t- Explicitly set the environment variable TOKENIZERS_PARALLELISM=(true | false)\n",
      "huggingface/tokenizers: The current process just got forked, after parallelism has already been used. Disabling parallelism to avoid deadlocks...\n",
      "To disable this warning, you can either:\n",
      "\t- Avoid using `tokenizers` before the fork if possible\n",
      "\t- Explicitly set the environment variable TOKENIZERS_PARALLELISM=(true | false)\n",
      "huggingface/tokenizers: The current process just got forked, after parallelism has already been used. Disabling parallelism to avoid deadlocks...\n",
      "To disable this warning, you can either:\n",
      "\t- Avoid using `tokenizers` before the fork if possible\n",
      "\t- Explicitly set the environment variable TOKENIZERS_PARALLELISM=(true | false)\n",
      "huggingface/tokenizers: The current process just got forked, after parallelism has already been used. Disabling parallelism to avoid deadlocks...\n",
      "To disable this warning, you can either:\n",
      "\t- Avoid using `tokenizers` before the fork if possible\n",
      "\t- Explicitly set the environment variable TOKENIZERS_PARALLELISM=(true | false)\n"
     ]
    },
    {
     "name": "stdout",
     "output_type": "stream",
     "text": [
      "Training completed in 25.30 minutes\n"
     ]
    },
    {
     "name": "stderr",
     "output_type": "stream",
     "text": [
      "huggingface/tokenizers: The current process just got forked, after parallelism has already been used. Disabling parallelism to avoid deadlocks...\n",
      "To disable this warning, you can either:\n",
      "\t- Avoid using `tokenizers` before the fork if possible\n",
      "\t- Explicitly set the environment variable TOKENIZERS_PARALLELISM=(true | false)\n",
      "huggingface/tokenizers: The current process just got forked, after parallelism has already been used. Disabling parallelism to avoid deadlocks...\n",
      "To disable this warning, you can either:\n",
      "\t- Avoid using `tokenizers` before the fork if possible\n",
      "\t- Explicitly set the environment variable TOKENIZERS_PARALLELISM=(true | false)\n"
     ]
    },
    {
     "data": {
      "text/html": [],
      "text/plain": [
       "<IPython.core.display.HTML object>"
      ]
     },
     "metadata": {},
     "output_type": "display_data"
    },
    {
     "name": "stderr",
     "output_type": "stream",
     "text": [
      "huggingface/tokenizers: The current process just got forked, after parallelism has already been used. Disabling parallelism to avoid deadlocks...\n",
      "To disable this warning, you can either:\n",
      "\t- Avoid using `tokenizers` before the fork if possible\n",
      "\t- Explicitly set the environment variable TOKENIZERS_PARALLELISM=(true | false)\n",
      "huggingface/tokenizers: The current process just got forked, after parallelism has already been used. Disabling parallelism to avoid deadlocks...\n",
      "To disable this warning, you can either:\n",
      "\t- Avoid using `tokenizers` before the fork if possible\n",
      "\t- Explicitly set the environment variable TOKENIZERS_PARALLELISM=(true | false)\n"
     ]
    },
    {
     "name": "stdout",
     "output_type": "stream",
     "text": [
      "\n",
      "Model Performance Summary (Multiple Runs):\n",
      "============================================================\n",
      "Accuracy: 0.9919 ± 0.0014\n",
      "Precision: 0.9919 ± 0.0014\n",
      "Recall: 0.9919 ± 0.0014\n",
      "F1: 0.9919 ± 0.0014\n"
     ]
    },
    {
     "data": {
      "image/png": "[encoded data removed]",
      "text/plain": [
       "<Figure size 1200x1000 with 4 Axes>"
      ]
     },
     "metadata": {},
     "output_type": "display_data"
    },
    {
     "name": "stdout",
     "output_type": "stream",
     "text": [
      "\n",
      "Phase 2: K-Fold Cross-Validation\n",
      "----------------------------------------\n",
      "Note: This is computationally expensive. Set perform_kfold=False to skip.\n",
      "\n",
      "============================================================\n",
      "FINAL SUMMARY REPORT\n",
      "============================================================\n",
      "\n",
      "Multiple Training Runs (n=5):\n",
      "Accuracy: 0.9919 (95% CI: [0.9899, 0.9939])\n",
      "Precision: 0.9919 (95% CI: [0.9900, 0.9939])\n",
      "Recall: 0.9919 (95% CI: [0.9899, 0.9939])\n",
      "F1: 0.9919 (95% CI: [0.9899, 0.9939])\n",
      "\n",
      "Average Training Time: 25.17 ± 0.11 minutes\n"
     ]
    }
   ],
   "source": [
    "# Run the enhanced training pipeline\n",
    "if __name__ == \"__main__\":\n",
    "    results, stats = main_enhanced_training_pipeline()"
   ]
  },
  {
   "cell_type": "markdown",
   "id": "0bf72837",
   "metadata": {},
   "source": [
    "## 15. Save Results for Future Analysis\n",
    "\n",
    "### Preserving Our Hard Work\n",
    "\n",
    "After all this computation, we want to save our results so we can analyze them later without having to retrain everything."
   ]
  },
  {
   "cell_type": "code",
   "execution_count": 26,
   "id": "4c374b5f",
   "metadata": {
    "execution": {
     "iopub.execute_input": "2025-05-22T20:01:44.373141Z",
     "iopub.status.busy": "2025-05-22T20:01:44.372249Z",
     "iopub.status.idle": "2025-05-22T20:01:44.378176Z",
     "shell.execute_reply": "2025-05-22T20:01:44.377372Z",
     "shell.execute_reply.started": "2025-05-22T20:01:44.373109Z"
    }
   },
   "outputs": [],
   "source": [
    "def save_enhanced_results(results, stats, filename='tinybert_enhanced_results.pkl'):\n",
    "    \"\"\"\n",
    "    Save the results of our enhanced training pipeline.\n",
    "    \"\"\"\n",
    "    import pickle\n",
    "    \n",
    "    results_package = {\n",
    "        'multiple_run_results': results,\n",
    "        'statistics': stats,\n",
    "        'timestamp': time.strftime('%Y-%m-%d %H:%M:%S'),\n",
    "        'model_name': 'TinyBERT',\n",
    "        'dataset': 'WELFake'\n",
    "    }\n",
    "    \n",
    "    with open(filename, 'wb') as f:\n",
    "        pickle.dump(results_package, f)\n",
    "    \n",
    "    print(f\"\\nResults saved to {filename}\")"
   ]
  },
  {
   "cell_type": "code",
   "execution_count": 27,
   "id": "edf43aeb",
   "metadata": {
    "execution": {
     "iopub.execute_input": "2025-05-22T20:01:44.379647Z",
     "iopub.status.busy": "2025-05-22T20:01:44.379409Z",
     "iopub.status.idle": "2025-05-22T20:01:44.394907Z",
     "shell.execute_reply": "2025-05-22T20:01:44.394207Z",
     "shell.execute_reply.started": "2025-05-22T20:01:44.379631Z"
    }
   },
   "outputs": [
    {
     "name": "stdout",
     "output_type": "stream",
     "text": [
      "\n",
      "Results saved to tinybert_enhanced_results.pkl\n"
     ]
    }
   ],
   "source": [
    "# Save the results\n",
    "save_enhanced_results(results, stats)"
   ]
  },
  {
   "cell_type": "code",
   "execution_count": 33,
   "id": "2b0a8e2a-4c4f-4a34-8a26-60a48ad2f22f",
   "metadata": {
    "execution": {
     "iopub.execute_input": "2025-05-22T20:18:23.506290Z",
     "iopub.status.busy": "2025-05-22T20:18:23.505653Z",
     "iopub.status.idle": "2025-05-22T20:18:23.791263Z",
     "shell.execute_reply": "2025-05-22T20:18:23.790470Z",
     "shell.execute_reply.started": "2025-05-22T20:18:23.506249Z"
    }
   },
   "outputs": [
    {
     "name": "stdout",
     "output_type": "stream",
     "text": [
      "{\n",
      "  \"best_global_step\": 3130,\n",
      "  \"best_metric\": 0.992173814755752,\n",
      "  \"best_model_checkpoint\": \"./results/tinybert_welfake_run_42/checkpoint-3130\",\n",
      "  \"epoch\": 4.994249201277955,\n",
      "  \"eval_steps\": 1565,\n",
      "  \"global_step\": 3910,\n",
      "  \"is_hyper_param_search\": false,\n",
      "  \"is_local_process_zero\": true,\n",
      "  \"is_world_process_zero\": true,\n",
      "  \"log_history\": [\n",
      "    {\n",
      "      \"epoch\": 0.06389776357827476,\n",
      "      \"grad_norm\": 16677.654296875,\n",
      "      \"learning_rate\": 3.1309904153354634e-06,\n",
      "      \"loss\": 0.6925,\n",
      "      \"step\": 50\n",
      "    },\n",
      "    {\n",
      "      \"epoch\": 0.12779552715654952,\n",
      "      \"grad_norm\": 60503.01953125,\n",
      "      \"learning_rate\": 6.325878594249201e-06,\n",
      "      \"loss\": 0.6809,\n",
      "      \"step\": 100\n",
      "    },\n",
      "    {\n",
      "      \"epoch\": 0.19169329073482427,\n",
      "      \"grad_norm\": 370875.53125,\n",
      "      \"learning_rate\": 9.52076677316294e-06,\n",
      "      \"loss\": 0.6105,\n",
      "      \"step\": 150\n",
      "    },\n",
      "    {\n",
      "      \"epoch\": 0.25559105431309903,\n",
      "      \"grad_norm\": 281786.0625,\n",
      "      \"learning_rate\": 1.2715654952076678e-05,\n",
      "      \"loss\": 0.4738,\n",
      "      \"step\": 200\n",
      "    },\n",
      "    {\n",
      "      \"epoch\": 0.3194888178913738,\n",
      "      \"grad_norm\": 1121344.75,\n",
      "      \"learning_rate\": 1.5910543130990417e-05,\n",
      "      \"loss\": 0.3535,\n",
      "      \"step\": 250\n",
      "    },\n",
      "    {\n",
      "      \"epoch\": 0.38338658146964855,\n",
      "      \"grad_norm\": 294146.1875,\n",
      "      \"learning_rate\": 1.9105431309904154e-05,\n",
      "      \"loss\": 0.2926,\n",
      "      \"step\": 300\n",
      "    },\n",
      "    {\n",
      "      \"epoch\": 0.4472843450479233,\n",
      "      \"grad_norm\": 151610.40625,\n",
      "      \"learning_rate\": 2.2300319488817892e-05,\n",
      "      \"loss\": 0.2528,\n",
      "      \"step\": 350\n",
      "    },\n",
      "    {\n",
      "      \"epoch\": 0.5111821086261981,\n",
      "      \"grad_norm\": 1360000.875,\n",
      "      \"learning_rate\": 2.549520766773163e-05,\n",
      "      \"loss\": 0.2082,\n",
      "      \"step\": 400\n",
      "    },\n",
      "    {\n",
      "      \"epoch\": 0.5750798722044729,\n",
      "      \"grad_norm\": 513707.40625,\n",
      "      \"learning_rate\": 2.869009584664537e-05,\n",
      "      \"loss\": 0.178,\n",
      "      \"step\": 450\n",
      "    },\n",
      "    {\n",
      "      \"epoch\": 0.6389776357827476,\n",
      "      \"grad_norm\": 527499.625,\n",
      "      \"learning_rate\": 3.1884984025559104e-05,\n",
      "      \"loss\": 0.1348,\n",
      "      \"step\": 500\n",
      "    },\n",
      "    {\n",
      "      \"epoch\": 0.7028753993610224,\n",
      "      \"grad_norm\": 349590.53125,\n",
      "      \"learning_rate\": 3.5079872204472845e-05,\n",
      "      \"loss\": 0.1205,\n",
      "      \"step\": 550\n",
      "    },\n",
      "    {\n",
      "      \"epoch\": 0.7667731629392971,\n",
      "      \"grad_norm\": 1323155.625,\n",
      "      \"learning_rate\": 3.827476038338658e-05,\n",
      "      \"loss\": 0.1097,\n",
      "      \"step\": 600\n",
      "    },\n",
      "    {\n",
      "      \"epoch\": 0.8306709265175719,\n",
      "      \"grad_norm\": 513134.71875,\n",
      "      \"learning_rate\": 4.146964856230032e-05,\n",
      "      \"loss\": 0.1074,\n",
      "      \"step\": 650\n",
      "    },\n",
      "    {\n",
      "      \"epoch\": 0.8945686900958466,\n",
      "      \"grad_norm\": 53906.15234375,\n",
      "      \"learning_rate\": 4.466453674121406e-05,\n",
      "      \"loss\": 0.0981,\n",
      "      \"step\": 700\n",
      "    },\n",
      "    {\n",
      "      \"epoch\": 0.9584664536741214,\n",
      "      \"grad_norm\": 172271.640625,\n",
      "      \"learning_rate\": 4.78594249201278e-05,\n",
      "      \"loss\": 0.0716,\n",
      "      \"step\": 750\n",
      "    },\n",
      "    {\n",
      "      \"epoch\": 1.0217252396166134,\n",
      "      \"grad_norm\": 1870496.75,\n",
      "      \"learning_rate\": 5.105431309904154e-05,\n",
      "      \"loss\": 0.0734,\n",
      "      \"step\": 800\n",
      "    },\n",
      "    {\n",
      "      \"epoch\": 1.0856230031948881,\n",
      "      \"grad_norm\": 223675.890625,\n",
      "      \"learning_rate\": 5.4249201277955276e-05,\n",
      "      \"loss\": 0.0953,\n",
      "      \"step\": 850\n",
      "    },\n",
      "    {\n",
      "      \"epoch\": 1.149520766773163,\n",
      "      \"grad_norm\": 149833.9375,\n",
      "      \"learning_rate\": 5.744408945686901e-05,\n",
      "      \"loss\": 0.0718,\n",
      "      \"step\": 900\n",
      "    },\n",
      "    {\n",
      "      \"epoch\": 1.2134185303514378,\n",
      "      \"grad_norm\": 65359.57421875,\n",
      "      \"learning_rate\": 6.0638977635782744e-05,\n",
      "      \"loss\": 0.0698,\n",
      "      \"step\": 950\n",
      "    },\n",
      "    {\n",
      "      \"epoch\": 1.2773162939297125,\n",
      "      \"grad_norm\": 5155.4892578125,\n",
      "      \"learning_rate\": 6.383386581469649e-05,\n",
      "      \"loss\": 0.0664,\n",
      "      \"step\": 1000\n",
      "    },\n",
      "    {\n",
      "      \"epoch\": 1.3412140575079872,\n",
      "      \"grad_norm\": 107648.78125,\n",
      "      \"learning_rate\": 6.702875399361023e-05,\n",
      "      \"loss\": 0.0847,\n",
      "      \"step\": 1050\n",
      "    },\n",
      "    {\n",
      "      \"epoch\": 1.4051118210862619,\n",
      "      \"grad_norm\": 20307.06640625,\n",
      "      \"learning_rate\": 7.022364217252396e-05,\n",
      "      \"loss\": 0.0803,\n",
      "      \"step\": 1100\n",
      "    },\n",
      "    {\n",
      "      \"epoch\": 1.4690095846645368,\n",
      "      \"grad_norm\": 241344.015625,\n",
      "      \"learning_rate\": 7.341853035143771e-05,\n",
      "      \"loss\": 0.0788,\n",
      "      \"step\": 1150\n",
      "    },\n",
      "    {\n",
      "      \"epoch\": 1.5329073482428115,\n",
      "      \"grad_norm\": 783269.0,\n",
      "      \"learning_rate\": 7.661341853035144e-05,\n",
      "      \"loss\": 0.0718,\n",
      "      \"step\": 1200\n",
      "    },\n",
      "    {\n",
      "      \"epoch\": 1.5968051118210864,\n",
      "      \"grad_norm\": 6021.5869140625,\n",
      "      \"learning_rate\": 7.980830670926518e-05,\n",
      "      \"loss\": 0.1033,\n",
      "      \"step\": 1250\n",
      "    },\n",
      "    {\n",
      "      \"epoch\": 1.6607028753993611,\n",
      "      \"grad_norm\": 147629.984375,\n",
      "      \"learning_rate\": 8.300319488817891e-05,\n",
      "      \"loss\": 0.0853,\n",
      "      \"step\": 1300\n",
      "    },\n",
      "    {\n",
      "      \"epoch\": 1.7246006389776358,\n",
      "      \"grad_norm\": 24311.056640625,\n",
      "      \"learning_rate\": 8.619808306709266e-05,\n",
      "      \"loss\": 0.0761,\n",
      "      \"step\": 1350\n",
      "    },\n",
      "    {\n",
      "      \"epoch\": 1.7884984025559105,\n",
      "      \"grad_norm\": 1358280.625,\n",
      "      \"learning_rate\": 8.939297124600639e-05,\n",
      "      \"loss\": 0.0886,\n",
      "      \"step\": 1400\n",
      "    },\n",
      "    {\n",
      "      \"epoch\": 1.8523961661341852,\n",
      "      \"grad_norm\": 12.14911937713623,\n",
      "      \"learning_rate\": 9.258785942492013e-05,\n",
      "      \"loss\": 0.1635,\n",
      "      \"step\": 1450\n",
      "    },\n",
      "    {\n",
      "      \"epoch\": 1.91629392971246,\n",
      "      \"grad_norm\": 1175336.625,\n",
      "      \"learning_rate\": 9.578274760383387e-05,\n",
      "      \"loss\": 0.1401,\n",
      "      \"step\": 1500\n",
      "    },\n",
      "    {\n",
      "      \"epoch\": 1.9801916932907349,\n",
      "      \"grad_norm\": 3.110119342803955,\n",
      "      \"learning_rate\": 9.897763578274761e-05,\n",
      "      \"loss\": 0.1288,\n",
      "      \"step\": 1550\n",
      "    },\n",
      "    {\n",
      "      \"epoch\": 1.999361022364217,\n",
      "      \"eval_accuracy\": 0.9872356284356657,\n",
      "      \"eval_f1\": 0.9872365452565557,\n",
      "      \"eval_loss\": 0.1313144862651825,\n",
      "      \"eval_precision\": 0.9872753293823872,\n",
      "      \"eval_recall\": 0.9872356284356657,\n",
      "      \"eval_runtime\": 17.4495,\n",
      "      \"eval_samples_per_second\": 615.089,\n",
      "      \"eval_steps_per_second\": 4.814,\n",
      "      \"step\": 1565\n",
      "    },\n",
      "    {\n",
      "      \"epoch\": 2.043450479233227,\n",
      "      \"grad_norm\": 1.235701560974121,\n",
      "      \"learning_rate\": 9.999856123390261e-05,\n",
      "      \"loss\": 0.0988,\n",
      "      \"step\": 1600\n",
      "    },\n",
      "    {\n",
      "      \"epoch\": 2.1073482428115016,\n",
      "      \"grad_norm\": 0.32930344343185425,\n",
      "      \"learning_rate\": 9.999121826549094e-05,\n",
      "      \"loss\": 0.1132,\n",
      "      \"step\": 1650\n",
      "    },\n",
      "    {\n",
      "      \"epoch\": 2.1712460063897763,\n",
      "      \"grad_norm\": 393513.4375,\n",
      "      \"learning_rate\": 9.997765338799969e-05,\n",
      "      \"loss\": 0.1538,\n",
      "      \"step\": 1700\n",
      "    },\n",
      "    {\n",
      "      \"epoch\": 2.235143769968051,\n",
      "      \"grad_norm\": 0.4512195587158203,\n",
      "      \"learning_rate\": 9.995786828971406e-05,\n",
      "      \"loss\": 0.1754,\n",
      "      \"step\": 1750\n",
      "    },\n",
      "    {\n",
      "      \"epoch\": 2.299041533546326,\n",
      "      \"grad_norm\": 0.19526325166225433,\n",
      "      \"learning_rate\": 9.99318654330882e-05,\n",
      "      \"loss\": 0.1039,\n",
      "      \"step\": 1800\n",
      "    },\n",
      "    {\n",
      "      \"epoch\": 2.362939297124601,\n",
      "      \"grad_norm\": 2734702.25,\n",
      "      \"learning_rate\": 9.989964805443873e-05,\n",
      "      \"loss\": 0.1425,\n",
      "      \"step\": 1850\n",
      "    },\n",
      "    {\n",
      "      \"epoch\": 2.4268370607028755,\n",
      "      \"grad_norm\": 1.3457058668136597,\n",
      "      \"learning_rate\": 9.98612201635419e-05,\n",
      "      \"loss\": 0.0817,\n",
      "      \"step\": 1900\n",
      "    },\n",
      "    {\n",
      "      \"epoch\": 2.4907348242811502,\n",
      "      \"grad_norm\": 227640.515625,\n",
      "      \"learning_rate\": 9.981658654313457e-05,\n",
      "      \"loss\": 0.1482,\n",
      "      \"step\": 1950\n",
      "    },\n",
      "    {\n",
      "      \"epoch\": 2.554632587859425,\n",
      "      \"grad_norm\": 0.6140879988670349,\n",
      "      \"learning_rate\": 9.976575274831902e-05,\n",
      "      \"loss\": 0.0618,\n",
      "      \"step\": 2000\n",
      "    },\n",
      "    {\n",
      "      \"epoch\": 2.6185303514376996,\n",
      "      \"grad_norm\": 1212602.5,\n",
      "      \"learning_rate\": 9.970872510587141e-05,\n",
      "      \"loss\": 0.1789,\n",
      "      \"step\": 2050\n",
      "    },\n",
      "    {\n",
      "      \"epoch\": 2.6824281150159743,\n",
      "      \"grad_norm\": 1113545.375,\n",
      "      \"learning_rate\": 9.964551071345448e-05,\n",
      "      \"loss\": 0.1076,\n",
      "      \"step\": 2100\n",
      "    },\n",
      "    {\n",
      "      \"epoch\": 2.746325878594249,\n",
      "      \"grad_norm\": 278.75189208984375,\n",
      "      \"learning_rate\": 9.95761174387341e-05,\n",
      "      \"loss\": 0.1498,\n",
      "      \"step\": 2150\n",
      "    },\n",
      "    {\n",
      "      \"epoch\": 2.8102236421725237,\n",
      "      \"grad_norm\": 4527725.5,\n",
      "      \"learning_rate\": 9.950055391840007e-05,\n",
      "      \"loss\": 0.1215,\n",
      "      \"step\": 2200\n",
      "    },\n",
      "    {\n",
      "      \"epoch\": 2.874121405750799,\n",
      "      \"grad_norm\": 2923203.0,\n",
      "      \"learning_rate\": 9.941882955709128e-05,\n",
      "      \"loss\": 0.105,\n",
      "      \"step\": 2250\n",
      "    },\n",
      "    {\n",
      "      \"epoch\": 2.9380191693290736,\n",
      "      \"grad_norm\": 1551833.375,\n",
      "      \"learning_rate\": 9.933095452622506e-05,\n",
      "      \"loss\": 0.1362,\n",
      "      \"step\": 2300\n",
      "    },\n",
      "    {\n",
      "      \"epoch\": 3.0012779552715654,\n",
      "      \"grad_norm\": 1.2495949268341064,\n",
      "      \"learning_rate\": 9.923693976273139e-05,\n",
      "      \"loss\": 0.102,\n",
      "      \"step\": 2350\n",
      "    },\n",
      "    {\n",
      "      \"epoch\": 3.06517571884984,\n",
      "      \"grad_norm\": 0.09414571523666382,\n",
      "      \"learning_rate\": 9.913679696769156e-05,\n",
      "      \"loss\": 0.069,\n",
      "      \"step\": 2400\n",
      "    },\n",
      "    {\n",
      "      \"epoch\": 3.1290734824281152,\n",
      "      \"grad_norm\": 0.10451719164848328,\n",
      "      \"learning_rate\": 9.9030538604882e-05,\n",
      "      \"loss\": 0.0706,\n",
      "      \"step\": 2450\n",
      "    },\n",
      "    {\n",
      "      \"epoch\": 3.19297124600639,\n",
      "      \"grad_norm\": 0.11567217111587524,\n",
      "      \"learning_rate\": 9.891817789922289e-05,\n",
      "      \"loss\": 0.0825,\n",
      "      \"step\": 2500\n",
      "    },\n",
      "    {\n",
      "      \"epoch\": 3.2568690095846646,\n",
      "      \"grad_norm\": 127.13768768310547,\n",
      "      \"learning_rate\": 9.879972883513226e-05,\n",
      "      \"loss\": 0.0901,\n",
      "      \"step\": 2550\n",
      "    },\n",
      "    {\n",
      "      \"epoch\": 3.3207667731629393,\n",
      "      \"grad_norm\": 33266.9765625,\n",
      "      \"learning_rate\": 9.867520615478554e-05,\n",
      "      \"loss\": 0.1566,\n",
      "      \"step\": 2600\n",
      "    },\n",
      "    {\n",
      "      \"epoch\": 3.384664536741214,\n",
      "      \"grad_norm\": 608473.5,\n",
      "      \"learning_rate\": 9.854462535628059e-05,\n",
      "      \"loss\": 0.063,\n",
      "      \"step\": 2650\n",
      "    },\n",
      "    {\n",
      "      \"epoch\": 3.4485623003194887,\n",
      "      \"grad_norm\": 2465698.5,\n",
      "      \"learning_rate\": 9.840800269170898e-05,\n",
      "      \"loss\": 0.0757,\n",
      "      \"step\": 2700\n",
      "    },\n",
      "    {\n",
      "      \"epoch\": 3.5124600638977634,\n",
      "      \"grad_norm\": 13.255252838134766,\n",
      "      \"learning_rate\": 9.826535516513317e-05,\n",
      "      \"loss\": 0.0914,\n",
      "      \"step\": 2750\n",
      "    },\n",
      "    {\n",
      "      \"epoch\": 3.5763578274760386,\n",
      "      \"grad_norm\": 0.0952417403459549,\n",
      "      \"learning_rate\": 9.811670053047015e-05,\n",
      "      \"loss\": 0.0592,\n",
      "      \"step\": 2800\n",
      "    },\n",
      "    {\n",
      "      \"epoch\": 3.640255591054313,\n",
      "      \"grad_norm\": 197183.453125,\n",
      "      \"learning_rate\": 9.796205728928189e-05,\n",
      "      \"loss\": 0.0719,\n",
      "      \"step\": 2850\n",
      "    },\n",
      "    {\n",
      "      \"epoch\": 3.704153354632588,\n",
      "      \"grad_norm\": 0.07175199687480927,\n",
      "      \"learning_rate\": 9.780144468847252e-05,\n",
      "      \"loss\": 0.0599,\n",
      "      \"step\": 2900\n",
      "    },\n",
      "    {\n",
      "      \"epoch\": 3.7680511182108627,\n",
      "      \"grad_norm\": 8009804.5,\n",
      "      \"learning_rate\": 9.763488271789294e-05,\n",
      "      \"loss\": 0.1033,\n",
      "      \"step\": 2950\n",
      "    },\n",
      "    {\n",
      "      \"epoch\": 3.8319488817891374,\n",
      "      \"grad_norm\": 0.06122162193059921,\n",
      "      \"learning_rate\": 9.746239210785286e-05,\n",
      "      \"loss\": 0.0679,\n",
      "      \"step\": 3000\n",
      "    },\n",
      "    {\n",
      "      \"epoch\": 3.895846645367412,\n",
      "      \"grad_norm\": 2612094.0,\n",
      "      \"learning_rate\": 9.72839943265407e-05,\n",
      "      \"loss\": 0.0744,\n",
      "      \"step\": 3050\n",
      "    },\n",
      "    {\n",
      "      \"epoch\": 3.959744408945687,\n",
      "      \"grad_norm\": 461147.84375,\n",
      "      \"learning_rate\": 9.709971157735162e-05,\n",
      "      \"loss\": 0.0782,\n",
      "      \"step\": 3100\n",
      "    },\n",
      "    {\n",
      "      \"epoch\": 3.9980830670926517,\n",
      "      \"eval_accuracy\": 0.9921736699897512,\n",
      "      \"eval_f1\": 0.992173814755752,\n",
      "      \"eval_loss\": 0.10568227618932724,\n",
      "      \"eval_precision\": 0.9921756826919884,\n",
      "      \"eval_recall\": 0.9921736699897512,\n",
      "      \"eval_runtime\": 17.4695,\n",
      "      \"eval_samples_per_second\": 614.385,\n",
      "      \"eval_steps_per_second\": 4.808,\n",
      "      \"step\": 3130\n",
      "    },\n",
      "    {\n",
      "      \"epoch\": 4.023003194888179,\n",
      "      \"grad_norm\": 2255843.25,\n",
      "      \"learning_rate\": 9.690956679612421e-05,\n",
      "      \"loss\": 0.0848,\n",
      "      \"step\": 3150\n",
      "    },\n",
      "    {\n",
      "      \"epoch\": 4.086900958466454,\n",
      "      \"grad_norm\": 0.0281254630535841,\n",
      "      \"learning_rate\": 9.671358364828571e-05,\n",
      "      \"loss\": 0.0409,\n",
      "      \"step\": 3200\n",
      "    },\n",
      "    {\n",
      "      \"epoch\": 4.150798722044728,\n",
      "      \"grad_norm\": 0.7044761776924133,\n",
      "      \"learning_rate\": 9.651178652590678e-05,\n",
      "      \"loss\": 0.0698,\n",
      "      \"step\": 3250\n",
      "    },\n",
      "    {\n",
      "      \"epoch\": 4.214696485623003,\n",
      "      \"grad_norm\": 0.044164542108774185,\n",
      "      \"learning_rate\": 9.630420054466554e-05,\n",
      "      \"loss\": 0.0474,\n",
      "      \"step\": 3300\n",
      "    },\n",
      "    {\n",
      "      \"epoch\": 4.278594249201278,\n",
      "      \"grad_norm\": 0.06274691224098206,\n",
      "      \"learning_rate\": 9.609085154072178e-05,\n",
      "      \"loss\": 0.0556,\n",
      "      \"step\": 3350\n",
      "    },\n",
      "    {\n",
      "      \"epoch\": 4.3424920127795525,\n",
      "      \"grad_norm\": 202.1715850830078,\n",
      "      \"learning_rate\": 9.587176606750124e-05,\n",
      "      \"loss\": 0.0647,\n",
      "      \"step\": 3400\n",
      "    },\n",
      "    {\n",
      "      \"epoch\": 4.406389776357828,\n",
      "      \"grad_norm\": 0.01644953526556492,\n",
      "      \"learning_rate\": 9.564697139239099e-05,\n",
      "      \"loss\": 0.0581,\n",
      "      \"step\": 3450\n",
      "    },\n",
      "    {\n",
      "      \"epoch\": 4.470287539936102,\n",
      "      \"grad_norm\": 1.1411664485931396,\n",
      "      \"learning_rate\": 9.541649549334549e-05,\n",
      "      \"loss\": 0.0351,\n",
      "      \"step\": 3500\n",
      "    },\n",
      "    {\n",
      "      \"epoch\": 4.534185303514377,\n",
      "      \"grad_norm\": 0.1264401227235794,\n",
      "      \"learning_rate\": 9.518036705540458e-05,\n",
      "      \"loss\": 0.0681,\n",
      "      \"step\": 3550\n",
      "    },\n",
      "    {\n",
      "      \"epoch\": 4.598083067092652,\n",
      "      \"grad_norm\": 0.04241360351443291,\n",
      "      \"learning_rate\": 9.493861546712341e-05,\n",
      "      \"loss\": 0.0566,\n",
      "      \"step\": 3600\n",
      "    },\n",
      "    {\n",
      "      \"epoch\": 4.6619808306709265,\n",
      "      \"grad_norm\": 0.1698080599308014,\n",
      "      \"learning_rate\": 9.469127081691458e-05,\n",
      "      \"loss\": 0.0437,\n",
      "      \"step\": 3650\n",
      "    },\n",
      "    {\n",
      "      \"epoch\": 4.725878594249202,\n",
      "      \"grad_norm\": 0.044430121779441833,\n",
      "      \"learning_rate\": 9.443836388930338e-05,\n",
      "      \"loss\": 0.0391,\n",
      "      \"step\": 3700\n",
      "    },\n",
      "    {\n",
      "      \"epoch\": 4.789776357827476,\n",
      "      \"grad_norm\": 0.18907137215137482,\n",
      "      \"learning_rate\": 9.417992616109644e-05,\n",
      "      \"loss\": 0.0974,\n",
      "      \"step\": 3750\n",
      "    },\n",
      "    {\n",
      "      \"epoch\": 4.853674121405751,\n",
      "      \"grad_norm\": 0.18376335501670837,\n",
      "      \"learning_rate\": 9.391598979746403e-05,\n",
      "      \"loss\": 0.0612,\n",
      "      \"step\": 3800\n",
      "    },\n",
      "    {\n",
      "      \"epoch\": 4.917571884984025,\n",
      "      \"grad_norm\": 2373539.25,\n",
      "      \"learning_rate\": 9.364658764793681e-05,\n",
      "      \"loss\": 0.0865,\n",
      "      \"step\": 3850\n",
      "    },\n",
      "    {\n",
      "      \"epoch\": 4.9814696485623005,\n",
      "      \"grad_norm\": 0.07919292896986008,\n",
      "      \"learning_rate\": 9.33717532423174e-05,\n",
      "      \"loss\": 0.0373,\n",
      "      \"step\": 3900\n",
      "    }\n",
      "  ],\n",
      "  \"logging_steps\": 50,\n",
      "  \"max_steps\": 3910,\n",
      "  \"num_input_tokens_seen\": 0,\n",
      "  \"num_train_epochs\": 5,\n",
      "  \"save_steps\": 3130,\n",
      "  \"stateful_callbacks\": {\n",
      "    \"EarlyStoppingCallback\": {\n",
      "      \"args\": {\n",
      "        \"early_stopping_patience\": 5,\n",
      "        \"early_stopping_threshold\": 0.001\n",
      "      },\n",
      "      \"attributes\": {\n",
      "        \"early_stopping_patience_counter\": 0\n",
      "      }\n",
      "    },\n",
      "    \"TrainerControl\": {\n",
      "      \"args\": {\n",
      "        \"should_epoch_stop\": false,\n",
      "        \"should_evaluate\": false,\n",
      "        \"should_log\": false,\n",
      "        \"should_save\": true,\n",
      "        \"should_training_stop\": true\n",
      "      },\n",
      "      \"attributes\": {}\n",
      "    }\n",
      "  },\n",
      "  \"total_flos\": 3585953531682816.0,\n",
      "  \"train_batch_size\": 32,\n",
      "  \"trial_name\": null,\n",
      "  \"trial_params\": null\n",
      "}\n"
     ]
    },
    {
     "name": "stderr",
     "output_type": "stream",
     "text": [
      "huggingface/tokenizers: The current process just got forked, after parallelism has already been used. Disabling parallelism to avoid deadlocks...\n",
      "To disable this warning, you can either:\n",
      "\t- Avoid using `tokenizers` before the fork if possible\n",
      "\t- Explicitly set the environment variable TOKENIZERS_PARALLELISM=(true | false)\n"
     ]
    }
   ],
   "source": [
    "# Example path\n",
    "!cat /kaggle/working/results/tinybert_welfake_run_42/checkpoint-3910/trainer_state.json"
   ]
  },
  {
   "cell_type": "markdown",
   "id": "99f3eba8-8414-4e8b-ac3e-c281ddf14274",
   "metadata": {},
   "source": [
    "## Save the best model"
   ]
  },
  {
   "cell_type": "code",
   "execution_count": 35,
   "id": "348a1239-c252-4d7b-bcd5-dc527f4b765b",
   "metadata": {
    "execution": {
     "iopub.execute_input": "2025-05-22T20:22:07.274028Z",
     "iopub.status.busy": "2025-05-22T20:22:07.273702Z",
     "iopub.status.idle": "2025-05-22T20:22:07.467894Z",
     "shell.execute_reply": "2025-05-22T20:22:07.467205Z",
     "shell.execute_reply.started": "2025-05-22T20:22:07.274007Z"
    }
   },
   "outputs": [
    {
     "data": {
      "text/plain": [
       "('./tinybert_welfake_best/tokenizer_config.json',\n",
       " './tinybert_welfake_best/special_tokens_map.json',\n",
       " './tinybert_welfake_best/vocab.txt',\n",
       " './tinybert_welfake_best/added_tokens.json',\n",
       " './tinybert_welfake_best/tokenizer.json')"
      ]
     },
     "execution_count": 35,
     "metadata": {},
     "output_type": "execute_result"
    }
   ],
   "source": [
    "# Load the best checkpoint (step 3130)\n",
    "model = AutoModelForSequenceClassification.from_pretrained(\"/kaggle/working/results/tinybert_welfake_run_42/checkpoint-3130\")\n",
    "tokenizer = AutoTokenizer.from_pretrained(\"/kaggle/working/results/tinybert_welfake_run_42/checkpoint-3130\")\n",
    "\n",
    "# Save for later use\n",
    "model.save_pretrained(\"./tinybert_welfake_best\")\n",
    "tokenizer.save_pretrained(\"./tinybert_welfake_best\")"
   ]
  },
  {
   "cell_type": "markdown",
   "id": "90f8c66c",
   "metadata": {},
   "source": [
    "## 16. Conclusion and Key Improvements\n",
    "\n",
    "### What We've Achieved\n",
    "\n",
    "Through this enhanced training approach, we've addressed the major limitations of the original training methodology:\n",
    "\n",
    "1. **Reliability Through Repetition**: By running multiple training sessions with different random seeds, we now have confidence intervals for our performance metrics. This tells us not just that TinyBERT achieves, say, 99.3% accuracy, but that we can expect it to achieve 99.3% ± 0.2% across different training runs.\n",
    "\n",
    "2. **Optimized Hyperparameters**: We've tailored the learning rate (1e-4), warmup strategy, and optimizer settings specifically for TinyBERT's architecture, taking advantage of its distilled nature.\n",
    "\n",
    "3. **Patient Training**: With early stopping patience increased from 2 to 5 and evaluation every half epoch, we allow the model to work through temporary plateaus and find better optima.\n",
    "\n",
    "4. **Comprehensive Evaluation**: The option for k-fold cross-validation ensures every sample is used for both training and testing, giving us the most complete picture of model performance.\n",
    "\n",
    "These improvements transform our evaluation from a single snapshot to a comprehensive assessment of TinyBERT's capabilities for fake news detection. The confidence intervals and consistency measures we now have are essential for making informed decisions about real-world deployment."
   ]
  }
 ],
 "metadata": {
  "jupytext": {
   "cell_metadata_filter": "-all",
   "main_language": "python",
   "notebook_metadata_filter": "-all"
  },
  "kaggle": {
   "accelerator": "nvidiaTeslaT4",
   "dataSources": [
    {
     "datasetId": 7453450,
     "sourceId": 11861402,
     "sourceType": "datasetVersion"
    }
   ],
   "dockerImageVersionId": 31041,
   "isGpuEnabled": true,
   "isInternetEnabled": true,
   "language": "python",
   "sourceType": "notebook"
  },
  "kernelspec": {
   "display_name": "Python 3 (ipykernel)",
   "language": "python",
   "name": "python3"
  },
  "language_info": {
   "codemirror_mode": {
    "name": "ipython",
    "version": 3
   },
   "file_extension": ".py",
   "mimetype": "text/x-python",
   "name": "python",
   "nbconvert_exporter": "python",
   "pygments_lexer": "ipython3",
   "version": "3.12.1"
  }
 },
 "nbformat": 4,
 "nbformat_minor": 5
}
