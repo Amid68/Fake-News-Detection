{
 "cells": [
  {
   "cell_type": "markdown",
   "id": "1572190d",
   "metadata": {},
   "source": [
    "# Part 3: Fine-tuning MobileBERT for Fake News Detection\n",
    "\n",
    "In this notebook, I'll build on our previous exploratory data analysis and feature engineering work to fine-tune a MobileBERT model for fake news detection. While our engineered features achieved impressive results, transformer models can capture complex linguistic patterns that might further improve performance or provide better generalization to new data. MobileBERT is specifically designed for mobile applications, offering a better trade-off between model size, inference speed, and accuracy compared to larger models like BERT or RoBERTa.\n",
    "\n",
    "## 1. Setup and Library Installation\n",
    "\n",
    "First, I'll install the required packages:"
   ]
  },
  {
   "cell_type": "code",
   "execution_count": 1,
   "id": "944df4cf",
   "metadata": {
    "execution": {
     "iopub.execute_input": "2025-05-11T13:10:46.507016Z",
     "iopub.status.busy": "2025-05-11T13:10:46.506763Z",
     "iopub.status.idle": "2025-05-11T13:12:00.810592Z",
     "shell.execute_reply": "2025-05-11T13:12:00.809705Z",
     "shell.execute_reply.started": "2025-05-11T13:10:46.506994Z"
    }
   },
   "outputs": [
    {
     "name": "stdout",
     "output_type": "stream",
     "text": [
      "Requirement already satisfied: transformers in /usr/local/lib/python3.11/dist-packages (4.51.1)\n",
      "Requirement already satisfied: datasets in /usr/local/lib/python3.11/dist-packages (3.5.0)\n",
      "Requirement already satisfied: torch in /usr/local/lib/python3.11/dist-packages (2.5.1+cu124)\n",
      "Collecting evaluate\n",
      "  Downloading evaluate-0.4.3-py3-none-any.whl.metadata (9.2 kB)\n",
      "Requirement already satisfied: scikit-learn in /usr/local/lib/python3.11/dist-packages (1.2.2)\n",
      "Requirement already satisfied: filelock in /usr/local/lib/python3.11/dist-packages (from transformers) (3.18.0)\n",
      "Requirement already satisfied: huggingface-hub<1.0,>=0.30.0 in /usr/local/lib/python3.11/dist-packages (from transformers) (0.30.2)\n",
      "Requirement already satisfied: numpy>=1.17 in /usr/local/lib/python3.11/dist-packages (from transformers) (1.26.4)\n",
      "Requirement already satisfied: packaging>=20.0 in /usr/local/lib/python3.11/dist-packages (from transformers) (24.2)\n",
      "Requirement already satisfied: pyyaml>=5.1 in /usr/local/lib/python3.11/dist-packages (from transformers) (6.0.2)\n",
      "Requirement already satisfied: regex!=2019.12.17 in /usr/local/lib/python3.11/dist-packages (from transformers) (2024.11.6)\n",
      "Requirement already satisfied: requests in /usr/local/lib/python3.11/dist-packages (from transformers) (2.32.3)\n",
      "Requirement already satisfied: tokenizers<0.22,>=0.21 in /usr/local/lib/python3.11/dist-packages (from transformers) (0.21.0)\n",
      "Requirement already satisfied: safetensors>=0.4.3 in /usr/local/lib/python3.11/dist-packages (from transformers) (0.5.2)\n",
      "Requirement already satisfied: tqdm>=4.27 in /usr/local/lib/python3.11/dist-packages (from transformers) (4.67.1)\n",
      "Requirement already satisfied: pyarrow>=15.0.0 in /usr/local/lib/python3.11/dist-packages (from datasets) (19.0.1)\n",
      "Requirement already satisfied: dill<0.3.9,>=0.3.0 in /usr/local/lib/python3.11/dist-packages (from datasets) (0.3.8)\n",
      "Requirement already satisfied: pandas in /usr/local/lib/python3.11/dist-packages (from datasets) (2.2.3)\n",
      "Requirement already satisfied: xxhash in /usr/local/lib/python3.11/dist-packages (from datasets) (3.5.0)\n",
      "Requirement already satisfied: multiprocess<0.70.17 in /usr/local/lib/python3.11/dist-packages (from datasets) (0.70.16)\n",
      "Collecting fsspec<=2024.12.0,>=2023.1.0 (from fsspec[http]<=2024.12.0,>=2023.1.0->datasets)\n",
      "  Downloading fsspec-2024.12.0-py3-none-any.whl.metadata (11 kB)\n",
      "Requirement already satisfied: aiohttp in /usr/local/lib/python3.11/dist-packages (from datasets) (3.11.16)\n",
      "Requirement already satisfied: typing-extensions>=4.8.0 in /usr/local/lib/python3.11/dist-packages (from torch) (4.13.1)\n",
      "Requirement already satisfied: networkx in /usr/local/lib/python3.11/dist-packages (from torch) (3.4.2)\n",
      "Requirement already satisfied: jinja2 in /usr/local/lib/python3.11/dist-packages (from torch) (3.1.6)\n",
      "Requirement already satisfied: nvidia-cuda-nvrtc-cu12==12.4.127 in /usr/local/lib/python3.11/dist-packages (from torch) (12.4.127)\n",
      "Requirement already satisfied: nvidia-cuda-runtime-cu12==12.4.127 in /usr/local/lib/python3.11/dist-packages (from torch) (12.4.127)\n",
      "Requirement already satisfied: nvidia-cuda-cupti-cu12==12.4.127 in /usr/local/lib/python3.11/dist-packages (from torch) (12.4.127)\n",
      "Collecting nvidia-cudnn-cu12==9.1.0.70 (from torch)\n",
      "  Downloading nvidia_cudnn_cu12-9.1.0.70-py3-none-manylinux2014_x86_64.whl.metadata (1.6 kB)\n",
      "Collecting nvidia-cublas-cu12==12.4.5.8 (from torch)\n",
      "  Downloading nvidia_cublas_cu12-12.4.5.8-py3-none-manylinux2014_x86_64.whl.metadata (1.5 kB)\n",
      "Collecting nvidia-cufft-cu12==11.2.1.3 (from torch)\n",
      "  Downloading nvidia_cufft_cu12-11.2.1.3-py3-none-manylinux2014_x86_64.whl.metadata (1.5 kB)\n",
      "Collecting nvidia-curand-cu12==10.3.5.147 (from torch)\n",
      "  Downloading nvidia_curand_cu12-10.3.5.147-py3-none-manylinux2014_x86_64.whl.metadata (1.5 kB)\n",
      "Collecting nvidia-cusolver-cu12==11.6.1.9 (from torch)\n",
      "  Downloading nvidia_cusolver_cu12-11.6.1.9-py3-none-manylinux2014_x86_64.whl.metadata (1.6 kB)\n",
      "Collecting nvidia-cusparse-cu12==12.3.1.170 (from torch)\n",
      "  Downloading nvidia_cusparse_cu12-12.3.1.170-py3-none-manylinux2014_x86_64.whl.metadata (1.6 kB)\n",
      "Requirement already satisfied: nvidia-nccl-cu12==2.21.5 in /usr/local/lib/python3.11/dist-packages (from torch) (2.21.5)\n",
      "Requirement already satisfied: nvidia-nvtx-cu12==12.4.127 in /usr/local/lib/python3.11/dist-packages (from torch) (12.4.127)\n",
      "Collecting nvidia-nvjitlink-cu12==12.4.127 (from torch)\n",
      "  Downloading nvidia_nvjitlink_cu12-12.4.127-py3-none-manylinux2014_x86_64.whl.metadata (1.5 kB)\n",
      "Requirement already satisfied: triton==3.1.0 in /usr/local/lib/python3.11/dist-packages (from torch) (3.1.0)\n",
      "Requirement already satisfied: sympy==1.13.1 in /usr/local/lib/python3.11/dist-packages (from torch) (1.13.1)\n",
      "Requirement already satisfied: mpmath<1.4,>=1.1.0 in /usr/local/lib/python3.11/dist-packages (from sympy==1.13.1->torch) (1.3.0)\n",
      "Requirement already satisfied: scipy>=1.3.2 in /usr/local/lib/python3.11/dist-packages (from scikit-learn) (1.15.2)\n",
      "Requirement already satisfied: joblib>=1.1.1 in /usr/local/lib/python3.11/dist-packages (from scikit-learn) (1.4.2)\n",
      "Requirement already satisfied: threadpoolctl>=2.0.0 in /usr/local/lib/python3.11/dist-packages (from scikit-learn) (3.6.0)\n",
      "Requirement already satisfied: aiohappyeyeballs>=2.3.0 in /usr/local/lib/python3.11/dist-packages (from aiohttp->datasets) (2.6.1)\n",
      "Requirement already satisfied: aiosignal>=1.1.2 in /usr/local/lib/python3.11/dist-packages (from aiohttp->datasets) (1.3.2)\n",
      "Requirement already satisfied: attrs>=17.3.0 in /usr/local/lib/python3.11/dist-packages (from aiohttp->datasets) (25.3.0)\n",
      "Requirement already satisfied: frozenlist>=1.1.1 in /usr/local/lib/python3.11/dist-packages (from aiohttp->datasets) (1.5.0)\n",
      "Requirement already satisfied: multidict<7.0,>=4.5 in /usr/local/lib/python3.11/dist-packages (from aiohttp->datasets) (6.2.0)\n",
      "Requirement already satisfied: propcache>=0.2.0 in /usr/local/lib/python3.11/dist-packages (from aiohttp->datasets) (0.3.1)\n",
      "Requirement already satisfied: yarl<2.0,>=1.17.0 in /usr/local/lib/python3.11/dist-packages (from aiohttp->datasets) (1.19.0)\n",
      "Requirement already satisfied: mkl_fft in /usr/local/lib/python3.11/dist-packages (from numpy>=1.17->transformers) (1.3.8)\n",
      "Requirement already satisfied: mkl_random in /usr/local/lib/python3.11/dist-packages (from numpy>=1.17->transformers) (1.2.4)\n",
      "Requirement already satisfied: mkl_umath in /usr/local/lib/python3.11/dist-packages (from numpy>=1.17->transformers) (0.1.1)\n",
      "Requirement already satisfied: mkl in /usr/local/lib/python3.11/dist-packages (from numpy>=1.17->transformers) (2025.1.0)\n",
      "Requirement already satisfied: tbb4py in /usr/local/lib/python3.11/dist-packages (from numpy>=1.17->transformers) (2022.1.0)\n",
      "Requirement already satisfied: mkl-service in /usr/local/lib/python3.11/dist-packages (from numpy>=1.17->transformers) (2.4.1)\n",
      "Requirement already satisfied: charset-normalizer<4,>=2 in /usr/local/lib/python3.11/dist-packages (from requests->transformers) (3.4.1)\n",
      "Requirement already satisfied: idna<4,>=2.5 in /usr/local/lib/python3.11/dist-packages (from requests->transformers) (3.10)\n",
      "Requirement already satisfied: urllib3<3,>=1.21.1 in /usr/local/lib/python3.11/dist-packages (from requests->transformers) (2.3.0)\n",
      "Requirement already satisfied: certifi>=2017.4.17 in /usr/local/lib/python3.11/dist-packages (from requests->transformers) (2025.1.31)\n",
      "Requirement already satisfied: MarkupSafe>=2.0 in /usr/local/lib/python3.11/dist-packages (from jinja2->torch) (3.0.2)\n",
      "Requirement already satisfied: python-dateutil>=2.8.2 in /usr/local/lib/python3.11/dist-packages (from pandas->datasets) (2.9.0.post0)\n",
      "Requirement already satisfied: pytz>=2020.1 in /usr/local/lib/python3.11/dist-packages (from pandas->datasets) (2025.2)\n",
      "Requirement already satisfied: tzdata>=2022.7 in /usr/local/lib/python3.11/dist-packages (from pandas->datasets) (2025.2)\n",
      "Requirement already satisfied: six>=1.5 in /usr/local/lib/python3.11/dist-packages (from python-dateutil>=2.8.2->pandas->datasets) (1.17.0)\n",
      "Requirement already satisfied: intel-openmp<2026,>=2024 in /usr/local/lib/python3.11/dist-packages (from mkl->numpy>=1.17->transformers) (2024.2.0)\n",
      "Requirement already satisfied: tbb==2022.* in /usr/local/lib/python3.11/dist-packages (from mkl->numpy>=1.17->transformers) (2022.1.0)\n",
      "Requirement already satisfied: tcmlib==1.* in /usr/local/lib/python3.11/dist-packages (from tbb==2022.*->mkl->numpy>=1.17->transformers) (1.2.0)\n",
      "Requirement already satisfied: intel-cmplr-lib-rt in /usr/local/lib/python3.11/dist-packages (from mkl_umath->numpy>=1.17->transformers) (2024.2.0)\n",
      "Requirement already satisfied: intel-cmplr-lib-ur==2024.2.0 in /usr/local/lib/python3.11/dist-packages (from intel-openmp<2026,>=2024->mkl->numpy>=1.17->transformers) (2024.2.0)\n",
      "Downloading nvidia_cublas_cu12-12.4.5.8-py3-none-manylinux2014_x86_64.whl (363.4 MB)\n",
      "\u001b[2K   \u001b[90m━━━━━━━━━━━━━━━━━━━━━━━━━━━━━━━━━━━━━━━━\u001b[0m \u001b[32m363.4/363.4 MB\u001b[0m \u001b[31m4.7 MB/s\u001b[0m eta \u001b[36m0:00:00\u001b[0m0:00:01\u001b[0m00:01\u001b[0m\n",
      "\u001b[?25hDownloading nvidia_cudnn_cu12-9.1.0.70-py3-none-manylinux2014_x86_64.whl (664.8 MB)\n",
      "\u001b[2K   \u001b[90m━━━━━━━━━━━━━━━━━━━━━━━━━━━━━━━━━━━━━━━━\u001b[0m \u001b[32m664.8/664.8 MB\u001b[0m \u001b[31m2.5 MB/s\u001b[0m eta \u001b[36m0:00:00\u001b[0m0:00:01\u001b[0m00:01\u001b[0m\n",
      "\u001b[?25hDownloading nvidia_cufft_cu12-11.2.1.3-py3-none-manylinux2014_x86_64.whl (211.5 MB)\n",
      "\u001b[2K   \u001b[90m━━━━━━━━━━━━━━━━━━━━━━━━━━━━━━━━━━━━━━━━\u001b[0m \u001b[32m211.5/211.5 MB\u001b[0m \u001b[31m6.9 MB/s\u001b[0m eta \u001b[36m0:00:00\u001b[0m0:00:01\u001b[0m00:01\u001b[0m\n",
      "\u001b[?25hDownloading nvidia_curand_cu12-10.3.5.147-py3-none-manylinux2014_x86_64.whl (56.3 MB)\n",
      "\u001b[2K   \u001b[90m━━━━━━━━━━━━━━━━━━━━━━━━━━━━━━━━━━━━━━━━\u001b[0m \u001b[32m56.3/56.3 MB\u001b[0m \u001b[31m29.4 MB/s\u001b[0m eta \u001b[36m0:00:00\u001b[0m:00:01\u001b[0m00:01\u001b[0m\n",
      "\u001b[?25hDownloading nvidia_cusolver_cu12-11.6.1.9-py3-none-manylinux2014_x86_64.whl (127.9 MB)\n",
      "\u001b[2K   \u001b[90m━━━━━━━━━━━━━━━━━━━━━━━━━━━━━━━━━━━━━━━━\u001b[0m \u001b[32m127.9/127.9 MB\u001b[0m \u001b[31m13.6 MB/s\u001b[0m eta \u001b[36m0:00:00\u001b[0m:00:01\u001b[0m00:01\u001b[0m\n",
      "\u001b[?25hDownloading nvidia_cusparse_cu12-12.3.1.170-py3-none-manylinux2014_x86_64.whl (207.5 MB)\n",
      "\u001b[2K   \u001b[90m━━━━━━━━━━━━━━━━━━━━━━━━━━━━━━━━━━━━━━━━\u001b[0m \u001b[32m207.5/207.5 MB\u001b[0m \u001b[31m2.0 MB/s\u001b[0m eta \u001b[36m0:00:00\u001b[0m0:00:01\u001b[0m00:01\u001b[0m\n",
      "\u001b[?25hDownloading nvidia_nvjitlink_cu12-12.4.127-py3-none-manylinux2014_x86_64.whl (21.1 MB)\n",
      "\u001b[2K   \u001b[90m━━━━━━━━━━━━━━━━━━━━━━━━━━━━━━━━━━━━━━━━\u001b[0m \u001b[32m21.1/21.1 MB\u001b[0m \u001b[31m22.8 MB/s\u001b[0m eta \u001b[36m0:00:00\u001b[0m:00:01\u001b[0m00:01\u001b[0m\n",
      "\u001b[?25hDownloading evaluate-0.4.3-py3-none-any.whl (84 kB)\n",
      "\u001b[2K   \u001b[90m━━━━━━━━━━━━━━━━━━━━━━━━━━━━━━━━━━━━━━━━\u001b[0m \u001b[32m84.0/84.0 kB\u001b[0m \u001b[31m6.1 MB/s\u001b[0m eta \u001b[36m0:00:00\u001b[0m\n",
      "\u001b[?25hDownloading fsspec-2024.12.0-py3-none-any.whl (183 kB)\n",
      "\u001b[2K   \u001b[90m━━━━━━━━━━━━━━━━━━━━━━━━━━━━━━━━━━━━━━━━\u001b[0m \u001b[32m183.9/183.9 kB\u001b[0m \u001b[31m14.1 MB/s\u001b[0m eta \u001b[36m0:00:00\u001b[0m\n",
      "\u001b[?25hInstalling collected packages: nvidia-nvjitlink-cu12, nvidia-curand-cu12, nvidia-cufft-cu12, nvidia-cublas-cu12, fsspec, nvidia-cusparse-cu12, nvidia-cudnn-cu12, nvidia-cusolver-cu12, evaluate\n",
      "  Attempting uninstall: nvidia-nvjitlink-cu12\n",
      "    Found existing installation: nvidia-nvjitlink-cu12 12.8.93\n",
      "    Uninstalling nvidia-nvjitlink-cu12-12.8.93:\n",
      "      Successfully uninstalled nvidia-nvjitlink-cu12-12.8.93\n",
      "  Attempting uninstall: nvidia-curand-cu12\n",
      "    Found existing installation: nvidia-curand-cu12 10.3.9.90\n",
      "    Uninstalling nvidia-curand-cu12-10.3.9.90:\n",
      "      Successfully uninstalled nvidia-curand-cu12-10.3.9.90\n",
      "  Attempting uninstall: nvidia-cufft-cu12\n",
      "    Found existing installation: nvidia-cufft-cu12 11.3.3.83\n",
      "    Uninstalling nvidia-cufft-cu12-11.3.3.83:\n",
      "      Successfully uninstalled nvidia-cufft-cu12-11.3.3.83\n",
      "  Attempting uninstall: nvidia-cublas-cu12\n",
      "    Found existing installation: nvidia-cublas-cu12 12.8.4.1\n",
      "    Uninstalling nvidia-cublas-cu12-12.8.4.1:\n",
      "      Successfully uninstalled nvidia-cublas-cu12-12.8.4.1\n",
      "  Attempting uninstall: fsspec\n",
      "    Found existing installation: fsspec 2025.3.2\n",
      "    Uninstalling fsspec-2025.3.2:\n",
      "      Successfully uninstalled fsspec-2025.3.2\n",
      "  Attempting uninstall: nvidia-cusparse-cu12\n",
      "    Found existing installation: nvidia-cusparse-cu12 12.5.8.93\n",
      "    Uninstalling nvidia-cusparse-cu12-12.5.8.93:\n",
      "      Successfully uninstalled nvidia-cusparse-cu12-12.5.8.93\n",
      "  Attempting uninstall: nvidia-cudnn-cu12\n",
      "    Found existing installation: nvidia-cudnn-cu12 9.3.0.75\n",
      "    Uninstalling nvidia-cudnn-cu12-9.3.0.75:\n",
      "      Successfully uninstalled nvidia-cudnn-cu12-9.3.0.75\n",
      "  Attempting uninstall: nvidia-cusolver-cu12\n",
      "    Found existing installation: nvidia-cusolver-cu12 11.7.3.90\n",
      "    Uninstalling nvidia-cusolver-cu12-11.7.3.90:\n",
      "      Successfully uninstalled nvidia-cusolver-cu12-11.7.3.90\n",
      "\u001b[31mERROR: pip's dependency resolver does not currently take into account all the packages that are installed. This behaviour is the source of the following dependency conflicts.\n",
      "gcsfs 2024.10.0 requires fsspec==2024.10.0, but you have fsspec 2024.12.0 which is incompatible.\n",
      "bigframes 1.36.0 requires rich<14,>=12.4.4, but you have rich 14.0.0 which is incompatible.\n",
      "pylibcugraph-cu12 24.12.0 requires pylibraft-cu12==24.12.*, but you have pylibraft-cu12 25.2.0 which is incompatible.\n",
      "pylibcugraph-cu12 24.12.0 requires rmm-cu12==24.12.*, but you have rmm-cu12 25.2.0 which is incompatible.\u001b[0m\u001b[31m\n",
      "\u001b[0mSuccessfully installed evaluate-0.4.3 fsspec-2024.12.0 nvidia-cublas-cu12-12.4.5.8 nvidia-cudnn-cu12-9.1.0.70 nvidia-cufft-cu12-11.2.1.3 nvidia-curand-cu12-10.3.5.147 nvidia-cusolver-cu12-11.6.1.9 nvidia-cusparse-cu12-12.3.1.170 nvidia-nvjitlink-cu12-12.4.127\n"
     ]
    }
   ],
   "source": [
    "# Install required packages\n",
    "!pip install transformers datasets torch evaluate scikit-learn"
   ]
  },
  {
   "cell_type": "markdown",
   "id": "ecdea54f",
   "metadata": {},
   "source": [
    "Now, let's import the basic libraries:"
   ]
  },
  {
   "cell_type": "code",
   "execution_count": 2,
   "id": "48857c5c",
   "metadata": {
    "execution": {
     "iopub.execute_input": "2025-05-11T13:12:00.812477Z",
     "iopub.status.busy": "2025-05-11T13:12:00.812212Z",
     "iopub.status.idle": "2025-05-11T13:12:04.238447Z",
     "shell.execute_reply": "2025-05-11T13:12:04.237731Z",
     "shell.execute_reply.started": "2025-05-11T13:12:00.812456Z"
    }
   },
   "outputs": [],
   "source": [
    "# Import basic libraries\n",
    "import numpy as np\n",
    "import pandas as pd\n",
    "import torch\n",
    "import random\n",
    "import time\n",
    "import os\n",
    "import warnings\n",
    "warnings.filterwarnings('ignore')"
   ]
  },
  {
   "cell_type": "markdown",
   "id": "41a2b1b5",
   "metadata": {},
   "source": [
    "Import the transformer-specific libraries:"
   ]
  },
  {
   "cell_type": "code",
   "execution_count": 3,
   "id": "490d6ab2",
   "metadata": {
    "execution": {
     "iopub.execute_input": "2025-05-11T13:12:04.239668Z",
     "iopub.status.busy": "2025-05-11T13:12:04.239289Z",
     "iopub.status.idle": "2025-05-11T13:12:27.290669Z",
     "shell.execute_reply": "2025-05-11T13:12:27.290141Z",
     "shell.execute_reply.started": "2025-05-11T13:12:04.239648Z"
    }
   },
   "outputs": [
    {
     "name": "stderr",
     "output_type": "stream",
     "text": [
      "2025-05-11 13:12:14.288818: E external/local_xla/xla/stream_executor/cuda/cuda_fft.cc:477] Unable to register cuFFT factory: Attempting to register factory for plugin cuFFT when one has already been registered\n",
      "WARNING: All log messages before absl::InitializeLog() is called are written to STDERR\n",
      "E0000 00:00:1746969134.509805      31 cuda_dnn.cc:8310] Unable to register cuDNN factory: Attempting to register factory for plugin cuDNN when one has already been registered\n",
      "E0000 00:00:1746969134.565169      31 cuda_blas.cc:1418] Unable to register cuBLAS factory: Attempting to register factory for plugin cuBLAS when one has already been registered\n"
     ]
    }
   ],
   "source": [
    "# Import transformer-specific libraries\n",
    "from torch.utils.data import Dataset, DataLoader\n",
    "from transformers import MobileBertTokenizer, MobileBertForSequenceClassification\n",
    "from transformers import Trainer, TrainingArguments\n",
    "from transformers import EarlyStoppingCallback\n",
    "from datasets import Dataset as HFDataset"
   ]
  },
  {
   "cell_type": "markdown",
   "id": "01bddcfe",
   "metadata": {},
   "source": [
    "Import evaluation libraries:"
   ]
  },
  {
   "cell_type": "code",
   "execution_count": 4,
   "id": "ef64b668",
   "metadata": {
    "execution": {
     "iopub.execute_input": "2025-05-11T13:12:27.292796Z",
     "iopub.status.busy": "2025-05-11T13:12:27.292344Z",
     "iopub.status.idle": "2025-05-11T13:12:27.730149Z",
     "shell.execute_reply": "2025-05-11T13:12:27.729359Z",
     "shell.execute_reply.started": "2025-05-11T13:12:27.292777Z"
    }
   },
   "outputs": [],
   "source": [
    "# Import evaluation libraries\n",
    "import evaluate\n",
    "from sklearn.metrics import accuracy_score, precision_recall_fscore_support\n",
    "import matplotlib.pyplot as plt\n",
    "import seaborn as sns"
   ]
  },
  {
   "cell_type": "markdown",
   "id": "b2f00a3f",
   "metadata": {},
   "source": [
    "Set up reproducibility and check for GPU availability:"
   ]
  },
  {
   "cell_type": "code",
   "execution_count": 5,
   "id": "20f27dfa",
   "metadata": {
    "execution": {
     "iopub.execute_input": "2025-05-11T13:12:27.731434Z",
     "iopub.status.busy": "2025-05-11T13:12:27.730938Z",
     "iopub.status.idle": "2025-05-11T13:12:27.739515Z",
     "shell.execute_reply": "2025-05-11T13:12:27.738838Z",
     "shell.execute_reply.started": "2025-05-11T13:12:27.731414Z"
    }
   },
   "outputs": [
    {
     "name": "stdout",
     "output_type": "stream",
     "text": [
      "Using device: cuda\n"
     ]
    }
   ],
   "source": [
    "# Set random seeds for reproducibility\n",
    "seed = 42\n",
    "random.seed(seed)\n",
    "np.random.seed(seed)\n",
    "torch.manual_seed(seed)\n",
    "if torch.cuda.is_available():\n",
    "    torch.cuda.manual_seed_all(seed)\n",
    "\n",
    "# Check if GPU is available\n",
    "device = torch.device(\"cuda\" if torch.cuda.is_available() else \"cpu\")\n",
    "print(f\"Using device: {device}\")"
   ]
  },
  {
   "cell_type": "markdown",
   "id": "3c0fa617",
   "metadata": {},
   "source": [
    "## 2. Load and Prepare the Dataset\n",
    "\n",
    "Load the preprocessed datasets:"
   ]
  },
  {
   "cell_type": "code",
   "execution_count": 6,
   "id": "4b0b8967",
   "metadata": {
    "execution": {
     "iopub.execute_input": "2025-05-11T13:12:27.741017Z",
     "iopub.status.busy": "2025-05-11T13:12:27.740515Z",
     "iopub.status.idle": "2025-05-11T13:12:31.140364Z",
     "shell.execute_reply": "2025-05-11T13:12:31.139670Z",
     "shell.execute_reply.started": "2025-05-11T13:12:27.740990Z"
    }
   },
   "outputs": [
    {
     "name": "stdout",
     "output_type": "stream",
     "text": [
      "Training set: (31428, 3)\n",
      "Validation set: (6735, 3)\n",
      "Test set: (6735, 3)\n"
     ]
    }
   ],
   "source": [
    "# Load the preprocessed datasets\n",
    "try:\n",
    "    train_df = pd.read_csv('/kaggle/input/isot-processed-and-splitted/train_fake_news.csv')\n",
    "    val_df = pd.read_csv('/kaggle/input/isot-processed-and-splitted/val_fake_news.csv') \n",
    "    test_df = pd.read_csv('/kaggle/input/isot-processed-and-splitted/test_fake_news.csv')\n",
    "    \n",
    "    print(f\"Training set: {train_df.shape}\")\n",
    "    print(f\"Validation set: {val_df.shape}\")\n",
    "    print(f\"Test set: {test_df.shape}\")\n",
    "except FileNotFoundError:\n",
    "    print(\"Preprocessed files not found. Please run the data preprocessing from Part 2 first.\")"
   ]
  },
  {
   "cell_type": "markdown",
   "id": "4cb302b1",
   "metadata": {},
   "source": [
    "Examine the data format:"
   ]
  },
  {
   "cell_type": "code",
   "execution_count": 7,
   "id": "0ae0bda0",
   "metadata": {
    "execution": {
     "iopub.execute_input": "2025-05-11T13:12:31.141339Z",
     "iopub.status.busy": "2025-05-11T13:12:31.141045Z",
     "iopub.status.idle": "2025-05-11T13:12:31.161781Z",
     "shell.execute_reply": "2025-05-11T13:12:31.161282Z",
     "shell.execute_reply.started": "2025-05-11T13:12:31.141314Z"
    }
   },
   "outputs": [
    {
     "name": "stdout",
     "output_type": "stream",
     "text": [
      "Sample of training data:\n"
     ]
    },
    {
     "data": {
      "text/html": [
       "<div>\n",
       "<style scoped>\n",
       "    .dataframe tbody tr th:only-of-type {\n",
       "        vertical-align: middle;\n",
       "    }\n",
       "\n",
       "    .dataframe tbody tr th {\n",
       "        vertical-align: top;\n",
       "    }\n",
       "\n",
       "    .dataframe thead th {\n",
       "        text-align: right;\n",
       "    }\n",
       "</style>\n",
       "<table border=\"1\" class=\"dataframe\">\n",
       "  <thead>\n",
       "    <tr style=\"text-align: right;\">\n",
       "      <th></th>\n",
       "      <th>title</th>\n",
       "      <th>enhanced_cleaned_text</th>\n",
       "      <th>label</th>\n",
       "    </tr>\n",
       "  </thead>\n",
       "  <tbody>\n",
       "    <tr>\n",
       "      <th>0</th>\n",
       "      <td>Trump ‘Diversity Council’ Member Threatens to ...</td>\n",
       "      <td>A member of President Trump s Diversity Counci...</td>\n",
       "      <td>0</td>\n",
       "    </tr>\n",
       "    <tr>\n",
       "      <th>1</th>\n",
       "      <td>DID BEYONCE AND JAY Z’s “Vacation” To Communis...</td>\n",
       "      <td>Notorious radical Black Panther and NJ cop kil...</td>\n",
       "      <td>0</td>\n",
       "    </tr>\n",
       "    <tr>\n",
       "      <th>2</th>\n",
       "      <td>CNN Host Calls Out Trump’s Uncle Tom Spokeswo...</td>\n",
       "      <td>Katrina Pierson is a black woman. She is also ...</td>\n",
       "      <td>0</td>\n",
       "    </tr>\n",
       "  </tbody>\n",
       "</table>\n",
       "</div>"
      ],
      "text/plain": [
       "                                               title  \\\n",
       "0  Trump ‘Diversity Council’ Member Threatens to ...   \n",
       "1  DID BEYONCE AND JAY Z’s “Vacation” To Communis...   \n",
       "2   CNN Host Calls Out Trump’s Uncle Tom Spokeswo...   \n",
       "\n",
       "                               enhanced_cleaned_text  label  \n",
       "0  A member of President Trump s Diversity Counci...      0  \n",
       "1  Notorious radical Black Panther and NJ cop kil...      0  \n",
       "2  Katrina Pierson is a black woman. She is also ...      0  "
      ]
     },
     "execution_count": 7,
     "metadata": {},
     "output_type": "execute_result"
    }
   ],
   "source": [
    "# Display sample data\n",
    "print(\"Sample of training data:\")\n",
    "train_df.head(3)"
   ]
  },
  {
   "cell_type": "markdown",
   "id": "a99e3e35",
   "metadata": {},
   "source": [
    "Define a function to convert pandas DataFrames to HuggingFace Datasets:"
   ]
  },
  {
   "cell_type": "code",
   "execution_count": 8,
   "id": "93f7f44b",
   "metadata": {
    "execution": {
     "iopub.execute_input": "2025-05-11T13:12:31.163225Z",
     "iopub.status.busy": "2025-05-11T13:12:31.162500Z",
     "iopub.status.idle": "2025-05-11T13:12:31.166726Z",
     "shell.execute_reply": "2025-05-11T13:12:31.166032Z",
     "shell.execute_reply.started": "2025-05-11T13:12:31.163202Z"
    }
   },
   "outputs": [],
   "source": [
    "# Function to convert pandas DataFrames to HuggingFace Datasets\n",
    "def convert_to_hf_dataset(df):\n",
    "    # For MobileBERT, we'll use both title and text\n",
    "    df['text'] = df['title'] + \" \" + df['enhanced_cleaned_text']\n",
    "    \n",
    "    # Convert to HuggingFace Dataset format\n",
    "    dataset = HFDataset.from_pandas(df[['text', 'label']])\n",
    "    return dataset"
   ]
  },
  {
   "cell_type": "markdown",
   "id": "9a806c35",
   "metadata": {},
   "source": [
    "Apply the conversion function:"
   ]
  },
  {
   "cell_type": "code",
   "execution_count": 9,
   "id": "1653a097",
   "metadata": {
    "execution": {
     "iopub.execute_input": "2025-05-11T13:12:31.167789Z",
     "iopub.status.busy": "2025-05-11T13:12:31.167551Z",
     "iopub.status.idle": "2025-05-11T13:12:32.425600Z",
     "shell.execute_reply": "2025-05-11T13:12:32.424955Z",
     "shell.execute_reply.started": "2025-05-11T13:12:31.167769Z"
    }
   },
   "outputs": [
    {
     "name": "stdout",
     "output_type": "stream",
     "text": [
      "Training dataset: 31428 examples\n",
      "Validation dataset: 6735 examples\n",
      "Test dataset: 6735 examples\n"
     ]
    }
   ],
   "source": [
    "# Convert our datasets\n",
    "train_dataset = convert_to_hf_dataset(train_df)\n",
    "val_dataset = convert_to_hf_dataset(val_df)\n",
    "test_dataset = convert_to_hf_dataset(test_df)\n",
    "\n",
    "print(f\"Training dataset: {len(train_dataset)} examples\")\n",
    "print(f\"Validation dataset: {len(val_dataset)} examples\")\n",
    "print(f\"Test dataset: {len(test_dataset)} examples\")"
   ]
  },
  {
   "cell_type": "markdown",
   "id": "35d9eee7",
   "metadata": {},
   "source": [
    "## 3. Prepare Tokenizer and Model\n",
    "\n",
    "Check data format and types:"
   ]
  },
  {
   "cell_type": "code",
   "execution_count": 10,
   "id": "53cb2fb7",
   "metadata": {
    "execution": {
     "iopub.execute_input": "2025-05-11T13:12:32.428427Z",
     "iopub.status.busy": "2025-05-11T13:12:32.428158Z",
     "iopub.status.idle": "2025-05-11T13:12:32.435996Z",
     "shell.execute_reply": "2025-05-11T13:12:32.435398Z",
     "shell.execute_reply.started": "2025-05-11T13:12:32.428411Z"
    }
   },
   "outputs": [
    {
     "name": "stdout",
     "output_type": "stream",
     "text": [
      "First example in train_dataset: {'text': 'Trump ‘Diversity Council’ Member Threatens to Quit If Trump Ends DACA…Bye, Bye! [Video] A member of President Trump s Diversity Council is threatening to quit because he opposes Trump s cancelation of DACA. Bye Bye!Trump diversity council member tells @Acosta he may quit the council if Trump moves ahead to end DACA CNN Newsroom (@CNNnewsroom) September 4, 2017 I want to remind him and his team that from an economic standpoint, and again, we re business people if you look at this from a purely economic standpoint again, none of these young people gets government benefits of any sorts so they re not costing us anything. They pay over $2 billion in taxes Is anyone else out there sick of the American people being told illegals cost nothing?DACA Will Cost Americans And Their Government A Huge Amount of Money.On average, people with college degrees pay more in taxes than they receive in government benefits. People without a degree consume more taxes than they pay to federal, state and local tax officials.In 2013, a Heritage Foundation study showed that amnesty for 11 million illegals would spike federal spending by $6,300 billion over the next five decades. That is roughly equivalent to $550,000 per illegal, or $10,000 per illegal per year, much of which will be spent when the immigrant becomes eligible for Social Security and Medicare. That cost estimate does not include the extra costs created when immigrants use their new legal powers as a citizen to bring in more low-skilled migrants.If those 3 million DACA people and their parents soon become legal residents or citizens, then Obama s DACA will cost Americans roughly $1,700 billion over the next 50 years, according to Heritage Foundation s numbers.Moreover, the DACA migrants add to the flood of illegal labor that has driven down wages for ordinary Americans, including urban youths and recent immigrants. Currently, Americans lose roughly $500 billion a year from their salaries because of the immigration tax caused by cheap labor according to the academies report.Via: GP', 'label': 0}\n",
      "Text type for first example: <class 'str'>\n"
     ]
    }
   ],
   "source": [
    "# Check first few examples in your dataset\n",
    "print(\"First example in train_dataset:\", train_dataset[0])\n",
    "\n",
    "# Debug the content types\n",
    "print(\"Text type for first example:\", type(train_dataset[0]['text']))"
   ]
  },
  {
   "cell_type": "markdown",
   "id": "e82be1cb",
   "metadata": {},
   "source": [
    "Define a cleaning function:"
   ]
  },
  {
   "cell_type": "code",
   "execution_count": 11,
   "id": "55b9d917",
   "metadata": {
    "execution": {
     "iopub.execute_input": "2025-05-11T13:12:32.436860Z",
     "iopub.status.busy": "2025-05-11T13:12:32.436691Z",
     "iopub.status.idle": "2025-05-11T13:12:32.444501Z",
     "shell.execute_reply": "2025-05-11T13:12:32.443891Z",
     "shell.execute_reply.started": "2025-05-11T13:12:32.436847Z"
    }
   },
   "outputs": [],
   "source": [
    "# Define a cleaning function for the dataset\n",
    "def clean_dataset(example):\n",
    "    example['text'] = str(example['text']) if example['text'] is not None else \"\"\n",
    "    return example"
   ]
  },
  {
   "cell_type": "markdown",
   "id": "42a41607",
   "metadata": {},
   "source": [
    "Apply cleaning to the datasets:"
   ]
  },
  {
   "cell_type": "code",
   "execution_count": 12,
   "id": "5ad6c38e",
   "metadata": {
    "execution": {
     "iopub.execute_input": "2025-05-11T13:12:32.445336Z",
     "iopub.status.busy": "2025-05-11T13:12:32.445092Z",
     "iopub.status.idle": "2025-05-11T13:12:34.800301Z",
     "shell.execute_reply": "2025-05-11T13:12:34.799331Z",
     "shell.execute_reply.started": "2025-05-11T13:12:32.445321Z"
    }
   },
   "outputs": [
    {
     "data": {
      "application/vnd.jupyter.widget-view+json": {
       "model_id": "20120c84f611463794dda01bfffeba98",
       "version_major": 2,
       "version_minor": 0
      },
      "text/plain": [
       "Map:   0%|          | 0/31428 [00:00<?, ? examples/s]"
      ]
     },
     "metadata": {},
     "output_type": "display_data"
    },
    {
     "data": {
      "application/vnd.jupyter.widget-view+json": {
       "model_id": "746940e6136d4009817154dcca94fe78",
       "version_major": 2,
       "version_minor": 0
      },
      "text/plain": [
       "Map:   0%|          | 0/6735 [00:00<?, ? examples/s]"
      ]
     },
     "metadata": {},
     "output_type": "display_data"
    },
    {
     "data": {
      "application/vnd.jupyter.widget-view+json": {
       "model_id": "8635d10fa8b6467bb66082942af0c338",
       "version_major": 2,
       "version_minor": 0
      },
      "text/plain": [
       "Map:   0%|          | 0/6735 [00:00<?, ? examples/s]"
      ]
     },
     "metadata": {},
     "output_type": "display_data"
    }
   ],
   "source": [
    "# Apply cleaning to all datasets\n",
    "train_dataset = train_dataset.map(clean_dataset)\n",
    "val_dataset = val_dataset.map(clean_dataset)\n",
    "test_dataset = test_dataset.map(clean_dataset)"
   ]
  },
  {
   "cell_type": "markdown",
   "id": "ea6424ee",
   "metadata": {},
   "source": [
    "Initialize the MobileBERT tokenizer:"
   ]
  },
  {
   "cell_type": "code",
   "execution_count": 13,
   "id": "2d876065",
   "metadata": {
    "execution": {
     "iopub.execute_input": "2025-05-11T13:12:34.801376Z",
     "iopub.status.busy": "2025-05-11T13:12:34.801062Z",
     "iopub.status.idle": "2025-05-11T13:12:35.364737Z",
     "shell.execute_reply": "2025-05-11T13:12:35.363989Z",
     "shell.execute_reply.started": "2025-05-11T13:12:34.801351Z"
    }
   },
   "outputs": [
    {
     "data": {
      "application/vnd.jupyter.widget-view+json": {
       "model_id": "550216f7a98c47e4b0ac8e2a23fde905",
       "version_major": 2,
       "version_minor": 0
      },
      "text/plain": [
       "vocab.txt:   0%|          | 0.00/232k [00:00<?, ?B/s]"
      ]
     },
     "metadata": {},
     "output_type": "display_data"
    },
    {
     "data": {
      "application/vnd.jupyter.widget-view+json": {
       "model_id": "cf38e2d66cf042a0b85ee76ee5721939",
       "version_major": 2,
       "version_minor": 0
      },
      "text/plain": [
       "tokenizer.json:   0%|          | 0.00/466k [00:00<?, ?B/s]"
      ]
     },
     "metadata": {},
     "output_type": "display_data"
    },
    {
     "data": {
      "application/vnd.jupyter.widget-view+json": {
       "model_id": "b4407a63f9674bdd91234ded69b07528",
       "version_major": 2,
       "version_minor": 0
      },
      "text/plain": [
       "config.json:   0%|          | 0.00/847 [00:00<?, ?B/s]"
      ]
     },
     "metadata": {},
     "output_type": "display_data"
    }
   ],
   "source": [
    "# Initialize the MobileBERT tokenizer\n",
    "tokenizer = MobileBertTokenizer.from_pretrained('google/mobilebert-uncased')\n",
    "\n",
    "# Define the maximum sequence length\n",
    "max_length = 512  # This is the maximum that BERT models can handle"
   ]
  },
  {
   "cell_type": "markdown",
   "id": "603ac37a",
   "metadata": {},
   "source": [
    "Define the tokenization function:"
   ]
  },
  {
   "cell_type": "code",
   "execution_count": 14,
   "id": "b5817ca7",
   "metadata": {
    "execution": {
     "iopub.execute_input": "2025-05-11T13:12:35.365831Z",
     "iopub.status.busy": "2025-05-11T13:12:35.365569Z",
     "iopub.status.idle": "2025-05-11T13:12:35.369928Z",
     "shell.execute_reply": "2025-05-11T13:12:35.369419Z",
     "shell.execute_reply.started": "2025-05-11T13:12:35.365808Z"
    }
   },
   "outputs": [],
   "source": [
    "# Function to tokenize the dataset\n",
    "def tokenize_function(examples):\n",
    "    # Convert all text entries to strings and handle potential None values\n",
    "    texts = [str(text) if text is not None else \"\" for text in examples['text']]\n",
    "    \n",
    "    return tokenizer(\n",
    "        texts,\n",
    "        padding='max_length',\n",
    "        truncation=True,\n",
    "        max_length=max_length,\n",
    "        return_tensors=None  # Don't return tensors in batch mode\n",
    "    )"
   ]
  },
  {
   "cell_type": "markdown",
   "id": "dad9acc1",
   "metadata": {},
   "source": [
    "Apply tokenization to our datasets:"
   ]
  },
  {
   "cell_type": "code",
   "execution_count": 15,
   "id": "3ca26418",
   "metadata": {
    "execution": {
     "iopub.execute_input": "2025-05-11T13:12:35.370761Z",
     "iopub.status.busy": "2025-05-11T13:12:35.370585Z",
     "iopub.status.idle": "2025-05-11T13:17:41.857469Z",
     "shell.execute_reply": "2025-05-11T13:17:41.856721Z",
     "shell.execute_reply.started": "2025-05-11T13:12:35.370747Z"
    }
   },
   "outputs": [
    {
     "data": {
      "application/vnd.jupyter.widget-view+json": {
       "model_id": "643c75a024f949a7aa85d657478ab64c",
       "version_major": 2,
       "version_minor": 0
      },
      "text/plain": [
       "Map:   0%|          | 0/31428 [00:00<?, ? examples/s]"
      ]
     },
     "metadata": {},
     "output_type": "display_data"
    },
    {
     "data": {
      "application/vnd.jupyter.widget-view+json": {
       "model_id": "075829e4f5234a869bbefe528eb4ba9b",
       "version_major": 2,
       "version_minor": 0
      },
      "text/plain": [
       "Map:   0%|          | 0/6735 [00:00<?, ? examples/s]"
      ]
     },
     "metadata": {},
     "output_type": "display_data"
    },
    {
     "data": {
      "application/vnd.jupyter.widget-view+json": {
       "model_id": "d29e8825e0d84734aa4deda77745090c",
       "version_major": 2,
       "version_minor": 0
      },
      "text/plain": [
       "Map:   0%|          | 0/6735 [00:00<?, ? examples/s]"
      ]
     },
     "metadata": {},
     "output_type": "display_data"
    }
   ],
   "source": [
    "# Apply tokenization to our datasets\n",
    "train_tokenized = train_dataset.map(tokenize_function, batched=True)\n",
    "val_tokenized = val_dataset.map(tokenize_function, batched=True)\n",
    "test_tokenized = test_dataset.map(tokenize_function, batched=True)"
   ]
  },
  {
   "cell_type": "markdown",
   "id": "d1bb4a15",
   "metadata": {},
   "source": [
    "Set the format for PyTorch:"
   ]
  },
  {
   "cell_type": "code",
   "execution_count": 16,
   "id": "e3532f4e",
   "metadata": {
    "execution": {
     "iopub.execute_input": "2025-05-11T13:17:41.858599Z",
     "iopub.status.busy": "2025-05-11T13:17:41.858335Z",
     "iopub.status.idle": "2025-05-11T13:17:41.864413Z",
     "shell.execute_reply": "2025-05-11T13:17:41.863717Z",
     "shell.execute_reply.started": "2025-05-11T13:17:41.858576Z"
    }
   },
   "outputs": [],
   "source": [
    "# Set the format for PyTorch after tokenization\n",
    "train_tokenized.set_format('torch', columns=['input_ids', 'attention_mask', 'label'])\n",
    "val_tokenized.set_format('torch', columns=['input_ids', 'attention_mask', 'label'])\n",
    "test_tokenized.set_format('torch', columns=['input_ids', 'attention_mask', 'label'])"
   ]
  },
  {
   "cell_type": "markdown",
   "id": "fb7727df",
   "metadata": {},
   "source": [
    "## 4. Define Metrics and Evaluation Strategy\n",
    "\n",
    "Define our evaluation metrics:"
   ]
  },
  {
   "cell_type": "code",
   "execution_count": 17,
   "id": "1e0452ff",
   "metadata": {
    "execution": {
     "iopub.execute_input": "2025-05-11T13:17:41.865256Z",
     "iopub.status.busy": "2025-05-11T13:17:41.865023Z",
     "iopub.status.idle": "2025-05-11T13:17:41.875384Z",
     "shell.execute_reply": "2025-05-11T13:17:41.874790Z",
     "shell.execute_reply.started": "2025-05-11T13:17:41.865241Z"
    }
   },
   "outputs": [],
   "source": [
    "# Function to compute metrics\n",
    "def compute_metrics(pred):\n",
    "    labels = pred.label_ids\n",
    "    preds = pred.predictions.argmax(-1)\n",
    "    precision, recall, f1, _ = precision_recall_fscore_support(labels, preds, average='weighted')\n",
    "    acc = accuracy_score(labels, preds)\n",
    "    return {\n",
    "        'accuracy': acc,\n",
    "        'f1': f1,\n",
    "        'precision': precision,\n",
    "        'recall': recall\n",
    "    }"
   ]
  },
  {
   "cell_type": "markdown",
   "id": "a67f2a23",
   "metadata": {},
   "source": [
    "## 5. Initialize Model for Fine-tuning\n",
    "\n",
    "Initialize the MobileBERT model:"
   ]
  },
  {
   "cell_type": "code",
   "execution_count": 18,
   "id": "0413a21d",
   "metadata": {
    "execution": {
     "iopub.execute_input": "2025-05-11T13:17:41.876215Z",
     "iopub.status.busy": "2025-05-11T13:17:41.876032Z",
     "iopub.status.idle": "2025-05-11T13:17:43.689799Z",
     "shell.execute_reply": "2025-05-11T13:17:43.688937Z",
     "shell.execute_reply.started": "2025-05-11T13:17:41.876202Z"
    }
   },
   "outputs": [
    {
     "data": {
      "application/vnd.jupyter.widget-view+json": {
       "model_id": "6dcca02163154994afcaf6b33c9b5123",
       "version_major": 2,
       "version_minor": 0
      },
      "text/plain": [
       "pytorch_model.bin:   0%|          | 0.00/147M [00:00<?, ?B/s]"
      ]
     },
     "metadata": {},
     "output_type": "display_data"
    },
    {
     "data": {
      "application/vnd.jupyter.widget-view+json": {
       "model_id": "b4fefc094aa24c86961b6bf54606fbfd",
       "version_major": 2,
       "version_minor": 0
      },
      "text/plain": [
       "model.safetensors:   0%|          | 0.00/147M [00:00<?, ?B/s]"
      ]
     },
     "metadata": {},
     "output_type": "display_data"
    },
    {
     "name": "stderr",
     "output_type": "stream",
     "text": [
      "Some weights of MobileBertForSequenceClassification were not initialized from the model checkpoint at google/mobilebert-uncased and are newly initialized: ['classifier.bias', 'classifier.weight']\n",
      "You should probably TRAIN this model on a down-stream task to be able to use it for predictions and inference.\n"
     ]
    }
   ],
   "source": [
    "# Initialize the MobileBERT model for sequence classification\n",
    "model = MobileBertForSequenceClassification.from_pretrained(\n",
    "    'google/mobilebert-uncased',\n",
    "    num_labels=2  # Binary classification: 0 for fake, 1 for real\n",
    ")"
   ]
  },
  {
   "cell_type": "markdown",
   "id": "a0e1fb13",
   "metadata": {},
   "source": [
    "Move the model to the appropriate device:"
   ]
  },
  {
   "cell_type": "code",
   "execution_count": 19,
   "id": "786fd428",
   "metadata": {
    "execution": {
     "iopub.execute_input": "2025-05-11T13:17:43.691308Z",
     "iopub.status.busy": "2025-05-11T13:17:43.690816Z",
     "iopub.status.idle": "2025-05-11T13:17:44.009783Z",
     "shell.execute_reply": "2025-05-11T13:17:44.008931Z",
     "shell.execute_reply.started": "2025-05-11T13:17:43.691279Z"
    }
   },
   "outputs": [
    {
     "data": {
      "text/plain": [
       "MobileBertForSequenceClassification(\n",
       "  (mobilebert): MobileBertModel(\n",
       "    (embeddings): MobileBertEmbeddings(\n",
       "      (word_embeddings): Embedding(30522, 128, padding_idx=0)\n",
       "      (position_embeddings): Embedding(512, 512)\n",
       "      (token_type_embeddings): Embedding(2, 512)\n",
       "      (embedding_transformation): Linear(in_features=384, out_features=512, bias=True)\n",
       "      (LayerNorm): NoNorm()\n",
       "      (dropout): Dropout(p=0.0, inplace=False)\n",
       "    )\n",
       "    (encoder): MobileBertEncoder(\n",
       "      (layer): ModuleList(\n",
       "        (0-23): 24 x MobileBertLayer(\n",
       "          (attention): MobileBertAttention(\n",
       "            (self): MobileBertSelfAttention(\n",
       "              (query): Linear(in_features=128, out_features=128, bias=True)\n",
       "              (key): Linear(in_features=128, out_features=128, bias=True)\n",
       "              (value): Linear(in_features=512, out_features=128, bias=True)\n",
       "              (dropout): Dropout(p=0.1, inplace=False)\n",
       "            )\n",
       "            (output): MobileBertSelfOutput(\n",
       "              (dense): Linear(in_features=128, out_features=128, bias=True)\n",
       "              (LayerNorm): NoNorm()\n",
       "            )\n",
       "          )\n",
       "          (intermediate): MobileBertIntermediate(\n",
       "            (dense): Linear(in_features=128, out_features=512, bias=True)\n",
       "            (intermediate_act_fn): ReLU()\n",
       "          )\n",
       "          (output): MobileBertOutput(\n",
       "            (dense): Linear(in_features=512, out_features=128, bias=True)\n",
       "            (LayerNorm): NoNorm()\n",
       "            (bottleneck): OutputBottleneck(\n",
       "              (dense): Linear(in_features=128, out_features=512, bias=True)\n",
       "              (LayerNorm): NoNorm()\n",
       "              (dropout): Dropout(p=0.0, inplace=False)\n",
       "            )\n",
       "          )\n",
       "          (bottleneck): Bottleneck(\n",
       "            (input): BottleneckLayer(\n",
       "              (dense): Linear(in_features=512, out_features=128, bias=True)\n",
       "              (LayerNorm): NoNorm()\n",
       "            )\n",
       "            (attention): BottleneckLayer(\n",
       "              (dense): Linear(in_features=512, out_features=128, bias=True)\n",
       "              (LayerNorm): NoNorm()\n",
       "            )\n",
       "          )\n",
       "          (ffn): ModuleList(\n",
       "            (0-2): 3 x FFNLayer(\n",
       "              (intermediate): MobileBertIntermediate(\n",
       "                (dense): Linear(in_features=128, out_features=512, bias=True)\n",
       "                (intermediate_act_fn): ReLU()\n",
       "              )\n",
       "              (output): FFNOutput(\n",
       "                (dense): Linear(in_features=512, out_features=128, bias=True)\n",
       "                (LayerNorm): NoNorm()\n",
       "              )\n",
       "            )\n",
       "          )\n",
       "        )\n",
       "      )\n",
       "    )\n",
       "    (pooler): MobileBertPooler()\n",
       "  )\n",
       "  (dropout): Dropout(p=0.0, inplace=False)\n",
       "  (classifier): Linear(in_features=512, out_features=2, bias=True)\n",
       ")"
      ]
     },
     "execution_count": 19,
     "metadata": {},
     "output_type": "execute_result"
    }
   ],
   "source": [
    "# Move model to device (GPU if available)\n",
    "model.to(device)"
   ]
  },
  {
   "cell_type": "markdown",
   "id": "e4988419",
   "metadata": {},
   "source": [
    "## 6. Define Training Arguments and Trainer\n",
    "\n",
    "Configure the training parameters:"
   ]
  },
  {
   "cell_type": "code",
   "execution_count": 20,
   "id": "f83aa858",
   "metadata": {
    "execution": {
     "iopub.execute_input": "2025-05-11T13:17:44.010941Z",
     "iopub.status.busy": "2025-05-11T13:17:44.010734Z",
     "iopub.status.idle": "2025-05-11T13:17:44.049041Z",
     "shell.execute_reply": "2025-05-11T13:17:44.048232Z",
     "shell.execute_reply.started": "2025-05-11T13:17:44.010925Z"
    }
   },
   "outputs": [],
   "source": [
    "# Define training arguments\n",
    "training_args = TrainingArguments(\n",
    "    output_dir='./results',          # Output directory for model checkpoints\n",
    "    num_train_epochs=3,              # Number of training epochs\n",
    "    per_device_train_batch_size=16,  # Batch size for training - MobileBERT is efficient\n",
    "    per_device_eval_batch_size=32,   # Batch size for evaluation\n",
    "    warmup_steps=500,                # Number of warmup steps for learning rate scheduler\n",
    "    weight_decay=0.01,               # Strength of weight decay\n",
    "    logging_dir='./logs',            # Directory for storing logs\n",
    "    logging_steps=100,               # Log every X steps\n",
    "    eval_strategy=\"epoch\",           # Evaluate every epoch\n",
    "    save_strategy=\"epoch\",           # Save model checkpoint every epoch\n",
    "    load_best_model_at_end=True,     # Load the best model at the end\n",
    "    metric_for_best_model=\"f1\",      # Use F1 score to determine the best model\n",
    "    push_to_hub=False,               # Don't push to Hugging Face Hub\n",
    "    report_to=\"none\",                # Disable reporting to avoid wandb or other services\n",
    "    learning_rate=2e-5\n",
    ")"
   ]
  },
  {
   "cell_type": "markdown",
   "id": "e6dbfe8e",
   "metadata": {},
   "source": [
    "Create the Trainer:"
   ]
  },
  {
   "cell_type": "code",
   "execution_count": 21,
   "id": "f8e98c2c",
   "metadata": {
    "execution": {
     "iopub.execute_input": "2025-05-11T13:17:44.050180Z",
     "iopub.status.busy": "2025-05-11T13:17:44.049970Z",
     "iopub.status.idle": "2025-05-11T13:17:44.079422Z",
     "shell.execute_reply": "2025-05-11T13:17:44.078683Z",
     "shell.execute_reply.started": "2025-05-11T13:17:44.050164Z"
    }
   },
   "outputs": [],
   "source": [
    "# Create the Trainer\n",
    "trainer = Trainer(\n",
    "    model=model,                         # The instantiated model to train\n",
    "    args=training_args,                  # Training arguments\n",
    "    train_dataset=train_tokenized,       # Training dataset\n",
    "    eval_dataset=val_tokenized,          # Evaluation dataset\n",
    "    compute_metrics=compute_metrics,     # The function to compute metrics\n",
    "    callbacks=[EarlyStoppingCallback(early_stopping_patience=2)]  # Early stopping\n",
    ")"
   ]
  },
  {
   "cell_type": "markdown",
   "id": "1c430128",
   "metadata": {},
   "source": [
    "## 7. Fine-tune the Model\n",
    "\n",
    "Start the timer to measure training time:"
   ]
  },
  {
   "cell_type": "code",
   "execution_count": 22,
   "id": "be2b189d",
   "metadata": {
    "execution": {
     "iopub.execute_input": "2025-05-11T13:17:44.080566Z",
     "iopub.status.busy": "2025-05-11T13:17:44.080326Z",
     "iopub.status.idle": "2025-05-11T13:17:44.085001Z",
     "shell.execute_reply": "2025-05-11T13:17:44.083868Z",
     "shell.execute_reply.started": "2025-05-11T13:17:44.080544Z"
    }
   },
   "outputs": [],
   "source": [
    "# Start the timer to measure training time\n",
    "start_time = time.time()"
   ]
  },
  {
   "cell_type": "markdown",
   "id": "a51d6ba7",
   "metadata": {},
   "source": [
    "Train the model:"
   ]
  },
  {
   "cell_type": "code",
   "execution_count": 23,
   "id": "25b2b282",
   "metadata": {
    "execution": {
     "iopub.execute_input": "2025-05-11T13:17:44.086726Z",
     "iopub.status.busy": "2025-05-11T13:17:44.085945Z",
     "iopub.status.idle": "2025-05-11T13:56:54.914063Z",
     "shell.execute_reply": "2025-05-11T13:56:54.913516Z",
     "shell.execute_reply.started": "2025-05-11T13:17:44.086700Z"
    }
   },
   "outputs": [
    {
     "data": {
      "text/html": [
       "\n",
       "    <div>\n",
       "      \n",
       "      <progress value='2949' max='2949' style='width:300px; height:20px; vertical-align: middle;'></progress>\n",
       "      [2949/2949 39:08, Epoch 3/3]\n",
       "    </div>\n",
       "    <table border=\"1\" class=\"dataframe\">\n",
       "  <thead>\n",
       " <tr style=\"text-align: left;\">\n",
       "      <th>Epoch</th>\n",
       "      <th>Training Loss</th>\n",
       "      <th>Validation Loss</th>\n",
       "      <th>Accuracy</th>\n",
       "      <th>F1</th>\n",
       "      <th>Precision</th>\n",
       "      <th>Recall</th>\n",
       "    </tr>\n",
       "  </thead>\n",
       "  <tbody>\n",
       "    <tr>\n",
       "      <td>1</td>\n",
       "      <td>0.007000</td>\n",
       "      <td>0.004895</td>\n",
       "      <td>0.998812</td>\n",
       "      <td>0.998812</td>\n",
       "      <td>0.998815</td>\n",
       "      <td>0.998812</td>\n",
       "    </tr>\n",
       "    <tr>\n",
       "      <td>2</td>\n",
       "      <td>0.000800</td>\n",
       "      <td>0.000090</td>\n",
       "      <td>1.000000</td>\n",
       "      <td>1.000000</td>\n",
       "      <td>1.000000</td>\n",
       "      <td>1.000000</td>\n",
       "    </tr>\n",
       "    <tr>\n",
       "      <td>3</td>\n",
       "      <td>0.000000</td>\n",
       "      <td>0.000906</td>\n",
       "      <td>0.999703</td>\n",
       "      <td>0.999703</td>\n",
       "      <td>0.999703</td>\n",
       "      <td>0.999703</td>\n",
       "    </tr>\n",
       "  </tbody>\n",
       "</table><p>"
      ],
      "text/plain": [
       "<IPython.core.display.HTML object>"
      ]
     },
     "metadata": {},
     "output_type": "display_data"
    },
    {
     "data": {
      "text/plain": [
       "TrainOutput(global_step=2949, training_loss=59192.53276104086, metrics={'train_runtime': 2350.3845, 'train_samples_per_second': 40.114, 'train_steps_per_second': 1.255, 'total_flos': 5912410190192640.0, 'train_loss': 59192.53276104086, 'epoch': 3.0})"
      ]
     },
     "execution_count": 23,
     "metadata": {},
     "output_type": "execute_result"
    }
   ],
   "source": [
    "# Train the model\n",
    "trainer.train()"
   ]
  },
  {
   "cell_type": "markdown",
   "id": "8e85309c",
   "metadata": {},
   "source": [
    "Calculate and display the training time:"
   ]
  },
  {
   "cell_type": "code",
   "execution_count": 24,
   "id": "dd07800e",
   "metadata": {
    "execution": {
     "iopub.execute_input": "2025-05-11T13:56:54.915525Z",
     "iopub.status.busy": "2025-05-11T13:56:54.914910Z",
     "iopub.status.idle": "2025-05-11T13:56:54.919300Z",
     "shell.execute_reply": "2025-05-11T13:56:54.918596Z",
     "shell.execute_reply.started": "2025-05-11T13:56:54.915507Z"
    }
   },
   "outputs": [
    {
     "name": "stdout",
     "output_type": "stream",
     "text": [
      "Training completed in 39.18 minutes\n"
     ]
    }
   ],
   "source": [
    "# Calculate training time\n",
    "training_time = time.time() - start_time\n",
    "print(f\"Training completed in {training_time/60:.2f} minutes\")"
   ]
  },
  {
   "cell_type": "markdown",
   "id": "5afd2489",
   "metadata": {},
   "source": [
    "Save the fine-tuned model:"
   ]
  },
  {
   "cell_type": "code",
   "execution_count": 25,
   "id": "4338e35a",
   "metadata": {
    "execution": {
     "iopub.execute_input": "2025-05-11T13:56:54.920760Z",
     "iopub.status.busy": "2025-05-11T13:56:54.920128Z",
     "iopub.status.idle": "2025-05-11T13:56:55.253720Z",
     "shell.execute_reply": "2025-05-11T13:56:55.252973Z",
     "shell.execute_reply.started": "2025-05-11T13:56:54.920743Z"
    }
   },
   "outputs": [],
   "source": [
    "# Save the fine-tuned model\n",
    "trainer.save_model(\"./mobilebert-fake-news-detector\")"
   ]
  },
  {
   "cell_type": "markdown",
   "id": "9d953936",
   "metadata": {},
   "source": [
    "## 8. Evaluate Model Performance\n",
    "\n",
    "Evaluate the model on the test set:"
   ]
  },
  {
   "cell_type": "code",
   "execution_count": 26,
   "id": "7a387346",
   "metadata": {
    "execution": {
     "iopub.execute_input": "2025-05-11T13:56:55.254917Z",
     "iopub.status.busy": "2025-05-11T13:56:55.254656Z",
     "iopub.status.idle": "2025-05-11T13:57:49.710813Z",
     "shell.execute_reply": "2025-05-11T13:57:49.710263Z",
     "shell.execute_reply.started": "2025-05-11T13:56:55.254886Z"
    }
   },
   "outputs": [
    {
     "data": {
      "text/html": [],
      "text/plain": [
       "<IPython.core.display.HTML object>"
      ]
     },
     "metadata": {},
     "output_type": "display_data"
    },
    {
     "name": "stdout",
     "output_type": "stream",
     "text": [
      "Test results: {'eval_loss': 0.0013311299262568355, 'eval_accuracy': 0.999554565701559, 'eval_f1': 0.9995545626311513, 'eval_precision': 0.9995546037279033, 'eval_recall': 0.999554565701559, 'eval_runtime': 54.4476, 'eval_samples_per_second': 123.697, 'eval_steps_per_second': 1.947, 'epoch': 3.0}\n"
     ]
    }
   ],
   "source": [
    "# Evaluate the model on the test set\n",
    "test_results = trainer.evaluate(test_tokenized)\n",
    "print(f\"Test results: {test_results}\")"
   ]
  },
  {
   "cell_type": "markdown",
   "id": "fd7f1c31",
   "metadata": {},
   "source": [
    "Get predictions on the test set:"
   ]
  },
  {
   "cell_type": "code",
   "execution_count": 29,
   "id": "7e067c76",
   "metadata": {
    "execution": {
     "iopub.execute_input": "2025-05-11T13:59:24.330823Z",
     "iopub.status.busy": "2025-05-11T13:59:24.330553Z",
     "iopub.status.idle": "2025-05-11T14:00:18.698522Z",
     "shell.execute_reply": "2025-05-11T14:00:18.697713Z",
     "shell.execute_reply.started": "2025-05-11T13:59:24.330798Z"
    }
   },
   "outputs": [
    {
     "data": {
      "text/html": [],
      "text/plain": [
       "<IPython.core.display.HTML object>"
      ]
     },
     "metadata": {},
     "output_type": "display_data"
    }
   ],
   "source": [
    "# Get predictions on the test set\n",
    "test_pred = trainer.predict(test_tokenized)\n",
    "y_preds = np.argmax(test_pred.predictions, axis=1)\n",
    "y_true = test_pred.label_ids"
   ]
  },
  {
   "cell_type": "markdown",
   "id": "c25a3703",
   "metadata": {},
   "source": [
    "Create confusion matrix:"
   ]
  },
  {
   "cell_type": "code",
   "execution_count": 30,
   "id": "7bf632cc",
   "metadata": {
    "execution": {
     "iopub.execute_input": "2025-05-11T14:00:18.700204Z",
     "iopub.status.busy": "2025-05-11T14:00:18.699412Z",
     "iopub.status.idle": "2025-05-11T14:00:18.707077Z",
     "shell.execute_reply": "2025-05-11T14:00:18.706379Z",
     "shell.execute_reply.started": "2025-05-11T14:00:18.700176Z"
    }
   },
   "outputs": [
    {
     "name": "stdout",
     "output_type": "stream",
     "text": [
      "Confusion Matrix:\n",
      "[[3522    1]\n",
      " [   2 3210]]\n"
     ]
    }
   ],
   "source": [
    "# Create confusion matrix\n",
    "from sklearn.metrics import confusion_matrix, classification_report\n",
    "\n",
    "cm = confusion_matrix(y_true, y_preds)\n",
    "print(\"Confusion Matrix:\")\n",
    "print(cm)"
   ]
  },
  {
   "cell_type": "markdown",
   "id": "525c1dad",
   "metadata": {},
   "source": [
    "Plot the confusion matrix:"
   ]
  },
  {
   "cell_type": "code",
   "execution_count": 31,
   "id": "299b89b8",
   "metadata": {
    "execution": {
     "iopub.execute_input": "2025-05-11T14:00:18.708629Z",
     "iopub.status.busy": "2025-05-11T14:00:18.708460Z",
     "iopub.status.idle": "2025-05-11T14:00:19.023307Z",
     "shell.execute_reply": "2025-05-11T14:00:19.022620Z",
     "shell.execute_reply.started": "2025-05-11T14:00:18.708616Z"
    }
   },
   "outputs": [
    {
     "data": {
      "image/png": "[encoded data removed]",
      "text/plain": [
       "<Figure size 1000x800 with 2 Axes>"
      ]
     },
     "metadata": {},
     "output_type": "display_data"
    }
   ],
   "source": [
    "# Plot confusion matrix\n",
    "plt.figure(figsize=(10, 8))\n",
    "sns.heatmap(cm, annot=True, fmt='d', cmap='Blues')\n",
    "plt.xlabel('Predicted Label')\n",
    "plt.ylabel('True Label')\n",
    "plt.title('MobileBERT Confusion Matrix')\n",
    "plt.savefig('mobilebert_confusion_matrix.png')\n",
    "plt.show()"
   ]
  },
  {
   "cell_type": "markdown",
   "id": "e7667059",
   "metadata": {},
   "source": [
    "Print the classification report:"
   ]
  },
  {
   "cell_type": "code",
   "execution_count": 32,
   "id": "22dcd6be",
   "metadata": {
    "execution": {
     "iopub.execute_input": "2025-05-11T14:00:22.668684Z",
     "iopub.status.busy": "2025-05-11T14:00:22.668164Z",
     "iopub.status.idle": "2025-05-11T14:00:22.680566Z",
     "shell.execute_reply": "2025-05-11T14:00:22.679952Z",
     "shell.execute_reply.started": "2025-05-11T14:00:22.668662Z"
    }
   },
   "outputs": [
    {
     "name": "stdout",
     "output_type": "stream",
     "text": [
      "\n",
      "Classification Report:\n",
      "              precision    recall  f1-score   support\n",
      "\n",
      "   Fake News       1.00      1.00      1.00      3523\n",
      "   Real News       1.00      1.00      1.00      3212\n",
      "\n",
      "    accuracy                           1.00      6735\n",
      "   macro avg       1.00      1.00      1.00      6735\n",
      "weighted avg       1.00      1.00      1.00      6735\n",
      "\n"
     ]
    }
   ],
   "source": [
    "# Print classification report\n",
    "print(\"\\nClassification Report:\")\n",
    "print(classification_report(y_true, y_preds, target_names=['Fake News', 'Real News']))"
   ]
  },
  {
   "cell_type": "markdown",
   "id": "bed2cdd8",
   "metadata": {},
   "source": [
    "## 9. Analyze Misclassified Examples\n",
    "\n",
    "Find and count misclassified examples:"
   ]
  },
  {
   "cell_type": "code",
   "execution_count": 33,
   "id": "64013491",
   "metadata": {
    "execution": {
     "iopub.execute_input": "2025-05-11T14:00:24.165536Z",
     "iopub.status.busy": "2025-05-11T14:00:24.165279Z",
     "iopub.status.idle": "2025-05-11T14:00:24.170373Z",
     "shell.execute_reply": "2025-05-11T14:00:24.169622Z",
     "shell.execute_reply.started": "2025-05-11T14:00:24.165519Z"
    }
   },
   "outputs": [
    {
     "name": "stdout",
     "output_type": "stream",
     "text": [
      "Number of misclassified examples: 3\n"
     ]
    }
   ],
   "source": [
    "# Get indices of misclassified examples\n",
    "misclassified_indices = np.where(y_preds != y_true)[0]\n",
    "print(f\"Number of misclassified examples: {len(misclassified_indices)}\")"
   ]
  },
  {
   "cell_type": "markdown",
   "id": "dbf9c58a",
   "metadata": {},
   "source": [
    "Analyze misclassified examples if any exist:"
   ]
  },
  {
   "cell_type": "code",
   "execution_count": 34,
   "id": "26786bab",
   "metadata": {
    "execution": {
     "iopub.execute_input": "2025-05-11T14:00:25.561782Z",
     "iopub.status.busy": "2025-05-11T14:00:25.561337Z",
     "iopub.status.idle": "2025-05-11T14:00:25.573058Z",
     "shell.execute_reply": "2025-05-11T14:00:25.572257Z",
     "shell.execute_reply.started": "2025-05-11T14:00:25.561759Z"
    }
   },
   "outputs": [
    {
     "name": "stdout",
     "output_type": "stream",
     "text": [
      "\n",
      "Sample of misclassified examples:\n"
     ]
    },
    {
     "data": {
      "text/html": [
       "<div>\n",
       "<style scoped>\n",
       "    .dataframe tbody tr th:only-of-type {\n",
       "        vertical-align: middle;\n",
       "    }\n",
       "\n",
       "    .dataframe tbody tr th {\n",
       "        vertical-align: top;\n",
       "    }\n",
       "\n",
       "    .dataframe thead th {\n",
       "        text-align: right;\n",
       "    }\n",
       "</style>\n",
       "<table border=\"1\" class=\"dataframe\">\n",
       "  <thead>\n",
       "    <tr style=\"text-align: right;\">\n",
       "      <th></th>\n",
       "      <th>Title</th>\n",
       "      <th>True Label</th>\n",
       "      <th>Predicted Label</th>\n",
       "    </tr>\n",
       "  </thead>\n",
       "  <tbody>\n",
       "    <tr>\n",
       "      <th>0</th>\n",
       "      <td>Even Angela Merkel’s Top Political Rival Is L...</td>\n",
       "      <td>Fake</td>\n",
       "      <td>Real</td>\n",
       "    </tr>\n",
       "    <tr>\n",
       "      <th>1</th>\n",
       "      <td>Angola’s Samakuva to step down as UNITA opposi...</td>\n",
       "      <td>Real</td>\n",
       "      <td>Fake</td>\n",
       "    </tr>\n",
       "    <tr>\n",
       "      <th>2</th>\n",
       "      <td>FBI found Clinton-related emails on devices be...</td>\n",
       "      <td>Real</td>\n",
       "      <td>Fake</td>\n",
       "    </tr>\n",
       "  </tbody>\n",
       "</table>\n",
       "</div>"
      ],
      "text/plain": [
       "                                               Title True Label  \\\n",
       "0   Even Angela Merkel’s Top Political Rival Is L...       Fake   \n",
       "1  Angola’s Samakuva to step down as UNITA opposi...       Real   \n",
       "2  FBI found Clinton-related emails on devices be...       Real   \n",
       "\n",
       "  Predicted Label  \n",
       "0            Real  \n",
       "1            Fake  \n",
       "2            Fake  "
      ]
     },
     "metadata": {},
     "output_type": "display_data"
    }
   ],
   "source": [
    "# If there are misclassifications, analyze a few\n",
    "if len(misclassified_indices) > 0:\n",
    "    # Get the original text and predictions\n",
    "    misclassified_texts = []\n",
    "    for idx in misclassified_indices[:5]:  # Examine up to 5 examples\n",
    "        # Convert numpy.int64 to Python int\n",
    "        idx_int = int(idx)\n",
    "        \n",
    "        # Now use the converted index\n",
    "        original_idx = test_dataset[idx_int]['__index_level_0__'] if '__index_level_0__' in test_dataset[idx_int] else idx_int\n",
    "        \n",
    "        text = test_df.iloc[original_idx]['title']\n",
    "        true_label = \"Real\" if y_true[idx] == 1 else \"Fake\"\n",
    "        pred_label = \"Real\" if y_preds[idx] == 1 else \"Fake\"\n",
    "        \n",
    "        misclassified_texts.append({\n",
    "            'Title': text,\n",
    "            'True Label': true_label,\n",
    "            'Predicted Label': pred_label\n",
    "        })\n",
    "    \n",
    "    # Display misclassified examples\n",
    "    print(\"\\nSample of misclassified examples:\")\n",
    "    display(pd.DataFrame(misclassified_texts))"
   ]
  },
  {
   "cell_type": "markdown",
   "id": "6acbe359",
   "metadata": {},
   "source": [
    "## 10. Model Performance Comparison and Conclusions\n",
    "\n",
    "Create a comparison table with previous models:"
   ]
  },
  {
   "cell_type": "code",
   "execution_count": 36,
   "id": "5951fe7a",
   "metadata": {
    "execution": {
     "iopub.execute_input": "2025-05-11T14:01:28.379087Z",
     "iopub.status.busy": "2025-05-11T14:01:28.378622Z",
     "iopub.status.idle": "2025-05-11T14:01:28.389077Z",
     "shell.execute_reply": "2025-05-11T14:01:28.388527Z",
     "shell.execute_reply.started": "2025-05-11T14:01:28.379063Z"
    }
   },
   "outputs": [
    {
     "name": "stdout",
     "output_type": "stream",
     "text": [
      "Model Performance Comparison:\n"
     ]
    },
    {
     "data": {
      "text/html": [
       "<div>\n",
       "<style scoped>\n",
       "    .dataframe tbody tr th:only-of-type {\n",
       "        vertical-align: middle;\n",
       "    }\n",
       "\n",
       "    .dataframe tbody tr th {\n",
       "        vertical-align: top;\n",
       "    }\n",
       "\n",
       "    .dataframe thead th {\n",
       "        text-align: right;\n",
       "    }\n",
       "</style>\n",
       "<table border=\"1\" class=\"dataframe\">\n",
       "  <thead>\n",
       "    <tr style=\"text-align: right;\">\n",
       "      <th></th>\n",
       "      <th>Model</th>\n",
       "      <th>Accuracy</th>\n",
       "      <th>F1 Score</th>\n",
       "      <th>Training Time</th>\n",
       "    </tr>\n",
       "  </thead>\n",
       "  <tbody>\n",
       "    <tr>\n",
       "      <th>0</th>\n",
       "      <td>TF-IDF + ML</td>\n",
       "      <td>0.984000</td>\n",
       "      <td>0.984000</td>\n",
       "      <td>39.18 minutes</td>\n",
       "    </tr>\n",
       "    <tr>\n",
       "      <th>1</th>\n",
       "      <td>DistilBERT</td>\n",
       "      <td>0.999600</td>\n",
       "      <td>0.999600</td>\n",
       "      <td>48.69 minutes</td>\n",
       "    </tr>\n",
       "    <tr>\n",
       "      <th>2</th>\n",
       "      <td>TinyBERT</td>\n",
       "      <td>0.999100</td>\n",
       "      <td>0.999100</td>\n",
       "      <td>8.99 minutes</td>\n",
       "    </tr>\n",
       "    <tr>\n",
       "      <th>3</th>\n",
       "      <td>MobileBERT</td>\n",
       "      <td>0.999555</td>\n",
       "      <td>0.999555</td>\n",
       "      <td>39.18 minutes</td>\n",
       "    </tr>\n",
       "  </tbody>\n",
       "</table>\n",
       "</div>"
      ],
      "text/plain": [
       "         Model  Accuracy  F1 Score  Training Time\n",
       "0  TF-IDF + ML  0.984000  0.984000  39.18 minutes\n",
       "1   DistilBERT  0.999600  0.999600  48.69 minutes\n",
       "2     TinyBERT  0.999100  0.999100   8.99 minutes\n",
       "3   MobileBERT  0.999555  0.999555  39.18 minutes"
      ]
     },
     "metadata": {},
     "output_type": "display_data"
    }
   ],
   "source": [
    "# Create a comparison table of model performances\n",
    "models = ['TF-IDF + ML', 'DistilBERT', 'TinyBERT', 'MobileBERT']\n",
    "accuracy = [0.984, 0.9996, 0.9991, test_results['eval_accuracy']] \n",
    "f1_scores = [0.984, 0.9996, 0.9991, test_results['eval_f1']]\n",
    "training_times = ['39.18 minutes', '48.69 minutes', '8.99 minutes', f\"{training_time/60:.2f} minutes\"]\n",
    "\n",
    "comparison_df = pd.DataFrame({\n",
    "    'Model': models,\n",
    "    'Accuracy': accuracy,\n",
    "    'F1 Score': f1_scores,\n",
    "    'Training Time': training_times\n",
    "})\n",
    "\n",
    "print(\"Model Performance Comparison:\")\n",
    "display(comparison_df)"
   ]
  },
  {
   "cell_type": "markdown",
   "id": "2d2ca600",
   "metadata": {},
   "source": [
    "In this notebook, I've fine-tuned a MobileBERT model for fake news detection on the ISOT dataset. Here are the key findings:\n",
    "\n",
    "1. **Performance Comparison**: MobileBERT achieves excellent accuracy, comparable to our previous models using engineered features (99.98%), DistilBERT (99.96%), and TinyBERT (99.91%).\n",
    "\n",
    "2. **Training Efficiency**: MobileBERT is specifically designed for mobile and edge devices, offering a good balance between model size, inference speed, and accuracy. The training process completed efficiently.\n",
    "\n",
    "3. **Error Analysis**: Analysis of misclassified examples shows patterns that can guide further improvements in model robustness.\n",
    "\n",
    "4. **Deployment Advantages**: MobileBERT is particularly well-suited for deployment on resource-constrained devices like smartphones or edge devices, where both model size and inference speed are critical factors.\n",
    "\n",
    "## Next Steps\n",
    "\n",
    "1. **Model Compression Techniques**: Explore quantization and pruning to further reduce the model size for deployment on very resource-constrained devices.\n",
    "\n",
    "2. **Combined Approach**: Develop an ensemble model that combines our engineered features with transformer-based features.\n",
    "\n",
    "3. **External Validation**: Test the model on different fake news datasets to evaluate cross-dataset generalization.\n",
    "\n",
    "4. **Model Explainability**: Implement techniques like LIME or SHAP to understand which parts of text the model relies on for classification.\n",
    "\n",
    "5. **Comparative Inference Speed Analysis**: Measure and compare inference speeds across different models (BERT, DistilBERT, TinyBERT, MobileBERT) on various devices to determine the optimal model for specific deployment scenarios.\n",
    "\n",
    "The MobileBERT approach offers an excellent compromise between the high accuracy of larger transformer models and the efficiency requirements of mobile and edge deployment scenarios. Its performance on the fake news detection task demonstrates that we can achieve excellent results without necessarily using larger, more computationally intensive models."
   ]
  }
 ],
 "metadata": {
  "jupytext": {
   "cell_metadata_filter": "-all",
   "main_language": "python",
   "notebook_metadata_filter": "-all"
  },
  "kaggle": {
   "accelerator": "nvidiaTeslaT4",
   "dataSources": [
    {
     "datasetId": 7338050,
     "sourceId": 11691225,
     "sourceType": "datasetVersion"
    }
   ],
   "dockerImageVersionId": 31011,
   "isGpuEnabled": true,
   "isInternetEnabled": true,
   "language": "python",
   "sourceType": "notebook"
  },
  "kernelspec": {
   "display_name": "Python 3 (ipykernel)",
   "language": "python",
   "name": "python3"
  },
  "language_info": {
   "codemirror_mode": {
    "name": "ipython",
    "version": 3
   },
   "file_extension": ".py",
   "mimetype": "text/x-python",
   "name": "python",
   "nbconvert_exporter": "python",
   "pygments_lexer": "ipython3",
   "version": "3.12.1"
  }
 },
 "nbformat": 4,
 "nbformat_minor": 5
}
