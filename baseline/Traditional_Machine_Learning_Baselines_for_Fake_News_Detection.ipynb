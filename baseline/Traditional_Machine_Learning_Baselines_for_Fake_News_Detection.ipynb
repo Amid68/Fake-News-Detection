{
 "cells": [
  {
   "cell_type": "markdown",
   "id": "3d836718",
   "metadata": {},
   "source": [
    "# Traditional Machine Learning Baselines for Fake News Detection\n",
    "\n",
    "## Introduction\n",
    "\n",
    "This notebook implements and evaluates traditional machine learning approaches for fake news detection on the ISOT dataset. These baseline models serve as important reference points for comparing with more complex transformer-based models (DistilBERT, RoBERTa, TinyBERT, and MobileBERT) explored in other notebooks. Understanding the performance of these simpler models helps contextualize the value proposition of lightweight pretrained transformer models in terms of accuracy, efficiency, and resource requirements.\n",
    "\n",
    "## 1. Setup and Library Installation\n",
    "\n",
    "First, I import the necessary libraries and set up the environment:"
   ]
  },
  {
   "cell_type": "code",
   "execution_count": 1,
   "id": "2379e10d",
   "metadata": {},
   "outputs": [],
   "source": [
    "# Import basic libraries\n",
    "import numpy as np\n",
    "import pandas as pd\n",
    "import matplotlib.pyplot as plt\n",
    "import seaborn as sns\n",
    "import time\n",
    "import re\n",
    "import string\n",
    "import os\n",
    "import warnings\n",
    "import random\n",
    "from collections import Counter\n",
    "warnings.filterwarnings('ignore')"
   ]
  },
  {
   "cell_type": "markdown",
   "id": "e9f33278",
   "metadata": {},
   "source": [
    "I've chosen these libraries for the following reasons:\n",
    "- `numpy` and `pandas` for efficient data manipulation and numerical operations\n",
    "- `matplotlib` and `seaborn` for creating informative visualizations\n",
    "- `time` for measuring execution time of different operations\n",
    "- `re` and `string` for text processing and regular expressions\n",
    "- `random` for reproducibility settings\n",
    "- `Counter` for frequency analysis\n",
    "- `warnings` is suppressed to keep the notebook output clean"
   ]
  },
  {
   "cell_type": "code",
   "execution_count": 2,
   "id": "812123f1",
   "metadata": {},
   "outputs": [],
   "source": [
    "# Set plot style\n",
    "plt.style.use('ggplot')\n",
    "sns.set(font_scale=1.2)\n",
    "sns.set_style(\"whitegrid\")"
   ]
  },
  {
   "cell_type": "code",
   "execution_count": 3,
   "id": "d591f108",
   "metadata": {},
   "outputs": [],
   "source": [
    "# Display options\n",
    "pd.set_option('display.max_columns', None)\n",
    "pd.set_option('display.max_rows', 20)\n",
    "pd.set_option('display.width', 1000)\n",
    "pd.set_option('display.max_colwidth', 200)"
   ]
  },
  {
   "cell_type": "markdown",
   "id": "2198fdc0",
   "metadata": {},
   "source": [
    "These settings ensure that visualizations are clear and readable, and that pandas dataframes display sufficient information for analysis."
   ]
  },
  {
   "cell_type": "code",
   "execution_count": 4,
   "id": "6c5e100e",
   "metadata": {},
   "outputs": [],
   "source": [
    "# Import ML libraries\n",
    "from sklearn.feature_extraction.text import TfidfVectorizer, CountVectorizer\n",
    "from sklearn.linear_model import LogisticRegression\n",
    "from sklearn.naive_bayes import MultinomialNB\n",
    "from sklearn.svm import LinearSVC\n",
    "from sklearn.pipeline import Pipeline\n",
    "from sklearn.model_selection import GridSearchCV, train_test_split\n",
    "from sklearn.metrics import accuracy_score, precision_recall_fscore_support\n",
    "from sklearn.metrics import classification_report, confusion_matrix\n",
    "import joblib"
   ]
  },
  {
   "cell_type": "markdown",
   "id": "34772d1d",
   "metadata": {},
   "source": [
    "For machine learning, I've selected these libraries because:\n",
    "- `TfidfVectorizer` and `CountVectorizer` convert text to numerical features\n",
    "- `LogisticRegression`, `MultinomialNB`, and `LinearSVC` are effective classifiers for text data\n",
    "- `GridSearchCV` enables systematic hyperparameter optimization\n",
    "- Various metrics functions allow comprehensive evaluation\n",
    "- `joblib` provides model persistence capabilities"
   ]
  },
  {
   "cell_type": "code",
   "execution_count": 5,
   "id": "b05e9c33",
   "metadata": {},
   "outputs": [
    {
     "name": "stderr",
     "output_type": "stream",
     "text": [
      "[nltk_data] Downloading package stopwords to /Users/amid/nltk_data...\n",
      "[nltk_data]   Package stopwords is already up-to-date!\n",
      "[nltk_data] Downloading package punkt to /Users/amid/nltk_data...\n",
      "[nltk_data]   Package punkt is already up-to-date!\n",
      "[nltk_data] Downloading package wordnet to /Users/amid/nltk_data...\n",
      "[nltk_data]   Package wordnet is already up-to-date!\n"
     ]
    },
    {
     "data": {
      "text/plain": [
       "True"
      ]
     },
     "execution_count": 5,
     "metadata": {},
     "output_type": "execute_result"
    }
   ],
   "source": [
    "# Import NLP libraries\n",
    "import nltk\n",
    "from nltk.corpus import stopwords\n",
    "from nltk.tokenize import word_tokenize\n",
    "from nltk.stem import WordNetLemmatizer\n",
    "\n",
    "# Download necessary NLTK resources\n",
    "nltk.download('stopwords')\n",
    "nltk.download('punkt')\n",
    "nltk.download('wordnet')"
   ]
  },
  {
   "cell_type": "markdown",
   "id": "99bef71b",
   "metadata": {},
   "source": [
    "For natural language processing, I use NLTK because:\n",
    "- It provides essential text processing tools like tokenization and lemmatization\n",
    "- It includes comprehensive stopword lists for multiple languages\n",
    "- These components are crucial for preparing text data for traditional ML models\n",
    "\n",
    "## 2. Set Random Seeds for Reproducibility\n",
    "\n",
    "Setting random seeds ensures that our experiments are reproducible, which is essential for scientific rigor and comparison with other models:"
   ]
  },
  {
   "cell_type": "code",
   "execution_count": 6,
   "id": "eab9e5b0",
   "metadata": {},
   "outputs": [],
   "source": [
    "# Set random seeds for reproducibility\n",
    "def set_seeds(seed=42):\n",
    "    random.seed(seed)\n",
    "    np.random.seed(seed)\n",
    "    os.environ['PYTHONHASHSEED'] = str(seed)\n",
    "    \n",
    "set_seeds()"
   ]
  },
  {
   "cell_type": "markdown",
   "id": "77caee3b",
   "metadata": {},
   "source": [
    "I've chosen to set seeds for all random number generators to ensure complete reproducibility across runs. The seed value of 42 is arbitrary but commonly used in machine learning experiments.\n",
    "\n",
    "## 3. Load and Explore the Dataset\n",
    "\n",
    "I load the same ISOT dataset used for the transformer models to ensure a fair comparison:"
   ]
  },
  {
   "cell_type": "code",
   "execution_count": 7,
   "id": "acfd18ce",
   "metadata": {},
   "outputs": [
    {
     "name": "stdout",
     "output_type": "stream",
     "text": [
      "Training set: (31428, 3)\n",
      "Validation set: (6735, 3)\n",
      "Test set: (6735, 3)\n"
     ]
    }
   ],
   "source": [
    "# Load the preprocessed datasets\n",
    "try:\n",
    "    train_df = pd.read_csv('../data_analysis/datasets/train_fake_news.csv')\n",
    "    val_df = pd.read_csv('../data_analysis/datasets/val_fake_news.csv') \n",
    "    test_df = pd.read_csv('../data_analysis/datasets/test_fake_news.csv')\n",
    "    \n",
    "    print(f\"Training set: {train_df.shape}\")\n",
    "    print(f\"Validation set: {val_df.shape}\")\n",
    "    print(f\"Test set: {test_df.shape}\")\n",
    "except FileNotFoundError:\n",
    "    print(\"Preprocessed files not found. Using sample data for demonstration.\")\n",
    "    # Create sample data for demonstration\n",
    "    from sklearn.datasets import fetch_20newsgroups\n",
    "    data = fetch_20newsgroups(subset='all', categories=['alt.atheism', 'talk.religion.misc'])\n",
    "    df = pd.DataFrame({'text': data.data, 'label': data.target})\n",
    "    train_df, temp_df = train_test_split(df, test_size=0.3, random_state=42)\n",
    "    val_df, test_df = train_test_split(temp_df, test_size=0.5, random_state=42)\n",
    "    print(f\"Training set: {train_df.shape}\")\n",
    "    print(f\"Validation set: {val_df.shape}\")\n",
    "    print(f\"Test set: {test_df.shape}\")"
   ]
  },
  {
   "cell_type": "markdown",
   "id": "147d3260",
   "metadata": {},
   "source": [
    "This code attempts to load preprocessed datasets, but includes a fallback mechanism to create sample data if the files aren't found. This ensures the notebook can run in different environments. Using the same dataset splits as the transformer models is critical for fair comparison."
   ]
  },
  {
   "cell_type": "code",
   "execution_count": 8,
   "id": "25da54bb",
   "metadata": {},
   "outputs": [
    {
     "name": "stdout",
     "output_type": "stream",
     "text": [
      "Sample of training data:\n"
     ]
    },
    {
     "data": {
      "text/html": [
       "<div>\n",
       "<style scoped>\n",
       "    .dataframe tbody tr th:only-of-type {\n",
       "        vertical-align: middle;\n",
       "    }\n",
       "\n",
       "    .dataframe tbody tr th {\n",
       "        vertical-align: top;\n",
       "    }\n",
       "\n",
       "    .dataframe thead th {\n",
       "        text-align: right;\n",
       "    }\n",
       "</style>\n",
       "<table border=\"1\" class=\"dataframe\">\n",
       "  <thead>\n",
       "    <tr style=\"text-align: right;\">\n",
       "      <th></th>\n",
       "      <th>title</th>\n",
       "      <th>enhanced_cleaned_text</th>\n",
       "      <th>label</th>\n",
       "    </tr>\n",
       "  </thead>\n",
       "  <tbody>\n",
       "    <tr>\n",
       "      <th>0</th>\n",
       "      <td>Trump ‘Diversity Council’ Member Threatens to Quit If Trump Ends DACA…Bye, Bye! [Video]</td>\n",
       "      <td>A member of President Trump s Diversity Council is threatening to quit because he opposes Trump s cancelation of DACA. Bye Bye!Trump diversity council member tells @Acosta he may quit the council ...</td>\n",
       "      <td>0</td>\n",
       "    </tr>\n",
       "    <tr>\n",
       "      <th>1</th>\n",
       "      <td>DID BEYONCE AND JAY Z’s “Vacation” To Communist Cuba Set Stage For Obama To Pardon Fugitive, Black Panther Cop Killer?</td>\n",
       "      <td>Notorious radical Black Panther and NJ cop killer, Assata Shakur has been living under the protection of President Fidel Castro for decades. As Obama s time in office draws near (THANK GOD), the d...</td>\n",
       "      <td>0</td>\n",
       "    </tr>\n",
       "    <tr>\n",
       "      <th>2</th>\n",
       "      <td>CNN Host Calls Out Trump’s Uncle Tom Spokeswoman And It Is GLORIOUS (VIDEO)</td>\n",
       "      <td>Katrina Pierson is a black woman. She is also a top spokesperson for unabashed racist Donald Trump. She apparently buys into Trump s horrible ideas and rhetoric, though, as she defends him at ever...</td>\n",
       "      <td>0</td>\n",
       "    </tr>\n",
       "  </tbody>\n",
       "</table>\n",
       "</div>"
      ],
      "text/plain": [
       "                                                                                                                    title                                                                                                                                                                                    enhanced_cleaned_text  label\n",
       "0                                 Trump ‘Diversity Council’ Member Threatens to Quit If Trump Ends DACA…Bye, Bye! [Video]  A member of President Trump s Diversity Council is threatening to quit because he opposes Trump s cancelation of DACA. Bye Bye!Trump diversity council member tells @Acosta he may quit the council ...      0\n",
       "1  DID BEYONCE AND JAY Z’s “Vacation” To Communist Cuba Set Stage For Obama To Pardon Fugitive, Black Panther Cop Killer?  Notorious radical Black Panther and NJ cop killer, Assata Shakur has been living under the protection of President Fidel Castro for decades. As Obama s time in office draws near (THANK GOD), the d...      0\n",
       "2                                             CNN Host Calls Out Trump’s Uncle Tom Spokeswoman And It Is GLORIOUS (VIDEO)  Katrina Pierson is a black woman. She is also a top spokesperson for unabashed racist Donald Trump. She apparently buys into Trump s horrible ideas and rhetoric, though, as she defends him at ever...      0"
      ]
     },
     "execution_count": 8,
     "metadata": {},
     "output_type": "execute_result"
    }
   ],
   "source": [
    "# Display sample data\n",
    "print(\"Sample of training data:\")\n",
    "train_df.head(3)"
   ]
  },
  {
   "cell_type": "code",
   "execution_count": 9,
   "id": "e5e0b8e1",
   "metadata": {},
   "outputs": [
    {
     "name": "stdout",
     "output_type": "stream",
     "text": [
      "Class distribution in training set:\n",
      "label\n",
      "0    16436\n",
      "1    14992\n",
      "Name: count, dtype: int64\n",
      "\n",
      "Class distribution in validation set:\n",
      "label\n",
      "0    3522\n",
      "1    3213\n",
      "Name: count, dtype: int64\n",
      "\n",
      "Class distribution in test set:\n",
      "label\n",
      "0    3523\n",
      "1    3212\n",
      "Name: count, dtype: int64\n"
     ]
    }
   ],
   "source": [
    "# Check class distribution\n",
    "print(\"Class distribution in training set:\")\n",
    "print(train_df['label'].value_counts())\n",
    "print(\"\\nClass distribution in validation set:\")\n",
    "print(val_df['label'].value_counts())\n",
    "print(\"\\nClass distribution in test set:\")\n",
    "print(test_df['label'].value_counts())"
   ]
  },
  {
   "cell_type": "markdown",
   "id": "71046818",
   "metadata": {},
   "source": [
    "I check the class distribution to ensure that the dataset is reasonably balanced. This is important because imbalanced datasets can lead to biased models that perform well on the majority class but poorly on the minority class. The ISOT dataset is relatively balanced, with a slight majority of fake news articles.\n",
    "\n",
    "## 4. Text Preprocessing\n",
    "\n",
    "I create a text preprocessing function to clean and normalize the text data:"
   ]
  },
  {
   "cell_type": "code",
   "execution_count": 10,
   "id": "6fc45dc0",
   "metadata": {},
   "outputs": [],
   "source": [
    "# Define text preprocessing function\n",
    "def preprocess_text(text):\n",
    "    \"\"\"\n",
    "    Preprocess text by:\n",
    "    1. Converting to lowercase\n",
    "    2. Removing punctuation\n",
    "    3. Removing numbers\n",
    "    4. Removing stopwords\n",
    "    5. Lemmatizing words\n",
    "    \"\"\"\n",
    "    if not isinstance(text, str):\n",
    "        return \"\"\n",
    "    \n",
    "    # Convert to lowercase\n",
    "    text = text.lower()\n",
    "    \n",
    "    # Remove punctuation\n",
    "    text = re.sub(f'[{re.escape(string.punctuation)}]', ' ', text)\n",
    "    \n",
    "    # Remove numbers\n",
    "    text = re.sub(r'\\d+', '', text)\n",
    "    \n",
    "    # Tokenize\n",
    "    tokens = word_tokenize(text)\n",
    "    \n",
    "    # Remove stopwords\n",
    "    stop_words = set(stopwords.words('english'))\n",
    "    tokens = [token for token in tokens if token not in stop_words]\n",
    "    \n",
    "    # Lemmatize\n",
    "    lemmatizer = WordNetLemmatizer()\n",
    "    tokens = [lemmatizer.lemmatize(token) for token in tokens]\n",
    "    \n",
    "    # Join tokens back into text\n",
    "    processed_text = ' '.join(tokens)\n",
    "    \n",
    "    return processed_text"
   ]
  },
  {
   "cell_type": "markdown",
   "id": "e21e2edc",
   "metadata": {},
   "source": [
    "This preprocessing function applies several standard NLP techniques:\n",
    "- Converting to lowercase ensures consistent case throughout the text\n",
    "- Removing punctuation and numbers reduces noise and dimensionality\n",
    "- Removing stopwords eliminates common words that carry little discriminative information\n",
    "- Lemmatization reduces words to their base form, consolidating different forms of the same word\n",
    "\n",
    "These steps are crucial for traditional ML models because they help reduce the feature space and focus on the most informative content. Unlike transformer models that can learn contextual representations, traditional ML models benefit significantly from this type of preprocessing."
   ]
  },
  {
   "cell_type": "code",
   "execution_count": 11,
   "id": "9647bd66",
   "metadata": {},
   "outputs": [],
   "source": [
    "# Combine title and text for a more comprehensive analysis\n",
    "train_df['combined_text'] = train_df['title'] + \" \" + train_df['enhanced_cleaned_text']\n",
    "val_df['combined_text'] = val_df['title'] + \" \" + val_df['enhanced_cleaned_text']\n",
    "test_df['combined_text'] = test_df['title'] + \" \" + test_df['enhanced_cleaned_text']"
   ]
  },
  {
   "cell_type": "markdown",
   "id": "f5e83293",
   "metadata": {},
   "source": [
    "I combine the title and body text because both contain valuable information for classification. The title often contains strong signals about the article's nature, while the body provides more context and detail."
   ]
  },
  {
   "cell_type": "code",
   "execution_count": 12,
   "id": "2f28ea3f",
   "metadata": {},
   "outputs": [
    {
     "name": "stdout",
     "output_type": "stream",
     "text": [
      "Preprocessing text data...\n",
      "Estimated preprocessing time: 0.00 seconds\n"
     ]
    }
   ],
   "source": [
    "# Apply preprocessing to the combined text\n",
    "print(\"Preprocessing text data...\")\n",
    "start_time = time.time()\n",
    "\n",
    "# Apply preprocessing to a sample first to estimate time\n",
    "sample_size = min(1000, len(train_df))\n",
    "time_per_sample = time.time() - start_time\n",
    "\n",
    "# Estimate total time\n",
    "estimated_time = (len(train_df) + len(val_df) + len(test_df)) * time_per_sample / sample_size\n",
    "print(f\"Estimated preprocessing time: {estimated_time:.2f} seconds\")"
   ]
  },
  {
   "cell_type": "code",
   "execution_count": 13,
   "id": "33b24fa2",
   "metadata": {},
   "outputs": [
    {
     "name": "stdout",
     "output_type": "stream",
     "text": [
      "Preprocessing completed in 52.01 seconds\n"
     ]
    }
   ],
   "source": [
    "# Process the data\n",
    "train_df['processed_text'] = train_df['combined_text'].apply(preprocess_text)\n",
    "val_df['processed_text'] = val_df['combined_text'].apply(preprocess_text)\n",
    "test_df['processed_text'] = test_df['combined_text'].apply(preprocess_text)\n",
    "\n",
    "preprocessing_time = time.time() - start_time\n",
    "print(f\"Preprocessing completed in {preprocessing_time:.2f} seconds\")"
   ]
  },
  {
   "cell_type": "markdown",
   "id": "18666a57",
   "metadata": {},
   "source": [
    "I track the preprocessing time to understand the computational cost of this step. This is important for comparing the overall efficiency of traditional ML pipelines versus transformer-based approaches."
   ]
  },
  {
   "cell_type": "code",
   "execution_count": 14,
   "id": "b91968ed",
   "metadata": {},
   "outputs": [
    {
     "name": "stdout",
     "output_type": "stream",
     "text": [
      "Original text:\n",
      "Trump ‘Diversity Council’ Member Threatens to Quit If Trump Ends DACA…Bye, Bye! [Video] A member of President Trump s Diversity Council is threatening to quit because he opposes Trump s cancelation of DACA. Bye Bye!Trump diversity council member tells @Acosta he may quit the council if Trump moves a\n",
      "\n",
      "Preprocessed text:\n",
      "trump ‘ diversity council ’ member threatens quit trump end daca…bye bye video member president trump diversity council threatening quit opposes trump cancelation daca bye bye trump diversity council member tell acosta may quit council trump move ahead end daca cnn newsroom cnnnewsroom september wan\n"
     ]
    }
   ],
   "source": [
    "# Display a sample of preprocessed text\n",
    "print(\"Original text:\")\n",
    "print(train_df['combined_text'].iloc[0][:300])\n",
    "print(\"\\nPreprocessed text:\")\n",
    "print(train_df['processed_text'].iloc[0][:300])"
   ]
  },
  {
   "cell_type": "markdown",
   "id": "3beefff3",
   "metadata": {},
   "source": [
    "Displaying a sample of the preprocessed text helps verify that the preprocessing function is working as expected and provides insight into how the text is transformed.\n",
    "\n",
    "## 5. Feature Engineering with TF-IDF\n",
    "\n",
    "For traditional ML models, I use TF-IDF vectorization to convert text into numerical features:"
   ]
  },
  {
   "cell_type": "code",
   "execution_count": 15,
   "id": "af118693",
   "metadata": {},
   "outputs": [],
   "source": [
    "# Define TF-IDF vectorization parameters\n",
    "# I'm using a combination of unigrams and bigrams, with a maximum of 50,000 features\n",
    "# This balances feature richness with computational efficiency\n",
    "tfidf_params = {\n",
    "    'max_features': 50000,\n",
    "    'min_df': 5,  # Minimum document frequency\n",
    "    'max_df': 0.8,  # Maximum document frequency\n",
    "    'ngram_range': (1, 2),  # Use both unigrams and bigrams\n",
    "    'sublinear_tf': True  # Apply sublinear tf scaling (1 + log(tf))\n",
    "}"
   ]
  },
  {
   "cell_type": "markdown",
   "id": "91dc546d",
   "metadata": {},
   "source": [
    "The TF-IDF vectorization parameters are carefully chosen:\n",
    "- `max_features=50000` limits the vocabulary size to the 50,000 most frequent terms, balancing information retention with computational efficiency\n",
    "- `min_df=5` excludes terms that appear in fewer than 5 documents, reducing noise from rare terms\n",
    "- `max_df=0.8` excludes terms that appear in more than 80% of documents, which are likely too common to be discriminative\n",
    "- `ngram_range=(1, 2)` includes both individual words (unigrams) and pairs of adjacent words (bigrams), capturing some phrase-level information\n",
    "- `sublinear_tf=True` applies logarithmic scaling to term frequencies, reducing the impact of high-frequency terms"
   ]
  },
  {
   "cell_type": "code",
   "execution_count": 16,
   "id": "dde5f333",
   "metadata": {},
   "outputs": [],
   "source": [
    "# Create TF-IDF vectorizer\n",
    "tfidf_vectorizer = TfidfVectorizer(**tfidf_params)"
   ]
  },
  {
   "cell_type": "code",
   "execution_count": 17,
   "id": "da51e916",
   "metadata": {},
   "outputs": [
    {
     "name": "stdout",
     "output_type": "stream",
     "text": [
      "Generating TF-IDF features...\n"
     ]
    }
   ],
   "source": [
    "# Fit and transform the training data\n",
    "print(\"Generating TF-IDF features...\")\n",
    "start_time = time.time()\n",
    "X_train_tfidf = tfidf_vectorizer.fit_transform(train_df['processed_text'])\n",
    "X_val_tfidf = tfidf_vectorizer.transform(val_df['processed_text'])\n",
    "X_test_tfidf = tfidf_vectorizer.transform(test_df['processed_text'])\n",
    "vectorization_time = time.time() - start_time"
   ]
  },
  {
   "cell_type": "code",
   "execution_count": 18,
   "id": "6caf87fc",
   "metadata": {},
   "outputs": [
    {
     "name": "stdout",
     "output_type": "stream",
     "text": [
      "TF-IDF vectorization completed in 18.30 seconds\n",
      "Number of features: 50000\n",
      "Training set shape: (31428, 50000)\n",
      "Validation set shape: (6735, 50000)\n",
      "Test set shape: (6735, 50000)\n"
     ]
    }
   ],
   "source": [
    "# Get labels\n",
    "y_train = train_df['label']\n",
    "y_val = val_df['label']\n",
    "y_test = test_df['label']\n",
    "\n",
    "print(f\"TF-IDF vectorization completed in {vectorization_time:.2f} seconds\")\n",
    "print(f\"Number of features: {X_train_tfidf.shape[1]}\")\n",
    "print(f\"Training set shape: {X_train_tfidf.shape}\")\n",
    "print(f\"Validation set shape: {X_val_tfidf.shape}\")\n",
    "print(f\"Test set shape: {X_test_tfidf.shape}\")"
   ]
  },
  {
   "cell_type": "markdown",
   "id": "f8e10340",
   "metadata": {},
   "source": [
    "I track the vectorization time and report the resulting feature dimensions. This step transforms the text data into a sparse matrix where each row represents a document and each column represents a term in the vocabulary. The values are TF-IDF scores that reflect the importance of each term in each document.\n",
    "\n",
    "## 6. Model Training and Evaluation\n",
    "\n",
    "I train and evaluate three traditional ML models, each with different strengths and characteristics:\n",
    "\n",
    "### 6.1 Logistic Regression"
   ]
  },
  {
   "cell_type": "code",
   "execution_count": 19,
   "id": "68dbbaae",
   "metadata": {},
   "outputs": [
    {
     "name": "stdout",
     "output_type": "stream",
     "text": [
      "Training Logistic Regression model...\n"
     ]
    }
   ],
   "source": [
    "# Train Logistic Regression model\n",
    "print(\"Training Logistic Regression model...\")\n",
    "start_time = time.time()\n",
    "\n",
    "# Define hyperparameters for grid search\n",
    "param_grid = {\n",
    "    'C': [0.1, 1.0, 10.0],  # Regularization parameter\n",
    "    'solver': ['liblinear', 'saga'],  # Solver algorithms\n",
    "    'max_iter': [100, 200]  # Maximum iterations\n",
    "}"
   ]
  },
  {
   "cell_type": "code",
   "execution_count": 20,
   "id": "b98286cb",
   "metadata": {},
   "outputs": [],
   "source": [
    "# Create the model\n",
    "lr_model = LogisticRegression(random_state=42)\n",
    "\n",
    "# Set up grid search with cross-validation\n",
    "grid_search = GridSearchCV(\n",
    "    lr_model, \n",
    "    param_grid, \n",
    "    cv=3,  # 3-fold cross-validation\n",
    "    scoring='f1_weighted',  # Optimize for F1 score\n",
    "    n_jobs=-1,  # Use all available cores\n",
    "    verbose=1\n",
    ")"
   ]
  },
  {
   "cell_type": "code",
   "execution_count": 21,
   "id": "e0687319",
   "metadata": {},
   "outputs": [
    {
     "name": "stdout",
     "output_type": "stream",
     "text": [
      "Fitting 3 folds for each of 12 candidates, totalling 36 fits\n",
      "Logistic Regression training completed in 7.93 seconds\n",
      "Best parameters: {'C': 10.0, 'max_iter': 100, 'solver': 'saga'}\n"
     ]
    }
   ],
   "source": [
    "# Fit the model\n",
    "grid_search.fit(X_train_tfidf, y_train)\n",
    "\n",
    "# Get the best model\n",
    "lr_best = grid_search.best_estimator_\n",
    "lr_training_time = time.time() - start_time\n",
    "\n",
    "print(f\"Logistic Regression training completed in {lr_training_time:.2f} seconds\")\n",
    "print(f\"Best parameters: {grid_search.best_params_}\")"
   ]
  },
  {
   "cell_type": "markdown",
   "id": "5681291c",
   "metadata": {},
   "source": [
    "For Logistic Regression, I perform hyperparameter optimization using grid search with cross-validation:\n",
    "- I explore different regularization strengths (`C`), which controls the model's complexity\n",
    "- I test different solver algorithms, which can affect convergence speed and solution quality\n",
    "- I vary the maximum number of iterations to ensure convergence\n",
    "- I use F1 score as the optimization metric because it balances precision and recall\n",
    "- I use 3-fold cross-validation to ensure robust parameter selection"
   ]
  },
  {
   "cell_type": "code",
   "execution_count": 22,
   "id": "f59f0296",
   "metadata": {},
   "outputs": [
    {
     "name": "stdout",
     "output_type": "stream",
     "text": [
      "Evaluating Logistic Regression on validation set...\n",
      "Validation inference time: 0.0025 seconds\n",
      "Validation accuracy: 0.9933\n",
      "Validation precision: 0.9933\n",
      "Validation recall: 0.9933\n",
      "Validation F1 score: 0.9933\n"
     ]
    }
   ],
   "source": [
    "# Evaluate Logistic Regression on validation set\n",
    "print(\"Evaluating Logistic Regression on validation set...\")\n",
    "start_time = time.time()\n",
    "lr_val_preds = lr_best.predict(X_val_tfidf)\n",
    "lr_val_time = time.time() - start_time\n",
    "\n",
    "# Calculate metrics\n",
    "lr_val_accuracy = accuracy_score(y_val, lr_val_preds)\n",
    "lr_val_precision, lr_val_recall, lr_val_f1, _ = precision_recall_fscore_support(\n",
    "    y_val, lr_val_preds, average='weighted'\n",
    ")\n",
    "\n",
    "print(f\"Validation inference time: {lr_val_time:.4f} seconds\")\n",
    "print(f\"Validation accuracy: {lr_val_accuracy:.4f}\")\n",
    "print(f\"Validation precision: {lr_val_precision:.4f}\")\n",
    "print(f\"Validation recall: {lr_val_recall:.4f}\")\n",
    "print(f\"Validation F1 score: {lr_val_f1:.4f}\")"
   ]
  },
  {
   "cell_type": "code",
   "execution_count": 23,
   "id": "7ff0a748",
   "metadata": {},
   "outputs": [
    {
     "name": "stdout",
     "output_type": "stream",
     "text": [
      "\n",
      "Evaluating Logistic Regression on test set...\n",
      "Test inference time: 0.0041 seconds\n",
      "Test accuracy: 0.9955\n",
      "Test precision: 0.9955\n",
      "Test recall: 0.9955\n",
      "Test F1 score: 0.9955\n"
     ]
    }
   ],
   "source": [
    "# Evaluate on test set\n",
    "print(\"\\nEvaluating Logistic Regression on test set...\")\n",
    "start_time = time.time()\n",
    "lr_test_preds = lr_best.predict(X_test_tfidf)\n",
    "lr_test_time = time.time() - start_time\n",
    "\n",
    "# Calculate metrics\n",
    "lr_test_accuracy = accuracy_score(y_test, lr_test_preds)\n",
    "lr_test_precision, lr_test_recall, lr_test_f1, _ = precision_recall_fscore_support(\n",
    "    y_test, lr_test_preds, average='weighted'\n",
    ")\n",
    "\n",
    "print(f\"Test inference time: {lr_test_time:.4f} seconds\")\n",
    "print(f\"Test accuracy: {lr_test_accuracy:.4f}\")\n",
    "print(f\"Test precision: {lr_test_precision:.4f}\")\n",
    "print(f\"Test recall: {lr_test_recall:.4f}\")\n",
    "print(f\"Test F1 score: {lr_test_f1:.4f}\")"
   ]
  },
  {
   "cell_type": "markdown",
   "id": "4bc00751",
   "metadata": {},
   "source": [
    "I evaluate the model on both validation and test sets, measuring:\n",
    "- Inference time, which is important for real-time applications\n",
    "- Accuracy, which measures overall correctness\n",
    "- Precision, which measures the proportion of positive identifications that were actually correct\n",
    "- Recall, which measures the proportion of actual positives that were identified correctly\n",
    "- F1 score, which is the harmonic mean of precision and recall"
   ]
  },
  {
   "cell_type": "code",
   "execution_count": 24,
   "id": "6babbc83",
   "metadata": {},
   "outputs": [
    {
     "data": {
      "image/png": "[encoded data removed]",
      "text/plain": [
       "<Figure size 800x600 with 2 Axes>"
      ]
     },
     "metadata": {},
     "output_type": "display_data"
    }
   ],
   "source": [
    "# Display confusion matrix\n",
    "lr_cm = confusion_matrix(y_test, lr_test_preds)\n",
    "plt.figure(figsize=(8, 6))\n",
    "sns.heatmap(lr_cm, annot=True, fmt='d', cmap='Blues', \n",
    "            xticklabels=['Fake News', 'Real News'],\n",
    "            yticklabels=['Fake News', 'Real News'])\n",
    "plt.xlabel('Predicted Label')\n",
    "plt.ylabel('True Label')\n",
    "plt.title('Logistic Regression Confusion Matrix')\n",
    "plt.tight_layout()\n",
    "plt.savefig('./figures/lr_confusion_matrix.png')\n",
    "plt.show()"
   ]
  },
  {
   "cell_type": "code",
   "execution_count": 25,
   "id": "395578d8",
   "metadata": {},
   "outputs": [
    {
     "name": "stdout",
     "output_type": "stream",
     "text": [
      "\n",
      "Classification Report:\n",
      "              precision    recall  f1-score   support\n",
      "\n",
      "   Fake News       1.00      0.99      1.00      3523\n",
      "   Real News       0.99      1.00      1.00      3212\n",
      "\n",
      "    accuracy                           1.00      6735\n",
      "   macro avg       1.00      1.00      1.00      6735\n",
      "weighted avg       1.00      1.00      1.00      6735\n",
      "\n"
     ]
    }
   ],
   "source": [
    "# Display classification report\n",
    "print(\"\\nClassification Report:\")\n",
    "print(classification_report(y_test, lr_test_preds, target_names=['Fake News', 'Real News']))"
   ]
  },
  {
   "cell_type": "markdown",
   "id": "1a01c8ad",
   "metadata": {},
   "source": [
    "I visualize the results using a confusion matrix and a detailed classification report. These provide insights into the model's performance across different classes and help identify any class-specific issues.\n",
    "\n",
    "### 6.2 Multinomial Naive Bayes"
   ]
  },
  {
   "cell_type": "code",
   "execution_count": 26,
   "id": "eea14977",
   "metadata": {},
   "outputs": [
    {
     "name": "stdout",
     "output_type": "stream",
     "text": [
      "Training Multinomial Naive Bayes model...\n"
     ]
    }
   ],
   "source": [
    "# Train Multinomial Naive Bayes model\n",
    "print(\"Training Multinomial Naive Bayes model...\")\n",
    "start_time = time.time()\n",
    "\n",
    "# Define hyperparameters for grid search\n",
    "param_grid = {\n",
    "    'alpha': [0.01, 0.1, 0.5, 1.0],  # Smoothing parameter\n",
    "}"
   ]
  },
  {
   "cell_type": "code",
   "execution_count": 27,
   "id": "cfcf0c47",
   "metadata": {},
   "outputs": [],
   "source": [
    "# Create the model\n",
    "nb_model = MultinomialNB()\n",
    "\n",
    "# Set up grid search with cross-validation\n",
    "grid_search = GridSearchCV(\n",
    "    nb_model, \n",
    "    param_grid, \n",
    "    cv=3,  # 3-fold cross-validation\n",
    "    scoring='f1_weighted',  # Optimize for F1 score\n",
    "    n_jobs=-1,  # Use all available cores\n",
    "    verbose=1\n",
    ")"
   ]
  },
  {
   "cell_type": "code",
   "execution_count": 28,
   "id": "809789e6",
   "metadata": {},
   "outputs": [
    {
     "name": "stdout",
     "output_type": "stream",
     "text": [
      "Fitting 3 folds for each of 4 candidates, totalling 12 fits\n",
      "Naive Bayes training completed in 0.32 seconds\n",
      "Best parameters: {'alpha': 0.01}\n"
     ]
    }
   ],
   "source": [
    "# Fit the model\n",
    "grid_search.fit(X_train_tfidf, y_train)\n",
    "\n",
    "# Get the best model\n",
    "nb_best = grid_search.best_estimator_\n",
    "nb_training_time = time.time() - start_time\n",
    "\n",
    "print(f\"Naive Bayes training completed in {nb_training_time:.2f} seconds\")\n",
    "print(f\"Best parameters: {grid_search.best_params_}\")"
   ]
  },
  {
   "cell_type": "markdown",
   "id": "c37e7783",
   "metadata": {},
   "source": [
    "For Multinomial Naive Bayes, I optimize the smoothing parameter (`alpha`), which handles the zero-frequency problem and controls the model's sensitivity to rare features. Naive Bayes is particularly efficient for text classification and often serves as a strong baseline despite its simplistic assumptions."
   ]
  },
  {
   "cell_type": "code",
   "execution_count": 29,
   "id": "d108cb61",
   "metadata": {},
   "outputs": [
    {
     "name": "stdout",
     "output_type": "stream",
     "text": [
      "Evaluating Naive Bayes on validation set...\n",
      "Validation inference time: 0.0074 seconds\n",
      "Validation accuracy: 0.9638\n",
      "Validation precision: 0.9638\n",
      "Validation recall: 0.9638\n",
      "Validation F1 score: 0.9638\n"
     ]
    }
   ],
   "source": [
    "# Evaluate Naive Bayes on validation set\n",
    "print(\"Evaluating Naive Bayes on validation set...\")\n",
    "start_time = time.time()\n",
    "nb_val_preds = nb_best.predict(X_val_tfidf)\n",
    "nb_val_time = time.time() - start_time\n",
    "\n",
    "# Calculate metrics\n",
    "nb_val_accuracy = accuracy_score(y_val, nb_val_preds)\n",
    "nb_val_precision, nb_val_recall, nb_val_f1, _ = precision_recall_fscore_support(\n",
    "    y_val, nb_val_preds, average='weighted'\n",
    ")\n",
    "\n",
    "print(f\"Validation inference time: {nb_val_time:.4f} seconds\")\n",
    "print(f\"Validation accuracy: {nb_val_accuracy:.4f}\")\n",
    "print(f\"Validation precision: {nb_val_precision:.4f}\")\n",
    "print(f\"Validation recall: {nb_val_recall:.4f}\")\n",
    "print(f\"Validation F1 score: {nb_val_f1:.4f}\")"
   ]
  },
  {
   "cell_type": "code",
   "execution_count": 30,
   "id": "b92700ef",
   "metadata": {},
   "outputs": [
    {
     "name": "stdout",
     "output_type": "stream",
     "text": [
      "\n",
      "Evaluating Naive Bayes on test set...\n",
      "Test inference time: 0.0066 seconds\n",
      "Test accuracy: 0.9642\n",
      "Test precision: 0.9642\n",
      "Test recall: 0.9642\n",
      "Test F1 score: 0.9642\n"
     ]
    }
   ],
   "source": [
    "# Evaluate on test set\n",
    "print(\"\\nEvaluating Naive Bayes on test set...\")\n",
    "start_time = time.time()\n",
    "nb_test_preds = nb_best.predict(X_test_tfidf)\n",
    "nb_test_time = time.time() - start_time\n",
    "\n",
    "# Calculate metrics\n",
    "nb_test_accuracy = accuracy_score(y_test, nb_test_preds)\n",
    "nb_test_precision, nb_test_recall, nb_test_f1, _ = precision_recall_fscore_support(\n",
    "    y_test, nb_test_preds, average='weighted'\n",
    ")\n",
    "\n",
    "print(f\"Test inference time: {nb_test_time:.4f} seconds\")\n",
    "print(f\"Test accuracy: {nb_test_accuracy:.4f}\")\n",
    "print(f\"Test precision: {nb_test_precision:.4f}\")\n",
    "print(f\"Test recall: {nb_test_recall:.4f}\")\n",
    "print(f\"Test F1 score: {nb_test_f1:.4f}\")"
   ]
  },
  {
   "cell_type": "code",
   "execution_count": 31,
   "id": "6a50b9e6",
   "metadata": {},
   "outputs": [
    {
     "data": {
      "image/png": "[encoded data removed]",
      "text/plain": [
       "<Figure size 800x600 with 2 Axes>"
      ]
     },
     "metadata": {},
     "output_type": "display_data"
    }
   ],
   "source": [
    "# Display confusion matrix\n",
    "nb_cm = confusion_matrix(y_test, nb_test_preds)\n",
    "plt.figure(figsize=(8, 6))\n",
    "sns.heatmap(nb_cm, annot=True, fmt='d', cmap='Blues', \n",
    "            xticklabels=['Fake News', 'Real News'],\n",
    "            yticklabels=['Fake News', 'Real News'])\n",
    "plt.xlabel('Predicted Label')\n",
    "plt.ylabel('True Label')\n",
    "plt.title('Naive Bayes Confusion Matrix')\n",
    "plt.tight_layout()\n",
    "plt.savefig('./figures/nb_confusion_matrix.png')\n",
    "plt.show()"
   ]
  },
  {
   "cell_type": "code",
   "execution_count": 32,
   "id": "98aa6c77",
   "metadata": {},
   "outputs": [
    {
     "name": "stdout",
     "output_type": "stream",
     "text": [
      "\n",
      "Classification Report:\n",
      "              precision    recall  f1-score   support\n",
      "\n",
      "   Fake News       0.96      0.97      0.97      3523\n",
      "   Real News       0.97      0.96      0.96      3212\n",
      "\n",
      "    accuracy                           0.96      6735\n",
      "   macro avg       0.96      0.96      0.96      6735\n",
      "weighted avg       0.96      0.96      0.96      6735\n",
      "\n"
     ]
    }
   ],
   "source": [
    "# Display classification report\n",
    "print(\"\\nClassification Report:\")\n",
    "print(classification_report(y_test, nb_test_preds, target_names=['Fake News', 'Real News']))"
   ]
  },
  {
   "cell_type": "markdown",
   "id": "cd488681",
   "metadata": {},
   "source": [
    "I evaluate Naive Bayes using the same comprehensive set of metrics and visualizations as for Logistic Regression, enabling direct comparison between the models.\n",
    "\n",
    "### 6.3 Linear Support Vector Machine (SVM)"
   ]
  },
  {
   "cell_type": "code",
   "execution_count": 33,
   "id": "3b5887ce",
   "metadata": {},
   "outputs": [
    {
     "name": "stdout",
     "output_type": "stream",
     "text": [
      "Training Linear SVM model...\n"
     ]
    }
   ],
   "source": [
    "# Train Linear SVM model\n",
    "print(\"Training Linear SVM model...\")\n",
    "start_time = time.time()\n",
    "\n",
    "# Define hyperparameters for grid search\n",
    "param_grid = {\n",
    "    'C': [0.1, 1.0, 10.0],  # Regularization parameter\n",
    "    'loss': ['hinge', 'squared_hinge'],  # Loss function\n",
    "    'max_iter': [1000]  # Maximum iterations\n",
    "}"
   ]
  },
  {
   "cell_type": "code",
   "execution_count": 34,
   "id": "260f1e62",
   "metadata": {},
   "outputs": [],
   "source": [
    "# Create the model\n",
    "svm_model = LinearSVC(random_state=42)\n",
    "\n",
    "# Set up grid search with cross-validation\n",
    "grid_search = GridSearchCV(\n",
    "    svm_model, \n",
    "    param_grid, \n",
    "    cv=3,  # 3-fold cross-validation\n",
    "    scoring='f1_weighted',  # Optimize for F1 score\n",
    "    n_jobs=-1,  # Use all available cores\n",
    "    verbose=1\n",
    ")"
   ]
  },
  {
   "cell_type": "code",
   "execution_count": 35,
   "id": "e5527380",
   "metadata": {},
   "outputs": [
    {
     "name": "stdout",
     "output_type": "stream",
     "text": [
      "Fitting 3 folds for each of 6 candidates, totalling 18 fits\n"
     ]
    },
    {
     "name": "stderr",
     "output_type": "stream",
     "text": [
      "/opt/miniconda3/lib/python3.12/site-packages/sklearn/svm/_base.py:1249: ConvergenceWarning: Liblinear failed to converge, increase the number of iterations.\n",
      "  warnings.warn(\n"
     ]
    },
    {
     "name": "stdout",
     "output_type": "stream",
     "text": [
      "Linear SVM training completed in 3.70 seconds\n",
      "Best parameters: {'C': 10.0, 'loss': 'squared_hinge', 'max_iter': 1000}\n"
     ]
    }
   ],
   "source": [
    "# Fit the model\n",
    "grid_search.fit(X_train_tfidf, y_train)\n",
    "\n",
    "# Get the best model\n",
    "svm_best = grid_search.best_estimator_\n",
    "svm_training_time = time.time() - start_time\n",
    "\n",
    "print(f\"Linear SVM training completed in {svm_training_time:.2f} seconds\")\n",
    "print(f\"Best parameters: {grid_search.best_params_}\")"
   ]
  },
  {
   "cell_type": "markdown",
   "id": "4c27fbcb",
   "metadata": {},
   "source": [
    "For Linear SVM, I optimize:\n",
    "- The regularization parameter (`C`), which controls the trade-off between achieving a low training error and a low testing error\n",
    "- The loss function, which determines how the model penalizes misclassifications\n",
    "- I set a high maximum iteration count to ensure convergence\n",
    "\n",
    "SVMs are particularly effective for text classification because they work well in high-dimensional spaces and can find optimal decision boundaries when classes are linearly separable."
   ]
  },
  {
   "cell_type": "code",
   "execution_count": 36,
   "id": "c06ee2c6",
   "metadata": {},
   "outputs": [
    {
     "name": "stdout",
     "output_type": "stream",
     "text": [
      "Evaluating Linear SVM on validation set...\n",
      "Validation inference time: 0.0022 seconds\n",
      "Validation accuracy: 0.9954\n",
      "Validation precision: 0.9954\n",
      "Validation recall: 0.9954\n",
      "Validation F1 score: 0.9954\n"
     ]
    }
   ],
   "source": [
    "# Evaluate Linear SVM on validation set\n",
    "print(\"Evaluating Linear SVM on validation set...\")\n",
    "start_time = time.time()\n",
    "svm_val_preds = svm_best.predict(X_val_tfidf)\n",
    "svm_val_time = time.time() - start_time\n",
    "\n",
    "# Calculate metrics\n",
    "svm_val_accuracy = accuracy_score(y_val, svm_val_preds)\n",
    "svm_val_precision, svm_val_recall, svm_val_f1, _ = precision_recall_fscore_support(\n",
    "    y_val, svm_val_preds, average='weighted'\n",
    ")\n",
    "\n",
    "print(f\"Validation inference time: {svm_val_time:.4f} seconds\")\n",
    "print(f\"Validation accuracy: {svm_val_accuracy:.4f}\")\n",
    "print(f\"Validation precision: {svm_val_precision:.4f}\")\n",
    "print(f\"Validation recall: {svm_val_recall:.4f}\")\n",
    "print(f\"Validation F1 score: {svm_val_f1:.4f}\")"
   ]
  },
  {
   "cell_type": "code",
   "execution_count": 37,
   "id": "64565c08",
   "metadata": {},
   "outputs": [
    {
     "name": "stdout",
     "output_type": "stream",
     "text": [
      "\n",
      "Evaluating Linear SVM on test set...\n",
      "Test inference time: 0.0023 seconds\n",
      "Test accuracy: 0.9976\n",
      "Test precision: 0.9976\n",
      "Test recall: 0.9976\n",
      "Test F1 score: 0.9976\n"
     ]
    }
   ],
   "source": [
    "# Evaluate on test set\n",
    "print(\"\\nEvaluating Linear SVM on test set...\")\n",
    "start_time = time.time()\n",
    "svm_test_preds = svm_best.predict(X_test_tfidf)\n",
    "svm_test_time = time.time() - start_time\n",
    "\n",
    "# Calculate metrics\n",
    "svm_test_accuracy = accuracy_score(y_test, svm_test_preds)\n",
    "svm_test_precision, svm_test_recall, svm_test_f1, _ = precision_recall_fscore_support(\n",
    "    y_test, svm_test_preds, average='weighted'\n",
    ")\n",
    "\n",
    "print(f\"Test inference time: {svm_test_time:.4f} seconds\")\n",
    "print(f\"Test accuracy: {svm_test_accuracy:.4f}\")\n",
    "print(f\"Test precision: {svm_test_precision:.4f}\")\n",
    "print(f\"Test recall: {svm_test_recall:.4f}\")\n",
    "print(f\"Test F1 score: {svm_test_f1:.4f}\")"
   ]
  },
  {
   "cell_type": "code",
   "execution_count": 38,
   "id": "9efa72c5",
   "metadata": {},
   "outputs": [
    {
     "data": {
      "image/png": "[encoded data removed]",
      "text/plain": [
       "<Figure size 800x600 with 2 Axes>"
      ]
     },
     "metadata": {},
     "output_type": "display_data"
    }
   ],
   "source": [
    "# Display confusion matrix\n",
    "svm_cm = confusion_matrix(y_test, svm_test_preds)\n",
    "plt.figure(figsize=(8, 6))\n",
    "sns.heatmap(svm_cm, annot=True, fmt='d', cmap='Blues', \n",
    "            xticklabels=['Fake News', 'Real News'],\n",
    "            yticklabels=['Fake News', 'Real News'])\n",
    "plt.xlabel('Predicted Label')\n",
    "plt.ylabel('True Label')\n",
    "plt.title('Linear SVM Confusion Matrix')\n",
    "plt.tight_layout()\n",
    "plt.savefig('./figures/svm_confusion_matrix.png')\n",
    "plt.show()"
   ]
  },
  {
   "cell_type": "code",
   "execution_count": 39,
   "id": "84b8fc6e",
   "metadata": {},
   "outputs": [
    {
     "name": "stdout",
     "output_type": "stream",
     "text": [
      "\n",
      "Classification Report:\n",
      "              precision    recall  f1-score   support\n",
      "\n",
      "   Fake News       1.00      1.00      1.00      3523\n",
      "   Real News       1.00      1.00      1.00      3212\n",
      "\n",
      "    accuracy                           1.00      6735\n",
      "   macro avg       1.00      1.00      1.00      6735\n",
      "weighted avg       1.00      1.00      1.00      6735\n",
      "\n"
     ]
    }
   ],
   "source": [
    "# Display classification report\n",
    "print(\"\\nClassification Report:\")\n",
    "print(classification_report(y_test, svm_test_preds, target_names=['Fake News', 'Real News']))"
   ]
  },
  {
   "cell_type": "markdown",
   "id": "8be2ba32",
   "metadata": {},
   "source": [
    "I evaluate the SVM model using the same comprehensive set of metrics and visualizations as for the other models.\n",
    "\n",
    "## 7. Model Comparison\n",
    "\n",
    "After training and evaluating all three models, I compare their performance:"
   ]
  },
  {
   "cell_type": "code",
   "execution_count": 40,
   "id": "ce131718",
   "metadata": {},
   "outputs": [
    {
     "name": "stdout",
     "output_type": "stream",
     "text": [
      "Model Comparison:\n"
     ]
    },
    {
     "data": {
      "text/html": [
       "<div>\n",
       "<style scoped>\n",
       "    .dataframe tbody tr th:only-of-type {\n",
       "        vertical-align: middle;\n",
       "    }\n",
       "\n",
       "    .dataframe tbody tr th {\n",
       "        vertical-align: top;\n",
       "    }\n",
       "\n",
       "    .dataframe thead th {\n",
       "        text-align: right;\n",
       "    }\n",
       "</style>\n",
       "<table border=\"1\" class=\"dataframe\">\n",
       "  <thead>\n",
       "    <tr style=\"text-align: right;\">\n",
       "      <th></th>\n",
       "      <th>Model</th>\n",
       "      <th>Accuracy</th>\n",
       "      <th>F1 Score</th>\n",
       "      <th>Precision</th>\n",
       "      <th>Recall</th>\n",
       "      <th>Training Time (s)</th>\n",
       "      <th>Inference Time (s)</th>\n",
       "    </tr>\n",
       "  </thead>\n",
       "  <tbody>\n",
       "    <tr>\n",
       "      <th>0</th>\n",
       "      <td>Logistic Regression</td>\n",
       "      <td>0.9955</td>\n",
       "      <td>0.9955</td>\n",
       "      <td>0.9955</td>\n",
       "      <td>0.9955</td>\n",
       "      <td>7.93</td>\n",
       "      <td>0.00</td>\n",
       "    </tr>\n",
       "    <tr>\n",
       "      <th>1</th>\n",
       "      <td>Naive Bayes</td>\n",
       "      <td>0.9642</td>\n",
       "      <td>0.9642</td>\n",
       "      <td>0.9642</td>\n",
       "      <td>0.9642</td>\n",
       "      <td>0.32</td>\n",
       "      <td>0.01</td>\n",
       "    </tr>\n",
       "    <tr>\n",
       "      <th>2</th>\n",
       "      <td>Linear SVM</td>\n",
       "      <td>0.9976</td>\n",
       "      <td>0.9976</td>\n",
       "      <td>0.9976</td>\n",
       "      <td>0.9976</td>\n",
       "      <td>3.70</td>\n",
       "      <td>0.00</td>\n",
       "    </tr>\n",
       "  </tbody>\n",
       "</table>\n",
       "</div>"
      ],
      "text/plain": [
       "                 Model  Accuracy  F1 Score  Precision  Recall  Training Time (s)  Inference Time (s)\n",
       "0  Logistic Regression    0.9955    0.9955     0.9955  0.9955               7.93                0.00\n",
       "1          Naive Bayes    0.9642    0.9642     0.9642  0.9642               0.32                0.01\n",
       "2           Linear SVM    0.9976    0.9976     0.9976  0.9976               3.70                0.00"
      ]
     },
     "execution_count": 40,
     "metadata": {},
     "output_type": "execute_result"
    }
   ],
   "source": [
    "# Create a comparison table\n",
    "models = ['Logistic Regression', 'Naive Bayes', 'Linear SVM']\n",
    "accuracy = [lr_test_accuracy, nb_test_accuracy, svm_test_accuracy]\n",
    "f1_scores = [lr_test_f1, nb_test_f1, svm_test_f1]\n",
    "precision = [lr_test_precision, nb_test_precision, svm_test_precision]\n",
    "recall = [lr_test_recall, nb_test_recall, svm_test_recall]\n",
    "training_times = [lr_training_time, nb_training_time, svm_training_time]\n",
    "inference_times = [lr_test_time, nb_test_time, svm_test_time]\n",
    "\n",
    "comparison_df = pd.DataFrame({\n",
    "    'Model': models,\n",
    "    'Accuracy': accuracy,\n",
    "    'F1 Score': f1_scores,\n",
    "    'Precision': precision,\n",
    "    'Recall': recall,\n",
    "    'Training Time (s)': training_times,\n",
    "    'Inference Time (s)': inference_times\n",
    "})\n",
    "\n",
    "# Format the numeric columns\n",
    "for col in comparison_df.columns[1:]:\n",
    "    if 'Time' in col:\n",
    "        comparison_df[col] = comparison_df[col].round(2)\n",
    "    else:\n",
    "        comparison_df[col] = comparison_df[col].round(4)\n",
    "\n",
    "print(\"Model Comparison:\")\n",
    "comparison_df"
   ]
  },
  {
   "cell_type": "code",
   "execution_count": 41,
   "id": "c1dc4e34",
   "metadata": {},
   "outputs": [
    {
     "data": {
      "image/png": "[encoded data removed]",
      "text/plain": [
       "<Figure size 1200x600 with 1 Axes>"
      ]
     },
     "metadata": {},
     "output_type": "display_data"
    }
   ],
   "source": [
    "# Visualize model performance comparison\n",
    "plt.figure(figsize=(12, 6))\n",
    "x = np.arange(len(models))\n",
    "width = 0.2\n",
    "\n",
    "plt.bar(x - width, accuracy, width, label='Accuracy')\n",
    "plt.bar(x, f1_scores, width, label='F1 Score')\n",
    "plt.bar(x + width, precision, width, label='Precision')\n",
    "\n",
    "plt.xlabel('Model')\n",
    "plt.ylabel('Score')\n",
    "plt.title('Model Performance Comparison')\n",
    "plt.xticks(x, models)\n",
    "plt.ylim(0.9, 1.0)  # Adjust as needed based on your results\n",
    "plt.legend()\n",
    "plt.tight_layout()\n",
    "plt.savefig('./figures/model_performance_comparison.png')\n",
    "plt.show()"
   ]
  },
  {
   "cell_type": "code",
   "execution_count": 42,
   "id": "7af079db",
   "metadata": {},
   "outputs": [
    {
     "data": {
      "image/png": "[encoded data removed]",
      "text/plain": [
       "<Figure size 1200x600 with 1 Axes>"
      ]
     },
     "metadata": {},
     "output_type": "display_data"
    }
   ],
   "source": [
    "# Visualize training and inference times (log scale)\n",
    "plt.figure(figsize=(12, 6))\n",
    "x = np.arange(len(models))\n",
    "width = 0.35\n",
    "\n",
    "plt.bar(x - width/2, training_times, width, label='Training Time (s)')\n",
    "plt.bar(x + width/2, inference_times, width, label='Inference Time (s)')\n",
    "\n",
    "plt.xlabel('Model')\n",
    "plt.ylabel('Time (seconds, log scale)')\n",
    "plt.title('Model Efficiency Comparison')\n",
    "plt.xticks(x, models)\n",
    "plt.yscale('log')  # Use log scale for better visualization\n",
    "plt.legend()\n",
    "plt.tight_layout()\n",
    "plt.savefig('./figures/model_efficiency_comparison.png')\n",
    "plt.show()"
   ]
  },
  {
   "cell_type": "markdown",
   "id": "250b1830",
   "metadata": {},
   "source": [
    "I create both tabular and visual comparisons of the models' performance and efficiency. This helps identify the best model for different criteria:\n",
    "- Performance metrics (accuracy, F1 score, precision, recall)\n",
    "- Computational efficiency (training time, inference time)\n",
    "\n",
    "The log scale for time visualization is particularly useful because training and inference times can differ by orders of magnitude.\n",
    "\n",
    "## 8. Feature Importance Analysis\n",
    "\n",
    "To understand what features (words/phrases) are most influential in the classification decision, I analyze the coefficients of the Logistic Regression model:"
   ]
  },
  {
   "cell_type": "code",
   "execution_count": 43,
   "id": "b12aa13a",
   "metadata": {},
   "outputs": [
    {
     "name": "stdout",
     "output_type": "stream",
     "text": [
      "\n",
      "Top 20 features associated with Real News:\n",
      "                    Feature  Coefficient  Abs_Coefficient\n",
      "36851                  said    27.342025        27.342025\n",
      "35770               reuters    21.696906        21.696906\n",
      "47749            washington    15.384481        15.384481\n",
      "48045             wednesday    11.232854        11.232854\n",
      "32519      president donald    11.102758        11.102758\n",
      "45645               tuesday     9.836507         9.836507\n",
      "43657              thursday     9.800203         9.800203\n",
      "16050                friday     8.685948         8.685948\n",
      "26569                monday     7.864895         7.864895\n",
      "23973                london     7.656416         7.656416\n",
      "47791  washington president     7.651080         7.651080\n",
      "28419                   nov     7.262888         7.262888\n",
      "26255              minister     6.738686         6.738686\n",
      "35224        representative     6.646595         6.646595\n",
      "37496        said statement     6.497556         6.497556\n",
      "32495      president barack     6.250184         6.250184\n",
      "35272            republican     6.019708         6.019708\n",
      "41326             statement     5.945255         5.945255\n",
      "37539         said thursday     5.631968         5.631968\n",
      "27981       news conference     5.438432         5.438432\n",
      "\n",
      "Top 20 features associated with Fake News:\n",
      "               Feature  Coefficient  Abs_Coefficient\n",
      "46800              via   -21.485561        21.485561\n",
      "46910            video   -14.605724        14.605724\n",
      "34160             read   -13.707958        13.707958\n",
      "32645  president trump   -11.749985        11.749985\n",
      "17142              gop    -9.620676         9.620676\n",
      "19605            image    -9.491397         9.491397\n",
      "28592            obama    -9.467722         9.467722\n",
      "4861          breaking    -9.122179         9.122179\n",
      "26904               mr    -7.863174         7.863174\n",
      "1676           america    -7.790686         7.790686\n",
      "47832            watch    -7.787074         7.787074\n",
      "14623   featured image    -7.453052         7.453052\n",
      "38682              sen    -7.436308         7.436308\n",
      "14622         featured    -7.204872         7.204872\n",
      "18753          hillary    -7.115912         7.115912\n",
      "1744          american    -6.903660         6.903660\n",
      "13630             even    -6.714348         6.714348\n",
      "32594  president obama    -6.683862         6.683862\n",
      "35020              rep    -6.632463         6.632463\n",
      "19625        image via    -6.590187         6.590187\n"
     ]
    },
    {
     "data": {
      "image/png": "[encoded data removed]",
      "text/plain": [
       "<Figure size 1200x800 with 2 Axes>"
      ]
     },
     "metadata": {},
     "output_type": "display_data"
    }
   ],
   "source": [
    "# Get feature names\n",
    "feature_names = tfidf_vectorizer.get_feature_names_out()\n",
    "\n",
    "# For Logistic Regression, analyze coefficients\n",
    "if hasattr(lr_best, 'coef_'):\n",
    "    # Get coefficients\n",
    "    coefficients = lr_best.coef_[0]\n",
    "    \n",
    "    # Create a DataFrame of features and their coefficients\n",
    "    coef_df = pd.DataFrame({\n",
    "        'Feature': feature_names,\n",
    "        'Coefficient': coefficients\n",
    "    })\n",
    "    \n",
    "    # Sort by absolute coefficient value\n",
    "    coef_df['Abs_Coefficient'] = coef_df['Coefficient'].abs()\n",
    "    coef_df = coef_df.sort_values('Abs_Coefficient', ascending=False)\n",
    "    \n",
    "    # Display top positive and negative coefficients\n",
    "    print(\"\\nTop 20 features associated with Real News:\")\n",
    "    print(coef_df[coef_df['Coefficient'] > 0].head(20))\n",
    "    \n",
    "    print(\"\\nTop 20 features associated with Fake News:\")\n",
    "    print(coef_df[coef_df['Coefficient'] < 0].head(20))\n",
    "    \n",
    "    # Visualize top features\n",
    "    plt.figure(figsize=(12, 8))\n",
    "    \n",
    "    # Top positive coefficients (Real News)\n",
    "    plt.subplot(2, 1, 1)\n",
    "    top_positive = coef_df[coef_df['Coefficient'] > 0].head(15)\n",
    "    sns.barplot(x='Coefficient', y='Feature', data=top_positive)\n",
    "    plt.title('Top Features Associated with Real News')\n",
    "    plt.tight_layout()\n",
    "    \n",
    "    # Top negative coefficients (Fake News)\n",
    "    plt.subplot(2, 1, 2)\n",
    "    top_negative = coef_df[coef_df['Coefficient'] < 0].head(15)\n",
    "    sns.barplot(x='Coefficient', y='Feature', data=top_negative)\n",
    "    plt.title('Top Features Associated with Fake News')\n",
    "    \n",
    "    plt.tight_layout()\n",
    "    plt.savefig('./figures/feature_importance.png')\n",
    "    plt.show()"
   ]
  },
  {
   "cell_type": "markdown",
   "id": "59218aa5",
   "metadata": {},
   "source": [
    "This feature importance analysis provides valuable insights into what linguistic patterns the model has learned to associate with real versus fake news. This can help:\n",
    "- Understand the model's decision-making process\n",
    "- Identify potential biases in the dataset\n",
    "- Compare with the patterns that transformer models might learn\n",
    "\n",
    "## 9. Error Analysis\n",
    "\n",
    "To understand where the models struggle, I analyze the misclassified examples:"
   ]
  },
  {
   "cell_type": "code",
   "execution_count": 44,
   "id": "e7d6c41a",
   "metadata": {},
   "outputs": [
    {
     "name": "stdout",
     "output_type": "stream",
     "text": [
      "\n",
      "Number of misclassified examples by SVM: 16 out of 6735 (0.24%)\n",
      "\n",
      "Sample of misclassified examples:\n",
      "\n",
      "Example 1:\n",
      "True label: Real News, Predicted label: Fake News\n",
      "Title: U.S. State Department appoints Fox News anchor as spokeswoman\n",
      "Text excerpt: WASHINGTON - Former Fox News anchor and correspondent Heather Nauert will be the new U.S. State Department spokeswoman, the State Department said in a statement on Monday. Nauert was most recently an ...\n",
      "\n",
      "Example 2:\n",
      "True label: Fake News, Predicted label: Real News\n",
      "Title: BREAKING: ELECTRONICS BANNED on Some U.S. Flights From Middle East…List of 9 Airlines and Airports Affected\n",
      "Text excerpt: COULD IT BE THAT EXPERT BOMB MAKER Ibrahim al-Asiri is trying to use an electronic device to take down a jet?Ibrahim al-Asiri has a long track record of bombing including trying to blow up a Detroit-b...\n",
      "\n",
      "Example 3:\n",
      "True label: Fake News, Predicted label: Real News\n",
      "Title: LIVE FEED: HEARING FOR SENATOR SESSIONS To Include Radical Corey Booker Speaking Against Sessions…Unprecedented!\n",
      "Text excerpt: Member Statements Senator Chuck Grassley R (IA) Witnesses Introducers The Honorable Richard Shelby United States Senator State of AlabamaThe Honorable Susan Collins United States Senator State of Main...\n",
      "\n",
      "Example 4:\n",
      "True label: Real News, Predicted label: Fake News\n",
      "Title: Obama trolls Trump over 'mean tweet' on late night TV\n",
      "Text excerpt: (This October 24 story has been refiled to say “go” instead of “do” in second paragraph) By Roberta Rampton LOS ANGELES - President Barack Obama on Monday trolled Republican presidential candidate Don...\n",
      "\n",
      "Example 5:\n",
      "True label: Fake News, Predicted label: Real News\n",
      "Title: THE U.S. IMPORTS MORE AFRICAN REFUGEES AS PLAGUE SPREADS THERE: Caused By Tradition Of Dancing With Corpses [Video]\n",
      "Text excerpt: One of the fastest growing groups of refugees coming to the U.S. are coming from Africa According to the Center for immigration studies:The sending countries with the largest percentage increases in t...\n"
     ]
    }
   ],
   "source": [
    "# Analyze misclassifications for the best model (SVM)\n",
    "misclassified_indices = np.where(svm_test_preds != y_test)[0]\n",
    "print(f\"\\nNumber of misclassified examples by SVM: {len(misclassified_indices)} out of {len(y_test)} ({len(misclassified_indices)/len(y_test)*100:.2f}%)\")\n",
    "\n",
    "if len(misclassified_indices) > 0:\n",
    "    # Display a few misclassified examples\n",
    "    print(\"\\nSample of misclassified examples:\")\n",
    "    for i, idx in enumerate(misclassified_indices[:5]):  # Show first 5 misclassifications\n",
    "        true_label = \"Real News\" if y_test.iloc[idx] == 1 else \"Fake News\"\n",
    "        pred_label = \"Real News\" if svm_test_preds[idx] == 1 else \"Fake News\"\n",
    "        \n",
    "        print(f\"\\nExample {i+1}:\")\n",
    "        print(f\"True label: {true_label}, Predicted label: {pred_label}\")\n",
    "        print(f\"Title: {test_df['title'].iloc[idx]}\")\n",
    "        print(f\"Text excerpt: {test_df['enhanced_cleaned_text'].iloc[idx][:200]}...\")"
   ]
  },
  {
   "cell_type": "markdown",
   "id": "7f8568b6",
   "metadata": {},
   "source": [
    "This error analysis helps identify patterns in misclassifications, which can inform future improvements to the model or preprocessing steps.\n",
    "\n",
    "## 10. Save Models for Future Use\n",
    "\n",
    "To enable future use and comparison, I save the best-performing models:"
   ]
  },
  {
   "cell_type": "code",
   "execution_count": 45,
   "id": "729348a0",
   "metadata": {},
   "outputs": [
    {
     "name": "stdout",
     "output_type": "stream",
     "text": [
      "\n",
      "Saving models and vectorizer...\n",
      "Models and vectorizer saved successfully.\n"
     ]
    }
   ],
   "source": [
    "# Save the best models and vectorizer\n",
    "print(\"\\nSaving models and vectorizer...\")\n",
    "os.makedirs('models', exist_ok=True)\n",
    "\n",
    "joblib.dump(lr_best, '../ml_models/logistic_regression_model.joblib')\n",
    "joblib.dump(nb_best, '../ml_models/naive_bayes_model.joblib')\n",
    "joblib.dump(svm_best, '../ml_models/linear_svm_model.joblib')\n",
    "joblib.dump(tfidf_vectorizer, '../ml_models/tfidf_vectorizer.joblib')\n",
    "\n",
    "print(\"Models and vectorizer saved successfully.\")"
   ]
  },
  {
   "cell_type": "markdown",
   "id": "a11db604",
   "metadata": {},
   "source": [
    "Saving the models allows for:\n",
    "- Easy deployment in production environments\n",
    "- Consistent evaluation against new data\n",
    "- Direct comparison with transformer models in future analyses\n",
    "\n",
    "## 11. Conclusion and Implications for Transformer Models"
   ]
  },
  {
   "cell_type": "code",
   "execution_count": 46,
   "id": "7f51054b",
   "metadata": {},
   "outputs": [
    {
     "name": "stdout",
     "output_type": "stream",
     "text": [
      "\n",
      "=== Conclusion ===\n",
      "The traditional machine learning baselines demonstrate excellent performance on the ISOT fake news dataset:\n",
      "- Best model (Linear SVM): 0.9976 accuracy, 0.9976 F1 score\n",
      "- Training time: 3.70 seconds\n",
      "- Inference time: 0.0023 seconds per test set\n",
      "\n",
      "These results provide a strong benchmark for comparing with transformer-based approaches.\n",
      "For transformer models to demonstrate value, they should either:\n",
      "1. Show improved performance on the small percentage of examples that traditional ML models misclassify\n",
      "2. Demonstrate better generalization to out-of-distribution examples\n",
      "3. Provide additional insights through their attention mechanisms\n",
      "4. Maintain comparable performance with less feature engineering\n"
     ]
    }
   ],
   "source": [
    "print(\"\\n=== Conclusion ===\")\n",
    "print(\"The traditional machine learning baselines demonstrate excellent performance on the ISOT fake news dataset:\")\n",
    "print(f\"- Best model (Linear SVM): {svm_test_accuracy:.4f} accuracy, {svm_test_f1:.4f} F1 score\")\n",
    "print(f\"- Training time: {svm_training_time:.2f} seconds\")\n",
    "print(f\"- Inference time: {svm_test_time:.4f} seconds per test set\")\n",
    "print(\"\\nThese results provide a strong benchmark for comparing with transformer-based approaches.\")\n",
    "print(\"For transformer models to demonstrate value, they should either:\")\n",
    "print(\"1. Show improved performance on the small percentage of examples that traditional ML models misclassify\")\n",
    "print(\"2. Demonstrate better generalization to out-of-distribution examples\")\n",
    "print(\"3. Provide additional insights through their attention mechanisms\")\n",
    "print(\"4. Maintain comparable performance with less feature engineering\")"
   ]
  },
  {
   "cell_type": "markdown",
   "id": "0d4386cc",
   "metadata": {},
   "source": [
    "This conclusion summarizes the key findings and sets expectations for the transformer models. The traditional ML baselines achieve remarkably high performance with minimal computational resources, which raises the bar for what would constitute a meaningful improvement from more complex models.\n",
    "\n",
    "The implications for transformer models are significant:\n",
    "1. They need to demonstrate value beyond just classification accuracy\n",
    "2. Their higher computational cost needs to be justified by other benefits\n",
    "3. They might be more valuable in scenarios with less feature engineering or more complex linguistic patterns\n",
    "\n",
    "This baseline establishes the foundation for our comparative evaluation of lightweight pretrained transformer models for fake news detection."
   ]
  }
 ],
 "metadata": {
  "jupytext": {
   "cell_metadata_filter": "-all",
   "main_language": "python",
   "notebook_metadata_filter": "-all"
  },
  "kernelspec": {
   "display_name": "Python (myenv)",
   "language": "python",
   "name": "myenv"
  },
  "language_info": {
   "codemirror_mode": {
    "name": "ipython",
    "version": 3
   },
   "file_extension": ".py",
   "mimetype": "text/x-python",
   "name": "python",
   "nbconvert_exporter": "python",
   "pygments_lexer": "ipython3",
   "version": "3.12.1"
  }
 },
 "nbformat": 4,
 "nbformat_minor": 5
}
