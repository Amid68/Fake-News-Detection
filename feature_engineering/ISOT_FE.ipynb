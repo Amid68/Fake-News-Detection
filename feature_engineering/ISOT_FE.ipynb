{
 "cells": [
  {
   "cell_type": "markdown",
   "id": "86a23914",
   "metadata": {},
   "source": [
    "# ISOT Fake News Dataset - Feature Engineering and Data Preparation\n",
    "\n",
    "In this notebook, I'm building on my earlier exploratory data analysis where I identified several potential biases in the ISOT dataset. My goal is to develop a robust feature engineering approach that helps models distinguish between fake and real news based on genuine stylistic and content differences rather than dataset-specific artifacts.\n",
    "\n",
    "The challenge with this dataset is that most legitimate news comes from Reuters and contains specific markers like \"(Reuters)\" that could create artificial signals. I need to carefully remove these patterns while preserving real journalistic style differences. Through thoughtful feature engineering, I hope to uncover what actually characterizes fake versus real news beyond just the obvious dataset markers.\n",
    "\n",
    "## 1. Setup and Data Loading\n",
    "\n",
    "First, I'll import the necessary libraries and load our datasets."
   ]
  },
  {
   "cell_type": "code",
   "execution_count": 73,
   "id": "8a8326da",
   "metadata": {},
   "outputs": [
    {
     "name": "stderr",
     "output_type": "stream",
     "text": [
      "[nltk_data] Downloading package stopwords to /Users/amid/nltk_data...\n",
      "[nltk_data]   Package stopwords is already up-to-date!\n",
      "[nltk_data] Downloading package punkt to /Users/amid/nltk_data...\n",
      "[nltk_data]   Package punkt is already up-to-date!\n"
     ]
    }
   ],
   "source": [
    "# Import necessary libraries\n",
    "import pandas as pd\n",
    "import numpy as np\n",
    "import matplotlib.pyplot as plt\n",
    "import seaborn as sns\n",
    "import re\n",
    "from collections import Counter\n",
    "import string\n",
    "from wordcloud import WordCloud\n",
    "from sklearn.feature_extraction.text import CountVectorizer, TfidfVectorizer\n",
    "import nltk\n",
    "from nltk.corpus import stopwords\n",
    "nltk.download('stopwords')\n",
    "nltk.download('punkt')\n",
    "from sklearn.model_selection import train_test_split\n",
    "import warnings\n",
    "warnings.filterwarnings('ignore')"
   ]
  },
  {
   "cell_type": "code",
   "execution_count": 74,
   "id": "942a6add",
   "metadata": {},
   "outputs": [],
   "source": [
    "# Set plot style\n",
    "plt.style.use('ggplot')\n",
    "sns.set(font_scale=1.2)\n",
    "sns.set_style(\"whitegrid\")"
   ]
  },
  {
   "cell_type": "code",
   "execution_count": 75,
   "id": "b510781a",
   "metadata": {},
   "outputs": [],
   "source": [
    "# Display options\n",
    "pd.set_option('display.max_columns', None)\n",
    "pd.set_option('display.max_rows', 20)\n",
    "pd.set_option('display.width', 1000)\n",
    "pd.set_option('display.max_colwidth', 200)"
   ]
  },
  {
   "cell_type": "markdown",
   "id": "d2cff247",
   "metadata": {},
   "source": [
    "Now I'll load the datasets and the basic cleaned versions from the first notebook (if available), or recreate them:"
   ]
  },
  {
   "cell_type": "code",
   "execution_count": 76,
   "id": "eef2c940",
   "metadata": {},
   "outputs": [
    {
     "name": "stdout",
     "output_type": "stream",
     "text": [
      "Loaded previously cleaned datasets\n"
     ]
    }
   ],
   "source": [
    "# Try to load previously saved datasets or load raw data\n",
    "try:\n",
    "    # Try to load datasets with basic cleaning already applied\n",
    "    true_news = pd.read_csv('./datasets/true_news_basic_cleaned.csv')\n",
    "    fake_news = pd.read_csv('./datasets/fake_news_basic_cleaned.csv')\n",
    "    print(\"Loaded previously cleaned datasets\")\n",
    "except:\n",
    "    # If not available, load raw data and perform basic cleaning\n",
    "    print(\"Loading raw datasets\")\n",
    "    true_news = pd.read_csv('../data/ISOT/True.csv')\n",
    "    fake_news = pd.read_csv('../data/ISOT/Fake.csv')\n",
    "    \n",
    "    # Basic cleaning function\n",
    "    def clean_text(text, patterns_to_remove=None):\n",
    "        \"\"\"\n",
    "        Clean text by removing specified patterns\n",
    "        \n",
    "        Args:\n",
    "            text: Text to clean\n",
    "            patterns_to_remove: List of regex patterns to remove\n",
    "        \n",
    "        Returns:\n",
    "            Cleaned text\n",
    "        \"\"\"\n",
    "        if not isinstance(text, str):\n",
    "            return \"\"\n",
    "        \n",
    "        cleaned_text = text\n",
    "        \n",
    "        if patterns_to_remove:\n",
    "            for pattern in patterns_to_remove:\n",
    "                cleaned_text = re.sub(pattern, '', cleaned_text)\n",
    "        \n",
    "        # Remove extra whitespace\n",
    "        cleaned_text = re.sub(r'\\s+', ' ', cleaned_text).strip()\n",
    "        \n",
    "        return cleaned_text\n",
    "\n",
    "    # Apply basic cleaning\n",
    "    true_news['cleaned_text'] = true_news['text'].apply(lambda x: clean_text(x, [r'\\(Reuters\\)']))\n",
    "    fake_news['cleaned_text'] = fake_news['text'].apply(lambda x: clean_text(x, []))\n",
    "    \n",
    "    # Save basic cleaned versions for future use\n",
    "    true_news.to_csv('./datasets/true_news_basic_cleaned.csv', index=False)\n",
    "    fake_news.to_csv('./datasets/fake_news_basic_cleaned.csv', index=False)"
   ]
  },
  {
   "cell_type": "code",
   "execution_count": 77,
   "id": "11b46ef4",
   "metadata": {},
   "outputs": [],
   "source": [
    "# Add text length as a feature if not present\n",
    "if 'text_length' not in true_news.columns:\n",
    "    true_news['text_length'] = true_news['text'].apply(lambda x: len(str(x)))\n",
    "    fake_news['text_length'] = fake_news['text'].apply(lambda x: len(str(x)))"
   ]
  },
  {
   "cell_type": "code",
   "execution_count": 78,
   "id": "8c54896b",
   "metadata": {},
   "outputs": [],
   "source": [
    "# Add labels if not present\n",
    "if 'label' not in true_news.columns:\n",
    "    true_news['label'] = 'Real'\n",
    "    fake_news['label'] = 'Fake'"
   ]
  },
  {
   "cell_type": "code",
   "execution_count": 79,
   "id": "8925e758",
   "metadata": {},
   "outputs": [
    {
     "name": "stdout",
     "output_type": "stream",
     "text": [
      "True News Dataset Shape: (21417, 7)\n",
      "Fake News Dataset Shape: (23481, 7)\n"
     ]
    }
   ],
   "source": [
    "# Display basic info about the datasets\n",
    "print(\"True News Dataset Shape:\", true_news.shape)\n",
    "print(\"Fake News Dataset Shape:\", fake_news.shape)"
   ]
  },
  {
   "cell_type": "markdown",
   "id": "0de74ccc",
   "metadata": {},
   "source": [
    "## 2. Enhanced Data Cleaning\n",
    "\n",
    "Based on our exploratory analysis, I'll create an enhanced cleaning function that removes identified biases while preserving legitimate signals:"
   ]
  },
  {
   "cell_type": "code",
   "execution_count": 80,
   "id": "eff87acd",
   "metadata": {},
   "outputs": [],
   "source": [
    "# Enhanced cleaning function\n",
    "def enhanced_clean_text(text, is_true_news=True):\n",
    "    \"\"\"\n",
    "    Enhanced cleaning to remove bias-inducing patterns while preserving legitimate signals\n",
    "    \n",
    "    Args:\n",
    "        text: Text to clean\n",
    "        is_true_news: Whether the text is from true news (affects which patterns are removed)\n",
    "    \n",
    "    Returns:\n",
    "        Cleaned text\n",
    "    \"\"\"\n",
    "    if not isinstance(text, str):\n",
    "        return \"\"\n",
    "    \n",
    "    cleaned_text = text\n",
    "    \n",
    "    if is_true_news:\n",
    "        # For true news, remove Reuters tag but preserve location\n",
    "        cleaned_text = re.sub(r'(\\b[A-Z]+(?:\\s[A-Z]+)*)\\s*\\(Reuters\\)', r'\\1', cleaned_text)\n",
    "        \n",
    "        # Remove other potentially biasing source markers specific to true news\n",
    "        for source in ['(SPD)', '(FDP)', '(AfD)', '(CDU)', '(SDF)', '(KRG)', '(NAFTA)', '(PKK)']:\n",
    "            cleaned_text = re.sub(re.escape(source), '', cleaned_text)\n",
    "    else:\n",
    "        # For fake news, remove patterns like (ACR) that are specific to fake news\n",
    "        for source in ['(ACR)', '(s)', '(id)', '(a)', '(R)', '(D)']:\n",
    "            cleaned_text = re.sub(re.escape(source), '', cleaned_text)\n",
    "            \n",
    "        # Remove links that are common in fake news\n",
    "        cleaned_text = re.sub(r'https?://\\S+', '', cleaned_text)\n",
    "        \n",
    "        # Remove specific phrases highly associated with fake news sources\n",
    "        fake_phrases = [\n",
    "            'Tune in to the Alternate Current Radio',\n",
    "            '21st Century Wire',\n",
    "            'Featured Image'\n",
    "        ]\n",
    "        for phrase in fake_phrases:\n",
    "            cleaned_text = cleaned_text.replace(phrase, '')\n",
    "    \n",
    "    # Common cleaning for both types\n",
    "    # Remove extra whitespace\n",
    "    cleaned_text = re.sub(r'\\s+', ' ', cleaned_text).strip()\n",
    "    \n",
    "    return cleaned_text"
   ]
  },
  {
   "cell_type": "code",
   "execution_count": 81,
   "id": "dae7f7ab",
   "metadata": {},
   "outputs": [],
   "source": [
    "# Apply enhanced cleaning\n",
    "true_news['enhanced_cleaned_text'] = true_news['text'].apply(lambda x: enhanced_clean_text(x, is_true_news=True))\n",
    "fake_news['enhanced_cleaned_text'] = fake_news['text'].apply(lambda x: enhanced_clean_text(x, is_true_news=False))"
   ]
  },
  {
   "cell_type": "code",
   "execution_count": 82,
   "id": "c39df9e9",
   "metadata": {},
   "outputs": [
    {
     "name": "stdout",
     "output_type": "stream",
     "text": [
      "Sample of enhanced cleaned true news:\n",
      "\n",
      "Original text beginning: WASHINGTON (Reuters) - The head of a conservative Republican faction in the U.S. Congress, who voted\n",
      "Basic cleaned text: WASHINGTON - The head of a conservative Republican faction in the U.S. Congress, who voted this mont\n",
      "Enhanced cleaned text: WASHINGTON - The head of a conservative Republican faction in the U.S. Congress, who voted this mont\n",
      "\n",
      "Original text beginning: WASHINGTON (Reuters) - Transgender people will be allowed for the first time to enlist in the U.S. m\n",
      "Basic cleaned text: WASHINGTON - Transgender people will be allowed for the first time to enlist in the U.S. military st\n",
      "Enhanced cleaned text: WASHINGTON - Transgender people will be allowed for the first time to enlist in the U.S. military st\n"
     ]
    }
   ],
   "source": [
    "# Verify enhanced cleaning worked\n",
    "print(\"Sample of enhanced cleaned true news:\")\n",
    "for i in range(2):\n",
    "    print(f\"\\nOriginal text beginning: {true_news['text'].iloc[i][:100]}\")\n",
    "    print(f\"Basic cleaned text: {true_news['cleaned_text'].iloc[i][:100]}\")\n",
    "    print(f\"Enhanced cleaned text: {true_news['enhanced_cleaned_text'].iloc[i][:100]}\")"
   ]
  },
  {
   "cell_type": "code",
   "execution_count": 83,
   "id": "7d69cd6f",
   "metadata": {},
   "outputs": [
    {
     "name": "stdout",
     "output_type": "stream",
     "text": [
      "\n",
      "Sample of enhanced cleaned fake news:\n",
      "\n",
      "Original text beginning: Donald Trump just couldn t wish all Americans a Happy New Year and leave it at that. Instead, he had\n",
      "Basic cleaned text: Donald Trump just couldn t wish all Americans a Happy New Year and leave it at that. Instead, he had\n",
      "Enhanced cleaned text: Donald Trump just couldn t wish all Americans a Happy New Year and leave it at that. Instead, he had\n",
      "\n",
      "Original text beginning: House Intelligence Committee Chairman Devin Nunes is going to have a bad day. He s been under the as\n",
      "Basic cleaned text: House Intelligence Committee Chairman Devin Nunes is going to have a bad day. He s been under the as\n",
      "Enhanced cleaned text: House Intelligence Committee Chairman Devin Nunes is going to have a bad day. He s been under the as\n"
     ]
    }
   ],
   "source": [
    "print(\"\\nSample of enhanced cleaned fake news:\")\n",
    "for i in range(2):\n",
    "    print(f\"\\nOriginal text beginning: {fake_news['text'].iloc[i][:100]}\")\n",
    "    print(f\"Basic cleaned text: {fake_news['cleaned_text'].iloc[i][:100]}\")\n",
    "    print(f\"Enhanced cleaned text: {fake_news['enhanced_cleaned_text'].iloc[i][:100]}\")"
   ]
  },
  {
   "cell_type": "markdown",
   "id": "5da4b9ff",
   "metadata": {},
   "source": [
    "### Why My Cleaning Approach Matters\n",
    "\n",
    "In real-world scenarios, a fake news detector won't have the luxury of relying on source markers like \"(Reuters)\" - it needs to identify deceptive content based on substantive characteristics.\n",
    "\n",
    "I've taken particular care to:\n",
    "1. Remove obvious markers while preserving legitimate stylistic elements like location datelines\n",
    "2. Apply balanced cleaning across both datasets to ensure fair comparison\n",
    "3. Create a foundation that will generalize to new data beyond this specific corpus\n",
    "\n",
    "This nuanced approach gives me a better foundation for feature engineering than simplistic cleaning that might leave in telltale patterns.\n",
    "\n",
    "## 3. Feature Engineering\n",
    "\n",
    "Now I'll develop features that capture legitimate stylistic and content differences between real and fake news:"
   ]
  },
  {
   "cell_type": "code",
   "execution_count": 84,
   "id": "66cec654",
   "metadata": {},
   "outputs": [],
   "source": [
    "# Function to engineer features\n",
    "def engineer_features(df, text_column):\n",
    "    \"\"\"\n",
    "    Engineer features for classification\n",
    "    \n",
    "    Args:\n",
    "        df: DataFrame containing the text data\n",
    "        text_column: Name of the column containing cleaned text\n",
    "        \n",
    "    Returns:\n",
    "        DataFrame with additional features\n",
    "    \"\"\"\n",
    "    # Copy the DataFrame to avoid modifying the original\n",
    "    result_df = df.copy()\n",
    "    \n",
    "    # Text length features\n",
    "    result_df['text_length'] = result_df[text_column].apply(len)\n",
    "    result_df['word_count'] = result_df[text_column].apply(lambda x: len(str(x).split()))\n",
    "    result_df['avg_word_length'] = result_df[text_column].apply(\n",
    "        lambda x: np.mean([len(w) for w in str(x).split()]) if len(str(x).split()) > 0 else 0\n",
    "    )\n",
    "    result_df['sentence_count'] = result_df[text_column].apply(lambda x: len(re.findall(r'[.!?]+', str(x))) + 1)\n",
    "    result_df['avg_sentence_length'] = result_df['word_count'] / result_df['sentence_count']\n",
    "    \n",
    "    # Citation features\n",
    "    result_df['said_count'] = result_df[text_column].apply(lambda x: str(x).lower().count(' said '))\n",
    "    result_df['told_count'] = result_df[text_column].apply(lambda x: str(x).lower().count(' told '))\n",
    "    result_df['according_to_count'] = result_df[text_column].apply(lambda x: str(x).lower().count('according to'))\n",
    "    result_df['quote_count'] = result_df[text_column].apply(lambda x: str(x).count('\"'))\n",
    "    \n",
    "    # Normalize citation counts by text length\n",
    "    result_df['said_per_1000_words'] = result_df['said_count'] * 1000 / result_df['word_count']\n",
    "    result_df['quotes_per_1000_words'] = result_df['quote_count'] * 1000 / result_df['word_count']\n",
    "    \n",
    "    # Location features\n",
    "    result_df['has_location'] = result_df[text_column].apply(\n",
    "        lambda x: bool(re.match(r'^[A-Z]+(?:\\s[A-Z]+)*\\s+-', str(x)))\n",
    "    )\n",
    "    \n",
    "    # Emotional language features\n",
    "    emotional_words = ['believe', 'think', 'feel', 'opinion', 'incredible', 'amazing', 'terrible', 'horrible']\n",
    "    result_df['emotional_word_count'] = result_df[text_column].apply(\n",
    "        lambda x: sum(str(x).lower().count(' ' + word + ' ') for word in emotional_words)\n",
    "    )\n",
    "    result_df['emotional_per_1000_words'] = result_df['emotional_word_count'] * 1000 / result_df['word_count']\n",
    "    \n",
    "    # Question and exclamation features\n",
    "    result_df['question_count'] = result_df[text_column].apply(lambda x: str(x).count('?'))\n",
    "    result_df['exclamation_count'] = result_df[text_column].apply(lambda x: str(x).count('!'))\n",
    "    result_df['question_exclamation_per_1000_words'] = (result_df['question_count'] + result_df['exclamation_count']) * 1000 / result_df['word_count']\n",
    "    \n",
    "    # Pronoun usage (indicates formality/informality)\n",
    "    first_person = ['i', 'we', 'our', 'us', 'my']\n",
    "    second_person = ['you', 'your', 'yours']\n",
    "    \n",
    "    result_df['first_person_count'] = result_df[text_column].apply(\n",
    "        lambda x: sum(str(x).lower().count(' ' + word + ' ') for word in first_person)\n",
    "    )\n",
    "    result_df['second_person_count'] = result_df[text_column].apply(\n",
    "        lambda x: sum(str(x).lower().count(' ' + word + ' ') for word in second_person)\n",
    "    )\n",
    "    \n",
    "    result_df['first_person_per_1000_words'] = result_df['first_person_count'] * 1000 / result_df['word_count']\n",
    "    result_df['second_person_per_1000_words'] = result_df['second_person_count'] * 1000 / result_df['word_count']\n",
    "    \n",
    "    # Policy coverage features\n",
    "    policy_areas = {\n",
    "        'economy': ['economy', 'economic', 'tax', 'budget', 'deficit', 'gdp', 'inflation', 'unemployment', 'jobs', 'trade'],\n",
    "        'healthcare': ['healthcare', 'health', 'obamacare', 'insurance', 'hospital', 'medical', 'medicare', 'medicaid'],\n",
    "        'immigration': ['immigration', 'immigrant', 'border', 'refugee', 'asylum', 'visa', 'deportation'],\n",
    "        'foreign_policy': ['foreign', 'diplomatic', 'embassy', 'sanctions', 'treaty', 'international', 'relations'],\n",
    "        'environment': ['environment', 'climate', 'pollution', 'emissions', 'epa', 'warming', 'renewable', 'carbon']\n",
    "    }\n",
    "    \n",
    "    for area, terms in policy_areas.items():\n",
    "        result_df[f'{area}_count'] = result_df[text_column].apply(\n",
    "            lambda x: sum(str(x).lower().count(' ' + term + ' ') for term in terms)\n",
    "        )\n",
    "        result_df[f'{area}_per_1000_words'] = result_df[f'{area}_count'] * 1000 / result_df['word_count']\n",
    "    \n",
    "    return result_df"
   ]
  },
  {
   "cell_type": "code",
   "execution_count": 85,
   "id": "4fad5d2a",
   "metadata": {},
   "outputs": [],
   "source": [
    "# Apply feature engineering to both datasets\n",
    "true_news_features = engineer_features(true_news, 'enhanced_cleaned_text')\n",
    "fake_news_features = engineer_features(fake_news, 'enhanced_cleaned_text')"
   ]
  },
  {
   "cell_type": "code",
   "execution_count": 86,
   "id": "afd0b5c7",
   "metadata": {},
   "outputs": [],
   "source": [
    "# Get a list of all engineered features\n",
    "feature_columns = [col for col in true_news_features.columns \n",
    "                  if col not in ['title', 'text', 'subject', 'date', 'cleaned_text', 'enhanced_cleaned_text']]"
   ]
  },
  {
   "cell_type": "code",
   "execution_count": 87,
   "id": "aea506e9",
   "metadata": {},
   "outputs": [
    {
     "name": "stdout",
     "output_type": "stream",
     "text": [
      "\n",
      "Feature statistics for True News:\n",
      "                                      mean          std\n",
      "text_length                    2365.543027  1679.237226\n",
      "word_count                      384.765980   274.038348\n",
      "avg_word_length                   5.159852     0.261931\n",
      "sentence_count                   21.801233    15.912271\n",
      "avg_sentence_length              17.978341     4.760765\n",
      "...                                    ...          ...\n",
      "immigration_per_1000_words        0.910725     3.301516\n",
      "foreign_policy_count              0.985199     1.969442\n",
      "foreign_policy_per_1000_words     2.954578     6.271201\n",
      "environment_count                 0.173927     1.207913\n",
      "environment_per_1000_words        0.412954     2.724981\n",
      "\n",
      "[30 rows x 2 columns]\n"
     ]
    }
   ],
   "source": [
    "# Display summary statistics for the engineered features\n",
    "print(\"\\nFeature statistics for True News:\")\n",
    "print(true_news_features[feature_columns].describe().transpose()[['mean', 'std']])"
   ]
  },
  {
   "cell_type": "code",
   "execution_count": 88,
   "id": "5fae52e4",
   "metadata": {},
   "outputs": [
    {
     "name": "stdout",
     "output_type": "stream",
     "text": [
      "\n",
      "Feature statistics for Fake News:\n",
      "                                      mean          std\n",
      "text_length                    2526.356927  2516.888565\n",
      "word_count                      422.673566   408.049293\n",
      "avg_word_length                   4.814384     0.969869\n",
      "sentence_count                   23.439249    21.517830\n",
      "avg_sentence_length              17.782822     6.266311\n",
      "...                                    ...          ...\n",
      "immigration_per_1000_words        0.618969     2.908075\n",
      "foreign_policy_count              0.319620     1.219033\n",
      "foreign_policy_per_1000_words     0.664558     2.604566\n",
      "environment_count                 0.134832     1.151828\n",
      "environment_per_1000_words        0.317995     2.497391\n",
      "\n",
      "[30 rows x 2 columns]\n"
     ]
    }
   ],
   "source": [
    "print(\"\\nFeature statistics for Fake News:\")\n",
    "print(fake_news_features[feature_columns].describe().transpose()[['mean', 'std']])"
   ]
  },
  {
   "cell_type": "markdown",
   "id": "f77e2996",
   "metadata": {},
   "source": [
    "Let's visualize the differences in key features between real and fake news:"
   ]
  },
  {
   "cell_type": "code",
   "execution_count": 89,
   "id": "7b04d7fc",
   "metadata": {},
   "outputs": [],
   "source": [
    "# Select important features for visualization\n",
    "key_features = [\n",
    "    'said_per_1000_words', \n",
    "    'quotes_per_1000_words', \n",
    "    'emotional_per_1000_words',\n",
    "    'question_exclamation_per_1000_words',\n",
    "    'first_person_per_1000_words',\n",
    "    'second_person_per_1000_words'\n",
    "]"
   ]
  },
  {
   "cell_type": "code",
   "execution_count": 90,
   "id": "30cfc1f2",
   "metadata": {},
   "outputs": [],
   "source": [
    "# Create a combined dataset for visualization\n",
    "combined_features = pd.concat([\n",
    "    true_news_features[key_features + ['label']],\n",
    "    fake_news_features[key_features + ['label']]\n",
    "]).reset_index(drop=True)  # Reset the index to avoid duplicates"
   ]
  },
  {
   "cell_type": "code",
   "execution_count": 91,
   "id": "57fa076c",
   "metadata": {},
   "outputs": [
    {
     "data": {
      "image/png": "[encoded data removed]",
      "text/plain": [
       "<Figure size 1800x1000 with 6 Axes>"
      ]
     },
     "metadata": {},
     "output_type": "display_data"
    }
   ],
   "source": [
    "# Create a figure with subplots\n",
    "fig, axes = plt.subplots(2, 3, figsize=(18, 10))\n",
    "axes = axes.flatten()\n",
    "\n",
    "# Plot each feature\n",
    "for i, feature in enumerate(key_features):\n",
    "    sns.boxplot(x='label', y=feature, data=combined_features, ax=axes[i])\n",
    "    axes[i].set_title(f'Distribution of {feature}')\n",
    "\n",
    "plt.tight_layout()\n",
    "plt.savefig('./figures/key_features_comparison.png')\n",
    "plt.show()"
   ]
  },
  {
   "cell_type": "markdown",
   "id": "ca3727db",
   "metadata": {},
   "source": [
    "### The Features I'm Engineering and Why\n",
    "\n",
    "I'm focusing on structural and stylistic elements that should theoretically differentiate professional journalism from fake news:\n",
    "\n",
    "- **Text structure features**: Article composition metrics like length and sentence structure\n",
    "- **Citation patterns**: Professional journalism typically has rigorous sourcing\n",
    "- **Emotional markers**: To detect opinion insertion common in fake news  \n",
    "- **Formality indicators**: Real news tends to use third-person voice\n",
    "- **Policy coverage depth**: Fake news often skims complex topics\n",
    "\n",
    "The visualizations show clear differences in these patterns - real news consistently uses more attributions while fake news employs more emotional language and direct reader address.\n",
    "\n",
    "## 4. Text Vectorization with TF-IDF\n",
    "\n",
    "Let's also create text features using TF-IDF vectorization as an alternative approach:"
   ]
  },
  {
   "cell_type": "code",
   "execution_count": 92,
   "id": "36ea1667",
   "metadata": {},
   "outputs": [],
   "source": [
    "# Function to create TF-IDF vectors\n",
    "def create_tfidf_vectors(true_texts, fake_texts, max_features=5000):\n",
    "    \"\"\"\n",
    "    Create TF-IDF vectors for text classification\n",
    "    \n",
    "    Args:\n",
    "        true_texts: Series of true news texts\n",
    "        fake_texts: Series of fake news texts\n",
    "        max_features: Maximum number of features to keep\n",
    "        \n",
    "    Returns:\n",
    "        TF-IDF vectorizer and vectors for both datasets\n",
    "    \"\"\"\n",
    "    # Combine texts for fitting the vectorizer\n",
    "    all_texts = pd.concat([true_texts, fake_texts])\n",
    "    \n",
    "    # Initialize TF-IDF vectorizer\n",
    "    vectorizer = TfidfVectorizer(\n",
    "        max_features=max_features,\n",
    "        min_df=5,\n",
    "        max_df=0.9,\n",
    "        ngram_range=(1, 2),\n",
    "        stop_words='english'\n",
    "    )\n",
    "    \n",
    "    # Fit and transform all texts\n",
    "    all_vectors = vectorizer.fit_transform(all_texts)\n",
    "    \n",
    "    # Split vectors back into true and fake\n",
    "    true_vectors = all_vectors[:len(true_texts)]\n",
    "    fake_vectors = all_vectors[len(true_texts):]\n",
    "    \n",
    "    return vectorizer, true_vectors, fake_vectors"
   ]
  },
  {
   "cell_type": "code",
   "execution_count": 93,
   "id": "58c0b313",
   "metadata": {},
   "outputs": [],
   "source": [
    "# Create TF-IDF vectors\n",
    "vectorizer, true_vectors, fake_vectors = create_tfidf_vectors(\n",
    "    true_news_features['enhanced_cleaned_text'],\n",
    "    fake_news_features['enhanced_cleaned_text']\n",
    ")"
   ]
  },
  {
   "cell_type": "code",
   "execution_count": 94,
   "id": "82454159",
   "metadata": {},
   "outputs": [
    {
     "name": "stdout",
     "output_type": "stream",
     "text": [
      "TF-IDF vectors created with 5000 features\n",
      "True news vectors shape: (21417, 5000)\n",
      "Fake news vectors shape: (23481, 5000)\n"
     ]
    }
   ],
   "source": [
    "print(f\"TF-IDF vectors created with {true_vectors.shape[1]} features\")\n",
    "print(f\"True news vectors shape: {true_vectors.shape}\")\n",
    "print(f\"Fake news vectors shape: {fake_vectors.shape}\")"
   ]
  },
  {
   "cell_type": "code",
   "execution_count": 95,
   "id": "3dba9794",
   "metadata": {},
   "outputs": [],
   "source": [
    "# Get the top features (words/phrases) by their IDF scores\n",
    "feature_names = vectorizer.get_feature_names_out()\n",
    "idf_scores = vectorizer.idf_\n",
    "feature_idf = sorted(zip(feature_names, idf_scores), key=lambda x: x[1])"
   ]
  },
  {
   "cell_type": "code",
   "execution_count": 96,
   "id": "c6d07508",
   "metadata": {},
   "outputs": [
    {
     "name": "stdout",
     "output_type": "stream",
     "text": [
      "\n",
      "Top 10 most common terms (lowest IDF):\n",
      "- said: 1.3128\n",
      "- president: 1.6438\n",
      "- trump: 1.7077\n",
      "- people: 1.8450\n",
      "- donald: 1.8907\n",
      "- donald trump: 1.9059\n",
      "- new: 2.0455\n",
      "- told: 2.0895\n",
      "- just: 2.1017\n",
      "- state: 2.1404\n"
     ]
    }
   ],
   "source": [
    "print(\"\\nTop 10 most common terms (lowest IDF):\")\n",
    "for feature, score in feature_idf[:10]:\n",
    "    print(f\"- {feature}: {score:.4f}\")"
   ]
  },
  {
   "cell_type": "code",
   "execution_count": 97,
   "id": "9559ba5b",
   "metadata": {},
   "outputs": [
    {
     "name": "stdout",
     "output_type": "stream",
     "text": [
      "\n",
      "Top 10 most rare terms (highest IDF):\n",
      "- ailes: 7.0872\n",
      "- coulter: 7.0872\n",
      "- zuma: 7.1478\n",
      "- mnangagwa: 7.1689\n",
      "- odinga: 7.1904\n",
      "- conyers: 7.2578\n",
      "- anc: 7.3055\n",
      "- finicum: 7.5850\n",
      "- 2016 realdonaldtrump: 7.6178\n",
      "- amp: 8.7677\n"
     ]
    }
   ],
   "source": [
    "print(\"\\nTop 10 most rare terms (highest IDF):\")\n",
    "for feature, score in feature_idf[-10:]:\n",
    "    print(f\"- {feature}: {score:.4f}\")"
   ]
  },
  {
   "cell_type": "markdown",
   "id": "67701a15",
   "metadata": {},
   "source": [
    "## 5. Preparing Final Datasets for Model Fine-tuning\n",
    "\n",
    "Now I'll prepare the final datasets for model fine-tuning, including train/validation/test splits:"
   ]
  },
  {
   "cell_type": "code",
   "execution_count": 98,
   "id": "20cba88f",
   "metadata": {},
   "outputs": [],
   "source": [
    "# Create final dataset with enhanced cleaning\n",
    "# Adding the label column (1 for true, 0 for fake)\n",
    "true_news_final = true_news[['title', 'enhanced_cleaned_text']].copy()\n",
    "true_news_final['label'] = 1  # 1 for real news\n",
    "\n",
    "fake_news_final = fake_news[['title', 'enhanced_cleaned_text']].copy()\n",
    "fake_news_final['label'] = 0  # 0 for fake news"
   ]
  },
  {
   "cell_type": "code",
   "execution_count": 99,
   "id": "2b37a2a4",
   "metadata": {},
   "outputs": [],
   "source": [
    "# Combine datasets\n",
    "combined_final = pd.concat([true_news_final, fake_news_final], axis=0, ignore_index=True)"
   ]
  },
  {
   "cell_type": "code",
   "execution_count": 100,
   "id": "0c8b848f",
   "metadata": {},
   "outputs": [],
   "source": [
    "# Shuffle the dataset\n",
    "combined_final = combined_final.sample(frac=1, random_state=42).reset_index(drop=True)"
   ]
  },
  {
   "cell_type": "code",
   "execution_count": 101,
   "id": "5957e475",
   "metadata": {},
   "outputs": [
    {
     "name": "stdout",
     "output_type": "stream",
     "text": [
      "Class distribution:\n",
      "label\n",
      "0    23481\n",
      "1    21417\n",
      "Name: count, dtype: int64\n",
      "Class balance: label\n",
      "0    0.522985\n",
      "1    0.477015\n",
      "Name: proportion, dtype: float64\n"
     ]
    }
   ],
   "source": [
    "# Check class balance\n",
    "print(\"Class distribution:\")\n",
    "print(combined_final['label'].value_counts())\n",
    "print(f\"Class balance: {combined_final['label'].value_counts(normalize=True)}\")"
   ]
  },
  {
   "cell_type": "code",
   "execution_count": 102,
   "id": "7862223c",
   "metadata": {},
   "outputs": [
    {
     "name": "stdout",
     "output_type": "stream",
     "text": [
      "Final dataset saved as 'fake_news_preprocessed.csv'\n"
     ]
    }
   ],
   "source": [
    "# Save the final dataset\n",
    "combined_final.to_csv('./datasets/fake_news_preprocessed.csv', index=False)\n",
    "print(\"Final dataset saved as 'fake_news_preprocessed.csv'\")"
   ]
  },
  {
   "cell_type": "code",
   "execution_count": 103,
   "id": "7f4f0198",
   "metadata": {},
   "outputs": [],
   "source": [
    "# Create train, validation, and test splits\n",
    "train_df, temp_df = train_test_split(combined_final, test_size=0.3, random_state=42, stratify=combined_final['label'])\n",
    "val_df, test_df = train_test_split(temp_df, test_size=0.5, random_state=42, stratify=temp_df['label'])"
   ]
  },
  {
   "cell_type": "code",
   "execution_count": 104,
   "id": "520a4c2e",
   "metadata": {},
   "outputs": [
    {
     "name": "stdout",
     "output_type": "stream",
     "text": [
      "Dataset splits:\n",
      "Training set: 31428 samples (70.0%)\n",
      "Validation set: 6735 samples (15.0%)\n",
      "Test set: 6735 samples (15.0%)\n"
     ]
    }
   ],
   "source": [
    "print(\"Dataset splits:\")\n",
    "print(f\"Training set: {len(train_df)} samples ({len(train_df)/len(combined_final)*100:.1f}%)\")\n",
    "print(f\"Validation set: {len(val_df)} samples ({len(val_df)/len(combined_final)*100:.1f}%)\")\n",
    "print(f\"Test set: {len(test_df)} samples ({len(test_df)/len(combined_final)*100:.1f}%)\")"
   ]
  },
  {
   "cell_type": "code",
   "execution_count": 105,
   "id": "858c2317",
   "metadata": {},
   "outputs": [
    {
     "name": "stdout",
     "output_type": "stream",
     "text": [
      "Train, validation, and test sets saved to CSV files\n"
     ]
    }
   ],
   "source": [
    "# Save the splits\n",
    "train_df.to_csv('./datasets/train_fake_news.csv', index=False)\n",
    "val_df.to_csv('./datasets/val_fake_news.csv', index=False)\n",
    "test_df.to_csv('./datasets/test_fake_news.csv', index=False)\n",
    "print(\"Train, validation, and test sets saved to CSV files\")"
   ]
  },
  {
   "cell_type": "markdown",
   "id": "0d0b615d",
   "metadata": {},
   "source": [
    "### What I've Learned From This Analysis\n",
    "\n",
    "This feature engineering process has taught me several important lessons about fake news detection:\n",
    "\n",
    "1. **Citation patterns matter**: The way information is attributed is a powerful signal - real news consistently attributes information to sources.\n",
    "\n",
    "2. **Writing style differences are quantifiable**: Metrics like sentence length, question usage, and emotional language can be effectively quantified and used as features.\n",
    "\n",
    "3. **Topic coverage depth varies**: Real news tends to provide more substantive coverage of policy areas, especially economic topics.\n",
    "\n",
    "4. **Dataset-specific patterns require careful handling**: Removing obvious markers like \"(Reuters)\" is important, but there may be subtle patterns that still require attention.\n",
    "\n",
    "I believe these findings have implications beyond just this dataset. The journalistic conventions around attribution, formal language, and depth of coverage are likely consistent across many legitimate news sources, while their absence may be common across various forms of fake or deceptive content.\n",
    "\n",
    "## 6. Recommendations for Fine-tuning Transformer Models\n",
    "\n",
    "Based on my feature engineering analysis, here are recommendations for fine-tuning DistilBERT and TinyBERT models:\n",
    "\n",
    "1. **Focus on citation patterns**: The models should learn to identify attribution patterns typical in professional reporting\n",
    "\n",
    "2. **Pay attention to question/exclamation frequency**: These punctuation marks appear to be strong signals of fake news\n",
    "\n",
    "3. **Consider emotional language**: Real news tends to use more neutral language compared to the emotional language in fake news\n",
    "\n",
    "4. **Use the prepared datasets**: The cleaned and split datasets are now ready for model fine-tuning\n",
    "\n",
    "5. **Ensure generalization**: Test the models on external datasets to verify they're learning general patterns rather than dataset-specific markers\n",
    "\n",
    "6. **Consider hybrid approaches**: It may be beneficial to combine transformer models with engineered features for optimal performance\n",
    "\n",
    "The prepared datasets eliminate obvious dataset artifacts while preserving the genuine linguistic differences between real and fake news, providing a solid foundation for transformer model fine-tuning.\n",
    "\n",
    "## 7. Summary\n",
    "\n",
    "In this notebook, I've:\n",
    "\n",
    "1. Enhanced data cleaning to remove identified biases while preserving legitimate signals\n",
    "2. Engineered comprehensive features capturing stylistic and content differences\n",
    "3. Created TF-IDF vector representations as an alternative approach\n",
    "4. Prepared balanced datasets for model fine-tuning\n",
    "5. Provided recommendations for transformer model training\n",
    "\n",
    "The next step will be to use these prepared datasets to fine-tune DistilBERT and TinyBERT models, evaluating their performance on both in-domain and out-of-domain test sets to assess their generalization capabilities."
   ]
  }
 ],
 "metadata": {
  "jupytext": {
   "cell_metadata_filter": "-all",
   "main_language": "python",
   "notebook_metadata_filter": "-all"
  },
  "kernelspec": {
   "display_name": "Python (myenv)",
   "language": "python",
   "name": "myenv"
  },
  "language_info": {
   "codemirror_mode": {
    "name": "ipython",
    "version": 3
   },
   "file_extension": ".py",
   "mimetype": "text/x-python",
   "name": "python",
   "nbconvert_exporter": "python",
   "pygments_lexer": "ipython3",
   "version": "3.12.1"
  }
 },
 "nbformat": 4,
 "nbformat_minor": 5
}
