{
  "cells": [
    {
      "cell_type": "markdown",
      "metadata": {
        "id": "W6dU_D-igHSA"
      },
      "source": [
        "# Fake News Detection using DistilBERT\n",
        "\n",
        "This project implements a lightweight fake news detector using DistilBERT. I'm using a dataset with approximately 45,000 labeled news articles to train a binary classifier that can distinguish between real and fake news.\n",
        "\n",
        "## Objectives\n",
        "- Train a transformer-based model for reliable fake news detection\n",
        "- Evaluate model performance on standard metrics\n",
        "- Measure resource usage (memory and processing time)\n",
        "- Create code for integration with my Django web application"
      ]
    },
    {
      "cell_type": "markdown",
      "metadata": {
        "id": "kFN4-GaIgHSD"
      },
      "source": [
        "## Setup\n",
        "\n",
        "Installing required packages and importing necessary libraries."
      ]
    },
    {
      "cell_type": "code",
      "execution_count": 1,
      "metadata": {
        "ExecuteTime": {
          "end_time": "2025-05-03T12:12:30.179012Z",
          "start_time": "2025-05-03T12:12:29.099850Z"
        },
        "colab": {
          "base_uri": "https://localhost:8080/"
        },
        "id": "Nfo683zQgHSD",
        "outputId": "c758ef2f-4cf7-4b7b-e63d-472f905c5141"
      },
      "outputs": [
        {
          "output_type": "stream",
          "name": "stdout",
          "text": [
            "Requirement already satisfied: torch in /usr/local/lib/python3.11/dist-packages (2.6.0+cu124)\n",
            "Requirement already satisfied: transformers in /usr/local/lib/python3.11/dist-packages (4.51.3)\n",
            "Requirement already satisfied: datasets in /usr/local/lib/python3.11/dist-packages (3.5.1)\n",
            "Requirement already satisfied: scikit-learn in /usr/local/lib/python3.11/dist-packages (1.6.1)\n",
            "Requirement already satisfied: pandas in /usr/local/lib/python3.11/dist-packages (2.2.2)\n",
            "Requirement already satisfied: numpy in /usr/local/lib/python3.11/dist-packages (2.0.2)\n",
            "Requirement already satisfied: matplotlib in /usr/local/lib/python3.11/dist-packages (3.10.0)\n",
            "Requirement already satisfied: seaborn in /usr/local/lib/python3.11/dist-packages (0.13.2)\n",
            "Requirement already satisfied: psutil in /usr/local/lib/python3.11/dist-packages (5.9.5)\n",
            "Requirement already satisfied: tqdm in /usr/local/lib/python3.11/dist-packages (4.67.1)\n",
            "Requirement already satisfied: accelerate in /usr/local/lib/python3.11/dist-packages (1.6.0)\n",
            "Requirement already satisfied: nltk in /usr/local/lib/python3.11/dist-packages (3.9.1)\n",
            "Requirement already satisfied: filelock in /usr/local/lib/python3.11/dist-packages (from torch) (3.18.0)\n",
            "Requirement already satisfied: typing-extensions>=4.10.0 in /usr/local/lib/python3.11/dist-packages (from torch) (4.13.2)\n",
            "Requirement already satisfied: networkx in /usr/local/lib/python3.11/dist-packages (from torch) (3.4.2)\n",
            "Requirement already satisfied: jinja2 in /usr/local/lib/python3.11/dist-packages (from torch) (3.1.6)\n",
            "Requirement already satisfied: fsspec in /usr/local/lib/python3.11/dist-packages (from torch) (2025.3.0)\n",
            "Requirement already satisfied: nvidia-cuda-nvrtc-cu12==12.4.127 in /usr/local/lib/python3.11/dist-packages (from torch) (12.4.127)\n",
            "Requirement already satisfied: nvidia-cuda-runtime-cu12==12.4.127 in /usr/local/lib/python3.11/dist-packages (from torch) (12.4.127)\n",
            "Requirement already satisfied: nvidia-cuda-cupti-cu12==12.4.127 in /usr/local/lib/python3.11/dist-packages (from torch) (12.4.127)\n",
            "Requirement already satisfied: nvidia-cudnn-cu12==9.1.0.70 in /usr/local/lib/python3.11/dist-packages (from torch) (9.1.0.70)\n",
            "Requirement already satisfied: nvidia-cublas-cu12==12.4.5.8 in /usr/local/lib/python3.11/dist-packages (from torch) (12.4.5.8)\n",
            "Requirement already satisfied: nvidia-cufft-cu12==11.2.1.3 in /usr/local/lib/python3.11/dist-packages (from torch) (11.2.1.3)\n",
            "Requirement already satisfied: nvidia-curand-cu12==10.3.5.147 in /usr/local/lib/python3.11/dist-packages (from torch) (10.3.5.147)\n",
            "Requirement already satisfied: nvidia-cusolver-cu12==11.6.1.9 in /usr/local/lib/python3.11/dist-packages (from torch) (11.6.1.9)\n",
            "Requirement already satisfied: nvidia-cusparse-cu12==12.3.1.170 in /usr/local/lib/python3.11/dist-packages (from torch) (12.3.1.170)\n",
            "Requirement already satisfied: nvidia-cusparselt-cu12==0.6.2 in /usr/local/lib/python3.11/dist-packages (from torch) (0.6.2)\n",
            "Requirement already satisfied: nvidia-nccl-cu12==2.21.5 in /usr/local/lib/python3.11/dist-packages (from torch) (2.21.5)\n",
            "Requirement already satisfied: nvidia-nvtx-cu12==12.4.127 in /usr/local/lib/python3.11/dist-packages (from torch) (12.4.127)\n",
            "Requirement already satisfied: nvidia-nvjitlink-cu12==12.4.127 in /usr/local/lib/python3.11/dist-packages (from torch) (12.4.127)\n",
            "Requirement already satisfied: triton==3.2.0 in /usr/local/lib/python3.11/dist-packages (from torch) (3.2.0)\n",
            "Requirement already satisfied: sympy==1.13.1 in /usr/local/lib/python3.11/dist-packages (from torch) (1.13.1)\n",
            "Requirement already satisfied: mpmath<1.4,>=1.1.0 in /usr/local/lib/python3.11/dist-packages (from sympy==1.13.1->torch) (1.3.0)\n",
            "Requirement already satisfied: huggingface-hub<1.0,>=0.30.0 in /usr/local/lib/python3.11/dist-packages (from transformers) (0.30.2)\n",
            "Requirement already satisfied: packaging>=20.0 in /usr/local/lib/python3.11/dist-packages (from transformers) (24.2)\n",
            "Requirement already satisfied: pyyaml>=5.1 in /usr/local/lib/python3.11/dist-packages (from transformers) (6.0.2)\n",
            "Requirement already satisfied: regex!=2019.12.17 in /usr/local/lib/python3.11/dist-packages (from transformers) (2024.11.6)\n",
            "Requirement already satisfied: requests in /usr/local/lib/python3.11/dist-packages (from transformers) (2.32.3)\n",
            "Requirement already satisfied: tokenizers<0.22,>=0.21 in /usr/local/lib/python3.11/dist-packages (from transformers) (0.21.1)\n",
            "Requirement already satisfied: safetensors>=0.4.3 in /usr/local/lib/python3.11/dist-packages (from transformers) (0.5.3)\n",
            "Requirement already satisfied: pyarrow>=15.0.0 in /usr/local/lib/python3.11/dist-packages (from datasets) (18.1.0)\n",
            "Requirement already satisfied: dill<0.3.9,>=0.3.0 in /usr/local/lib/python3.11/dist-packages (from datasets) (0.3.8)\n",
            "Requirement already satisfied: xxhash in /usr/local/lib/python3.11/dist-packages (from datasets) (3.5.0)\n",
            "Requirement already satisfied: multiprocess<0.70.17 in /usr/local/lib/python3.11/dist-packages (from datasets) (0.70.16)\n",
            "Requirement already satisfied: aiohttp in /usr/local/lib/python3.11/dist-packages (from datasets) (3.11.15)\n",
            "Requirement already satisfied: scipy>=1.6.0 in /usr/local/lib/python3.11/dist-packages (from scikit-learn) (1.15.2)\n",
            "Requirement already satisfied: joblib>=1.2.0 in /usr/local/lib/python3.11/dist-packages (from scikit-learn) (1.4.2)\n",
            "Requirement already satisfied: threadpoolctl>=3.1.0 in /usr/local/lib/python3.11/dist-packages (from scikit-learn) (3.6.0)\n",
            "Requirement already satisfied: python-dateutil>=2.8.2 in /usr/local/lib/python3.11/dist-packages (from pandas) (2.9.0.post0)\n",
            "Requirement already satisfied: pytz>=2020.1 in /usr/local/lib/python3.11/dist-packages (from pandas) (2025.2)\n",
            "Requirement already satisfied: tzdata>=2022.7 in /usr/local/lib/python3.11/dist-packages (from pandas) (2025.2)\n",
            "Requirement already satisfied: contourpy>=1.0.1 in /usr/local/lib/python3.11/dist-packages (from matplotlib) (1.3.2)\n",
            "Requirement already satisfied: cycler>=0.10 in /usr/local/lib/python3.11/dist-packages (from matplotlib) (0.12.1)\n",
            "Requirement already satisfied: fonttools>=4.22.0 in /usr/local/lib/python3.11/dist-packages (from matplotlib) (4.57.0)\n",
            "Requirement already satisfied: kiwisolver>=1.3.1 in /usr/local/lib/python3.11/dist-packages (from matplotlib) (1.4.8)\n",
            "Requirement already satisfied: pillow>=8 in /usr/local/lib/python3.11/dist-packages (from matplotlib) (11.2.1)\n",
            "Requirement already satisfied: pyparsing>=2.3.1 in /usr/local/lib/python3.11/dist-packages (from matplotlib) (3.2.3)\n",
            "Requirement already satisfied: click in /usr/local/lib/python3.11/dist-packages (from nltk) (8.1.8)\n",
            "Requirement already satisfied: aiohappyeyeballs>=2.3.0 in /usr/local/lib/python3.11/dist-packages (from aiohttp->datasets) (2.6.1)\n",
            "Requirement already satisfied: aiosignal>=1.1.2 in /usr/local/lib/python3.11/dist-packages (from aiohttp->datasets) (1.3.2)\n",
            "Requirement already satisfied: attrs>=17.3.0 in /usr/local/lib/python3.11/dist-packages (from aiohttp->datasets) (25.3.0)\n",
            "Requirement already satisfied: frozenlist>=1.1.1 in /usr/local/lib/python3.11/dist-packages (from aiohttp->datasets) (1.6.0)\n",
            "Requirement already satisfied: multidict<7.0,>=4.5 in /usr/local/lib/python3.11/dist-packages (from aiohttp->datasets) (6.4.3)\n",
            "Requirement already satisfied: propcache>=0.2.0 in /usr/local/lib/python3.11/dist-packages (from aiohttp->datasets) (0.3.1)\n",
            "Requirement already satisfied: yarl<2.0,>=1.17.0 in /usr/local/lib/python3.11/dist-packages (from aiohttp->datasets) (1.20.0)\n",
            "Requirement already satisfied: six>=1.5 in /usr/local/lib/python3.11/dist-packages (from python-dateutil>=2.8.2->pandas) (1.17.0)\n",
            "Requirement already satisfied: charset-normalizer<4,>=2 in /usr/local/lib/python3.11/dist-packages (from requests->transformers) (3.4.1)\n",
            "Requirement already satisfied: idna<4,>=2.5 in /usr/local/lib/python3.11/dist-packages (from requests->transformers) (3.10)\n",
            "Requirement already satisfied: urllib3<3,>=1.21.1 in /usr/local/lib/python3.11/dist-packages (from requests->transformers) (2.4.0)\n",
            "Requirement already satisfied: certifi>=2017.4.17 in /usr/local/lib/python3.11/dist-packages (from requests->transformers) (2025.4.26)\n",
            "Requirement already satisfied: MarkupSafe>=2.0 in /usr/local/lib/python3.11/dist-packages (from jinja2->torch) (3.0.2)\n"
          ]
        }
      ],
      "source": [
        "!pip install torch transformers datasets scikit-learn pandas numpy matplotlib seaborn psutil tqdm accelerate nltk"
      ]
    },
    {
      "cell_type": "markdown",
      "metadata": {
        "id": "oJtCxf0ZgHSE"
      },
      "source": [
        "## Import Libraries"
      ]
    },
    {
      "cell_type": "code",
      "execution_count": 2,
      "metadata": {
        "ExecuteTime": {
          "end_time": "2025-05-03T12:05:06.745211Z",
          "start_time": "2025-05-03T12:05:06.715128Z"
        },
        "id": "yvWpXAOdGWKz"
      },
      "outputs": [],
      "source": [
        "import os\n",
        "import pandas as pd\n",
        "import numpy as np\n",
        "import torch\n",
        "import torch.nn as nn\n",
        "from torch.utils.data import Dataset, DataLoader\n",
        "from transformers import AutoTokenizer, AutoModelForSequenceClassification\n",
        "from transformers import TrainingArguments, Trainer, EarlyStoppingCallback\n",
        "from sklearn.model_selection import train_test_split\n",
        "from sklearn.metrics import accuracy_score, precision_recall_fscore_support, classification_report\n",
        "from sklearn.metrics import confusion_matrix, precision_recall_curve\n",
        "import matplotlib.pyplot as plt\n",
        "import seaborn as sns\n",
        "import time\n",
        "import json\n",
        "import re\n",
        "import psutil\n",
        "from tqdm.auto import tqdm\n",
        "from sklearn.utils.class_weight import compute_class_weight\n",
        "from torch.cuda.amp import autocast, GradScaler\n"
      ]
    },
    {
      "cell_type": "code",
      "execution_count": 3,
      "metadata": {
        "ExecuteTime": {
          "end_time": "2025-05-03T12:12:23.152077Z",
          "start_time": "2025-05-03T12:12:23.135006Z"
        },
        "colab": {
          "base_uri": "https://localhost:8080/"
        },
        "id": "HFgKovXbGWKz",
        "outputId": "98be6bb8-3bc9-4189-f8ea-67a690e95cae"
      },
      "outputs": [
        {
          "output_type": "stream",
          "name": "stderr",
          "text": [
            "[nltk_data] Downloading package punkt to /root/nltk_data...\n",
            "[nltk_data]   Package punkt is already up-to-date!\n"
          ]
        },
        {
          "output_type": "execute_result",
          "data": {
            "text/plain": [
              "True"
            ]
          },
          "metadata": {},
          "execution_count": 3
        }
      ],
      "source": [
        "import nltk\n",
        "nltk.download('punkt')"
      ]
    },
    {
      "cell_type": "code",
      "execution_count": 4,
      "metadata": {
        "id": "Ug5lwjiJGWK0"
      },
      "outputs": [],
      "source": [
        "# Set seed for reproducibility\n",
        "SEED = 42\n",
        "np.random.seed(SEED)\n",
        "torch.manual_seed(SEED)\n",
        "if torch.cuda.is_available():\n",
        "    torch.cuda.manual_seed_all(SEED)"
      ]
    },
    {
      "cell_type": "code",
      "execution_count": 5,
      "metadata": {
        "colab": {
          "base_uri": "https://localhost:8080/"
        },
        "id": "4d-_IIyIGWK0",
        "outputId": "e27eafd5-7484-4ab3-887a-17b0a539dd29"
      },
      "outputs": [
        {
          "output_type": "stream",
          "name": "stdout",
          "text": [
            "PyTorch version: 2.6.0+cu124\n",
            "CUDA available: True\n"
          ]
        }
      ],
      "source": [
        "print(f\"PyTorch version: {torch.__version__}\")\n",
        "print(f\"CUDA available: {torch.cuda.is_available()}\")"
      ]
    },
    {
      "cell_type": "markdown",
      "metadata": {
        "id": "3ON3GJNGgHSE"
      },
      "source": [
        "## Data Loading and Exploration"
      ]
    },
    {
      "cell_type": "code",
      "execution_count": 6,
      "metadata": {
        "colab": {
          "base_uri": "https://localhost:8080/"
        },
        "id": "EoseaQBPgHSE",
        "outputId": "99137de2-b443-4e4b-9145-cd82a5eac91f"
      },
      "outputs": [
        {
          "output_type": "stream",
          "name": "stdout",
          "text": [
            "Fake news dataset shape: (23481, 4)\n",
            "Real news dataset shape: (21417, 4)\n"
          ]
        }
      ],
      "source": [
        "# Load the dataset\n",
        "try:\n",
        "    fake_news = pd.read_csv(\"/content/Fake.csv\")\n",
        "    real_news = pd.read_csv(\"/content/True.csv\")\n",
        "\n",
        "    print(f\"Fake news dataset shape: {fake_news.shape}\")\n",
        "    print(f\"Real news dataset shape: {real_news.shape}\")\n",
        "except FileNotFoundError as e:\n",
        "    raise SystemExit(f\"Critical data missing: {e}\")"
      ]
    },
    {
      "cell_type": "code",
      "execution_count": 7,
      "metadata": {
        "id": "mieNXt9agHSE"
      },
      "outputs": [],
      "source": [
        "# Add labels\n",
        "fake_news['label'] = 1\n",
        "real_news['label'] = 0\n",
        "\n",
        "# Fix: Correct splitting to prevent data leakage\n",
        "full_df = pd.concat([fake_news, real_news]).sample(frac=1, random_state=SEED)\n",
        "train_val_df, test_df = train_test_split(\n",
        "    full_df,\n",
        "    test_size=0.2,\n",
        "    random_state=SEED,\n",
        "    stratify=full_df['label']\n",
        ")\n",
        "train_df, val_df = train_test_split(\n",
        "    train_val_df,\n",
        "    test_size=0.15,\n",
        "    random_state=SEED,\n",
        "    stratify=train_val_df['label']\n",
        ")"
      ]
    },
    {
      "cell_type": "code",
      "execution_count": 8,
      "metadata": {
        "id": "wfNrvR_ogHSE"
      },
      "outputs": [],
      "source": [
        "import os\n",
        "import pandas as pd\n",
        "import numpy as np\n",
        "import torch\n",
        "import torch.nn as nn\n",
        "from torch.utils.data import Dataset, DataLoader\n",
        "from transformers import AutoTokenizer, AutoModelForSequenceClassification\n",
        "from transformers import TrainingArguments, Trainer, EarlyStoppingCallback\n",
        "from sklearn.model_selection import train_test_split\n",
        "from sklearn.metrics import accuracy_score, precision_recall_fscore_support, classification_report\n",
        "from sklearn.metrics import confusion_matrix, precision_recall_curve\n",
        "import matplotlib.pyplot as plt\n",
        "import seaborn as sns\n",
        "import time\n",
        "import json\n",
        "import re\n",
        "import psutil\n",
        "from tqdm.auto import tqdm\n",
        "from sklearn.utils.class_weight import compute_class_weight"
      ]
    },
    {
      "cell_type": "markdown",
      "metadata": {
        "id": "ousU1CpdAtIV"
      },
      "source": [
        "## Dataset Analysis\n",
        "\n",
        "The FakeNewsNet dataset contains:\n",
        "- 23,481 fake news articles\n",
        "- 21,417 real news articles\n",
        "\n",
        "Each article includes the title, full text, subject category, and publication date. I'm preprocessing this data by:\n",
        "1. Combining titles and article text\n",
        "2. Converting to lowercase\n",
        "3. Removing URLs and excessive whitespace\n",
        "4. Splitting into train/validation/test sets with appropriate stratification"
      ]
    },
    {
      "cell_type": "code",
      "source": [
        "# Basic text preprocessing function\n",
        "def preprocess_text(text):\n",
        "    \"\"\"Clean and normalize text data\"\"\"\n",
        "    if not isinstance(text, str):\n",
        "        return \"\"\n",
        "\n",
        "    # Convert to lowercase\n",
        "    text = text.lower()\n",
        "\n",
        "    # Remove URLs\n",
        "    text = re.sub(r'https?://\\S+|www\\.\\S+', '', text)\n",
        "\n",
        "    # Remove extra whitespace\n",
        "    text = re.sub(r'\\s+', ' ', text).strip()\n",
        "\n",
        "    return text\n",
        "# Preprocess each split individually\n",
        "for df_split in [train_df, val_df, test_df]:\n",
        "    # Apply preprocessing\n",
        "    df_split['processed_text'] = df_split['title'].fillna('').apply(preprocess_text)\n",
        "    # Remove empty texts\n",
        "    empty_mask = df_split['processed_text'].apply(lambda x: len(x.strip()) == 0)\n",
        "    if empty_mask.sum() > 0:\n",
        "        print(f\"Removing {empty_mask.sum()} empty texts\")\n",
        "        df_split.drop(df_split[empty_mask].index, inplace=True)\n",
        "        df_split.reset_index(drop=True, inplace=True)\n",
        "\n",
        "# Update the combined df if needed for reference\n",
        "df = pd.concat([train_df, val_df, test_df])\n",
        "print(f\"Training set size: {len(train_df)}\")\n",
        "print(f\"Validation set size: {len(val_df)}\")\n",
        "print(f\"Test set size: {len(test_df)}\")"
      ],
      "metadata": {
        "colab": {
          "base_uri": "https://localhost:8080/"
        },
        "id": "oW3-wiLmWin7",
        "outputId": "1bfe9ad3-2a2c-45d0-97fe-707d7e8c8192"
      },
      "execution_count": 10,
      "outputs": [
        {
          "output_type": "stream",
          "name": "stdout",
          "text": [
            "Removing 5 empty texts\n",
            "Removing 1 empty texts\n",
            "Removing 3 empty texts\n",
            "Training set size: 30522\n",
            "Validation set size: 5387\n",
            "Test set size: 8977\n"
          ]
        }
      ]
    },
    {
      "cell_type": "markdown",
      "metadata": {
        "id": "imc6wzTAgHSF"
      },
      "source": [
        "## Data Preprocessing"
      ]
    },
    {
      "cell_type": "code",
      "execution_count": 11,
      "metadata": {
        "colab": {
          "base_uri": "https://localhost:8080/"
        },
        "id": "VWNlV7lYgHSF",
        "outputId": "840088d5-3ffd-442a-924d-04b480bb47f3"
      },
      "outputs": [
        {
          "output_type": "stream",
          "name": "stdout",
          "text": [
            "Column: title\n",
            "Example: Factbox: Trump on Twitter (April 18) - Obama administration, interview...\n",
            "Average length: 80.11 characters\n",
            "--------------------------------------------------\n",
            "Column: text\n",
            "Example: The following statements were posted to the verified Twitter accounts of U.S. President Donald Trump...\n",
            "Average length: 2469.56 characters\n",
            "--------------------------------------------------\n",
            "Column: subject\n",
            "Example: politicsNews...\n",
            "Average length: 8.80 characters\n",
            "--------------------------------------------------\n",
            "Column: date\n",
            "Example: April 18, 2017 ...\n",
            "Average length: 14.82 characters\n",
            "--------------------------------------------------\n",
            "Column: processed_text\n",
            "Example: factbox: trump on twitter (april 18) - obama administration, interview...\n",
            "Average length: 79.90 characters\n",
            "--------------------------------------------------\n"
          ]
        }
      ],
      "source": [
        "# Inspect dataset columns to find title and text columns\n",
        "for col in df.columns:\n",
        "    if col != 'label':\n",
        "        print(f\"Column: {col}\")\n",
        "        print(f\"Example: {df[col].iloc[0][:100]}...\")\n",
        "        print(f\"Average length: {df[col].str.len().mean():.2f} characters\")\n",
        "        print(\"-\" * 50)"
      ]
    },
    {
      "cell_type": "code",
      "execution_count": 11,
      "metadata": {
        "id": "Cm-KBb5OgHSF"
      },
      "outputs": [],
      "source": [
        "\n"
      ]
    },
    {
      "cell_type": "code",
      "execution_count": 12,
      "metadata": {
        "id": "V6HMrx6mGWK1"
      },
      "outputs": [],
      "source": [
        "# Use only the title field for training\n",
        "df['processed_text'] = df['title'].fillna('').apply(preprocess_text)"
      ]
    },
    {
      "cell_type": "code",
      "execution_count": 13,
      "metadata": {
        "colab": {
          "base_uri": "https://localhost:8080/"
        },
        "id": "MoN9zzwHGWK1",
        "outputId": "1c61d30e-b858-4d16-ab45-98bbb2fca154"
      },
      "outputs": [
        {
          "output_type": "stream",
          "name": "stdout",
          "text": [
            "Number of empty texts after preprocessing: 0\n"
          ]
        }
      ],
      "source": [
        "# Check for empty texts after preprocessing\n",
        "empty_texts = df['processed_text'].apply(lambda x: len(x.strip()) == 0).sum()\n",
        "print(f\"Number of empty texts after preprocessing: {empty_texts}\")"
      ]
    },
    {
      "cell_type": "code",
      "execution_count": 14,
      "metadata": {
        "id": "ezmm0QWiGWK1"
      },
      "outputs": [],
      "source": [
        "# Remove empty texts if any\n",
        "if empty_texts > 0:\n",
        "    df = df[df['processed_text'].apply(lambda x: len(x.strip()) > 0)].reset_index(drop=True)\n",
        "    print(f\"Dataset size after removing empty texts: {len(df)}\")"
      ]
    },
    {
      "cell_type": "code",
      "execution_count": 15,
      "metadata": {
        "colab": {
          "base_uri": "https://localhost:8080/"
        },
        "id": "GwCVdc_fGWK1",
        "outputId": "2f6a462e-f555-4f66-e911-7dc75bcc1a01"
      },
      "outputs": [
        {
          "output_type": "stream",
          "name": "stdout",
          "text": [
            "\n",
            "Sample processed title:\n",
            "factbox: trump on twitter (april 18) - obama administration, interview\n"
          ]
        }
      ],
      "source": [
        "# Display a sample preprocessed text\n",
        "print(\"\\nSample processed title:\")\n",
        "print(df['processed_text'].iloc[0])"
      ]
    },
    {
      "cell_type": "markdown",
      "metadata": {
        "id": "CkowR6aFgHSF"
      },
      "source": [
        "## Train/Val/Test Split\n",
        "\n",
        "Dividing the dataset into:\n",
        "- 30,524 training samples (68%)\n",
        "- 5,387 validation samples (12%)\n",
        "- 8,978 test samples (20%)\n",
        "\n",
        "Using stratification to ensure balanced class distribution across splits."
      ]
    },
    {
      "cell_type": "code",
      "execution_count": 16,
      "metadata": {
        "id": "NKa6c4JfgHSF"
      },
      "outputs": [],
      "source": [
        "# Split data into train, validation, and test sets\n",
        "train_val_df, test_df = train_test_split(\n",
        "    df, test_size=0.2, random_state=SEED, stratify=df['label']\n",
        ")"
      ]
    },
    {
      "cell_type": "code",
      "execution_count": 17,
      "metadata": {
        "id": "t9OLegwwGWK1"
      },
      "outputs": [],
      "source": [
        "# Then split train+val into train and validation\n",
        "train_df, val_df = train_test_split(\n",
        "    train_val_df, test_size=0.15, random_state=SEED, stratify=train_val_df['label']\n",
        ")"
      ]
    },
    {
      "cell_type": "code",
      "execution_count": 18,
      "metadata": {
        "colab": {
          "base_uri": "https://localhost:8080/"
        },
        "id": "YIxD5dEXGWK1",
        "outputId": "e788daaa-b121-4eab-cce3-cd6084e71bce"
      },
      "outputs": [
        {
          "output_type": "stream",
          "name": "stdout",
          "text": [
            "Training set size: 30521\n",
            "Validation set size: 5387\n",
            "Test set size: 8978\n"
          ]
        }
      ],
      "source": [
        "print(f\"Training set size: {len(train_df)}\")\n",
        "print(f\"Validation set size: {len(val_df)}\")\n",
        "print(f\"Test set size: {len(test_df)}\")"
      ]
    },
    {
      "cell_type": "code",
      "execution_count": 19,
      "metadata": {
        "colab": {
          "base_uri": "https://localhost:8080/"
        },
        "id": "wd1gH7ujGWK1",
        "outputId": "d2515e00-df00-4f59-cefa-4a721a4d5e33"
      },
      "outputs": [
        {
          "output_type": "stream",
          "name": "stdout",
          "text": [
            "Class distribution:\n",
            "label\n",
            "1    23472\n",
            "0    21414\n",
            "Name: count, dtype: int64\n"
          ]
        }
      ],
      "source": [
        "# Calculate class weights for balanced training\n",
        "# Get class distribution\n",
        "class_counts = df['label'].value_counts()\n",
        "print(\"Class distribution:\")\n",
        "print(class_counts)"
      ]
    },
    {
      "cell_type": "code",
      "execution_count": 20,
      "metadata": {
        "colab": {
          "base_uri": "https://localhost:8080/"
        },
        "id": "e9Pf81OPGWK1",
        "outputId": "c3de5efd-5124-464f-d861-f15e65ecedcf"
      },
      "outputs": [
        {
          "output_type": "stream",
          "name": "stdout",
          "text": [
            "Class weights:\n",
            "{0: np.float64(1.0480392830162764), 1: np.float64(0.956171679197995)}\n"
          ]
        }
      ],
      "source": [
        "# Calculate class weights\n",
        "classes = np.unique(df['label'])\n",
        "weights = compute_class_weight('balanced', classes=classes, y=train_df['label'])\n",
        "class_weights = {i: weights[i] for i in range(len(weights))}\n",
        "print(\"Class weights:\")\n",
        "print(class_weights)"
      ]
    },
    {
      "cell_type": "markdown",
      "metadata": {
        "id": "rLtaFwsngHSF"
      },
      "source": [
        "## Create PyTorch Dataset"
      ]
    },
    {
      "cell_type": "code",
      "execution_count": 21,
      "metadata": {
        "id": "XRXCymcMgHSF"
      },
      "outputs": [],
      "source": [
        "# Define model configuration\n",
        "MODEL_NAME = \"distilbert-base-uncased\"\n",
        "MAX_LENGTH = 128  # Reduced from 512 as titles are much shorter\n",
        "BATCH_SIZE = 16   # Increased batch size since we're using shorter sequences"
      ]
    },
    {
      "cell_type": "code",
      "execution_count": 22,
      "metadata": {
        "id": "hqSgVGGQgHSG"
      },
      "outputs": [],
      "source": [
        "# Replace the existing FakeNewsDataset class with this modified version\n",
        "class FakeNewsDataset(Dataset):\n",
        "    def __init__(self, texts, labels, tokenizer, max_length=128):\n",
        "        self.texts = texts\n",
        "        self.labels = labels\n",
        "        self.tokenizer = tokenizer\n",
        "        self.max_length = max_length\n",
        "\n",
        "    def __len__(self):\n",
        "        return len(self.texts)\n",
        "\n",
        "    def __getitem__(self, idx):\n",
        "        text = self.texts[idx]\n",
        "        label = self.labels[idx]\n",
        "\n",
        "        # Remove padding from tokenization\n",
        "        encoding = self.tokenizer(\n",
        "            text,\n",
        "            truncation=True,\n",
        "            max_length=self.max_length,\n",
        "            return_tensors='pt'\n",
        "        )\n",
        "\n",
        "        return {\n",
        "            'input_ids': encoding['input_ids'].squeeze(),\n",
        "            'attention_mask': encoding['attention_mask'].squeeze(),\n",
        "            'labels': torch.tensor(label, dtype=torch.long)\n",
        "        }\n"
      ]
    },
    {
      "cell_type": "code",
      "execution_count": 23,
      "metadata": {
        "colab": {
          "base_uri": "https://localhost:8080/"
        },
        "id": "UjGwBSwQGWK2",
        "outputId": "9ac2597f-3f03-4276-a679-252711b651b8"
      },
      "outputs": [
        {
          "output_type": "stream",
          "name": "stderr",
          "text": [
            "/usr/local/lib/python3.11/dist-packages/huggingface_hub/utils/_auth.py:94: UserWarning: \n",
            "The secret `HF_TOKEN` does not exist in your Colab secrets.\n",
            "To authenticate with the Hugging Face Hub, create a token in your settings tab (https://huggingface.co/settings/tokens), set it as secret in your Google Colab and restart your session.\n",
            "You will be able to reuse this secret in all of your notebooks.\n",
            "Please note that authentication is recommended but still optional to access public models or datasets.\n",
            "  warnings.warn(\n"
          ]
        }
      ],
      "source": [
        "# Load tokenizer\n",
        "tokenizer = AutoTokenizer.from_pretrained(MODEL_NAME)"
      ]
    },
    {
      "cell_type": "markdown",
      "metadata": {
        "id": "ymE_fO4LGWK2"
      },
      "source": [
        "### Create datasets"
      ]
    },
    {
      "cell_type": "code",
      "execution_count": 24,
      "metadata": {
        "id": "cll_HdQQGWK2"
      },
      "outputs": [],
      "source": [
        "train_dataset = FakeNewsDataset(\n",
        "    train_df['processed_text'].tolist(),\n",
        "    train_df['label'].tolist(),\n",
        "    tokenizer,\n",
        "    max_length=MAX_LENGTH\n",
        ")"
      ]
    },
    {
      "cell_type": "code",
      "execution_count": 25,
      "metadata": {
        "id": "R_hnJ2EgGWK2"
      },
      "outputs": [],
      "source": [
        "val_dataset = FakeNewsDataset(\n",
        "    val_df['processed_text'].tolist(),\n",
        "    val_df['label'].tolist(),\n",
        "    tokenizer,\n",
        "    max_length=MAX_LENGTH\n",
        ")"
      ]
    },
    {
      "cell_type": "code",
      "execution_count": 26,
      "metadata": {
        "id": "2bMugf-RGWK2"
      },
      "outputs": [],
      "source": [
        "test_dataset = FakeNewsDataset(\n",
        "    test_df['processed_text'].tolist(),\n",
        "    test_df['label'].tolist(),\n",
        "    tokenizer,\n",
        "    max_length=MAX_LENGTH\n",
        ")"
      ]
    },
    {
      "cell_type": "code",
      "execution_count": 27,
      "metadata": {
        "id": "i_7oJlgTGWK2"
      },
      "outputs": [],
      "source": [
        "from transformers import DataCollatorWithPadding\n",
        "data_collator = DataCollatorWithPadding(tokenizer=tokenizer)"
      ]
    },
    {
      "cell_type": "markdown",
      "metadata": {
        "id": "cD3TI3dXGWK2"
      },
      "source": [
        "### Create dataloaders"
      ]
    },
    {
      "cell_type": "code",
      "execution_count": 28,
      "metadata": {
        "id": "XDb7gAbNGWK2"
      },
      "outputs": [],
      "source": [
        "train_dataloader = DataLoader(\n",
        "    train_dataset,\n",
        "    batch_size=BATCH_SIZE,\n",
        "    shuffle=True,\n",
        "    collate_fn=data_collator\n",
        ")"
      ]
    },
    {
      "cell_type": "code",
      "execution_count": 29,
      "metadata": {
        "id": "5NMxBzaLGWK7"
      },
      "outputs": [],
      "source": [
        "val_dataloader = DataLoader(\n",
        "    val_dataset,\n",
        "    batch_size=BATCH_SIZE,\n",
        "    collate_fn=data_collator\n",
        ")"
      ]
    },
    {
      "cell_type": "code",
      "execution_count": 30,
      "metadata": {
        "id": "f_ACHG8qGWK7"
      },
      "outputs": [],
      "source": [
        "test_dataloader = DataLoader(\n",
        "    test_dataset,\n",
        "    batch_size=BATCH_SIZE,\n",
        "    collate_fn=data_collator\n",
        ")"
      ]
    },
    {
      "cell_type": "markdown",
      "metadata": {
        "id": "3V0YXCjAGWK7"
      },
      "source": [
        "### Custom model with dropout"
      ]
    },
    {
      "cell_type": "code",
      "execution_count": 31,
      "metadata": {
        "id": "Y6qJ47P6gHSG"
      },
      "outputs": [],
      "source": [
        "from transformers import DistilBertModel\n",
        "\n",
        "class DistilBERTForFakeNews(nn.Module):\n",
        "    def __init__(self, num_labels=2, dropout_rate=0.3):\n",
        "        super(DistilBERTForFakeNews, self).__init__()\n",
        "        self.distilbert = DistilBertModel.from_pretrained(\"distilbert-base-uncased\")\n",
        "        self.pre_classifier = nn.Linear(768, 768)\n",
        "        self.dropout = nn.Dropout(dropout_rate)  # Add dropout for regularization\n",
        "        self.classifier = nn.Linear(768, num_labels)\n",
        "\n",
        "    def forward(self, input_ids, attention_mask=None):\n",
        "        outputs = self.distilbert(input_ids=input_ids, attention_mask=attention_mask)\n",
        "        hidden_state = outputs[0]  # (bs, seq_len, dim)\n",
        "        pooled_output = hidden_state[:, 0]  # (bs, dim)\n",
        "        pooled_output = self.pre_classifier(pooled_output)  # (bs, dim)\n",
        "        pooled_output = nn.ReLU()(pooled_output)  # (bs, dim)\n",
        "        pooled_output = self.dropout(pooled_output)  # (bs, dim)\n",
        "        logits = self.classifier(pooled_output)  # (bs, num_labels)\n",
        "\n",
        "        return logits"
      ]
    },
    {
      "cell_type": "markdown",
      "metadata": {
        "id": "SiHpzs4ugHSG",
        "outputId": "3e0de92c-ccd1-426c-f455-751997124133"
      },
      "source": [
        "### Manual training loop with class weights"
      ]
    },
    {
      "cell_type": "code",
      "execution_count": 36,
      "metadata": {
        "id": "aXGsGtMiGWK7"
      },
      "outputs": [],
      "source": [
        "def train_model(model, train_dataloader, val_dataloader, epochs=3, lr=2e-5):\n",
        "    \"\"\"Train model with class weights and early stopping\"\"\"\n",
        "    device = torch.device(\"cuda\" if torch.cuda.is_available() else \"cpu\")\n",
        "    model.to(device)\n",
        "    scaler = None\n",
        "    if torch.cuda.is_available():\n",
        "        scaler = torch.amp.GradScaler(init_scale=65536.0, growth_factor=2.0, backoff_factor=0.5)\n",
        "\n",
        "    # Set up optimizer\n",
        "    optimizer = torch.optim.AdamW(model.parameters(), lr=lr, weight_decay=0.01)\n",
        "\n",
        "    # Set up scheduler\n",
        "    total_steps = len(train_dataloader) * epochs\n",
        "    scheduler = torch.optim.lr_scheduler.OneCycleLR(\n",
        "        optimizer,\n",
        "        max_lr=lr,\n",
        "        total_steps=total_steps\n",
        "    )\n",
        "\n",
        "    # Set up loss function with class weights\n",
        "    class_weights_tensor = torch.tensor([class_weights[0], class_weights[1]], device=device, dtype=torch.float32)\n",
        "    criterion = nn.CrossEntropyLoss(weight=class_weights_tensor)\n",
        "\n",
        "    # For early stopping\n",
        "    best_val_f1 = 0\n",
        "    patience = 2\n",
        "    counter = 0\n",
        "\n",
        "    # Training loop\n",
        "    for epoch in range(epochs):\n",
        "        # Training\n",
        "        model.train()\n",
        "        train_loss = 0\n",
        "        all_train_preds = []\n",
        "        all_train_labels = []\n",
        "\n",
        "        for batch in tqdm(train_dataloader, desc=f\"Epoch {epoch+1}/{epochs} [Train]\"):\n",
        "            batch = {k: v.to(device) for k, v in batch.items()}\n",
        "            optimizer.zero_grad()\n",
        "\n",
        "            # Forward pass with conditional autocast\n",
        "            if scaler:\n",
        "                with torch.amp.autocast(device_type='cuda', dtype=torch.float16):\n",
        "                    outputs = model(batch['input_ids'], batch['attention_mask'])\n",
        "                loss = criterion(outputs.float(), batch['labels'])\n",
        "            else:\n",
        "                outputs = model(batch['input_ids'], batch['attention_mask'])\n",
        "                loss = criterion(outputs, batch['labels'])\n",
        "\n",
        "            # Backward pass\n",
        "            if scaler:\n",
        "                scaler.scale(loss).backward()\n",
        "                scaler.unscale_(optimizer)\n",
        "                torch.nn.utils.clip_grad_norm_(model.parameters(), 1.0)\n",
        "                scaler.step(optimizer)\n",
        "                scaler.update()\n",
        "            else:\n",
        "                loss.backward()\n",
        "                torch.nn.utils.clip_grad_norm_(model.parameters(), 1.0)\n",
        "                optimizer.step()\n",
        "\n",
        "            train_loss += loss.item()\n",
        "            scheduler.step()\n",
        "\n",
        "            # Collect predictions and labels for metrics\n",
        "            preds = torch.argmax(outputs, dim=1).detach().cpu().numpy()\n",
        "            labels = batch['labels'].detach().cpu().numpy()\n",
        "            all_train_preds.extend(preds)\n",
        "            all_train_labels.extend(labels)\n",
        "\n",
        "            # Debug print (occasionally)\n",
        "            if len(all_train_preds) % 500 == 0:\n",
        "                print(f\"Unique predictions: {np.unique(preds)}\")\n",
        "\n",
        "        # Calculate training metrics\n",
        "        train_loss = train_loss / len(train_dataloader)\n",
        "        train_acc = accuracy_score(all_train_labels, all_train_preds)\n",
        "        train_precision, train_recall, train_f1, _ = precision_recall_fscore_support(\n",
        "            all_train_labels, all_train_preds, average='binary', zero_division=0\n",
        "        )\n",
        "\n",
        "        # Validation\n",
        "        model.eval()\n",
        "        val_loss = 0\n",
        "        all_val_preds = []\n",
        "        all_val_labels = []\n",
        "\n",
        "        with torch.no_grad():\n",
        "            for batch in tqdm(val_dataloader, desc=f\"Epoch {epoch+1}/{epochs} [Val]\"):\n",
        "                batch = {k: v.to(device) for k, v in batch.items()}\n",
        "\n",
        "                outputs = model(batch['input_ids'], batch['attention_mask'])\n",
        "                loss = criterion(outputs, batch['labels'])\n",
        "                val_loss += loss.item()\n",
        "\n",
        "                preds = torch.argmax(outputs, dim=1).detach().cpu().numpy()\n",
        "                labels = batch['labels'].detach().cpu().numpy()\n",
        "                all_val_preds.extend(preds)\n",
        "                all_val_labels.extend(labels)\n",
        "\n",
        "        # Calculate validation metrics\n",
        "        val_loss = val_loss / len(val_dataloader)\n",
        "        val_acc = accuracy_score(all_val_labels, all_val_preds)\n",
        "        val_precision, val_recall, val_f1, _ = precision_recall_fscore_support(\n",
        "            all_val_labels, all_val_preds, average='binary', zero_division=0\n",
        "        )\n",
        "\n",
        "        print(f\"Epoch {epoch+1}/{epochs}:\")\n",
        "        print(f\"  Train Loss: {train_loss:.4f}, Acc: {train_acc:.4f}, F1: {train_f1:.4f}\")\n",
        "        print(f\"  Val Loss: {val_loss:.4f}, Acc: {val_acc:.4f}, F1: {val_f1:.4f}\")\n",
        "\n",
        "        # Print class distributions to debug\n",
        "        print(f\"  Train predictions: {np.bincount(all_train_preds)}\")\n",
        "        print(f\"  Val predictions: {np.bincount(all_val_preds)}\")\n",
        "\n",
        "        # Early stopping\n",
        "        if val_f1 > best_val_f1:\n",
        "            best_val_f1 = val_f1\n",
        "            counter = 0\n",
        "            # Save best model\n",
        "            torch.save(model.state_dict(), \"best_model.pt\")\n",
        "        else:\n",
        "            counter += 1\n",
        "            if counter >= patience:\n",
        "                print(f\"Early stopping triggered after {epoch+1} epochs\")\n",
        "                break\n",
        "\n",
        "    # Load best model\n",
        "    model.load_state_dict(torch.load(\"best_model.pt\"))\n",
        "    return model"
      ]
    },
    {
      "cell_type": "code",
      "source": [
        "common_titles = set(train_df['title']).intersection(set(val_df['title']))\n",
        "print(f\"Shared titles between train/val: {len(common_titles)}\")"
      ],
      "metadata": {
        "colab": {
          "base_uri": "https://localhost:8080/"
        },
        "id": "tUxYvk2PP7-U",
        "outputId": "2091617c-60f2-41a1-8ed2-86db6d1544d4"
      },
      "execution_count": 37,
      "outputs": [
        {
          "output_type": "stream",
          "name": "stdout",
          "text": [
            "Shared titles between train/val: 1009\n"
          ]
        }
      ]
    },
    {
      "cell_type": "code",
      "execution_count": 38,
      "metadata": {
        "id": "_3nM6UszGWK7"
      },
      "outputs": [],
      "source": [
        "# Initialize our custom model with dropout\n",
        "model = DistilBERTForFakeNews(num_labels=2, dropout_rate=0.3)"
      ]
    },
    {
      "cell_type": "code",
      "execution_count": 39,
      "metadata": {
        "colab": {
          "base_uri": "https://localhost:8080/",
          "height": 1000,
          "referenced_widgets": [
            "5fe56cc370e54d1798f1d2cec329a17d",
            "3d7b918b034247a6b0edc1390b8b32e9",
            "ad2f72095c1d48e191e79dd93b289e68",
            "c78dfc8b3ebb401b957eaea3d03e0d6a",
            "32df6d044c04492fb56b77c9cd7dd837",
            "a0cadc3bf3c2489b9b27ae4523d370e4",
            "a20802066cbb4e2db1fb2efd8b756f66",
            "170cffa5f3a24d59911f6f2773acfea7",
            "60a6363f132f47fc875fbec3b19b94cc",
            "63e66179bdd840e8aee09907b93bca88",
            "731c84b989884dadaedc96fc70e22eb2",
            "c7c45714c15541e9a088e33288683f31",
            "19ba8aac2611451888ce9a7896f72501",
            "8d1150c5a862457fa4ce9c837404eeb9",
            "e0ca62997ad748e1a3d9ab84128799c6",
            "64fc75df08fd4d738f9a7f29c15e27ef",
            "eac506785c004925be98657881bd11f5",
            "b8a51f13d04f49bfb3c94cc4606cbe2f",
            "b9615ea283c24aa3b1c43ddaf86fefc1",
            "c25cb79de981415d8f6cdd8217930faa",
            "637bb2e62eeb4d9eb73c6356e493e981",
            "82f9f4d232b14f259ebcafa5c32d1cbd",
            "219dbcb37f6b430a939fe833025130b3",
            "1144a299618f4e7089bb73736271ac46",
            "cc50f1c3320948a997f76edb50ac3dc5",
            "c1e85e4b145045cb90ba5ce6c5dcd39a",
            "5889d82ad65c41dbb2d87ae5c053bcf4",
            "bb6e1fc3c5a24f9395da45a61983fe44",
            "e39412a515a443ed8f9569b79faf7b5f",
            "973f05dd80464e968d41abead1b08de6",
            "1ff73301384847109b67b6aa42387d79",
            "adf30368e037448cbf7c0f26e679b95a",
            "84ddf737bca6496cbf1ea9f4fba0ef65",
            "69d1d78928a94ed1b943d878cde19296",
            "f271d9097ccf498597a7b324bc845f31",
            "75d46f38c4364874a848e8a97ca8f660",
            "c44bffb1f31546a5b24b20c3d5aae8e8",
            "f6d7c20154cd4aa6a7835ce464c17817",
            "c5c617580e59423db1a7e3874a12128d",
            "71a33756a1444460940704440535334e",
            "56db67cb1f7049d4ad1a27bb93a1e9c8",
            "0737c65547294187abd6542c1d9697bc",
            "946817311176418cb0f9f70640e9d403",
            "b3071b0a452646439f5a4374bbe5cbea",
            "3af29c2890ab473ca5c87448a5cb92d7",
            "7a537a99157a433b95e26bee1df3b476",
            "a58c778b6e6c4660982079a0b7f45a23",
            "cb060273ea554bf587e45caf0ed70d95",
            "4e9cde60d95c406b995e70fa144f6ccc",
            "3ec730abafa444f7a9b2892aa8c78d69",
            "e9c57c852e2844db83a9e5da4bfb9256",
            "f0ae64e36d7144aea8d7cb6eab125935",
            "f930e73dcfa5418b8b1d71f0d308ce8d",
            "28786391980f445fab0f63b98d797773",
            "4e283d947ce747b09c78bfa3fd4bbe23",
            "cb0bd6561bb14a338c02cc5aae8ad22e",
            "e201c97f234b4624b978957f761adb94",
            "1cddc178b634421baecfabb762fa8d01",
            "ce58e9d5cb4b4b269337a5c07ecdeb4f",
            "d0bb824c646044b2968ee9ab499694e3",
            "763a622689ed4d129e3ab05f9756d7ec",
            "20961cd82dbb48e39d2fd629720dc573",
            "227c30dfb2e848c881f4c6c57eb55827",
            "67193b3cf51f4712b95c061d421336b5",
            "79b8a19a5e2d4f00b60189670b7a513b",
            "c4f156947ad6488eba1ded167954d3c0",
            "57491e426e864875a1d6f6318cc813ad",
            "c2578520b88e4169a1f7cbfeaa557861",
            "855f0e999c9c483f99508bd65dbaec8c",
            "69f3179960034353ac33d8ca0196c57b",
            "aaa2fa2d7a054285bf5ade51f2fb662e",
            "f7aec48c5ec44128b24795b035432c6e",
            "1a7cc4c2ec304123a05d72dd483bf3a0",
            "4faa1008262340b3ab2a1c3b25434106",
            "6c3956997919402fa94a6852dc8a1155",
            "5594494428d843d382aba93aec45a799",
            "8eed0a87261a47f7a073ee016d9751b8",
            "48c4bf24d8ff429ab9270214e4a806c0",
            "4b5a416bb5c44e70815c35a6e56d890b",
            "269d2bf0726c4e5188975d5c78a8dd6d",
            "b9a17a76f49c4b858da23ade078bf07d",
            "61866fc430514db5bd2e6a31c50c2978",
            "4dc8a476bba84f1db7760dc99c25e27e",
            "14988402d32a4f74914de5e85855d12d",
            "e010e43acc7945b185ab919613716656",
            "cf1a37be97d9404c8c4752edabea79a5",
            "949f296cd1024e0388e314ba90bb6003",
            "3ad535d6dd354d78a82fd6556f15d0e9",
            "7ea78eb4e0af431d93ea746353bc7fb8",
            "5513b84e19b2431ca4d96026a876d8e2",
            "4877fb192e6f4c4b87ae6af8dc299b61",
            "d0f7188d48d545b2affd82bcb0587958",
            "702d69a701834b28b9836d009c7fed90",
            "c4bfb36be1ba4d12b07a40df944a25cb",
            "5ee70a63c3ce4829b197c484be0365d5",
            "0d050aa86f6041fd953cd71414fca911",
            "4e0771785fd04b7682812f846613f147",
            "1a63188a67664a19a3bccfa9e4c6eb79",
            "6daa23e474bd4fc0bbf1ce45dcce5111",
            "a427dce5e3b048d09f070c22a2f2a737",
            "8a530bc58242418caf896f292b1108f7",
            "47208f5407734c9da441c1d091bdae02",
            "644c3325e7f14ea9b4abd6d11dc202b9",
            "402dded64edb4aecb29355e27afcf0aa",
            "32ce6fb4eb40421e94afa9305d3b5c59",
            "739510f41b744ae0a23b015f29afde17",
            "08118c7fb0a8497cabc038ee08743b39",
            "2ec4f7f2d40b4346a684b5ef54775032",
            "ad3a1280517b44a088e2a3c5ff2528ca",
            "82ae7d0205c4418a8e5da17c3f6a6d8e"
          ]
        },
        "id": "7AeKVT25GWK7",
        "outputId": "d1261803-6e46-4863-c421-52ed75ee00e5"
      },
      "outputs": [
        {
          "output_type": "stream",
          "name": "stdout",
          "text": [
            "Starting model training with manual loop and early stopping...\n"
          ]
        },
        {
          "output_type": "display_data",
          "data": {
            "text/plain": [
              "Epoch 1/5 [Train]:   0%|          | 0/1908 [00:00<?, ?it/s]"
            ],
            "application/vnd.jupyter.widget-view+json": {
              "version_major": 2,
              "version_minor": 0,
              "model_id": "5fe56cc370e54d1798f1d2cec329a17d"
            }
          },
          "metadata": {}
        },
        {
          "output_type": "stream",
          "name": "stdout",
          "text": [
            "Unique predictions: [0 1]\n",
            "Unique predictions: [0 1]\n",
            "Unique predictions: [0 1]\n",
            "Unique predictions: [0 1]\n",
            "Unique predictions: [0 1]\n",
            "Unique predictions: [0 1]\n",
            "Unique predictions: [0 1]\n",
            "Unique predictions: [0 1]\n",
            "Unique predictions: [0 1]\n",
            "Unique predictions: [0 1]\n",
            "Unique predictions: [0 1]\n",
            "Unique predictions: [0 1]\n",
            "Unique predictions: [0 1]\n",
            "Unique predictions: [0 1]\n",
            "Unique predictions: [0 1]\n"
          ]
        },
        {
          "output_type": "display_data",
          "data": {
            "text/plain": [
              "Epoch 1/5 [Val]:   0%|          | 0/337 [00:00<?, ?it/s]"
            ],
            "application/vnd.jupyter.widget-view+json": {
              "version_major": 2,
              "version_minor": 0,
              "model_id": "c7c45714c15541e9a088e33288683f31"
            }
          },
          "metadata": {}
        },
        {
          "output_type": "stream",
          "name": "stdout",
          "text": [
            "Epoch 1/5:\n",
            "  Train Loss: 0.2176, Acc: 0.9228, F1: 0.9258\n",
            "  Val Loss: 0.1061, Acc: 0.9690, F1: 0.9696\n",
            "  Train predictions: [14711 15810]\n",
            "  Val predictions: [2719 2668]\n"
          ]
        },
        {
          "output_type": "display_data",
          "data": {
            "text/plain": [
              "Epoch 2/5 [Train]:   0%|          | 0/1908 [00:00<?, ?it/s]"
            ],
            "application/vnd.jupyter.widget-view+json": {
              "version_major": 2,
              "version_minor": 0,
              "model_id": "219dbcb37f6b430a939fe833025130b3"
            }
          },
          "metadata": {}
        },
        {
          "output_type": "stream",
          "name": "stdout",
          "text": [
            "Unique predictions: [0 1]\n",
            "Unique predictions: [0 1]\n",
            "Unique predictions: [0 1]\n",
            "Unique predictions: [0 1]\n",
            "Unique predictions: [0 1]\n",
            "Unique predictions: [0 1]\n",
            "Unique predictions: [0 1]\n",
            "Unique predictions: [0 1]\n",
            "Unique predictions: [0 1]\n",
            "Unique predictions: [0 1]\n",
            "Unique predictions: [0 1]\n",
            "Unique predictions: [0 1]\n",
            "Unique predictions: [0 1]\n",
            "Unique predictions: [0 1]\n",
            "Unique predictions: [0 1]\n"
          ]
        },
        {
          "output_type": "display_data",
          "data": {
            "text/plain": [
              "Epoch 2/5 [Val]:   0%|          | 0/337 [00:00<?, ?it/s]"
            ],
            "application/vnd.jupyter.widget-view+json": {
              "version_major": 2,
              "version_minor": 0,
              "model_id": "69d1d78928a94ed1b943d878cde19296"
            }
          },
          "metadata": {}
        },
        {
          "output_type": "stream",
          "name": "stdout",
          "text": [
            "Epoch 2/5:\n",
            "  Train Loss: 0.0669, Acc: 0.9817, F1: 0.9824\n",
            "  Val Loss: 0.0487, Acc: 0.9848, F1: 0.9854\n",
            "  Train predictions: [14713 15808]\n",
            "  Val predictions: [2604 2783]\n"
          ]
        },
        {
          "output_type": "display_data",
          "data": {
            "text/plain": [
              "Epoch 3/5 [Train]:   0%|          | 0/1908 [00:00<?, ?it/s]"
            ],
            "application/vnd.jupyter.widget-view+json": {
              "version_major": 2,
              "version_minor": 0,
              "model_id": "3af29c2890ab473ca5c87448a5cb92d7"
            }
          },
          "metadata": {}
        },
        {
          "output_type": "stream",
          "name": "stdout",
          "text": [
            "Unique predictions: [0 1]\n",
            "Unique predictions: [0 1]\n",
            "Unique predictions: [0 1]\n",
            "Unique predictions: [0 1]\n",
            "Unique predictions: [0 1]\n",
            "Unique predictions: [0 1]\n",
            "Unique predictions: [0 1]\n",
            "Unique predictions: [0 1]\n",
            "Unique predictions: [0 1]\n",
            "Unique predictions: [0 1]\n",
            "Unique predictions: [0 1]\n",
            "Unique predictions: [0 1]\n",
            "Unique predictions: [0 1]\n",
            "Unique predictions: [0 1]\n",
            "Unique predictions: [0 1]\n"
          ]
        },
        {
          "output_type": "display_data",
          "data": {
            "text/plain": [
              "Epoch 3/5 [Val]:   0%|          | 0/337 [00:00<?, ?it/s]"
            ],
            "application/vnd.jupyter.widget-view+json": {
              "version_major": 2,
              "version_minor": 0,
              "model_id": "cb0bd6561bb14a338c02cc5aae8ad22e"
            }
          },
          "metadata": {}
        },
        {
          "output_type": "stream",
          "name": "stdout",
          "text": [
            "Epoch 3/5:\n",
            "  Train Loss: 0.0265, Acc: 0.9937, F1: 0.9940\n",
            "  Val Loss: 0.0533, Acc: 0.9877, F1: 0.9883\n",
            "  Train predictions: [14585 15936]\n",
            "  Val predictions: [2580 2807]\n"
          ]
        },
        {
          "output_type": "display_data",
          "data": {
            "text/plain": [
              "Epoch 4/5 [Train]:   0%|          | 0/1908 [00:00<?, ?it/s]"
            ],
            "application/vnd.jupyter.widget-view+json": {
              "version_major": 2,
              "version_minor": 0,
              "model_id": "57491e426e864875a1d6f6318cc813ad"
            }
          },
          "metadata": {}
        },
        {
          "output_type": "stream",
          "name": "stdout",
          "text": [
            "Unique predictions: [0 1]\n",
            "Unique predictions: [0 1]\n",
            "Unique predictions: [0 1]\n",
            "Unique predictions: [0 1]\n",
            "Unique predictions: [0 1]\n",
            "Unique predictions: [0 1]\n",
            "Unique predictions: [0 1]\n",
            "Unique predictions: [0 1]\n",
            "Unique predictions: [0 1]\n",
            "Unique predictions: [0 1]\n",
            "Unique predictions: [0 1]\n",
            "Unique predictions: [0 1]\n",
            "Unique predictions: [0 1]\n",
            "Unique predictions: [0 1]\n",
            "Unique predictions: [0 1]\n"
          ]
        },
        {
          "output_type": "display_data",
          "data": {
            "text/plain": [
              "Epoch 4/5 [Val]:   0%|          | 0/337 [00:00<?, ?it/s]"
            ],
            "application/vnd.jupyter.widget-view+json": {
              "version_major": 2,
              "version_minor": 0,
              "model_id": "48c4bf24d8ff429ab9270214e4a806c0"
            }
          },
          "metadata": {}
        },
        {
          "output_type": "stream",
          "name": "stdout",
          "text": [
            "Epoch 4/5:\n",
            "  Train Loss: 0.0066, Acc: 0.9985, F1: 0.9986\n",
            "  Val Loss: 0.0745, Acc: 0.9879, F1: 0.9884\n",
            "  Train predictions: [14569 15952]\n",
            "  Val predictions: [2577 2810]\n"
          ]
        },
        {
          "output_type": "display_data",
          "data": {
            "text/plain": [
              "Epoch 5/5 [Train]:   0%|          | 0/1908 [00:00<?, ?it/s]"
            ],
            "application/vnd.jupyter.widget-view+json": {
              "version_major": 2,
              "version_minor": 0,
              "model_id": "7ea78eb4e0af431d93ea746353bc7fb8"
            }
          },
          "metadata": {}
        },
        {
          "output_type": "stream",
          "name": "stdout",
          "text": [
            "Unique predictions: [0 1]\n",
            "Unique predictions: [0 1]\n",
            "Unique predictions: [0 1]\n",
            "Unique predictions: [0 1]\n",
            "Unique predictions: [0 1]\n",
            "Unique predictions: [0 1]\n",
            "Unique predictions: [0 1]\n",
            "Unique predictions: [0 1]\n",
            "Unique predictions: [0 1]\n",
            "Unique predictions: [0 1]\n",
            "Unique predictions: [0 1]\n",
            "Unique predictions: [0 1]\n",
            "Unique predictions: [0 1]\n",
            "Unique predictions: [0 1]\n",
            "Unique predictions: [0 1]\n"
          ]
        },
        {
          "output_type": "display_data",
          "data": {
            "text/plain": [
              "Epoch 5/5 [Val]:   0%|          | 0/337 [00:00<?, ?it/s]"
            ],
            "application/vnd.jupyter.widget-view+json": {
              "version_major": 2,
              "version_minor": 0,
              "model_id": "a427dce5e3b048d09f070c22a2f2a737"
            }
          },
          "metadata": {}
        },
        {
          "output_type": "stream",
          "name": "stdout",
          "text": [
            "Epoch 5/5:\n",
            "  Train Loss: 0.0015, Acc: 0.9996, F1: 0.9996\n",
            "  Val Loss: 0.0796, Acc: 0.9879, F1: 0.9884\n",
            "  Train predictions: [14562 15959]\n",
            "  Val predictions: [2587 2800]\n"
          ]
        }
      ],
      "source": [
        "# Train the model\n",
        "print(\"Starting model training with manual loop and early stopping...\")\n",
        "model = train_model(model, train_dataloader, val_dataloader, epochs=5)"
      ]
    },
    {
      "cell_type": "code",
      "source": [
        "print(\"Class weights:\", class_weights)  # Should be ~[0.93, 1.07]"
      ],
      "metadata": {
        "colab": {
          "base_uri": "https://localhost:8080/"
        },
        "id": "gGiYN-iyM-Tv",
        "outputId": "bd60721f-ee19-4330-9f15-8dd34fd1ef86"
      },
      "execution_count": 40,
      "outputs": [
        {
          "output_type": "stream",
          "name": "stdout",
          "text": [
            "Class weights: {0: np.float64(1.0480392830162764), 1: np.float64(0.956171679197995)}\n"
          ]
        }
      ]
    },
    {
      "cell_type": "code",
      "source": [
        "for name, param in model.named_parameters():\n",
        "    if param.requires_grad:\n",
        "        print(name, param.grad.abs().mean())  # Should not be all zeros"
      ],
      "metadata": {
        "colab": {
          "base_uri": "https://localhost:8080/"
        },
        "id": "FI44NYmcNEpg",
        "outputId": "bf44826d-1103-4cdd-a837-45e7726957ba"
      },
      "execution_count": 41,
      "outputs": [
        {
          "output_type": "stream",
          "name": "stdout",
          "text": [
            "distilbert.embeddings.word_embeddings.weight tensor(2.1681e-10, device='cuda:0')\n",
            "distilbert.embeddings.position_embeddings.weight tensor(7.2343e-09, device='cuda:0')\n",
            "distilbert.embeddings.LayerNorm.weight tensor(5.8191e-08, device='cuda:0')\n",
            "distilbert.embeddings.LayerNorm.bias tensor(1.0922e-07, device='cuda:0')\n",
            "distilbert.transformer.layer.0.attention.q_lin.weight tensor(6.0162e-09, device='cuda:0')\n",
            "distilbert.transformer.layer.0.attention.q_lin.bias tensor(1.4085e-08, device='cuda:0')\n",
            "distilbert.transformer.layer.0.attention.k_lin.weight tensor(5.8374e-09, device='cuda:0')\n",
            "distilbert.transformer.layer.0.attention.k_lin.bias tensor(1.6934e-10, device='cuda:0')\n",
            "distilbert.transformer.layer.0.attention.v_lin.weight tensor(1.3333e-08, device='cuda:0')\n",
            "distilbert.transformer.layer.0.attention.v_lin.bias tensor(5.6667e-08, device='cuda:0')\n",
            "distilbert.transformer.layer.0.attention.out_lin.weight tensor(1.6126e-08, device='cuda:0')\n",
            "distilbert.transformer.layer.0.attention.out_lin.bias tensor(5.7466e-08, device='cuda:0')\n",
            "distilbert.transformer.layer.0.sa_layer_norm.weight tensor(4.2688e-08, device='cuda:0')\n",
            "distilbert.transformer.layer.0.sa_layer_norm.bias tensor(5.9989e-08, device='cuda:0')\n",
            "distilbert.transformer.layer.0.ffn.lin1.weight tensor(8.3093e-09, device='cuda:0')\n",
            "distilbert.transformer.layer.0.ffn.lin1.bias tensor(1.2383e-08, device='cuda:0')\n",
            "distilbert.transformer.layer.0.ffn.lin2.weight tensor(6.4481e-09, device='cuda:0')\n",
            "distilbert.transformer.layer.0.ffn.lin2.bias tensor(6.1179e-08, device='cuda:0')\n",
            "distilbert.transformer.layer.0.output_layer_norm.weight tensor(5.8964e-08, device='cuda:0')\n",
            "distilbert.transformer.layer.0.output_layer_norm.bias tensor(1.2153e-07, device='cuda:0')\n",
            "distilbert.transformer.layer.1.attention.q_lin.weight tensor(4.9147e-09, device='cuda:0')\n",
            "distilbert.transformer.layer.1.attention.q_lin.bias tensor(1.1793e-08, device='cuda:0')\n",
            "distilbert.transformer.layer.1.attention.k_lin.weight tensor(4.8976e-09, device='cuda:0')\n",
            "distilbert.transformer.layer.1.attention.k_lin.bias tensor(1.6668e-10, device='cuda:0')\n",
            "distilbert.transformer.layer.1.attention.v_lin.weight tensor(1.7090e-08, device='cuda:0')\n",
            "distilbert.transformer.layer.1.attention.v_lin.bias tensor(7.7214e-08, device='cuda:0')\n",
            "distilbert.transformer.layer.1.attention.out_lin.weight tensor(1.7729e-08, device='cuda:0')\n",
            "distilbert.transformer.layer.1.attention.out_lin.bias tensor(7.2001e-08, device='cuda:0')\n",
            "distilbert.transformer.layer.1.sa_layer_norm.weight tensor(4.8854e-08, device='cuda:0')\n",
            "distilbert.transformer.layer.1.sa_layer_norm.bias tensor(7.5512e-08, device='cuda:0')\n",
            "distilbert.transformer.layer.1.ffn.lin1.weight tensor(9.3529e-09, device='cuda:0')\n",
            "distilbert.transformer.layer.1.ffn.lin1.bias tensor(1.4022e-08, device='cuda:0')\n",
            "distilbert.transformer.layer.1.ffn.lin2.weight tensor(7.1764e-09, device='cuda:0')\n",
            "distilbert.transformer.layer.1.ffn.lin2.bias tensor(6.4990e-08, device='cuda:0')\n",
            "distilbert.transformer.layer.1.output_layer_norm.weight tensor(5.2605e-08, device='cuda:0')\n",
            "distilbert.transformer.layer.1.output_layer_norm.bias tensor(1.1600e-07, device='cuda:0')\n",
            "distilbert.transformer.layer.2.attention.q_lin.weight tensor(6.6893e-09, device='cuda:0')\n",
            "distilbert.transformer.layer.2.attention.q_lin.bias tensor(1.4435e-08, device='cuda:0')\n",
            "distilbert.transformer.layer.2.attention.k_lin.weight tensor(6.6829e-09, device='cuda:0')\n",
            "distilbert.transformer.layer.2.attention.k_lin.bias tensor(1.8531e-10, device='cuda:0')\n",
            "distilbert.transformer.layer.2.attention.v_lin.weight tensor(1.5945e-08, device='cuda:0')\n",
            "distilbert.transformer.layer.2.attention.v_lin.bias tensor(7.3536e-08, device='cuda:0')\n",
            "distilbert.transformer.layer.2.attention.out_lin.weight tensor(1.6792e-08, device='cuda:0')\n",
            "distilbert.transformer.layer.2.attention.out_lin.bias tensor(6.3876e-08, device='cuda:0')\n",
            "distilbert.transformer.layer.2.sa_layer_norm.weight tensor(5.0348e-08, device='cuda:0')\n",
            "distilbert.transformer.layer.2.sa_layer_norm.bias tensor(8.0463e-08, device='cuda:0')\n",
            "distilbert.transformer.layer.2.ffn.lin1.weight tensor(9.2962e-09, device='cuda:0')\n",
            "distilbert.transformer.layer.2.ffn.lin1.bias tensor(1.7069e-08, device='cuda:0')\n",
            "distilbert.transformer.layer.2.ffn.lin2.weight tensor(6.9585e-09, device='cuda:0')\n",
            "distilbert.transformer.layer.2.ffn.lin2.bias tensor(7.0443e-08, device='cuda:0')\n",
            "distilbert.transformer.layer.2.output_layer_norm.weight tensor(5.0103e-08, device='cuda:0')\n",
            "distilbert.transformer.layer.2.output_layer_norm.bias tensor(1.3114e-07, device='cuda:0')\n",
            "distilbert.transformer.layer.3.attention.q_lin.weight tensor(5.0972e-09, device='cuda:0')\n",
            "distilbert.transformer.layer.3.attention.q_lin.bias tensor(1.0300e-08, device='cuda:0')\n",
            "distilbert.transformer.layer.3.attention.k_lin.weight tensor(5.1586e-09, device='cuda:0')\n",
            "distilbert.transformer.layer.3.attention.k_lin.bias tensor(1.8722e-10, device='cuda:0')\n",
            "distilbert.transformer.layer.3.attention.v_lin.weight tensor(1.2629e-08, device='cuda:0')\n",
            "distilbert.transformer.layer.3.attention.v_lin.bias tensor(6.2615e-08, device='cuda:0')\n",
            "distilbert.transformer.layer.3.attention.out_lin.weight tensor(1.3679e-08, device='cuda:0')\n",
            "distilbert.transformer.layer.3.attention.out_lin.bias tensor(5.8973e-08, device='cuda:0')\n",
            "distilbert.transformer.layer.3.sa_layer_norm.weight tensor(4.9154e-08, device='cuda:0')\n",
            "distilbert.transformer.layer.3.sa_layer_norm.bias tensor(7.5548e-08, device='cuda:0')\n",
            "distilbert.transformer.layer.3.ffn.lin1.weight tensor(7.4133e-09, device='cuda:0')\n",
            "distilbert.transformer.layer.3.ffn.lin1.bias tensor(1.3988e-08, device='cuda:0')\n",
            "distilbert.transformer.layer.3.ffn.lin2.weight tensor(6.4640e-09, device='cuda:0')\n",
            "distilbert.transformer.layer.3.ffn.lin2.bias tensor(6.2627e-08, device='cuda:0')\n",
            "distilbert.transformer.layer.3.output_layer_norm.weight tensor(4.8578e-08, device='cuda:0')\n",
            "distilbert.transformer.layer.3.output_layer_norm.bias tensor(1.0810e-07, device='cuda:0')\n",
            "distilbert.transformer.layer.4.attention.q_lin.weight tensor(4.6488e-09, device='cuda:0')\n",
            "distilbert.transformer.layer.4.attention.q_lin.bias tensor(1.3791e-08, device='cuda:0')\n",
            "distilbert.transformer.layer.4.attention.k_lin.weight tensor(5.4325e-09, device='cuda:0')\n",
            "distilbert.transformer.layer.4.attention.k_lin.bias tensor(1.8925e-10, device='cuda:0')\n",
            "distilbert.transformer.layer.4.attention.v_lin.weight tensor(1.1792e-08, device='cuda:0')\n",
            "distilbert.transformer.layer.4.attention.v_lin.bias tensor(5.3250e-08, device='cuda:0')\n",
            "distilbert.transformer.layer.4.attention.out_lin.weight tensor(1.1730e-08, device='cuda:0')\n",
            "distilbert.transformer.layer.4.attention.out_lin.bias tensor(3.5933e-08, device='cuda:0')\n",
            "distilbert.transformer.layer.4.sa_layer_norm.weight tensor(4.1928e-08, device='cuda:0')\n",
            "distilbert.transformer.layer.4.sa_layer_norm.bias tensor(5.1342e-08, device='cuda:0')\n",
            "distilbert.transformer.layer.4.ffn.lin1.weight tensor(5.2471e-09, device='cuda:0')\n",
            "distilbert.transformer.layer.4.ffn.lin1.bias tensor(9.0733e-09, device='cuda:0')\n",
            "distilbert.transformer.layer.4.ffn.lin2.weight tensor(5.3416e-09, device='cuda:0')\n",
            "distilbert.transformer.layer.4.ffn.lin2.bias tensor(3.6843e-08, device='cuda:0')\n",
            "distilbert.transformer.layer.4.output_layer_norm.weight tensor(4.2532e-08, device='cuda:0')\n",
            "distilbert.transformer.layer.4.output_layer_norm.bias tensor(7.0767e-08, device='cuda:0')\n",
            "distilbert.transformer.layer.5.attention.q_lin.weight tensor(3.2401e-09, device='cuda:0')\n",
            "distilbert.transformer.layer.5.attention.q_lin.bias tensor(5.4811e-09, device='cuda:0')\n",
            "distilbert.transformer.layer.5.attention.k_lin.weight tensor(3.6637e-09, device='cuda:0')\n",
            "distilbert.transformer.layer.5.attention.k_lin.bias tensor(6.6298e-11, device='cuda:0')\n",
            "distilbert.transformer.layer.5.attention.v_lin.weight tensor(1.2018e-08, device='cuda:0')\n",
            "distilbert.transformer.layer.5.attention.v_lin.bias tensor(3.4985e-08, device='cuda:0')\n",
            "distilbert.transformer.layer.5.attention.out_lin.weight tensor(1.3429e-08, device='cuda:0')\n",
            "distilbert.transformer.layer.5.attention.out_lin.bias tensor(2.6205e-08, device='cuda:0')\n",
            "distilbert.transformer.layer.5.sa_layer_norm.weight tensor(4.5982e-08, device='cuda:0')\n",
            "distilbert.transformer.layer.5.sa_layer_norm.bias tensor(4.9019e-08, device='cuda:0')\n",
            "distilbert.transformer.layer.5.ffn.lin1.weight tensor(7.7831e-09, device='cuda:0')\n",
            "distilbert.transformer.layer.5.ffn.lin1.bias tensor(1.1664e-08, device='cuda:0')\n",
            "distilbert.transformer.layer.5.ffn.lin2.weight tensor(8.3133e-09, device='cuda:0')\n",
            "distilbert.transformer.layer.5.ffn.lin2.bias tensor(3.2726e-08, device='cuda:0')\n",
            "distilbert.transformer.layer.5.output_layer_norm.weight tensor(3.8748e-07, device='cuda:0')\n",
            "distilbert.transformer.layer.5.output_layer_norm.bias tensor(2.3482e-07, device='cuda:0')\n",
            "pre_classifier.weight tensor(9.9016e-08, device='cuda:0')\n",
            "pre_classifier.bias tensor(1.9931e-07, device='cuda:0')\n",
            "classifier.weight tensor(7.9459e-06, device='cuda:0')\n",
            "classifier.bias tensor(8.3335e-06, device='cuda:0')\n"
          ]
        }
      ]
    },
    {
      "cell_type": "code",
      "source": [
        "print(\"Train label distribution:\", train_df['label'].value_counts(normalize=True))\n",
        "print(\"Val label distribution:\", val_df['label'].value_counts(normalize=True))"
      ],
      "metadata": {
        "colab": {
          "base_uri": "https://localhost:8080/"
        },
        "id": "A6XZ-FlgNF5k",
        "outputId": "16812915-783c-4cab-bc6d-69f06470617e"
      },
      "execution_count": 42,
      "outputs": [
        {
          "output_type": "stream",
          "name": "stdout",
          "text": [
            "Train label distribution: label\n",
            "1    0.522919\n",
            "0    0.477081\n",
            "Name: proportion, dtype: float64\n",
            "Val label distribution: label\n",
            "1    0.522926\n",
            "0    0.477074\n",
            "Name: proportion, dtype: float64\n"
          ]
        }
      ]
    },
    {
      "cell_type": "code",
      "source": [
        "sample = next(iter(train_dataloader))\n",
        "print(\"Input IDs shape:\", sample['input_ids'].shape)\n",
        "print(\"Labels:\", sample['labels'].unique())"
      ],
      "metadata": {
        "colab": {
          "base_uri": "https://localhost:8080/"
        },
        "id": "BJMVYCdpNnpx",
        "outputId": "9e4ea5bc-e457-4f91-e265-b94164d4ab33"
      },
      "execution_count": 43,
      "outputs": [
        {
          "output_type": "stream",
          "name": "stdout",
          "text": [
            "Input IDs shape: torch.Size([16, 34])\n",
            "Labels: tensor([0, 1])\n"
          ]
        }
      ]
    },
    {
      "cell_type": "markdown",
      "metadata": {
        "id": "OfbqgFn6GWK7"
      },
      "source": [
        "### Calibrate classification threshold"
      ]
    },
    {
      "cell_type": "code",
      "execution_count": 44,
      "metadata": {
        "id": "ympdj6YNGWK7"
      },
      "outputs": [],
      "source": [
        "def calibrate_threshold(model, dataloader):\n",
        "    \"\"\"Find optimal classification threshold using precision-recall curve\"\"\"\n",
        "    device = torch.device(\"cuda\" if torch.cuda.is_available() else \"cpu\")\n",
        "    model.to(device)\n",
        "    model.eval()\n",
        "\n",
        "    all_probs = []\n",
        "    all_labels = []\n",
        "\n",
        "    with torch.no_grad():\n",
        "        for batch in tqdm(dataloader, desc=\"Calibrating threshold\"):\n",
        "            batch = {k: v.to(device) for k, v in batch.items()}\n",
        "\n",
        "            outputs = model(batch['input_ids'], batch['attention_mask'])\n",
        "            probs = torch.softmax(outputs, dim=1)[:, 1].cpu().numpy()  # Prob of class 1 (fake)\n",
        "\n",
        "            all_probs.extend(probs)\n",
        "            all_labels.extend(batch['labels'].cpu().numpy())\n",
        "\n",
        "    # Find optimal threshold\n",
        "    precision, recall, thresholds = precision_recall_curve(all_labels, all_probs)\n",
        "    f1_scores = 2 * precision * recall / (precision + recall + 1e-8)\n",
        "\n",
        "    # Get the index of the best F1 score\n",
        "    optimal_idx = np.argmax(f1_scores)\n",
        "    # Get the threshold that gives the best F1 score\n",
        "    optimal_threshold = thresholds[optimal_idx]\n",
        "\n",
        "    return optimal_threshold"
      ]
    },
    {
      "cell_type": "code",
      "execution_count": 45,
      "metadata": {
        "colab": {
          "base_uri": "https://localhost:8080/",
          "height": 67,
          "referenced_widgets": [
            "94c1791b8baa4012a5ee84180be98aaa",
            "e40ead799e5e41e6b0e222d217fd14d7",
            "d5d1dc5fc55645e497e36835218504d2",
            "c52c60c627204d30ae5213e593905f89",
            "928a4584320a43e5be6864979439d698",
            "4be0d56b3f014a85ac874f92bd223597",
            "6bd8e4797fb143358587d17beb022065",
            "b7e895f3557d46e6a4c665176e72f741",
            "8d59961862fc440dbd726bc1505c89bf",
            "64ae19abbd524acdbc7aede40b90748c",
            "5f3e4bb41e5d419b868ec475a5ee665c"
          ]
        },
        "id": "znCP9kKGGWK8",
        "outputId": "e50c8368-27cd-41a2-c0ad-8b41b0a4d9c8"
      },
      "outputs": [
        {
          "output_type": "display_data",
          "data": {
            "text/plain": [
              "Calibrating threshold:   0%|          | 0/337 [00:00<?, ?it/s]"
            ],
            "application/vnd.jupyter.widget-view+json": {
              "version_major": 2,
              "version_minor": 0,
              "model_id": "94c1791b8baa4012a5ee84180be98aaa"
            }
          },
          "metadata": {}
        },
        {
          "output_type": "stream",
          "name": "stdout",
          "text": [
            "Optimal classification threshold: 0.9934\n"
          ]
        }
      ],
      "source": [
        "# Calibrate threshold on validation set\n",
        "optimal_threshold = calibrate_threshold(model, val_dataloader)\n",
        "print(f\"Optimal classification threshold: {optimal_threshold:.4f}\")"
      ]
    },
    {
      "cell_type": "code",
      "source": [],
      "metadata": {
        "id": "qhFXzwP3Nir9"
      },
      "execution_count": 45,
      "outputs": []
    },
    {
      "cell_type": "markdown",
      "metadata": {
        "id": "JmN2fcOlgHSH"
      },
      "source": [
        "## Results and Evaluation\n",
        "\n",
        "Assessing model performance on the test set with standard classification metrics:\n",
        "- Accuracy\n",
        "- Precision and recall\n",
        "- F1 score\n",
        "- Confusion matrix visualization"
      ]
    },
    {
      "cell_type": "code",
      "execution_count": 46,
      "metadata": {
        "id": "YBTcP_kKgHSH"
      },
      "outputs": [],
      "source": [
        "def evaluate_model(model, dataloader, threshold=0.5):\n",
        "    \"\"\"Evaluate model with calibrated threshold\"\"\"\n",
        "    device = torch.device(\"cuda\" if torch.cuda.is_available() else \"cpu\")\n",
        "    model.to(device)\n",
        "    model.eval()\n",
        "\n",
        "    all_probs = []\n",
        "    all_preds = []\n",
        "    all_labels = []\n",
        "\n",
        "    with torch.no_grad():\n",
        "        for batch in tqdm(dataloader, desc=\"Evaluating\"):\n",
        "            batch = {k: v.to(device) for k, v in batch.items()}\n",
        "\n",
        "            outputs = model(batch['input_ids'], batch['attention_mask'])\n",
        "            probs = torch.softmax(outputs, dim=1)[:, 1].cpu().numpy()  # Prob of class 1 (fake)\n",
        "\n",
        "            # Apply threshold\n",
        "            preds = (probs >= threshold).astype(int)\n",
        "\n",
        "            all_probs.extend(probs)\n",
        "            all_preds.extend(preds)\n",
        "            all_labels.extend(batch['labels'].cpu().numpy())\n",
        "\n",
        "    # Calculate metrics\n",
        "    accuracy = accuracy_score(all_labels, all_preds)\n",
        "    precision, recall, f1, _ = precision_recall_fscore_support(\n",
        "        all_labels, all_preds, average='binary'\n",
        "    )\n",
        "\n",
        "    # Create confusion matrix\n",
        "    cm = confusion_matrix(all_labels, all_preds)\n",
        "\n",
        "    return {\n",
        "        'accuracy': accuracy,\n",
        "        'precision': precision,\n",
        "        'recall': recall,\n",
        "        'f1': f1,\n",
        "        'confusion_matrix': cm,\n",
        "        'probabilities': all_probs,\n",
        "        'predictions': all_preds,\n",
        "        'labels': all_labels\n",
        "    }"
      ]
    },
    {
      "cell_type": "code",
      "execution_count": 47,
      "metadata": {
        "colab": {
          "base_uri": "https://localhost:8080/",
          "height": 49,
          "referenced_widgets": [
            "d8a5083080014acebc092ffef4f24652",
            "509dd42fa84c4c4eb12d90d9bdda7320",
            "5272c26f1d61498d863f8fc431184c43",
            "35c2c0339dcb40dfbe27503a3463238d",
            "5083dffc5b6f4bc785c07ed8e4b3a36a",
            "57ea6065f6cb413e9bac0ab77a034c4c",
            "9388722ac423475f854662b1ec384f54",
            "5185ee2191fe4e6b8c21e0703f0ec0e1",
            "febf6ed4b7ad4ab28d0d82dc4f02ec1d",
            "78631dca4dad4bf485d8204ec6e714fd",
            "0f28f2841c824dcbbdca3eec0ac9fb6b"
          ]
        },
        "id": "JhQhVh3MGWK8",
        "outputId": "88a4aeec-f870-4980-cada-4a6aeac9cf2c"
      },
      "outputs": [
        {
          "output_type": "display_data",
          "data": {
            "text/plain": [
              "Evaluating:   0%|          | 0/562 [00:00<?, ?it/s]"
            ],
            "application/vnd.jupyter.widget-view+json": {
              "version_major": 2,
              "version_minor": 0,
              "model_id": "d8a5083080014acebc092ffef4f24652"
            }
          },
          "metadata": {}
        }
      ],
      "source": [
        "# Evaluate on test set with calibrated threshold\n",
        "test_results = evaluate_model(model, test_dataloader, threshold=optimal_threshold)"
      ]
    },
    {
      "cell_type": "code",
      "execution_count": 48,
      "metadata": {
        "colab": {
          "base_uri": "https://localhost:8080/"
        },
        "id": "r7l6iznRGWK8",
        "outputId": "42cec9dd-6da2-4543-a9f6-bbc479625445"
      },
      "outputs": [
        {
          "output_type": "stream",
          "name": "stdout",
          "text": [
            "Test Results (with threshold 0.9934):\n",
            "Accuracy: 0.9857\n",
            "Precision: 0.9937\n",
            "Recall: 0.9789\n",
            "F1 Score: 0.9863\n"
          ]
        }
      ],
      "source": [
        "print(f\"Test Results (with threshold {optimal_threshold:.4f}):\")\n",
        "print(f\"Accuracy: {test_results['accuracy']:.4f}\")\n",
        "print(f\"Precision: {test_results['precision']:.4f}\")\n",
        "print(f\"Recall: {test_results['recall']:.4f}\")\n",
        "print(f\"F1 Score: {test_results['f1']:.4f}\")"
      ]
    },
    {
      "cell_type": "code",
      "execution_count": 49,
      "metadata": {
        "colab": {
          "base_uri": "https://localhost:8080/",
          "height": 560
        },
        "id": "OH77ronoGWK8",
        "outputId": "26272285-8665-4924-cefe-7e9bf983cd55"
      },
      "outputs": [
        {
          "output_type": "display_data",
          "data": {
            "text/plain": [
              "<Figure size 800x600 with 2 Axes>"
            ],
            "image/png": "[encoded data removed]"
          },
          "metadata": {}
        }
      ],
      "source": [
        "# Plot confusion matrix\n",
        "plt.figure(figsize=(8, 6))\n",
        "cm = test_results['confusion_matrix']\n",
        "sns.heatmap(cm, annot=True, fmt='d', cmap='Blues', xticklabels=['Real', 'Fake'], yticklabels=['Real', 'Fake'])\n",
        "plt.xlabel('Predicted')\n",
        "plt.ylabel('True')\n",
        "plt.title(f'Confusion Matrix (Threshold: {optimal_threshold:.4f})')\n",
        "plt.show()"
      ]
    },
    {
      "cell_type": "code",
      "execution_count": 50,
      "metadata": {
        "colab": {
          "base_uri": "https://localhost:8080/"
        },
        "id": "LwnBHOG4GWK8",
        "outputId": "b50c1b1d-615a-4887-88bd-40ffcb7a34fd"
      },
      "outputs": [
        {
          "output_type": "stream",
          "name": "stdout",
          "text": [
            "Classification Report:\n",
            "              precision    recall  f1-score   support\n",
            "\n",
            "        Real       0.98      0.99      0.99      4283\n",
            "        Fake       0.99      0.98      0.99      4695\n",
            "\n",
            "    accuracy                           0.99      8978\n",
            "   macro avg       0.99      0.99      0.99      8978\n",
            "weighted avg       0.99      0.99      0.99      8978\n",
            "\n"
          ]
        }
      ],
      "source": [
        "# Print classification report\n",
        "print(\"Classification Report:\")\n",
        "print(classification_report(test_results['labels'], test_results['predictions'], target_names=['Real', 'Fake']))"
      ]
    },
    {
      "cell_type": "code",
      "execution_count": 51,
      "metadata": {
        "id": "1Lp4Hcr5gHSI"
      },
      "outputs": [],
      "source": [
        "def analyze_title(title, model, tokenizer, threshold=0.5):\n",
        "    \"\"\"\n",
        "    Analyze a news title using the trained model\n",
        "\n",
        "    Args:\n",
        "        title: The news title to analyze\n",
        "        model: Trained model\n",
        "        tokenizer: Tokenizer\n",
        "        threshold: Classification threshold\n",
        "\n",
        "    Returns:\n",
        "        dict: Analysis results\n",
        "    \"\"\"\n",
        "    # Preprocess text\n",
        "    processed_title = preprocess_text(title)\n",
        "\n",
        "    # Tokenize\n",
        "    device = torch.device(\"cuda\" if torch.cuda.is_available() else \"cpu\")\n",
        "    encoded_input = tokenizer(\n",
        "        processed_title,\n",
        "        max_length=128,\n",
        "        padding=\"max_length\",\n",
        "        truncation=True,\n",
        "        return_tensors=\"pt\"\n",
        "    )\n",
        "    encoded_input = {k: v.to(device) for k, v in encoded_input.items()}\n",
        "\n",
        "    # Get prediction\n",
        "    model.to(device)\n",
        "    model.eval()\n",
        "\n",
        "    start_time = time.time()\n",
        "    with torch.no_grad():\n",
        "        outputs = model(encoded_input['input_ids'], encoded_input['attention_mask'])\n",
        "        probs = torch.softmax(outputs, dim=1)\n",
        "\n",
        "    fake_prob = probs[0, 1].item()\n",
        "    real_prob = probs[0, 0].item()\n",
        "    prediction = \"Fake\" if fake_prob >= threshold else \"Real\"\n",
        "    processing_time = time.time() - start_time\n",
        "\n",
        "    # Calculate credibility score (inverted fake probability)\n",
        "    credibility_score = 1.0 - fake_prob\n",
        "\n",
        "    # Determine category\n",
        "    if credibility_score > 0.8:\n",
        "        category = \"credible\"\n",
        "    elif credibility_score < 0.2:\n",
        "        category = \"fake\"\n",
        "    else:\n",
        "        category = \"mixed\"\n",
        "\n",
        "    return {\n",
        "        \"title\": title,\n",
        "        \"prediction\": prediction,\n",
        "        \"fake_probability\": fake_prob,\n",
        "        \"real_probability\": real_prob,\n",
        "        \"credibility_score\": credibility_score,\n",
        "        \"category\": category,\n",
        "        \"processing_time\": processing_time\n",
        "    }\n"
      ]
    },
    {
      "cell_type": "code",
      "execution_count": 52,
      "metadata": {
        "id": "YOklaX-1GWK8"
      },
      "outputs": [],
      "source": [
        "# Test the model with some examples\n",
        "test_titles = [\n",
        "    \"Scientists discover breakthrough treatment for cancer that pharmaceutical companies don't want you to know about.\",\n",
        "    \"According to a study published in the Journal of Medicine, regular exercise may reduce the risk of heart disease.\",\n",
        "    \"Secret government documents reveal aliens have been living among us for decades.\",\n",
        "    \"The Supreme Court announced its decision on the case yesterday, with a 6-3 majority opinion.\"\n",
        "]\n"
      ]
    },
    {
      "cell_type": "code",
      "execution_count": 53,
      "metadata": {
        "colab": {
          "base_uri": "https://localhost:8080/"
        },
        "id": "jbK1kGxIGWK8",
        "outputId": "82633f1a-f68c-4a04-959b-cd8d9107d5aa"
      },
      "outputs": [
        {
          "output_type": "stream",
          "name": "stdout",
          "text": [
            "\n",
            "Testing model on example titles:\n",
            "\n",
            "Title: Scientists discover breakthrough treatment for cancer that pharmaceutical companies don't want you to know about.\n",
            "Prediction: Real (confidence: 0.9999)\n",
            "Category: credible\n",
            "Credibility score: 0.9999\n",
            "Processing time: 0.0582 seconds\n",
            "--------------------------------------------------\n",
            "\n",
            "Title: According to a study published in the Journal of Medicine, regular exercise may reduce the risk of heart disease.\n",
            "Prediction: Real (confidence: 0.9579)\n",
            "Category: fake\n",
            "Credibility score: 0.0421\n",
            "Processing time: 0.0081 seconds\n",
            "--------------------------------------------------\n",
            "\n",
            "Title: Secret government documents reveal aliens have been living among us for decades.\n",
            "Prediction: Fake (confidence: 1.0000)\n",
            "Category: fake\n",
            "Credibility score: 0.0000\n",
            "Processing time: 0.0080 seconds\n",
            "--------------------------------------------------\n",
            "\n",
            "Title: The Supreme Court announced its decision on the case yesterday, with a 6-3 majority opinion.\n",
            "Prediction: Fake (confidence: 0.9968)\n",
            "Category: fake\n",
            "Credibility score: 0.0032\n",
            "Processing time: 0.0080 seconds\n",
            "--------------------------------------------------\n"
          ]
        }
      ],
      "source": [
        "print(\"\\nTesting model on example titles:\")\n",
        "for title in test_titles:\n",
        "    result = analyze_title(title, model, tokenizer, threshold=optimal_threshold)\n",
        "    print(f\"\\nTitle: {result['title']}\")\n",
        "    print(f\"Prediction: {result['prediction']} (confidence: {max(result['fake_probability'], result['real_probability']):.4f})\")\n",
        "    print(f\"Category: {result['category']}\")\n",
        "    print(f\"Credibility score: {result['credibility_score']:.4f}\")\n",
        "    print(f\"Processing time: {result['processing_time']:.4f} seconds\")\n",
        "    print(\"-\" * 50)\n"
      ]
    },
    {
      "cell_type": "code",
      "execution_count": 54,
      "metadata": {
        "colab": {
          "base_uri": "https://localhost:8080/"
        },
        "id": "eambQlyaGWK8",
        "outputId": "8aac72e8-0330-46ed-a252-479d6343ae3a"
      },
      "outputs": [
        {
          "output_type": "execute_result",
          "data": {
            "text/plain": [
              "('./models/distilbert_titles_only/tokenizer_config.json',\n",
              " './models/distilbert_titles_only/special_tokens_map.json',\n",
              " './models/distilbert_titles_only/vocab.txt',\n",
              " './models/distilbert_titles_only/added_tokens.json',\n",
              " './models/distilbert_titles_only/tokenizer.json')"
            ]
          },
          "metadata": {},
          "execution_count": 54
        }
      ],
      "source": [
        "# Save the model and tokenizer\n",
        "MODEL_OUTPUT_DIR = \"./models/distilbert_titles_only\"\n",
        "os.makedirs(MODEL_OUTPUT_DIR, exist_ok=True)\n",
        "torch.save(model.state_dict(), os.path.join(MODEL_OUTPUT_DIR, \"model.pt\"))\n",
        "tokenizer.save_pretrained(MODEL_OUTPUT_DIR)"
      ]
    },
    {
      "cell_type": "code",
      "execution_count": 55,
      "metadata": {
        "id": "n3BiA9biGWK8"
      },
      "outputs": [],
      "source": [
        "# Save evaluation metrics\n",
        "metrics = {\n",
        "    \"model_name\": \"DistilBERT (Titles Only)\",\n",
        "    \"accuracy\": float(test_results['accuracy']),\n",
        "    \"precision\": float(test_results['precision']),\n",
        "    \"recall\": float(test_results['recall']),\n",
        "    \"f1_score\": float(test_results['f1']),\n",
        "    \"optimal_threshold\": float(optimal_threshold),\n",
        "    \"train_size\": len(train_df),\n",
        "    \"val_size\": len(val_df),\n",
        "    \"test_size\": len(test_df)\n",
        "}"
      ]
    },
    {
      "cell_type": "code",
      "execution_count": 56,
      "metadata": {
        "colab": {
          "base_uri": "https://localhost:8080/"
        },
        "id": "bcIUISSxGWK9",
        "outputId": "462d7e8b-4685-4fa5-db31-82c0db6401ad"
      },
      "outputs": [
        {
          "output_type": "stream",
          "name": "stdout",
          "text": [
            "\n",
            "Model saved to ./models/distilbert_titles_only\n",
            "Done!\n"
          ]
        }
      ],
      "source": [
        "with open(os.path.join(MODEL_OUTPUT_DIR, \"metrics.json\"), \"w\") as f:\n",
        "    json.dump(metrics, f, indent=4)\n",
        "\n",
        "print(f\"\\nModel saved to {MODEL_OUTPUT_DIR}\")\n",
        "print(\"Done!\")"
      ]
    },
    {
      "cell_type": "code",
      "source": [],
      "metadata": {
        "id": "evqsKOOtcccZ"
      },
      "execution_count": null,
      "outputs": []
    }
  ],
  "metadata": {
    "accelerator": "GPU",
    "colab": {
      "gpuType": "T4",
      "provenance": []
    },
    "kernelspec": {
      "display_name": "Python 3 (ipykernel)",
      "language": "python",
      "name": "python3"
    },
    "language_info": {
      "codemirror_mode": {
        "name": "ipython",
        "version": 3
      },
      "file_extension": ".py",
      "mimetype": "text/x-python",
      "name": "python",
      "nbconvert_exporter": "python",
      "pygments_lexer": "ipython3",
      "version": "3.12.1"
    },
    "widgets": {
      "application/vnd.jupyter.widget-state+json": {
        "5fe56cc370e54d1798f1d2cec329a17d": {
          "model_module": "@jupyter-widgets/controls",
          "model_name": "HBoxModel",
          "model_module_version": "1.5.0",
          "state": {
            "_dom_classes": [],
            "_model_module": "@jupyter-widgets/controls",
            "_model_module_version": "1.5.0",
            "_model_name": "HBoxModel",
            "_view_count": null,
            "_view_module": "@jupyter-widgets/controls",
            "_view_module_version": "1.5.0",
            "_view_name": "HBoxView",
            "box_style": "",
            "children": [
              "IPY_MODEL_3d7b918b034247a6b0edc1390b8b32e9",
              "IPY_MODEL_ad2f72095c1d48e191e79dd93b289e68",
              "IPY_MODEL_c78dfc8b3ebb401b957eaea3d03e0d6a"
            ],
            "layout": "IPY_MODEL_32df6d044c04492fb56b77c9cd7dd837"
          }
        },
        "3d7b918b034247a6b0edc1390b8b32e9": {
          "model_module": "@jupyter-widgets/controls",
          "model_name": "HTMLModel",
          "model_module_version": "1.5.0",
          "state": {
            "_dom_classes": [],
            "_model_module": "@jupyter-widgets/controls",
            "_model_module_version": "1.5.0",
            "_model_name": "HTMLModel",
            "_view_count": null,
            "_view_module": "@jupyter-widgets/controls",
            "_view_module_version": "1.5.0",
            "_view_name": "HTMLView",
            "description": "",
            "description_tooltip": null,
            "layout": "IPY_MODEL_a0cadc3bf3c2489b9b27ae4523d370e4",
            "placeholder": "​",
            "style": "IPY_MODEL_a20802066cbb4e2db1fb2efd8b756f66",
            "value": "Epoch 1/5 [Train]: 100%"
          }
        },
        "ad2f72095c1d48e191e79dd93b289e68": {
          "model_module": "@jupyter-widgets/controls",
          "model_name": "FloatProgressModel",
          "model_module_version": "1.5.0",
          "state": {
            "_dom_classes": [],
            "_model_module": "@jupyter-widgets/controls",
            "_model_module_version": "1.5.0",
            "_model_name": "FloatProgressModel",
            "_view_count": null,
            "_view_module": "@jupyter-widgets/controls",
            "_view_module_version": "1.5.0",
            "_view_name": "ProgressView",
            "bar_style": "success",
            "description": "",
            "description_tooltip": null,
            "layout": "IPY_MODEL_170cffa5f3a24d59911f6f2773acfea7",
            "max": 1908,
            "min": 0,
            "orientation": "horizontal",
            "style": "IPY_MODEL_60a6363f132f47fc875fbec3b19b94cc",
            "value": 1908
          }
        },
        "c78dfc8b3ebb401b957eaea3d03e0d6a": {
          "model_module": "@jupyter-widgets/controls",
          "model_name": "HTMLModel",
          "model_module_version": "1.5.0",
          "state": {
            "_dom_classes": [],
            "_model_module": "@jupyter-widgets/controls",
            "_model_module_version": "1.5.0",
            "_model_name": "HTMLModel",
            "_view_count": null,
            "_view_module": "@jupyter-widgets/controls",
            "_view_module_version": "1.5.0",
            "_view_name": "HTMLView",
            "description": "",
            "description_tooltip": null,
            "layout": "IPY_MODEL_63e66179bdd840e8aee09907b93bca88",
            "placeholder": "​",
            "style": "IPY_MODEL_731c84b989884dadaedc96fc70e22eb2",
            "value": " 1908/1908 [01:44&lt;00:00, 19.20it/s]"
          }
        },
        "32df6d044c04492fb56b77c9cd7dd837": {
          "model_module": "@jupyter-widgets/base",
          "model_name": "LayoutModel",
          "model_module_version": "1.2.0",
          "state": {
            "_model_module": "@jupyter-widgets/base",
            "_model_module_version": "1.2.0",
            "_model_name": "LayoutModel",
            "_view_count": null,
            "_view_module": "@jupyter-widgets/base",
            "_view_module_version": "1.2.0",
            "_view_name": "LayoutView",
            "align_content": null,
            "align_items": null,
            "align_self": null,
            "border": null,
            "bottom": null,
            "display": null,
            "flex": null,
            "flex_flow": null,
            "grid_area": null,
            "grid_auto_columns": null,
            "grid_auto_flow": null,
            "grid_auto_rows": null,
            "grid_column": null,
            "grid_gap": null,
            "grid_row": null,
            "grid_template_areas": null,
            "grid_template_columns": null,
            "grid_template_rows": null,
            "height": null,
            "justify_content": null,
            "justify_items": null,
            "left": null,
            "margin": null,
            "max_height": null,
            "max_width": null,
            "min_height": null,
            "min_width": null,
            "object_fit": null,
            "object_position": null,
            "order": null,
            "overflow": null,
            "overflow_x": null,
            "overflow_y": null,
            "padding": null,
            "right": null,
            "top": null,
            "visibility": null,
            "width": null
          }
        },
        "a0cadc3bf3c2489b9b27ae4523d370e4": {
          "model_module": "@jupyter-widgets/base",
          "model_name": "LayoutModel",
          "model_module_version": "1.2.0",
          "state": {
            "_model_module": "@jupyter-widgets/base",
            "_model_module_version": "1.2.0",
            "_model_name": "LayoutModel",
            "_view_count": null,
            "_view_module": "@jupyter-widgets/base",
            "_view_module_version": "1.2.0",
            "_view_name": "LayoutView",
            "align_content": null,
            "align_items": null,
            "align_self": null,
            "border": null,
            "bottom": null,
            "display": null,
            "flex": null,
            "flex_flow": null,
            "grid_area": null,
            "grid_auto_columns": null,
            "grid_auto_flow": null,
            "grid_auto_rows": null,
            "grid_column": null,
            "grid_gap": null,
            "grid_row": null,
            "grid_template_areas": null,
            "grid_template_columns": null,
            "grid_template_rows": null,
            "height": null,
            "justify_content": null,
            "justify_items": null,
            "left": null,
            "margin": null,
            "max_height": null,
            "max_width": null,
            "min_height": null,
            "min_width": null,
            "object_fit": null,
            "object_position": null,
            "order": null,
            "overflow": null,
            "overflow_x": null,
            "overflow_y": null,
            "padding": null,
            "right": null,
            "top": null,
            "visibility": null,
            "width": null
          }
        },
        "a20802066cbb4e2db1fb2efd8b756f66": {
          "model_module": "@jupyter-widgets/controls",
          "model_name": "DescriptionStyleModel",
          "model_module_version": "1.5.0",
          "state": {
            "_model_module": "@jupyter-widgets/controls",
            "_model_module_version": "1.5.0",
            "_model_name": "DescriptionStyleModel",
            "_view_count": null,
            "_view_module": "@jupyter-widgets/base",
            "_view_module_version": "1.2.0",
            "_view_name": "StyleView",
            "description_width": ""
          }
        },
        "170cffa5f3a24d59911f6f2773acfea7": {
          "model_module": "@jupyter-widgets/base",
          "model_name": "LayoutModel",
          "model_module_version": "1.2.0",
          "state": {
            "_model_module": "@jupyter-widgets/base",
            "_model_module_version": "1.2.0",
            "_model_name": "LayoutModel",
            "_view_count": null,
            "_view_module": "@jupyter-widgets/base",
            "_view_module_version": "1.2.0",
            "_view_name": "LayoutView",
            "align_content": null,
            "align_items": null,
            "align_self": null,
            "border": null,
            "bottom": null,
            "display": null,
            "flex": null,
            "flex_flow": null,
            "grid_area": null,
            "grid_auto_columns": null,
            "grid_auto_flow": null,
            "grid_auto_rows": null,
            "grid_column": null,
            "grid_gap": null,
            "grid_row": null,
            "grid_template_areas": null,
            "grid_template_columns": null,
            "grid_template_rows": null,
            "height": null,
            "justify_content": null,
            "justify_items": null,
            "left": null,
            "margin": null,
            "max_height": null,
            "max_width": null,
            "min_height": null,
            "min_width": null,
            "object_fit": null,
            "object_position": null,
            "order": null,
            "overflow": null,
            "overflow_x": null,
            "overflow_y": null,
            "padding": null,
            "right": null,
            "top": null,
            "visibility": null,
            "width": null
          }
        },
        "60a6363f132f47fc875fbec3b19b94cc": {
          "model_module": "@jupyter-widgets/controls",
          "model_name": "ProgressStyleModel",
          "model_module_version": "1.5.0",
          "state": {
            "_model_module": "@jupyter-widgets/controls",
            "_model_module_version": "1.5.0",
            "_model_name": "ProgressStyleModel",
            "_view_count": null,
            "_view_module": "@jupyter-widgets/base",
            "_view_module_version": "1.2.0",
            "_view_name": "StyleView",
            "bar_color": null,
            "description_width": ""
          }
        },
        "63e66179bdd840e8aee09907b93bca88": {
          "model_module": "@jupyter-widgets/base",
          "model_name": "LayoutModel",
          "model_module_version": "1.2.0",
          "state": {
            "_model_module": "@jupyter-widgets/base",
            "_model_module_version": "1.2.0",
            "_model_name": "LayoutModel",
            "_view_count": null,
            "_view_module": "@jupyter-widgets/base",
            "_view_module_version": "1.2.0",
            "_view_name": "LayoutView",
            "align_content": null,
            "align_items": null,
            "align_self": null,
            "border": null,
            "bottom": null,
            "display": null,
            "flex": null,
            "flex_flow": null,
            "grid_area": null,
            "grid_auto_columns": null,
            "grid_auto_flow": null,
            "grid_auto_rows": null,
            "grid_column": null,
            "grid_gap": null,
            "grid_row": null,
            "grid_template_areas": null,
            "grid_template_columns": null,
            "grid_template_rows": null,
            "height": null,
            "justify_content": null,
            "justify_items": null,
            "left": null,
            "margin": null,
            "max_height": null,
            "max_width": null,
            "min_height": null,
            "min_width": null,
            "object_fit": null,
            "object_position": null,
            "order": null,
            "overflow": null,
            "overflow_x": null,
            "overflow_y": null,
            "padding": null,
            "right": null,
            "top": null,
            "visibility": null,
            "width": null
          }
        },
        "731c84b989884dadaedc96fc70e22eb2": {
          "model_module": "@jupyter-widgets/controls",
          "model_name": "DescriptionStyleModel",
          "model_module_version": "1.5.0",
          "state": {
            "_model_module": "@jupyter-widgets/controls",
            "_model_module_version": "1.5.0",
            "_model_name": "DescriptionStyleModel",
            "_view_count": null,
            "_view_module": "@jupyter-widgets/base",
            "_view_module_version": "1.2.0",
            "_view_name": "StyleView",
            "description_width": ""
          }
        },
        "c7c45714c15541e9a088e33288683f31": {
          "model_module": "@jupyter-widgets/controls",
          "model_name": "HBoxModel",
          "model_module_version": "1.5.0",
          "state": {
            "_dom_classes": [],
            "_model_module": "@jupyter-widgets/controls",
            "_model_module_version": "1.5.0",
            "_model_name": "HBoxModel",
            "_view_count": null,
            "_view_module": "@jupyter-widgets/controls",
            "_view_module_version": "1.5.0",
            "_view_name": "HBoxView",
            "box_style": "",
            "children": [
              "IPY_MODEL_19ba8aac2611451888ce9a7896f72501",
              "IPY_MODEL_8d1150c5a862457fa4ce9c837404eeb9",
              "IPY_MODEL_e0ca62997ad748e1a3d9ab84128799c6"
            ],
            "layout": "IPY_MODEL_64fc75df08fd4d738f9a7f29c15e27ef"
          }
        },
        "19ba8aac2611451888ce9a7896f72501": {
          "model_module": "@jupyter-widgets/controls",
          "model_name": "HTMLModel",
          "model_module_version": "1.5.0",
          "state": {
            "_dom_classes": [],
            "_model_module": "@jupyter-widgets/controls",
            "_model_module_version": "1.5.0",
            "_model_name": "HTMLModel",
            "_view_count": null,
            "_view_module": "@jupyter-widgets/controls",
            "_view_module_version": "1.5.0",
            "_view_name": "HTMLView",
            "description": "",
            "description_tooltip": null,
            "layout": "IPY_MODEL_eac506785c004925be98657881bd11f5",
            "placeholder": "​",
            "style": "IPY_MODEL_b8a51f13d04f49bfb3c94cc4606cbe2f",
            "value": "Epoch 1/5 [Val]: 100%"
          }
        },
        "8d1150c5a862457fa4ce9c837404eeb9": {
          "model_module": "@jupyter-widgets/controls",
          "model_name": "FloatProgressModel",
          "model_module_version": "1.5.0",
          "state": {
            "_dom_classes": [],
            "_model_module": "@jupyter-widgets/controls",
            "_model_module_version": "1.5.0",
            "_model_name": "FloatProgressModel",
            "_view_count": null,
            "_view_module": "@jupyter-widgets/controls",
            "_view_module_version": "1.5.0",
            "_view_name": "ProgressView",
            "bar_style": "success",
            "description": "",
            "description_tooltip": null,
            "layout": "IPY_MODEL_b9615ea283c24aa3b1c43ddaf86fefc1",
            "max": 337,
            "min": 0,
            "orientation": "horizontal",
            "style": "IPY_MODEL_c25cb79de981415d8f6cdd8217930faa",
            "value": 337
          }
        },
        "e0ca62997ad748e1a3d9ab84128799c6": {
          "model_module": "@jupyter-widgets/controls",
          "model_name": "HTMLModel",
          "model_module_version": "1.5.0",
          "state": {
            "_dom_classes": [],
            "_model_module": "@jupyter-widgets/controls",
            "_model_module_version": "1.5.0",
            "_model_name": "HTMLModel",
            "_view_count": null,
            "_view_module": "@jupyter-widgets/controls",
            "_view_module_version": "1.5.0",
            "_view_name": "HTMLView",
            "description": "",
            "description_tooltip": null,
            "layout": "IPY_MODEL_637bb2e62eeb4d9eb73c6356e493e981",
            "placeholder": "​",
            "style": "IPY_MODEL_82f9f4d232b14f259ebcafa5c32d1cbd",
            "value": " 337/337 [00:06&lt;00:00, 51.48it/s]"
          }
        },
        "64fc75df08fd4d738f9a7f29c15e27ef": {
          "model_module": "@jupyter-widgets/base",
          "model_name": "LayoutModel",
          "model_module_version": "1.2.0",
          "state": {
            "_model_module": "@jupyter-widgets/base",
            "_model_module_version": "1.2.0",
            "_model_name": "LayoutModel",
            "_view_count": null,
            "_view_module": "@jupyter-widgets/base",
            "_view_module_version": "1.2.0",
            "_view_name": "LayoutView",
            "align_content": null,
            "align_items": null,
            "align_self": null,
            "border": null,
            "bottom": null,
            "display": null,
            "flex": null,
            "flex_flow": null,
            "grid_area": null,
            "grid_auto_columns": null,
            "grid_auto_flow": null,
            "grid_auto_rows": null,
            "grid_column": null,
            "grid_gap": null,
            "grid_row": null,
            "grid_template_areas": null,
            "grid_template_columns": null,
            "grid_template_rows": null,
            "height": null,
            "justify_content": null,
            "justify_items": null,
            "left": null,
            "margin": null,
            "max_height": null,
            "max_width": null,
            "min_height": null,
            "min_width": null,
            "object_fit": null,
            "object_position": null,
            "order": null,
            "overflow": null,
            "overflow_x": null,
            "overflow_y": null,
            "padding": null,
            "right": null,
            "top": null,
            "visibility": null,
            "width": null
          }
        },
        "eac506785c004925be98657881bd11f5": {
          "model_module": "@jupyter-widgets/base",
          "model_name": "LayoutModel",
          "model_module_version": "1.2.0",
          "state": {
            "_model_module": "@jupyter-widgets/base",
            "_model_module_version": "1.2.0",
            "_model_name": "LayoutModel",
            "_view_count": null,
            "_view_module": "@jupyter-widgets/base",
            "_view_module_version": "1.2.0",
            "_view_name": "LayoutView",
            "align_content": null,
            "align_items": null,
            "align_self": null,
            "border": null,
            "bottom": null,
            "display": null,
            "flex": null,
            "flex_flow": null,
            "grid_area": null,
            "grid_auto_columns": null,
            "grid_auto_flow": null,
            "grid_auto_rows": null,
            "grid_column": null,
            "grid_gap": null,
            "grid_row": null,
            "grid_template_areas": null,
            "grid_template_columns": null,
            "grid_template_rows": null,
            "height": null,
            "justify_content": null,
            "justify_items": null,
            "left": null,
            "margin": null,
            "max_height": null,
            "max_width": null,
            "min_height": null,
            "min_width": null,
            "object_fit": null,
            "object_position": null,
            "order": null,
            "overflow": null,
            "overflow_x": null,
            "overflow_y": null,
            "padding": null,
            "right": null,
            "top": null,
            "visibility": null,
            "width": null
          }
        },
        "b8a51f13d04f49bfb3c94cc4606cbe2f": {
          "model_module": "@jupyter-widgets/controls",
          "model_name": "DescriptionStyleModel",
          "model_module_version": "1.5.0",
          "state": {
            "_model_module": "@jupyter-widgets/controls",
            "_model_module_version": "1.5.0",
            "_model_name": "DescriptionStyleModel",
            "_view_count": null,
            "_view_module": "@jupyter-widgets/base",
            "_view_module_version": "1.2.0",
            "_view_name": "StyleView",
            "description_width": ""
          }
        },
        "b9615ea283c24aa3b1c43ddaf86fefc1": {
          "model_module": "@jupyter-widgets/base",
          "model_name": "LayoutModel",
          "model_module_version": "1.2.0",
          "state": {
            "_model_module": "@jupyter-widgets/base",
            "_model_module_version": "1.2.0",
            "_model_name": "LayoutModel",
            "_view_count": null,
            "_view_module": "@jupyter-widgets/base",
            "_view_module_version": "1.2.0",
            "_view_name": "LayoutView",
            "align_content": null,
            "align_items": null,
            "align_self": null,
            "border": null,
            "bottom": null,
            "display": null,
            "flex": null,
            "flex_flow": null,
            "grid_area": null,
            "grid_auto_columns": null,
            "grid_auto_flow": null,
            "grid_auto_rows": null,
            "grid_column": null,
            "grid_gap": null,
            "grid_row": null,
            "grid_template_areas": null,
            "grid_template_columns": null,
            "grid_template_rows": null,
            "height": null,
            "justify_content": null,
            "justify_items": null,
            "left": null,
            "margin": null,
            "max_height": null,
            "max_width": null,
            "min_height": null,
            "min_width": null,
            "object_fit": null,
            "object_position": null,
            "order": null,
            "overflow": null,
            "overflow_x": null,
            "overflow_y": null,
            "padding": null,
            "right": null,
            "top": null,
            "visibility": null,
            "width": null
          }
        },
        "c25cb79de981415d8f6cdd8217930faa": {
          "model_module": "@jupyter-widgets/controls",
          "model_name": "ProgressStyleModel",
          "model_module_version": "1.5.0",
          "state": {
            "_model_module": "@jupyter-widgets/controls",
            "_model_module_version": "1.5.0",
            "_model_name": "ProgressStyleModel",
            "_view_count": null,
            "_view_module": "@jupyter-widgets/base",
            "_view_module_version": "1.2.0",
            "_view_name": "StyleView",
            "bar_color": null,
            "description_width": ""
          }
        },
        "637bb2e62eeb4d9eb73c6356e493e981": {
          "model_module": "@jupyter-widgets/base",
          "model_name": "LayoutModel",
          "model_module_version": "1.2.0",
          "state": {
            "_model_module": "@jupyter-widgets/base",
            "_model_module_version": "1.2.0",
            "_model_name": "LayoutModel",
            "_view_count": null,
            "_view_module": "@jupyter-widgets/base",
            "_view_module_version": "1.2.0",
            "_view_name": "LayoutView",
            "align_content": null,
            "align_items": null,
            "align_self": null,
            "border": null,
            "bottom": null,
            "display": null,
            "flex": null,
            "flex_flow": null,
            "grid_area": null,
            "grid_auto_columns": null,
            "grid_auto_flow": null,
            "grid_auto_rows": null,
            "grid_column": null,
            "grid_gap": null,
            "grid_row": null,
            "grid_template_areas": null,
            "grid_template_columns": null,
            "grid_template_rows": null,
            "height": null,
            "justify_content": null,
            "justify_items": null,
            "left": null,
            "margin": null,
            "max_height": null,
            "max_width": null,
            "min_height": null,
            "min_width": null,
            "object_fit": null,
            "object_position": null,
            "order": null,
            "overflow": null,
            "overflow_x": null,
            "overflow_y": null,
            "padding": null,
            "right": null,
            "top": null,
            "visibility": null,
            "width": null
          }
        },
        "82f9f4d232b14f259ebcafa5c32d1cbd": {
          "model_module": "@jupyter-widgets/controls",
          "model_name": "DescriptionStyleModel",
          "model_module_version": "1.5.0",
          "state": {
            "_model_module": "@jupyter-widgets/controls",
            "_model_module_version": "1.5.0",
            "_model_name": "DescriptionStyleModel",
            "_view_count": null,
            "_view_module": "@jupyter-widgets/base",
            "_view_module_version": "1.2.0",
            "_view_name": "StyleView",
            "description_width": ""
          }
        },
        "219dbcb37f6b430a939fe833025130b3": {
          "model_module": "@jupyter-widgets/controls",
          "model_name": "HBoxModel",
          "model_module_version": "1.5.0",
          "state": {
            "_dom_classes": [],
            "_model_module": "@jupyter-widgets/controls",
            "_model_module_version": "1.5.0",
            "_model_name": "HBoxModel",
            "_view_count": null,
            "_view_module": "@jupyter-widgets/controls",
            "_view_module_version": "1.5.0",
            "_view_name": "HBoxView",
            "box_style": "",
            "children": [
              "IPY_MODEL_1144a299618f4e7089bb73736271ac46",
              "IPY_MODEL_cc50f1c3320948a997f76edb50ac3dc5",
              "IPY_MODEL_c1e85e4b145045cb90ba5ce6c5dcd39a"
            ],
            "layout": "IPY_MODEL_5889d82ad65c41dbb2d87ae5c053bcf4"
          }
        },
        "1144a299618f4e7089bb73736271ac46": {
          "model_module": "@jupyter-widgets/controls",
          "model_name": "HTMLModel",
          "model_module_version": "1.5.0",
          "state": {
            "_dom_classes": [],
            "_model_module": "@jupyter-widgets/controls",
            "_model_module_version": "1.5.0",
            "_model_name": "HTMLModel",
            "_view_count": null,
            "_view_module": "@jupyter-widgets/controls",
            "_view_module_version": "1.5.0",
            "_view_name": "HTMLView",
            "description": "",
            "description_tooltip": null,
            "layout": "IPY_MODEL_bb6e1fc3c5a24f9395da45a61983fe44",
            "placeholder": "​",
            "style": "IPY_MODEL_e39412a515a443ed8f9569b79faf7b5f",
            "value": "Epoch 2/5 [Train]: 100%"
          }
        },
        "cc50f1c3320948a997f76edb50ac3dc5": {
          "model_module": "@jupyter-widgets/controls",
          "model_name": "FloatProgressModel",
          "model_module_version": "1.5.0",
          "state": {
            "_dom_classes": [],
            "_model_module": "@jupyter-widgets/controls",
            "_model_module_version": "1.5.0",
            "_model_name": "FloatProgressModel",
            "_view_count": null,
            "_view_module": "@jupyter-widgets/controls",
            "_view_module_version": "1.5.0",
            "_view_name": "ProgressView",
            "bar_style": "success",
            "description": "",
            "description_tooltip": null,
            "layout": "IPY_MODEL_973f05dd80464e968d41abead1b08de6",
            "max": 1908,
            "min": 0,
            "orientation": "horizontal",
            "style": "IPY_MODEL_1ff73301384847109b67b6aa42387d79",
            "value": 1908
          }
        },
        "c1e85e4b145045cb90ba5ce6c5dcd39a": {
          "model_module": "@jupyter-widgets/controls",
          "model_name": "HTMLModel",
          "model_module_version": "1.5.0",
          "state": {
            "_dom_classes": [],
            "_model_module": "@jupyter-widgets/controls",
            "_model_module_version": "1.5.0",
            "_model_name": "HTMLModel",
            "_view_count": null,
            "_view_module": "@jupyter-widgets/controls",
            "_view_module_version": "1.5.0",
            "_view_name": "HTMLView",
            "description": "",
            "description_tooltip": null,
            "layout": "IPY_MODEL_adf30368e037448cbf7c0f26e679b95a",
            "placeholder": "​",
            "style": "IPY_MODEL_84ddf737bca6496cbf1ea9f4fba0ef65",
            "value": " 1908/1908 [01:44&lt;00:00, 16.45it/s]"
          }
        },
        "5889d82ad65c41dbb2d87ae5c053bcf4": {
          "model_module": "@jupyter-widgets/base",
          "model_name": "LayoutModel",
          "model_module_version": "1.2.0",
          "state": {
            "_model_module": "@jupyter-widgets/base",
            "_model_module_version": "1.2.0",
            "_model_name": "LayoutModel",
            "_view_count": null,
            "_view_module": "@jupyter-widgets/base",
            "_view_module_version": "1.2.0",
            "_view_name": "LayoutView",
            "align_content": null,
            "align_items": null,
            "align_self": null,
            "border": null,
            "bottom": null,
            "display": null,
            "flex": null,
            "flex_flow": null,
            "grid_area": null,
            "grid_auto_columns": null,
            "grid_auto_flow": null,
            "grid_auto_rows": null,
            "grid_column": null,
            "grid_gap": null,
            "grid_row": null,
            "grid_template_areas": null,
            "grid_template_columns": null,
            "grid_template_rows": null,
            "height": null,
            "justify_content": null,
            "justify_items": null,
            "left": null,
            "margin": null,
            "max_height": null,
            "max_width": null,
            "min_height": null,
            "min_width": null,
            "object_fit": null,
            "object_position": null,
            "order": null,
            "overflow": null,
            "overflow_x": null,
            "overflow_y": null,
            "padding": null,
            "right": null,
            "top": null,
            "visibility": null,
            "width": null
          }
        },
        "bb6e1fc3c5a24f9395da45a61983fe44": {
          "model_module": "@jupyter-widgets/base",
          "model_name": "LayoutModel",
          "model_module_version": "1.2.0",
          "state": {
            "_model_module": "@jupyter-widgets/base",
            "_model_module_version": "1.2.0",
            "_model_name": "LayoutModel",
            "_view_count": null,
            "_view_module": "@jupyter-widgets/base",
            "_view_module_version": "1.2.0",
            "_view_name": "LayoutView",
            "align_content": null,
            "align_items": null,
            "align_self": null,
            "border": null,
            "bottom": null,
            "display": null,
            "flex": null,
            "flex_flow": null,
            "grid_area": null,
            "grid_auto_columns": null,
            "grid_auto_flow": null,
            "grid_auto_rows": null,
            "grid_column": null,
            "grid_gap": null,
            "grid_row": null,
            "grid_template_areas": null,
            "grid_template_columns": null,
            "grid_template_rows": null,
            "height": null,
            "justify_content": null,
            "justify_items": null,
            "left": null,
            "margin": null,
            "max_height": null,
            "max_width": null,
            "min_height": null,
            "min_width": null,
            "object_fit": null,
            "object_position": null,
            "order": null,
            "overflow": null,
            "overflow_x": null,
            "overflow_y": null,
            "padding": null,
            "right": null,
            "top": null,
            "visibility": null,
            "width": null
          }
        },
        "e39412a515a443ed8f9569b79faf7b5f": {
          "model_module": "@jupyter-widgets/controls",
          "model_name": "DescriptionStyleModel",
          "model_module_version": "1.5.0",
          "state": {
            "_model_module": "@jupyter-widgets/controls",
            "_model_module_version": "1.5.0",
            "_model_name": "DescriptionStyleModel",
            "_view_count": null,
            "_view_module": "@jupyter-widgets/base",
            "_view_module_version": "1.2.0",
            "_view_name": "StyleView",
            "description_width": ""
          }
        },
        "973f05dd80464e968d41abead1b08de6": {
          "model_module": "@jupyter-widgets/base",
          "model_name": "LayoutModel",
          "model_module_version": "1.2.0",
          "state": {
            "_model_module": "@jupyter-widgets/base",
            "_model_module_version": "1.2.0",
            "_model_name": "LayoutModel",
            "_view_count": null,
            "_view_module": "@jupyter-widgets/base",
            "_view_module_version": "1.2.0",
            "_view_name": "LayoutView",
            "align_content": null,
            "align_items": null,
            "align_self": null,
            "border": null,
            "bottom": null,
            "display": null,
            "flex": null,
            "flex_flow": null,
            "grid_area": null,
            "grid_auto_columns": null,
            "grid_auto_flow": null,
            "grid_auto_rows": null,
            "grid_column": null,
            "grid_gap": null,
            "grid_row": null,
            "grid_template_areas": null,
            "grid_template_columns": null,
            "grid_template_rows": null,
            "height": null,
            "justify_content": null,
            "justify_items": null,
            "left": null,
            "margin": null,
            "max_height": null,
            "max_width": null,
            "min_height": null,
            "min_width": null,
            "object_fit": null,
            "object_position": null,
            "order": null,
            "overflow": null,
            "overflow_x": null,
            "overflow_y": null,
            "padding": null,
            "right": null,
            "top": null,
            "visibility": null,
            "width": null
          }
        },
        "1ff73301384847109b67b6aa42387d79": {
          "model_module": "@jupyter-widgets/controls",
          "model_name": "ProgressStyleModel",
          "model_module_version": "1.5.0",
          "state": {
            "_model_module": "@jupyter-widgets/controls",
            "_model_module_version": "1.5.0",
            "_model_name": "ProgressStyleModel",
            "_view_count": null,
            "_view_module": "@jupyter-widgets/base",
            "_view_module_version": "1.2.0",
            "_view_name": "StyleView",
            "bar_color": null,
            "description_width": ""
          }
        },
        "adf30368e037448cbf7c0f26e679b95a": {
          "model_module": "@jupyter-widgets/base",
          "model_name": "LayoutModel",
          "model_module_version": "1.2.0",
          "state": {
            "_model_module": "@jupyter-widgets/base",
            "_model_module_version": "1.2.0",
            "_model_name": "LayoutModel",
            "_view_count": null,
            "_view_module": "@jupyter-widgets/base",
            "_view_module_version": "1.2.0",
            "_view_name": "LayoutView",
            "align_content": null,
            "align_items": null,
            "align_self": null,
            "border": null,
            "bottom": null,
            "display": null,
            "flex": null,
            "flex_flow": null,
            "grid_area": null,
            "grid_auto_columns": null,
            "grid_auto_flow": null,
            "grid_auto_rows": null,
            "grid_column": null,
            "grid_gap": null,
            "grid_row": null,
            "grid_template_areas": null,
            "grid_template_columns": null,
            "grid_template_rows": null,
            "height": null,
            "justify_content": null,
            "justify_items": null,
            "left": null,
            "margin": null,
            "max_height": null,
            "max_width": null,
            "min_height": null,
            "min_width": null,
            "object_fit": null,
            "object_position": null,
            "order": null,
            "overflow": null,
            "overflow_x": null,
            "overflow_y": null,
            "padding": null,
            "right": null,
            "top": null,
            "visibility": null,
            "width": null
          }
        },
        "84ddf737bca6496cbf1ea9f4fba0ef65": {
          "model_module": "@jupyter-widgets/controls",
          "model_name": "DescriptionStyleModel",
          "model_module_version": "1.5.0",
          "state": {
            "_model_module": "@jupyter-widgets/controls",
            "_model_module_version": "1.5.0",
            "_model_name": "DescriptionStyleModel",
            "_view_count": null,
            "_view_module": "@jupyter-widgets/base",
            "_view_module_version": "1.2.0",
            "_view_name": "StyleView",
            "description_width": ""
          }
        },
        "69d1d78928a94ed1b943d878cde19296": {
          "model_module": "@jupyter-widgets/controls",
          "model_name": "HBoxModel",
          "model_module_version": "1.5.0",
          "state": {
            "_dom_classes": [],
            "_model_module": "@jupyter-widgets/controls",
            "_model_module_version": "1.5.0",
            "_model_name": "HBoxModel",
            "_view_count": null,
            "_view_module": "@jupyter-widgets/controls",
            "_view_module_version": "1.5.0",
            "_view_name": "HBoxView",
            "box_style": "",
            "children": [
              "IPY_MODEL_f271d9097ccf498597a7b324bc845f31",
              "IPY_MODEL_75d46f38c4364874a848e8a97ca8f660",
              "IPY_MODEL_c44bffb1f31546a5b24b20c3d5aae8e8"
            ],
            "layout": "IPY_MODEL_f6d7c20154cd4aa6a7835ce464c17817"
          }
        },
        "f271d9097ccf498597a7b324bc845f31": {
          "model_module": "@jupyter-widgets/controls",
          "model_name": "HTMLModel",
          "model_module_version": "1.5.0",
          "state": {
            "_dom_classes": [],
            "_model_module": "@jupyter-widgets/controls",
            "_model_module_version": "1.5.0",
            "_model_name": "HTMLModel",
            "_view_count": null,
            "_view_module": "@jupyter-widgets/controls",
            "_view_module_version": "1.5.0",
            "_view_name": "HTMLView",
            "description": "",
            "description_tooltip": null,
            "layout": "IPY_MODEL_c5c617580e59423db1a7e3874a12128d",
            "placeholder": "​",
            "style": "IPY_MODEL_71a33756a1444460940704440535334e",
            "value": "Epoch 2/5 [Val]: 100%"
          }
        },
        "75d46f38c4364874a848e8a97ca8f660": {
          "model_module": "@jupyter-widgets/controls",
          "model_name": "FloatProgressModel",
          "model_module_version": "1.5.0",
          "state": {
            "_dom_classes": [],
            "_model_module": "@jupyter-widgets/controls",
            "_model_module_version": "1.5.0",
            "_model_name": "FloatProgressModel",
            "_view_count": null,
            "_view_module": "@jupyter-widgets/controls",
            "_view_module_version": "1.5.0",
            "_view_name": "ProgressView",
            "bar_style": "success",
            "description": "",
            "description_tooltip": null,
            "layout": "IPY_MODEL_56db67cb1f7049d4ad1a27bb93a1e9c8",
            "max": 337,
            "min": 0,
            "orientation": "horizontal",
            "style": "IPY_MODEL_0737c65547294187abd6542c1d9697bc",
            "value": 337
          }
        },
        "c44bffb1f31546a5b24b20c3d5aae8e8": {
          "model_module": "@jupyter-widgets/controls",
          "model_name": "HTMLModel",
          "model_module_version": "1.5.0",
          "state": {
            "_dom_classes": [],
            "_model_module": "@jupyter-widgets/controls",
            "_model_module_version": "1.5.0",
            "_model_name": "HTMLModel",
            "_view_count": null,
            "_view_module": "@jupyter-widgets/controls",
            "_view_module_version": "1.5.0",
            "_view_name": "HTMLView",
            "description": "",
            "description_tooltip": null,
            "layout": "IPY_MODEL_946817311176418cb0f9f70640e9d403",
            "placeholder": "​",
            "style": "IPY_MODEL_b3071b0a452646439f5a4374bbe5cbea",
            "value": " 337/337 [00:06&lt;00:00, 54.78it/s]"
          }
        },
        "f6d7c20154cd4aa6a7835ce464c17817": {
          "model_module": "@jupyter-widgets/base",
          "model_name": "LayoutModel",
          "model_module_version": "1.2.0",
          "state": {
            "_model_module": "@jupyter-widgets/base",
            "_model_module_version": "1.2.0",
            "_model_name": "LayoutModel",
            "_view_count": null,
            "_view_module": "@jupyter-widgets/base",
            "_view_module_version": "1.2.0",
            "_view_name": "LayoutView",
            "align_content": null,
            "align_items": null,
            "align_self": null,
            "border": null,
            "bottom": null,
            "display": null,
            "flex": null,
            "flex_flow": null,
            "grid_area": null,
            "grid_auto_columns": null,
            "grid_auto_flow": null,
            "grid_auto_rows": null,
            "grid_column": null,
            "grid_gap": null,
            "grid_row": null,
            "grid_template_areas": null,
            "grid_template_columns": null,
            "grid_template_rows": null,
            "height": null,
            "justify_content": null,
            "justify_items": null,
            "left": null,
            "margin": null,
            "max_height": null,
            "max_width": null,
            "min_height": null,
            "min_width": null,
            "object_fit": null,
            "object_position": null,
            "order": null,
            "overflow": null,
            "overflow_x": null,
            "overflow_y": null,
            "padding": null,
            "right": null,
            "top": null,
            "visibility": null,
            "width": null
          }
        },
        "c5c617580e59423db1a7e3874a12128d": {
          "model_module": "@jupyter-widgets/base",
          "model_name": "LayoutModel",
          "model_module_version": "1.2.0",
          "state": {
            "_model_module": "@jupyter-widgets/base",
            "_model_module_version": "1.2.0",
            "_model_name": "LayoutModel",
            "_view_count": null,
            "_view_module": "@jupyter-widgets/base",
            "_view_module_version": "1.2.0",
            "_view_name": "LayoutView",
            "align_content": null,
            "align_items": null,
            "align_self": null,
            "border": null,
            "bottom": null,
            "display": null,
            "flex": null,
            "flex_flow": null,
            "grid_area": null,
            "grid_auto_columns": null,
            "grid_auto_flow": null,
            "grid_auto_rows": null,
            "grid_column": null,
            "grid_gap": null,
            "grid_row": null,
            "grid_template_areas": null,
            "grid_template_columns": null,
            "grid_template_rows": null,
            "height": null,
            "justify_content": null,
            "justify_items": null,
            "left": null,
            "margin": null,
            "max_height": null,
            "max_width": null,
            "min_height": null,
            "min_width": null,
            "object_fit": null,
            "object_position": null,
            "order": null,
            "overflow": null,
            "overflow_x": null,
            "overflow_y": null,
            "padding": null,
            "right": null,
            "top": null,
            "visibility": null,
            "width": null
          }
        },
        "71a33756a1444460940704440535334e": {
          "model_module": "@jupyter-widgets/controls",
          "model_name": "DescriptionStyleModel",
          "model_module_version": "1.5.0",
          "state": {
            "_model_module": "@jupyter-widgets/controls",
            "_model_module_version": "1.5.0",
            "_model_name": "DescriptionStyleModel",
            "_view_count": null,
            "_view_module": "@jupyter-widgets/base",
            "_view_module_version": "1.2.0",
            "_view_name": "StyleView",
            "description_width": ""
          }
        },
        "56db67cb1f7049d4ad1a27bb93a1e9c8": {
          "model_module": "@jupyter-widgets/base",
          "model_name": "LayoutModel",
          "model_module_version": "1.2.0",
          "state": {
            "_model_module": "@jupyter-widgets/base",
            "_model_module_version": "1.2.0",
            "_model_name": "LayoutModel",
            "_view_count": null,
            "_view_module": "@jupyter-widgets/base",
            "_view_module_version": "1.2.0",
            "_view_name": "LayoutView",
            "align_content": null,
            "align_items": null,
            "align_self": null,
            "border": null,
            "bottom": null,
            "display": null,
            "flex": null,
            "flex_flow": null,
            "grid_area": null,
            "grid_auto_columns": null,
            "grid_auto_flow": null,
            "grid_auto_rows": null,
            "grid_column": null,
            "grid_gap": null,
            "grid_row": null,
            "grid_template_areas": null,
            "grid_template_columns": null,
            "grid_template_rows": null,
            "height": null,
            "justify_content": null,
            "justify_items": null,
            "left": null,
            "margin": null,
            "max_height": null,
            "max_width": null,
            "min_height": null,
            "min_width": null,
            "object_fit": null,
            "object_position": null,
            "order": null,
            "overflow": null,
            "overflow_x": null,
            "overflow_y": null,
            "padding": null,
            "right": null,
            "top": null,
            "visibility": null,
            "width": null
          }
        },
        "0737c65547294187abd6542c1d9697bc": {
          "model_module": "@jupyter-widgets/controls",
          "model_name": "ProgressStyleModel",
          "model_module_version": "1.5.0",
          "state": {
            "_model_module": "@jupyter-widgets/controls",
            "_model_module_version": "1.5.0",
            "_model_name": "ProgressStyleModel",
            "_view_count": null,
            "_view_module": "@jupyter-widgets/base",
            "_view_module_version": "1.2.0",
            "_view_name": "StyleView",
            "bar_color": null,
            "description_width": ""
          }
        },
        "946817311176418cb0f9f70640e9d403": {
          "model_module": "@jupyter-widgets/base",
          "model_name": "LayoutModel",
          "model_module_version": "1.2.0",
          "state": {
            "_model_module": "@jupyter-widgets/base",
            "_model_module_version": "1.2.0",
            "_model_name": "LayoutModel",
            "_view_count": null,
            "_view_module": "@jupyter-widgets/base",
            "_view_module_version": "1.2.0",
            "_view_name": "LayoutView",
            "align_content": null,
            "align_items": null,
            "align_self": null,
            "border": null,
            "bottom": null,
            "display": null,
            "flex": null,
            "flex_flow": null,
            "grid_area": null,
            "grid_auto_columns": null,
            "grid_auto_flow": null,
            "grid_auto_rows": null,
            "grid_column": null,
            "grid_gap": null,
            "grid_row": null,
            "grid_template_areas": null,
            "grid_template_columns": null,
            "grid_template_rows": null,
            "height": null,
            "justify_content": null,
            "justify_items": null,
            "left": null,
            "margin": null,
            "max_height": null,
            "max_width": null,
            "min_height": null,
            "min_width": null,
            "object_fit": null,
            "object_position": null,
            "order": null,
            "overflow": null,
            "overflow_x": null,
            "overflow_y": null,
            "padding": null,
            "right": null,
            "top": null,
            "visibility": null,
            "width": null
          }
        },
        "b3071b0a452646439f5a4374bbe5cbea": {
          "model_module": "@jupyter-widgets/controls",
          "model_name": "DescriptionStyleModel",
          "model_module_version": "1.5.0",
          "state": {
            "_model_module": "@jupyter-widgets/controls",
            "_model_module_version": "1.5.0",
            "_model_name": "DescriptionStyleModel",
            "_view_count": null,
            "_view_module": "@jupyter-widgets/base",
            "_view_module_version": "1.2.0",
            "_view_name": "StyleView",
            "description_width": ""
          }
        },
        "3af29c2890ab473ca5c87448a5cb92d7": {
          "model_module": "@jupyter-widgets/controls",
          "model_name": "HBoxModel",
          "model_module_version": "1.5.0",
          "state": {
            "_dom_classes": [],
            "_model_module": "@jupyter-widgets/controls",
            "_model_module_version": "1.5.0",
            "_model_name": "HBoxModel",
            "_view_count": null,
            "_view_module": "@jupyter-widgets/controls",
            "_view_module_version": "1.5.0",
            "_view_name": "HBoxView",
            "box_style": "",
            "children": [
              "IPY_MODEL_7a537a99157a433b95e26bee1df3b476",
              "IPY_MODEL_a58c778b6e6c4660982079a0b7f45a23",
              "IPY_MODEL_cb060273ea554bf587e45caf0ed70d95"
            ],
            "layout": "IPY_MODEL_4e9cde60d95c406b995e70fa144f6ccc"
          }
        },
        "7a537a99157a433b95e26bee1df3b476": {
          "model_module": "@jupyter-widgets/controls",
          "model_name": "HTMLModel",
          "model_module_version": "1.5.0",
          "state": {
            "_dom_classes": [],
            "_model_module": "@jupyter-widgets/controls",
            "_model_module_version": "1.5.0",
            "_model_name": "HTMLModel",
            "_view_count": null,
            "_view_module": "@jupyter-widgets/controls",
            "_view_module_version": "1.5.0",
            "_view_name": "HTMLView",
            "description": "",
            "description_tooltip": null,
            "layout": "IPY_MODEL_3ec730abafa444f7a9b2892aa8c78d69",
            "placeholder": "​",
            "style": "IPY_MODEL_e9c57c852e2844db83a9e5da4bfb9256",
            "value": "Epoch 3/5 [Train]: 100%"
          }
        },
        "a58c778b6e6c4660982079a0b7f45a23": {
          "model_module": "@jupyter-widgets/controls",
          "model_name": "FloatProgressModel",
          "model_module_version": "1.5.0",
          "state": {
            "_dom_classes": [],
            "_model_module": "@jupyter-widgets/controls",
            "_model_module_version": "1.5.0",
            "_model_name": "FloatProgressModel",
            "_view_count": null,
            "_view_module": "@jupyter-widgets/controls",
            "_view_module_version": "1.5.0",
            "_view_name": "ProgressView",
            "bar_style": "success",
            "description": "",
            "description_tooltip": null,
            "layout": "IPY_MODEL_f0ae64e36d7144aea8d7cb6eab125935",
            "max": 1908,
            "min": 0,
            "orientation": "horizontal",
            "style": "IPY_MODEL_f930e73dcfa5418b8b1d71f0d308ce8d",
            "value": 1908
          }
        },
        "cb060273ea554bf587e45caf0ed70d95": {
          "model_module": "@jupyter-widgets/controls",
          "model_name": "HTMLModel",
          "model_module_version": "1.5.0",
          "state": {
            "_dom_classes": [],
            "_model_module": "@jupyter-widgets/controls",
            "_model_module_version": "1.5.0",
            "_model_name": "HTMLModel",
            "_view_count": null,
            "_view_module": "@jupyter-widgets/controls",
            "_view_module_version": "1.5.0",
            "_view_name": "HTMLView",
            "description": "",
            "description_tooltip": null,
            "layout": "IPY_MODEL_28786391980f445fab0f63b98d797773",
            "placeholder": "​",
            "style": "IPY_MODEL_4e283d947ce747b09c78bfa3fd4bbe23",
            "value": " 1908/1908 [01:44&lt;00:00, 18.88it/s]"
          }
        },
        "4e9cde60d95c406b995e70fa144f6ccc": {
          "model_module": "@jupyter-widgets/base",
          "model_name": "LayoutModel",
          "model_module_version": "1.2.0",
          "state": {
            "_model_module": "@jupyter-widgets/base",
            "_model_module_version": "1.2.0",
            "_model_name": "LayoutModel",
            "_view_count": null,
            "_view_module": "@jupyter-widgets/base",
            "_view_module_version": "1.2.0",
            "_view_name": "LayoutView",
            "align_content": null,
            "align_items": null,
            "align_self": null,
            "border": null,
            "bottom": null,
            "display": null,
            "flex": null,
            "flex_flow": null,
            "grid_area": null,
            "grid_auto_columns": null,
            "grid_auto_flow": null,
            "grid_auto_rows": null,
            "grid_column": null,
            "grid_gap": null,
            "grid_row": null,
            "grid_template_areas": null,
            "grid_template_columns": null,
            "grid_template_rows": null,
            "height": null,
            "justify_content": null,
            "justify_items": null,
            "left": null,
            "margin": null,
            "max_height": null,
            "max_width": null,
            "min_height": null,
            "min_width": null,
            "object_fit": null,
            "object_position": null,
            "order": null,
            "overflow": null,
            "overflow_x": null,
            "overflow_y": null,
            "padding": null,
            "right": null,
            "top": null,
            "visibility": null,
            "width": null
          }
        },
        "3ec730abafa444f7a9b2892aa8c78d69": {
          "model_module": "@jupyter-widgets/base",
          "model_name": "LayoutModel",
          "model_module_version": "1.2.0",
          "state": {
            "_model_module": "@jupyter-widgets/base",
            "_model_module_version": "1.2.0",
            "_model_name": "LayoutModel",
            "_view_count": null,
            "_view_module": "@jupyter-widgets/base",
            "_view_module_version": "1.2.0",
            "_view_name": "LayoutView",
            "align_content": null,
            "align_items": null,
            "align_self": null,
            "border": null,
            "bottom": null,
            "display": null,
            "flex": null,
            "flex_flow": null,
            "grid_area": null,
            "grid_auto_columns": null,
            "grid_auto_flow": null,
            "grid_auto_rows": null,
            "grid_column": null,
            "grid_gap": null,
            "grid_row": null,
            "grid_template_areas": null,
            "grid_template_columns": null,
            "grid_template_rows": null,
            "height": null,
            "justify_content": null,
            "justify_items": null,
            "left": null,
            "margin": null,
            "max_height": null,
            "max_width": null,
            "min_height": null,
            "min_width": null,
            "object_fit": null,
            "object_position": null,
            "order": null,
            "overflow": null,
            "overflow_x": null,
            "overflow_y": null,
            "padding": null,
            "right": null,
            "top": null,
            "visibility": null,
            "width": null
          }
        },
        "e9c57c852e2844db83a9e5da4bfb9256": {
          "model_module": "@jupyter-widgets/controls",
          "model_name": "DescriptionStyleModel",
          "model_module_version": "1.5.0",
          "state": {
            "_model_module": "@jupyter-widgets/controls",
            "_model_module_version": "1.5.0",
            "_model_name": "DescriptionStyleModel",
            "_view_count": null,
            "_view_module": "@jupyter-widgets/base",
            "_view_module_version": "1.2.0",
            "_view_name": "StyleView",
            "description_width": ""
          }
        },
        "f0ae64e36d7144aea8d7cb6eab125935": {
          "model_module": "@jupyter-widgets/base",
          "model_name": "LayoutModel",
          "model_module_version": "1.2.0",
          "state": {
            "_model_module": "@jupyter-widgets/base",
            "_model_module_version": "1.2.0",
            "_model_name": "LayoutModel",
            "_view_count": null,
            "_view_module": "@jupyter-widgets/base",
            "_view_module_version": "1.2.0",
            "_view_name": "LayoutView",
            "align_content": null,
            "align_items": null,
            "align_self": null,
            "border": null,
            "bottom": null,
            "display": null,
            "flex": null,
            "flex_flow": null,
            "grid_area": null,
            "grid_auto_columns": null,
            "grid_auto_flow": null,
            "grid_auto_rows": null,
            "grid_column": null,
            "grid_gap": null,
            "grid_row": null,
            "grid_template_areas": null,
            "grid_template_columns": null,
            "grid_template_rows": null,
            "height": null,
            "justify_content": null,
            "justify_items": null,
            "left": null,
            "margin": null,
            "max_height": null,
            "max_width": null,
            "min_height": null,
            "min_width": null,
            "object_fit": null,
            "object_position": null,
            "order": null,
            "overflow": null,
            "overflow_x": null,
            "overflow_y": null,
            "padding": null,
            "right": null,
            "top": null,
            "visibility": null,
            "width": null
          }
        },
        "f930e73dcfa5418b8b1d71f0d308ce8d": {
          "model_module": "@jupyter-widgets/controls",
          "model_name": "ProgressStyleModel",
          "model_module_version": "1.5.0",
          "state": {
            "_model_module": "@jupyter-widgets/controls",
            "_model_module_version": "1.5.0",
            "_model_name": "ProgressStyleModel",
            "_view_count": null,
            "_view_module": "@jupyter-widgets/base",
            "_view_module_version": "1.2.0",
            "_view_name": "StyleView",
            "bar_color": null,
            "description_width": ""
          }
        },
        "28786391980f445fab0f63b98d797773": {
          "model_module": "@jupyter-widgets/base",
          "model_name": "LayoutModel",
          "model_module_version": "1.2.0",
          "state": {
            "_model_module": "@jupyter-widgets/base",
            "_model_module_version": "1.2.0",
            "_model_name": "LayoutModel",
            "_view_count": null,
            "_view_module": "@jupyter-widgets/base",
            "_view_module_version": "1.2.0",
            "_view_name": "LayoutView",
            "align_content": null,
            "align_items": null,
            "align_self": null,
            "border": null,
            "bottom": null,
            "display": null,
            "flex": null,
            "flex_flow": null,
            "grid_area": null,
            "grid_auto_columns": null,
            "grid_auto_flow": null,
            "grid_auto_rows": null,
            "grid_column": null,
            "grid_gap": null,
            "grid_row": null,
            "grid_template_areas": null,
            "grid_template_columns": null,
            "grid_template_rows": null,
            "height": null,
            "justify_content": null,
            "justify_items": null,
            "left": null,
            "margin": null,
            "max_height": null,
            "max_width": null,
            "min_height": null,
            "min_width": null,
            "object_fit": null,
            "object_position": null,
            "order": null,
            "overflow": null,
            "overflow_x": null,
            "overflow_y": null,
            "padding": null,
            "right": null,
            "top": null,
            "visibility": null,
            "width": null
          }
        },
        "4e283d947ce747b09c78bfa3fd4bbe23": {
          "model_module": "@jupyter-widgets/controls",
          "model_name": "DescriptionStyleModel",
          "model_module_version": "1.5.0",
          "state": {
            "_model_module": "@jupyter-widgets/controls",
            "_model_module_version": "1.5.0",
            "_model_name": "DescriptionStyleModel",
            "_view_count": null,
            "_view_module": "@jupyter-widgets/base",
            "_view_module_version": "1.2.0",
            "_view_name": "StyleView",
            "description_width": ""
          }
        },
        "cb0bd6561bb14a338c02cc5aae8ad22e": {
          "model_module": "@jupyter-widgets/controls",
          "model_name": "HBoxModel",
          "model_module_version": "1.5.0",
          "state": {
            "_dom_classes": [],
            "_model_module": "@jupyter-widgets/controls",
            "_model_module_version": "1.5.0",
            "_model_name": "HBoxModel",
            "_view_count": null,
            "_view_module": "@jupyter-widgets/controls",
            "_view_module_version": "1.5.0",
            "_view_name": "HBoxView",
            "box_style": "",
            "children": [
              "IPY_MODEL_e201c97f234b4624b978957f761adb94",
              "IPY_MODEL_1cddc178b634421baecfabb762fa8d01",
              "IPY_MODEL_ce58e9d5cb4b4b269337a5c07ecdeb4f"
            ],
            "layout": "IPY_MODEL_d0bb824c646044b2968ee9ab499694e3"
          }
        },
        "e201c97f234b4624b978957f761adb94": {
          "model_module": "@jupyter-widgets/controls",
          "model_name": "HTMLModel",
          "model_module_version": "1.5.0",
          "state": {
            "_dom_classes": [],
            "_model_module": "@jupyter-widgets/controls",
            "_model_module_version": "1.5.0",
            "_model_name": "HTMLModel",
            "_view_count": null,
            "_view_module": "@jupyter-widgets/controls",
            "_view_module_version": "1.5.0",
            "_view_name": "HTMLView",
            "description": "",
            "description_tooltip": null,
            "layout": "IPY_MODEL_763a622689ed4d129e3ab05f9756d7ec",
            "placeholder": "​",
            "style": "IPY_MODEL_20961cd82dbb48e39d2fd629720dc573",
            "value": "Epoch 3/5 [Val]: 100%"
          }
        },
        "1cddc178b634421baecfabb762fa8d01": {
          "model_module": "@jupyter-widgets/controls",
          "model_name": "FloatProgressModel",
          "model_module_version": "1.5.0",
          "state": {
            "_dom_classes": [],
            "_model_module": "@jupyter-widgets/controls",
            "_model_module_version": "1.5.0",
            "_model_name": "FloatProgressModel",
            "_view_count": null,
            "_view_module": "@jupyter-widgets/controls",
            "_view_module_version": "1.5.0",
            "_view_name": "ProgressView",
            "bar_style": "success",
            "description": "",
            "description_tooltip": null,
            "layout": "IPY_MODEL_227c30dfb2e848c881f4c6c57eb55827",
            "max": 337,
            "min": 0,
            "orientation": "horizontal",
            "style": "IPY_MODEL_67193b3cf51f4712b95c061d421336b5",
            "value": 337
          }
        },
        "ce58e9d5cb4b4b269337a5c07ecdeb4f": {
          "model_module": "@jupyter-widgets/controls",
          "model_name": "HTMLModel",
          "model_module_version": "1.5.0",
          "state": {
            "_dom_classes": [],
            "_model_module": "@jupyter-widgets/controls",
            "_model_module_version": "1.5.0",
            "_model_name": "HTMLModel",
            "_view_count": null,
            "_view_module": "@jupyter-widgets/controls",
            "_view_module_version": "1.5.0",
            "_view_name": "HTMLView",
            "description": "",
            "description_tooltip": null,
            "layout": "IPY_MODEL_79b8a19a5e2d4f00b60189670b7a513b",
            "placeholder": "​",
            "style": "IPY_MODEL_c4f156947ad6488eba1ded167954d3c0",
            "value": " 337/337 [00:06&lt;00:00, 54.19it/s]"
          }
        },
        "d0bb824c646044b2968ee9ab499694e3": {
          "model_module": "@jupyter-widgets/base",
          "model_name": "LayoutModel",
          "model_module_version": "1.2.0",
          "state": {
            "_model_module": "@jupyter-widgets/base",
            "_model_module_version": "1.2.0",
            "_model_name": "LayoutModel",
            "_view_count": null,
            "_view_module": "@jupyter-widgets/base",
            "_view_module_version": "1.2.0",
            "_view_name": "LayoutView",
            "align_content": null,
            "align_items": null,
            "align_self": null,
            "border": null,
            "bottom": null,
            "display": null,
            "flex": null,
            "flex_flow": null,
            "grid_area": null,
            "grid_auto_columns": null,
            "grid_auto_flow": null,
            "grid_auto_rows": null,
            "grid_column": null,
            "grid_gap": null,
            "grid_row": null,
            "grid_template_areas": null,
            "grid_template_columns": null,
            "grid_template_rows": null,
            "height": null,
            "justify_content": null,
            "justify_items": null,
            "left": null,
            "margin": null,
            "max_height": null,
            "max_width": null,
            "min_height": null,
            "min_width": null,
            "object_fit": null,
            "object_position": null,
            "order": null,
            "overflow": null,
            "overflow_x": null,
            "overflow_y": null,
            "padding": null,
            "right": null,
            "top": null,
            "visibility": null,
            "width": null
          }
        },
        "763a622689ed4d129e3ab05f9756d7ec": {
          "model_module": "@jupyter-widgets/base",
          "model_name": "LayoutModel",
          "model_module_version": "1.2.0",
          "state": {
            "_model_module": "@jupyter-widgets/base",
            "_model_module_version": "1.2.0",
            "_model_name": "LayoutModel",
            "_view_count": null,
            "_view_module": "@jupyter-widgets/base",
            "_view_module_version": "1.2.0",
            "_view_name": "LayoutView",
            "align_content": null,
            "align_items": null,
            "align_self": null,
            "border": null,
            "bottom": null,
            "display": null,
            "flex": null,
            "flex_flow": null,
            "grid_area": null,
            "grid_auto_columns": null,
            "grid_auto_flow": null,
            "grid_auto_rows": null,
            "grid_column": null,
            "grid_gap": null,
            "grid_row": null,
            "grid_template_areas": null,
            "grid_template_columns": null,
            "grid_template_rows": null,
            "height": null,
            "justify_content": null,
            "justify_items": null,
            "left": null,
            "margin": null,
            "max_height": null,
            "max_width": null,
            "min_height": null,
            "min_width": null,
            "object_fit": null,
            "object_position": null,
            "order": null,
            "overflow": null,
            "overflow_x": null,
            "overflow_y": null,
            "padding": null,
            "right": null,
            "top": null,
            "visibility": null,
            "width": null
          }
        },
        "20961cd82dbb48e39d2fd629720dc573": {
          "model_module": "@jupyter-widgets/controls",
          "model_name": "DescriptionStyleModel",
          "model_module_version": "1.5.0",
          "state": {
            "_model_module": "@jupyter-widgets/controls",
            "_model_module_version": "1.5.0",
            "_model_name": "DescriptionStyleModel",
            "_view_count": null,
            "_view_module": "@jupyter-widgets/base",
            "_view_module_version": "1.2.0",
            "_view_name": "StyleView",
            "description_width": ""
          }
        },
        "227c30dfb2e848c881f4c6c57eb55827": {
          "model_module": "@jupyter-widgets/base",
          "model_name": "LayoutModel",
          "model_module_version": "1.2.0",
          "state": {
            "_model_module": "@jupyter-widgets/base",
            "_model_module_version": "1.2.0",
            "_model_name": "LayoutModel",
            "_view_count": null,
            "_view_module": "@jupyter-widgets/base",
            "_view_module_version": "1.2.0",
            "_view_name": "LayoutView",
            "align_content": null,
            "align_items": null,
            "align_self": null,
            "border": null,
            "bottom": null,
            "display": null,
            "flex": null,
            "flex_flow": null,
            "grid_area": null,
            "grid_auto_columns": null,
            "grid_auto_flow": null,
            "grid_auto_rows": null,
            "grid_column": null,
            "grid_gap": null,
            "grid_row": null,
            "grid_template_areas": null,
            "grid_template_columns": null,
            "grid_template_rows": null,
            "height": null,
            "justify_content": null,
            "justify_items": null,
            "left": null,
            "margin": null,
            "max_height": null,
            "max_width": null,
            "min_height": null,
            "min_width": null,
            "object_fit": null,
            "object_position": null,
            "order": null,
            "overflow": null,
            "overflow_x": null,
            "overflow_y": null,
            "padding": null,
            "right": null,
            "top": null,
            "visibility": null,
            "width": null
          }
        },
        "67193b3cf51f4712b95c061d421336b5": {
          "model_module": "@jupyter-widgets/controls",
          "model_name": "ProgressStyleModel",
          "model_module_version": "1.5.0",
          "state": {
            "_model_module": "@jupyter-widgets/controls",
            "_model_module_version": "1.5.0",
            "_model_name": "ProgressStyleModel",
            "_view_count": null,
            "_view_module": "@jupyter-widgets/base",
            "_view_module_version": "1.2.0",
            "_view_name": "StyleView",
            "bar_color": null,
            "description_width": ""
          }
        },
        "79b8a19a5e2d4f00b60189670b7a513b": {
          "model_module": "@jupyter-widgets/base",
          "model_name": "LayoutModel",
          "model_module_version": "1.2.0",
          "state": {
            "_model_module": "@jupyter-widgets/base",
            "_model_module_version": "1.2.0",
            "_model_name": "LayoutModel",
            "_view_count": null,
            "_view_module": "@jupyter-widgets/base",
            "_view_module_version": "1.2.0",
            "_view_name": "LayoutView",
            "align_content": null,
            "align_items": null,
            "align_self": null,
            "border": null,
            "bottom": null,
            "display": null,
            "flex": null,
            "flex_flow": null,
            "grid_area": null,
            "grid_auto_columns": null,
            "grid_auto_flow": null,
            "grid_auto_rows": null,
            "grid_column": null,
            "grid_gap": null,
            "grid_row": null,
            "grid_template_areas": null,
            "grid_template_columns": null,
            "grid_template_rows": null,
            "height": null,
            "justify_content": null,
            "justify_items": null,
            "left": null,
            "margin": null,
            "max_height": null,
            "max_width": null,
            "min_height": null,
            "min_width": null,
            "object_fit": null,
            "object_position": null,
            "order": null,
            "overflow": null,
            "overflow_x": null,
            "overflow_y": null,
            "padding": null,
            "right": null,
            "top": null,
            "visibility": null,
            "width": null
          }
        },
        "c4f156947ad6488eba1ded167954d3c0": {
          "model_module": "@jupyter-widgets/controls",
          "model_name": "DescriptionStyleModel",
          "model_module_version": "1.5.0",
          "state": {
            "_model_module": "@jupyter-widgets/controls",
            "_model_module_version": "1.5.0",
            "_model_name": "DescriptionStyleModel",
            "_view_count": null,
            "_view_module": "@jupyter-widgets/base",
            "_view_module_version": "1.2.0",
            "_view_name": "StyleView",
            "description_width": ""
          }
        },
        "57491e426e864875a1d6f6318cc813ad": {
          "model_module": "@jupyter-widgets/controls",
          "model_name": "HBoxModel",
          "model_module_version": "1.5.0",
          "state": {
            "_dom_classes": [],
            "_model_module": "@jupyter-widgets/controls",
            "_model_module_version": "1.5.0",
            "_model_name": "HBoxModel",
            "_view_count": null,
            "_view_module": "@jupyter-widgets/controls",
            "_view_module_version": "1.5.0",
            "_view_name": "HBoxView",
            "box_style": "",
            "children": [
              "IPY_MODEL_c2578520b88e4169a1f7cbfeaa557861",
              "IPY_MODEL_855f0e999c9c483f99508bd65dbaec8c",
              "IPY_MODEL_69f3179960034353ac33d8ca0196c57b"
            ],
            "layout": "IPY_MODEL_aaa2fa2d7a054285bf5ade51f2fb662e"
          }
        },
        "c2578520b88e4169a1f7cbfeaa557861": {
          "model_module": "@jupyter-widgets/controls",
          "model_name": "HTMLModel",
          "model_module_version": "1.5.0",
          "state": {
            "_dom_classes": [],
            "_model_module": "@jupyter-widgets/controls",
            "_model_module_version": "1.5.0",
            "_model_name": "HTMLModel",
            "_view_count": null,
            "_view_module": "@jupyter-widgets/controls",
            "_view_module_version": "1.5.0",
            "_view_name": "HTMLView",
            "description": "",
            "description_tooltip": null,
            "layout": "IPY_MODEL_f7aec48c5ec44128b24795b035432c6e",
            "placeholder": "​",
            "style": "IPY_MODEL_1a7cc4c2ec304123a05d72dd483bf3a0",
            "value": "Epoch 4/5 [Train]: 100%"
          }
        },
        "855f0e999c9c483f99508bd65dbaec8c": {
          "model_module": "@jupyter-widgets/controls",
          "model_name": "FloatProgressModel",
          "model_module_version": "1.5.0",
          "state": {
            "_dom_classes": [],
            "_model_module": "@jupyter-widgets/controls",
            "_model_module_version": "1.5.0",
            "_model_name": "FloatProgressModel",
            "_view_count": null,
            "_view_module": "@jupyter-widgets/controls",
            "_view_module_version": "1.5.0",
            "_view_name": "ProgressView",
            "bar_style": "success",
            "description": "",
            "description_tooltip": null,
            "layout": "IPY_MODEL_4faa1008262340b3ab2a1c3b25434106",
            "max": 1908,
            "min": 0,
            "orientation": "horizontal",
            "style": "IPY_MODEL_6c3956997919402fa94a6852dc8a1155",
            "value": 1908
          }
        },
        "69f3179960034353ac33d8ca0196c57b": {
          "model_module": "@jupyter-widgets/controls",
          "model_name": "HTMLModel",
          "model_module_version": "1.5.0",
          "state": {
            "_dom_classes": [],
            "_model_module": "@jupyter-widgets/controls",
            "_model_module_version": "1.5.0",
            "_model_name": "HTMLModel",
            "_view_count": null,
            "_view_module": "@jupyter-widgets/controls",
            "_view_module_version": "1.5.0",
            "_view_name": "HTMLView",
            "description": "",
            "description_tooltip": null,
            "layout": "IPY_MODEL_5594494428d843d382aba93aec45a799",
            "placeholder": "​",
            "style": "IPY_MODEL_8eed0a87261a47f7a073ee016d9751b8",
            "value": " 1908/1908 [01:43&lt;00:00, 18.96it/s]"
          }
        },
        "aaa2fa2d7a054285bf5ade51f2fb662e": {
          "model_module": "@jupyter-widgets/base",
          "model_name": "LayoutModel",
          "model_module_version": "1.2.0",
          "state": {
            "_model_module": "@jupyter-widgets/base",
            "_model_module_version": "1.2.0",
            "_model_name": "LayoutModel",
            "_view_count": null,
            "_view_module": "@jupyter-widgets/base",
            "_view_module_version": "1.2.0",
            "_view_name": "LayoutView",
            "align_content": null,
            "align_items": null,
            "align_self": null,
            "border": null,
            "bottom": null,
            "display": null,
            "flex": null,
            "flex_flow": null,
            "grid_area": null,
            "grid_auto_columns": null,
            "grid_auto_flow": null,
            "grid_auto_rows": null,
            "grid_column": null,
            "grid_gap": null,
            "grid_row": null,
            "grid_template_areas": null,
            "grid_template_columns": null,
            "grid_template_rows": null,
            "height": null,
            "justify_content": null,
            "justify_items": null,
            "left": null,
            "margin": null,
            "max_height": null,
            "max_width": null,
            "min_height": null,
            "min_width": null,
            "object_fit": null,
            "object_position": null,
            "order": null,
            "overflow": null,
            "overflow_x": null,
            "overflow_y": null,
            "padding": null,
            "right": null,
            "top": null,
            "visibility": null,
            "width": null
          }
        },
        "f7aec48c5ec44128b24795b035432c6e": {
          "model_module": "@jupyter-widgets/base",
          "model_name": "LayoutModel",
          "model_module_version": "1.2.0",
          "state": {
            "_model_module": "@jupyter-widgets/base",
            "_model_module_version": "1.2.0",
            "_model_name": "LayoutModel",
            "_view_count": null,
            "_view_module": "@jupyter-widgets/base",
            "_view_module_version": "1.2.0",
            "_view_name": "LayoutView",
            "align_content": null,
            "align_items": null,
            "align_self": null,
            "border": null,
            "bottom": null,
            "display": null,
            "flex": null,
            "flex_flow": null,
            "grid_area": null,
            "grid_auto_columns": null,
            "grid_auto_flow": null,
            "grid_auto_rows": null,
            "grid_column": null,
            "grid_gap": null,
            "grid_row": null,
            "grid_template_areas": null,
            "grid_template_columns": null,
            "grid_template_rows": null,
            "height": null,
            "justify_content": null,
            "justify_items": null,
            "left": null,
            "margin": null,
            "max_height": null,
            "max_width": null,
            "min_height": null,
            "min_width": null,
            "object_fit": null,
            "object_position": null,
            "order": null,
            "overflow": null,
            "overflow_x": null,
            "overflow_y": null,
            "padding": null,
            "right": null,
            "top": null,
            "visibility": null,
            "width": null
          }
        },
        "1a7cc4c2ec304123a05d72dd483bf3a0": {
          "model_module": "@jupyter-widgets/controls",
          "model_name": "DescriptionStyleModel",
          "model_module_version": "1.5.0",
          "state": {
            "_model_module": "@jupyter-widgets/controls",
            "_model_module_version": "1.5.0",
            "_model_name": "DescriptionStyleModel",
            "_view_count": null,
            "_view_module": "@jupyter-widgets/base",
            "_view_module_version": "1.2.0",
            "_view_name": "StyleView",
            "description_width": ""
          }
        },
        "4faa1008262340b3ab2a1c3b25434106": {
          "model_module": "@jupyter-widgets/base",
          "model_name": "LayoutModel",
          "model_module_version": "1.2.0",
          "state": {
            "_model_module": "@jupyter-widgets/base",
            "_model_module_version": "1.2.0",
            "_model_name": "LayoutModel",
            "_view_count": null,
            "_view_module": "@jupyter-widgets/base",
            "_view_module_version": "1.2.0",
            "_view_name": "LayoutView",
            "align_content": null,
            "align_items": null,
            "align_self": null,
            "border": null,
            "bottom": null,
            "display": null,
            "flex": null,
            "flex_flow": null,
            "grid_area": null,
            "grid_auto_columns": null,
            "grid_auto_flow": null,
            "grid_auto_rows": null,
            "grid_column": null,
            "grid_gap": null,
            "grid_row": null,
            "grid_template_areas": null,
            "grid_template_columns": null,
            "grid_template_rows": null,
            "height": null,
            "justify_content": null,
            "justify_items": null,
            "left": null,
            "margin": null,
            "max_height": null,
            "max_width": null,
            "min_height": null,
            "min_width": null,
            "object_fit": null,
            "object_position": null,
            "order": null,
            "overflow": null,
            "overflow_x": null,
            "overflow_y": null,
            "padding": null,
            "right": null,
            "top": null,
            "visibility": null,
            "width": null
          }
        },
        "6c3956997919402fa94a6852dc8a1155": {
          "model_module": "@jupyter-widgets/controls",
          "model_name": "ProgressStyleModel",
          "model_module_version": "1.5.0",
          "state": {
            "_model_module": "@jupyter-widgets/controls",
            "_model_module_version": "1.5.0",
            "_model_name": "ProgressStyleModel",
            "_view_count": null,
            "_view_module": "@jupyter-widgets/base",
            "_view_module_version": "1.2.0",
            "_view_name": "StyleView",
            "bar_color": null,
            "description_width": ""
          }
        },
        "5594494428d843d382aba93aec45a799": {
          "model_module": "@jupyter-widgets/base",
          "model_name": "LayoutModel",
          "model_module_version": "1.2.0",
          "state": {
            "_model_module": "@jupyter-widgets/base",
            "_model_module_version": "1.2.0",
            "_model_name": "LayoutModel",
            "_view_count": null,
            "_view_module": "@jupyter-widgets/base",
            "_view_module_version": "1.2.0",
            "_view_name": "LayoutView",
            "align_content": null,
            "align_items": null,
            "align_self": null,
            "border": null,
            "bottom": null,
            "display": null,
            "flex": null,
            "flex_flow": null,
            "grid_area": null,
            "grid_auto_columns": null,
            "grid_auto_flow": null,
            "grid_auto_rows": null,
            "grid_column": null,
            "grid_gap": null,
            "grid_row": null,
            "grid_template_areas": null,
            "grid_template_columns": null,
            "grid_template_rows": null,
            "height": null,
            "justify_content": null,
            "justify_items": null,
            "left": null,
            "margin": null,
            "max_height": null,
            "max_width": null,
            "min_height": null,
            "min_width": null,
            "object_fit": null,
            "object_position": null,
            "order": null,
            "overflow": null,
            "overflow_x": null,
            "overflow_y": null,
            "padding": null,
            "right": null,
            "top": null,
            "visibility": null,
            "width": null
          }
        },
        "8eed0a87261a47f7a073ee016d9751b8": {
          "model_module": "@jupyter-widgets/controls",
          "model_name": "DescriptionStyleModel",
          "model_module_version": "1.5.0",
          "state": {
            "_model_module": "@jupyter-widgets/controls",
            "_model_module_version": "1.5.0",
            "_model_name": "DescriptionStyleModel",
            "_view_count": null,
            "_view_module": "@jupyter-widgets/base",
            "_view_module_version": "1.2.0",
            "_view_name": "StyleView",
            "description_width": ""
          }
        },
        "48c4bf24d8ff429ab9270214e4a806c0": {
          "model_module": "@jupyter-widgets/controls",
          "model_name": "HBoxModel",
          "model_module_version": "1.5.0",
          "state": {
            "_dom_classes": [],
            "_model_module": "@jupyter-widgets/controls",
            "_model_module_version": "1.5.0",
            "_model_name": "HBoxModel",
            "_view_count": null,
            "_view_module": "@jupyter-widgets/controls",
            "_view_module_version": "1.5.0",
            "_view_name": "HBoxView",
            "box_style": "",
            "children": [
              "IPY_MODEL_4b5a416bb5c44e70815c35a6e56d890b",
              "IPY_MODEL_269d2bf0726c4e5188975d5c78a8dd6d",
              "IPY_MODEL_b9a17a76f49c4b858da23ade078bf07d"
            ],
            "layout": "IPY_MODEL_61866fc430514db5bd2e6a31c50c2978"
          }
        },
        "4b5a416bb5c44e70815c35a6e56d890b": {
          "model_module": "@jupyter-widgets/controls",
          "model_name": "HTMLModel",
          "model_module_version": "1.5.0",
          "state": {
            "_dom_classes": [],
            "_model_module": "@jupyter-widgets/controls",
            "_model_module_version": "1.5.0",
            "_model_name": "HTMLModel",
            "_view_count": null,
            "_view_module": "@jupyter-widgets/controls",
            "_view_module_version": "1.5.0",
            "_view_name": "HTMLView",
            "description": "",
            "description_tooltip": null,
            "layout": "IPY_MODEL_4dc8a476bba84f1db7760dc99c25e27e",
            "placeholder": "​",
            "style": "IPY_MODEL_14988402d32a4f74914de5e85855d12d",
            "value": "Epoch 4/5 [Val]: 100%"
          }
        },
        "269d2bf0726c4e5188975d5c78a8dd6d": {
          "model_module": "@jupyter-widgets/controls",
          "model_name": "FloatProgressModel",
          "model_module_version": "1.5.0",
          "state": {
            "_dom_classes": [],
            "_model_module": "@jupyter-widgets/controls",
            "_model_module_version": "1.5.0",
            "_model_name": "FloatProgressModel",
            "_view_count": null,
            "_view_module": "@jupyter-widgets/controls",
            "_view_module_version": "1.5.0",
            "_view_name": "ProgressView",
            "bar_style": "success",
            "description": "",
            "description_tooltip": null,
            "layout": "IPY_MODEL_e010e43acc7945b185ab919613716656",
            "max": 337,
            "min": 0,
            "orientation": "horizontal",
            "style": "IPY_MODEL_cf1a37be97d9404c8c4752edabea79a5",
            "value": 337
          }
        },
        "b9a17a76f49c4b858da23ade078bf07d": {
          "model_module": "@jupyter-widgets/controls",
          "model_name": "HTMLModel",
          "model_module_version": "1.5.0",
          "state": {
            "_dom_classes": [],
            "_model_module": "@jupyter-widgets/controls",
            "_model_module_version": "1.5.0",
            "_model_name": "HTMLModel",
            "_view_count": null,
            "_view_module": "@jupyter-widgets/controls",
            "_view_module_version": "1.5.0",
            "_view_name": "HTMLView",
            "description": "",
            "description_tooltip": null,
            "layout": "IPY_MODEL_949f296cd1024e0388e314ba90bb6003",
            "placeholder": "​",
            "style": "IPY_MODEL_3ad535d6dd354d78a82fd6556f15d0e9",
            "value": " 337/337 [00:06&lt;00:00, 55.71it/s]"
          }
        },
        "61866fc430514db5bd2e6a31c50c2978": {
          "model_module": "@jupyter-widgets/base",
          "model_name": "LayoutModel",
          "model_module_version": "1.2.0",
          "state": {
            "_model_module": "@jupyter-widgets/base",
            "_model_module_version": "1.2.0",
            "_model_name": "LayoutModel",
            "_view_count": null,
            "_view_module": "@jupyter-widgets/base",
            "_view_module_version": "1.2.0",
            "_view_name": "LayoutView",
            "align_content": null,
            "align_items": null,
            "align_self": null,
            "border": null,
            "bottom": null,
            "display": null,
            "flex": null,
            "flex_flow": null,
            "grid_area": null,
            "grid_auto_columns": null,
            "grid_auto_flow": null,
            "grid_auto_rows": null,
            "grid_column": null,
            "grid_gap": null,
            "grid_row": null,
            "grid_template_areas": null,
            "grid_template_columns": null,
            "grid_template_rows": null,
            "height": null,
            "justify_content": null,
            "justify_items": null,
            "left": null,
            "margin": null,
            "max_height": null,
            "max_width": null,
            "min_height": null,
            "min_width": null,
            "object_fit": null,
            "object_position": null,
            "order": null,
            "overflow": null,
            "overflow_x": null,
            "overflow_y": null,
            "padding": null,
            "right": null,
            "top": null,
            "visibility": null,
            "width": null
          }
        },
        "4dc8a476bba84f1db7760dc99c25e27e": {
          "model_module": "@jupyter-widgets/base",
          "model_name": "LayoutModel",
          "model_module_version": "1.2.0",
          "state": {
            "_model_module": "@jupyter-widgets/base",
            "_model_module_version": "1.2.0",
            "_model_name": "LayoutModel",
            "_view_count": null,
            "_view_module": "@jupyter-widgets/base",
            "_view_module_version": "1.2.0",
            "_view_name": "LayoutView",
            "align_content": null,
            "align_items": null,
            "align_self": null,
            "border": null,
            "bottom": null,
            "display": null,
            "flex": null,
            "flex_flow": null,
            "grid_area": null,
            "grid_auto_columns": null,
            "grid_auto_flow": null,
            "grid_auto_rows": null,
            "grid_column": null,
            "grid_gap": null,
            "grid_row": null,
            "grid_template_areas": null,
            "grid_template_columns": null,
            "grid_template_rows": null,
            "height": null,
            "justify_content": null,
            "justify_items": null,
            "left": null,
            "margin": null,
            "max_height": null,
            "max_width": null,
            "min_height": null,
            "min_width": null,
            "object_fit": null,
            "object_position": null,
            "order": null,
            "overflow": null,
            "overflow_x": null,
            "overflow_y": null,
            "padding": null,
            "right": null,
            "top": null,
            "visibility": null,
            "width": null
          }
        },
        "14988402d32a4f74914de5e85855d12d": {
          "model_module": "@jupyter-widgets/controls",
          "model_name": "DescriptionStyleModel",
          "model_module_version": "1.5.0",
          "state": {
            "_model_module": "@jupyter-widgets/controls",
            "_model_module_version": "1.5.0",
            "_model_name": "DescriptionStyleModel",
            "_view_count": null,
            "_view_module": "@jupyter-widgets/base",
            "_view_module_version": "1.2.0",
            "_view_name": "StyleView",
            "description_width": ""
          }
        },
        "e010e43acc7945b185ab919613716656": {
          "model_module": "@jupyter-widgets/base",
          "model_name": "LayoutModel",
          "model_module_version": "1.2.0",
          "state": {
            "_model_module": "@jupyter-widgets/base",
            "_model_module_version": "1.2.0",
            "_model_name": "LayoutModel",
            "_view_count": null,
            "_view_module": "@jupyter-widgets/base",
            "_view_module_version": "1.2.0",
            "_view_name": "LayoutView",
            "align_content": null,
            "align_items": null,
            "align_self": null,
            "border": null,
            "bottom": null,
            "display": null,
            "flex": null,
            "flex_flow": null,
            "grid_area": null,
            "grid_auto_columns": null,
            "grid_auto_flow": null,
            "grid_auto_rows": null,
            "grid_column": null,
            "grid_gap": null,
            "grid_row": null,
            "grid_template_areas": null,
            "grid_template_columns": null,
            "grid_template_rows": null,
            "height": null,
            "justify_content": null,
            "justify_items": null,
            "left": null,
            "margin": null,
            "max_height": null,
            "max_width": null,
            "min_height": null,
            "min_width": null,
            "object_fit": null,
            "object_position": null,
            "order": null,
            "overflow": null,
            "overflow_x": null,
            "overflow_y": null,
            "padding": null,
            "right": null,
            "top": null,
            "visibility": null,
            "width": null
          }
        },
        "cf1a37be97d9404c8c4752edabea79a5": {
          "model_module": "@jupyter-widgets/controls",
          "model_name": "ProgressStyleModel",
          "model_module_version": "1.5.0",
          "state": {
            "_model_module": "@jupyter-widgets/controls",
            "_model_module_version": "1.5.0",
            "_model_name": "ProgressStyleModel",
            "_view_count": null,
            "_view_module": "@jupyter-widgets/base",
            "_view_module_version": "1.2.0",
            "_view_name": "StyleView",
            "bar_color": null,
            "description_width": ""
          }
        },
        "949f296cd1024e0388e314ba90bb6003": {
          "model_module": "@jupyter-widgets/base",
          "model_name": "LayoutModel",
          "model_module_version": "1.2.0",
          "state": {
            "_model_module": "@jupyter-widgets/base",
            "_model_module_version": "1.2.0",
            "_model_name": "LayoutModel",
            "_view_count": null,
            "_view_module": "@jupyter-widgets/base",
            "_view_module_version": "1.2.0",
            "_view_name": "LayoutView",
            "align_content": null,
            "align_items": null,
            "align_self": null,
            "border": null,
            "bottom": null,
            "display": null,
            "flex": null,
            "flex_flow": null,
            "grid_area": null,
            "grid_auto_columns": null,
            "grid_auto_flow": null,
            "grid_auto_rows": null,
            "grid_column": null,
            "grid_gap": null,
            "grid_row": null,
            "grid_template_areas": null,
            "grid_template_columns": null,
            "grid_template_rows": null,
            "height": null,
            "justify_content": null,
            "justify_items": null,
            "left": null,
            "margin": null,
            "max_height": null,
            "max_width": null,
            "min_height": null,
            "min_width": null,
            "object_fit": null,
            "object_position": null,
            "order": null,
            "overflow": null,
            "overflow_x": null,
            "overflow_y": null,
            "padding": null,
            "right": null,
            "top": null,
            "visibility": null,
            "width": null
          }
        },
        "3ad535d6dd354d78a82fd6556f15d0e9": {
          "model_module": "@jupyter-widgets/controls",
          "model_name": "DescriptionStyleModel",
          "model_module_version": "1.5.0",
          "state": {
            "_model_module": "@jupyter-widgets/controls",
            "_model_module_version": "1.5.0",
            "_model_name": "DescriptionStyleModel",
            "_view_count": null,
            "_view_module": "@jupyter-widgets/base",
            "_view_module_version": "1.2.0",
            "_view_name": "StyleView",
            "description_width": ""
          }
        },
        "7ea78eb4e0af431d93ea746353bc7fb8": {
          "model_module": "@jupyter-widgets/controls",
          "model_name": "HBoxModel",
          "model_module_version": "1.5.0",
          "state": {
            "_dom_classes": [],
            "_model_module": "@jupyter-widgets/controls",
            "_model_module_version": "1.5.0",
            "_model_name": "HBoxModel",
            "_view_count": null,
            "_view_module": "@jupyter-widgets/controls",
            "_view_module_version": "1.5.0",
            "_view_name": "HBoxView",
            "box_style": "",
            "children": [
              "IPY_MODEL_5513b84e19b2431ca4d96026a876d8e2",
              "IPY_MODEL_4877fb192e6f4c4b87ae6af8dc299b61",
              "IPY_MODEL_d0f7188d48d545b2affd82bcb0587958"
            ],
            "layout": "IPY_MODEL_702d69a701834b28b9836d009c7fed90"
          }
        },
        "5513b84e19b2431ca4d96026a876d8e2": {
          "model_module": "@jupyter-widgets/controls",
          "model_name": "HTMLModel",
          "model_module_version": "1.5.0",
          "state": {
            "_dom_classes": [],
            "_model_module": "@jupyter-widgets/controls",
            "_model_module_version": "1.5.0",
            "_model_name": "HTMLModel",
            "_view_count": null,
            "_view_module": "@jupyter-widgets/controls",
            "_view_module_version": "1.5.0",
            "_view_name": "HTMLView",
            "description": "",
            "description_tooltip": null,
            "layout": "IPY_MODEL_c4bfb36be1ba4d12b07a40df944a25cb",
            "placeholder": "​",
            "style": "IPY_MODEL_5ee70a63c3ce4829b197c484be0365d5",
            "value": "Epoch 5/5 [Train]: 100%"
          }
        },
        "4877fb192e6f4c4b87ae6af8dc299b61": {
          "model_module": "@jupyter-widgets/controls",
          "model_name": "FloatProgressModel",
          "model_module_version": "1.5.0",
          "state": {
            "_dom_classes": [],
            "_model_module": "@jupyter-widgets/controls",
            "_model_module_version": "1.5.0",
            "_model_name": "FloatProgressModel",
            "_view_count": null,
            "_view_module": "@jupyter-widgets/controls",
            "_view_module_version": "1.5.0",
            "_view_name": "ProgressView",
            "bar_style": "success",
            "description": "",
            "description_tooltip": null,
            "layout": "IPY_MODEL_0d050aa86f6041fd953cd71414fca911",
            "max": 1908,
            "min": 0,
            "orientation": "horizontal",
            "style": "IPY_MODEL_4e0771785fd04b7682812f846613f147",
            "value": 1908
          }
        },
        "d0f7188d48d545b2affd82bcb0587958": {
          "model_module": "@jupyter-widgets/controls",
          "model_name": "HTMLModel",
          "model_module_version": "1.5.0",
          "state": {
            "_dom_classes": [],
            "_model_module": "@jupyter-widgets/controls",
            "_model_module_version": "1.5.0",
            "_model_name": "HTMLModel",
            "_view_count": null,
            "_view_module": "@jupyter-widgets/controls",
            "_view_module_version": "1.5.0",
            "_view_name": "HTMLView",
            "description": "",
            "description_tooltip": null,
            "layout": "IPY_MODEL_1a63188a67664a19a3bccfa9e4c6eb79",
            "placeholder": "​",
            "style": "IPY_MODEL_6daa23e474bd4fc0bbf1ce45dcce5111",
            "value": " 1908/1908 [01:42&lt;00:00, 19.46it/s]"
          }
        },
        "702d69a701834b28b9836d009c7fed90": {
          "model_module": "@jupyter-widgets/base",
          "model_name": "LayoutModel",
          "model_module_version": "1.2.0",
          "state": {
            "_model_module": "@jupyter-widgets/base",
            "_model_module_version": "1.2.0",
            "_model_name": "LayoutModel",
            "_view_count": null,
            "_view_module": "@jupyter-widgets/base",
            "_view_module_version": "1.2.0",
            "_view_name": "LayoutView",
            "align_content": null,
            "align_items": null,
            "align_self": null,
            "border": null,
            "bottom": null,
            "display": null,
            "flex": null,
            "flex_flow": null,
            "grid_area": null,
            "grid_auto_columns": null,
            "grid_auto_flow": null,
            "grid_auto_rows": null,
            "grid_column": null,
            "grid_gap": null,
            "grid_row": null,
            "grid_template_areas": null,
            "grid_template_columns": null,
            "grid_template_rows": null,
            "height": null,
            "justify_content": null,
            "justify_items": null,
            "left": null,
            "margin": null,
            "max_height": null,
            "max_width": null,
            "min_height": null,
            "min_width": null,
            "object_fit": null,
            "object_position": null,
            "order": null,
            "overflow": null,
            "overflow_x": null,
            "overflow_y": null,
            "padding": null,
            "right": null,
            "top": null,
            "visibility": null,
            "width": null
          }
        },
        "c4bfb36be1ba4d12b07a40df944a25cb": {
          "model_module": "@jupyter-widgets/base",
          "model_name": "LayoutModel",
          "model_module_version": "1.2.0",
          "state": {
            "_model_module": "@jupyter-widgets/base",
            "_model_module_version": "1.2.0",
            "_model_name": "LayoutModel",
            "_view_count": null,
            "_view_module": "@jupyter-widgets/base",
            "_view_module_version": "1.2.0",
            "_view_name": "LayoutView",
            "align_content": null,
            "align_items": null,
            "align_self": null,
            "border": null,
            "bottom": null,
            "display": null,
            "flex": null,
            "flex_flow": null,
            "grid_area": null,
            "grid_auto_columns": null,
            "grid_auto_flow": null,
            "grid_auto_rows": null,
            "grid_column": null,
            "grid_gap": null,
            "grid_row": null,
            "grid_template_areas": null,
            "grid_template_columns": null,
            "grid_template_rows": null,
            "height": null,
            "justify_content": null,
            "justify_items": null,
            "left": null,
            "margin": null,
            "max_height": null,
            "max_width": null,
            "min_height": null,
            "min_width": null,
            "object_fit": null,
            "object_position": null,
            "order": null,
            "overflow": null,
            "overflow_x": null,
            "overflow_y": null,
            "padding": null,
            "right": null,
            "top": null,
            "visibility": null,
            "width": null
          }
        },
        "5ee70a63c3ce4829b197c484be0365d5": {
          "model_module": "@jupyter-widgets/controls",
          "model_name": "DescriptionStyleModel",
          "model_module_version": "1.5.0",
          "state": {
            "_model_module": "@jupyter-widgets/controls",
            "_model_module_version": "1.5.0",
            "_model_name": "DescriptionStyleModel",
            "_view_count": null,
            "_view_module": "@jupyter-widgets/base",
            "_view_module_version": "1.2.0",
            "_view_name": "StyleView",
            "description_width": ""
          }
        },
        "0d050aa86f6041fd953cd71414fca911": {
          "model_module": "@jupyter-widgets/base",
          "model_name": "LayoutModel",
          "model_module_version": "1.2.0",
          "state": {
            "_model_module": "@jupyter-widgets/base",
            "_model_module_version": "1.2.0",
            "_model_name": "LayoutModel",
            "_view_count": null,
            "_view_module": "@jupyter-widgets/base",
            "_view_module_version": "1.2.0",
            "_view_name": "LayoutView",
            "align_content": null,
            "align_items": null,
            "align_self": null,
            "border": null,
            "bottom": null,
            "display": null,
            "flex": null,
            "flex_flow": null,
            "grid_area": null,
            "grid_auto_columns": null,
            "grid_auto_flow": null,
            "grid_auto_rows": null,
            "grid_column": null,
            "grid_gap": null,
            "grid_row": null,
            "grid_template_areas": null,
            "grid_template_columns": null,
            "grid_template_rows": null,
            "height": null,
            "justify_content": null,
            "justify_items": null,
            "left": null,
            "margin": null,
            "max_height": null,
            "max_width": null,
            "min_height": null,
            "min_width": null,
            "object_fit": null,
            "object_position": null,
            "order": null,
            "overflow": null,
            "overflow_x": null,
            "overflow_y": null,
            "padding": null,
            "right": null,
            "top": null,
            "visibility": null,
            "width": null
          }
        },
        "4e0771785fd04b7682812f846613f147": {
          "model_module": "@jupyter-widgets/controls",
          "model_name": "ProgressStyleModel",
          "model_module_version": "1.5.0",
          "state": {
            "_model_module": "@jupyter-widgets/controls",
            "_model_module_version": "1.5.0",
            "_model_name": "ProgressStyleModel",
            "_view_count": null,
            "_view_module": "@jupyter-widgets/base",
            "_view_module_version": "1.2.0",
            "_view_name": "StyleView",
            "bar_color": null,
            "description_width": ""
          }
        },
        "1a63188a67664a19a3bccfa9e4c6eb79": {
          "model_module": "@jupyter-widgets/base",
          "model_name": "LayoutModel",
          "model_module_version": "1.2.0",
          "state": {
            "_model_module": "@jupyter-widgets/base",
            "_model_module_version": "1.2.0",
            "_model_name": "LayoutModel",
            "_view_count": null,
            "_view_module": "@jupyter-widgets/base",
            "_view_module_version": "1.2.0",
            "_view_name": "LayoutView",
            "align_content": null,
            "align_items": null,
            "align_self": null,
            "border": null,
            "bottom": null,
            "display": null,
            "flex": null,
            "flex_flow": null,
            "grid_area": null,
            "grid_auto_columns": null,
            "grid_auto_flow": null,
            "grid_auto_rows": null,
            "grid_column": null,
            "grid_gap": null,
            "grid_row": null,
            "grid_template_areas": null,
            "grid_template_columns": null,
            "grid_template_rows": null,
            "height": null,
            "justify_content": null,
            "justify_items": null,
            "left": null,
            "margin": null,
            "max_height": null,
            "max_width": null,
            "min_height": null,
            "min_width": null,
            "object_fit": null,
            "object_position": null,
            "order": null,
            "overflow": null,
            "overflow_x": null,
            "overflow_y": null,
            "padding": null,
            "right": null,
            "top": null,
            "visibility": null,
            "width": null
          }
        },
        "6daa23e474bd4fc0bbf1ce45dcce5111": {
          "model_module": "@jupyter-widgets/controls",
          "model_name": "DescriptionStyleModel",
          "model_module_version": "1.5.0",
          "state": {
            "_model_module": "@jupyter-widgets/controls",
            "_model_module_version": "1.5.0",
            "_model_name": "DescriptionStyleModel",
            "_view_count": null,
            "_view_module": "@jupyter-widgets/base",
            "_view_module_version": "1.2.0",
            "_view_name": "StyleView",
            "description_width": ""
          }
        },
        "a427dce5e3b048d09f070c22a2f2a737": {
          "model_module": "@jupyter-widgets/controls",
          "model_name": "HBoxModel",
          "model_module_version": "1.5.0",
          "state": {
            "_dom_classes": [],
            "_model_module": "@jupyter-widgets/controls",
            "_model_module_version": "1.5.0",
            "_model_name": "HBoxModel",
            "_view_count": null,
            "_view_module": "@jupyter-widgets/controls",
            "_view_module_version": "1.5.0",
            "_view_name": "HBoxView",
            "box_style": "",
            "children": [
              "IPY_MODEL_8a530bc58242418caf896f292b1108f7",
              "IPY_MODEL_47208f5407734c9da441c1d091bdae02",
              "IPY_MODEL_644c3325e7f14ea9b4abd6d11dc202b9"
            ],
            "layout": "IPY_MODEL_402dded64edb4aecb29355e27afcf0aa"
          }
        },
        "8a530bc58242418caf896f292b1108f7": {
          "model_module": "@jupyter-widgets/controls",
          "model_name": "HTMLModel",
          "model_module_version": "1.5.0",
          "state": {
            "_dom_classes": [],
            "_model_module": "@jupyter-widgets/controls",
            "_model_module_version": "1.5.0",
            "_model_name": "HTMLModel",
            "_view_count": null,
            "_view_module": "@jupyter-widgets/controls",
            "_view_module_version": "1.5.0",
            "_view_name": "HTMLView",
            "description": "",
            "description_tooltip": null,
            "layout": "IPY_MODEL_32ce6fb4eb40421e94afa9305d3b5c59",
            "placeholder": "​",
            "style": "IPY_MODEL_739510f41b744ae0a23b015f29afde17",
            "value": "Epoch 5/5 [Val]: 100%"
          }
        },
        "47208f5407734c9da441c1d091bdae02": {
          "model_module": "@jupyter-widgets/controls",
          "model_name": "FloatProgressModel",
          "model_module_version": "1.5.0",
          "state": {
            "_dom_classes": [],
            "_model_module": "@jupyter-widgets/controls",
            "_model_module_version": "1.5.0",
            "_model_name": "FloatProgressModel",
            "_view_count": null,
            "_view_module": "@jupyter-widgets/controls",
            "_view_module_version": "1.5.0",
            "_view_name": "ProgressView",
            "bar_style": "success",
            "description": "",
            "description_tooltip": null,
            "layout": "IPY_MODEL_08118c7fb0a8497cabc038ee08743b39",
            "max": 337,
            "min": 0,
            "orientation": "horizontal",
            "style": "IPY_MODEL_2ec4f7f2d40b4346a684b5ef54775032",
            "value": 337
          }
        },
        "644c3325e7f14ea9b4abd6d11dc202b9": {
          "model_module": "@jupyter-widgets/controls",
          "model_name": "HTMLModel",
          "model_module_version": "1.5.0",
          "state": {
            "_dom_classes": [],
            "_model_module": "@jupyter-widgets/controls",
            "_model_module_version": "1.5.0",
            "_model_name": "HTMLModel",
            "_view_count": null,
            "_view_module": "@jupyter-widgets/controls",
            "_view_module_version": "1.5.0",
            "_view_name": "HTMLView",
            "description": "",
            "description_tooltip": null,
            "layout": "IPY_MODEL_ad3a1280517b44a088e2a3c5ff2528ca",
            "placeholder": "​",
            "style": "IPY_MODEL_82ae7d0205c4418a8e5da17c3f6a6d8e",
            "value": " 337/337 [00:06&lt;00:00, 54.80it/s]"
          }
        },
        "402dded64edb4aecb29355e27afcf0aa": {
          "model_module": "@jupyter-widgets/base",
          "model_name": "LayoutModel",
          "model_module_version": "1.2.0",
          "state": {
            "_model_module": "@jupyter-widgets/base",
            "_model_module_version": "1.2.0",
            "_model_name": "LayoutModel",
            "_view_count": null,
            "_view_module": "@jupyter-widgets/base",
            "_view_module_version": "1.2.0",
            "_view_name": "LayoutView",
            "align_content": null,
            "align_items": null,
            "align_self": null,
            "border": null,
            "bottom": null,
            "display": null,
            "flex": null,
            "flex_flow": null,
            "grid_area": null,
            "grid_auto_columns": null,
            "grid_auto_flow": null,
            "grid_auto_rows": null,
            "grid_column": null,
            "grid_gap": null,
            "grid_row": null,
            "grid_template_areas": null,
            "grid_template_columns": null,
            "grid_template_rows": null,
            "height": null,
            "justify_content": null,
            "justify_items": null,
            "left": null,
            "margin": null,
            "max_height": null,
            "max_width": null,
            "min_height": null,
            "min_width": null,
            "object_fit": null,
            "object_position": null,
            "order": null,
            "overflow": null,
            "overflow_x": null,
            "overflow_y": null,
            "padding": null,
            "right": null,
            "top": null,
            "visibility": null,
            "width": null
          }
        },
        "32ce6fb4eb40421e94afa9305d3b5c59": {
          "model_module": "@jupyter-widgets/base",
          "model_name": "LayoutModel",
          "model_module_version": "1.2.0",
          "state": {
            "_model_module": "@jupyter-widgets/base",
            "_model_module_version": "1.2.0",
            "_model_name": "LayoutModel",
            "_view_count": null,
            "_view_module": "@jupyter-widgets/base",
            "_view_module_version": "1.2.0",
            "_view_name": "LayoutView",
            "align_content": null,
            "align_items": null,
            "align_self": null,
            "border": null,
            "bottom": null,
            "display": null,
            "flex": null,
            "flex_flow": null,
            "grid_area": null,
            "grid_auto_columns": null,
            "grid_auto_flow": null,
            "grid_auto_rows": null,
            "grid_column": null,
            "grid_gap": null,
            "grid_row": null,
            "grid_template_areas": null,
            "grid_template_columns": null,
            "grid_template_rows": null,
            "height": null,
            "justify_content": null,
            "justify_items": null,
            "left": null,
            "margin": null,
            "max_height": null,
            "max_width": null,
            "min_height": null,
            "min_width": null,
            "object_fit": null,
            "object_position": null,
            "order": null,
            "overflow": null,
            "overflow_x": null,
            "overflow_y": null,
            "padding": null,
            "right": null,
            "top": null,
            "visibility": null,
            "width": null
          }
        },
        "739510f41b744ae0a23b015f29afde17": {
          "model_module": "@jupyter-widgets/controls",
          "model_name": "DescriptionStyleModel",
          "model_module_version": "1.5.0",
          "state": {
            "_model_module": "@jupyter-widgets/controls",
            "_model_module_version": "1.5.0",
            "_model_name": "DescriptionStyleModel",
            "_view_count": null,
            "_view_module": "@jupyter-widgets/base",
            "_view_module_version": "1.2.0",
            "_view_name": "StyleView",
            "description_width": ""
          }
        },
        "08118c7fb0a8497cabc038ee08743b39": {
          "model_module": "@jupyter-widgets/base",
          "model_name": "LayoutModel",
          "model_module_version": "1.2.0",
          "state": {
            "_model_module": "@jupyter-widgets/base",
            "_model_module_version": "1.2.0",
            "_model_name": "LayoutModel",
            "_view_count": null,
            "_view_module": "@jupyter-widgets/base",
            "_view_module_version": "1.2.0",
            "_view_name": "LayoutView",
            "align_content": null,
            "align_items": null,
            "align_self": null,
            "border": null,
            "bottom": null,
            "display": null,
            "flex": null,
            "flex_flow": null,
            "grid_area": null,
            "grid_auto_columns": null,
            "grid_auto_flow": null,
            "grid_auto_rows": null,
            "grid_column": null,
            "grid_gap": null,
            "grid_row": null,
            "grid_template_areas": null,
            "grid_template_columns": null,
            "grid_template_rows": null,
            "height": null,
            "justify_content": null,
            "justify_items": null,
            "left": null,
            "margin": null,
            "max_height": null,
            "max_width": null,
            "min_height": null,
            "min_width": null,
            "object_fit": null,
            "object_position": null,
            "order": null,
            "overflow": null,
            "overflow_x": null,
            "overflow_y": null,
            "padding": null,
            "right": null,
            "top": null,
            "visibility": null,
            "width": null
          }
        },
        "2ec4f7f2d40b4346a684b5ef54775032": {
          "model_module": "@jupyter-widgets/controls",
          "model_name": "ProgressStyleModel",
          "model_module_version": "1.5.0",
          "state": {
            "_model_module": "@jupyter-widgets/controls",
            "_model_module_version": "1.5.0",
            "_model_name": "ProgressStyleModel",
            "_view_count": null,
            "_view_module": "@jupyter-widgets/base",
            "_view_module_version": "1.2.0",
            "_view_name": "StyleView",
            "bar_color": null,
            "description_width": ""
          }
        },
        "ad3a1280517b44a088e2a3c5ff2528ca": {
          "model_module": "@jupyter-widgets/base",
          "model_name": "LayoutModel",
          "model_module_version": "1.2.0",
          "state": {
            "_model_module": "@jupyter-widgets/base",
            "_model_module_version": "1.2.0",
            "_model_name": "LayoutModel",
            "_view_count": null,
            "_view_module": "@jupyter-widgets/base",
            "_view_module_version": "1.2.0",
            "_view_name": "LayoutView",
            "align_content": null,
            "align_items": null,
            "align_self": null,
            "border": null,
            "bottom": null,
            "display": null,
            "flex": null,
            "flex_flow": null,
            "grid_area": null,
            "grid_auto_columns": null,
            "grid_auto_flow": null,
            "grid_auto_rows": null,
            "grid_column": null,
            "grid_gap": null,
            "grid_row": null,
            "grid_template_areas": null,
            "grid_template_columns": null,
            "grid_template_rows": null,
            "height": null,
            "justify_content": null,
            "justify_items": null,
            "left": null,
            "margin": null,
            "max_height": null,
            "max_width": null,
            "min_height": null,
            "min_width": null,
            "object_fit": null,
            "object_position": null,
            "order": null,
            "overflow": null,
            "overflow_x": null,
            "overflow_y": null,
            "padding": null,
            "right": null,
            "top": null,
            "visibility": null,
            "width": null
          }
        },
        "82ae7d0205c4418a8e5da17c3f6a6d8e": {
          "model_module": "@jupyter-widgets/controls",
          "model_name": "DescriptionStyleModel",
          "model_module_version": "1.5.0",
          "state": {
            "_model_module": "@jupyter-widgets/controls",
            "_model_module_version": "1.5.0",
            "_model_name": "DescriptionStyleModel",
            "_view_count": null,
            "_view_module": "@jupyter-widgets/base",
            "_view_module_version": "1.2.0",
            "_view_name": "StyleView",
            "description_width": ""
          }
        },
        "94c1791b8baa4012a5ee84180be98aaa": {
          "model_module": "@jupyter-widgets/controls",
          "model_name": "HBoxModel",
          "model_module_version": "1.5.0",
          "state": {
            "_dom_classes": [],
            "_model_module": "@jupyter-widgets/controls",
            "_model_module_version": "1.5.0",
            "_model_name": "HBoxModel",
            "_view_count": null,
            "_view_module": "@jupyter-widgets/controls",
            "_view_module_version": "1.5.0",
            "_view_name": "HBoxView",
            "box_style": "",
            "children": [
              "IPY_MODEL_e40ead799e5e41e6b0e222d217fd14d7",
              "IPY_MODEL_d5d1dc5fc55645e497e36835218504d2",
              "IPY_MODEL_c52c60c627204d30ae5213e593905f89"
            ],
            "layout": "IPY_MODEL_928a4584320a43e5be6864979439d698"
          }
        },
        "e40ead799e5e41e6b0e222d217fd14d7": {
          "model_module": "@jupyter-widgets/controls",
          "model_name": "HTMLModel",
          "model_module_version": "1.5.0",
          "state": {
            "_dom_classes": [],
            "_model_module": "@jupyter-widgets/controls",
            "_model_module_version": "1.5.0",
            "_model_name": "HTMLModel",
            "_view_count": null,
            "_view_module": "@jupyter-widgets/controls",
            "_view_module_version": "1.5.0",
            "_view_name": "HTMLView",
            "description": "",
            "description_tooltip": null,
            "layout": "IPY_MODEL_4be0d56b3f014a85ac874f92bd223597",
            "placeholder": "​",
            "style": "IPY_MODEL_6bd8e4797fb143358587d17beb022065",
            "value": "Calibrating threshold: 100%"
          }
        },
        "d5d1dc5fc55645e497e36835218504d2": {
          "model_module": "@jupyter-widgets/controls",
          "model_name": "FloatProgressModel",
          "model_module_version": "1.5.0",
          "state": {
            "_dom_classes": [],
            "_model_module": "@jupyter-widgets/controls",
            "_model_module_version": "1.5.0",
            "_model_name": "FloatProgressModel",
            "_view_count": null,
            "_view_module": "@jupyter-widgets/controls",
            "_view_module_version": "1.5.0",
            "_view_name": "ProgressView",
            "bar_style": "success",
            "description": "",
            "description_tooltip": null,
            "layout": "IPY_MODEL_b7e895f3557d46e6a4c665176e72f741",
            "max": 337,
            "min": 0,
            "orientation": "horizontal",
            "style": "IPY_MODEL_8d59961862fc440dbd726bc1505c89bf",
            "value": 337
          }
        },
        "c52c60c627204d30ae5213e593905f89": {
          "model_module": "@jupyter-widgets/controls",
          "model_name": "HTMLModel",
          "model_module_version": "1.5.0",
          "state": {
            "_dom_classes": [],
            "_model_module": "@jupyter-widgets/controls",
            "_model_module_version": "1.5.0",
            "_model_name": "HTMLModel",
            "_view_count": null,
            "_view_module": "@jupyter-widgets/controls",
            "_view_module_version": "1.5.0",
            "_view_name": "HTMLView",
            "description": "",
            "description_tooltip": null,
            "layout": "IPY_MODEL_64ae19abbd524acdbc7aede40b90748c",
            "placeholder": "​",
            "style": "IPY_MODEL_5f3e4bb41e5d419b868ec475a5ee665c",
            "value": " 337/337 [00:05&lt;00:00, 60.68it/s]"
          }
        },
        "928a4584320a43e5be6864979439d698": {
          "model_module": "@jupyter-widgets/base",
          "model_name": "LayoutModel",
          "model_module_version": "1.2.0",
          "state": {
            "_model_module": "@jupyter-widgets/base",
            "_model_module_version": "1.2.0",
            "_model_name": "LayoutModel",
            "_view_count": null,
            "_view_module": "@jupyter-widgets/base",
            "_view_module_version": "1.2.0",
            "_view_name": "LayoutView",
            "align_content": null,
            "align_items": null,
            "align_self": null,
            "border": null,
            "bottom": null,
            "display": null,
            "flex": null,
            "flex_flow": null,
            "grid_area": null,
            "grid_auto_columns": null,
            "grid_auto_flow": null,
            "grid_auto_rows": null,
            "grid_column": null,
            "grid_gap": null,
            "grid_row": null,
            "grid_template_areas": null,
            "grid_template_columns": null,
            "grid_template_rows": null,
            "height": null,
            "justify_content": null,
            "justify_items": null,
            "left": null,
            "margin": null,
            "max_height": null,
            "max_width": null,
            "min_height": null,
            "min_width": null,
            "object_fit": null,
            "object_position": null,
            "order": null,
            "overflow": null,
            "overflow_x": null,
            "overflow_y": null,
            "padding": null,
            "right": null,
            "top": null,
            "visibility": null,
            "width": null
          }
        },
        "4be0d56b3f014a85ac874f92bd223597": {
          "model_module": "@jupyter-widgets/base",
          "model_name": "LayoutModel",
          "model_module_version": "1.2.0",
          "state": {
            "_model_module": "@jupyter-widgets/base",
            "_model_module_version": "1.2.0",
            "_model_name": "LayoutModel",
            "_view_count": null,
            "_view_module": "@jupyter-widgets/base",
            "_view_module_version": "1.2.0",
            "_view_name": "LayoutView",
            "align_content": null,
            "align_items": null,
            "align_self": null,
            "border": null,
            "bottom": null,
            "display": null,
            "flex": null,
            "flex_flow": null,
            "grid_area": null,
            "grid_auto_columns": null,
            "grid_auto_flow": null,
            "grid_auto_rows": null,
            "grid_column": null,
            "grid_gap": null,
            "grid_row": null,
            "grid_template_areas": null,
            "grid_template_columns": null,
            "grid_template_rows": null,
            "height": null,
            "justify_content": null,
            "justify_items": null,
            "left": null,
            "margin": null,
            "max_height": null,
            "max_width": null,
            "min_height": null,
            "min_width": null,
            "object_fit": null,
            "object_position": null,
            "order": null,
            "overflow": null,
            "overflow_x": null,
            "overflow_y": null,
            "padding": null,
            "right": null,
            "top": null,
            "visibility": null,
            "width": null
          }
        },
        "6bd8e4797fb143358587d17beb022065": {
          "model_module": "@jupyter-widgets/controls",
          "model_name": "DescriptionStyleModel",
          "model_module_version": "1.5.0",
          "state": {
            "_model_module": "@jupyter-widgets/controls",
            "_model_module_version": "1.5.0",
            "_model_name": "DescriptionStyleModel",
            "_view_count": null,
            "_view_module": "@jupyter-widgets/base",
            "_view_module_version": "1.2.0",
            "_view_name": "StyleView",
            "description_width": ""
          }
        },
        "b7e895f3557d46e6a4c665176e72f741": {
          "model_module": "@jupyter-widgets/base",
          "model_name": "LayoutModel",
          "model_module_version": "1.2.0",
          "state": {
            "_model_module": "@jupyter-widgets/base",
            "_model_module_version": "1.2.0",
            "_model_name": "LayoutModel",
            "_view_count": null,
            "_view_module": "@jupyter-widgets/base",
            "_view_module_version": "1.2.0",
            "_view_name": "LayoutView",
            "align_content": null,
            "align_items": null,
            "align_self": null,
            "border": null,
            "bottom": null,
            "display": null,
            "flex": null,
            "flex_flow": null,
            "grid_area": null,
            "grid_auto_columns": null,
            "grid_auto_flow": null,
            "grid_auto_rows": null,
            "grid_column": null,
            "grid_gap": null,
            "grid_row": null,
            "grid_template_areas": null,
            "grid_template_columns": null,
            "grid_template_rows": null,
            "height": null,
            "justify_content": null,
            "justify_items": null,
            "left": null,
            "margin": null,
            "max_height": null,
            "max_width": null,
            "min_height": null,
            "min_width": null,
            "object_fit": null,
            "object_position": null,
            "order": null,
            "overflow": null,
            "overflow_x": null,
            "overflow_y": null,
            "padding": null,
            "right": null,
            "top": null,
            "visibility": null,
            "width": null
          }
        },
        "8d59961862fc440dbd726bc1505c89bf": {
          "model_module": "@jupyter-widgets/controls",
          "model_name": "ProgressStyleModel",
          "model_module_version": "1.5.0",
          "state": {
            "_model_module": "@jupyter-widgets/controls",
            "_model_module_version": "1.5.0",
            "_model_name": "ProgressStyleModel",
            "_view_count": null,
            "_view_module": "@jupyter-widgets/base",
            "_view_module_version": "1.2.0",
            "_view_name": "StyleView",
            "bar_color": null,
            "description_width": ""
          }
        },
        "64ae19abbd524acdbc7aede40b90748c": {
          "model_module": "@jupyter-widgets/base",
          "model_name": "LayoutModel",
          "model_module_version": "1.2.0",
          "state": {
            "_model_module": "@jupyter-widgets/base",
            "_model_module_version": "1.2.0",
            "_model_name": "LayoutModel",
            "_view_count": null,
            "_view_module": "@jupyter-widgets/base",
            "_view_module_version": "1.2.0",
            "_view_name": "LayoutView",
            "align_content": null,
            "align_items": null,
            "align_self": null,
            "border": null,
            "bottom": null,
            "display": null,
            "flex": null,
            "flex_flow": null,
            "grid_area": null,
            "grid_auto_columns": null,
            "grid_auto_flow": null,
            "grid_auto_rows": null,
            "grid_column": null,
            "grid_gap": null,
            "grid_row": null,
            "grid_template_areas": null,
            "grid_template_columns": null,
            "grid_template_rows": null,
            "height": null,
            "justify_content": null,
            "justify_items": null,
            "left": null,
            "margin": null,
            "max_height": null,
            "max_width": null,
            "min_height": null,
            "min_width": null,
            "object_fit": null,
            "object_position": null,
            "order": null,
            "overflow": null,
            "overflow_x": null,
            "overflow_y": null,
            "padding": null,
            "right": null,
            "top": null,
            "visibility": null,
            "width": null
          }
        },
        "5f3e4bb41e5d419b868ec475a5ee665c": {
          "model_module": "@jupyter-widgets/controls",
          "model_name": "DescriptionStyleModel",
          "model_module_version": "1.5.0",
          "state": {
            "_model_module": "@jupyter-widgets/controls",
            "_model_module_version": "1.5.0",
            "_model_name": "DescriptionStyleModel",
            "_view_count": null,
            "_view_module": "@jupyter-widgets/base",
            "_view_module_version": "1.2.0",
            "_view_name": "StyleView",
            "description_width": ""
          }
        },
        "d8a5083080014acebc092ffef4f24652": {
          "model_module": "@jupyter-widgets/controls",
          "model_name": "HBoxModel",
          "model_module_version": "1.5.0",
          "state": {
            "_dom_classes": [],
            "_model_module": "@jupyter-widgets/controls",
            "_model_module_version": "1.5.0",
            "_model_name": "HBoxModel",
            "_view_count": null,
            "_view_module": "@jupyter-widgets/controls",
            "_view_module_version": "1.5.0",
            "_view_name": "HBoxView",
            "box_style": "",
            "children": [
              "IPY_MODEL_509dd42fa84c4c4eb12d90d9bdda7320",
              "IPY_MODEL_5272c26f1d61498d863f8fc431184c43",
              "IPY_MODEL_35c2c0339dcb40dfbe27503a3463238d"
            ],
            "layout": "IPY_MODEL_5083dffc5b6f4bc785c07ed8e4b3a36a"
          }
        },
        "509dd42fa84c4c4eb12d90d9bdda7320": {
          "model_module": "@jupyter-widgets/controls",
          "model_name": "HTMLModel",
          "model_module_version": "1.5.0",
          "state": {
            "_dom_classes": [],
            "_model_module": "@jupyter-widgets/controls",
            "_model_module_version": "1.5.0",
            "_model_name": "HTMLModel",
            "_view_count": null,
            "_view_module": "@jupyter-widgets/controls",
            "_view_module_version": "1.5.0",
            "_view_name": "HTMLView",
            "description": "",
            "description_tooltip": null,
            "layout": "IPY_MODEL_57ea6065f6cb413e9bac0ab77a034c4c",
            "placeholder": "​",
            "style": "IPY_MODEL_9388722ac423475f854662b1ec384f54",
            "value": "Evaluating: 100%"
          }
        },
        "5272c26f1d61498d863f8fc431184c43": {
          "model_module": "@jupyter-widgets/controls",
          "model_name": "FloatProgressModel",
          "model_module_version": "1.5.0",
          "state": {
            "_dom_classes": [],
            "_model_module": "@jupyter-widgets/controls",
            "_model_module_version": "1.5.0",
            "_model_name": "FloatProgressModel",
            "_view_count": null,
            "_view_module": "@jupyter-widgets/controls",
            "_view_module_version": "1.5.0",
            "_view_name": "ProgressView",
            "bar_style": "success",
            "description": "",
            "description_tooltip": null,
            "layout": "IPY_MODEL_5185ee2191fe4e6b8c21e0703f0ec0e1",
            "max": 562,
            "min": 0,
            "orientation": "horizontal",
            "style": "IPY_MODEL_febf6ed4b7ad4ab28d0d82dc4f02ec1d",
            "value": 562
          }
        },
        "35c2c0339dcb40dfbe27503a3463238d": {
          "model_module": "@jupyter-widgets/controls",
          "model_name": "HTMLModel",
          "model_module_version": "1.5.0",
          "state": {
            "_dom_classes": [],
            "_model_module": "@jupyter-widgets/controls",
            "_model_module_version": "1.5.0",
            "_model_name": "HTMLModel",
            "_view_count": null,
            "_view_module": "@jupyter-widgets/controls",
            "_view_module_version": "1.5.0",
            "_view_name": "HTMLView",
            "description": "",
            "description_tooltip": null,
            "layout": "IPY_MODEL_78631dca4dad4bf485d8204ec6e714fd",
            "placeholder": "​",
            "style": "IPY_MODEL_0f28f2841c824dcbbdca3eec0ac9fb6b",
            "value": " 562/562 [00:09&lt;00:00, 53.73it/s]"
          }
        },
        "5083dffc5b6f4bc785c07ed8e4b3a36a": {
          "model_module": "@jupyter-widgets/base",
          "model_name": "LayoutModel",
          "model_module_version": "1.2.0",
          "state": {
            "_model_module": "@jupyter-widgets/base",
            "_model_module_version": "1.2.0",
            "_model_name": "LayoutModel",
            "_view_count": null,
            "_view_module": "@jupyter-widgets/base",
            "_view_module_version": "1.2.0",
            "_view_name": "LayoutView",
            "align_content": null,
            "align_items": null,
            "align_self": null,
            "border": null,
            "bottom": null,
            "display": null,
            "flex": null,
            "flex_flow": null,
            "grid_area": null,
            "grid_auto_columns": null,
            "grid_auto_flow": null,
            "grid_auto_rows": null,
            "grid_column": null,
            "grid_gap": null,
            "grid_row": null,
            "grid_template_areas": null,
            "grid_template_columns": null,
            "grid_template_rows": null,
            "height": null,
            "justify_content": null,
            "justify_items": null,
            "left": null,
            "margin": null,
            "max_height": null,
            "max_width": null,
            "min_height": null,
            "min_width": null,
            "object_fit": null,
            "object_position": null,
            "order": null,
            "overflow": null,
            "overflow_x": null,
            "overflow_y": null,
            "padding": null,
            "right": null,
            "top": null,
            "visibility": null,
            "width": null
          }
        },
        "57ea6065f6cb413e9bac0ab77a034c4c": {
          "model_module": "@jupyter-widgets/base",
          "model_name": "LayoutModel",
          "model_module_version": "1.2.0",
          "state": {
            "_model_module": "@jupyter-widgets/base",
            "_model_module_version": "1.2.0",
            "_model_name": "LayoutModel",
            "_view_count": null,
            "_view_module": "@jupyter-widgets/base",
            "_view_module_version": "1.2.0",
            "_view_name": "LayoutView",
            "align_content": null,
            "align_items": null,
            "align_self": null,
            "border": null,
            "bottom": null,
            "display": null,
            "flex": null,
            "flex_flow": null,
            "grid_area": null,
            "grid_auto_columns": null,
            "grid_auto_flow": null,
            "grid_auto_rows": null,
            "grid_column": null,
            "grid_gap": null,
            "grid_row": null,
            "grid_template_areas": null,
            "grid_template_columns": null,
            "grid_template_rows": null,
            "height": null,
            "justify_content": null,
            "justify_items": null,
            "left": null,
            "margin": null,
            "max_height": null,
            "max_width": null,
            "min_height": null,
            "min_width": null,
            "object_fit": null,
            "object_position": null,
            "order": null,
            "overflow": null,
            "overflow_x": null,
            "overflow_y": null,
            "padding": null,
            "right": null,
            "top": null,
            "visibility": null,
            "width": null
          }
        },
        "9388722ac423475f854662b1ec384f54": {
          "model_module": "@jupyter-widgets/controls",
          "model_name": "DescriptionStyleModel",
          "model_module_version": "1.5.0",
          "state": {
            "_model_module": "@jupyter-widgets/controls",
            "_model_module_version": "1.5.0",
            "_model_name": "DescriptionStyleModel",
            "_view_count": null,
            "_view_module": "@jupyter-widgets/base",
            "_view_module_version": "1.2.0",
            "_view_name": "StyleView",
            "description_width": ""
          }
        },
        "5185ee2191fe4e6b8c21e0703f0ec0e1": {
          "model_module": "@jupyter-widgets/base",
          "model_name": "LayoutModel",
          "model_module_version": "1.2.0",
          "state": {
            "_model_module": "@jupyter-widgets/base",
            "_model_module_version": "1.2.0",
            "_model_name": "LayoutModel",
            "_view_count": null,
            "_view_module": "@jupyter-widgets/base",
            "_view_module_version": "1.2.0",
            "_view_name": "LayoutView",
            "align_content": null,
            "align_items": null,
            "align_self": null,
            "border": null,
            "bottom": null,
            "display": null,
            "flex": null,
            "flex_flow": null,
            "grid_area": null,
            "grid_auto_columns": null,
            "grid_auto_flow": null,
            "grid_auto_rows": null,
            "grid_column": null,
            "grid_gap": null,
            "grid_row": null,
            "grid_template_areas": null,
            "grid_template_columns": null,
            "grid_template_rows": null,
            "height": null,
            "justify_content": null,
            "justify_items": null,
            "left": null,
            "margin": null,
            "max_height": null,
            "max_width": null,
            "min_height": null,
            "min_width": null,
            "object_fit": null,
            "object_position": null,
            "order": null,
            "overflow": null,
            "overflow_x": null,
            "overflow_y": null,
            "padding": null,
            "right": null,
            "top": null,
            "visibility": null,
            "width": null
          }
        },
        "febf6ed4b7ad4ab28d0d82dc4f02ec1d": {
          "model_module": "@jupyter-widgets/controls",
          "model_name": "ProgressStyleModel",
          "model_module_version": "1.5.0",
          "state": {
            "_model_module": "@jupyter-widgets/controls",
            "_model_module_version": "1.5.0",
            "_model_name": "ProgressStyleModel",
            "_view_count": null,
            "_view_module": "@jupyter-widgets/base",
            "_view_module_version": "1.2.0",
            "_view_name": "StyleView",
            "bar_color": null,
            "description_width": ""
          }
        },
        "78631dca4dad4bf485d8204ec6e714fd": {
          "model_module": "@jupyter-widgets/base",
          "model_name": "LayoutModel",
          "model_module_version": "1.2.0",
          "state": {
            "_model_module": "@jupyter-widgets/base",
            "_model_module_version": "1.2.0",
            "_model_name": "LayoutModel",
            "_view_count": null,
            "_view_module": "@jupyter-widgets/base",
            "_view_module_version": "1.2.0",
            "_view_name": "LayoutView",
            "align_content": null,
            "align_items": null,
            "align_self": null,
            "border": null,
            "bottom": null,
            "display": null,
            "flex": null,
            "flex_flow": null,
            "grid_area": null,
            "grid_auto_columns": null,
            "grid_auto_flow": null,
            "grid_auto_rows": null,
            "grid_column": null,
            "grid_gap": null,
            "grid_row": null,
            "grid_template_areas": null,
            "grid_template_columns": null,
            "grid_template_rows": null,
            "height": null,
            "justify_content": null,
            "justify_items": null,
            "left": null,
            "margin": null,
            "max_height": null,
            "max_width": null,
            "min_height": null,
            "min_width": null,
            "object_fit": null,
            "object_position": null,
            "order": null,
            "overflow": null,
            "overflow_x": null,
            "overflow_y": null,
            "padding": null,
            "right": null,
            "top": null,
            "visibility": null,
            "width": null
          }
        },
        "0f28f2841c824dcbbdca3eec0ac9fb6b": {
          "model_module": "@jupyter-widgets/controls",
          "model_name": "DescriptionStyleModel",
          "model_module_version": "1.5.0",
          "state": {
            "_model_module": "@jupyter-widgets/controls",
            "_model_module_version": "1.5.0",
            "_model_name": "DescriptionStyleModel",
            "_view_count": null,
            "_view_module": "@jupyter-widgets/base",
            "_view_module_version": "1.2.0",
            "_view_name": "StyleView",
            "description_width": ""
          }
        }
      }
    }
  },
  "nbformat": 4,
  "nbformat_minor": 0
}