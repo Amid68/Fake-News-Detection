{
  "cells": [
    {
      "cell_type": "markdown",
      "metadata": {
        "id": "view-in-github",
        "colab_type": "text"
      },
      "source": [
        "<a href=\"https://colab.research.google.com/github/Amid68/VeriFact/blob/main/data/finetuning.ipynb\" target=\"_parent\"><img src=\"https://colab.research.google.com/assets/colab-badge.svg\" alt=\"Open In Colab\"/></a>"
      ]
    },
    {
      "cell_type": "markdown",
      "metadata": {
        "id": "W6dU_D-igHSA"
      },
      "source": [
        "# Fake News Detection - Alternative Training Approaches\n",
        "\n",
        "This notebook demonstrates two ways to finetune a lightweight transformer model for fake news detection:\n",
        "1. **Option A**: Using Hugging Face's Trainer API (requires installing accelerate)\n",
        "2. **Option B**: Using a manual PyTorch training loop (no accelerate dependency)\n",
        "\n",
        "Both approaches will produce similar results, but the manual loop gives you more control and fewer dependencies."
      ]
    },
    {
      "cell_type": "markdown",
      "metadata": {
        "id": "kFN4-GaIgHSD"
      },
      "source": [
        "## 1. Install Required Packages"
      ]
    },
    {
      "cell_type": "code",
      "execution_count": null,
      "metadata": {
        "id": "Nfo683zQgHSD",
        "outputId": "818b618a-bd54-4116-9eac-674e03553eff",
        "colab": {
          "base_uri": "https://localhost:8080/"
        }
      },
      "source": [
        "# Base dependencies for both approaches\n",
        "!pip install torch transformers datasets scikit-learn pandas numpy matplotlib seaborn psutil tqdm\n",
        "\n",
        "# If you want to use Option A (Trainer API), also install accelerate:\n",
        "# Uncomment the line below to install it\n",
        "!pip install accelerate"
      ],
      "outputs": [
        {
          "output_type": "stream",
          "name": "stdout",
          "text": [
            "Requirement already satisfied: torch in /usr/local/lib/python3.11/dist-packages (2.6.0+cu124)\n",
            "Requirement already satisfied: transformers in /usr/local/lib/python3.11/dist-packages (4.51.3)\n",
            "Collecting datasets\n",
            "  Downloading datasets-3.5.1-py3-none-any.whl.metadata (19 kB)\n",
            "Requirement already satisfied: scikit-learn in /usr/local/lib/python3.11/dist-packages (1.6.1)\n",
            "Requirement already satisfied: pandas in /usr/local/lib/python3.11/dist-packages (2.2.2)\n",
            "Requirement already satisfied: numpy in /usr/local/lib/python3.11/dist-packages (2.0.2)\n",
            "Requirement already satisfied: matplotlib in /usr/local/lib/python3.11/dist-packages (3.10.0)\n",
            "Requirement already satisfied: seaborn in /usr/local/lib/python3.11/dist-packages (0.13.2)\n",
            "Requirement already satisfied: psutil in /usr/local/lib/python3.11/dist-packages (5.9.5)\n",
            "Requirement already satisfied: tqdm in /usr/local/lib/python3.11/dist-packages (4.67.1)\n",
            "Requirement already satisfied: filelock in /usr/local/lib/python3.11/dist-packages (from torch) (3.18.0)\n",
            "Requirement already satisfied: typing-extensions>=4.10.0 in /usr/local/lib/python3.11/dist-packages (from torch) (4.13.2)\n",
            "Requirement already satisfied: networkx in /usr/local/lib/python3.11/dist-packages (from torch) (3.4.2)\n",
            "Requirement already satisfied: jinja2 in /usr/local/lib/python3.11/dist-packages (from torch) (3.1.6)\n",
            "Requirement already satisfied: fsspec in /usr/local/lib/python3.11/dist-packages (from torch) (2025.3.2)\n",
            "Collecting nvidia-cuda-nvrtc-cu12==12.4.127 (from torch)\n",
            "  Downloading nvidia_cuda_nvrtc_cu12-12.4.127-py3-none-manylinux2014_x86_64.whl.metadata (1.5 kB)\n",
            "Collecting nvidia-cuda-runtime-cu12==12.4.127 (from torch)\n",
            "  Downloading nvidia_cuda_runtime_cu12-12.4.127-py3-none-manylinux2014_x86_64.whl.metadata (1.5 kB)\n",
            "Collecting nvidia-cuda-cupti-cu12==12.4.127 (from torch)\n",
            "  Downloading nvidia_cuda_cupti_cu12-12.4.127-py3-none-manylinux2014_x86_64.whl.metadata (1.6 kB)\n",
            "Collecting nvidia-cudnn-cu12==9.1.0.70 (from torch)\n",
            "  Downloading nvidia_cudnn_cu12-9.1.0.70-py3-none-manylinux2014_x86_64.whl.metadata (1.6 kB)\n",
            "Collecting nvidia-cublas-cu12==12.4.5.8 (from torch)\n",
            "  Downloading nvidia_cublas_cu12-12.4.5.8-py3-none-manylinux2014_x86_64.whl.metadata (1.5 kB)\n",
            "Collecting nvidia-cufft-cu12==11.2.1.3 (from torch)\n",
            "  Downloading nvidia_cufft_cu12-11.2.1.3-py3-none-manylinux2014_x86_64.whl.metadata (1.5 kB)\n",
            "Collecting nvidia-curand-cu12==10.3.5.147 (from torch)\n",
            "  Downloading nvidia_curand_cu12-10.3.5.147-py3-none-manylinux2014_x86_64.whl.metadata (1.5 kB)\n",
            "Collecting nvidia-cusolver-cu12==11.6.1.9 (from torch)\n",
            "  Downloading nvidia_cusolver_cu12-11.6.1.9-py3-none-manylinux2014_x86_64.whl.metadata (1.6 kB)\n",
            "Collecting nvidia-cusparse-cu12==12.3.1.170 (from torch)\n",
            "  Downloading nvidia_cusparse_cu12-12.3.1.170-py3-none-manylinux2014_x86_64.whl.metadata (1.6 kB)\n",
            "Requirement already satisfied: nvidia-cusparselt-cu12==0.6.2 in /usr/local/lib/python3.11/dist-packages (from torch) (0.6.2)\n",
            "Requirement already satisfied: nvidia-nccl-cu12==2.21.5 in /usr/local/lib/python3.11/dist-packages (from torch) (2.21.5)\n",
            "Requirement already satisfied: nvidia-nvtx-cu12==12.4.127 in /usr/local/lib/python3.11/dist-packages (from torch) (12.4.127)\n",
            "Collecting nvidia-nvjitlink-cu12==12.4.127 (from torch)\n",
            "  Downloading nvidia_nvjitlink_cu12-12.4.127-py3-none-manylinux2014_x86_64.whl.metadata (1.5 kB)\n",
            "Requirement already satisfied: triton==3.2.0 in /usr/local/lib/python3.11/dist-packages (from torch) (3.2.0)\n",
            "Requirement already satisfied: sympy==1.13.1 in /usr/local/lib/python3.11/dist-packages (from torch) (1.13.1)\n",
            "Requirement already satisfied: mpmath<1.4,>=1.1.0 in /usr/local/lib/python3.11/dist-packages (from sympy==1.13.1->torch) (1.3.0)\n",
            "Requirement already satisfied: huggingface-hub<1.0,>=0.30.0 in /usr/local/lib/python3.11/dist-packages (from transformers) (0.30.2)\n",
            "Requirement already satisfied: packaging>=20.0 in /usr/local/lib/python3.11/dist-packages (from transformers) (24.2)\n",
            "Requirement already satisfied: pyyaml>=5.1 in /usr/local/lib/python3.11/dist-packages (from transformers) (6.0.2)\n",
            "Requirement already satisfied: regex!=2019.12.17 in /usr/local/lib/python3.11/dist-packages (from transformers) (2024.11.6)\n",
            "Requirement already satisfied: requests in /usr/local/lib/python3.11/dist-packages (from transformers) (2.32.3)\n",
            "Requirement already satisfied: tokenizers<0.22,>=0.21 in /usr/local/lib/python3.11/dist-packages (from transformers) (0.21.1)\n",
            "Requirement already satisfied: safetensors>=0.4.3 in /usr/local/lib/python3.11/dist-packages (from transformers) (0.5.3)\n",
            "Requirement already satisfied: pyarrow>=15.0.0 in /usr/local/lib/python3.11/dist-packages (from datasets) (18.1.0)\n",
            "Collecting dill<0.3.9,>=0.3.0 (from datasets)\n",
            "  Downloading dill-0.3.8-py3-none-any.whl.metadata (10 kB)\n",
            "Collecting xxhash (from datasets)\n",
            "  Downloading xxhash-3.5.0-cp311-cp311-manylinux_2_17_x86_64.manylinux2014_x86_64.whl.metadata (12 kB)\n",
            "Collecting multiprocess<0.70.17 (from datasets)\n",
            "  Downloading multiprocess-0.70.16-py311-none-any.whl.metadata (7.2 kB)\n",
            "Collecting fsspec (from torch)\n",
            "  Downloading fsspec-2025.3.0-py3-none-any.whl.metadata (11 kB)\n",
            "Requirement already satisfied: aiohttp in /usr/local/lib/python3.11/dist-packages (from datasets) (3.11.15)\n",
            "Requirement already satisfied: scipy>=1.6.0 in /usr/local/lib/python3.11/dist-packages (from scikit-learn) (1.15.2)\n",
            "Requirement already satisfied: joblib>=1.2.0 in /usr/local/lib/python3.11/dist-packages (from scikit-learn) (1.4.2)\n",
            "Requirement already satisfied: threadpoolctl>=3.1.0 in /usr/local/lib/python3.11/dist-packages (from scikit-learn) (3.6.0)\n",
            "Requirement already satisfied: python-dateutil>=2.8.2 in /usr/local/lib/python3.11/dist-packages (from pandas) (2.9.0.post0)\n",
            "Requirement already satisfied: pytz>=2020.1 in /usr/local/lib/python3.11/dist-packages (from pandas) (2025.2)\n",
            "Requirement already satisfied: tzdata>=2022.7 in /usr/local/lib/python3.11/dist-packages (from pandas) (2025.2)\n",
            "Requirement already satisfied: contourpy>=1.0.1 in /usr/local/lib/python3.11/dist-packages (from matplotlib) (1.3.2)\n",
            "Requirement already satisfied: cycler>=0.10 in /usr/local/lib/python3.11/dist-packages (from matplotlib) (0.12.1)\n",
            "Requirement already satisfied: fonttools>=4.22.0 in /usr/local/lib/python3.11/dist-packages (from matplotlib) (4.57.0)\n",
            "Requirement already satisfied: kiwisolver>=1.3.1 in /usr/local/lib/python3.11/dist-packages (from matplotlib) (1.4.8)\n",
            "Requirement already satisfied: pillow>=8 in /usr/local/lib/python3.11/dist-packages (from matplotlib) (11.2.1)\n",
            "Requirement already satisfied: pyparsing>=2.3.1 in /usr/local/lib/python3.11/dist-packages (from matplotlib) (3.2.3)\n",
            "Requirement already satisfied: aiohappyeyeballs>=2.3.0 in /usr/local/lib/python3.11/dist-packages (from aiohttp->datasets) (2.6.1)\n",
            "Requirement already satisfied: aiosignal>=1.1.2 in /usr/local/lib/python3.11/dist-packages (from aiohttp->datasets) (1.3.2)\n",
            "Requirement already satisfied: attrs>=17.3.0 in /usr/local/lib/python3.11/dist-packages (from aiohttp->datasets) (25.3.0)\n",
            "Requirement already satisfied: frozenlist>=1.1.1 in /usr/local/lib/python3.11/dist-packages (from aiohttp->datasets) (1.6.0)\n",
            "Requirement already satisfied: multidict<7.0,>=4.5 in /usr/local/lib/python3.11/dist-packages (from aiohttp->datasets) (6.4.3)\n",
            "Requirement already satisfied: propcache>=0.2.0 in /usr/local/lib/python3.11/dist-packages (from aiohttp->datasets) (0.3.1)\n",
            "Requirement already satisfied: yarl<2.0,>=1.17.0 in /usr/local/lib/python3.11/dist-packages (from aiohttp->datasets) (1.20.0)\n",
            "Requirement already satisfied: six>=1.5 in /usr/local/lib/python3.11/dist-packages (from python-dateutil>=2.8.2->pandas) (1.17.0)\n",
            "Requirement already satisfied: charset-normalizer<4,>=2 in /usr/local/lib/python3.11/dist-packages (from requests->transformers) (3.4.1)\n",
            "Requirement already satisfied: idna<4,>=2.5 in /usr/local/lib/python3.11/dist-packages (from requests->transformers) (3.10)\n",
            "Requirement already satisfied: urllib3<3,>=1.21.1 in /usr/local/lib/python3.11/dist-packages (from requests->transformers) (2.4.0)\n",
            "Requirement already satisfied: certifi>=2017.4.17 in /usr/local/lib/python3.11/dist-packages (from requests->transformers) (2025.4.26)\n",
            "Requirement already satisfied: MarkupSafe>=2.0 in /usr/local/lib/python3.11/dist-packages (from jinja2->torch) (3.0.2)\n",
            "Downloading nvidia_cublas_cu12-12.4.5.8-py3-none-manylinux2014_x86_64.whl (363.4 MB)\n",
            "\u001b[2K   \u001b[90m━━━━━━━━━━━━━━━━━━━━━━━━━━━━━━━━━━━━━━━━\u001b[0m \u001b[32m363.4/363.4 MB\u001b[0m \u001b[31m3.4 MB/s\u001b[0m eta \u001b[36m0:00:00\u001b[0m\n",
            "\u001b[?25hDownloading nvidia_cuda_cupti_cu12-12.4.127-py3-none-manylinux2014_x86_64.whl (13.8 MB)\n",
            "\u001b[2K   \u001b[90m━━━━━━━━━━━━━━━━━━━━━━━━━━━━━━━━━━━━━━━━\u001b[0m \u001b[32m13.8/13.8 MB\u001b[0m \u001b[31m29.7 MB/s\u001b[0m eta \u001b[36m0:00:00\u001b[0m\n",
            "\u001b[?25hDownloading nvidia_cuda_nvrtc_cu12-12.4.127-py3-none-manylinux2014_x86_64.whl (24.6 MB)\n",
            "\u001b[2K   \u001b[90m━━━━━━━━━━━━━━━━━━━━━━━━━━━━━━━━━━━━━━━━\u001b[0m \u001b[32m24.6/24.6 MB\u001b[0m \u001b[31m28.6 MB/s\u001b[0m eta \u001b[36m0:00:00\u001b[0m\n",
            "\u001b[?25hDownloading nvidia_cuda_runtime_cu12-12.4.127-py3-none-manylinux2014_x86_64.whl (883 kB)\n",
            "\u001b[2K   \u001b[90m━━━━━━━━━━━━━━━━━━━━━━━━━━━━━━━━━━━━━━━━\u001b[0m \u001b[32m883.7/883.7 kB\u001b[0m \u001b[31m20.8 MB/s\u001b[0m eta \u001b[36m0:00:00\u001b[0m\n",
            "\u001b[?25hDownloading nvidia_cudnn_cu12-9.1.0.70-py3-none-manylinux2014_x86_64.whl (664.8 MB)\n",
            "\u001b[2K   \u001b[91m━━━━━━━━━━━━━━━━━━━━━━━━━━━━━━━━━━━━━━\u001b[0m\u001b[91m╸\u001b[0m \u001b[32m664.8/664.8 MB\u001b[0m \u001b[31m116.4 MB/s\u001b[0m eta \u001b[36m0:00:01\u001b[0m"
          ]
        }
      ]
    },
    {
      "cell_type": "markdown",
      "metadata": {
        "id": "oJtCxf0ZgHSE"
      },
      "source": [
        "## 2. Import Libraries"
      ]
    },
    {
      "cell_type": "code",
      "execution_count": null,
      "metadata": {
        "id": "wfNrvR_ogHSE"
      },
      "source": [
        "import os\n",
        "import pandas as pd\n",
        "import numpy as np\n",
        "import torch\n",
        "import torch.nn as nn\n",
        "from torch.utils.data import Dataset, DataLoader\n",
        "from transformers import AutoTokenizer, AutoModelForSequenceClassification\n",
        "from sklearn.model_selection import train_test_split\n",
        "from sklearn.metrics import accuracy_score, precision_recall_fscore_support, classification_report, confusion_matrix\n",
        "import matplotlib.pyplot as plt\n",
        "import seaborn as sns\n",
        "import time\n",
        "import json\n",
        "import re\n",
        "import psutil\n",
        "from tqdm.auto import tqdm\n",
        "\n",
        "# Set seed for reproducibility\n",
        "SEED = 42\n",
        "np.random.seed(SEED)\n",
        "torch.manual_seed(SEED)\n",
        "if torch.cuda.is_available():\n",
        "    torch.cuda.manual_seed_all(SEED)\n",
        "\n",
        "print(f\"PyTorch version: {torch.__version__}\")\n",
        "print(f\"CUDA available: {torch.cuda.is_available()}\")"
      ],
      "outputs": []
    },
    {
      "cell_type": "markdown",
      "metadata": {
        "id": "3ON3GJNGgHSE"
      },
      "source": [
        "## 3. Load and Explore the FakeNewsNet Dataset (CSV Format)"
      ]
    },
    {
      "cell_type": "code",
      "execution_count": null,
      "metadata": {
        "id": "EoseaQBPgHSE"
      },
      "source": [
        "# Load the dataset\n",
        "try:\n",
        "    fake_news = pd.read_csv(\"./fake-news-net/Fake.csv\")\n",
        "    real_news = pd.read_csv(\"./fake-news-net/True.csv\")\n",
        "\n",
        "    print(f\"Fake news dataset shape: {fake_news.shape}\")\n",
        "    print(f\"Real news dataset shape: {real_news.shape}\")\n",
        "except Exception as e:\n",
        "    print(f\"Error loading dataset: {e}\")\n",
        "    print(\"Please ensure the CSV files are in the correct location.\")"
      ],
      "outputs": []
    },
    {
      "cell_type": "code",
      "execution_count": null,
      "metadata": {
        "id": "mieNXt9agHSE"
      },
      "source": [
        "# Explore the datasets\n",
        "print(\"Fake news dataset columns:\")\n",
        "print(fake_news.columns.tolist())\n",
        "\n",
        "print(\"\\nReal news dataset columns:\")\n",
        "print(real_news.columns.tolist())\n",
        "\n",
        "# Display a few examples from each dataset\n",
        "print(\"Sample from fake news dataset:\")\n",
        "display(fake_news.head(2))\n",
        "\n",
        "print(\"\\nSample from real news dataset:\")\n",
        "display(real_news.head(2))"
      ],
      "outputs": []
    },
    {
      "cell_type": "code",
      "execution_count": null,
      "metadata": {
        "id": "ap0UrQbjgHSF"
      },
      "source": [
        "# Prepare combined dataset with labels\n",
        "# Add a label column (1 for fake, 0 for real)\n",
        "fake_news['label'] = 1\n",
        "real_news['label'] = 0\n",
        "\n",
        "# Combine the datasets\n",
        "df = pd.concat([fake_news, real_news], ignore_index=True)\n",
        "\n",
        "# Shuffle the data\n",
        "df = df.sample(frac=1, random_state=SEED).reset_index(drop=True)\n",
        "\n",
        "print(f\"Combined dataset shape: {df.shape}\")\n",
        "print(\"\\nLabel distribution:\")\n",
        "print(df['label'].value_counts())"
      ],
      "outputs": []
    },
    {
      "cell_type": "markdown",
      "metadata": {
        "id": "imc6wzTAgHSF"
      },
      "source": [
        "## 4. Data Preprocessing"
      ]
    },
    {
      "cell_type": "code",
      "execution_count": null,
      "metadata": {
        "id": "VWNlV7lYgHSF"
      },
      "source": [
        "# Inspect dataset columns to find title and text columns\n",
        "for col in df.columns:\n",
        "    if col != 'label':\n",
        "        print(f\"Column: {col}\")\n",
        "        print(f\"Example: {df[col].iloc[0][:100]}...\")\n",
        "        print(f\"Average length: {df[col].str.len().mean():.2f} characters\")\n",
        "        print(\"-\" * 50)"
      ],
      "outputs": []
    },
    {
      "cell_type": "code",
      "execution_count": null,
      "metadata": {
        "id": "Cm-KBb5OgHSF"
      },
      "source": [
        "# Basic text preprocessing function\n",
        "def preprocess_text(text):\n",
        "    \"\"\"Clean and normalize text data\"\"\"\n",
        "    if not isinstance(text, str):\n",
        "        return \"\"\n",
        "\n",
        "    # Convert to lowercase\n",
        "    text = text.lower()\n",
        "\n",
        "    # Remove URLs\n",
        "    text = re.sub(r'https?://\\S+|www\\.\\S+', '', text)\n",
        "\n",
        "    # Remove extra whitespace\n",
        "    text = re.sub(r'\\s+', ' ', text).strip()\n",
        "\n",
        "    return text\n",
        "\n",
        "# Based on the dataset inspection, combine title and text\n",
        "# Adjust these column names if needed according to your dataset structure\n",
        "title_col = 'title' if 'title' in df.columns else None\n",
        "text_col = 'text' if 'text' in df.columns else None\n",
        "\n",
        "# Combine and preprocess\n",
        "if title_col and text_col:\n",
        "    df['combined_text'] = df[title_col].fillna('') + ' ' + df[text_col].fillna('')\n",
        "elif title_col:\n",
        "    df['combined_text'] = df[title_col].fillna('')\n",
        "elif text_col:\n",
        "    df['combined_text'] = df[text_col].fillna('')\n",
        "else:\n",
        "    # If column names are different, choose the appropriate columns\n",
        "    # This is a fallback assuming the first non-label column is the text\n",
        "    text_columns = [col for col in df.columns if col != 'label']\n",
        "    if text_columns:\n",
        "        df['combined_text'] = df[text_columns[0]].fillna('')\n",
        "    else:\n",
        "        raise ValueError(\"No text columns found in the dataset\")\n",
        "\n",
        "# Apply preprocessing\n",
        "df['processed_text'] = df['combined_text'].apply(preprocess_text)\n",
        "\n",
        "# Check for empty texts after preprocessing\n",
        "empty_texts = df['processed_text'].apply(lambda x: len(x.strip()) == 0).sum()\n",
        "print(f\"Number of empty texts after preprocessing: {empty_texts}\")\n",
        "\n",
        "# Remove empty texts if any\n",
        "if empty_texts > 0:\n",
        "    df = df[df['processed_text'].apply(lambda x: len(x.strip()) > 0)].reset_index(drop=True)\n",
        "    print(f\"Dataset size after removing empty texts: {len(df)}\")\n",
        "\n",
        "# Display a sample preprocessed text\n",
        "print(\"\\nSample processed text:\")\n",
        "print(df['processed_text'].iloc[0][:300], \"...\")"
      ],
      "outputs": []
    },
    {
      "cell_type": "markdown",
      "metadata": {
        "id": "CkowR6aFgHSF"
      },
      "source": [
        "## 5. Split Data into Train, Validation, and Test Sets"
      ]
    },
    {
      "cell_type": "code",
      "execution_count": null,
      "metadata": {
        "id": "NKa6c4JfgHSF"
      },
      "source": [
        "# Split data into train, validation, and test sets\n",
        "train_val_df, test_df = train_test_split(\n",
        "    df, test_size=0.2, random_state=SEED, stratify=df['label']\n",
        ")\n",
        "\n",
        "# Then split train+val into train and validation\n",
        "train_df, val_df = train_test_split(\n",
        "    train_val_df, test_size=0.15, random_state=SEED, stratify=train_val_df['label']\n",
        ")\n",
        "\n",
        "print(f\"Training set size: {len(train_df)}\")\n",
        "print(f\"Validation set size: {len(val_df)}\")\n",
        "print(f\"Test set size: {len(test_df)}\")"
      ],
      "outputs": []
    },
    {
      "cell_type": "markdown",
      "metadata": {
        "id": "rLtaFwsngHSF"
      },
      "source": [
        "## 6. Create PyTorch Dataset"
      ]
    },
    {
      "cell_type": "code",
      "execution_count": null,
      "metadata": {
        "id": "XRXCymcMgHSF"
      },
      "source": [
        "# Model configuration\n",
        "MODEL_NAME = \"distilbert-base-uncased\"\n",
        "MAX_LENGTH = 512\n",
        "BATCH_SIZE = 8"
      ],
      "outputs": []
    },
    {
      "cell_type": "code",
      "execution_count": null,
      "metadata": {
        "id": "hqSgVGGQgHSG"
      },
      "source": [
        "class FakeNewsDataset(Dataset):\n",
        "    def __init__(self, texts, labels, tokenizer, max_length=512):\n",
        "        self.texts = texts\n",
        "        self.labels = labels\n",
        "        self.tokenizer = tokenizer\n",
        "        self.max_length = max_length\n",
        "\n",
        "    def __len__(self):\n",
        "        return len(self.texts)\n",
        "\n",
        "    def __getitem__(self, idx):\n",
        "        text = self.texts[idx]\n",
        "        label = self.labels[idx]\n",
        "\n",
        "        # Tokenize text\n",
        "        encoding = self.tokenizer(\n",
        "            text,\n",
        "            truncation=True,\n",
        "            max_length=self.max_length,\n",
        "            padding='max_length',\n",
        "            return_tensors='pt'\n",
        "        )\n",
        "\n",
        "        # Convert to tensors and remove batch dimension the tokenizer adds\n",
        "        input_ids = encoding['input_ids'].squeeze()\n",
        "        attention_mask = encoding['attention_mask'].squeeze()\n",
        "\n",
        "        return {\n",
        "            'input_ids': input_ids,\n",
        "            'attention_mask': attention_mask,\n",
        "            'labels': torch.tensor(label, dtype=torch.long)\n",
        "        }"
      ],
      "outputs": []
    },
    {
      "cell_type": "code",
      "execution_count": null,
      "metadata": {
        "id": "9C0Y2911gHSG"
      },
      "source": [
        "# Load tokenizer\n",
        "tokenizer = AutoTokenizer.from_pretrained(MODEL_NAME)\n",
        "\n",
        "# Create datasets\n",
        "train_dataset = FakeNewsDataset(\n",
        "    train_df['processed_text'].tolist(),\n",
        "    train_df['label'].tolist(),\n",
        "    tokenizer,\n",
        "    max_length=MAX_LENGTH\n",
        ")\n",
        "\n",
        "val_dataset = FakeNewsDataset(\n",
        "    val_df['processed_text'].tolist(),\n",
        "    val_df['label'].tolist(),\n",
        "    tokenizer,\n",
        "    max_length=MAX_LENGTH\n",
        ")\n",
        "\n",
        "test_dataset = FakeNewsDataset(\n",
        "    test_df['processed_text'].tolist(),\n",
        "    test_df['label'].tolist(),\n",
        "    tokenizer,\n",
        "    max_length=MAX_LENGTH\n",
        ")\n",
        "\n",
        "# Create dataloaders\n",
        "train_dataloader = DataLoader(\n",
        "    train_dataset,\n",
        "    batch_size=BATCH_SIZE,\n",
        "    shuffle=True,\n",
        ")\n",
        "\n",
        "val_dataloader = DataLoader(\n",
        "    val_dataset,\n",
        "    batch_size=BATCH_SIZE,\n",
        ")\n",
        "\n",
        "test_dataloader = DataLoader(\n",
        "    test_dataset,\n",
        "    batch_size=BATCH_SIZE,\n",
        ")"
      ],
      "outputs": []
    },
    {
      "cell_type": "code",
      "execution_count": null,
      "metadata": {
        "id": "Y6qJ47P6gHSG"
      },
      "source": [
        "# Load model for binary classification\n",
        "model = AutoModelForSequenceClassification.from_pretrained(\n",
        "    MODEL_NAME,\n",
        "    num_labels=2\n",
        ")\n",
        "\n",
        "# Print model summary\n",
        "print(f\"Model: {MODEL_NAME}\")\n",
        "print(f\"Number of parameters: {sum(p.numel() for p in model.parameters())}\")"
      ],
      "outputs": []
    },
    {
      "cell_type": "markdown",
      "metadata": {
        "id": "sJV5xurogHSG"
      },
      "source": [
        "## OPTION A: Train with Hugging Face Trainer API\n",
        "\n",
        "**Note**: This requires the `accelerate` library. If you encounter errors, try OPTION B."
      ]
    },
    {
      "cell_type": "code",
      "execution_count": null,
      "metadata": {
        "id": "SiHpzs4ugHSG"
      },
      "source": [
        "# Only run this cell if you have accelerate installed\n",
        "try:\n",
        "    from transformers import TrainingArguments, Trainer, EvalPrediction\n",
        "\n",
        "    def compute_metrics(pred):\n",
        "        \"\"\"\n",
        "        Compute metrics for evaluation.\n",
        "        \"\"\"\n",
        "        labels = pred.label_ids\n",
        "        preds = pred.predictions.argmax(-1)\n",
        "        precision, recall, f1, _ = precision_recall_fscore_support(labels, preds, average='binary')\n",
        "        acc = accuracy_score(labels, preds)\n",
        "        return {\n",
        "            'accuracy': acc,\n",
        "            'f1': f1,\n",
        "            'precision': precision,\n",
        "            'recall': recall\n",
        "        }\n",
        "\n",
        "    # Define training arguments\n",
        "    training_args = TrainingArguments(\n",
        "        output_dir='./results_distilbert',\n",
        "        num_train_epochs=3,\n",
        "        per_device_train_batch_size=BATCH_SIZE,\n",
        "        per_device_eval_batch_size=BATCH_SIZE,\n",
        "        warmup_steps=500,\n",
        "        weight_decay=0.01,\n",
        "        logging_dir='./logs_distilbert',\n",
        "        logging_steps=100,\n",
        "        evaluation_strategy=\"epoch\",\n",
        "        save_strategy=\"epoch\",\n",
        "        load_best_model_at_end=True,\n",
        "        metric_for_best_model=\"f1\",\n",
        "        greater_is_better=True,\n",
        "    )\n",
        "\n",
        "    # Create trainer\n",
        "    trainer = Trainer(\n",
        "        model=model,\n",
        "        args=training_args,\n",
        "        train_dataset=train_dataset,\n",
        "        eval_dataset=val_dataset,\n",
        "        compute_metrics=compute_metrics,\n",
        "    )\n",
        "\n",
        "    # Train the model\n",
        "    print(\"Starting model training with Trainer API...\")\n",
        "    train_start = time.time()\n",
        "    trainer.train()\n",
        "    train_end = time.time()\n",
        "    train_time = train_end - train_start\n",
        "    print(f\"Training completed in {train_time:.2f} seconds ({train_time/60:.2f} minutes)\")\n",
        "\n",
        "    # Evaluate on test set\n",
        "    print(\"Evaluating model on test set...\")\n",
        "    results = trainer.evaluate(test_dataset)\n",
        "    print(\"Test results:\")\n",
        "    for key, value in results.items():\n",
        "        print(f\"{key}: {value:.4f}\")\n",
        "\n",
        "    # Save model\n",
        "    MODEL_OUTPUT_DIR = \"./models/distilbert_fakenewsnet\"\n",
        "    trainer.save_model(MODEL_OUTPUT_DIR)\n",
        "    tokenizer.save_pretrained(MODEL_OUTPUT_DIR)\n",
        "    print(f\"Model saved to {MODEL_OUTPUT_DIR}\")\n",
        "\n",
        "    # Success flag for Option A\n",
        "    option_a_success = True\n",
        "\n",
        "except ImportError as e:\n",
        "    print(f\"Error: {e}\")\n",
        "    print(\"Please install the accelerate library with: pip install accelerate\")\n",
        "    print(\"Alternatively, use Option B with manual training loop.\")\n",
        "    option_a_success = False"
      ],
      "outputs": []
    },
    {
      "cell_type": "markdown",
      "metadata": {
        "id": "YuX2r0VEgHSG"
      },
      "source": [
        "## OPTION B: Train with Manual PyTorch Training Loop\n",
        "\n",
        "This approach doesn't require the `accelerate` library and gives you more control over the training process."
      ]
    },
    {
      "cell_type": "code",
      "execution_count": null,
      "metadata": {
        "id": "k58AILezgHSG"
      },
      "source": [
        "# Set device\n",
        "device = torch.device(\"cuda\" if torch.cuda.is_available() else \"cpu\")\n",
        "print(f\"Using device: {device}\")\n",
        "\n",
        "# Move model to device\n",
        "model = AutoModelForSequenceClassification.from_pretrained(\n",
        "    MODEL_NAME,\n",
        "    num_labels=2\n",
        ")\n",
        "model.to(device)"
      ],
      "outputs": []
    },
    {
      "cell_type": "code",
      "execution_count": null,
      "metadata": {
        "id": "S2IH1ts-gHSH"
      },
      "source": [
        "# Define optimizer and scheduler\n",
        "optimizer = torch.optim.AdamW(model.parameters(), lr=5e-5, weight_decay=0.01)\n",
        "total_steps = len(train_dataloader) * 3  # 3 epochs\n",
        "warmup_steps = 500\n",
        "scheduler = torch.optim.lr_scheduler.OneCycleLR(\n",
        "    optimizer,\n",
        "    max_lr=5e-5,\n",
        "    total_steps=total_steps,\n",
        "    pct_start=warmup_steps/total_steps\n",
        ")"
      ],
      "outputs": []
    },
    {
      "cell_type": "code",
      "execution_count": null,
      "metadata": {
        "id": "qbW-so6lgHSH"
      },
      "source": [
        "# Training and evaluation functions\n",
        "def train_epoch(model, dataloader, optimizer, scheduler, device):\n",
        "    model.train()\n",
        "    total_loss = 0\n",
        "    progress_bar = tqdm(dataloader, desc=\"Training\")\n",
        "\n",
        "    for batch in progress_bar:\n",
        "        # Move batch to device\n",
        "        input_ids = batch['input_ids'].to(device)\n",
        "        attention_mask = batch['attention_mask'].to(device)\n",
        "        labels = batch['labels'].to(device)\n",
        "\n",
        "        # Zero gradients\n",
        "        optimizer.zero_grad()\n",
        "\n",
        "        # Forward pass\n",
        "        outputs = model(input_ids=input_ids, attention_mask=attention_mask, labels=labels)\n",
        "        loss = outputs.loss\n",
        "\n",
        "        # Backward pass\n",
        "        loss.backward()\n",
        "\n",
        "        # Update parameters\n",
        "        optimizer.step()\n",
        "        scheduler.step()\n",
        "\n",
        "        total_loss += loss.item()\n",
        "        progress_bar.set_postfix({\"loss\": f\"{loss.item():.4f}\"})\n",
        "\n",
        "    return total_loss / len(dataloader)\n",
        "\n",
        "def evaluate(model, dataloader, device):\n",
        "    model.eval()\n",
        "    total_loss = 0\n",
        "    all_preds = []\n",
        "    all_labels = []\n",
        "\n",
        "    with torch.no_grad():\n",
        "        for batch in tqdm(dataloader, desc=\"Evaluating\"):\n",
        "            # Move batch to device\n",
        "            input_ids = batch['input_ids'].to(device)\n",
        "            attention_mask = batch['attention_mask'].to(device)\n",
        "            labels = batch['labels'].to(device)\n",
        "\n",
        "            # Forward pass\n",
        "            outputs = model(input_ids=input_ids, attention_mask=attention_mask, labels=labels)\n",
        "            loss = outputs.loss\n",
        "            logits = outputs.logits\n",
        "\n",
        "            total_loss += loss.item()\n",
        "\n",
        "            # Get predictions\n",
        "            preds = torch.argmax(logits, dim=1).cpu().numpy()\n",
        "            labs = labels.cpu().numpy()\n",
        "\n",
        "            all_preds.extend(preds)\n",
        "            all_labels.extend(labs)\n",
        "\n",
        "    # Calculate metrics\n",
        "    accuracy = accuracy_score(all_labels, all_preds)\n",
        "    precision, recall, f1, _ = precision_recall_fscore_support(all_labels, all_preds, average='binary')\n",
        "\n",
        "    return {\n",
        "        'loss': total_loss / len(dataloader),\n",
        "        'accuracy': accuracy,\n",
        "        'f1': f1,\n",
        "        'precision': precision,\n",
        "        'recall': recall,\n",
        "        'predictions': all_preds,\n",
        "        'labels': all_labels\n",
        "    }"
      ],
      "outputs": []
    },
    {
      "cell_type": "code",
      "execution_count": null,
      "metadata": {
        "id": "efnrup8fgHSH"
      },
      "source": [
        "# Training loop\n",
        "num_epochs = 3\n",
        "best_val_f1 = 0\n",
        "train_losses = []\n",
        "val_metrics = []\n",
        "\n",
        "# Skip training if Option A was successful\n",
        "if 'option_a_success' in locals() and option_a_success:\n",
        "    print(\"Skipping manual training loop since Option A (Trainer API) was successful.\")\n",
        "else:\n",
        "    print(\"Starting model training with manual training loop...\")\n",
        "    train_start = time.time()\n",
        "\n",
        "    for epoch in range(num_epochs):\n",
        "        print(f\"\\nEpoch {epoch+1}/{num_epochs}\")\n",
        "\n",
        "        # Train\n",
        "        train_loss = train_epoch(model, train_dataloader, optimizer, scheduler, device)\n",
        "        train_losses.append(train_loss)\n",
        "        print(f\"Train loss: {train_loss:.4f}\")\n",
        "\n",
        "        # Evaluate\n",
        "        val_results = evaluate(model, val_dataloader, device)\n",
        "        val_metrics.append(val_results)\n",
        "        print(f\"Validation loss: {val_results['loss']:.4f}\")\n",
        "        print(f\"Validation accuracy: {val_results['accuracy']:.4f}\")\n",
        "        print(f\"Validation F1: {val_results['f1']:.4f}\")\n",
        "\n",
        "        # Save best model\n",
        "        if val_results['f1'] > best_val_f1:\n",
        "            best_val_f1 = val_results['f1']\n",
        "            MODEL_OUTPUT_DIR = \"./models/distilbert_fakenewsnet_manual\"\n",
        "            os.makedirs(MODEL_OUTPUT_DIR, exist_ok=True)\n",
        "            torch.save(model.state_dict(), os.path.join(MODEL_OUTPUT_DIR, \"pytorch_model.bin\"))\n",
        "            tokenizer.save_pretrained(MODEL_OUTPUT_DIR)\n",
        "            print(f\"Saved new best model with F1: {best_val_f1:.4f}\")\n",
        "\n",
        "    train_end = time.time()\n",
        "    train_time = train_end - train_start\n",
        "    print(f\"Training completed in {train_time:.2f} seconds ({train_time/60:.2f} minutes)\")\n",
        "\n",
        "    # Load the best model\n",
        "    model.load_state_dict(torch.load(os.path.join(MODEL_OUTPUT_DIR, \"pytorch_model.bin\")))\n",
        "\n",
        "    # Evaluate on test set\n",
        "    print(\"\\nEvaluating model on test set...\")\n",
        "    test_results = evaluate(model, test_dataloader, device)\n",
        "    print(\"Test results:\")\n",
        "    for key, value in test_results.items():\n",
        "        if key not in ['predictions', 'labels']:\n",
        "            print(f\"{key}: {value:.4f}\")"
      ],
      "outputs": []
    },
    {
      "cell_type": "markdown",
      "metadata": {
        "id": "JmN2fcOlgHSH"
      },
      "source": [
        "## 7. Evaluation Results and Visualization"
      ]
    },
    {
      "cell_type": "code",
      "execution_count": null,
      "metadata": {
        "id": "YBTcP_kKgHSH"
      },
      "source": [
        "# Get test results and confusion matrix\n",
        "# Try to use results from Option A if available, otherwise use Option B results\n",
        "if 'option_a_success' in locals() and option_a_success and 'results' in locals():\n",
        "    # Option A results (from Trainer)\n",
        "    test_pred_output = trainer.predict(test_dataset)\n",
        "    test_preds = test_pred_output.predictions.argmax(-1)\n",
        "    test_labels = test_pred_output.label_ids\n",
        "    test_metrics = {}\n",
        "    for key, value in results.items():\n",
        "        if key.startswith('eval_'):\n",
        "            test_metrics[key.replace('eval_', '')] = value\n",
        "        else:\n",
        "            test_metrics[key] = value\n",
        "else:\n",
        "    # Option B results (from manual loop)\n",
        "    test_preds = test_results['predictions']\n",
        "    test_labels = test_results['labels']\n",
        "    test_metrics = {k: v for k, v in test_results.items() if k not in ['predictions', 'labels']}\n",
        "\n",
        "# Create confusion matrix\n",
        "cm = confusion_matrix(test_labels, test_preds)\n",
        "plt.figure(figsize=(8, 6))\n",
        "sns.heatmap(cm, annot=True, fmt='d', cmap='Blues', xticklabels=['Real', 'Fake'], yticklabels=['Real', 'Fake'])\n",
        "plt.xlabel('Predicted')\n",
        "plt.ylabel('True')\n",
        "plt.title('Confusion Matrix')\n",
        "plt.show()\n",
        "\n",
        "# Classification report\n",
        "print(\"Classification Report:\")\n",
        "print(classification_report(test_labels, test_preds, target_names=['Real', 'Fake']))"
      ],
      "outputs": []
    },
    {
      "cell_type": "markdown",
      "metadata": {
        "id": "WkAbmKR2gHSH"
      },
      "source": [
        "## 8. Memory Usage and Performance Analysis"
      ]
    },
    {
      "cell_type": "code",
      "execution_count": null,
      "metadata": {
        "id": "-FjBc_Y8gHSH"
      },
      "source": [
        "# Helper function to measure memory usage\n",
        "def get_memory_usage():\n",
        "    \"\"\"Get current memory usage in MB\"\"\"\n",
        "    process = psutil.Process(os.getpid())\n",
        "    mem_info = process.memory_info()\n",
        "    return mem_info.rss / (1024 * 1024)\n",
        "\n",
        "# Load model for inference\n",
        "# Choose the model path based on which training option succeeded\n",
        "if 'option_a_success' in locals() and option_a_success:\n",
        "    MODEL_PATH = \"./models/distilbert_fakenewsnet\"\n",
        "else:\n",
        "    MODEL_PATH = \"./models/distilbert_fakenewsnet_manual\"\n",
        "\n",
        "# Create pipeline for inference\n",
        "from transformers import pipeline\n",
        "model = AutoModelForSequenceClassification.from_pretrained(MODEL_PATH)\n",
        "tokenizer = AutoTokenizer.from_pretrained(MODEL_PATH)\n",
        "classifier = pipeline('text-classification', model=model, tokenizer=tokenizer, device=0 if torch.cuda.is_available() else -1)\n",
        "\n",
        "# Memory before\n",
        "mem_before = get_memory_usage()\n",
        "\n",
        "# Measure inference time on sample texts\n",
        "sample_texts = test_df['processed_text'].head(50).tolist()\n",
        "start_time = time.time()\n",
        "for text in sample_texts:\n",
        "    _ = classifier(text[:512])\n",
        "end_time = time.time()\n",
        "\n",
        "# Memory after\n",
        "mem_after = get_memory_usage()\n",
        "mem_used = mem_after - mem_before\n",
        "\n",
        "avg_inference_time = (end_time - start_time) / len(sample_texts)\n",
        "\n",
        "print(f\"Average inference time: {avg_inference_time:.4f} seconds per sample\")\n",
        "print(f\"Memory usage during inference: {mem_used:.2f} MB\")\n",
        "\n",
        "# Add these to a metrics dictionary\n",
        "model_metrics = {\n",
        "    \"model_name\": \"DistilBERT\",\n",
        "    \"accuracy\": test_metrics.get('accuracy'),\n",
        "    \"f1_score\": test_metrics.get('f1'),\n",
        "    \"precision\": test_metrics.get('precision'),\n",
        "    \"recall\": test_metrics.get('recall'),\n",
        "    \"avg_processing_time\": avg_inference_time,\n",
        "    \"avg_memory_usage\": mem_used,\n",
        "    \"parameter_count\": sum(p.numel() for p in model.parameters())\n",
        "}\n",
        "\n",
        "# Save metrics\n",
        "METRICS_OUTPUT_PATH = \"./models/distilbert_fakenewsnet_metrics.json\"\n",
        "with open(METRICS_OUTPUT_PATH, 'w') as f:\n",
        "    json.dump(model_metrics, f, indent=4)\n",
        "print(f\"Model metrics saved to {METRICS_OUTPUT_PATH}\")"
      ],
      "outputs": []
    },
    {
      "cell_type": "markdown",
      "metadata": {
        "id": "4rH826OggHSH"
      },
      "source": [
        "## 9. Test the Model with Examples"
      ]
    },
    {
      "cell_type": "code",
      "execution_count": null,
      "metadata": {
        "id": "h2jFflfdgHSH"
      },
      "source": [
        "# Test the model with a few examples\n",
        "examples = [\n",
        "    \"Scientists discover breakthrough treatment for cancer that pharmaceutical companies don't want you to know about.\",\n",
        "    \"According to a study published in the Journal of Medicine, regular exercise may reduce the risk of heart disease.\",\n",
        "    \"Secret government documents reveal aliens have been living among us for decades.\",\n",
        "    \"The Supreme Court announced its decision on the case yesterday, with a 6-3 majority opinion.\"\n",
        "]\n",
        "\n",
        "for example in examples:\n",
        "    result = classifier(example)\n",
        "    label = result[0]['label']\n",
        "    score = result[0]['score']\n",
        "\n",
        "    # Convert label index to text\n",
        "    label_text = \"Fake\" if \"LABEL_1\" in label else \"Real\"\n",
        "\n",
        "    print(f\"Text: {example}\")\n",
        "    print(f\"Prediction: {label_text} (confidence: {score:.4f})\")\n",
        "    print(\"---\")"
      ],
      "outputs": []
    },
    {
      "cell_type": "markdown",
      "metadata": {
        "id": "Q5ua86ubgHSI"
      },
      "source": [
        "## 10. Code for Django Integration"
      ]
    },
    {
      "cell_type": "code",
      "execution_count": null,
      "metadata": {
        "id": "1Lp4Hcr5gHSI"
      },
      "source": [
        "# Code to integrate with Django (for services.py)\n",
        "def analyze_with_distilbert(text, model_dir=\"./models/distilbert_fakenewsnet\"):\n",
        "    \"\"\"\n",
        "    Analyze text using the trained DistilBERT model.\n",
        "\n",
        "    Args:\n",
        "        text: Text to analyze\n",
        "        model_dir: Path to the saved model directory\n",
        "\n",
        "    Returns:\n",
        "        dict: Detection results\n",
        "    \"\"\"\n",
        "    # Import the required libraries (inside the function to avoid loading at startup)\n",
        "    import time\n",
        "    import torch\n",
        "    from transformers import AutoTokenizer, AutoModelForSequenceClassification, pipeline\n",
        "\n",
        "    # Load tokenizer and model\n",
        "    tokenizer = AutoTokenizer.from_pretrained(model_dir)\n",
        "    model = AutoModelForSequenceClassification.from_pretrained(model_dir)\n",
        "\n",
        "    # Determine device (CPU or GPU)\n",
        "    device = 0 if torch.cuda.is_available() else -1\n",
        "\n",
        "    # Create pipeline\n",
        "    classifier = pipeline('text-classification', model=model, tokenizer=tokenizer, device=device)\n",
        "\n",
        "    # Measure performance\n",
        "    start_time = time.time()\n",
        "    result = classifier(text[:512])[0]\n",
        "    processing_time = time.time() - start_time\n",
        "\n",
        "    # Map the result\n",
        "    label = result['label']\n",
        "    score = result['score']\n",
        "\n",
        "    # In this model, LABEL_0 = real, LABEL_1 = fake\n",
        "    if \"LABEL_0\" in label:\n",
        "        credibility_score = score\n",
        "        category = \"credible\" if score > 0.7 else \"mixed\"\n",
        "    else:\n",
        "        credibility_score = 1 - score\n",
        "        category = \"fake\" if score > 0.7 else \"mixed\"\n",
        "\n",
        "    return {\n",
        "        \"credibility_score\": credibility_score,\n",
        "        \"category\": category,\n",
        "        \"confidence\": score,\n",
        "        \"model_name\": \"DistilBERT\",\n",
        "        \"processing_time\": processing_time\n",
        "    }"
      ],
      "outputs": []
    },
    {
      "cell_type": "markdown",
      "metadata": {
        "id": "dmgdEKrpgHSI"
      },
      "source": [
        "## 11. Integrating with Django\n",
        "\n",
        "To integrate this model with your Django application:\n",
        "\n",
        "1. Copy the trained model files to a directory accessible by your Django app\n",
        "2. Add the `analyze_with_distilbert` function to your `services.py` file\n",
        "3. Update your Django view to call this function:\n",
        "\n",
        "```python\n",
        "# In views.py\n",
        "from .services import analyze_with_distilbert\n",
        "\n",
        "def analyze_text_view(request):\n",
        "    \"\"\"View for analyzing custom text with the model.\"\"\"\n",
        "    results = None\n",
        "\n",
        "    if request.method == 'POST':\n",
        "        text = request.POST.get('text', '')\n",
        "\n",
        "        if text:\n",
        "            # Path to your model directory\n",
        "            model_dir = \"path/to/your/models/distilbert_fakenewsnet\"\n",
        "            \n",
        "            # Analyze the text\n",
        "            results = analyze_with_distilbert(text, model_dir)\n",
        "\n",
        "    return render(request, 'news/analyze_text.html', {'results': results})\n",
        "```\n",
        "\n",
        "4. Update your template to display the results\n",
        "\n",
        "For production use, consider these optimizations:\n",
        "- Load the model once at startup rather than for every request\n",
        "- Use a worker process or Celery for asynchronous processing\n",
        "- Consider a smaller model for faster inference if needed"
      ]
    }
  ],
  "metadata": {
    "kernelspec": {
      "display_name": "Python 3",
      "language": "python",
      "name": "python3"
    },
    "language_info": {
      "codemirror_mode": {
        "name": "ipython",
        "version": 3
      },
      "file_extension": ".py",
      "mimetype": "text/x-python",
      "name": "python",
      "nbconvert_exporter": "python",
      "pygments_lexer": "ipython3",
      "version": "3.10.12"
    },
    "colab": {
      "provenance": [],
      "include_colab_link": true
    }
  },
  "nbformat": 4,
  "nbformat_minor": 0
}